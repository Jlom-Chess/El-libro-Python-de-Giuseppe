{
 "cells": [
  {
   "cell_type": "markdown",
   "id": "ce4ade80-d1b2-40be-bec3-bb73ff98d2f5",
   "metadata": {
    "tags": []
   },
   "source": [
    "# **Strings**"
   ]
  },
  {
   "cell_type": "markdown",
   "id": "efe732e9-510f-44ee-80bf-e9c85a3716ba",
   "metadata": {},
   "source": [
    "## **Entendiendo las cadenas en Python**"
   ]
  },
  {
   "cell_type": "code",
   "execution_count": 1,
   "id": "b29ac4e6-08b3-4f02-ac52-b6d9c6f4f9dc",
   "metadata": {
    "tags": []
   },
   "outputs": [
    {
     "name": "stdout",
     "output_type": "stream",
     "text": [
      "Esta es una cadena muy larga que usa\n",
      "dos lineas para ser escrita\n"
     ]
    }
   ],
   "source": [
    "m = \"\"\"Esta es una cadena muy larga que usa\n",
    "dos lineas para ser escrita\"\"\"\n",
    "print(m)"
   ]
  },
  {
   "cell_type": "markdown",
   "id": "8a66eb7b-2e70-47a9-9b24-725af40b6497",
   "metadata": {
    "tags": []
   },
   "source": [
    "### Concatenación y repetición"
   ]
  },
  {
   "cell_type": "code",
   "execution_count": 2,
   "id": "d2681c96-64b1-4316-aae7-2e3161a35c44",
   "metadata": {
    "tags": []
   },
   "outputs": [
    {
     "name": "stdout",
     "output_type": "stream",
     "text": [
      "Hola Mundo\n",
      "Hola Mundo\n"
     ]
    }
   ],
   "source": [
    "x = \"Hola\"\n",
    "y = \"Mundo\"\n",
    "print(x,y)\n",
    "print(x + \" \" + y)"
   ]
  },
  {
   "cell_type": "code",
   "execution_count": 6,
   "id": "cc889ca9-674f-4fc6-a7a3-adf059d6496f",
   "metadata": {
    "tags": []
   },
   "outputs": [
    {
     "name": "stdout",
     "output_type": "stream",
     "text": [
      "2---4---6---8---10\n"
     ]
    }
   ],
   "source": [
    "x = 2\n",
    "print(x, 2*x, 3*x, 4*x, 5*x, sep=\"---\")"
   ]
  },
  {
   "cell_type": "code",
   "execution_count": 3,
   "id": "745c1ce5-5e17-4fec-a766-8135505dd6db",
   "metadata": {
    "tags": []
   },
   "outputs": [
    {
     "name": "stdout",
     "output_type": "stream",
     "text": [
      "Hola Hola Hola Hola \n"
     ]
    }
   ],
   "source": [
    "x = \"Hola \"*4\n",
    "print(x)"
   ]
  },
  {
   "cell_type": "code",
   "execution_count": 8,
   "id": "bcb765cf-1062-4ebe-a472-f07feec158ca",
   "metadata": {},
   "outputs": [
    {
     "name": "stdout",
     "output_type": "stream",
     "text": [
      "---------------------------------------------------------------------------\n"
     ]
    }
   ],
   "source": [
    "print(\"-\"*75)"
   ]
  },
  {
   "cell_type": "markdown",
   "id": "bb8ff65e-3478-4265-a283-929196920a71",
   "metadata": {},
   "source": [
    "Se pueden seleccionar caracteres individuales de una cadena. Siempre el primer caracter está en la posición 0"
   ]
  },
  {
   "cell_type": "code",
   "execution_count": 9,
   "id": "7abb3d7f-282c-4699-b9c8-ea83a644d22d",
   "metadata": {},
   "outputs": [
    {
     "name": "stdout",
     "output_type": "stream",
     "text": [
      "0--1--2--3--4--5--6--7--8--9\n",
      "H--o--l--a-- --t--o--d--o--s\n"
     ]
    }
   ],
   "source": [
    "x = \"Hola todos\"\n",
    "print(0, end = \"--\")\n",
    "print(1, end = \"--\")\n",
    "print(2, end = \"--\")\n",
    "print(3, end = \"--\")\n",
    "print(4, end = \"--\")\n",
    "print(5, end = \"--\")\n",
    "print(6, end = \"--\")\n",
    "print(7, end = \"--\")\n",
    "print(8, end = \"--\")\n",
    "print(9)\n",
    "print(x[0], end = \"--\")\n",
    "print(x[1], end = \"--\")\n",
    "print(x[2], end = \"--\")\n",
    "print(x[3], end = \"--\")\n",
    "print(x[4], end = \"--\")\n",
    "print(x[5], end = \"--\")\n",
    "print(x[6], end = \"--\")\n",
    "print(x[7], end = \"--\")\n",
    "print(x[8], end = \"--\")\n",
    "print(x[9])"
   ]
  },
  {
   "cell_type": "code",
   "execution_count": null,
   "id": "8f87fe47-f511-42a6-a966-84f9f1746f7e",
   "metadata": {},
   "outputs": [],
   "source": [
    "print(len(x))"
   ]
  },
  {
   "cell_type": "markdown",
   "id": "5942d801-04be-47a2-91b9-3b5d68212734",
   "metadata": {},
   "source": [
    "## **Slices**\n",
    "Se usa para tomar una parte del string\n",
    "string name[starting location : ending location,[step]]\n",
    "La localización final no se incluye"
   ]
  },
  {
   "cell_type": "code",
   "execution_count": 7,
   "id": "4d1f247a-a4e0-441f-9115-6556e4c0deb4",
   "metadata": {},
   "outputs": [
    {
     "name": "stdout",
     "output_type": "stream",
     "text": [
      "__0___1___2___3___4___5___6___7___8___9\n",
      "__H___o___l___a___ ___t___o___d___o___s\n",
      "-10__-9__-8__-7__-6__-5__-4__-3__-2__-1\n"
     ]
    }
   ],
   "source": [
    "x = \"Hola todos\"\n",
    "print(end=\"__\")\n",
    "print(0, end = \"___\")\n",
    "print(1, end = \"___\")\n",
    "print(2, end = \"___\")\n",
    "print(3, end = \"___\")\n",
    "print(4, end = \"___\")\n",
    "print(5, end = \"___\")\n",
    "print(6, end = \"___\")\n",
    "print(7, end = \"___\")\n",
    "print(8, end = \"___\")\n",
    "print(9)\n",
    "\n",
    "print(end=\"__\")\n",
    "print(x[0], end = \"___\")\n",
    "print(x[1], end = \"___\")\n",
    "print(x[2], end = \"___\")\n",
    "print(x[3], end = \"___\")\n",
    "print(x[4], end = \"___\")\n",
    "print(x[5], end = \"___\")\n",
    "print(x[6], end = \"___\")\n",
    "print(x[7], end = \"___\")\n",
    "print(x[8], end = \"___\")\n",
    "print(x[9])\n",
    "\n",
    "print(-10, end = \"__\")\n",
    "print(-9, end = \"__\")\n",
    "print(-8, end = \"__\")\n",
    "print(-7, end = \"__\")\n",
    "print(-6, end = \"__\")\n",
    "print(-5, end = \"__\")\n",
    "print(-4, end = \"__\")\n",
    "print(-3, end = \"__\")\n",
    "print(-2, end = \"__\")\n",
    "print(-1)"
   ]
  },
  {
   "cell_type": "code",
   "execution_count": 8,
   "id": "76069b0f-e9dd-475e-bb86-9970b767dc9a",
   "metadata": {
    "tags": []
   },
   "outputs": [
    {
     "name": "stdout",
     "output_type": "stream",
     "text": [
      "la t\n"
     ]
    }
   ],
   "source": [
    "print(x[2:6])"
   ]
  },
  {
   "cell_type": "code",
   "execution_count": 6,
   "id": "e751885a-b3f4-4ca4-9dcc-df247567ea6e",
   "metadata": {},
   "outputs": [
    {
     "name": "stdout",
     "output_type": "stream",
     "text": [
      "la Hol\n"
     ]
    }
   ],
   "source": [
    "print(x[-8:-2])"
   ]
  },
  {
   "cell_type": "code",
   "execution_count": 9,
   "id": "61105a34-b3b4-402d-9222-a3586befe05d",
   "metadata": {
    "tags": []
   },
   "outputs": [
    {
     "name": "stdout",
     "output_type": "stream",
     "text": [
      "todos\n"
     ]
    }
   ],
   "source": [
    "print(x[-5:])"
   ]
  },
  {
   "cell_type": "code",
   "execution_count": 10,
   "id": "02090f0b-aab9-4a9a-ac05-86d15b2929cb",
   "metadata": {},
   "outputs": [
    {
     "name": "stdout",
     "output_type": "stream",
     "text": [
      "Hola t\n"
     ]
    }
   ],
   "source": [
    "print(x[:-4])"
   ]
  },
  {
   "cell_type": "code",
   "execution_count": 11,
   "id": "92039a47-5ebc-4fce-81f6-9a4a2bad7bec",
   "metadata": {},
   "outputs": [
    {
     "name": "stdout",
     "output_type": "stream",
     "text": [
      "Hola todos\n"
     ]
    }
   ],
   "source": [
    "print(x[-10:])"
   ]
  },
  {
   "cell_type": "code",
   "execution_count": 12,
   "id": "6f7bfffd-73f2-46ff-b4a9-b2c4893da0cc",
   "metadata": {},
   "outputs": [
    {
     "name": "stdout",
     "output_type": "stream",
     "text": [
      "oatd\n"
     ]
    }
   ],
   "source": [
    "print(x[1:8:2])"
   ]
  },
  {
   "cell_type": "code",
   "execution_count": null,
   "id": "bfc92659-1a3a-4f59-82b4-76663d3dc6d1",
   "metadata": {
    "colab": {
     "base_uri": "https://localhost:8080/"
    },
    "executionInfo": {
     "elapsed": 273,
     "status": "ok",
     "timestamp": 1631290573082,
     "user": {
      "displayName": "Jose Luis Ojeda",
      "photoUrl": "https://lh3.googleusercontent.com/a-/AOh14GioxvwskRaM2HjJwQ_L936mkRS1wMOHPWrqOWUffw=s64",
      "userId": "12240071782040482724"
     },
     "user_tz": 300
    },
    "id": "aqaF6QyOfWR2",
    "outputId": "a115aff7-e402-4e0f-d680-4f60b0b00321"
   },
   "outputs": [
    {
     "name": "stdout",
     "output_type": "stream",
     "text": [
      "sodot aloH\n"
     ]
    }
   ],
   "source": [
    "# Cuando no se señala inicio ni fin y el paso es negativo, se obtiene el String\n",
    "# al revés\n",
    "x = \"Hola todos\"\n",
    "y = x[::-1]\n",
    "print(y)"
   ]
  },
  {
   "cell_type": "code",
   "execution_count": null,
   "id": "a34291be-a33b-42e9-b674-e88c0b9d78ba",
   "metadata": {
    "colab": {
     "base_uri": "https://localhost:8080/"
    },
    "executionInfo": {
     "elapsed": 374,
     "status": "ok",
     "timestamp": 1631290611688,
     "user": {
      "displayName": "Jose Luis Ojeda",
      "photoUrl": "https://lh3.googleusercontent.com/a-/AOh14GioxvwskRaM2HjJwQ_L936mkRS1wMOHPWrqOWUffw=s64",
      "userId": "12240071782040482724"
     },
     "user_tz": 300
    },
    "id": "pldNqC3Ifz3r",
    "outputId": "1b89292b-69d8-41e6-e8b5-87bd56ed5663",
    "tags": []
   },
   "outputs": [
    {
     "name": "stdout",
     "output_type": "stream",
     "text": [
      "sodo\n"
     ]
    }
   ],
   "source": [
    "print(x[:5:-1])"
   ]
  },
  {
   "cell_type": "markdown",
   "id": "b4b030a9-3a4d-4b51-bd17-4ce6263a3703",
   "metadata": {},
   "source": [
    "#### Las cadenas son inmutables"
   ]
  },
  {
   "cell_type": "code",
   "execution_count": null,
   "id": "34447f94-ea84-4e87-b73e-300621057ad6",
   "metadata": {},
   "outputs": [],
   "source": [
    "# Esto no se puede hacer\n",
    "msg =\"Hola Mundo\"\n",
    "msg[0] = \"J\""
   ]
  },
  {
   "cell_type": "code",
   "execution_count": null,
   "id": "9090c147-9acd-42e2-9adb-5295bf1e1bf3",
   "metadata": {},
   "outputs": [],
   "source": [
    "# Esto es correcto\n",
    "msg1 = \"J\" + msg[1:] # Se tiene que crear otra cadena\n",
    "print(msg1)"
   ]
  },
  {
   "cell_type": "markdown",
   "id": "8f9e6620-0904-4ade-9cdd-646619a79135",
   "metadata": {},
   "source": [
    "### Comparación de cadenas"
   ]
  },
  {
   "cell_type": "code",
   "execution_count": 11,
   "id": "9788c13d-6327-4967-87e1-5b2b50fe9fd2",
   "metadata": {},
   "outputs": [
    {
     "data": {
      "text/plain": [
       "False"
      ]
     },
     "execution_count": 11,
     "metadata": {},
     "output_type": "execute_result"
    }
   ],
   "source": [
    "s = \"Hola\"\n",
    "t = \"hola\"\n",
    "s == t"
   ]
  },
  {
   "cell_type": "code",
   "execution_count": 12,
   "id": "7f48c267-674e-4c67-82d4-2644f7a22eb2",
   "metadata": {},
   "outputs": [
    {
     "data": {
      "text/plain": [
       "True"
      ]
     },
     "execution_count": 12,
     "metadata": {},
     "output_type": "execute_result"
    }
   ],
   "source": [
    "s<t"
   ]
  },
  {
   "cell_type": "code",
   "execution_count": null,
   "id": "fcf160fc-e843-4c0d-9b5b-8e2d6ffa0545",
   "metadata": {},
   "outputs": [],
   "source": [
    "print(ord(\"h\"))\n",
    "print(ord(\"H\"))"
   ]
  },
  {
   "cell_type": "markdown",
   "id": "5feb8e59-3efe-4fd7-aade-e757ece29853",
   "metadata": {},
   "source": [
    "### Formateo de cadenas usando el método format()"
   ]
  },
  {
   "cell_type": "markdown",
   "id": "5fc0c21a-302d-4cab-9912-a8cd1db0e401",
   "metadata": {},
   "source": [
    "La sintaxis es:\n",
    "#### \"cadena a formatear\".format(valores o variables que se insertarán en una cadena, separados por comas) \n",
    "Cuando usamos el método format(), no usamos %s, %f o %d como marcadores de posición. En su lugar usamos llaves {}"
   ]
  },
  {
   "cell_type": "code",
   "execution_count": null,
   "id": "ccd9e0a9-7ff8-456d-b960-6f02807860f4",
   "metadata": {},
   "outputs": [],
   "source": [
    "mensaje =\"El precio de esta laptop {0:s} es de {1:d} USD y el tipo de cambio\\\n",
    " es {2:4.2f} USD  por 1 EUR\".format(marca, 1299, tipoCambio)\n",
    "print(mensaje)"
   ]
  },
  {
   "cell_type": "markdown",
   "id": "574c4ed8-f38e-49fd-b58b-1921e989723a",
   "metadata": {},
   "source": [
    "#### Explicación\n",
    "Dentro de las llaves, primero escribimos la posición del argumento a usar, seguida de dos puntos. Después de los dos puntos, escribimos el formateador. No debe haber espacios dentro de las llaves.\n",
    "Cuando escribimos format (marca, 1299, tipoCambio), estamos pasando tres argumentos al método format (). Los argumentos son datos que el método necesita para realizar su tarea. Los argumentos son marca, 1299 y tipoCambio.\n",
    "\n",
    "El argumento marca tiene una posición de 0, 1299 tiene una posición de 1 y tipoCambio tiene una posición de 2. Las posiciones siempre comienzan desde CERO.\n",
    "\n",
    "Cuando escribimos {0: s}, le pedimos al intérprete que reemplace {0: s} con el argumento en la posición 0 y que es una cadena (porque el formateador es s).\n",
    "Cuando escribimos {1: d}, nos referimos al argumento en la posición 1, que es un número entero (el formateador es d).\n",
    "Cuando escribimos {2: 4.2f}, nos referimos al argumento en la posición 2, que es un flotante y queremos que esté formateado con 2 lugares decimales y una longitud total de 4 (el formateador es 4.2f)."
   ]
  },
  {
   "cell_type": "code",
   "execution_count": null,
   "id": "06c487c5-1fb5-4b57-8281-24ab63b2fdd3",
   "metadata": {},
   "outputs": [],
   "source": [
    "# Si no sequiere formateaar el string, se puede escribir asi\n",
    "mensaje =\"El precio de esta laptop {} es de {} USD y el tipo de cambio\\\n",
    " es {} USD  por 1 EUR\".format(marca, 1299, tipoCambio)\n",
    "# al no poner un número entre las llaves, se tomarán en el orden\n",
    "# en que aparecen\n",
    "print(mensaje)"
   ]
  },
  {
   "cell_type": "code",
   "execution_count": null,
   "id": "e7b18c10-a114-40d0-b267-386b8d13fc1b",
   "metadata": {},
   "outputs": [],
   "source": [
    "# lo siguiente tambies es válido\n",
    "mensaje =\"El precio de esta laptop {2} es de {0} USD y el tipo de cambio\\\n",
    " es {1} USD  por 1 EUR\".format(1299, tipoCambio, marca)\n",
    "print(mensaje)"
   ]
  },
  {
   "cell_type": "code",
   "execution_count": null,
   "id": "97b36946-3366-4867-b062-bc17591af386",
   "metadata": {},
   "outputs": [],
   "source": [
    "mensaje1 = '{0} es más fácil que {1}'.format('Python', 'Java') \n",
    "mensaje2 = '{1} es más fácil que {0}'.format('Python', 'Java') \n",
    "mensaje3 = '{:10.2f} and {:d}'.format(1.234234234, 12) \n",
    "mensaje4 = '{}'.format(1.234234234)\n",
    "print(mensaje1)\n",
    "print(mensaje2)\n",
    "print(mensaje3)\n",
    "print(mensaje4)"
   ]
  },
  {
   "cell_type": "code",
   "execution_count": null,
   "id": "ed6fc8b9-8c2b-4a91-bd81-60ce7e8c86f9",
   "metadata": {
    "colab": {
     "base_uri": "https://localhost:8080/"
    },
    "executionInfo": {
     "elapsed": 7,
     "status": "ok",
     "timestamp": 1631290855295,
     "user": {
      "displayName": "Jose Luis Ojeda",
      "photoUrl": "https://lh3.googleusercontent.com/a-/AOh14GioxvwskRaM2HjJwQ_L936mkRS1wMOHPWrqOWUffw=s64",
      "userId": "12240071782040482724"
     },
     "user_tz": 300
    },
    "id": "4eRPsQLUgV4Q",
    "outputId": "7acb7551-0c7b-4152-8beb-611930e49f86"
   },
   "outputs": [
    {
     "name": "stdout",
     "output_type": "stream",
     "text": [
      "Los números son 5 y 10\n"
     ]
    }
   ],
   "source": [
    "# Algunas formas adicionales de formatear Strings:\n",
    "s = \"Los números son {a} y {b}\".format(a=5, b=10)\n",
    "print(s)"
   ]
  },
  {
   "cell_type": "markdown",
   "id": "5fd873d1-f565-424a-9be9-8d02487b5f9c",
   "metadata": {},
   "source": [
    "### **f-strings**\n",
    "A partir de la versión 3.6 se introdujeron las f-strings o literals strings, para mejorar la legibilidad del código"
   ]
  },
  {
   "cell_type": "code",
   "execution_count": 13,
   "id": "d0b6be13-dbc9-4ec8-bf09-33ad57ab0b57",
   "metadata": {},
   "outputs": [
    {
     "name": "stdout",
     "output_type": "stream",
     "text": [
      "El nuevo curso de Python en la UPC está increíble\n"
     ]
    }
   ],
   "source": [
    "curso = 'Python'\n",
    "institucion = 'UPC'\n",
    "print(f\"El nuevo curso de {curso} en la {institucion} está increíble\")"
   ]
  },
  {
   "cell_type": "markdown",
   "id": "9a830b40-81fd-4cd8-8aac-2db127e1af5b",
   "metadata": {
    "id": "YVpbXJMtvunI"
   },
   "source": [
    "### ***Formato de datos de puntos flotante***"
   ]
  },
  {
   "cell_type": "markdown",
   "id": "5532374a-e5c4-47b1-be31-1c1f98b61934",
   "metadata": {
    "id": "mJ8nR_AiHrtO"
   },
   "source": [
    "Suponga que estamos escribiendo un programa que calcula una propina del 25% en una factura de S/. 23.60. Cuando multiplicamos, obtenemos 5.9, pero nos gustaría mostrar el resultado como S/. 5.90, no S/. 5.9. Una solución sería:"
   ]
  },
  {
   "cell_type": "code",
   "execution_count": 14,
   "id": "310cca74-3722-42be-913e-7223d1410d83",
   "metadata": {
    "colab": {
     "base_uri": "https://localhost:8080/"
    },
    "executionInfo": {
     "elapsed": 323,
     "status": "ok",
     "timestamp": 1631294991045,
     "user": {
      "displayName": "Jose Luis Ojeda",
      "photoUrl": "https://lh3.googleusercontent.com/a-/AOh14GioxvwskRaM2HjJwQ_L936mkRS1wMOHPWrqOWUffw=s64",
      "userId": "12240071782040482724"
     },
     "user_tz": 300
    },
    "id": "OVeGHDIgvQNk",
    "outputId": "d1f41856-7feb-4fed-e02a-1b337684d252"
   },
   "outputs": [
    {
     "name": "stdout",
     "output_type": "stream",
     "text": [
      "la propina es 5.90\n"
     ]
    }
   ],
   "source": [
    "a = 23.60 * 0.25 \n",
    "print(f'la propina es {a:.2f}')"
   ]
  },
  {
   "cell_type": "markdown",
   "id": "7cb61043-51d5-4730-ad80-08fc8c8325f5",
   "metadata": {
    "id": "zUPBECOowli7"
   },
   "source": [
    "### **El significado de {variable:n.m2f}**\n",
    "\n",
    "*   n significa que ocupará n espacios, incluyendo el punto decimal, es opcional\n",
    "*   m significa que imprimirá m decimales\n",
    "*   f indica que es punto flotante"
   ]
  },
  {
   "cell_type": "code",
   "execution_count": 15,
   "id": "78925ceb-309b-4f28-87bf-5f516e9e12a6",
   "metadata": {
    "colab": {
     "base_uri": "https://localhost:8080/"
    },
    "executionInfo": {
     "elapsed": 278,
     "status": "ok",
     "timestamp": 1631295598858,
     "user": {
      "displayName": "Jose Luis Ojeda",
      "photoUrl": "https://lh3.googleusercontent.com/a-/AOh14GioxvwskRaM2HjJwQ_L936mkRS1wMOHPWrqOWUffw=s64",
      "userId": "12240071782040482724"
     },
     "user_tz": 300
    },
    "id": "XoJ5-yN4xKO1",
    "outputId": "061ae54d-31f1-41bf-f770-96a2c1489b97"
   },
   "outputs": [
    {
     "name": "stdout",
     "output_type": "stream",
     "text": [
      "Propina: S/.5.90, Total: S/.29.50\n"
     ]
    }
   ],
   "source": [
    "# Otro ejemplo\n",
    "cuenta = 23.60 \n",
    "propina = 23.60 * .25 \n",
    "print(f'Propina: S/.{propina:.2f}, Total: S/.{cuenta+propina:.2f}')"
   ]
  },
  {
   "cell_type": "markdown",
   "id": "3ad6f918-245b-470e-855e-d6aafd70d0ca",
   "metadata": {
    "id": "R_LkY7k-xuFg"
   },
   "source": [
    "En el ejemplo anterior se observa que se pueden poner operaciones"
   ]
  },
  {
   "cell_type": "code",
   "execution_count": null,
   "id": "4e935575-01a7-420b-ba0b-b923e9b1139a",
   "metadata": {
    "colab": {
     "base_uri": "https://localhost:8080/"
    },
    "executionInfo": {
     "elapsed": 289,
     "status": "ok",
     "timestamp": 1631296356018,
     "user": {
      "displayName": "Jose Luis Ojeda",
      "photoUrl": "https://lh3.googleusercontent.com/a-/AOh14GioxvwskRaM2HjJwQ_L936mkRS1wMOHPWrqOWUffw=s64",
      "userId": "12240071782040482724"
     },
     "user_tz": 300
    },
    "id": "OvvUIab61fB0",
    "outputId": "46770788-ed3d-4f85-a54a-542b66c85f4d"
   },
   "outputs": [
    {
     "name": "stdout",
     "output_type": "stream",
     "text": [
      "Propina: S/.5.90, Total: S/. 29.50\n"
     ]
    }
   ],
   "source": [
    "# Usando además número de caracteres en los valores numéricos\n",
    "cuenta = 23.60 \n",
    "propina = 23.60 * .25 \n",
    "print(f'Propina: S/.{propina:4.2f}, Total: S/.{cuenta+propina:6.2f}') \n",
    "# Aquí 4.2f significa que se ocupara 4 espacios, dos de ellos con los decimales\n",
    "# 6.2f significa 6 espacios, con dos decimales, como 29.50 solo ocupa\n",
    "# 5 lugares, queda 1 espacio a la izquierda, lo que se nota en el resultado"
   ]
  },
  {
   "cell_type": "markdown",
   "id": "0f5c93aa-7725-4289-9c44-6608cbed0f80",
   "metadata": {
    "id": "DS_7rOwSACXm"
   },
   "source": [
    "### ***Formato de datos Enteros***"
   ]
  },
  {
   "cell_type": "markdown",
   "id": "537b76be-3f60-4e6c-bdad-0f83293cab30",
   "metadata": {
    "id": "CZUsB7FZx8J5"
   },
   "source": [
    "Para formatear enteros, el código de formato es {variable:nd}. \n",
    "Poner un número \"n\" delante de la “d” nos permite justificar enteros a la derecha. Aquí hay un ejemplo"
   ]
  },
  {
   "cell_type": "code",
   "execution_count": null,
   "id": "e77c313a-8be0-417f-b48e-b650e82dbe31",
   "metadata": {
    "colab": {
     "base_uri": "https://localhost:8080/"
    },
    "executionInfo": {
     "elapsed": 291,
     "status": "ok",
     "timestamp": 1631296938743,
     "user": {
      "displayName": "Jose Luis Ojeda",
      "photoUrl": "https://lh3.googleusercontent.com/a-/AOh14GioxvwskRaM2HjJwQ_L936mkRS1wMOHPWrqOWUffw=s64",
      "userId": "12240071782040482724"
     },
     "user_tz": 300
    },
    "id": "BFx7C1162-42",
    "outputId": "37e8fe90-58af-4618-dbda-29404795d81b"
   },
   "outputs": [
    {
     "name": "stdout",
     "output_type": "stream",
     "text": [
      "  2\n",
      " 25\n",
      "138\n"
     ]
    }
   ],
   "source": [
    "print(f'{2:3d}')\n",
    "print(f'{25:3d}')\n",
    "print(f'{138:3d}')"
   ]
  },
  {
   "cell_type": "markdown",
   "id": "15000c70-ce6b-4104-a282-1aef0500acc2",
   "metadata": {
    "id": "WDy8r4xV4RLZ"
   },
   "source": [
    "El número 3 en estos ejemplos dice que al valor se le asignan tres lugares. El valor se coloca como más a la derecha en esos tres lugares como sea posible y el resto de los espacios se llenarán con espacios. \n",
    "\n",
    "El símbolo \"^\" es el que indica centrado"
   ]
  },
  {
   "cell_type": "code",
   "execution_count": null,
   "id": "98f794ae-7fa7-4f7a-a9bc-8f91e856b252",
   "metadata": {
    "colab": {
     "base_uri": "https://localhost:8080/"
    },
    "executionInfo": {
     "elapsed": 270,
     "status": "ok",
     "timestamp": 1631297110855,
     "user": {
      "displayName": "Jose Luis Ojeda",
      "photoUrl": "https://lh3.googleusercontent.com/a-/AOh14GioxvwskRaM2HjJwQ_L936mkRS1wMOHPWrqOWUffw=s64",
      "userId": "12240071782040482724"
     },
     "user_tz": 300
    },
    "id": "ybSq_Tn14Sj7",
    "outputId": "64d3252e-7538-495a-f555-c8f1a2f871e1"
   },
   "outputs": [
    {
     "name": "stdout",
     "output_type": "stream",
     "text": [
      "  2  \n",
      " 222 \n",
      "13834\n"
     ]
    }
   ],
   "source": [
    "# Centrando enteros\n",
    "print('{:^5d}'.format(2)) \n",
    "print('{:^5d}'.format(222)) \n",
    "print('{:^5d}'.format(13834))"
   ]
  },
  {
   "cell_type": "code",
   "execution_count": null,
   "id": "311f2de3-758d-4f92-9185-0a1c903a3610",
   "metadata": {
    "colab": {
     "base_uri": "https://localhost:8080/"
    },
    "executionInfo": {
     "elapsed": 268,
     "status": "ok",
     "timestamp": 1631297209412,
     "user": {
      "displayName": "Jose Luis Ojeda",
      "photoUrl": "https://lh3.googleusercontent.com/a-/AOh14GioxvwskRaM2HjJwQ_L936mkRS1wMOHPWrqOWUffw=s64",
      "userId": "12240071782040482724"
     },
     "user_tz": 300
    },
    "id": "3BsJJyIg4pUd",
    "outputId": "e8479841-a4ed-4d7c-d5d4-6364e5aa055a"
   },
   "outputs": [
    {
     "name": "stdout",
     "output_type": "stream",
     "text": [
      "  2  \n",
      " 222 \n",
      "13834\n"
     ]
    }
   ],
   "source": [
    "print(f'{2:^5d}') \n",
    "print(f'{222:^5d}') \n",
    "print(f'{13834:^5d}')"
   ]
  },
  {
   "cell_type": "code",
   "execution_count": 18,
   "id": "f8013ffb-60c7-4db8-b638-7a90d2888281",
   "metadata": {},
   "outputs": [
    {
     "name": "stdout",
     "output_type": "stream",
     "text": [
      "2    \n",
      "222  \n",
      "13834\n"
     ]
    }
   ],
   "source": [
    "# El símbolo \"<\"alineará hacia la izquierda\n",
    "print(f'{2:<5d}') \n",
    "print(f'{222:<5d}') \n",
    "print(f'{13834:<5d}')"
   ]
  },
  {
   "cell_type": "markdown",
   "id": "41507e5b-0266-4b23-be8e-b56b9e2439b4",
   "metadata": {
    "id": "2PrB1ztABez5"
   },
   "source": [
    "### ***Formato de datos Cadenas (String)***"
   ]
  },
  {
   "cell_type": "markdown",
   "id": "1afc3a79-aa04-4c81-9763-42402f469923",
   "metadata": {
    "id": "-LUsfM_q5tSY"
   },
   "source": [
    "Para formatear cadenas, el código de formato es {variable:ns}. "
   ]
  },
  {
   "cell_type": "code",
   "execution_count": 22,
   "id": "802fdc5c-d9b7-4f6d-8fba-6d0f5fc35988",
   "metadata": {},
   "outputs": [
    {
     "name": "stdout",
     "output_type": "stream",
     "text": [
      "¡Hola       \n",
      "Que tal ahí!\n"
     ]
    }
   ],
   "source": [
    "print(f'{\"¡Hola\":12s}') \n",
    "print(f'{\"Que tal ahí!\":10s}')"
   ]
  },
  {
   "cell_type": "code",
   "execution_count": 23,
   "id": "c43af87d-20b1-436f-b7d0-2b292894d8c4",
   "metadata": {
    "colab": {
     "base_uri": "https://localhost:8080/"
    },
    "executionInfo": {
     "elapsed": 382,
     "status": "ok",
     "timestamp": 1631297676087,
     "user": {
      "displayName": "Jose Luis Ojeda",
      "photoUrl": "https://lh3.googleusercontent.com/a-/AOh14GioxvwskRaM2HjJwQ_L936mkRS1wMOHPWrqOWUffw=s64",
      "userId": "12240071782040482724"
     },
     "user_tz": 300
    },
    "id": "5Zy26o3K6RMZ",
    "outputId": "7347a4d2-ae37-453d-9e0f-bd5d6341a997",
    "tags": []
   },
   "outputs": [
    {
     "name": "stdout",
     "output_type": "stream",
     "text": [
      "   ¡Hola    \n",
      "Que tal ahí!\n"
     ]
    }
   ],
   "source": [
    "# Aquí hay un ejemplo que se centra algún texto (^)\n",
    "print(f'{\"¡Hola\":^12s}') \n",
    "print(f'{\"Que tal ahí!\":^12s}')"
   ]
  },
  {
   "cell_type": "code",
   "execution_count": 24,
   "id": "ee58cf4e-a456-44e6-a5ca-02676f9d9377",
   "metadata": {},
   "outputs": [
    {
     "name": "stdout",
     "output_type": "stream",
     "text": [
      "       ¡Hola\n",
      "Que tal ahí!\n"
     ]
    }
   ],
   "source": [
    "print(f'{\"¡Hola\":>12s}') \n",
    "print(f'{\"Que tal ahí!\":>12s}')"
   ]
  },
  {
   "cell_type": "markdown",
   "id": "9698f2e6-6e54-4cd0-b072-0b7491fe7a91",
   "metadata": {},
   "source": [
    "### Escape characters\n",
    "La barra invertida \\ se usa para incluir ciertos caracteres especiales, llamados caracteres de escape, en una cadena. Hay una variedad de caracteres de escape, y estos son los más usados:\n",
    "\n",
    "#### \\n nueva línea\n",
    "#### \\\\' inserta un apóstrofe\n",
    "#### \\\\\\ inserta un back slash\n",
    "#### \\t una tabulación\n",
    "#### \\f form feed\n"
   ]
  },
  {
   "cell_type": "code",
   "execution_count": null,
   "id": "614ed56a-ecb9-44c5-8259-215908abbeb4",
   "metadata": {},
   "outputs": [],
   "source": [
    "# queremos imprimir la ruta de un programa\n",
    "# c:\\mis documentos\\programas Python\\miprograma.py\n",
    "# lo siguiente falla\n",
    "s = \"c:\\mis documentos\\programas Python\\numeros.py\"\n",
    "print(s)"
   ]
  },
  {
   "cell_type": "code",
   "execution_count": null,
   "id": "dd76a9c7-dee8-40ad-a351-7f8078d3c11a",
   "metadata": {},
   "outputs": [],
   "source": [
    "s = \"c:\\mis documentos\\programas Python\\\\numeros.py\"\n",
    "print(s)"
   ]
  },
  {
   "cell_type": "code",
   "execution_count": null,
   "id": "39bbaf38-a51b-48c7-aa69-e3435a5144dd",
   "metadata": {},
   "outputs": [],
   "source": [
    "filename = 'c:\\\\programs\\\\file.py'\n",
    "print(filename)"
   ]
  },
  {
   "cell_type": "code",
   "execution_count": null,
   "id": "ebeb5f62-1dc3-43c5-a1ef-c30f8b2e8029",
   "metadata": {},
   "outputs": [],
   "source": [
    "filename = 'c:\\programs\\file.py'\n",
    "print(filename)"
   ]
  },
  {
   "cell_type": "code",
   "execution_count": null,
   "id": "c7beddec-aadc-4696-92b2-e9d73a686442",
   "metadata": {},
   "outputs": [],
   "source": [
    "filename = 'c:\\programs\\\\file.py'\n",
    "print(filename)"
   ]
  },
  {
   "cell_type": "markdown",
   "id": "61d75171-9457-4300-8546-f9db76e3b50d",
   "metadata": {},
   "source": [
    "### String methods\n",
    "Las cadenas vienen con un montón de métodos, funciones que devuelven información sobre la cadena o devuelven una nueva cadena que es una versión modificada del original. Éstos son algunos de los más usados:  "
   ]
  },
  {
   "cell_type": "code",
   "execution_count": null,
   "id": "6cb03b38-c5dd-4b99-9759-38d51d69bdcd",
   "metadata": {},
   "outputs": [],
   "source": [
    "print(\"Método\\t\\tDescripción\")\n",
    "print(\"lower()\\t\\tdevuelve una cadena con cada letra del original en minúsculas\")\n",
    "print(\"upper()\\t\\tdevuelve una cadena con cada letra del original en mayúsculas\")\n",
    "print(\"replace(x,y)\\tdevuelve una cadena con cada aparición de x reemplazada por y\") \n",
    "print(\"count(x)\\tcuenta el número de apariciones de x en la cadena\")\n",
    "print(\"index(x)\\tdevuelve la ubicación de la primera aparición de x\") \n",
    "print(\"isalpha()\\tdevuelve True si cada carácter de la cadena es una letra\")"
   ]
  },
  {
   "cell_type": "code",
   "execution_count": null,
   "id": "5ea159ab-f534-4c8c-886e-486d7575fc88",
   "metadata": {},
   "outputs": [],
   "source": [
    "\"\"\"\"\n",
    "Nota importante Una nota muy importante sobre lower, upper, y replace \n",
    "es que ellos no cambiar la cadena original. \n",
    "Si quieres cambiar una cadena, s, a todo en minúsculas, no es suficiente \n",
    "solo utilizar s.lower(). Debes hacer lo siguiente:\n",
    "\"\"\"\n",
    "s =\"TODO MAYÚSCULAS\"\n",
    "s = s.lower()\n",
    "print(s)"
   ]
  },
  {
   "cell_type": "code",
   "execution_count": null,
   "id": "79fe3ed7-f0d8-4a54-bdc1-df2a65a24a82",
   "metadata": {},
   "outputs": [],
   "source": [
    "s =\"Todo Mayúsculas\"\n",
    "print(s)\n",
    "print(s.count(' '))\n",
    "s = s.upper()\n",
    "print(s)\n",
    "s = s.replace('TODO','SOLO')\n",
    "print(s)\n",
    "print(s.index('A'))"
   ]
  },
  {
   "cell_type": "code",
   "execution_count": null,
   "id": "3ab723fa-d91d-4b4a-a362-0a155db8a2f8",
   "metadata": {},
   "outputs": [],
   "source": [
    "help(str.isdigit)"
   ]
  },
  {
   "cell_type": "code",
   "execution_count": null,
   "id": "ee2c763a-7e7a-4c1e-8a23-8ccc9aad939e",
   "metadata": {
    "tags": []
   },
   "outputs": [],
   "source": [
    "dni = \"08804832\"\n",
    "if dni.isdigit():\n",
    "    print(\"Correcto\")\n",
    "    print(dni.isdigit())\n"
   ]
  }
 ],
 "metadata": {
  "kernelspec": {
   "display_name": "Python 3 (ipykernel)",
   "language": "python",
   "name": "python3"
  },
  "language_info": {
   "codemirror_mode": {
    "name": "ipython",
    "version": 3
   },
   "file_extension": ".py",
   "mimetype": "text/x-python",
   "name": "python",
   "nbconvert_exporter": "python",
   "pygments_lexer": "ipython3",
   "version": "3.10.2"
  }
 },
 "nbformat": 4,
 "nbformat_minor": 5
}
