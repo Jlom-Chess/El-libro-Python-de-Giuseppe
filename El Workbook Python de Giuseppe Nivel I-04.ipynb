{
 "cells": [
  {
   "cell_type": "code",
   "execution_count": 4,
   "id": "b5b5c2e9-1f95-40f6-a382-e5b940c0e742",
   "metadata": {},
   "outputs": [
    {
     "name": "stdout",
     "output_type": "stream",
     "text": [
      "[['shirt', 18.99], ['shirt', 22.59], ['car', 22400], ['lettuce', 1.49]]\n"
     ]
    }
   ],
   "source": [
    "items = []\n",
    "items.append(['shirt', 18.99])\n",
    "items.append(['shirt', 22.59])\n",
    "items.append(['car', 22400])\n",
    "items.append(['lettuce', 1.49])\n",
    "\n",
    "print(items)\n"
   ]
  },
  {
   "cell_type": "code",
   "execution_count": 12,
   "id": "17874b98-7674-4b9f-8526-3c5f7248118e",
   "metadata": {},
   "outputs": [
    {
     "name": "stdout",
     "output_type": "stream",
     "text": [
      "['shirt', 18.99]\n",
      "['shirt', 22.59]\n",
      "['car', 22400]\n",
      "['lettuce', 1.49]\n",
      "['car', 22400]\n",
      "['lettuce', 1.49]\n"
     ]
    }
   ],
   "source": [
    "class ShoppingCart:\n",
    "    def __init__(self):\n",
    "        self.items = []\n",
    "\n",
    "    def add(self, item):\n",
    "        self.items.append(item)\n",
    "\n",
    "    def total(self):\n",
    "        return sum(item.price for item in self.items)\n",
    "\n",
    "    def remove_items(self, name):\n",
    "        self.items = [item for item in self.items if item[0] != name]\n",
    "        \n",
    "    def __str__(self):\n",
    "        return '\\n'.join(str(item) for item in self.items)\n",
    "        \n",
    "cart = ShoppingCart()\n",
    "cart.add(['shirt', 18.99])\n",
    "cart.add(['shirt', 22.59])\n",
    "cart.add(['car', 22400])\n",
    "cart.add(['lettuce', 1.49])\n",
    "print(cart)\n",
    "cart.remove_items('shirt')\n",
    "print(cart)\n",
    "\n"
   ]
  },
  {
   "cell_type": "code",
   "execution_count": 17,
   "id": "43400eb5-237f-4306-a070-5f6a280ba0cf",
   "metadata": {},
   "outputs": [
    {
     "name": "stdout",
     "output_type": "stream",
     "text": [
      "Check Number: 443\n",
      "Sales tax: 6%\n",
      "Subtotal: 23.14\n",
      "Total: 24.53\n",
      "Table Number: Sonic the Hedgehog\n",
      "Server: 17\n"
     ]
    }
   ],
   "source": [
    "#4 RestaurantCheck\n",
    "class RestaurantCheck:\n",
    "    def __init__(self, check_number, sales_tax_percent, subtotal, \n",
    "                 table_number, server_name):\n",
    "        self.check_number = check_number\n",
    "        self.sales_tax_percent = sales_tax_percent\n",
    "        self.subtotal = subtotal\n",
    "        self.table_number = table_number\n",
    "        self.server_name = server_name\n",
    "\n",
    "    def calculate_total(self):\n",
    "        return self.subtotal * (1+self.sales_tax_percent/100)\n",
    "\n",
    "    def print_check(self):\n",
    "        #output_file = open('check' + str(self.check_number) + '.txt', 'w')\n",
    "        print('Check Number:', self.check_number)\n",
    "        print('Sales tax: ', self.sales_tax_percent, '%', sep='')\n",
    "        print('Subtotal: {:.2f}'.format(self.subtotal))\n",
    "        print('Total: {:.2f}'.format(self.calculate_total()))\n",
    "        print('Table Number:', self.table_number)\n",
    "        print('Server:', self.server_name)\n",
    "        #output_file.close()\n",
    "\n",
    "check = RestaurantCheck(443, 6, 23.14, 'Sonic the Hedgehog', 17)\n",
    "check.print_check()\n"
   ]
  },
  {
   "cell_type": "code",
   "execution_count": 18,
   "id": "9dfc5db1-cff4-4cc4-b8f6-cffe801fd922",
   "metadata": {},
   "outputs": [
    {
     "name": "stdout",
     "output_type": "stream",
     "text": [
      "Ticket(49.99, 19:00)\n",
      "True\n",
      "20\n"
     ]
    }
   ],
   "source": [
    "#5 Ticket\n",
    "class Ticket:\n",
    "    def __init__(self, cost, time):\n",
    "        self.cost = cost\n",
    "        self.time = time\n",
    "\n",
    "    def __str__(self):\n",
    "        return 'Ticket(' + str(self.cost) + ', ' + str(self.time) + ')'\n",
    "\n",
    "    def is_evening_time(self):\n",
    "        hour = int(self.time.split(':')[0])\n",
    "        return 18 <= hour <= 23\n",
    "\n",
    "    def bulk_discount(self, n):\n",
    "        if 5 <= n < 9:\n",
    "            return 10\n",
    "        elif n >= 10:\n",
    "            return 20\n",
    "        else:\n",
    "            return 0\n",
    "\n",
    "ticket = Ticket(49.99, '19:00')\n",
    "print(ticket)\n",
    "print(ticket.is_evening_time())\n",
    "print(ticket.bulk_discount(15))\n"
   ]
  },
  {
   "cell_type": "code",
   "execution_count": 19,
   "id": "2e5dddfb-7a15-4247-9ab1-44c3df76a1e2",
   "metadata": {},
   "outputs": [
    {
     "name": "stdout",
     "output_type": "stream",
     "text": [
      "Ticket(49.99, 14:25, Snakes on a Plane)\n",
      "10\n",
      "False\n"
     ]
    }
   ],
   "source": [
    "#6 MovieTicket\n",
    "class MovieTicket(Ticket):\n",
    "    def __init__(self, cost, time, movie_name):\n",
    "        self.cost = cost\n",
    "        self.time = time\n",
    "        self.movie_name = movie_name\n",
    "\n",
    "    def __str__(self):\n",
    "        return 'Ticket(' + str(self.cost) + ', ' + str(self.time) + ', ' + str(self.movie_name) + ')'\n",
    "\n",
    "    def afternoon_discount(self):\n",
    "        hour = int(self.time.split(':')[0])\n",
    "        if 12 <= hour <= 17:\n",
    "            return 10\n",
    "        else:\n",
    "            return 0\n",
    "        \n",
    "m_ticket = MovieTicket(49.99, '14:25', 'Snakes on a Plane')\n",
    "print(m_ticket)\n",
    "print(m_ticket.afternoon_discount())\n",
    "print(m_ticket.is_evening_time())\n"
   ]
  },
  {
   "cell_type": "code",
   "execution_count": 21,
   "id": "c7f7729d-1c8f-4095-80a5-b64f75b747bc",
   "metadata": {},
   "outputs": [
    {
     "name": "stdout",
     "output_type": "stream",
     "text": [
      "126.0\n"
     ]
    }
   ],
   "source": [
    "import pandas as pd  \n",
    "\n",
    "serie_escalar = pd.Series(42, index=[0, 1, 2],  dtype=float, name='CONST')  \n",
    "resultado = serie_escalar.sum()  \n",
    "print(resultado) \n"
   ]
  },
  {
   "cell_type": "code",
   "execution_count": 22,
   "id": "c28a79e4-a4e1-4f86-9a8c-8b3ca85daf8c",
   "metadata": {},
   "outputs": [
    {
     "name": "stdout",
     "output_type": "stream",
     "text": [
      "(7,)\n"
     ]
    }
   ],
   "source": [
    "import pandas as pd  \n",
    "\n",
    "fibs = [0, 1, 1, 2, 3, 5, 8]  \n",
    "idxs = [0, 1, 2, 3, 4, 5, 6]  \n",
    "fib_series = pd.Series(data=fibs, index=idxs)  \n",
    "result = fib_series.shape  \n",
    "print(result) \n"
   ]
  },
  {
   "cell_type": "code",
   "execution_count": 24,
   "id": "b48d493b-c28b-43ef-9899-b449bb6b4c0e",
   "metadata": {},
   "outputs": [
    {
     "name": "stdout",
     "output_type": "stream",
     "text": [
      "Rome\n"
     ]
    }
   ],
   "source": [
    "import pandas as pd  \n",
    "data = {\n",
    "    'Spain':'Madrid',\n",
    "    'France':'Paris',\n",
    "    'Germany':'Berlin',\n",
    "    'Italy':'Rome'\n",
    "}  \n",
    "capitals = pd.Series(data)\n",
    "result = capitals.iloc[-1]  \n",
    "print(result) \n"
   ]
  },
  {
   "cell_type": "code",
   "execution_count": 23,
   "id": "5521d8e0-aaf0-40e5-9c3b-df6d5eab89c3",
   "metadata": {},
   "outputs": [
    {
     "name": "stdout",
     "output_type": "stream",
     "text": [
      "12\n"
     ]
    }
   ],
   "source": [
    "import pandas as pd  \n",
    "\n",
    "xs = pd.Series(range(7))  \n",
    "bs = [False, False, True, False, True, False, True]  \n",
    "result = xs.loc[bs].sum()  \n",
    "print(result) \n"
   ]
  },
  {
   "cell_type": "code",
   "execution_count": 25,
   "id": "1e6a2a5c-3c66-4547-94fa-65454e3f79dd",
   "metadata": {},
   "outputs": [
    {
     "name": "stdout",
     "output_type": "stream",
     "text": [
      "True\n"
     ]
    }
   ],
   "source": [
    "import pandas as pd  \n",
    "\n",
    "xs = pd.Series(range(100))  \n",
    "result = xs.max() + min(xs)  \n",
    "print(result) \n",
    " "
   ]
  },
  {
   "cell_type": "code",
   "execution_count": 26,
   "id": "084802e2-3e92-4c1b-928f-86b163e9fb63",
   "metadata": {},
   "outputs": [
    {
     "name": "stdout",
     "output_type": "stream",
     "text": [
      "5\n"
     ]
    }
   ],
   "source": [
    "import pandas as pd  \n",
    "\n",
    "xs = pd.Series([5, 1, 4, 2, 3])  \n",
    "\n",
    "xs.sort_values()  \n",
    "result = xs[0]  \n",
    "print(result) \n"
   ]
  },
  {
   "cell_type": "code",
   "execution_count": 27,
   "id": "01fe1e31-2e9e-4806-a28f-7ded74a33044",
   "metadata": {},
   "outputs": [
    {
     "name": "stdout",
     "output_type": "stream",
     "text": [
      "False\n"
     ]
    }
   ],
   "source": [
    "import pandas as pd  \n",
    "\n",
    "s = pd.Series(range(0, 100, 50))  \n",
    "t = s > 50  \n",
    "result = t.any()  \n",
    "print(result) \n"
   ]
  },
  {
   "cell_type": "code",
   "execution_count": null,
   "id": "6d220709-44f5-4843-a251-56d97c0dc15c",
   "metadata": {},
   "outputs": [],
   "source": [
    "import pandas as pd  \n",
    "s = pd.Series(range(10))  \n",
    "result = s.cumsum(axis=0)[4]  \n",
    "print(result) \n",
    " "
   ]
  },
  {
   "cell_type": "code",
   "execution_count": null,
   "id": "0a58162d-4836-4355-a735-4279a347bb3c",
   "metadata": {},
   "outputs": [],
   "source": [
    "import pandas as pd  \n",
    "s = pd.Series(range(0, 10))  \n",
    "t = pd.Series(range(0, 20))  \n",
    "result = (s + t)[1]  \n",
    "print(result) \n"
   ]
  },
  {
   "cell_type": "code",
   "execution_count": null,
   "id": "a31da989-c8cd-4d19-bd6e-f407641aba6a",
   "metadata": {},
   "outputs": [],
   "source": [
    "import pandas as pd  \n",
    "data = [  \n",
    "    ['apple', 1.0],  \n",
    "    ['bread', 2.5],  \n",
    "    ['egg', 0.25]  \n",
    "]  \n",
    "\n",
    "df = pd.DataFrame(data, columns=['Item', 'Price'])  \n",
    "shopping_list = pd.Series([5, 1, 4])  \n",
    "result = (df['Price'] * shopping_list).sum()  \n",
    "print(result) \n"
   ]
  },
  {
   "cell_type": "code",
   "execution_count": null,
   "id": "1d91f0cf-7985-4755-92d3-5ccf6a71db4a",
   "metadata": {},
   "outputs": [],
   "source": [
    "import pandas as pd  \n",
    "items = ['apple', 'bread', 'egg']  \n",
    "prices = [1.0, 2.5, 0.25]  \n",
    "data = {'Item':items, 'Price':prices}  \n",
    "df = pd.DataFrame(data)  \n",
    "df['Calories'] = [100, 2500, 25]  \n",
    "print(df) \n"
   ]
  },
  {
   "cell_type": "code",
   "execution_count": null,
   "id": "62f550b9-8252-42f8-91f6-0ab56537b655",
   "metadata": {},
   "outputs": [],
   "source": [
    "import pandas as pd  \n",
    "#Contents of cars.csv  \n",
    "#  -----------------------  \n",
    "#make,fuel,aspiration,body-style,price,engine-size  \n",
    "#audi,gas,turbo,sedan,30000,2.0  \n",
    "#dodge,gas,std,sedan,17000,1.8  \n",
    "#mazda,diesel,std,sedan,17000,NaN  \n",
    "#porsche,gas,turbo,convertible,120000,6.0  \n",
    "#volvo,diesel,std,sedan,25000,2.0  \n",
    "\n",
    "cars = pd.read_csv('cars.csv')  \n",
    "result = cars['make'].values[-1]  \n",
    "print(result) \n"
   ]
  },
  {
   "cell_type": "code",
   "execution_count": null,
   "id": "1c1da7ff-71ea-477b-a1b5-191bb7b9ac64",
   "metadata": {},
   "outputs": [],
   "source": [
    "import pandas as pd  \n",
    "df = pd.read_csv(\"Cars.csv\")  \n",
    "\n",
    "#Dataframe \"df\"  \n",
    "#  ----------  \n",
    "# make    fuel    aspiration    body-style    price    engine-size  \n",
    "#  0      audi     gas turbo      sedan       30000        2.0  \n",
    "#1 dodge gas std sedan 17000 1.8  \n",
    "#2 mazda diesel std sedan 17000 NaN  \n",
    "#3 porsche gas turbo convertible 120000 6.0  \n",
    "#4 volvo diesel std sedan 25000 2.0   \n",
    "#  ----------  \n",
    "result = df.loc[0:2, \"price\"].max()  \n",
    "print(result) \n",
    "\n"
   ]
  },
  {
   "cell_type": "code",
   "execution_count": null,
   "id": "84bee742-7fdc-4ec2-b61d-255b888420d1",
   "metadata": {},
   "outputs": [],
   "source": [
    "import pandas as pd  \n",
    "dict_ = {1: [\"a\"], 2: [\"b\"], 3: [\"c\"]}  \n",
    "result1 = pd.Series(dict_)  \n",
    "result2 = pd.DataFrame(dict_)  \n",
    "print(len(result1) == len(result2)) \n"
   ]
  }
 ],
 "metadata": {
  "kernelspec": {
   "display_name": "Python 3 (ipykernel)",
   "language": "python",
   "name": "python3"
  },
  "language_info": {
   "codemirror_mode": {
    "name": "ipython",
    "version": 3
   },
   "file_extension": ".py",
   "mimetype": "text/x-python",
   "name": "python",
   "nbconvert_exporter": "python",
   "pygments_lexer": "ipython3",
   "version": "3.10.0"
  }
 },
 "nbformat": 4,
 "nbformat_minor": 5
}
