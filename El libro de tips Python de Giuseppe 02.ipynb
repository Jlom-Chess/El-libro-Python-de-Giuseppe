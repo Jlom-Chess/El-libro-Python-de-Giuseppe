{
 "cells": [
  {
   "cell_type": "code",
   "execution_count": null,
   "id": "2997bf11-c5ce-41d9-b6ec-bcb159ac996b",
   "metadata": {},
   "outputs": [],
   "source": [
    "%load_ext lab_black"
   ]
  },
  {
   "cell_type": "code",
   "execution_count": 2,
   "id": "808ac911",
   "metadata": {},
   "outputs": [
    {
     "name": "stdout",
     "output_type": "stream",
     "text": [
      "[1, 8, 27]\n"
     ]
    }
   ],
   "source": [
    "cubes = [1,8,27]\n",
    "print(cubes)"
   ]
  },
  {
   "cell_type": "code",
   "execution_count": 3,
   "id": "ece525b3",
   "metadata": {},
   "outputs": [
    {
     "name": "stdout",
     "output_type": "stream",
     "text": [
      "1267650600228229401496703205376\n"
     ]
    }
   ],
   "source": [
    "x = 2**100\n",
    "print(x)"
   ]
  },
  {
   "cell_type": "code",
   "execution_count": null,
   "id": "9f9f5f8b-9a48-4f95-b835-f58d72e29448",
   "metadata": {},
   "outputs": [],
   "source": [
    "type(x)"
   ]
  },
  {
   "cell_type": "code",
   "execution_count": null,
   "id": "c714c238-8087-439f-ba4b-2d42a1610d74",
   "metadata": {},
   "outputs": [],
   "source": [
    "s = set([5, 4, 6, 8, 8, 1])\n",
    "print(s)       #{1, 4, 5, 6, 8}\n",
    "print(type(s)) #<class 'set'>"
   ]
  },
  {
   "cell_type": "code",
   "execution_count": null,
   "id": "b3b9775c-6302-4fe4-bd06-2f0777e15afd",
   "metadata": {},
   "outputs": [],
   "source": [
    "print(type(s)) #<class 'set'>"
   ]
  },
  {
   "cell_type": "code",
   "execution_count": null,
   "id": "e0b4780e-f430-4aff-bcb3-90463d81d26f",
   "metadata": {},
   "outputs": [],
   "source": [
    "print(s)\n",
    "print(s)"
   ]
  },
  {
   "cell_type": "markdown",
   "id": "3c7bfff1-c5b1-4228-ab35-c736c35e6f35",
   "metadata": {
    "tags": []
   },
   "source": [
    "cadena = \"Hola\"\n",
    "for c in cadena:\n",
    "    print(c)"
   ]
  },
  {
   "cell_type": "code",
   "execution_count": null,
   "id": "8d076d0d-dfa9-469a-874c-e5038ccd6cfd",
   "metadata": {},
   "outputs": [],
   "source": [
    "cadena = \"Hola\"\n",
    "for c in cadena:\n",
    "    print(c)"
   ]
  },
  {
   "cell_type": "code",
   "execution_count": null,
   "id": "b923cb68-60ea-48d4-9c1c-22a770e70f0b",
   "metadata": {},
   "outputs": [],
   "source": [
    "x = \"Hola todos\"\n",
    "y = x[::-1]\n",
    "print(y)"
   ]
  },
  {
   "cell_type": "code",
   "execution_count": null,
   "id": "d2858e44-968f-4ad6-b726-22d93dfd3d11",
   "metadata": {},
   "outputs": [],
   "source": [
    "print(x[1:8:2])"
   ]
  },
  {
   "cell_type": "code",
   "execution_count": null,
   "id": "179eeec1-6b71-41cf-85c0-1aed9112bd3f",
   "metadata": {},
   "outputs": [],
   "source": [
    "print(x[:5:-1])"
   ]
  },
  {
   "cell_type": "code",
   "execution_count": null,
   "id": "82bec51e-4501-4b39-a954-1931430de937",
   "metadata": {},
   "outputs": [],
   "source": [
    "print(x[:5:-2])"
   ]
  },
  {
   "cell_type": "code",
   "execution_count": null,
   "id": "5757c4fb-b95d-4c99-bd42-0043a66677a1",
   "metadata": {},
   "outputs": [],
   "source": [
    "print(x[:5:2])"
   ]
  },
  {
   "cell_type": "code",
   "execution_count": null,
   "id": "c0fd89c1-a295-4f79-9e0d-57094d765d94",
   "metadata": {},
   "outputs": [],
   "source": [
    "print(x[:-5:-2])"
   ]
  },
  {
   "cell_type": "code",
   "execution_count": null,
   "id": "bd724c8e-f1d1-4630-943c-780c5212ef59",
   "metadata": {},
   "outputs": [],
   "source": [
    "num = [5]\n",
    "num[0] = 1\n"
   ]
  },
  {
   "cell_type": "code",
   "execution_count": null,
   "id": "2ca9cf96-4302-4c1b-ab02-5518e69754a8",
   "metadata": {},
   "outputs": [],
   "source": [
    "a = 'b'\n",
    "a + 'b'"
   ]
  },
  {
   "cell_type": "code",
   "execution_count": null,
   "id": "2d55bdec-f294-465c-a12b-96f5ec0bbf79",
   "metadata": {},
   "outputs": [],
   "source": [
    "a + 'a'"
   ]
  },
  {
   "cell_type": "code",
   "execution_count": null,
   "id": "9438e4cd-c816-40aa-a33c-752aedc92375",
   "metadata": {},
   "outputs": [],
   "source": [
    "a+2 + 'b'*3"
   ]
  },
  {
   "cell_type": "code",
   "execution_count": null,
   "id": "af68e5df-974e-4d7d-aa34-268d8df7b2e0",
   "metadata": {},
   "outputs": [],
   "source": [
    "2*(a + 'b')"
   ]
  },
  {
   "cell_type": "code",
   "execution_count": null,
   "id": "8a4572cf-328f-4c7a-b750-21321c7af5c8",
   "metadata": {},
   "outputs": [],
   "source": [
    "2*('a' + 'b')"
   ]
  },
  {
   "cell_type": "code",
   "execution_count": null,
   "id": "519ee886-dfb3-4fbb-be02-bcb352bd7321",
   "metadata": {},
   "outputs": [],
   "source": [
    "print('a'*3 + '/*'*5 + 2*'abc' + '+')"
   ]
  },
  {
   "cell_type": "code",
   "execution_count": null,
   "id": "2a19756b-d491-4398-b395-ea5eaf918a9c",
   "metadata": {},
   "outputs": [],
   "source": [
    "s = \"Los números son {} y {}\".format(5, 10)\n",
    "print(s) #Los números son {} y {}\".format(5, 10)"
   ]
  },
  {
   "cell_type": "code",
   "execution_count": null,
   "id": "907ae849-9d6d-4877-b0c1-e596958a8485",
   "metadata": {},
   "outputs": [],
   "source": [
    "s = \"Los números son {a} y {b}\".format(a=5, b=10)\n",
    "print(s) #Los números son 5 y 10"
   ]
  },
  {
   "cell_type": "code",
   "execution_count": null,
   "id": "d6addbaf-ca38-489f-a319-9de2db7a7969",
   "metadata": {},
   "outputs": [],
   "source": [
    "curso = 'Python'\n",
    "institucion = 'UPC'\n",
    "\n",
    "print(f\"El nuevo curso de {curso} en la {institucion} está increíble\")"
   ]
  },
  {
   "cell_type": "code",
   "execution_count": null,
   "id": "433db325-697c-42c7-8359-3255b4def946",
   "metadata": {},
   "outputs": [],
   "source": [
    "print(f\"El nuevo curso de {curso.upper()} en la {institucion} está increíble\")"
   ]
  },
  {
   "cell_type": "code",
   "execution_count": null,
   "id": "c2e04ba4-f67d-4db6-9d44-d2bb6cc2d78f",
   "metadata": {},
   "outputs": [],
   "source": [
    "message = (\n",
    "    f\"Nuevo curso de {curso} \"\n",
    "    f\"disponible en la {institucion} \"\n",
    ")\n",
    "\n",
    "print(message)"
   ]
  },
  {
   "cell_type": "code",
   "execution_count": 4,
   "id": "ea57c384-6b08-45b2-bfb3-b0109209fc13",
   "metadata": {},
   "outputs": [
    {
     "data": {
      "text/plain": [
       "True"
      ]
     },
     "execution_count": 4,
     "metadata": {},
     "output_type": "execute_result"
    }
   ],
   "source": [
    "x = y = z = 4\n",
    "x is y"
   ]
  },
  {
   "cell_type": "code",
   "execution_count": 5,
   "id": "75724564-69d2-4b7c-814c-1c08e4fdb694",
   "metadata": {},
   "outputs": [
    {
     "data": {
      "text/plain": [
       "True"
      ]
     },
     "execution_count": 5,
     "metadata": {},
     "output_type": "execute_result"
    }
   ],
   "source": [
    "x is z"
   ]
  },
  {
   "cell_type": "code",
   "execution_count": 6,
   "id": "92faba01-d9f2-4d5e-aa7e-777e152b5d41",
   "metadata": {},
   "outputs": [
    {
     "data": {
      "text/plain": [
       "True"
      ]
     },
     "execution_count": 6,
     "metadata": {},
     "output_type": "execute_result"
    }
   ],
   "source": [
    "y is z"
   ]
  },
  {
   "cell_type": "code",
   "execution_count": 10,
   "id": "3976007e-df2c-4d9a-ba31-f7b572399d17",
   "metadata": {},
   "outputs": [
    {
     "name": "stdout",
     "output_type": "stream",
     "text": [
      "False\n"
     ]
    }
   ],
   "source": [
    "a = [1, 2, 3]\n",
    "b = [1, 2, 3]\n",
    "print(a is b)\n"
   ]
  },
  {
   "cell_type": "code",
   "execution_count": null,
   "id": "9ea68350-b0d1-4852-bb35-e60174de2414",
   "metadata": {},
   "outputs": [],
   "source": [
    "a = 5\n",
    "print(id(a))\n",
    "a = a+3\n",
    "print(id(a))"
   ]
  },
  {
   "cell_type": "code",
   "execution_count": null,
   "id": "42c8c9bc-ce57-4003-8374-df0a056cdac1",
   "metadata": {},
   "outputs": [],
   "source": [
    "a = 7\n",
    "print(id(a))\n",
    "a +=3\n",
    "print(id(a))"
   ]
  },
  {
   "cell_type": "code",
   "execution_count": 13,
   "id": "6cf9b4b7-85e7-41be-a77b-53bcdf21fa22",
   "metadata": {},
   "outputs": [
    {
     "name": "stdout",
     "output_type": "stream",
     "text": [
      "[1, 2, 3]\n",
      "0\n",
      "[3, 2, 1]\n"
     ]
    }
   ],
   "source": [
    "a = [1, 2, 3]\n",
    "print(a)\n",
    "print(a.index(1))\n",
    "a.reverse()\n",
    "print(a)"
   ]
  },
  {
   "cell_type": "code",
   "execution_count": null,
   "id": "7f6b27bc-5e95-41a7-a7ce-e029ab61a680",
   "metadata": {},
   "outputs": [],
   "source": [
    "a=335\n",
    "b=330\n",
    "if a > b:\n",
    "    print(\"A\")\n",
    "elif a == b:\n",
    "    print(\"=\")\n",
    "else:\n",
    "    print(\"B\")\n"
   ]
  },
  {
   "cell_type": "code",
   "execution_count": null,
   "id": "99670fd0-dac2-4777-8b0e-0df0aae3a9e8",
   "metadata": {},
   "outputs": [],
   "source": [
    "i = 1\n",
    "while i < 6:\n",
    "    print(i) \n",
    "    i += 1\n",
    "else:\n",
    "    print('ya no es menos de 6')"
   ]
  },
  {
   "cell_type": "code",
   "execution_count": 17,
   "id": "8c2cb3c9-978e-422f-8b37-dd6740d9312d",
   "metadata": {},
   "outputs": [
    {
     "name": "stdout",
     "output_type": "stream",
     "text": [
      "0\n",
      "1\n",
      "2\n",
      "3\n",
      "4\n",
      "5\n"
     ]
    }
   ],
   "source": [
    "for x in range(6):\n",
    "    print(x)"
   ]
  },
  {
   "cell_type": "code",
   "execution_count": 18,
   "id": "d96f88ac-45b8-41a7-870f-074f038944ee",
   "metadata": {},
   "outputs": [
    {
     "name": "stdout",
     "output_type": "stream",
     "text": [
      "2\n",
      "3\n",
      "4\n",
      "5\n"
     ]
    }
   ],
   "source": [
    "for x in range(2, 6):\n",
    "    print(x)"
   ]
  },
  {
   "cell_type": "code",
   "execution_count": 19,
   "id": "eed27de4-ff77-4074-8438-f2ea9b3be4c8",
   "metadata": {},
   "outputs": [
    {
     "data": {
      "text/plain": [
       "[10, 20, 30, 40, 50, 60, 70, 80, 90, 100]"
      ]
     },
     "execution_count": 19,
     "metadata": {},
     "output_type": "execute_result"
    }
   ],
   "source": [
    "numeros = [1, 2, 3, 4, 5, 6, 7, 8, 9, 10]\n",
    "for indice, numero in enumerate(numeros):\n",
    "    numeros[indice] *= 10\n",
    "    \n",
    "numeros"
   ]
  },
  {
   "cell_type": "code",
   "execution_count": 20,
   "id": "030c7445-8213-4af0-a847-264d51957ab1",
   "metadata": {},
   "outputs": [
    {
     "data": {
      "text/plain": [
       "[10, 20, 30, 40, 50, 60, 70, 80, 90, 100]"
      ]
     },
     "execution_count": 20,
     "metadata": {},
     "output_type": "execute_result"
    }
   ],
   "source": [
    "indice = 0\n",
    "numeros = [1, 2, 3, 4, 5, 6, 7, 8, 9, 10]\n",
    "for numero in numeros:\n",
    "    numeros[indice] *= 10\n",
    "    indice+=1 \n",
    "    \n",
    "numeros\n"
   ]
  },
  {
   "cell_type": "code",
   "execution_count": null,
   "id": "2716f843-6f5f-40b9-b5fd-f6bb7611ecee",
   "metadata": {},
   "outputs": [],
   "source": [
    "L=[1,3,5,7]\n",
    "s=i=1\n",
    "for i,x in enumerate(L):\n",
    "    s*=(i+1)*x\n",
    "    \n",
    "print (s%95)\n"
   ]
  },
  {
   "cell_type": "code",
   "execution_count": null,
   "id": "a4efd136-e7be-4e72-9559-7be6a5c36e85",
   "metadata": {},
   "outputs": [],
   "source": [
    "suma = 0\n",
    "num = 10\n",
    "x = 1\n",
    "while x <= num:\n",
    "    print(x*2)\n",
    "    x*=2   \n"
   ]
  },
  {
   "cell_type": "code",
   "execution_count": 22,
   "id": "c8f33140-4c03-4a99-ad3a-ebae43d34060",
   "metadata": {},
   "outputs": [
    {
     "name": "stdout",
     "output_type": "stream",
     "text": [
      "<<abcba>><<abcba>>\n"
     ]
    }
   ],
   "source": [
    "Cadena1 = 'abcba'\n",
    "print((2*'<' + Cadena1 + '>'*2)*2)"
   ]
  },
  {
   "cell_type": "code",
   "execution_count": null,
   "id": "90d80d33-9695-4539-8a1a-6a5a9e634773",
   "metadata": {},
   "outputs": [],
   "source": [
    "print((25.36)**2%5)"
   ]
  },
  {
   "cell_type": "code",
   "execution_count": null,
   "id": "38b6b78f-f205-4c30-ac0b-79330d7c008e",
   "metadata": {},
   "outputs": [],
   "source": [
    "(64**(1/6)//1.5)"
   ]
  },
  {
   "cell_type": "code",
   "execution_count": null,
   "id": "ff5a5eb7-bd1d-4cf3-9c72-02e9dc82c4b9",
   "metadata": {},
   "outputs": [],
   "source": [
    "palabra = 'Galaxia'\n",
    "print(palabra[5:90])\n"
   ]
  },
  {
   "cell_type": "code",
   "execution_count": null,
   "id": "4518fb7a-6f21-4372-bef3-3f65b457b159",
   "metadata": {},
   "outputs": [],
   "source": [
    "x = 'cool'\n",
    "print(x[-1] + x[-2] + x[-4] + x[-3])"
   ]
  },
  {
   "cell_type": "code",
   "execution_count": null,
   "id": "cb1cf0c9-d64b-46ff-80ed-cdb573dda595",
   "metadata": {},
   "outputs": [],
   "source": [
    "palabras = ['gato', 'ratón']\n",
    "for palabra in palabras:\n",
    "    print(len(palabra))"
   ]
  },
  {
   "cell_type": "code",
   "execution_count": null,
   "id": "19f7c0f5-f652-4776-ad87-d96dae6f5341",
   "metadata": {},
   "outputs": [],
   "source": [
    "palabra = \"galaxia\"\n",
    "print(palabra[:-2] + palabra[-2:])"
   ]
  },
  {
   "cell_type": "code",
   "execution_count": null,
   "id": "3b724040-a0da-4b8d-a339-3681103b2921",
   "metadata": {},
   "outputs": [],
   "source": [
    "customers = ['Marie', 'Anne', 'Donald']\n",
    "customers[2:4] = ['Barack', 'Olivia', 'Sophia']\n",
    "print(customers)"
   ]
  },
  {
   "cell_type": "code",
   "execution_count": null,
   "id": "406a2c2c-fdbc-47d5-9ab2-afaa0745e0d8",
   "metadata": {},
   "outputs": [],
   "source": [
    "a,b,c='tigres','tristes','tres'\n",
    "print(b+c*2+a)"
   ]
  },
  {
   "cell_type": "code",
   "execution_count": null,
   "id": "6bbc50d7-0caa-4234-9a68-4559d2f2b0b3",
   "metadata": {},
   "outputs": [],
   "source": [
    "letras = ['a', 'b', 'c', 'd']\n",
    "print(len(letras[1:-1]))"
   ]
  },
  {
   "cell_type": "code",
   "execution_count": null,
   "id": "854ed60a-9a9b-4599-9f35-3c74f6fe9abb",
   "metadata": {},
   "outputs": [],
   "source": [
    "a = ['a', 'b']\n",
    "n = [1, 2]\n",
    "x = [a, n]\n",
    "print(x[1])"
   ]
  },
  {
   "cell_type": "code",
   "execution_count": null,
   "id": "2546a858-76d8-4e93-984f-a0e609418669",
   "metadata": {},
   "outputs": [],
   "source": [
    "letras = ['a', 'b', 'c','d', 'e', 'f', 'g']\n",
    "letras[1:] = []\n",
    "print(letras)"
   ]
  },
  {
   "cell_type": "code",
   "execution_count": null,
   "id": "0b076d81-16ff-4c1f-9fc1-6fef8229d4c6",
   "metadata": {},
   "outputs": [],
   "source": [
    "a, b = 0, 1\n",
    "while b < 5:\n",
    "    print(b)\n",
    "    a, b = b, a + b"
   ]
  },
  {
   "cell_type": "code",
   "execution_count": null,
   "id": "8465ce75-4b6c-471e-a023-58c037ace840",
   "metadata": {},
   "outputs": [],
   "source": [
    "for num in range(2, 8):\n",
    "    if not num % 2:\n",
    "        continue\n",
    "    print(num)"
   ]
  },
  {
   "cell_type": "code",
   "execution_count": null,
   "id": "970900d5-0446-45c2-b2b4-7dd008fe7384",
   "metadata": {},
   "outputs": [],
   "source": [
    "print(range(5, 10)[-1])\n",
    "print(range(0, 10, 3)[2])\n",
    "print(range(-10, -100, -30)[1])"
   ]
  },
  {
   "cell_type": "code",
   "execution_count": null,
   "id": "1a8d69a5-0611-4e3e-af11-d14596577fdf",
   "metadata": {},
   "outputs": [],
   "source": [
    "x = [1, 2, 3]\n",
    "if 4 not in x:\n",
    "    print(\"error\")\n",
    "else:\n",
    "    print(x.index(4))"
   ]
  },
  {
   "cell_type": "code",
   "execution_count": null,
   "id": "09bea900-2a04-4be8-a263-618c3a68f5d2",
   "metadata": {},
   "outputs": [],
   "source": [
    "x = [\"Tr1\", \"Fr1\", \"Si1\"]\n",
    "while True:\n",
    "    y = input(\"Ingresa maquinaria\")\n",
    "    if y in x:\n",
    "        break\n",
    "    else:\n",
    "        print(\"No existe maquinaria, intente otra vez\")\n",
    "        \n",
    "print(y)        "
   ]
  },
  {
   "cell_type": "code",
   "execution_count": null,
   "id": "5aff0d27-54ac-48e5-8074-63fb37e5bdea",
   "metadata": {},
   "outputs": [],
   "source": [
    "from tkinter import *\n",
    "from tkinter import ttk\n",
    "root = Tk()\n",
    "ttk.Button(root, text=\"Hello World\").grid()\n",
    "root.mainloop()"
   ]
  },
  {
   "cell_type": "code",
   "execution_count": null,
   "id": "0bf4ad66-efb6-4058-a536-d0014ad02a06",
   "metadata": {},
   "outputs": [],
   "source": [
    "#Matrices en Python\n",
    "# Para simular una matriz en Python Se puede aprovechar la  \n",
    "# capacidad de almacenar listas dentro de otras listas.\n",
    "#Se tiene los clientes: sus nombres y teléfonos \n",
    "clienteA = [\"Juan\",\"123-234\"]\n",
    "clienteB = [\"Pedro\",\"345-746\"]\n",
    "\n",
    "Agenda = [] \n",
    "Agenda.append(clienteA)\n",
    "Agenda.append(clienteB)\n",
    "print(Agenda) #Agenda: [[\"Juan\",\"123-234\"], [\"Pedro\",\"345-746\"]]\n",
    "#ACCEDER A SUS DATOS\n",
    "# Se debe hacer uso de los índices, como en otros lenguajes. \n",
    "# El conteo de índices inicia en 0\n",
    "\n",
    "#nombre del clienteA \n",
    "print(Agenda[0][0]) #Salida: Juan\n",
    "\n",
    "#Telefono del ClienteB \n",
    "print(Agenda[1][1]) #Salida: 345-746\n",
    "print(Agenda[0][1])\n"
   ]
  },
  {
   "cell_type": "code",
   "execution_count": 23,
   "id": "d7215351-f970-4d91-90e6-bcbc5640781e",
   "metadata": {},
   "outputs": [
    {
     "data": {
      "text/plain": [
       "21"
      ]
     },
     "execution_count": 23,
     "metadata": {},
     "output_type": "execute_result"
    }
   ],
   "source": [
    "def nested_sum(t):\n",
    "    \"\"\"Computes the total of all numbers in a list of lists.\n",
    "   \n",
    "    t: list of list of numbers\n",
    "    returns: number\n",
    "    \"\"\"\n",
    "    total = 0\n",
    "    for nested in t:\n",
    "        total += sum(nested)\n",
    "    return total\n",
    "\n",
    "t = [[1, 2], [3], [4, 5, 6]]\n",
    "nested_sum(t)"
   ]
  },
  {
   "cell_type": "code",
   "execution_count": null,
   "id": "33f1efa8-27ee-49e4-9b24-920b5baec7ac",
   "metadata": {},
   "outputs": [],
   "source": [
    "# Pizza toppings program\n",
    "# Function to show the list of toppings\n",
    "def showPizzaToppings(theList):\n",
    "    print()\n",
    "    if len(theList) == 0:\n",
    "        print('Your pizza has no toppings.')\n",
    "    else:\n",
    "        print('The toppings on your pizza are:')\n",
    "        print()\n",
    "        \n",
    "    for thisItem in theList:  # iterate through the list, print each item\n",
    "        print('   ' + thisItem)\n",
    "        print() # blank line\n",
    "    \n",
    "# main code\n",
    "print('Welcome to my Pizzeria, where you get to choose your toppings.')\n",
    "print('When prompted, enter the first letter or ' \n",
    "      'the full word of what you want to do.')\n",
    "print()\n",
    "print('---- Operations ----')\n",
    "print('a/add           Add a topping')\n",
    "print('c/change      Change a topping')\n",
    "print('o/order         Order the pizza')\n",
    "print('q/quit           Quit')\n",
    "print('r/remove       Remove a topping')\n",
    "print('s/startover    Start over')\n",
    "print()\n",
    "toppingsList = [ ]  # begin as an empty list\n",
    "while True:\n",
    "    print('What would you like to do?')\n",
    "    menuChoice = input('   add, change, order, quit, remove, startover: ')\n",
    "    if (menuChoice == 'a') or (menuChoice == 'add'):  # add a topping\n",
    "        newTopping = input('Type in a topping to add: ')\n",
    "        toppingsList.append(newTopping)  # append adds to the end of a list\n",
    "    \n",
    "    elif (menuChoice == 'c') or (menuChoice == 'change'):  # change a topping\n",
    "        oldTopping = input('What topping would you like to change: ')\n",
    "        if oldTopping in toppingsList:  # is it in the list\n",
    "            index = toppingsList.index(oldTopping)  # find out where \n",
    "                                                    # it's in list\n",
    "            newTopping = input('What is the new topping: ')\n",
    "            toppingsList[index] = newTopping   # set a new value at that index\n",
    "        else:\n",
    "            print(oldTopping, 'was not found.')\n",
    "    elif (menuChoice == 'o') or (menuChoice == 'order'):  # order the pizza \n",
    "                                                          # showPizzaToppings\n",
    "                                                          #(toppingsList)\n",
    "        print()\n",
    "        print('Thanks for your order!')\n",
    "        print()\n",
    "        another = input('Would you like to order another pizza (y/n) ? ')\n",
    "        if another == 'y':\n",
    "            toppingsList = [ ]  # reset to the empty list\n",
    "        else:\n",
    "            break\n",
    "    elif (menuChoice == 'q') or (menuChoice == 'quit'): # quit\n",
    "        break\n",
    "    \n",
    "    elif (menuChoice == 'r') or (menuChoice == 'remove'):  # remove a topping\n",
    "        delTopping = input('What topping would you like to remove: ')\n",
    "        \n",
    "        if delTopping in toppingsList:  # check to see if the topping is in our list\n",
    "            index = toppingsList.index(delTopping)  # find out where it is\n",
    "            toppingsList.pop(index)    # remove it             \n",
    "            # The code above only removes the first occurrence of the topping.\n",
    "        else:\n",
    "            print(delTopping, 'was not found')\n",
    "    elif (menuChoice == 's') or (menuChoice == 'startover'):  # reset to no toppings\n",
    "        print(\"OK, let's start over.\")\n",
    "        toppingsList = [ ]  # reset to the empty list\n",
    "    else:\n",
    "        print(\"Uh ... sorry, I'm not sure what you said, please try again.\")\n",
    "    \n",
    "showPizzaToppings(toppingsList)  # show the list of toppings on the pizza\n",
    "print()\n",
    "print('Goodbye')"
   ]
  },
  {
   "cell_type": "code",
   "execution_count": null,
   "id": "15f506bd-8935-4fbb-abe1-94f90efdef93",
   "metadata": {},
   "outputs": [],
   "source": [
    "x = ''\"M\", \"P\"''\n",
    "l = [7*x]\n"
   ]
  },
  {
   "cell_type": "code",
   "execution_count": null,
   "id": "7b1d67d3-30bd-4255-8955-37bc107b6bff",
   "metadata": {},
   "outputs": [],
   "source": [
    "print(l)"
   ]
  },
  {
   "cell_type": "code",
   "execution_count": null,
   "id": "52469dbb-e224-4160-95da-d44d31f12c82",
   "metadata": {},
   "outputs": [],
   "source": [
    "# M significa venta en kilos de melones, P venta en kilos de plátanos\n",
    "# quiere decir que ne la primera venta se vendió 4kg de melones, \n",
    "# en la segunda 2kg de melones, en la tercera 1kg de plátanos\n",
    "# y así sucesivamente\n",
    "# la idea es hallar la moda de los kilos vendidos de melones y platanos\n",
    "\n",
    "l = [\"M\", \"M\", \"P\", \"M\", \"P\", \"P\", \"P\", \"M\", \"M\", \"P\", \"M\", \"P\", \"M\", \"P\"]\n",
    "nl = [4, 2, 1, 3, 4, 4, 3, 2, 1, 2, 2, 3, 1, 3]\n",
    "MM = []   # kilos vendidos de melones\n",
    "MP = []   # Kilos vendidos de plátanos\n",
    "\n",
    "for i, tipo in enumerate(l):\n",
    "    if l[i] == \"M\":\n",
    "        MM.append(nl[i])\n",
    "    if l[i] == \"P\":\n",
    "        MP.append(nl[i])\n",
    "\n",
    "maxMM = max(MM)\n",
    "minMM = min(MM)\n",
    "\n",
    "maxMP = max(MP)\n",
    "minMP = min(MP)\n",
    "\n",
    "contaM = 0  # contador de cuantas veces aparece una determinada cantidad de kg\n",
    "for i in range(minMM, maxMM + 1):\n",
    "    x = MM.count(i) #cuenta cuantas veces aparece  cada cantidad de kg\n",
    "    if x > contaM:\n",
    "        contaM = x\n",
    "        modaM = i\n",
    "        \n",
    "        \n",
    "contaP = 0  # análogo al caso anterior\n",
    "for i in range(minMP, maxMP + 1):\n",
    "    x = MP.count(i)\n",
    "    if x > contaP:\n",
    "        contaP = x\n",
    "        modaP = i\n",
    "\n",
    "print(\"M\", MM)\n",
    "print(\"P\", MP)\n",
    "print(f\"Moda Melones = {modaM} se presentó {contaM} veces\")\n",
    "print(f\"Moda Plátanos = {modaP} se presentó {contaP} veces\")     \n"
   ]
  },
  {
   "cell_type": "code",
   "execution_count": null,
   "id": "134829c1-9cc2-4ca2-a96c-38409350978d",
   "metadata": {},
   "outputs": [],
   "source": [
    "x = [1, 2, 3, 4, 2, 5, 1, 6, 7, 8, 3, 2]\n",
    "print(x)\n",
    "x = set(x)\n",
    "print(x)\n",
    "x = list(x)\n",
    "print(x)"
   ]
  },
  {
   "cell_type": "code",
   "execution_count": null,
   "id": "40c40cc9-8b98-4d3b-aa06-972bbb43fc6a",
   "metadata": {},
   "outputs": [],
   "source": [
    "from collections import deque\n"
   ]
  },
  {
   "cell_type": "code",
   "execution_count": null,
   "id": "cffde6ad-9dd6-4f56-8a29-6e7fe2981341",
   "metadata": {},
   "outputs": [],
   "source": [
    "cola = deque([\"Hector\", \"Juan\", \"Miguel\"])\n",
    "print(cola)"
   ]
  },
  {
   "cell_type": "code",
   "execution_count": null,
   "id": "272b3199-2a44-4117-b672-4f42a9f415f6",
   "metadata": {},
   "outputs": [],
   "source": [
    "import sys \n",
    "print(sys.argv)\n",
    "texto = sys.argv[1]"
   ]
  },
  {
   "cell_type": "code",
   "execution_count": null,
   "id": "715cf4f3-009b-4b34-aaca-5f91cc923d25",
   "metadata": {},
   "outputs": [],
   "source": [
    "def mi_funcion(*chicos):\n",
    "    print(\"Los menores son \" + chicos[2])\n",
    "    \n",
    "# Acá se llama a la función mi_funcion()\n",
    "mi_funcion(\"Carla\", \"Mathias\", \"Fabiana\")"
   ]
  },
  {
   "cell_type": "code",
   "execution_count": null,
   "id": "a37f4937-5abe-409a-a468-5ff0c699f220",
   "metadata": {},
   "outputs": [],
   "source": [
    "def mi_funcion(**chicos):\n",
    "    print(\"El apellido de los menores son \" + chicos[\"apellido\"]\n",
    "          + \", \" + chicos[\"nombre\"])\n",
    "    \n",
    "mi_funcion(apellido=\"Rentería\", nombre=\"Carla\")"
   ]
  },
  {
   "cell_type": "code",
   "execution_count": null,
   "id": "eeb14891-611b-445e-bf45-d24f01b968db",
   "metadata": {},
   "outputs": [],
   "source": [
    "def mi_funcion(platos):\n",
    "    for x in platos:\n",
    "        print(x)\n",
    "        \n",
    "platos = [\"arroz con pollo\", \"cebiche\", \"ají de gallina\"]\n",
    "mi_funcion(platos)"
   ]
  },
  {
   "cell_type": "code",
   "execution_count": null,
   "id": "96de74d7-b5be-43ef-b44e-592118f43f54",
   "metadata": {},
   "outputs": [],
   "source": [
    "def print_hello():\n",
    "    print('Hello!') \n",
    "    \n",
    "print_hello() \n",
    "print('1234567') \n",
    "print_hello()"
   ]
  },
  {
   "cell_type": "code",
   "execution_count": null,
   "id": "0ce347da-3acb-4eb1-aff9-d59e89daae89",
   "metadata": {},
   "outputs": [],
   "source": [
    "def multiple_print(string, n):\n",
    "    print(string * n)\n",
    "    print() \n",
    "\n",
    "multiple_print('Hello', 5) \n",
    "multiple_print('A', 10)"
   ]
  },
  {
   "cell_type": "code",
   "execution_count": null,
   "id": "a33a5a43-1705-42e8-87bc-422324b4f6c7",
   "metadata": {},
   "outputs": [],
   "source": [
    "def func1(x):\n",
    "    x = x + 1 \n",
    "    return x\n",
    "\n",
    "def func2(L):\n",
    "    L = L + [1]\n",
    "    return L\n",
    "\n",
    "a=3 \n",
    "M=[1,2,3] \n",
    "func1(a)\n",
    "print(a)\n",
    "func2(M)\n",
    "print(M)"
   ]
  },
  {
   "cell_type": "code",
   "execution_count": null,
   "id": "7897a1fc-5517-481b-9800-997d1fe1c452",
   "metadata": {},
   "outputs": [],
   "source": [
    "suma = 0\n",
    "num = 24\n",
    "x = 1\n",
    "while x <= num:\n",
    "    print(x)\n",
    "    if x%2!=0:\n",
    "      x*=2 \n",
    "    else:\n",
    "      x+=3\n"
   ]
  },
  {
   "cell_type": "code",
   "execution_count": null,
   "id": "f7acf656-e0de-414b-b7ab-de9dc06f5b81",
   "metadata": {},
   "outputs": [],
   "source": [
    "t=\" nothing is impossible\"\n",
    "print(t[-3:]+ t[-6:-5]+ t[3:6])"
   ]
  },
  {
   "cell_type": "code",
   "execution_count": null,
   "id": "4c72c05c-7fdf-4eb8-b2b0-d15ebd4c97ed",
   "metadata": {},
   "outputs": [],
   "source": [
    "# Multiples condicones manera directa if\n",
    "\n",
    "import time\n",
    "inicio = time.time() \n",
    "\n",
    "nota = 18\n",
    "if nota < 13:\n",
    "    print(\"Desaprobado\", \"malo\")\n",
    "elif nota < 16:\n",
    "    print(\"aprobado\", \"regular\")\n",
    "elif nota < 18:\n",
    "    print(\"aprobado\", \"bueno\")\n",
    "elif nota < 20:\n",
    "    print(\"aprobado\", \"muy bueno\")\n",
    "else:\n",
    "    print(\"aprobado\", \"excelente\")\n",
    "\n",
    "fin = time.time()\n",
    "tiempoDirectoIf = fin-inicio\n",
    "print(fin-inicio)"
   ]
  },
  {
   "cell_type": "code",
   "execution_count": null,
   "id": "8309434e-e402-4688-a3c6-8fe75d9744c0",
   "metadata": {},
   "outputs": [],
   "source": [
    "# usando dicionarios para evaluar alternativas\n",
    "# usado compresión\n",
    "import time\n",
    "inicio = time.time() \n",
    "\n",
    "notasDicc = {\n",
    "    (x for x in range(0, 13)):[\"Desaprobado\", \"malo\"],\n",
    "    (x for x in range(13, 16)):[\"aprobado\", \"regular\"], \n",
    "    (x for x in range(16, 18)):[\"aprobado\", \"bueno\"],\n",
    "    (x for x in range(18, 20)):[\"aprobado\", \"muy bueno\"],\n",
    "    (20,):[\"aprobado\", \"excelente\"]\n",
    "}\n",
    "\n",
    "nota = 18\n",
    "for i, j in notasDicc.items():\n",
    "    if nota in i:\n",
    "        estado = j[0]\n",
    "        obser = j[1]\n",
    "        break\n",
    "\n",
    "print(estado, obser)\n",
    "fin = time.time()\n",
    "tiempoCompresion = fin-inicio\n",
    "print(fin-inicio)"
   ]
  },
  {
   "cell_type": "code",
   "execution_count": null,
   "id": "d61f067d-5247-4a18-a691-d7ce7954d53b",
   "metadata": {},
   "outputs": [],
   "source": [
    "# Usando formas directas para crear diccionarios\n",
    "\n",
    "import time\n",
    "inicio = time.time() \n",
    "\n",
    "notasDicc = {\n",
    "    (0, 1, 2, 3, 4, 5, 6, 7, 8, 9, 10, 11, 12):[\"Desaprobado\", \"malo\"],\n",
    "    (13, 14, 15):[\"aprobado\", \"regular\"], \n",
    "    (16, 17):[\"aprobado\", \"bueno\"],\n",
    "    (18, 19):[\"aprobado\", \"muy bueno\"],\n",
    "    (20,):[\"aprobado\", \"excelente\"]\n",
    "}\n",
    "\n",
    "nota = 18\n",
    "for i, j in notasDicc.items():\n",
    "    if nota in i:\n",
    "        estado = j[0]\n",
    "        obser = j[1]\n",
    "        break\n",
    "\n",
    "print(estado, obser)\n",
    "fin = time.time()\n",
    "tiempoDirectoDicc = fin-inicio\n",
    "print(fin-inicio)"
   ]
  },
  {
   "cell_type": "code",
   "execution_count": null,
   "id": "70ae58ca-6266-4a71-87a6-4d59269c71bb",
   "metadata": {},
   "outputs": [],
   "source": [
    "# Usando además funciones\n",
    "\n",
    "def califNota(nota):\n",
    "    for i, j in notasDicc.items():\n",
    "        if nota in i:\n",
    "            return j[0], j[1]\n",
    "    \n",
    "import time\n",
    "inicio = time.time() \n",
    "\n",
    "notasDicc = {\n",
    "    (0, 1, 2, 3, 4, 5, 6, 7, 8, 9, 10, 11, 12):[\"Desaprobado\", \"malo\"],\n",
    "    (13, 14, 15):[\"aprobado\", \"regular\"], \n",
    "    (16, 17):[\"aprobado\", \"bueno\"],\n",
    "    (18, 19):[\"aprobado\", \"muy bueno\"],\n",
    "    (20,):[\"aprobado\", \"excelente\"]\n",
    "}\n",
    "\n",
    "nota = 18\n",
    "estado, obvser = califNota(nota)\n",
    "\n",
    "print(estado, obvser)\n",
    "fin = time.time()\n",
    "tiempoConDef = fin-inicio\n",
    "print(fin-inicio)"
   ]
  },
  {
   "cell_type": "code",
   "execution_count": null,
   "id": "2a06bdbc-d06d-484e-9620-ea9052ef1500",
   "metadata": {},
   "outputs": [],
   "source": [
    "# con compresión\n",
    "# Usando además funciones\n",
    "\n",
    "def califNota(nota):\n",
    "    for i, j in notasDicc.items():\n",
    "        if nota in i:\n",
    "            return j[0], j[1]\n",
    "    \n",
    "import time\n",
    "inicio = time.time() \n",
    "\n",
    "notasDicc = {\n",
    "    (x for x in range(0, 13)):[\"Desaprobado\", \"malo\"],\n",
    "    (x for x in range(13, 16)):[\"aprobado\", \"regular\"], \n",
    "    (x for x in range(16, 18)):[\"aprobado\", \"bueno\"],\n",
    "    (x for x in range(18, 20)):[\"aprobado\", \"muy bueno\"],\n",
    "    (20,):[\"aprobado\", \"excelente\"]\n",
    "}\n",
    "\n",
    "nota = 18\n",
    "estado, obvser = califNota(nota)\n",
    "\n",
    "print(estado, obvser)\n",
    "fin = time.time()\n",
    "tiempoConCompDef = fin-inicio\n",
    "print(fin-inicio)"
   ]
  },
  {
   "cell_type": "code",
   "execution_count": null,
   "id": "0f9142ef-3e92-405f-bdcd-a5a8822e92f1",
   "metadata": {},
   "outputs": [],
   "source": [
    "print(tiempoDirectoIf)\n",
    "print(tiempoCompresion)\n",
    "print(tiempoDirectoDicc)\n",
    "print(tiempoConDef)\n",
    "print(tiempoConCompDef)"
   ]
  },
  {
   "cell_type": "code",
   "execution_count": null,
   "id": "34d176e2-55f4-42b9-b832-70f79f92470e",
   "metadata": {},
   "outputs": [],
   "source": [
    "# Tkinter\n",
    "\n",
    "import tkinter as tk\n",
    "\n",
    "raiz = tk.Tk()\n",
    "\n",
    "raiz.title(\"Ventana de pruebas\")\n",
    "\n",
    "raiz.geometry(\"650x350\")\n",
    "\n",
    "raiz.iconbitmap(\"knight.ico\")\n",
    "\n",
    "raiz.config(bg=\"light blue\")\n",
    "\n",
    "miFrame = tk.Frame()\n",
    "\n",
    "miFrame.pack(side=\"left\", anchor=\"n\")\n",
    "\n",
    "miFrame.config(bg=\"pale green\")\n",
    "\n",
    "miFrame.config(width=\"350\", height=\"175\")\n",
    "\n",
    "miFrame.config(bd=\"5\")\n",
    "\n",
    "miFrame.config(relief=\"groove\")\n",
    "\n",
    "raiz.mainloop()"
   ]
  },
  {
   "cell_type": "code",
   "execution_count": null,
   "id": "3ec49ad8-6092-406f-b9af-7d1ba94ada24",
   "metadata": {},
   "outputs": [],
   "source": [
    "sCli = input(\"Ingresar suministro (5 dígitos) \")\n",
    "if any([not str.isdigit(sCli), len(sCli) != 5]):\n",
    "    print(\"Suministro incorrecto\")\n",
    "else:\n",
    "     print(\"Suministro correcto\")\n",
    "        "
   ]
  },
  {
   "cell_type": "code",
   "execution_count": null,
   "id": "4fc46990-a335-411e-980b-041cad294cc4",
   "metadata": {},
   "outputs": [],
   "source": [
    "sCli = input(\"Ingresar suministro (5 dígitos) \")\n",
    "if any([not sCli.isdigit(), len(sCli) != 5]):\n",
    "    print(\"Suministro incorrecto\")\n",
    "else:\n",
    "     print(\"Suministro correcto\")\n",
    "        "
   ]
  },
  {
   "cell_type": "code",
   "execution_count": null,
   "id": "186a7894-b492-4bd4-90cb-f219af338db4",
   "metadata": {},
   "outputs": [],
   "source": [
    "nCli = input(\"Ingresar nombre del cliente \")\n",
    "if nCli.strip() != \"\" and not any(map(str.isdigit, nCli)):\n",
    "    print(\"Nombre correcto\")\n",
    "else:\n",
    "    print(\"Nombre no puede estar en blanco o contener números\")"
   ]
  },
  {
   "cell_type": "code",
   "execution_count": null,
   "id": "a85ee2bf-1fd0-4ade-963c-9c444eeb2545",
   "metadata": {},
   "outputs": [],
   "source": [
    "nCli = input(\"Ingresar nombre del cliente \")\n",
    "if any([nCli.strip() == \"\", any(map(str.isdigit, nCli))]):\n",
    "    print(\"Nombre incorrecto\")\n",
    "else:\n",
    "    print(\"Nombre correcto\")"
   ]
  },
  {
   "cell_type": "code",
   "execution_count": null,
   "id": "25a40cd6-5084-4556-b90d-5e4331a99019",
   "metadata": {},
   "outputs": [],
   "source": [
    "texto = \"12345\"\n",
    "if texto.isdigit:\n",
    "    print(\"ok\")"
   ]
  },
  {
   "cell_type": "code",
   "execution_count": null,
   "id": "701fda79-16a0-481b-a358-74d06673b381",
   "metadata": {},
   "outputs": [],
   "source": [
    "nCli = \"Jose1\"\n",
    "any(map(str.isdigit, nCli))"
   ]
  },
  {
   "cell_type": "code",
   "execution_count": null,
   "id": "36d231d0-8491-42c1-ad22-266d5f9fbdcc",
   "metadata": {},
   "outputs": [],
   "source": [
    "nCli = \"Jose1\"\n",
    "any(map(str.isdigit, nCli))"
   ]
  },
  {
   "cell_type": "code",
   "execution_count": null,
   "id": "bb2df848-a850-4dfb-9d33-fb8df551e8a0",
   "metadata": {},
   "outputs": [],
   "source": [
    "n = int(input(\"Ingrese el numero de filas: \"))\n",
    "m = int(input(\"Ingrese el numero de columnas: \"))\n",
    "A= []\n",
    "for i in range(n):\n",
    "    A.append( [0] * m )\n",
    "\n",
    "print(len(A[0]))\n",
    "print(A)"
   ]
  },
  {
   "cell_type": "code",
   "execution_count": null,
   "id": "2ca99044-f460-4942-926d-c7f5b739f2ab",
   "metadata": {},
   "outputs": [],
   "source": [
    "for i in range (n):\n",
    "    for j in range(m):\n",
    "        A[i][j] = float(input(\"Componente ({0},{1}):\".format(i, j)))\n",
    "print(A)"
   ]
  },
  {
   "cell_type": "code",
   "execution_count": null,
   "id": "c3c65795-bf93-4078-b7a4-6f9e524fe103",
   "metadata": {},
   "outputs": [],
   "source": [
    "while(True):\n",
    "    try:\n",
    "        n = float(input(\"Ingrese un numero \"))\n",
    "        m = 4\n",
    "        print(\"{}/{} = {}\".format(n, m, n/m))\n",
    "    except:\n",
    "        print(\"Ha ocurrido un error interno, introduce bien el número\")\n",
    "    else:\n",
    "        print(\"Todo ha funcionando correctamente\")\n",
    "        break\n",
    "    finally:\n",
    "        print(\"Fin de la iteración\")"
   ]
  },
  {
   "cell_type": "code",
   "execution_count": null,
   "id": "3e5ac67b-aab2-4b87-9b49-d66071d090f3",
   "metadata": {},
   "outputs": [],
   "source": [
    "f = 5524.53\n",
    "str(int(f)).isdigit()"
   ]
  },
  {
   "cell_type": "code",
   "execution_count": null,
   "id": "97156b76-2bd4-4e8b-aa4b-b28d32acc1c9",
   "metadata": {},
   "outputs": [],
   "source": [
    "import pandas as pd\n",
    "\n",
    "#s = r'\\Documentos\\UPC\\IN318-Base\\gapminder.csv'\n",
    "df = pd.read_csv('gapminder.csv', sep=';')\n",
    "\n",
    "print(df.head())"
   ]
  },
  {
   "cell_type": "code",
   "execution_count": null,
   "id": "94163795-ab67-44d4-aa8f-b97015d48773",
   "metadata": {},
   "outputs": [],
   "source": []
  }
 ],
 "metadata": {
  "kernelspec": {
   "display_name": "Python 3 (ipykernel)",
   "language": "python",
   "name": "python3"
  },
  "language_info": {
   "codemirror_mode": {
    "name": "ipython",
    "version": 3
   },
   "file_extension": ".py",
   "mimetype": "text/x-python",
   "name": "python",
   "nbconvert_exporter": "python",
   "pygments_lexer": "ipython3",
   "version": "3.10.2"
  }
 },
 "nbformat": 4,
 "nbformat_minor": 5
}
