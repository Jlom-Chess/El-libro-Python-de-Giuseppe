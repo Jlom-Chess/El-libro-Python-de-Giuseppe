{
 "cells": [
  {
   "cell_type": "markdown",
   "id": "01b8b4c8-b404-4b2f-b387-b54b2a9a2d1f",
   "metadata": {
    "id": "KI4WOK7_IVSe"
   },
   "source": [
    "## ***\"is\" vs \"==\"***\n",
    "\n",
    "> \"is\" las expresiones se evalúan como Verdadero si dos variables apuntan al mismo objeto\n",
    "\n",
    "> \"==\" se evalúa como Verdadero si los objetos a los que se refieren las variables son iguales"
   ]
  },
  {
   "cell_type": "code",
   "execution_count": 6,
   "id": "bd23ae15-df42-47bd-ac86-8d7d0cc7762d",
   "metadata": {
    "id": "l4LOvJI2IUTm"
   },
   "outputs": [
    {
     "name": "stdout",
     "output_type": "stream",
     "text": [
      "True\n",
      "True\n",
      "True\n",
      "False\n"
     ]
    }
   ],
   "source": [
    "a = [1, 2, 3]\n",
    "b = a\n",
    "print(a is b)\n",
    "print(a == b)\n",
    "\n",
    "c = list(a)\n",
    "print(a == c)\n",
    "print(a is c)"
   ]
  },
  {
   "cell_type": "code",
   "execution_count": 7,
   "id": "7ca4d79c-4670-42b0-8698-b2cf66bebc9f",
   "metadata": {},
   "outputs": [
    {
     "data": {
      "text/plain": [
       "True"
      ]
     },
     "execution_count": 7,
     "metadata": {},
     "output_type": "execute_result"
    }
   ],
   "source": [
    "p = 'hola'\n",
    "q = 'hola'\n",
    "p is q"
   ]
  },
  {
   "cell_type": "code",
   "execution_count": 7,
   "id": "aefe4f12-8692-4fc9-8bbc-0cdcc656d36d",
   "metadata": {},
   "outputs": [
    {
     "name": "stdout",
     "output_type": "stream",
     "text": [
      "False\n",
      "True\n"
     ]
    }
   ],
   "source": [
    "x = [1,2,3]\n",
    "y = [1,2,3]\n",
    "z = x\n",
    "print(x is y)\n",
    "print(x is z)"
   ]
  },
  {
   "cell_type": "code",
   "execution_count": 8,
   "id": "f5fae5cb-4457-483e-a6af-a1753993c1a5",
   "metadata": {},
   "outputs": [
    {
     "name": "stdout",
     "output_type": "stream",
     "text": [
      "True\n",
      "11 5\n",
      "False\n",
      "True\n"
     ]
    }
   ],
   "source": [
    "a = 5\n",
    "b = a\n",
    "print(a is b)\n",
    "a+=6\n",
    "print(a,b)\n",
    "print(a is b)\n",
    "b+=6\n",
    "print(a is b)"
   ]
  },
  {
   "cell_type": "code",
   "execution_count": 9,
   "id": "ae4974ab-dce9-402f-8c93-125af0eb5fcb",
   "metadata": {},
   "outputs": [
    {
     "name": "stdout",
     "output_type": "stream",
     "text": [
      "True\n",
      "False\n",
      "[1, 2, 3, 4, 5] [1, 2, 3, 4]\n"
     ]
    }
   ],
   "source": [
    "a = [1,2,3]\n",
    "b = a\n",
    "a += [4]  # Esto no es igual a\n",
    "print(a is b)\n",
    "a = a + [5]  # Esto \n",
    "print(a is b)\n",
    "print(a,b)"
   ]
  },
  {
   "cell_type": "code",
   "execution_count": 11,
   "id": "cdd0c7b5-c7ab-471a-9921-cab5b8bb9588",
   "metadata": {},
   "outputs": [
    {
     "name": "stdout",
     "output_type": "stream",
     "text": [
      "2166607882880\n",
      "[1, 2, 3, 4]\n",
      "2166607776704\n"
     ]
    }
   ],
   "source": [
    "a = [1, 2, 3]\n",
    "print(id(a))\n",
    "a = a + [4]\n",
    "print (a)\n",
    "print(id(a))"
   ]
  },
  {
   "cell_type": "code",
   "execution_count": 12,
   "id": "26b3fb3b-8055-4d27-8f8b-b423420de4ee",
   "metadata": {},
   "outputs": [
    {
     "name": "stdout",
     "output_type": "stream",
     "text": [
      "2166607834432\n",
      "[1, 2, 3, 4]\n",
      "2166607834432\n"
     ]
    }
   ],
   "source": [
    "a = [1, 2, 3]\n",
    "print(id(a))\n",
    "a += [4]\n",
    "print(a)\n",
    "print(id(a))"
   ]
  },
  {
   "cell_type": "markdown",
   "id": "213047ed-5faf-4e5d-bf30-364a782321b6",
   "metadata": {
    "id": "L4jbcmaULpAB"
   },
   "source": [
    "# ***Intercambio de valores***"
   ]
  },
  {
   "cell_type": "code",
   "execution_count": 1,
   "id": "910a4e96-0712-4750-8594-6f9604e28271",
   "metadata": {
    "colab": {
     "base_uri": "https://localhost:8080/"
    },
    "executionInfo": {
     "elapsed": 8,
     "status": "ok",
     "timestamp": 1631335815672,
     "user": {
      "displayName": "Jose Luis Ojeda",
      "photoUrl": "https://lh3.googleusercontent.com/a-/AOh14GioxvwskRaM2HjJwQ_L936mkRS1wMOHPWrqOWUffw=s64",
      "userId": "12240071782040482724"
     },
     "user_tz": 300
    },
    "id": "U3gE72xiLoAZ",
    "outputId": "29d3c109-78b1-44af-b410-db3963ae2146"
   },
   "outputs": [
    {
     "name": "stdout",
     "output_type": "stream",
     "text": [
      "23 42\n",
      "42 23\n"
     ]
    }
   ],
   "source": [
    "# Digamos que queremos intercambiar los valores de a y b\n",
    "a = 23\n",
    "b = 42\n",
    "print(a, b)\n",
    "# La forma clásica de hacerlo\n",
    "# con una variable temporal:\n",
    "tmp = a\n",
    "a = b\n",
    "b = tmp\n",
    "print(a, b)"
   ]
  },
  {
   "cell_type": "code",
   "execution_count": 3,
   "id": "736fcaa3-79c3-4542-8c89-fd61e412f5cd",
   "metadata": {
    "colab": {
     "base_uri": "https://localhost:8080/"
    },
    "executionInfo": {
     "elapsed": 269,
     "status": "ok",
     "timestamp": 1631335844245,
     "user": {
      "displayName": "Jose Luis Ojeda",
      "photoUrl": "https://lh3.googleusercontent.com/a-/AOh14GioxvwskRaM2HjJwQ_L936mkRS1wMOHPWrqOWUffw=s64",
      "userId": "12240071782040482724"
     },
     "user_tz": 300
    },
    "id": "qKK7zSoWMEaB",
    "outputId": "367b5095-e928-4f25-d645-7a91e016eb81"
   },
   "outputs": [
    {
     "name": "stdout",
     "output_type": "stream",
     "text": [
      "23 42\n",
      "42 23\n"
     ]
    }
   ],
   "source": [
    "# Python también nos permite # usa esta abreviatura:\n",
    "a = 23\n",
    "b = 42\n",
    "print(a, b)\n",
    "a, b = b, a\n",
    "print(a, b)"
   ]
  },
  {
   "cell_type": "markdown",
   "id": "dee3c529-bab0-49be-89ed-f13da9efc1c1",
   "metadata": {},
   "source": [
    "## ***Una forma de calcular la moda***"
   ]
  },
  {
   "cell_type": "code",
   "execution_count": null,
   "id": "52227964-5259-46b5-8184-57c25e743814",
   "metadata": {
    "colab": {
     "base_uri": "https://localhost:8080/"
    },
    "executionInfo": {
     "elapsed": 267,
     "status": "ok",
     "timestamp": 1632248794483,
     "user": {
      "displayName": "Jose Luis Ojeda",
      "photoUrl": "https://lh3.googleusercontent.com/a-/AOh14GioxvwskRaM2HjJwQ_L936mkRS1wMOHPWrqOWUffw=s64",
      "userId": "12240071782040482724"
     },
     "user_tz": 300
    },
    "id": "o1uLGBsXbsfx",
    "outputId": "2d35b361-4917-422e-802e-199a86baaf5c"
   },
   "outputs": [],
   "source": [
    "# en la lista l \"M\" significa venta de melones, \"P\" venta de plátanos\n",
    "# La lista correspondiente nl tiene los kg vendidos\n",
    "# quiere decir que en la primera venta se vendió 4kg de melones, \n",
    "# en la segunda 2kg de melones, en la tercera 1kg de plátanos\n",
    "# y así sucesivamente\n",
    "# la idea es hallar la moda de los kilos vendidos de melones y platanos\n",
    "\n",
    "l = [\"M\", \"M\", \"P\", \"M\", \"P\", \"P\", \"P\", \"M\", \"M\", \"P\", \"M\", \"P\", \"M\", \"P\", \"P\"]\n",
    "nl = [4, 2, 1, 3, 4, 4, 3, 2, 1, 2, 2, 3, 1, 3, 3]\n",
    "MM = []   # kilos vendidos de melones\n",
    "MP = []   # Kilos vendidos de plátanos\n",
    "\n",
    "for i, tipo in enumerate(l):\n",
    "    if l[i] == \"M\":\n",
    "        MM.append(nl[i])\n",
    "    if l[i] == \"P\":\n",
    "        MP.append(nl[i])\n",
    "\n",
    "maxMM = max(MM)\n",
    "minMM = min(MM)\n",
    "\n",
    "maxMP = max(MP)\n",
    "minMP = min(MP)\n",
    "\n",
    "contaM = 0  # contador de cuantas veces aparece una determinada cantidad de kg\n",
    "for i in range(minMM, maxMM + 1):\n",
    "    x = MM.count(i) # cuenta cuantas veces aparece cada cantidad de kg\n",
    "    if x > contaM:\n",
    "        contaM = x\n",
    "        modaM = i\n",
    "        \n",
    "        \n",
    "contaP = 0  # análogo al caso anterior\n",
    "for i in range(minMP, maxMP + 1):\n",
    "    x = MP.count(i)\n",
    "    if x > contaP:\n",
    "        contaP = x\n",
    "        modaP = i\n",
    "\n",
    "print(\"M\", MM)\n",
    "print(\"P\", MP)\n",
    "print(f\"Moda Melones = {modaM} se presentó {contaM} veces\")\n",
    "print(f\"Moda Plátanos = {modaP} se presentó {contaP} veces\")     \n"
   ]
  },
  {
   "cell_type": "code",
   "execution_count": 1,
   "id": "ec49ab63-02f1-4a80-9cb0-b312022bb47f",
   "metadata": {
    "colab": {
     "base_uri": "https://localhost:8080/"
    },
    "executionInfo": {
     "elapsed": 375,
     "status": "ok",
     "timestamp": 1631670640198,
     "user": {
      "displayName": "Norman Estuardo Reyes Morales",
      "photoUrl": "https://lh3.googleusercontent.com/a/default-user=s64",
      "userId": "18273577649580515371"
     },
     "user_tz": 300
    },
    "id": "PxZGiWfoHTc-",
    "outputId": "1501f1e5-5c5e-48b6-acb1-2a54fbb6ef31"
   },
   "outputs": [
    {
     "name": "stdout",
     "output_type": "stream",
     "text": [
      "12.75 2\n",
      "13.2 1\n",
      "15.1 2\n",
      "16.2 1\n",
      "17.0 3\n"
     ]
    }
   ],
   "source": [
    "nota=[15.1,16.2,17.0,13.2,12.75,17.0,12.75,15.1,17.0]\n",
    "def Cal_moda(notas):\n",
    "  notas_unicas=list(set(notas))\n",
    "  notas_unicas.sort()\n",
    "  frec_notas=[]\n",
    "  for i in notas_unicas:      #busco las frecuencias para las notas unicas\n",
    "    frec_notas.append(nota.count(i))\n",
    "  for i,notita in enumerate(notas_unicas):\n",
    "    print(notita, frec_notas[i])\n",
    "Cal_moda(nota)\n"
   ]
  },
  {
   "cell_type": "markdown",
   "id": "693fb6f8-7bd6-4e4d-8995-9985ee3fc3dd",
   "metadata": {},
   "source": [
    "## ***Pandas desde listas***"
   ]
  },
  {
   "cell_type": "code",
   "execution_count": 1,
   "id": "9152cdb0-46da-4aaa-a9a5-549363391894",
   "metadata": {},
   "outputs": [
    {
     "name": "stdout",
     "output_type": "stream",
     "text": [
      "             nombre             correo                curso   nota  veces\n",
      "0        Juan Pérez   Jperez@gmail.com     Calculo Integral  13.75      1\n",
      "1  Francisco Quiroz  Fquiroz@gmail.com  Calculo Diferencial  18.50      2\n",
      "2     Enrique Panta   Epanta@gmail.com    Calculo Vectorial  17.20      1\n"
     ]
    }
   ],
   "source": [
    "import pandas as pd\n",
    "df = pd.DataFrame(([\"Juan Pérez\", \"Jperez@gmail.com\", \n",
    "                    \"Calculo Integral\", 13.75, 1],\n",
    "                   [\"Francisco Quiroz\", \"Fquiroz@gmail.com\", \n",
    "                    \"Calculo Diferencial\", 18.5, 2],\n",
    "                   [\"Enrique Panta\", \"Epanta@gmail.com\", \n",
    "                    \"Calculo Vectorial\", 17.2, 1]),\n",
    "                  columns=[\"nombre\", \"correo\", \"curso\", \"nota\", \"veces\"])\n",
    "print(df)"
   ]
  },
  {
   "cell_type": "markdown",
   "id": "83a6fb8e-310a-4345-98e0-0b921eab0628",
   "metadata": {},
   "source": [
    "## ***Versión de biblioteca***"
   ]
  },
  {
   "cell_type": "code",
   "execution_count": 3,
   "id": "1781a6d9-e13d-4e7d-a8cd-6824598ac506",
   "metadata": {},
   "outputs": [
    {
     "name": "stdout",
     "output_type": "stream",
     "text": [
      "3.5.0\n",
      "1.21.4\n"
     ]
    }
   ],
   "source": [
    "import matplotlib\n",
    "import numpy\n",
    "print(matplotlib.__version__)\n",
    "print(numpy.__version__)"
   ]
  },
  {
   "cell_type": "markdown",
   "id": "d50e2580-2ac4-406c-b270-eb909d013092",
   "metadata": {},
   "source": [
    "## ***Tamaño máximo de números en la Python***"
   ]
  },
  {
   "cell_type": "code",
   "execution_count": 2,
   "id": "f9981156-c7ee-4a25-bc96-819f8aed9b77",
   "metadata": {},
   "outputs": [
    {
     "name": "stdout",
     "output_type": "stream",
     "text": [
      "9223372036854775807\n"
     ]
    }
   ],
   "source": [
    "import sys\n",
    "print(sys.maxsize)"
   ]
  },
  {
   "cell_type": "code",
   "execution_count": 1,
   "id": "cc212ea2-eb51-40da-b454-e5775a62a438",
   "metadata": {},
   "outputs": [
    {
     "name": "stdout",
     "output_type": "stream",
     "text": [
      "Float value information:  sys.float_info(max=1.7976931348623157e+308, max_exp=1024, max_10_exp=308, min=2.2250738585072014e-308, min_exp=-1021, min_10_exp=-307, dig=15, mant_dig=53, epsilon=2.220446049250313e-16, radix=2, rounds=1)\n",
      "\n",
      "Integer value information:  sys.int_info(bits_per_digit=30, sizeof_digit=4)\n",
      "\n",
      "Maximum size of an integer:  9223372036854775807\n"
     ]
    }
   ],
   "source": [
    "import sys\n",
    "print(\"Float value information: \",sys.float_info)\n",
    "print(\"\\nInteger value information: \",sys.int_info)\n",
    "print(\"\\nMaximum size of an integer: \",sys.maxsize)"
   ]
  },
  {
   "cell_type": "code",
   "execution_count": 2,
   "id": "003e2cda-eacf-488e-b5f5-2ac6a5826a54",
   "metadata": {},
   "outputs": [
    {
     "name": "stdout",
     "output_type": "stream",
     "text": [
      "2.2250738585072014e-308\n",
      "1.7976931348623157e+308\n"
     ]
    }
   ],
   "source": [
    "import sys\n",
    "print(sys.float_info.min) #2.2250738585072014e-308\n",
    "print(sys.float_info.max) #1.7976931348623157e+308"
   ]
  },
  {
   "cell_type": "markdown",
   "id": "56e1b174-a0d4-401b-ba0f-f3add00e638b",
   "metadata": {},
   "source": [
    "## ***Tips en 'input'***"
   ]
  },
  {
   "cell_type": "code",
   "execution_count": 5,
   "id": "8f9b48ae-335c-4c95-b6fe-971ed4aa0da2",
   "metadata": {},
   "outputs": [
    {
     "name": "stdin",
     "output_type": "stream",
     "text": [
      "Ingrese la catidad de metros 15\n"
     ]
    },
    {
     "name": "stdout",
     "output_type": "stream",
     "text": [
      "15.0\n"
     ]
    }
   ],
   "source": [
    "x = float(input(\"Ingrese la catidad de metros\"))\n",
    "print(x)"
   ]
  },
  {
   "cell_type": "code",
   "execution_count": 4,
   "id": "c764e9ff-b23e-4ba6-8598-b0e37c366039",
   "metadata": {},
   "outputs": [
    {
     "name": "stdin",
     "output_type": "stream",
     "text": [
      "Ingrese la unidad de medida metros\n"
     ]
    },
    {
     "name": "stdout",
     "output_type": "stream",
     "text": [
      "METROS\n"
     ]
    }
   ],
   "source": [
    "y = input(\"Ingrese la unidad de medida\").upper()\n",
    "#y = y.upper()\n",
    "print(y)"
   ]
  },
  {
   "cell_type": "code",
   "execution_count": 3,
   "id": "bce9df45-a7cb-439f-bc1a-ffb61eb7f137",
   "metadata": {},
   "outputs": [
    {
     "name": "stdin",
     "output_type": "stream",
     "text": [
      "Enter a list:  12,13,2,55\n"
     ]
    },
    {
     "name": "stdout",
     "output_type": "stream",
     "text": [
      "The first element is  12\n",
      "(12, 13, 2, 55)\n"
     ]
    }
   ],
   "source": [
    "L = eval(input('Enter a list: ')) # Aquí el tema es eval\n",
    "print('The first element is ', L[0])\n",
    "print(L)"
   ]
  },
  {
   "cell_type": "markdown",
   "id": "6456fc0a-8c19-4209-90f8-6984e2dc5e78",
   "metadata": {},
   "source": [
    "## *** If...else... en modo abreviado***"
   ]
  },
  {
   "cell_type": "code",
   "execution_count": 14,
   "id": "43edbdac-d2ac-4f47-a175-a14924bda364",
   "metadata": {},
   "outputs": [
    {
     "name": "stdout",
     "output_type": "stream",
     "text": [
      "b es mayor que a\n"
     ]
    }
   ],
   "source": [
    "a=42\n",
    "b=200\n",
    "if b > a:    print(\"b es mayor que a\")"
   ]
  },
  {
   "cell_type": "code",
   "execution_count": 15,
   "id": "929ba800-35bd-4a08-8959-7edb9ce88519",
   "metadata": {},
   "outputs": [
    {
     "name": "stdout",
     "output_type": "stream",
     "text": [
      "B\n"
     ]
    }
   ],
   "source": [
    "a=2\n",
    "b=330\n",
    "print(\"A\") if a > b else print(\"B\")"
   ]
  },
  {
   "cell_type": "code",
   "execution_count": 9,
   "id": "d6c3f6bd-e14e-4b37-894d-9c29201d3bac",
   "metadata": {},
   "outputs": [
    {
     "name": "stdout",
     "output_type": "stream",
     "text": [
      "A\n"
     ]
    }
   ],
   "source": [
    "# If .. elif … else sentencia corta (en una línea)\n",
    "# Esta técnica se conoce como operadores ternarios o expresiones condicionales. \n",
    "a=335\n",
    "b=330\n",
    "print(\"A\") if a > b else print(\"=\") if a == b else print(\"B\")\n"
   ]
  },
  {
   "cell_type": "markdown",
   "id": "ace1370b-91c4-412c-89c3-95f8c2414798",
   "metadata": {},
   "source": [
    "## ***Sentencia continue***"
   ]
  },
  {
   "cell_type": "code",
   "execution_count": 16,
   "id": "81ac6f1d-efee-46db-80b8-f246d2177292",
   "metadata": {},
   "outputs": [
    {
     "name": "stdout",
     "output_type": "stream",
     "text": [
      "1\n",
      "2\n",
      "4\n",
      "5\n",
      "6\n"
     ]
    }
   ],
   "source": [
    "i = 0\n",
    "while i < 6: \n",
    "    i += 1\n",
    "    if i == 3: \n",
    "        continue\n",
    "    print(i)"
   ]
  },
  {
   "cell_type": "code",
   "execution_count": 10,
   "id": "e9e78c6d-6b9c-4d61-9af3-b369ecaf8105",
   "metadata": {},
   "outputs": [
    {
     "name": "stdout",
     "output_type": "stream",
     "text": [
      "apple\n",
      "cherry\n"
     ]
    }
   ],
   "source": [
    "fruits = [\"apple\", \"banana\", \"cherry\"] \n",
    "for x in fruits:\n",
    "    if x == \"banana\":\n",
    "        continue \n",
    "    print(x)"
   ]
  },
  {
   "cell_type": "code",
   "execution_count": 21,
   "id": "cba41510-6a80-4d77-bf75-f0dd31847a08",
   "metadata": {},
   "outputs": [
    {
     "name": "stdout",
     "output_type": "stream",
     "text": [
      "-1.0\n"
     ]
    }
   ],
   "source": [
    "L1=[1,3,5,7]\n",
    "L2=[2,4,6,8]\n",
    "s=i=0\n",
    "for i,x in enumerate(L1):\n",
    "  if i==3:\n",
    "     continue  \n",
    "  elif i!=2: \n",
    "     s+=x*L2[i]\n",
    "  else:\n",
    "     s-=x*L2[i] / 2\n",
    "print(s)\n"
   ]
  }
 ],
 "metadata": {
  "kernelspec": {
   "display_name": "Python 3 (ipykernel)",
   "language": "python",
   "name": "python3"
  },
  "language_info": {
   "codemirror_mode": {
    "name": "ipython",
    "version": 3
   },
   "file_extension": ".py",
   "mimetype": "text/x-python",
   "name": "python",
   "nbconvert_exporter": "python",
   "pygments_lexer": "ipython3",
   "version": "3.10.2"
  }
 },
 "nbformat": 4,
 "nbformat_minor": 5
}
