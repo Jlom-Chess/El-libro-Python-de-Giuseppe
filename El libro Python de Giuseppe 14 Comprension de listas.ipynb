{
 "cells": [
  {
   "cell_type": "markdown",
   "id": "d35a5587-6fe3-47db-8f91-38f488799c63",
   "metadata": {},
   "source": [
    "# **Comprensión de listas y otras colecciones**"
   ]
  },
  {
   "cell_type": "markdown",
   "id": "c7fc3f55-6acd-4750-ae02-5ac57927b405",
   "metadata": {},
   "source": [
    "### ***Listas***"
   ]
  },
  {
   "cell_type": "markdown",
   "id": "63bd0589-64b6-4905-8181-144b9cb6c035",
   "metadata": {},
   "source": [
    "La comprensión de listas en Python es un método sintáctico para crear listas (y por extensión también otras colecciones que veremos más abajo) a partir de los elementos de otras listas (o colecciones) de una forma rápida de escribir, muy legible y funcionalmente eficiente.\n",
    "\n",
    "Consideremos la siguiente lista de lenguajes:"
   ]
  },
  {
   "cell_type": "code",
   "execution_count": 3,
   "id": "80b2050b-ecb2-4ec9-a1a5-96a928d466b3",
   "metadata": {},
   "outputs": [
    {
     "name": "stdout",
     "output_type": "stream",
     "text": [
      "['Python', 'C', 'C++', 'Java']\n"
     ]
    }
   ],
   "source": [
    "languages = [\"python\", \"c\", \"c++\", \"java\"]\n",
    "cap_languages = []\n",
    "for language in languages:\n",
    "    cap_languages.append(language.capitalize())\n",
    "    \n",
    "print(cap_languages)"
   ]
  },
  {
   "cell_type": "markdown",
   "id": "5b772ec5-5c09-4b68-befc-9842dcd8b89f",
   "metadata": {},
   "source": [
    "Usando comprensión de listas"
   ]
  },
  {
   "cell_type": "code",
   "execution_count": 5,
   "id": "90ac53d6-07fc-417a-ba7b-c248323a3aeb",
   "metadata": {},
   "outputs": [
    {
     "name": "stdout",
     "output_type": "stream",
     "text": [
      "['Python', 'C', 'C++', 'Java']\n"
     ]
    }
   ],
   "source": [
    "cap_languages = [language.capitalize() for language in languages]\n",
    "print(cap_languages)"
   ]
  },
  {
   "cell_type": "markdown",
   "id": "5bdf5af4-bc40-48e8-84ae-fb6cd32f9bee",
   "metadata": {},
   "source": [
    "Lo interesante del método de compresión es que, como decíamos al principio, se escribe más rápido y se lee mejor. Por otra parte, a través de este método podríamos incluso haber trabajado sobre la misma lista, sin necesidad de duplicar la información."
   ]
  },
  {
   "cell_type": "code",
   "execution_count": 6,
   "id": "803ed5bf-052d-4dd6-b35a-a274540a3cb1",
   "metadata": {},
   "outputs": [
    {
     "name": "stdout",
     "output_type": "stream",
     "text": [
      "['python', 'c', 'c++', 'java']\n",
      "['Python', 'C', 'C++', 'Java']\n"
     ]
    }
   ],
   "source": [
    "languages = [\"python\", \"c\", \"c++\", \"java\"]\n",
    "print(languages)\n",
    "languages = [language.capitalize() for language in languages]\n",
    "print(languages)\n"
   ]
  },
  {
   "cell_type": "markdown",
   "id": "38158319-72ad-4cfc-b0bf-f77788e6488d",
   "metadata": {},
   "source": [
    "Por contraste en métodos habituales, sería más complejo"
   ]
  },
  {
   "cell_type": "code",
   "execution_count": 8,
   "id": "2e727432-e262-475b-8c17-74d9c20ce897",
   "metadata": {},
   "outputs": [
    {
     "name": "stdout",
     "output_type": "stream",
     "text": [
      "['Python', 'C', 'C++', 'Java']\n"
     ]
    }
   ],
   "source": [
    "languages = [\"python\", \"c\", \"c++\", \"java\"]\n",
    "for language in languages[::]:\n",
    "    languages.append(language.capitalize())\n",
    "    del languages[0]\n",
    "    \n",
    "print(languages)\n"
   ]
  },
  {
   "cell_type": "markdown",
   "id": "a99651a7-90df-49b6-92ea-f61060bb23e2",
   "metadata": {},
   "source": [
    "Veamos otro ejemplo. Consderemos esta lista de números:"
   ]
  },
  {
   "cell_type": "code",
   "execution_count": 9,
   "id": "b05a2b45-c952-40a3-bb08-fe42c3256773",
   "metadata": {},
   "outputs": [
    {
     "name": "stdout",
     "output_type": "stream",
     "text": [
      "[2, 4, 6, 8, 10]\n"
     ]
    }
   ],
   "source": [
    "numbers = [1, 2, 3, 4, 5]\n",
    "doubled_numbers = [n * 2 for n in numbers]\n",
    "print(doubled_numbers)\n"
   ]
  },
  {
   "cell_type": "markdown",
   "id": "cb105b88-741b-43f9-aa2d-2d136419cb4b",
   "metadata": {},
   "source": [
    "En estos dos ejemplos trabajados todos los elementos de la lista primigenia aparecen de algún modo transformados en la nueva lista que generamos: en el primer caso se modificaba la primera letra de la cadena para que fuese mayúscula; en este segundo, se multiplica el número por dos. Ahora bien, si queremos indicar que los elementos deben incluirse en la nueva lista en función de una condición, podemos agregar ─justamente─ un condicional. Por ejemplo, el siguiente código crea una lista con números del 1 al 100 que sean múltiplos de 5."
   ]
  },
  {
   "cell_type": "code",
   "execution_count": 10,
   "id": "0eba135c-0d69-421c-9df6-fc450443399b",
   "metadata": {},
   "outputs": [
    {
     "name": "stdout",
     "output_type": "stream",
     "text": [
      "[5, 10, 15, 20, 25, 30, 35, 40, 45, 50, 55, 60, 65, 70, 75, 80, 85, 90, 95, 100]\n"
     ]
    }
   ],
   "source": [
    "multiples = [n for n in range(1, 101) if n % 5 == 0]\n",
    "print(multiples)\n"
   ]
  },
  {
   "cell_type": "markdown",
   "id": "fe98f46e-73cf-40e7-85f7-6291bd49c243",
   "metadata": {},
   "source": [
    "Este código es funcionalmente igual al siguiente:"
   ]
  },
  {
   "cell_type": "code",
   "execution_count": 11,
   "id": "7313f344-fa41-4887-a3e6-171f39d2773b",
   "metadata": {},
   "outputs": [
    {
     "name": "stdout",
     "output_type": "stream",
     "text": [
      "[5, 10, 15, 20, 25, 30, 35, 40, 45, 50, 55, 60, 65, 70, 75, 80, 85, 90, 95, 100]\n"
     ]
    }
   ],
   "source": [
    "multiples = []\n",
    "for n in range(1, 101):\n",
    "    if n % 5 == 0:\n",
    "        multiples.append(n)\n",
    "        \n",
    "print(multiples)\n"
   ]
  },
  {
   "cell_type": "markdown",
   "id": "3c190d26-7696-4854-9297-0ea5e8224845",
   "metadata": {},
   "source": [
    " También se obtiene el mismo resultado aplicando la función incorporada filter():"
   ]
  },
  {
   "cell_type": "code",
   "execution_count": 12,
   "id": "dcd390d0-472d-4d20-898d-12c3e0c1cadb",
   "metadata": {},
   "outputs": [
    {
     "name": "stdout",
     "output_type": "stream",
     "text": [
      "[5, 10, 15, 20, 25, 30, 35, 40, 45, 50, 55, 60, 65, 70, 75, 80, 85, 90, 95, 100]\n"
     ]
    }
   ],
   "source": [
    "multiples = list(filter(lambda n: n % 5 == 0, range(1, 101)))\n",
    "print(multiples)\n"
   ]
  },
  {
   "cell_type": "markdown",
   "id": "398394be-269b-4b6f-b26c-b418dd17e564",
   "metadata": {},
   "source": [
    "Creo que hay consenso en que la comprensión de listas es mucho más elocuente en casos de estas características.\n",
    "\n",
    "En función de estos tres ejemplos de comprensión de listas vamos a generalizar su sintaxis del siguiente modo:\n",
    "\n",
    "#### ***[expresion for variable in colección if condición]***"
   ]
  },
  {
   "cell_type": "markdown",
   "id": "065b248a-f5f2-48b1-b548-8193009710f4",
   "metadata": {},
   "source": [
    "A menudo la expresión (es decir, aquello que terminará inserto en la lista resultante) es igual a la variable (como vimos en el último ejemplo), y la condición es opcional. La colección puede ser una lista o cualquier otro objeto iterable (esto es, cualquier cosa sobre lo que podamos aplicar un bucle «for»).\n",
    "\n",
    "A través de la comprensión de listas también podemos expresar de forma compacta un conjunto de bucles anidados. \n",
    "\n",
    "ejemplo, el siguiente código crea una lista points que contiene (en forma de tuplas de dos elementos) la posición de todos los puntos bidimencionales entre las coordenadas (0, 0) y (5, 10)."
   ]
  },
  {
   "cell_type": "code",
   "execution_count": 13,
   "id": "1ec4e188-8470-4396-be52-36e8f77a59b9",
   "metadata": {},
   "outputs": [
    {
     "name": "stdout",
     "output_type": "stream",
     "text": [
      "[(0, 0), (0, 1), (0, 2), (0, 3), (0, 4), (0, 5), (0, 6), (0, 7), (0, 8), (0, 9), (0, 10), (1, 0), (1, 1), (1, 2), (1, 3), (1, 4), (1, 5), (1, 6), (1, 7), (1, 8), (1, 9), (1, 10), (2, 0), (2, 1), (2, 2), (2, 3), (2, 4), (2, 5), (2, 6), (2, 7), (2, 8), (2, 9), (2, 10), (3, 0), (3, 1), (3, 2), (3, 3), (3, 4), (3, 5), (3, 6), (3, 7), (3, 8), (3, 9), (3, 10), (4, 0), (4, 1), (4, 2), (4, 3), (4, 4), (4, 5), (4, 6), (4, 7), (4, 8), (4, 9), (4, 10), (5, 0), (5, 1), (5, 2), (5, 3), (5, 4), (5, 5), (5, 6), (5, 7), (5, 8), (5, 9), (5, 10)]\n"
     ]
    }
   ],
   "source": [
    "points = []\n",
    "for x in range(0, 5 + 1):\n",
    "    for y in range(0, 10 + 1):\n",
    "        points.append((x, y))\n",
    "        \n",
    "print(points)"
   ]
  },
  {
   "cell_type": "markdown",
   "id": "5358b05d-3869-43f3-adbb-0c29f2f8f832",
   "metadata": {},
   "source": [
    "¿Cómo traducimos esto usando el nuevo método? Sencillamente así:"
   ]
  },
  {
   "cell_type": "code",
   "execution_count": 14,
   "id": "23ae9ef4-c378-494b-bf57-95a379f574ab",
   "metadata": {},
   "outputs": [
    {
     "name": "stdout",
     "output_type": "stream",
     "text": [
      "[(0, 0), (1, 0), (2, 0), (3, 0), (4, 0), (5, 0), (6, 0), (7, 0), (8, 0), (9, 0), (10, 0), (0, 1), (1, 1), (2, 1), (3, 1), (4, 1), (5, 1), (6, 1), (7, 1), (8, 1), (9, 1), (10, 1), (0, 2), (1, 2), (2, 2), (3, 2), (4, 2), (5, 2), (6, 2), (7, 2), (8, 2), (9, 2), (10, 2), (0, 3), (1, 3), (2, 3), (3, 3), (4, 3), (5, 3), (6, 3), (7, 3), (8, 3), (9, 3), (10, 3), (0, 4), (1, 4), (2, 4), (3, 4), (4, 4), (5, 4), (6, 4), (7, 4), (8, 4), (9, 4), (10, 4), (0, 5), (1, 5), (2, 5), (3, 5), (4, 5), (5, 5), (6, 5), (7, 5), (8, 5), (9, 5), (10, 5)]\n"
     ]
    }
   ],
   "source": [
    "points = [(x, y) for y in range(0, 5 + 1) for x in range(0, 10 + 1)]\n",
    "print(points)"
   ]
  },
  {
   "cell_type": "markdown",
   "id": "ea8c0e94-dacd-4d71-ae41-8c49f06ccd3a",
   "metadata": {},
   "source": [
    "### ***Otras colecciones***"
   ]
  },
  {
   "cell_type": "markdown",
   "id": "51c083ff-7512-4522-ac3a-3b631e4566fe",
   "metadata": {},
   "source": [
    "Esto que acabamos de decir se aplica por extensión a otras colecciones. Por ejemplo, podemos crear un diccionario de la misma forma, pero en este caso utilizamos llaves en lugar de corchetes."
   ]
  },
  {
   "cell_type": "code",
   "execution_count": 15,
   "id": "91556a6b-d111-47e2-b034-cfa31772558c",
   "metadata": {},
   "outputs": [
    {
     "name": "stdout",
     "output_type": "stream",
     "text": [
      "{1: 2, 2: 4, 3: 6, 4: 8, 5: 10, 6: 12, 7: 14, 8: 16, 9: 18, 10: 20}\n"
     ]
    }
   ],
   "source": [
    "doubles = {n: n * 2 for n in range(1, 11)}\n",
    "print(doubles)"
   ]
  },
  {
   "cell_type": "markdown",
   "id": "94f1e6a6-e4c9-4f07-af51-0cbb8ab866ea",
   "metadata": {},
   "source": [
    "La sintaxis para la comprensión de diccionarios es muy similar:\n",
    "\n",
    "#### ***{clave: valor for variable in coleccion if condicion}***"
   ]
  },
  {
   "cell_type": "markdown",
   "id": "868cb04e-94b8-440d-8098-b62d2e817d9a",
   "metadata": {},
   "source": [
    "Algo casi idéntico sintácticamente es la comprensión de conjuntos (sets), que también se realiza con llaves pero prescindiendo de los dos puntos."
   ]
  },
  {
   "cell_type": "code",
   "execution_count": 16,
   "id": "11c0b164-3953-4e29-9044-47abe9214b60",
   "metadata": {},
   "outputs": [
    {
     "name": "stdout",
     "output_type": "stream",
     "text": [
      "{2, 4, 6, 8, 10, 12, 14, 16, 18, 20}\n"
     ]
    }
   ],
   "source": [
    "# ¡Esto crea un conjunto, no un diccionario!\n",
    "doubles = {n * 2 for n in range(1, 11)}\n",
    "print(doubles)"
   ]
  },
  {
   "cell_type": "markdown",
   "id": "b7c6cb30-a47e-4ab4-9913-0425a917a9c1",
   "metadata": {},
   "source": [
    "Por último, una de las cosas más interesantes de esta técnica es la comprensión de generadores. \n",
    "\n",
    "Se trata de colecciones cuyos elementos se crean a medida que se recorren en un bucle «for» (o bien a medida que son pasados como argumento a la función incorporada next()). \n",
    "\n",
    "La sintaxis para ello es usando paréntesis:"
   ]
  },
  {
   "cell_type": "code",
   "execution_count": 20,
   "id": "6a88ceaf-e057-4caa-ab9e-ed21f130e324",
   "metadata": {},
   "outputs": [],
   "source": [
    "doubles = (n * 2 for n in range(1, 1000000000000000000))"
   ]
  },
  {
   "cell_type": "code",
   "execution_count": 19,
   "id": "a90d24a8-34c8-4128-84e5-d2188d9e2293",
   "metadata": {},
   "outputs": [],
   "source": [
    "def get_doubles():\n",
    "    for n in range(1, 1000000000000000000):\n",
    "        yield n * 2\n",
    "doubles = get_doubles()\n",
    "\n"
   ]
  },
  {
   "cell_type": "markdown",
   "id": "89f12b8c-6d43-43f6-9e27-5b231316c478",
   "metadata": {},
   "source": [
    "Dado que los paréntesis se usan para esa situación en particular (en lugar de los corchetes o las llaves), si queremos generar una tupla usando el método de comprensión lo debemos indicar específicamente así:"
   ]
  },
  {
   "cell_type": "code",
   "execution_count": 22,
   "id": "3705afcd-313a-4b9b-bb42-fe379b994b80",
   "metadata": {},
   "outputs": [
    {
     "name": "stdout",
     "output_type": "stream",
     "text": [
      "[2, 4, 6, 8, 10, 12, 14, 16, 18, 20]\n"
     ]
    }
   ],
   "source": [
    "doubles = list((n * 2 for n in range(1, 11)))\n",
    "print(doubles)"
   ]
  },
  {
   "cell_type": "code",
   "execution_count": 17,
   "id": "8678ffff-2d4a-455f-9475-6013cf182fa8",
   "metadata": {},
   "outputs": [
    {
     "name": "stdout",
     "output_type": "stream",
     "text": [
      "(2, 4, 6, 8, 10, 12, 14, 16, 18, 20)\n"
     ]
    }
   ],
   "source": [
    "doubles = tuple(n * 2 for n in range(1, 11))\n",
    "print(doubles)"
   ]
  }
 ],
 "metadata": {
  "kernelspec": {
   "display_name": "Python 3 (ipykernel)",
   "language": "python",
   "name": "python3"
  },
  "language_info": {
   "codemirror_mode": {
    "name": "ipython",
    "version": 3
   },
   "file_extension": ".py",
   "mimetype": "text/x-python",
   "name": "python",
   "nbconvert_exporter": "python",
   "pygments_lexer": "ipython3",
   "version": "3.10.0"
  }
 },
 "nbformat": 4,
 "nbformat_minor": 5
}
