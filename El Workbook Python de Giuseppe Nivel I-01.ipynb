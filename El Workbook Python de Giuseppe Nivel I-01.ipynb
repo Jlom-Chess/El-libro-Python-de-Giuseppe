{
 "cells": [
  {
   "cell_type": "markdown",
   "id": "24149a8e-7c70-4ee3-af7f-1dbf05f92d5a",
   "metadata": {},
   "source": [
    "# **Guía laboratorio y Casos propuestos**"
   ]
  },
  {
   "cell_type": "markdown",
   "id": "0c532d4f-9c86-43cb-86af-53a123a942b0",
   "metadata": {},
   "source": [
    "### **1. ¿Qué resultado se tiene de ejecutar estas tres líneas?**\n",
    "\n",
    "• X = 10\n",
    "\n",
    "• X = x * 10 \n",
    "\n",
    "• X o print x\n"
   ]
  },
  {
   "cell_type": "markdown",
   "id": "9f78636d-b085-476b-b0c2-abefcbb07d21",
   "metadata": {},
   "source": [
    "Así tal cual da error por:\n",
    "* X es diferente que x\n",
    "* x no está definida\n",
    "* print usa paréntesis desde la versión 3 de Python"
   ]
  },
  {
   "cell_type": "code",
   "execution_count": null,
   "id": "89f0b568-3883-4279-a73b-5fd7b8ac518e",
   "metadata": {},
   "outputs": [],
   "source": [
    "# Esta es una versión correcta\n",
    "x = 10\n",
    "X = x * 10\n",
    "print(X)"
   ]
  },
  {
   "cell_type": "markdown",
   "id": "801efea4-969f-44f2-87e1-1f6631eea2a3",
   "metadata": {},
   "source": [
    "### **2. Evalúe el polinomio x^4 + x^3 + 2x^2 -x + 11. Utilice variables para ingresar varios valores de x.**"
   ]
  },
  {
   "cell_type": "code",
   "execution_count": null,
   "id": "f148950d-3bd2-4593-82c5-1aeae154d236",
   "metadata": {},
   "outputs": [],
   "source": [
    "x = 2\n",
    "print(x**4 + x**3 + 2*x**2 - x + 11)"
   ]
  },
  {
   "cell_type": "code",
   "execution_count": null,
   "id": "7c271b71-65b8-49a1-896c-9e48cb147dd2",
   "metadata": {},
   "outputs": [],
   "source": [
    "x = 5\n",
    "print(x**4 + x**3 + 2*x**2 - x + 11)"
   ]
  },
  {
   "cell_type": "markdown",
   "id": "7aff691d-7d60-4dcd-9ff4-249e0ee547f8",
   "metadata": {},
   "source": [
    "### **3.Evalúe el polinomio 13x^3 + 1/2x^2 -x + 3. Utilice variables para ingresar varios valores de x y evalúe en x=10.**"
   ]
  },
  {
   "cell_type": "code",
   "execution_count": null,
   "id": "e0f5f2e3-a5bd-463e-8ae3-40ea710481a8",
   "metadata": {},
   "outputs": [],
   "source": [
    "x = 10\n",
    "print(13 * x ** 3 + (1 / 2) * x ** 2 - x +3)"
   ]
  },
  {
   "cell_type": "markdown",
   "id": "3de16547-eef0-4d8d-bd23-57f3b510553a",
   "metadata": {},
   "source": [
    "### **4. Elabore un programa que permita realizar las equivalencias de millas, pies y pulgadas a metros. Solicite el ingreso de la cantidad y la unidad de medida, luego devolver el valor en metros. Considere que: 1milla = 1609.334 m, 1 pie = 0.3048 m y 1 pulgada = 0.025 m.**\n"
   ]
  },
  {
   "cell_type": "markdown",
   "id": "068d79c9-751e-49cd-9917-810937746c96",
   "metadata": {},
   "source": [
    "#### **Alternativa 1: sin input**"
   ]
  },
  {
   "cell_type": "code",
   "execution_count": null,
   "id": "5652520b-dd23-45d5-b49b-f9c4cc3726d6",
   "metadata": {},
   "outputs": [],
   "source": [
    "cantidad = 30\n",
    "unidadMedida = \"M\"\n",
    "\n",
    "if unidadMedida == \"M\":\n",
    "    metros = round(cantidad * 1609.334,3)\n",
    "    unidad = \"Millas\"\n",
    "elif unidadMedida == \"F\":\n",
    "    metros = round(cantidad * 0.3048,3)\n",
    "    unidad = \"Pies\"\n",
    "else:\n",
    "    metros = round(cantidad * 0.025,3)\n",
    "    unidad = \"Pulgadas\"\n",
    "    \n",
    "resultado = \"Se ingresaron {0} {1} equivalentes a {2} metros\"\n",
    "print(resultado.format(cantidad, unidad, metros))"
   ]
  },
  {
   "cell_type": "markdown",
   "id": "1489df57-3852-4ea8-a914-e1d36ee461d4",
   "metadata": {},
   "source": [
    "### **Alternativa 2: con input y while**"
   ]
  },
  {
   "cell_type": "code",
   "execution_count": null,
   "id": "fe4b2013-e61a-4657-ab3a-c2f9cbb8f7fa",
   "metadata": {},
   "outputs": [],
   "source": [
    "while True:\n",
    "    while True:\n",
    "        cantidad = float(input(\"\\nIngrese la cantidad\"))\n",
    "        if cantidad > 0:\n",
    "            break\n",
    "        else:\n",
    "            print(\"La cantidad tiene que ser mayor a cero\")\n",
    "\n",
    "    while True:\n",
    "        unidadMedida = input(\"Ingrese la unidad de medida M(Milla), F(Pie), I(Pulgada)\").upper()\n",
    "        if unidadMedida == 'M' or unidadMedida == 'F' or unidadMedida == 'I':\n",
    "            break\n",
    "        else:\n",
    "            print(\"Los valores permitidos son: M, F o I, inténtelo nuevamente\")\n",
    "        \n",
    "    if unidadMedida == \"M\":\n",
    "        metros = round(cantidad * 1609.334,3)\n",
    "        unidad = \"Millas\"\n",
    "    elif unidadMedida == \"F\":\n",
    "        metros = round(cantidad * 0.3048,3)\n",
    "        unidad = \"Pies\"\n",
    "    else:\n",
    "        metros = round(cantidad * 0.025,3)\n",
    "        unidad = \"Pulgadas\"\n",
    "      \n",
    "    resultado = \"Se ingresaron {0} {1} equivalentes a {2} metros\"\n",
    "    print(resultado.format(cantidad, unidad, metros))\n",
    "    \n",
    "    respuesta = input(\"\\nIngrese \\'S\\' si quiere continuar\").upper()\n",
    "    if respuesta == \"N\":\n",
    "        break\n",
    "    \n",
    "    "
   ]
  },
  {
   "cell_type": "markdown",
   "id": "c5477922-0a96-43b5-9d3f-bfb2c2e57519",
   "metadata": {},
   "source": [
    "### **5. Elabore un programa aplicando las reglas matemáticas de asociatividad, y decidir cuales de las siguientes expresiones son iguales entre sí:**\n",
    "\n",
    "a. ((b * b) - (4 * a * c)) / (2 * a) \n",
    "\n",
    "b. (b * b - 4 * a * c) / (2 * a)\n",
    "\n",
    "c. b * b - 4 * a * c / 2 * a\n",
    "\n",
    "d. (b * b) - (4 * a * c / 2 * a) \n",
    "\n",
    "e. 1 / 2 * b\n",
    "\n",
    "f. b / 2.\n"
   ]
  },
  {
   "cell_type": "code",
   "execution_count": null,
   "id": "6ae3fbcb-575e-47b2-bc39-4c73bd783bf3",
   "metadata": {},
   "outputs": [],
   "source": [
    "a=1\n",
    "b=1\n",
    "c=1\n",
    "\n",
    "u = ((b*b)-(4*a*c))/(2*a)\n",
    "v = (b*b-4*a*c)/(2*a)\n",
    "w = b*b-4*a*c/2*a\n",
    "x = (b*b)-(4*a*c/2*a)\n",
    "y = 1/2*b\n",
    "z = b/2\n",
    "\n",
    "resultado = \"u={0}    v={1}   w={2}   x={3}   y={4}   z={5}\"\n",
    "print(resultado.format(u,v,w,x,y,z))"
   ]
  },
  {
   "cell_type": "markdown",
   "id": "363484c9-3638-4966-85ec-2c529bee181e",
   "metadata": {},
   "source": [
    "### **6. Del ejercicio 5, haga lo siguiente en el intérprete: Dénle a, b y c los valores 10, 100, 1000 respectivamente y evalúen las expresiones del ejercicio anterior.**"
   ]
  },
  {
   "cell_type": "code",
   "execution_count": null,
   "id": "e064153b-6499-4934-b889-86eacdfda6fb",
   "metadata": {},
   "outputs": [],
   "source": [
    "a=10\n",
    "b=100\n",
    "c=1000\n",
    "\n",
    "u = ((b*b)-(4*a*c))/(2*a)\n",
    "v = (b*b-4*a*c)/(2*a)\n",
    "w = b*b-4*a*c/2*a\n",
    "x = (b*b)-(4*a*c/2*a)\n",
    "y = 1/2*b\n",
    "z = b/2\n",
    "\n",
    "resultado = \"u={0}    v={1}   w={2}   x={3}   y={4}   z={5}\"\n",
    "print(resultado.format(u,v,w,x,y,z))"
   ]
  },
  {
   "cell_type": "markdown",
   "id": "66e9db47-b00a-4f4a-a549-c21970119f89",
   "metadata": {},
   "source": [
    "### **7. Del ejercicio 5, haga lo siguiente en el intérprete: Dénle a, b y c los valores 10.0, 100.0, 1000.0 respectivamente y evalúen las expresiones del ejercicio 5 y compare con los resultados del ejercicio 6.**"
   ]
  },
  {
   "cell_type": "code",
   "execution_count": null,
   "id": "4358ecee-eb0f-48db-aaaf-9b3e9e5af7ba",
   "metadata": {},
   "outputs": [],
   "source": [
    "a=10.0\n",
    "b=100.0\n",
    "c=1000.0\n",
    "\n",
    "u = ((b*b)-(4*a*c))/(2*a)\n",
    "v = (b*b-4*a*c)/(2*a)\n",
    "w = b*b-4*a*c/2*a\n",
    "x = (b*b)-(4*a*c/2*a)\n",
    "y = 1/2*b\n",
    "z = b/2\n",
    "\n",
    "resultado = \"u={0}    v={1}   w={2}   x={3}   y={4}   z={5}\"\n",
    "print(resultado.format(u,v,w,x,y,z))"
   ]
  },
  {
   "cell_type": "markdown",
   "id": "5915e873-9477-4e8b-9e44-f6d6e637c188",
   "metadata": {},
   "source": [
    "### **8. Ingrese 5 números reales y calcule su media, desviación estándar y redondeada a 1 decimal, la suma de cuadrados y la media geométrica.**"
   ]
  },
  {
   "cell_type": "markdown",
   "id": "8afb248a-ed61-44a3-ae78-da43b012856e",
   "metadata": {},
   "source": [
    "#### ***Alternativa 1: básica***"
   ]
  },
  {
   "cell_type": "code",
   "execution_count": null,
   "id": "52b5f7c2-e072-41da-a430-ea164922344d",
   "metadata": {},
   "outputs": [],
   "source": [
    "a=10\n",
    "b=20\n",
    "c=30\n",
    "d=40\n",
    "e=50\n",
    "\n",
    "media = (a+b+c+d+e)/5  \n",
    "desv_est = ((((a-media)**2)+((b-media)**2)+((c-media)**2)+((d-media)**2)+((e-media)**2))/4)**0.5\n",
    "suma_cuad = a**2 + b**2 + c**2 + d**2 + e**2\n",
    "media_geo = (a*b*c*d*e)**0.2\n",
    "\n",
    "resultado = \"Media = {0}   Desviación estándar = {1}    Suma de cuadrados = {2}    Media geométrica = {3}\"\n",
    "print(resultado.format(media, round(desv_est,1), suma_cuad, round(media_geo,1)))"
   ]
  },
  {
   "cell_type": "markdown",
   "id": "2830286f-ce77-4c37-b99e-2b4d24e20307",
   "metadata": {},
   "source": [
    "#### ***Alternativa 2: con input, for y otras técnicas de control de flujos***"
   ]
  },
  {
   "cell_type": "code",
   "execution_count": null,
   "id": "5032f614-acc1-4fed-ba19-3d263406dcd3",
   "metadata": {},
   "outputs": [],
   "source": [
    "numeros = []\n",
    "for i in range(5):\n",
    "    x = float(input(\"ingrese números reales\"))\n",
    "    numeros.append(x)\n",
    "\n",
    "print(\"Lista de números ingresados\", numeros)\n",
    "promedio = sum(numeros)/len(numeros)\n",
    "s2 = 0\n",
    "sumaCuadrados = 0\n",
    "productos = 1\n",
    "for i in range(len(numeros)):\n",
    "    s2 += (numeros[i]-promedio)**2\n",
    "    sumaCuadrados += numeros[i]**2\n",
    "    productos *= numeros[i]\n",
    "                            \n",
    "desv =(s2/(len(numeros)-1))**(1/2)\n",
    "mediaGeometrica = productos**(1/len(numeros))\n",
    "\n",
    "print(\"Promedio:\", promedio)\n",
    "print(\"Desviación estándar:\", desv)\n",
    "print(\"Suma de cuadrados:\", sumaCuadrados)\n",
    "print(\"Media geométrica:\", mediaGeometrica)\n",
    "                            "
   ]
  },
  {
   "cell_type": "markdown",
   "id": "17fa49ed-0212-4e29-926a-1369de40f683",
   "metadata": {},
   "source": [
    "### **9. Escriba un programa pida la cantidad de segundos y devuelva en horas, minutos y segundos correspondientes.**"
   ]
  },
  {
   "cell_type": "markdown",
   "id": "798113b2-5fca-4627-b2f2-cf75fc34833c",
   "metadata": {},
   "source": [
    "#### ***Alternativa 1: básica***"
   ]
  },
  {
   "cell_type": "code",
   "execution_count": null,
   "id": "aa2ae630-61eb-4840-a7bd-d41c93a987ae",
   "metadata": {},
   "outputs": [],
   "source": [
    "x=10000 #Cantidad de segundos ingresados\n",
    "\n",
    "horas = x//3600\n",
    "min = (x%3600)//60\n",
    "seg = (x%3600)%60\n",
    "\n",
    "resultado = \"{0} segundos son equivalentes a: {1} horas, {2} minutos y {3} segundos.\"\n",
    "print(resultado.format(x, horas, min, seg))"
   ]
  },
  {
   "cell_type": "markdown",
   "id": "52c31127-2a1a-474f-a9ef-38f7bfe54a3f",
   "metadata": {
    "id": "I0djjS-U5Vtr"
   },
   "source": [
    "### ***Alternativa 2***\n",
    "Con input y while"
   ]
  },
  {
   "cell_type": "code",
   "execution_count": null,
   "id": "c0101c36-e642-462a-9daa-cc44e6c59d11",
   "metadata": {
    "colab": {
     "base_uri": "https://localhost:8080/"
    },
    "executionInfo": {
     "elapsed": 15443,
     "status": "ok",
     "timestamp": 1631467178226,
     "user": {
      "displayName": "Jose Luis Ojeda",
      "photoUrl": "https://lh3.googleusercontent.com/a-/AOh14GioxvwskRaM2HjJwQ_L936mkRS1wMOHPWrqOWUffw=s64",
      "userId": "12240071782040482724"
     },
     "user_tz": 300
    },
    "id": "GILi3DEs5cKh",
    "outputId": "407ccd32-9663-4546-de51-c8ae6ab5f2de"
   },
   "outputs": [],
   "source": [
    "while True:\n",
    "    while True:\n",
    "        cantidad = int(input(\"ingrese la cantidad en segundos \"))\n",
    "        if cantidad > 0:\n",
    "            break\n",
    "        else:\n",
    "            print(\"Ingrese una cantidad de segundos mayor a cero\")\n",
    "    \n",
    "    horas = cantidad // 3600\n",
    "    min = (cantidad % 3600) // 60\n",
    "    seg = (cantidad % 3600) % 60\n",
    "\n",
    "    resultado = f\"{cantidad} segundos son equivalentes a: {horas} horas, \"\\\n",
    "                f\"{min} minutos y {seg} segundos.\"\n",
    "    print(resultado)\n",
    "\n",
    "    respuesta = input(\"\\nIngrese \\'S\\' si quiere continuar \").upper()\n",
    "    if respuesta != \"S\":\n",
    "        break\n"
   ]
  },
  {
   "cell_type": "markdown",
   "id": "655f69f5-830b-42c4-bf28-d6757150de3e",
   "metadata": {
    "id": "D_uR0LGREo-j"
   },
   "source": [
    "### **10. Escriba un programa que pida una temperatura en grados Fahrenheit y que escriba esa temperatura en grados Celsius. Se recuerda que la relación entre grados Celsius (C) y grados Fahrenheit (F) es la siguiente: C = (F - 32) / 1,8**"
   ]
  },
  {
   "cell_type": "code",
   "execution_count": null,
   "id": "2ec10b5d-ec85-4fec-b8ef-20c7827929ef",
   "metadata": {
    "colab": {
     "base_uri": "https://localhost:8080/"
    },
    "id": "4m_yIPtSEtHk",
    "outputId": "15509c64-e0c2-40d2-d613-51cc897a99b6"
   },
   "outputs": [],
   "source": [
    "F=356\n",
    "\n",
    "C = (F-32)/1.8\n",
    "\n",
    "resultado = \"Se ingresaron {0} °F, equivalentes a {1} °C.\"\n",
    "print(resultado.format(F,C))"
   ]
  },
  {
   "cell_type": "markdown",
   "id": "cdfe23bf-b7d0-4098-8253-350a049999c5",
   "metadata": {
    "id": "ebkC6fofPUCN"
   },
   "source": [
    "### **11. Evalúa estas expresiones y sentencias en el mismo orden en el que aparecen e indica lo que muestra el intérprete de Python como respuesta.**\n",
    "\n",
    "a. a = ‘b’\n",
    "\n",
    "b. a + ‘b’\n",
    "\n",
    "c. a + ‘a’\n",
    "\n",
    "d. a+2 + ‘b’*3\n",
    "\n",
    "e. 2*(a + ‘b’)\n",
    "\n",
    "f. 2*(‘a’ + ‘b’)"
   ]
  },
  {
   "cell_type": "code",
   "execution_count": null,
   "id": "8267279d-c0e6-4c73-8ac8-64dd20313107",
   "metadata": {
    "colab": {
     "base_uri": "https://localhost:8080/"
    },
    "id": "DZ39AD9RPY4c",
    "outputId": "d0f3e54e-c3ad-4131-a557-e5d7ef169e72"
   },
   "outputs": [],
   "source": [
    "u = a='b'\n",
    "v = a+'b'\n",
    "w = a+'a'\n",
    "x = a+'2' + 'b'*3 #Cambio\n",
    "y = 2*(a+'b')\n",
    "z = 2*('a'+'b')\n",
    "\n",
    "resultado = \"u={0}    v={1}   w={2}   x={3}   y={4}   z={5}\"\n",
    "print(resultado.format(u,v,w,x,y,z))"
   ]
  },
  {
   "cell_type": "code",
   "execution_count": null,
   "id": "00188ace-ee69-44da-b578-93b1282bc4f8",
   "metadata": {
    "colab": {
     "base_uri": "https://localhost:8080/"
    },
    "executionInfo": {
     "elapsed": 310,
     "status": "ok",
     "timestamp": 1631467941260,
     "user": {
      "displayName": "Jose Luis Ojeda",
      "photoUrl": "https://lh3.googleusercontent.com/a-/AOh14GioxvwskRaM2HjJwQ_L936mkRS1wMOHPWrqOWUffw=s64",
      "userId": "12240071782040482724"
     },
     "user_tz": 300
    },
    "id": "K2B2GyWRDS_O",
    "outputId": "2f5a8dad-55ec-489f-f3fe-1e61750388a1"
   },
   "outputs": [],
   "source": [
    "a = 'b'\n",
    "print(a)\n",
    "print(a + 'b')\n",
    "print(a + 'a')\n",
    "print(2*(a+'b'))\n",
    "print(2*('a' + 'b'))"
   ]
  },
  {
   "cell_type": "markdown",
   "id": "92f1d7e3-86b1-480b-b54b-b8663950a0cc",
   "metadata": {
    "id": "qGfVXFF3V-kE"
   },
   "source": [
    "### **12. ¿Qué resultados se obtendrán al evaluar las siguientes expresiones y asignaciones Python? Calcula primero a mano el valor resultante de cada expresión y comprueba, con la ayuda del ordenador, si tu resultado es correcto.**\n",
    "\n",
    "a. ‘a’*3 + ‘/*’*5 + 2*’abc’ + ‘+’\n",
    "\n",
    "b. Cadena1 = ‘abcba’\n",
    "\n",
    "c. (4*’<’ + cadena1 + ‘>’*4)*2\n",
    "\n",
    "d. Subcadena = ‘=’ + ‘-‘*3 + ‘=’\n",
    "\n",
    "e. ‘10’*5 + 4*subcadena\n",
    "\n",
    "f. 2* ‘12’ + ‘.’ + ‘3’*3 + ‘e-‘ + 4 *’76’"
   ]
  },
  {
   "cell_type": "code",
   "execution_count": null,
   "id": "2f4291c0-9ed2-4ba8-975a-ae0cf4373a82",
   "metadata": {
    "colab": {
     "base_uri": "https://localhost:8080/"
    },
    "id": "37VY2bOkWCQc",
    "outputId": "0b540269-0d3f-4d4c-fcd2-91cb53cfad3d"
   },
   "outputs": [],
   "source": [
    "u = 'a'*3 + '/*'*5 + 2*'abc' + '+'\n",
    "v = Cadena1 = 'abcba'\n",
    "w = (4*'<' + 'cadena1' + '>'*4)*2 #Cambio\n",
    "x = Subcadena = '=' + '-'*3 + '='\n",
    "y = '10'*5 + 4*'subcadena' #Cambio\n",
    "z = 2*'12' + '.' + '3'*3 + 'e-' + 4*'76'\n",
    "\n",
    "resultado = \"u={0}    v={1}   w={2}   x={3}   y={4}   z={5}\"\n",
    "print(resultado.format(u,v,w,x,y,z))"
   ]
  },
  {
   "cell_type": "markdown",
   "id": "73b0b5fd-b513-4ea7-8b52-65d36d275078",
   "metadata": {
    "id": "KXTDU_rdUA-k"
   },
   "source": [
    "### **13. Evalúe las siguientes expresiones:**\n",
    "\n",
    "a. abs(-23) % int(7.3)\n",
    "\n",
    "b. abs(round(-34.2766, 1))\n",
    "\n",
    "c. str(float(str(2) * 3 + ‘.123’)) + ‘321’"
   ]
  },
  {
   "cell_type": "code",
   "execution_count": null,
   "id": "b117a339-f69e-4cee-8fdc-f31190d0ad4a",
   "metadata": {
    "colab": {
     "base_uri": "https://localhost:8080/"
    },
    "id": "suokMqpGUHtr",
    "outputId": "f60fb052-4063-4e89-fef3-3bb1856f32a0"
   },
   "outputs": [],
   "source": [
    "a = abs(-23)%int(7.3)\n",
    "b = abs(round(-34.2766, 1))\n",
    "c = str(float(str(2) * 3 + '.123')) + '321'\n",
    "\n",
    "resultado = \"a={0}    b={1}   c={2}\"\n",
    "print(resultado.format(a,b,c))"
   ]
  },
  {
   "cell_type": "markdown",
   "id": "111e42c6-00fa-4a6e-b26c-c28bd621acd5",
   "metadata": {
    "id": "1lunO-xlTEke"
   },
   "source": [
    "### **14. Convierte (en una única expresión) a una cadena el resultado de la división 5011 / 10000 redondeado con 3 decimales.**"
   ]
  },
  {
   "cell_type": "code",
   "execution_count": null,
   "id": "fee461eb-7f45-4d5c-8b6a-6ec2205fe29a",
   "metadata": {
    "colab": {
     "base_uri": "https://localhost:8080/"
    },
    "id": "gNE8LvUZTLDd",
    "outputId": "caa77f0d-8081-440f-f537-e76a8a0e54ab"
   },
   "outputs": [],
   "source": [
    "x = str(round((5011/10000),3))\n",
    "\n",
    "print(x)"
   ]
  },
  {
   "cell_type": "code",
   "execution_count": null,
   "id": "b4dc9490-0ceb-4256-bfc4-a1e99bc52416",
   "metadata": {
    "colab": {
     "base_uri": "https://localhost:8080/"
    },
    "executionInfo": {
     "elapsed": 255,
     "status": "ok",
     "timestamp": 1631468901204,
     "user": {
      "displayName": "Jose Luis Ojeda",
      "photoUrl": "https://lh3.googleusercontent.com/a-/AOh14GioxvwskRaM2HjJwQ_L936mkRS1wMOHPWrqOWUffw=s64",
      "userId": "12240071782040482724"
     },
     "user_tz": 300
    },
    "id": "QI-hMhJTH2c-",
    "outputId": "e3073a5a-b578-408f-bbd7-1e46af897955"
   },
   "outputs": [],
   "source": [
    "print(str(round((5011/10000),3)))\n"
   ]
  },
  {
   "cell_type": "markdown",
   "id": "565abfb7-1ed2-4ff3-9776-de83c7a77525",
   "metadata": {
    "id": "I4olMULOSW-c"
   },
   "source": [
    "### **15. ¿Que resulta de evaluar estas expresiones?**\n",
    "\n",
    "a. str(2.1) + str(1.2)\n",
    "\n",
    "b. int(str(2) + str(3))\n",
    "\n",
    "c. str(int(12.3)) + ‘0’\n",
    "\n",
    "d. int(‘2’+’3’)\n",
    "\n",
    "e. str(int(2.1) + float(3))"
   ]
  },
  {
   "cell_type": "code",
   "execution_count": null,
   "id": "36461f07-b94f-4b3c-8073-5a288eeb62a7",
   "metadata": {
    "colab": {
     "base_uri": "https://localhost:8080/"
    },
    "id": "5m-P2DB5SiTj",
    "outputId": "c52c2228-449c-4364-a198-6531d35d4822"
   },
   "outputs": [],
   "source": [
    "a = str(2.1) + str(1.2)\n",
    "b = int(str(2) + str(3))\n",
    "c = str(int(12.3)) + '0'\n",
    "d = int('2'+'3')\n",
    "e = str(int(2.1) + float(3))\n",
    "\n",
    "resultado = \"a={0}    b={1}   c={2}   d={3}   e={4}\"\n",
    "print(resultado.format(a,b,c,d,e))"
   ]
  },
  {
   "cell_type": "markdown",
   "id": "7fe9acdd-894e-4b90-9f1e-0fbc5c621f57",
   "metadata": {
    "id": "FR1RQJ04D_FA"
   },
   "source": [
    "### **16.\tEscriba un programa que pida tres números y que escriba si son los tres iguales, si hay dos iguales o si son los tres distintos.**\n"
   ]
  },
  {
   "cell_type": "code",
   "execution_count": null,
   "id": "b6091347-35cc-4da8-a55a-e79dfc4fdf61",
   "metadata": {
    "colab": {
     "base_uri": "https://localhost:8080/"
    },
    "id": "fQLiCJelHNbK",
    "outputId": "39457a8c-2a74-481f-83ce-19a3f13dfeb8"
   },
   "outputs": [],
   "source": [
    "# Datos\n",
    "a= 7\n",
    "b= 10\n",
    "c= 5\n",
    "\n",
    "# Proceso\n",
    "if a==b and a == c:\n",
    "   print (\"A y B y C son iguales\")\n",
    "else:\n",
    "  if a == b:\n",
    "    print (\"A y B son iguales \")\n",
    "  elif a == c:\n",
    "    print (\"A y C son iguales \")\n",
    "  elif b == c:\n",
    "      print (\"B y C son iguales\")\n",
    "  else:\n",
    "    print (\"A, B y C son diferentes\")\n",
    "\n",
    "# Fin del ejercicio    "
   ]
  },
  {
   "cell_type": "markdown",
   "id": "40f601e8-9501-458d-82e4-0a5520d42bf9",
   "metadata": {
    "id": "RX13od3WEDfd"
   },
   "source": [
    "### **17. Escriba un programa que pregunte primero si se quiere calcular el área de un triángulo o la de un círculo o la de un cuadrado.** \n",
    "\n",
    "* Si se contesta que se quiere calcular el área de un triángulo (escribiendo T o t), el programa tiene que pedir entonces la base y la altura y escribir el área. \n",
    "\n",
    "- Si se contesta que se quiere calcular el área de un círculo (escribiendo C o c), el programa tiene que pedir entonces el radio y escribir el área. \n",
    "\n",
    "- Si se contesta que se quiere calcular el área del cuadrado (escribiendo L o l), el programa tiene que pedir el lado. \n",
    "\n",
    "\n",
    "Se recuerda que el área de un triángulo es base por altura dividido por 2 y que el área de un círculo es Pi (aproximadamente 3,141592) por el radio al cuadrado."
   ]
  },
  {
   "cell_type": "markdown",
   "id": "a066f94a-5847-4d0f-9081-660c6c27a13a",
   "metadata": {
    "id": "FdndmRWjEW93"
   },
   "source": [
    "### **18. Escriba un programa que pida los coeficientes de una ecuación de segundo grado (a x² + b x + c = 0) y escriba la solución.**\n",
    "\n",
    "Se recuerda que una ecuación de segundo grado puede no tener solución, tener una solución única, tener dos soluciones o que todos los números sean solución. Se recuerda que la fórmula de las soluciones cuando hay dos soluciones es:\n",
    "\n",
    "#### ***x = (-b ± √(b2-4ac) ) / (2a)***\n",
    "\n",
    "Estos son algunos ejemplos de posibles respuestas (el orden de los ejemplos no tiene por qué corresponder con el orden de las condiciones). \n",
    "\n",
    "Ver tablas en PDF\n"
   ]
  },
  {
   "cell_type": "code",
   "execution_count": null,
   "id": "f4e43782-6c1c-447e-8927-6590fce9653f",
   "metadata": {
    "colab": {
     "base_uri": "https://localhost:8080/"
    },
    "id": "oXN4TXoycFBn",
    "outputId": "7a975e3e-0a8a-488d-e82d-fbcd5e1af592"
   },
   "outputs": [],
   "source": [
    "a = float(input(\"Ingrese el valor del coeficiente cuadrático (a): \"))\n",
    "if a == 0:\n",
    "  rpta = \"Sin solución (no es una ecuación de segundo grado, 'a'2 debe ser diferente de 0)\"\n",
    "  print(rpta)\n",
    "\n",
    "else:\n",
    "  b = float(input(\"Ingrese el valor del coeficiente lineal (b): \"))\n",
    "  c = float(input(\"Ingrese el valor del coeficiente independiente (c): \"))\n",
    "\n",
    "  discriminante = b**2 - 4*a*c\n",
    "\n",
    "  if discriminante < 0:\n",
    "    rpta = \"Sin solución real\"\n",
    "    print(rpta)\n",
    "  elif discriminante == 0:\n",
    "    x1 = -b/(2*a) + (discriminante**0.5)/(2*a)\n",
    "    x2 = -b/(2*a) - (discriminante**0.5)/(2*a)\n",
    "    rpta = \"Una solución: x1 = {0}  x2 = {1}\"\n",
    "    print(rpta.format(x1, x2))\n",
    "  else:\n",
    "    x1 = -b/(2*a) + (discriminante**0.5)/(2*a)\n",
    "    x2 = -b/(2*a) - (discriminante**0.5)/(2*a)\n",
    "    rpta = \"Dos soluciones: x1 = {0}  x2 = {1}\"\n",
    "    print(rpta.format(x1, x2))"
   ]
  },
  {
   "cell_type": "markdown",
   "id": "9945be83-08f6-4053-9510-759eb15d2759",
   "metadata": {
    "id": "An7fpQ6VE7bB"
   },
   "source": [
    "### **19.\tEscriba un programa que simule el juego Piedra, papel, tijera para dos jugadores (Inés y Juan). Las reglas del juego son las siguientes: Simultáneamente, los dos jugadores muestran una mano en tres posibles posiciones:**\n",
    "\n",
    "a.\tPiedra: se muestra el puño cerrado.\n",
    "\n",
    "b.\tPapel: se muestra la palma de la mano.\n",
    "\n",
    "c.\tTijera: se muestra la palma de la mano con los dedos separados en dos grupos.\n",
    "\n",
    "•\tEl jugador que ha sacado Piedra gana al jugador que ha sacado Tijera.\n",
    "\n",
    "•\tEl jugador que ha sacado Tijera gana al jugador que ha sacado Papel.\n",
    "\n",
    "•\tEl jugador que ha sacado Papel gana al jugador que ha sacado Piedra\n",
    "\n",
    "Resuelva este ejercicio utilizando la función random.randrange(), de manera que el valor 1 corresponda a Piedra, el valor 2 corresponda a papel y el valor 3 corresponda a Tijera. "
   ]
  },
  {
   "cell_type": "markdown",
   "id": "a5a8bbd7-cea9-4e43-8e34-9e3b7d714469",
   "metadata": {
    "id": "geZhuCMUE0_V"
   },
   "source": [
    "### ***Alternativa 1: básica 1***"
   ]
  },
  {
   "cell_type": "code",
   "execution_count": null,
   "id": "3da543bf-fd32-472f-9e65-63e3811e8db1",
   "metadata": {
    "colab": {
     "base_uri": "https://localhost:8080/"
    },
    "id": "HwZsQgsWVOou",
    "outputId": "5e77e745-abea-4397-a883-79f5250549ca"
   },
   "outputs": [],
   "source": [
    "# OPCIÓN 1\n",
    "i = random.randrange(1,4) # Inés\n",
    "j = random.randrange(1,4) # Juan\n",
    "\n",
    "  # 1: Piedra\n",
    "  # 2: Papel\n",
    "  # 3: Tijera\n",
    "\n",
    "if i == 1:\n",
    "  if j == 1:\n",
    "    msj = \"Inés: Piedra y Juan: Piedra. ¡Empate!\"\n",
    "  elif j == 2:\n",
    "    msj = \"Inés: Piedra y Juan: Papel. ¡Gana Juan!\"\n",
    "  else:\n",
    "    msj = \"Inés: Piedra y Juan: Tijera. ¡Gana Inés!\"\n",
    "elif i == 2:\n",
    "  if j == 1:\n",
    "    msj = \"Inés: Papel y Juan: Piedra. ¡Gana Inés!\"\n",
    "  elif j == 2:\n",
    "    msj = \"Inés: Papel y Juan: Papel. ¡Empate!\"\n",
    "  else:\n",
    "    msj = \"Inés: Papel y Juan: Tijera. ¡Gana Juan!\"\n",
    "else:\n",
    "  if j == 1:\n",
    "    msj = \"Inés: Tijera y Juan: Piedra. ¡Gana Juan!\"\n",
    "  elif j == 2:\n",
    "    msj = \"Inés: Tijera y Juan: Papel. ¡Gana Inés!\"\n",
    "  else:\n",
    "    msj = \"Inés: Tijera y Juan: Tijera. ¡Empate!\"\n",
    "\n",
    "print(msj)"
   ]
  },
  {
   "cell_type": "markdown",
   "id": "872df692-7063-4b8b-8801-1d0e9ea28f6c",
   "metadata": {},
   "source": [
    "### ***Alternativa 2: básica***"
   ]
  },
  {
   "cell_type": "code",
   "execution_count": null,
   "id": "610653be-48e7-4bc1-85db-ea52d98b61b6",
   "metadata": {
    "colab": {
     "base_uri": "https://localhost:8080/"
    },
    "id": "nOlfKS3sH6fZ",
    "outputId": "f5c77e55-7899-4725-b079-57db8f11dec2"
   },
   "outputs": [],
   "source": [
    "# OPCIÓN 2\n",
    "i = random.randrange(1,4) # Inés\n",
    "j = random.randrange(1,4) # Juan\n",
    "\n",
    "  # 1: Piedra\n",
    "  # 2: Papel\n",
    "  # 3: Tijera\n",
    "\n",
    "if i == 1 and j == 3:\n",
    "  msj = \"Inés: Piedra y Juan: Tijera. ¡Gana Inés!\"\n",
    "elif i == 3 and j == 1:\n",
    "  msj = \"Inés: Tijera y Juan: Piedra. ¡Gana Juan!\"\n",
    "elif i == 2 and j == 3:\n",
    "  msj == \"Inés: Papel y Juan: Tijera. ¡Gana Juan!\"\n",
    "elif i == 3 and j == 2:\n",
    "  msj == \"Inés: Tijera y Juan: Papel. ¡Gana Inés!\"\n",
    "elif i == 1 and j == 2:\n",
    "  msj = \"Inés: Piedra y Juan: Papel. ¡Gana Juan!\"\n",
    "elif i == 2 and j == 1:\n",
    "  msj = \"Inés: Papel y Juan: Piedra. ¡Gana Inés!\"\n",
    "else:\n",
    "  msj = \"¡Empate!\"\n",
    "\n",
    "print(msj)"
   ]
  },
  {
   "cell_type": "markdown",
   "id": "081cb1af-e9f3-4403-9c54-d91f719a69c5",
   "metadata": {},
   "source": [
    "### Estos ejercicios son optativos para hacer al final de la unidad y están pensados para apoyar tu aprendizaje*."
   ]
  },
  {
   "cell_type": "markdown",
   "id": "4b76e9a4-9c87-413b-ae67-f5d61d6b46e6",
   "metadata": {},
   "source": [
    "**1) Identifica el tipo de dato (int, float, string o list) de los siguientes valores literales**\n",
    "```python\n",
    "\"Hola Mundo\"        # string\n",
    "[1, 10, 100]        # list\n",
    "-25                 # int\n",
    "1.167               # float\n",
    "[\"Hola\", \"Mundo\"]   # list\n",
    "' '                 # string\n",
    "```"
   ]
  },
  {
   "cell_type": "markdown",
   "id": "4c08cc2a-c40f-483d-810b-72780d3db17f",
   "metadata": {},
   "source": [
    "**2) Determina mentalmente (sin programar) el resultado que aparecerá por pantalla a partir de las siguientes variables:**\n",
    "```python\n",
    "a = 10\n",
    "b = -5\n",
    "c = \"Hola \"\n",
    "d = [1, 2, 3]\n",
    "```\n",
    "\n",
    "```python\n",
    "print(a * 5)         # 50\n",
    "print(a - b)         # 15\n",
    "print(c + \"Mundo\")   # Hola Mundo\n",
    "print(c * 2)         # Hola Hola \n",
    "print(c[-1])         # 3\n",
    "print(c[1:])         # [2, 3]\n",
    "print(d + d)         # [1, 2, 3, 1, 2, 3]\n",
    "```"
   ]
  },
  {
   "cell_type": "markdown",
   "id": "1c06f8f5-4f8a-469a-b75d-3a28ae605454",
   "metadata": {},
   "source": [
    "**3) El siguiente código pretende realizar una media entre 3 números, pero no funciona correctamente. ¿Eres capaz de identificar el problema y solucionarlo?**"
   ]
  },
  {
   "cell_type": "code",
   "execution_count": null,
   "id": "86f1c4d6-efbd-4a8a-90d2-09a0e430d07f",
   "metadata": {
    "collapsed": false,
    "jupyter": {
     "outputs_hidden": false
    }
   },
   "outputs": [],
   "source": [
    "numero_1 = 9\n",
    "numero_2 = 3\n",
    "numero_3 = 6\n",
    "\n",
    "media = (numero_1 + numero_2 + numero_3) / 3  # Hay que realizar primero la suma de los 3 números antes de dividir\n",
    "print(\"La nota media es\", media)"
   ]
  },
  {
   "cell_type": "markdown",
   "id": "e7eb90ba-6579-40f2-98f6-6d1045884ff2",
   "metadata": {},
   "source": [
    "**4) A partir del ejercicio anterior, vamos a suponer que cada número es una nota, y lo que queremos es obtener la nota final. El problema es que cada nota tiene un valor porcentual: **\n",
    "\n",
    "* La primera nota vale un 15% del total\n",
    "* La segunda nota vale un 35% del total\n",
    "* La tercera nota vale un 50% del total\n",
    "\n",
    "**Desarrolla un programa para calcular perfectamente la nota final.**"
   ]
  },
  {
   "cell_type": "code",
   "execution_count": null,
   "id": "9683cdd6-d6b3-4122-9b1f-50c7f8252789",
   "metadata": {
    "collapsed": false,
    "jupyter": {
     "outputs_hidden": false
    }
   },
   "outputs": [],
   "source": [
    "nota_1 = 10\n",
    "nota_2 = 7\n",
    "nota_3 = 4\n",
    "\n",
    "# Completa el ejercicio aquí\n",
    "media = numero_1 * 0.15 + numero_2 * 0.35 + numero_3 * 0.50  # Podemos multiplicar en tanto por 1 cada nota y sumarlas\n",
    "print(\"La nota media es\", media)"
   ]
  },
  {
   "cell_type": "markdown",
   "id": "6dfb0185-220d-451f-826c-de2c2472ddac",
   "metadata": {},
   "source": [
    "**5) La siguiente matriz (o lista con listas anidadas) debe cumplir una condición, y es que en cada fila, el cuarto elemento siempre debe ser el resultado de sumar los tres primeros. ¿Eres capaz de modificar las sumas incorrectas utilizando la técnica del slicing?**\n",
    "\n",
    "*Ayuda: La función llamada sum(lista) devuelve una suma de todos los elementos de la lista ¡Pruébalo!*"
   ]
  },
  {
   "cell_type": "code",
   "execution_count": null,
   "id": "b37d5522-d77e-473b-84be-75dc2d548a94",
   "metadata": {
    "collapsed": false,
    "jupyter": {
     "outputs_hidden": false
    }
   },
   "outputs": [],
   "source": [
    "matriz = [ \n",
    "    [1, 1, 1, 3],\n",
    "    [2, 2, 2, 7],\n",
    "    [3, 3, 3, 9],\n",
    "    [4, 4, 4, 13]\n",
    "]\n",
    "\n",
    "# Completa el ejercicio aquí\n",
    "matriz[1][-1] = sum(matriz[1][:-1])\n",
    "matriz[3][-1] = sum(matriz[3][:-1])\n",
    "\n",
    "print(matriz)"
   ]
  },
  {
   "cell_type": "markdown",
   "id": "0bebb251-609e-4c20-a721-e97984fd655c",
   "metadata": {},
   "source": [
    "**6) Al realizar una consulta en un registro hemos obtenido una cadena de texto corrupta al revés. Al parecer contiene el nombre de un alumno y la nota de un exámen. ¿Cómo podríamos formatear la cadena y conseguir una estructura como la siguiente?:**\n",
    "\n",
    "* ***Nombre*** ***Apellido*** ha sacado un ***Nota*** de nota.\n",
    "\n",
    "*Ayuda: Para voltear una cadena rápidamente utilizando slicing podemos utilizar un tercer índice -1: **cadena[::-1]** *"
   ]
  },
  {
   "cell_type": "code",
   "execution_count": null,
   "id": "29788102-2b28-4d34-9e80-d2aea4a5ba2b",
   "metadata": {
    "tags": []
   },
   "outputs": [],
   "source": [
    "cadena = \"zeréP nauJ,01\"\n",
    "\n",
    "# Completa el ejercicio aquí\n",
    "cadena_volteada = cadena[::-1]\n",
    "print(cadena_volteada[3:], \"ha sacado un\", cadena_volteada[:2], \"de nota.\")"
   ]
  },
  {
   "cell_type": "markdown",
   "id": "b42eb664-930a-4c72-871e-1e93501889af",
   "metadata": {},
   "source": [
    "### Operadores y expresiones"
   ]
  },
  {
   "cell_type": "markdown",
   "id": "f604d5a5-99e8-4a7c-9e6a-64d5b5ae1c0c",
   "metadata": {},
   "source": [
    "**1) Realiza un programa que lea 2 números por teclado y determine los siguientes aspectos (es suficiene con mostrar True o False):**\n",
    "* Si los dos números son iguales\n",
    "* Si los dos números son diferentes\n",
    "* Si el primero es mayor que el segundo\n",
    "* Si el segundo es mayor o igual que el primero"
   ]
  },
  {
   "cell_type": "code",
   "execution_count": null,
   "id": "56441713-f9ea-4245-9f88-a3348d7adc0e",
   "metadata": {
    "collapsed": false,
    "jupyter": {
     "outputs_hidden": false
    }
   },
   "outputs": [],
   "source": [
    "# Completa el ejercicio aquí\n",
    "n1 = float( input(\"Introduce el primer número: \") )\n",
    "n2 = float( input(\"Introduce el segundo número: \") )\n",
    "\n",
    "print(\"¿Son iguales? \", n1 == n2)\n",
    "print(\"¿Son diferentes?\", n1 != n2)\n",
    "print(\"¿El primero es mayor que el segundo?\", n1 > n2)\n",
    "print(\"¿El segundo es mayor o igual que el primero?\", n1 <= n2)"
   ]
  },
  {
   "cell_type": "markdown",
   "id": "03bcbd02-29c7-4fd8-8dc2-a70ccd5ea59e",
   "metadata": {},
   "source": [
    "**2) Utilizando operadores lógicos, determina si una cadena de texto introducida por el usuario tiene una longitud mayor o igual que 3 y a su vez es menor que 10 (es suficiene con mostrar True o False):**"
   ]
  },
  {
   "cell_type": "code",
   "execution_count": null,
   "id": "93a4845f-3234-4bfb-8ba8-e4fc305d4b6a",
   "metadata": {
    "collapsed": false,
    "jupyter": {
     "outputs_hidden": false
    }
   },
   "outputs": [],
   "source": [
    "# Completa el ejercicio aquí\n",
    "cadena = input(\"Escribe una cadena: \")\n",
    "print(\"¿La longitud de la cadena es mayor o igual que 3 y menor que 10?\", len(cadena) >= 3 and len(cadena) < 10 )"
   ]
  },
  {
   "cell_type": "markdown",
   "id": "07476bed-ec7e-4e0e-b5c7-18f46368a12e",
   "metadata": {},
   "source": [
    "**3) Realiza un programa que cumpla el siguiente algoritmo utilizando siempre que sea posible operadores en asignación:**\n",
    "* Guarda en una variable numero_magico el valor 12345679 (sin el 8)\n",
    "* Lee por pantalla otro numero_usuario, especifica que sea entre 1 y 9 (asegúrate que sea un número entero)\n",
    "* Multiplica el numero_usuario por 9 en sí mismo\n",
    "* Multiplica el numero_magico por el numero_usuario en sí mismo\n",
    "* Finalmente muestra el valor final del numero_magico por pantalla\n"
   ]
  },
  {
   "cell_type": "code",
   "execution_count": null,
   "id": "5c5a134f-17ab-4f96-8dec-bb6834070af1",
   "metadata": {
    "collapsed": false,
    "jupyter": {
     "outputs_hidden": false
    }
   },
   "outputs": [],
   "source": [
    "# Completa el ejercicio aquí\n",
    "numero_magico = 12345679\n",
    "numero_usuario = int(input(\"Introduce un número del 1 al 9: \"))\n",
    "numero_usuario *= 9\n",
    "numero_magico *= numero_usuario\n",
    "print(\"El número mágico es:\", numero_magico)"
   ]
  },
  {
   "cell_type": "markdown",
   "id": "d26ebf73-a810-4233-b1a2-e581684a958c",
   "metadata": {
    "id": "VpzbLAaVr-v-"
   },
   "source": [
    "#### **Supongamos que tenemos una lista con los valores: 2000, 500, 17000, 24 y 7. Desarrollar un programa en Python para obtener el resultado mostrado debajo**"
   ]
  },
  {
   "cell_type": "markdown",
   "id": "59a3ae41-638a-4d41-b249-ee367b7b9ed3",
   "metadata": {
    "id": "f-d89VVvqraq"
   },
   "source": [
    "![suma.jpg](data:image/jpeg;base64,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)"
   ]
  },
  {
   "cell_type": "code",
   "execution_count": null,
   "id": "ab1f6307-5e5b-499d-b2bd-48579a2c3c3e",
   "metadata": {
    "colab": {
     "base_uri": "https://localhost:8080/"
    },
    "executionInfo": {
     "elapsed": 259,
     "status": "ok",
     "timestamp": 1631911279677,
     "user": {
      "displayName": "Jose Luis Ojeda",
      "photoUrl": "https://lh3.googleusercontent.com/a-/AOh14GioxvwskRaM2HjJwQ_L936mkRS1wMOHPWrqOWUffw=s64",
      "userId": "12240071782040482724"
     },
     "user_tz": 300
    },
    "id": "SMxR9LRgtQSQ",
    "outputId": "22cd20fa-029f-4310-ad48-7a84de6c3063"
   },
   "outputs": [
    {
     "name": "stdout",
     "output_type": "stream",
     "text": [
      "      2000\n",
      "       500\n",
      "     17000\n",
      "        24\n",
      "         7\n",
      "----------\n",
      "     19531\n"
     ]
    }
   ],
   "source": [
    "numeros =[2000, 500, 17000, 24, 7]\n",
    "for numero in numeros:\n",
    "    print(f\"{numero:10d}\")\n",
    "\n",
    "print(\"----------\")\n",
    "print(f\"{sum(numeros):10d}\")\n"
   ]
  },
  {
   "cell_type": "markdown",
   "id": "7cffd3eb-b3dc-4d63-9257-ace5e990ba10",
   "metadata": {
    "id": "YupS_OaktBob"
   },
   "source": [
    "#### **Elabore un programa que permita realizar las equivalencias de millas, pies y pulgadas a metros. Solicite el ingreso de la cantidad y la unidad de medida, luego devolver el valor en metros. El programa debe preguntar si se desea continuar. Considere que: 1milla = 1609.334 m, 1 pie = 0.3048 m y 1 pulgada = 0.025 m. Al ingresar las unidades de medida M = millas, F = pies. I = pulgadas**"
   ]
  },
  {
   "cell_type": "code",
   "execution_count": null,
   "id": "2fec4cb7-498d-48fd-96d2-5ca62ade9fb4",
   "metadata": {
    "colab": {
     "base_uri": "https://localhost:8080/"
    },
    "executionInfo": {
     "elapsed": 43263,
     "status": "ok",
     "timestamp": 1631914421411,
     "user": {
      "displayName": "Jose Luis Ojeda",
      "photoUrl": "https://lh3.googleusercontent.com/a-/AOh14GioxvwskRaM2HjJwQ_L936mkRS1wMOHPWrqOWUffw=s64",
      "userId": "12240071782040482724"
     },
     "user_tz": 300
    },
    "id": "v9YUXlOYS0rM",
    "outputId": "5165ec0f-55c5-46ec-fbec-88a49eaf56f9"
   },
   "outputs": [
    {
     "name": "stdout",
     "output_type": "stream",
     "text": [
      "\n",
      "Ingrese cantidad a convertir 100\n",
      "Ingrese unidad de medida M(Milla), F(pies), I(pulgada) i\n",
      "Se ingresaron 100.0 Pulgadas equivalentes a 2.5 metros\n",
      "Presione 'S' si desea continuars\n",
      "\n",
      "Ingrese cantidad a convertir 50\n",
      "Ingrese unidad de medida M(Milla), F(pies), I(pulgada) f\n",
      "Se ingresaron 50.0 Pies equivalentes a 15.24 metros\n",
      "Presione 'S' si desea continuars\n",
      "\n",
      "Ingrese cantidad a convertir 1000\n",
      "Ingrese unidad de medida M(Milla), F(pies), I(pulgada) i\n",
      "Se ingresaron 1000.0 Pulgadas equivalentes a 25.0 metros\n",
      "Presione 'S' si desea continuarn\n"
     ]
    }
   ],
   "source": [
    "#Conversion medidas\n",
    "unidades = [\"M\", \"F\", \"I\"]\n",
    "while True:\n",
    "    while True:\n",
    "        cantidad = float(input(\"\\nIngrese cantidad a convertir \"))\n",
    "        if cantidad > 0:\n",
    "            break\n",
    "        else:\n",
    "            print(\"Cantidad debe ser mayor a cero\")\n",
    "\n",
    "    while True:\n",
    "        unidadMedida = input(\n",
    "            \"Ingrese unidad de medida M(Milla), F(pies), I(pulgada) \").upper()\n",
    "        if unidadMedida in unidades:\n",
    "            break\n",
    "        else:\n",
    "            print(\"Debe ingresar 'M', 'F', o 'I'\")\n",
    "\n",
    "    if unidadMedida == \"M\":\n",
    "        metros = cantidad * 1609.334\n",
    "        unidad = \"Millas\"\n",
    "    elif unidadMedida == \"F\":\n",
    "        metros = cantidad * 0.3048\n",
    "        unidad = \"Pies\"\n",
    "    else:\n",
    "        metros = cantidad * 0.025\n",
    "        unidad = \"Pulgadas\"\n",
    "\n",
    "    resultado = f\"Se ingresaron {cantidad} {unidad} equivalentes a {metros}\" \\\n",
    "                f\" metros\"\n",
    "    print(resultado)\n",
    "\n",
    "    respuesta = input(\"Presione 'S' si desea continuar\").upper()\n",
    "    if respuesta != 'S':\n",
    "        break\n"
   ]
  },
  {
   "cell_type": "code",
   "execution_count": null,
   "id": "08fa1bba-234e-40ea-b18d-059658764395",
   "metadata": {
    "colab": {
     "base_uri": "https://localhost:8080/"
    },
    "executionInfo": {
     "elapsed": 30480,
     "status": "ok",
     "timestamp": 1631912811728,
     "user": {
      "displayName": "Jose Luis Ojeda",
      "photoUrl": "https://lh3.googleusercontent.com/a-/AOh14GioxvwskRaM2HjJwQ_L936mkRS1wMOHPWrqOWUffw=s64",
      "userId": "12240071782040482724"
     },
     "user_tz": 300
    },
    "id": "4qxEAE7FS0dV",
    "outputId": "12e34318-f1cf-40d6-d787-2a543ffe7b94"
   },
   "outputs": [
    {
     "name": "stdout",
     "output_type": "stream",
     "text": [
      "Ingrese cantidad a convertir -100\n",
      "Cantidad debe ser mayor a cero\n",
      "Ingrese cantidad a convertir 100\n"
     ]
    }
   ],
   "source": [
    "while True:\n",
    "    cantidad = float(input(\"Ingrese cantidad a convertir \"))\n",
    "    if cantidad > 0:\n",
    "        break\n",
    "    else:\n",
    "        print(\"Cantidad debe ser mayor a cero\")"
   ]
  },
  {
   "cell_type": "markdown",
   "id": "b7e91f43-2097-490b-b071-85a5cdcc537d",
   "metadata": {
    "id": "o3BNo4EFARfN"
   },
   "source": [
    "#### **Ingrese 5 números reales y calcule su media, desviación estándar y la redondeada a 1 decimal, la suma de cuadrados y la media geométrica.**\n"
   ]
  },
  {
   "cell_type": "markdown",
   "id": "a3149ab2-f799-4763-9913-57da166ca58b",
   "metadata": {
    "id": "YMuV8kApAaGt"
   },
   "source": [
    "desv = raiz((sumatorio((x - promedio)^2))/(n-1))"
   ]
  },
  {
   "cell_type": "code",
   "execution_count": 1,
   "id": "9f559c67-eab9-4eb8-8765-020b23045bc9",
   "metadata": {
    "colab": {
     "base_uri": "https://localhost:8080/"
    },
    "executionInfo": {
     "elapsed": 13154,
     "status": "ok",
     "timestamp": 1631985805849,
     "user": {
      "displayName": "Jose Luis Ojeda",
      "photoUrl": "https://lh3.googleusercontent.com/a-/AOh14GioxvwskRaM2HjJwQ_L936mkRS1wMOHPWrqOWUffw=s64",
      "userId": "12240071782040482724"
     },
     "user_tz": 300
    },
    "id": "V0d4QnTSS1eN",
    "outputId": "569421f7-ce85-41c6-d5be-1e18ecb63509"
   },
   "outputs": [
    {
     "name": "stdout",
     "output_type": "stream",
     "text": [
      "ingrese números reales 10\n",
      "ingrese números reales 12\n",
      "ingrese números reales 14\n",
      "ingrese números reales 16\n",
      "ingrese números reales 18\n",
      "Lista de números ingresados [10.0, 12.0, 14.0, 16.0, 18.0]\n",
      "Promedio: 14.0 \n",
      "Desviación estándar: 3.2 \n",
      "Suma de cuadrados: 1020.0 \n",
      "Media geométrica: 13.7\n"
     ]
    }
   ],
   "source": [
    "numeros = []\n",
    "for i in range(5):\n",
    "    x = float(input(\"ingrese números reales \"))\n",
    "    numeros.append(x)\n",
    "\n",
    "print(f\"Lista de números ingresados {numeros}\")\n",
    "promedio = sum(numeros)/len(numeros)\n",
    "s2 = 0\n",
    "sumaCuadrados = 0\n",
    "productos = 1\n",
    "\n",
    "for i in range(len(numeros)):\n",
    "    s2 += (numeros[i]-promedio)**2\n",
    "    sumaCuadrados += numeros[i]**2\n",
    "    productos *= numeros[i]\n",
    "                            \n",
    "desv =round((s2/(len(numeros)-1))**(1/2),1)\n",
    "mediaGeometrica = round(productos**(1/len(numeros)),1)\n",
    "sumaCuadrados = round(sumaCuadrados,1)\n",
    "\n",
    "respuesta = f\"Promedio: {promedio} \\n\"\\\n",
    "            f\"Desviación estándar: {desv} \\n\"\\\n",
    "            f\"Suma de cuadrados: {sumaCuadrados} \\n\"\\\n",
    "            f\"Media geométrica: {mediaGeometrica}\"\n",
    "print(respuesta)"
   ]
  },
  {
   "cell_type": "code",
   "execution_count": 9,
   "id": "4e43f9be-00a4-471d-86cb-5e44159bc37a",
   "metadata": {},
   "outputs": [
    {
     "name": "stdout",
     "output_type": "stream",
     "text": [
      "[13]\n"
     ]
    }
   ],
   "source": [
    "def factor(num, L=[]):\n",
    "    for i in range(2,num//2+1):\n",
    "        if num % i == 0:\n",
    "            return L+[i]+factor(num//i) \n",
    "    return L+[num]\n",
    "\n",
    "y = factor(13)\n",
    "print(y)"
   ]
  },
  {
   "cell_type": "code",
   "execution_count": 23,
   "id": "a0ab5626-eb1b-40b8-a986-ad7024214507",
   "metadata": {},
   "outputs": [
    {
     "name": "stdout",
     "output_type": "stream",
     "text": [
      "                                    A                                   \n",
      "                                   AAA                                  \n",
      "                                  AAAAA                                 \n",
      "                                 AAAAAAA                                \n",
      "                                AAAAAAAAA                               \n",
      "                               AAAAAAAAAAA                              \n",
      "                              AAAAAAAAAAAAA                             \n",
      "                             AAAAAAAAAAAAAAA                            \n",
      "                            AAAAAAAAAAAAAAAAA                           \n",
      "                           AAAAAAAAAAAAAAAAAAA                          \n",
      "                          AAAAAAAAAAAAAAAAAAAAA                         \n",
      "                         AAAAAAAAAAAAAAAAAAAAAAA                        \n",
      "                        AAAAAAAAAAAAAAAAAAAAAAAAA                       \n",
      "                       AAAAAAAAAAAAAAAAAAAAAAAAAAA                      \n",
      "                      AAAAAAAAAAAAAAAAAAAAAAAAAAAAA                     \n",
      "                     AAAAAAAAAAAAAAAAAAAAAAAAAAAAAAA                    \n",
      "                    AAAAAAAAAAAAAAAAAAAAAAAAAAAAAAAAA                   \n",
      "                   AAAAAAAAAAAAAAAAAAAAAAAAAAAAAAAAAAA                  \n",
      "                  AAAAAAAAAAAAAAAAAAAAAAAAAAAAAAAAAAAAA                 \n",
      "                 AAAAAAAAAAAAAAAAAAAAAAAAAAAAAAAAAAAAAAA                \n",
      "                AAAAAAAAAAAAAAAAAAAAAAAAAAAAAAAAAAAAAAAAA               \n",
      "               AAAAAAAAAAAAAAAAAAAAAAAAAAAAAAAAAAAAAAAAAAA              \n",
      "              AAAAAAAAAAAAAAAAAAAAAAAAAAAAAAAAAAAAAAAAAAAAA             \n",
      "             AAAAAAAAAAAAAAAAAAAAAAAAAAAAAAAAAAAAAAAAAAAAAAA            \n",
      "            AAAAAAAAAAAAAAAAAAAAAAAAAAAAAAAAAAAAAAAAAAAAAAAAA           \n",
      "           AAAAAAAAAAAAAAAAAAAAAAAAAAAAAAAAAAAAAAAAAAAAAAAAAAA          \n",
      "          AAAAAAAAAAAAAAAAAAAAAAAAAAAAAAAAAAAAAAAAAAAAAAAAAAAAA         \n",
      "         AAAAAAAAAAAAAAAAAAAAAAAAAAAAAAAAAAAAAAAAAAAAAAAAAAAAAAA        \n",
      "        AAAAAAAAAAAAAAAAAAAAAAAAAAAAAAAAAAAAAAAAAAAAAAAAAAAAAAAAA       \n",
      "       AAAAAAAAAAAAAAAAAAAAAAAAAAAAAAAAAAAAAAAAAAAAAAAAAAAAAAAAAAA      \n",
      "      AAAAAAAAAAAAAAAAAAAAAAAAAAAAAAAAAAAAAAAAAAAAAAAAAAAAAAAAAAAAA     \n",
      "     AAAAAAAAAAAAAAAAAAAAAAAAAAAAAAAAAAAAAAAAAAAAAAAAAAAAAAAAAAAAAAA    \n",
      "    AAAAAAAAAAAAAAAAAAAAAAAAAAAAAAAAAAAAAAAAAAAAAAAAAAAAAAAAAAAAAAAAA   \n",
      "   AAAAAAAAAAAAAAAAAAAAAAAAAAAAAAAAAAAAAAAAAAAAAAAAAAAAAAAAAAAAAAAAAAA  \n",
      "  AAAAAAAAAAAAAAAAAAAAAAAAAAAAAAAAAAAAAAAAAAAAAAAAAAAAAAAAAAAAAAAAAAAAA \n"
     ]
    }
   ],
   "source": [
    "n = 70\n",
    "for i in range(1, n, 2):\n",
    "    print(\"  {0:^{1}}\".format(\"A\" * i, n))"
   ]
  },
  {
   "cell_type": "code",
   "execution_count": 24,
   "id": "7ecbcaeb-4011-4d04-8321-292ad65cc0e9",
   "metadata": {},
   "outputs": [
    {
     "name": "stdout",
     "output_type": "stream",
     "text": [
      "+---------------------------------------------------------------------+\n",
      "| Sep 2016 Sep 2015 Change Language               Ratings (%)  Change |\n",
      "|---------------------------------------------------------------------|\n",
      "| 1        1               Java                   18.236       -1.33  |\n",
      "| 2        2               C                      10.955       -4.67  |\n",
      "| 3        3               C++                    6.657        -0.13  |\n",
      "| 4        4               C#                     5.493        +0.58  |\n",
      "| 5        5               Python                 4.302        +0.64  |\n",
      "| 6        7        ^      JavaScript             2.929        +0.59  |\n",
      "| 7        6        v      PHP                    2.847        +0.32  |\n",
      "| 8        11       ^      Assembly language      2.417        +0.61  |\n",
      "| 9        8        v      Visual Basic .NET      2.343        +0.28  |\n",
      "| 10       9        v      Perl                   2.333        +0.43  |\n",
      "| 11       13       ^      Delphi/Object Pascal   2.169        +0.42  |\n",
      "| 12       12              Ruby                   1.965        +0.18  |\n",
      "| 13       16       ^      Swift                  1.93         +0.74  |\n",
      "| 14       10       vv     Objective-C            1.849        +0.03  |\n",
      "| 15       17       ^      MATLAB                 1.826        +0.65  |\n",
      "| 16       34       ^^     Groovy                 1.818        +1.31  |\n",
      "| 17       14       v      Visual Basic           1.761        +0.23  |\n",
      "| 18       19       ^      R                      1.684        +0.64  |\n",
      "| 19       44       ^^     Go                     1.625        +1.37  |\n",
      "| 20       18       v      PL/SQL                 1.443        +0.36  |\n",
      "+---------------------------------------------------------------------+\n"
     ]
    }
   ],
   "source": [
    "# Este código representa una tabla con información sobre los lenguajes \n",
    "# más populares del 2016 según TIOBE.\n",
    "\n",
    "\n",
    "ranking = (\n",
    "    (1, 1, \"\", \"Java\", 18.236, -1.33),\n",
    "    (2, 2, \"\", \"C\", 10.955, -4.67),\n",
    "    (3, 3, \"\", \"C++\", 6.657, -0.13),\n",
    "    (4, 4, \"\", \"C#\", 5.493, +0.58),\n",
    "    (5, 5, \"\", \"Python\", 4.302, +0.64),\n",
    "    (6, 7, \"^\", \"JavaScript\", 2.929, +0.59),\n",
    "    (7, 6, \"v\", \"PHP\", 2.847, +0.32),\n",
    "    (8, 11, \"^\", \"Assembly language\", 2.417, +0.61),\n",
    "    (9, 8, \"v\", \"Visual Basic .NET\", 2.343, +0.28),\n",
    "    (10, 9, \"v\", \"Perl\", 2.333, +0.43),\n",
    "    (11, 13, \"^\", \"Delphi/Object Pascal\", 2.169, +0.42),\n",
    "    (12, 12, \"\", \"Ruby\", 1.965, +0.18),\n",
    "    (13, 16, \"^\", \"Swift\", 1.930, +0.74),\n",
    "    (14, 10, \"vv\", \"Objective-C\", 1.849, +0.03),\n",
    "    (15, 17, \"^\", \"MATLAB\", 1.826, +0.65),\n",
    "    (16, 34, \"^^\", \"Groovy\", 1.818, +1.31),\n",
    "    (17, 14, \"v\", \"Visual Basic\", 1.761, +0.23),\n",
    "    (18, 19, \"^\", \"R\", 1.684, +0.64),\n",
    "    (19, 44, \"^^\", \"Go\", 1.625, +1.37),\n",
    "    (20, 18, \"v\", \"PL/SQL\", 1.443, +0.36)\n",
    ")\n",
    "table = \"\"\"\\\n",
    "+---------------------------------------------------------------------+\n",
    "| Sep 2016 Sep 2015 Change Language               Ratings (%)  Change |\n",
    "|---------------------------------------------------------------------|\n",
    "{}\n",
    "+---------------------------------------------------------------------+\\\n",
    "\"\"\"\n",
    "table = table.format(\"\\n\".join(\n",
    "    \"| {:<8} {:<8} {:<6} {:22} {:<11} {:+6}  |\".format(*row)\n",
    "    for row in ranking))\n",
    "print(table)"
   ]
  }
 ],
 "metadata": {
  "kernelspec": {
   "display_name": "Python 3 (ipykernel)",
   "language": "python",
   "name": "python3"
  },
  "language_info": {
   "codemirror_mode": {
    "name": "ipython",
    "version": 3
   },
   "file_extension": ".py",
   "mimetype": "text/x-python",
   "name": "python",
   "nbconvert_exporter": "python",
   "pygments_lexer": "ipython3",
   "version": "3.10.0"
  }
 },
 "nbformat": 4,
 "nbformat_minor": 5
}
