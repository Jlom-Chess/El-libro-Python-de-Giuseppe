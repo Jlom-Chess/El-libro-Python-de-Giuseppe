{
 "cells": [
  {
   "cell_type": "markdown",
   "id": "4lBssGh1KOZm",
   "metadata": {
    "id": "4lBssGh1KOZm"
   },
   "source": [
    "## ***numpy***\n",
    "\n",
    "Numpy es la biblioteca central para la computación científica en Python. Proporciona un objeto de matriz multidimensional de alto rendimiento y herramientas para trabajar con estas matrices.  Permite, entre otras cosas, crear y modificar matrices, y hacer operaciones sobre ellas con facilidad."
   ]
  },
  {
   "cell_type": "code",
   "execution_count": null,
   "id": "KXRTw88FKXyV",
   "metadata": {
    "id": "KXRTw88FKXyV"
   },
   "outputs": [],
   "source": [
    "# importamos la librería numpy, y le damos como nombre np dentro del programa\n",
    "import numpy as np\n"
   ]
  },
  {
   "cell_type": "code",
   "execution_count": null,
   "id": "TsYC0omCyMvN",
   "metadata": {
    "id": "TsYC0omCyMvN"
   },
   "outputs": [],
   "source": [
    "import numpy as np\n",
    "print(np.__version__)\n"
   ]
  },
  {
   "cell_type": "markdown",
   "id": "6owboa2nMUWt",
   "metadata": {
    "id": "6owboa2nMUWt"
   },
   "source": [
    "Se creará un vector de 5 elementos. La manera más común de crear una un vector o matriz es con la función **np.array**, que toma una lista (o lista de listas) como parámetro y devuelve una matriz de **numpy**."
   ]
  },
  {
   "cell_type": "code",
   "execution_count": null,
   "id": "3Gqqil2hMh1U",
   "metadata": {
    "colab": {
     "base_uri": "https://localhost:8080/"
    },
    "executionInfo": {
     "elapsed": 319,
     "status": "ok",
     "timestamp": 1634937568144,
     "user": {
      "displayName": "Jose Luis Ojeda",
      "photoUrl": "https://lh3.googleusercontent.com/a-/AOh14GioxvwskRaM2HjJwQ_L936mkRS1wMOHPWrqOWUffw=s64",
      "userId": "12240071782040482724"
     },
     "user_tz": 300
    },
    "id": "3Gqqil2hMh1U",
    "outputId": "91a3abe3-180f-44dd-e47a-8e02b3a9d634"
   },
   "outputs": [],
   "source": [
    "import numpy as np\n",
    "lista=[25,12,15,66,12.5]\n",
    "print(lista)\n",
    "vector = np.array(lista)\n",
    "print(vector)\n",
    "print(type(vector))\n"
   ]
  },
  {
   "cell_type": "markdown",
   "id": "263e9a3f-ad70-4693-9a7c-79f3f13ae1bf",
   "metadata": {},
   "source": [
    "## Arrays\n",
    "Una matriz numpy es una cuadrícula de valores, todos del mismo tipo, y está indexada por una tupla de enteros no negativos. El número de dimensiones es el rango de la matriz; la forma de una matriz es una tupla de números enteros que dan el tamaño de la matriz a lo largo de cada dimensión.\n",
    "\n",
    "Podemos inicializar matrices numpy desde listas de Python anidadas y acceder a elementos usando corchetes:"
   ]
  },
  {
   "cell_type": "code",
   "execution_count": null,
   "id": "6d0264da-8e00-43d3-b5d8-ae2036993619",
   "metadata": {},
   "outputs": [],
   "source": [
    "import numpy as np\n",
    "\n",
    "a = np.array([1, 2, 3])   # Crea una matriz de rango 1\n",
    "print(type(a))            # Imprime \"<class 'numpy.ndarray'>\"\n",
    "print(a.shape)            # Imprime \"(3,)\"\n",
    "print(a[0], a[1], a[2])   # Imprime \"1 2 3\"\n",
    "a[0] = 5                  # Cambia un elemento de la matriz\n",
    "print(a)                  # Imprime \"[5, 2, 3]\"\n",
    "\n",
    "b = np.array([[1,2,3],[4,5,6]])    # Crea una matriz de rango 2 (2 dimensiones)\n",
    "print(b.shape)                     # Imprime \"(2, 3)\"\n",
    "print(b[0, 0], b[0, 1], b[1, 0])   # Imprime \"1 2 4\""
   ]
  },
  {
   "cell_type": "markdown",
   "id": "BQiQrUFtM45j",
   "metadata": {
    "id": "BQiQrUFtM45j"
   },
   "source": [
    "¿Cuál es la diferencia entre vector y lista? Que vector, al ser un arreglo de **numpy**, nos permite hacer varias operaciones matemáticas de forma muy simple."
   ]
  },
  {
   "cell_type": "code",
   "execution_count": null,
   "id": "OYuth-1RM9WT",
   "metadata": {
    "colab": {
     "base_uri": "https://localhost:8080/"
    },
    "executionInfo": {
     "elapsed": 330,
     "status": "ok",
     "timestamp": 1634937819172,
     "user": {
      "displayName": "Jose Luis Ojeda",
      "photoUrl": "https://lh3.googleusercontent.com/a-/AOh14GioxvwskRaM2HjJwQ_L936mkRS1wMOHPWrqOWUffw=s64",
      "userId": "12240071782040482724"
     },
     "user_tz": 300
    },
    "id": "OYuth-1RM9WT",
    "outputId": "a33629a8-f6aa-4310-bdc3-190be213b5dd"
   },
   "outputs": [],
   "source": [
    "import numpy as np\n",
    "\n",
    "lista=[25,12,15,66,12.5]\n",
    "vector = np.array(lista)\n",
    "\n",
    "print(\"- vector original\")\n",
    "print(vector)\n",
    "\n",
    "print(\"- sumarle 1 a cada elemento del vector:\")\n",
    "print(vector+1)\n",
    "print(\"- multiplicar por 5 cada elemento del vector:\")\n",
    "print(vector*5)\n",
    "\n",
    "print(\"- suma de los elementos:\")\n",
    "print(np.sum(vector))\n",
    "\n",
    "print(\"- promedio (media) de los elementos:\")\n",
    "print(np.mean(vector)) # \n",
    "\n",
    "print(\"- el vector sumado a si mismo:\")\n",
    "print(vector+vector)\n",
    "print(\"- suma de vectores vector1 y vector2 (mismo tamaño):\")\n",
    "vector2=np.array([11,55,1.2,7.4,-8])\n",
    "print(vector+vector2)"
   ]
  },
  {
   "cell_type": "markdown",
   "id": "d3bf7930-5f4e-4188-be2b-f5806156183f",
   "metadata": {},
   "source": [
    "### Numpy también proporciona muchas funciones para crear matrices"
   ]
  },
  {
   "cell_type": "code",
   "execution_count": null,
   "id": "f1babec9-2cb4-4ca6-9b67-f22e30efbf4f",
   "metadata": {},
   "outputs": [],
   "source": [
    "import numpy as np\n",
    "\n",
    "a = np.zeros((2,2))   # Crea una matriz con todos lo valores igual a cero\n",
    "print(a)              # Imprime \"[[ 0.  0.]\n",
    "                      #          [ 0.  0.]]\"\n",
    "\n",
    "b = np.ones((1,2))    # Crea una matriz con todos lo valores igual a 1\n",
    "print(b)              # Imprime \"[[ 1.  1.]]\"\n",
    "\n",
    "c = np.full((2,2), 7)  # Crea una matriz con un valor constante\n",
    "print(c)               # Imprime \"[[ 7.  7.]\n",
    "                       #          [ 7.  7.]]\"\n",
    "\n",
    "d = np.eye(2)         # Crea una matriz identidad de 2x2\n",
    "print(d)              # Imprime \"[[ 1.  0.]\n",
    "                      #          [ 0.  1.]]\"\n",
    "\n",
    "e = np.random.random((2,2))  # Crea una matriz con valores aleatorios\n",
    "print(e)"
   ]
  },
  {
   "cell_type": "markdown",
   "id": "aWj2qTDFNdST",
   "metadata": {
    "id": "aWj2qTDFNdST"
   },
   "source": [
    "### ***Índices y slices de vectores***\n",
    "Así como con las listas, se utilizan los corchetes ([ ]) para acceder a sus elementos, se pueden tomar slices o rebanadas del arreglo"
   ]
  },
  {
   "cell_type": "code",
   "execution_count": null,
   "id": "xT8cjvS6NixA",
   "metadata": {
    "colab": {
     "base_uri": "https://localhost:8080/"
    },
    "executionInfo": {
     "elapsed": 341,
     "status": "ok",
     "timestamp": 1634937999693,
     "user": {
      "displayName": "Jose Luis Ojeda",
      "photoUrl": "https://lh3.googleusercontent.com/a-/AOh14GioxvwskRaM2HjJwQ_L936mkRS1wMOHPWrqOWUffw=s64",
      "userId": "12240071782040482724"
     },
     "user_tz": 300
    },
    "id": "xT8cjvS6NixA",
    "outputId": "c3014170-b992-44c9-9f51-602c6e3e2ab2"
   },
   "outputs": [],
   "source": [
    "print(vector[3])\n",
    "print(vector[1:4])\n",
    "print(vector[1:])\n",
    "print(vector[:4])\n",
    "print(vector[:])"
   ]
  },
  {
   "cell_type": "markdown",
   "id": "ixESbGCVOCyr",
   "metadata": {
    "id": "ixESbGCVOCyr"
   },
   "source": [
    "Creación de vectores con valor 0 o 1\n",
    "\n",
    "Es muy común crear un vector con valores 0 o 1. Por ejemplo, cuando se utiliza un vector de contadores, donde cada contador comienza en 0.\n",
    "\n",
    "Ya se ha visto que se utiliza las funciones ***np.zeros*** y ***np.ones***, respectivamente. Cada una toma como parámetro la cantidad de elementos del vector a crear."
   ]
  },
  {
   "cell_type": "code",
   "execution_count": null,
   "id": "Y714JIjzOH-2",
   "metadata": {
    "colab": {
     "base_uri": "https://localhost:8080/"
    },
    "executionInfo": {
     "elapsed": 338,
     "status": "ok",
     "timestamp": 1634938175601,
     "user": {
      "displayName": "Jose Luis Ojeda",
      "photoUrl": "https://lh3.googleusercontent.com/a-/AOh14GioxvwskRaM2HjJwQ_L936mkRS1wMOHPWrqOWUffw=s64",
      "userId": "12240071782040482724"
     },
     "user_tz": 300
    },
    "id": "Y714JIjzOH-2",
    "outputId": "788a1abc-7553-44e5-849c-4c3bb911b574"
   },
   "outputs": [],
   "source": [
    "print(\"- Vector de ceros:\")\n",
    "vectorCeros = np.zeros(5)\n",
    "print(vectorCeros)\n",
    "\n",
    "print(\"- Vector de unos:\")\n",
    "vectorUnos = np.ones(5)\n",
    "print(vectorUnos)\n",
    "\n",
    "\n",
    "#Combinando este tipo de creaciones con las operaciones aritméticas,\n",
    "#podemos hacer varias inicializaciones muy rápidamente\n",
    "# Por ejemplo, para crear un vector cuyos valores iniciales son todos 2.\n",
    "\n",
    "print(\"- Vector con todos los elementos con valor 2:\")\n",
    "vectorDos = np.zeros(5)+2\n",
    "print(vectorDos)\n",
    "\n",
    "print(\"- Vector con todos los elementos con valor 2 (otra forma):\")\n",
    "vectorDosOtro = np.ones((5))*2\n",
    "print(vectorDosOtro)"
   ]
  },
  {
   "cell_type": "markdown",
   "id": "S6XRU3yKPEkl",
   "metadata": {
    "id": "S6XRU3yKPEkl"
   },
   "source": [
    "### **Matrices**\n",
    "Los vectores son arreglos de una sola dimensión. Las matrices son arreglos de dos dimensiones-, filas y columnas.\n",
    "\n",
    "Para crearlas con **np.array**, necesitamos no una lista de valores, sino una lista de valores por cada fila, o sea, una lista de listas.\n",
    "\n",
    "Del mismo modo, para crearlas con np.zeros o np.ones, vamos a necesitar una tupla con dos elementos, uno por cada dimensión."
   ]
  },
  {
   "cell_type": "code",
   "execution_count": null,
   "id": "_bst8IkgPD4l",
   "metadata": {
    "colab": {
     "base_uri": "https://localhost:8080/"
    },
    "executionInfo": {
     "elapsed": 342,
     "status": "ok",
     "timestamp": 1634938437395,
     "user": {
      "displayName": "Jose Luis Ojeda",
      "photoUrl": "https://lh3.googleusercontent.com/a-/AOh14GioxvwskRaM2HjJwQ_L936mkRS1wMOHPWrqOWUffw=s64",
      "userId": "12240071782040482724"
     },
     "user_tz": 300
    },
    "id": "_bst8IkgPD4l",
    "outputId": "db1632ce-a0cb-4ba0-b0f5-c3827bd75d01"
   },
   "outputs": [],
   "source": [
    "print(\"- Matriz creada con una lista de listas:\")\n",
    "listaDeListas=[ [1  ,-4], \n",
    "                  [12 , 3], \n",
    "                  [7.2, 5]]\n",
    "\n",
    "print(listaDeListas)\n",
    "matriz = np.array(listaDeListas)\n",
    "print(matriz)\n",
    "\n",
    "\n",
    "print(\"- Matriz creada con np.zeros:\")\n",
    "dimensiones =(2,3)\n",
    "matrizCeros = np.zeros(dimensiones)\n",
    "print(matrizCeros)\n",
    "\n",
    "\n",
    "print(\"- Matriz creada con np.ones:\")\n",
    "dimensiones =(3,2)\n",
    "matrizUnos = np.ones(dimensiones)\n",
    "print(matrizUnos)\n",
    "\n",
    "#también podemos usar np.copy para copiar una matriz \n",
    "print(\"- Copia de la matriz creada con np.ones:\")\n",
    "matrizUnosCopia = np.copy(matrizUnos)\n",
    "print(matrizUnosCopia)"
   ]
  },
  {
   "cell_type": "code",
   "execution_count": null,
   "id": "bRMkXtSNQKAx",
   "metadata": {
    "id": "bRMkXtSNQKAx"
   },
   "outputs": [],
   "source": [
    "# Ejercicio\n",
    "# Crear una matriz de 4x9, que esté inicializada con el valor 0.5\n",
    "\n",
    "matriz4x9 = np.ones((4, 9))\n",
    "print(matriz4x9)\n",
    "matriz4x9 = matriz4x9*0.5\n",
    "print(matriz4x9)"
   ]
  },
  {
   "cell_type": "markdown",
   "id": "AIUato30Qye9",
   "metadata": {
    "id": "AIUato30Qye9"
   },
   "source": [
    "### **Accediendo a las matrices**\n",
    "También podemos usar slices para acceder a partes de las matrices. Las matrices tienen dos dimensiones, así que ahora tenemos que usar dos indices o slices para seleccionar partes."
   ]
  },
  {
   "cell_type": "code",
   "execution_count": null,
   "id": "1Zjtebz8Q24O",
   "metadata": {
    "colab": {
     "base_uri": "https://localhost:8080/"
    },
    "executionInfo": {
     "elapsed": 348,
     "status": "ok",
     "timestamp": 1634939102992,
     "user": {
      "displayName": "Jose Luis Ojeda",
      "photoUrl": "https://lh3.googleusercontent.com/a-/AOh14GioxvwskRaM2HjJwQ_L936mkRS1wMOHPWrqOWUffw=s64",
      "userId": "12240071782040482724"
     },
     "user_tz": 300
    },
    "id": "1Zjtebz8Q24O",
    "outputId": "e339aa92-e543-4568-b803-dc0cab63780e"
   },
   "outputs": [],
   "source": [
    "listaDeListas=[ [1  ,-4], \n",
    "                  [12 , 3], \n",
    "                  [7.2, 5]]\n",
    "a = np.array(listaDeListas)\n",
    "\n",
    "print(\"Elementos individuales\")\n",
    "print(a[0,1])\n",
    "print(a[2,1])\n",
    "\n",
    "print(\"Vector de elementos de la fila 1\")\n",
    "print(a[1,:])\n",
    "\n",
    "print(\"Vector de elementos de la columna 0\")\n",
    "print(a[:,0])\n",
    "\n",
    "print(\"Submatriz de 2x2 con las primeras dos filas\")\n",
    "print(a[0:2,:])\n",
    "\n",
    "print(\"Submatriz de 2x2 con las ultimas dos filas\")\n",
    "print(a[1:3,:])"
   ]
  },
  {
   "cell_type": "markdown",
   "id": "r33R5fn3Rr3K",
   "metadata": {
    "id": "r33R5fn3Rr3K"
   },
   "source": [
    "### **Modificando matrices**\n",
    "También podemos usar los slices para modificar matrices. La única diferencia es que ahora los usaremos para seleccionar que parte de la matriz vamos a cambiar."
   ]
  },
  {
   "cell_type": "code",
   "execution_count": null,
   "id": "WKC2w80aR1iI",
   "metadata": {
    "colab": {
     "base_uri": "https://localhost:8080/"
    },
    "executionInfo": {
     "elapsed": 316,
     "status": "ok",
     "timestamp": 1634939373410,
     "user": {
      "displayName": "Jose Luis Ojeda",
      "photoUrl": "https://lh3.googleusercontent.com/a-/AOh14GioxvwskRaM2HjJwQ_L936mkRS1wMOHPWrqOWUffw=s64",
      "userId": "12240071782040482724"
     },
     "user_tz": 300
    },
    "id": "WKC2w80aR1iI",
    "outputId": "60927899-d235-49c6-b711-62fc3a03eda9"
   },
   "outputs": [],
   "source": [
    "listaDeListas =[ [1,-4], \n",
    "                  [12,3], \n",
    "                  [7, 5.0]]\n",
    "a = np.array(listaDeListas)\n",
    "\n",
    "print(\"- Matriz original:\")\n",
    "print(a)\n",
    "\n",
    "print(\"- Le asignamos el valor 4 a los elementos de la columna 0:\")\n",
    "a[:,0] = 4\n",
    "print(a)\n",
    "\n",
    "print(\"- Dividimos por 3 la columna 1:\")\n",
    "a[:,1] = a[:,1]/3.0\n",
    "print(a)\n",
    "\n",
    "print(\"- Multiplicamos por 5 la fila 1:\")\n",
    "a[1,:] = a[1,:]*5\n",
    "print(a)\n",
    "\n",
    "print(\"- Le sumamos 1 a toda la matriz:\")\n",
    "a = a+1\n",
    "print(a)"
   ]
  },
  {
   "cell_type": "markdown",
   "id": "7cb203e9-d20d-4f65-91ea-858d8325ef42",
   "metadata": {},
   "source": [
    "## **Indexación de matrices NumPy**\n",
    "La indexación de la matriz debe ser adecuada para acceder y manipular sus valores. La indexación se puede realizar a través de:\n",
    "\n",
    "    • **Slicing** – realizamos el corte en matrices NumPy con la declaración de un corte para todas las dimensiones.\n",
    "    \n",
    "    • **Integer array Indexing** – los usuarios pueden pasar listas para el mapeo uno a uno de los elementos correspondientes para cada dimensión.\n",
    "    \n",
    "    • **Boolean Array Indexing**– podemos elegir elementos después de satisfacer una condición booleana particular."
   ]
  },
  {
   "cell_type": "code",
   "execution_count": null,
   "id": "47fb6bf2-e254-4527-a060-a5a4755e9075",
   "metadata": {},
   "outputs": [],
   "source": [
    "import numpy as np\n",
    "\n",
    "a = np.array([[1,2,3,4], [5,6,7,8], [9,10,11,12]])\n",
    "\n",
    "# Usar slicing para extraer el sub arreglo que consta de las 2 primeras filas\n",
    "# y columnas 1 y 2; b es la siguiente matriz de forma (2, 2):\n",
    "# [[2 3]\n",
    "#  [6 7]]\n",
    "b = a[:2, 1:3]\n",
    "print(b)\n",
    "\n",
    "# Una porción de una matriz es una vista de los mismos datos, por lo que modificarla\n",
    "# modificará la matriz original.\n",
    "\n",
    "print(a[0, 1])   # Prints \"2\"\n",
    "b[0, 0] = 77     # b[0, 0] is the same piece of data as a[0, 1]\n",
    "print(b[0, 0])\n",
    "print(a[0, 1])   # Prints \"77\"\n",
    "\n",
    "a[0, 1] = 66\n",
    "print(b[0, 0])"
   ]
  },
  {
   "cell_type": "markdown",
   "id": "f5840265-643e-438d-b136-8d8cc2757d00",
   "metadata": {},
   "source": [
    "### También puedes mezclar integer indexing con slice indexación. Sin embargo, hacerlo producirá una matriz de rango más bajo que la matriz original. "
   ]
  },
  {
   "cell_type": "code",
   "execution_count": null,
   "id": "d213c2ec-231a-48a4-a597-9889d5be38e9",
   "metadata": {},
   "outputs": [],
   "source": [
    "import numpy as np\n",
    "\n",
    "# Cree la siguiente matriz de rango 2 con forma (3, 4)\n",
    "# [[ 1  2  3  4]\n",
    "#  [ 5  6  7  8]\n",
    "#  [ 9 10 11 12]]\n",
    "a = np.array([[1,2,3,4], [5,6,7,8], [9,10,11,12]])\n",
    "\n",
    "# Dos formas de acceder a los datos en la fila central de la matriz.\n",
    "# Mezclar la indexación de enteros con porciones produce una matriz de \n",
    "# rango más bajo, mientras que el uso de solo porciones produce una matriz \n",
    "# del mismo rango que la # matriz original\n",
    "row_r1 = a[1, :]    # Vista de rango 1 de la segunda fila de a\n",
    "row_r2 = a[1:2, :]  # Vista de rango 2 de la segunda fila de a\n",
    "print(row_r1, row_r1.shape)  # Imprime \"[5 6 7 8] (4,)\"\n",
    "print(row_r2, row_r2.shape)  # Imprime \"[[5 6 7 8]] (1, 4)\"\n",
    "\n",
    "# Podemos hacer la misma distinción al acceder a las columnas de una matriz:\n",
    "col_r1 = a[:, 1]\n",
    "col_r2 = a[:, 1:2]\n",
    "print(col_r1, col_r1.shape)  # Imprime \"[ 2  6 10] (3,)\"\n",
    "print(col_r2, col_r2.shape)  # Imprime \"[[ 2]\n",
    "                             #          [ 6]\n",
    "                             #          [10]] (3, 1)\""
   ]
  },
  {
   "cell_type": "markdown",
   "id": "31b65214-d2fd-4146-8c33-ce5049590e86",
   "metadata": {},
   "source": [
    "### Integer array indexing: Cuando indexa en matrices numpy usando slicing, la vista de matriz resultante siempre será una submatriz de la matriz original. A diferencia de, integer array indexing le permite construir matrices arbitrarias utilizando los datos de otra matriz. Aquí hay un ejemplo: "
   ]
  },
  {
   "cell_type": "code",
   "execution_count": null,
   "id": "c8919ee4-399f-455d-8d2e-bbbf0c6a77a4",
   "metadata": {},
   "outputs": [],
   "source": [
    "import numpy as np\n",
    "\n",
    "a = np.array([[1,2], [3, 4], [5, 6]])\n",
    "\n",
    "# Un ejemplo de integer array indexing.\n",
    "# La matriz devuelta tendrá forma (3,) y\n",
    "print(a[[0, 1, 2], [0, 1, 0]])  # Imprime \"[1 4 5]\"\n",
    "\n",
    "# El ejemplo anterior de integer array indexing es equivalente a esto:\n",
    "print(np.array([a[0, 0], a[1, 1], a[2, 0]]))  # Imprime \"[1 4 5]\"\n",
    "\n",
    "# Cuando usas integer array indexing, puedes reutilizar el mismo\n",
    "# elemento de la matriz fuente:\n",
    "print(a[[0, 0], [1, 1]])  # Prints \"[2 2]\"\n",
    "\n",
    "# Equivalente al anterior integer array indexing ejemplo\n",
    "print(np.array([a[0, 1], a[0, 1]]))  # Prints \"[2 2]\""
   ]
  },
  {
   "cell_type": "markdown",
   "id": "1c59cc81-ef76-4f86-a44c-059c037e4ef6",
   "metadata": {},
   "source": [
    "### Un truco útil con integer array indexing es seleccionar o mutar un elemento de cada fila de una matriz:"
   ]
  },
  {
   "cell_type": "code",
   "execution_count": null,
   "id": "4ecd1d4f-d6e3-4e20-a6b9-6c95282c9f1a",
   "metadata": {},
   "outputs": [],
   "source": [
    "import numpy as np\n",
    "\n",
    "# Crea una nueva matriz de la que seleccionaremos elementos.\n",
    "a = np.array([[1,2,3], [4,5,6], [7,8,9], [10, 11, 12]])\n",
    "\n",
    "print(a)  # imprime \"array([[ 1,  2,  3],\n",
    "          #                [ 4,  5,  6],\n",
    "          #                [ 7,  8,  9],\n",
    "          #                [10, 11, 12]])\"\n",
    "\n",
    "# Crea una arreglo de índices\n",
    "b = np.array([0, 2, 0, 1])\n",
    "\n",
    "# Seleccione un elemento de cada fila de a usando los índices en b\n",
    "print(a[np.arange(4), b])  # Imprime \"[ 1  6  7 11]\"\n",
    "\n",
    "# Mutar un elemento de cada fila de a usando los índices en b\n",
    "a[np.arange(4), b] += 10\n",
    "\n",
    "print(a)  # imprime \"array([[11,  2,  3],\n",
    "          #                [ 4,  5, 16],\n",
    "          #                [17,  8,  9],\n",
    "          #                [10, 21, 12]])"
   ]
  },
  {
   "cell_type": "markdown",
   "id": "24cdefc6-3f01-49f8-87eb-d59e16a360e4",
   "metadata": {},
   "source": [
    "### Boolean array indexing: Boolean array indexing le permite seleccionar elementos arbitrarios de una matriz. Con frecuencia, este tipo de indexación se utiliza para seleccionar los elementos de una matriz que satisfacen alguna condición. Aquí hay un ejemplo:"
   ]
  },
  {
   "cell_type": "code",
   "execution_count": null,
   "id": "b724a2da-bff3-4a6b-b0f2-bcdab08886ed",
   "metadata": {},
   "outputs": [],
   "source": [
    "import numpy as np\n",
    "\n",
    "a = np.array([[1,2], [3, 4], [5, 6]])\n",
    "\n",
    "bool_idx = (a > 2)   # Encuentra los elementos de a que son mayores que 2;\n",
    "                     # esto devuelve una gran variedad de valores booleanos del mismo\n",
    "                     # forma como a, donde cada ranura de bool_idx dice\n",
    "                     # si ese elemento de a es > 2.\n",
    "\n",
    "print(bool_idx)      # Imprime \"[[False False]\n",
    "                     #          [ True  True]\n",
    "                     #          [ True  True]]\"\n",
    "\n",
    "# Usamos la indexación de matrices booleanas para construir una matriz de rango 1\n",
    "# que consta de los elementos de a correspondiente a los valores verdaderos\n",
    "# de bool_idx\n",
    "print(a[bool_idx])  # Imprime \"[3 4 5 6]\"\n",
    "\n",
    "# Podemos hacer todo lo anterior en una sola declaración concisa:\n",
    "print(a[a > 2])     # Prints \"[3 4 5 6]\""
   ]
  },
  {
   "cell_type": "markdown",
   "id": "eejgsiObTDTA",
   "metadata": {
    "id": "eejgsiObTDTA"
   },
   "source": [
    "### ***Ejercicios***"
   ]
  },
  {
   "cell_type": "code",
   "execution_count": 54,
   "id": "Z0U4VG-xTBpb",
   "metadata": {
    "id": "Z0U4VG-xTBpb"
   },
   "outputs": [
    {
     "name": "stdout",
     "output_type": "stream",
     "text": [
      "Matriz original\n",
      "[[ -44.   12.]\n",
      " [  12.   51.]\n",
      " [1300.   -5.]]\n",
      "[[ -44.   12.]\n",
      " [  12.   51.]\n",
      " [1295.  -10.]]\n",
      "[[ -88.   24.]\n",
      " [  24.  102.]\n",
      " [2590.  -20.]]\n",
      "[[  17.6   -4.8]\n",
      " [  -4.8  -20.4]\n",
      " [2590.   -20. ]]\n",
      "[2590.  -20.]\n"
     ]
    }
   ],
   "source": [
    "import numpy as np\n",
    "\n",
    "#Ejercicios\n",
    "\n",
    "listaDeListas =[ [-44,12], \n",
    "                  [12.0,51], \n",
    "                  [1300, -5.0]]\n",
    "a = np.array(listaDeListas)\n",
    "\n",
    "print(\"Matriz original\")\n",
    "print(a)\n",
    "\n",
    "# Restarle 5 a la fila 2 de la matriz\n",
    "a[2:] = a[2:] - 5\n",
    "print(a)\n",
    "\n",
    "# Multiplicar por 2 toda la matriz\n",
    "a = a*2\n",
    "print(a)\n",
    "\n",
    "# Dividir por -5 las dos primeras filas de la matriz\n",
    "a[0:2, :] = a[0:2, :]/(-5)\n",
    "print(a)\n",
    "\n",
    "#Imprimir la ultima fila de la matriz\n",
    "ultima_fila = a[-1,:]\n",
    "print(ultima_fila)"
   ]
  },
  {
   "cell_type": "code",
   "execution_count": 55,
   "id": "Xrtrij8oYGBC",
   "metadata": {
    "id": "Xrtrij8oYGBC"
   },
   "outputs": [
    {
     "name": "stdout",
     "output_type": "stream",
     "text": [
      "1326.0\n",
      "1326.0\n",
      "7.8\n",
      "7.8\n"
     ]
    }
   ],
   "source": [
    "# ejercicios\n",
    "\n",
    "import numpy as np\n",
    "listaDeListas =[ [-44,12], \n",
    "                  [12.0,51], \n",
    "                  [1300, -5.0]]\n",
    "a = np.array(listaDeListas)\n",
    "# Calcular la suma de los elementos de a utilizando dos fors anidados\n",
    "suma = 0\n",
    "filas, columns = a.shape\n",
    "for i in range(filas):\n",
    "    for j in range(columns):\n",
    "        suma += a[i, j]\n",
    "\n",
    "print(suma)\n",
    "\n",
    "# Calcular la suma de los elementos de a utilizando np.sum\n",
    "suma = np.sum(a)\n",
    "print(suma)\n",
    "\n",
    "# Calcular el promedio de los elementos de las primeras dos filas de a \n",
    "# utilizando dos fors anidados\n",
    "suma = 0\n",
    "for i in range(filas - 1):\n",
    "    for j in range(columns):\n",
    "        suma += a[i, j]\n",
    "promedio = round(suma/((filas-1)*columns), 1)\n",
    "print(promedio)\n",
    "\n",
    "#IMPLEMENTAR\n",
    "promedio = round(np.mean(a[0:2, :]), 1)\n",
    "print(promedio)\n",
    "\n",
    "# Calcular el promedio de los elementos de las primeras dos filas de \n",
    "# utilizando slices y np.mean\n",
    "#IMPLEMENTAR"
   ]
  },
  {
   "cell_type": "code",
   "execution_count": 56,
   "id": "BdCWGZ-adR7m",
   "metadata": {
    "id": "BdCWGZ-adR7m"
   },
   "outputs": [
    {
     "name": "stdout",
     "output_type": "stream",
     "text": [
      "[[0. 0. 0. 0. 0. 0. 0.]\n",
      " [0. 0. 0. 0. 0. 0. 0.]\n",
      " [0. 0. 0. 0. 0. 0. 0.]\n",
      " [0. 0. 0. 0. 0. 0. 0.]\n",
      " [0. 0. 0. 0. 0. 0. 0.]\n",
      " [0. 0. 0. 0. 0. 0. 0.]\n",
      " [0. 0. 0. 0. 0. 0. 0.]]\n",
      "[[0.  0.  0.  0.5 1.  1.  1. ]\n",
      " [0.  0.  0.  0.5 1.  1.  1. ]\n",
      " [0.  0.  0.  0.5 1.  1.  1. ]\n",
      " [0.  0.  0.  0.5 1.  1.  1. ]\n",
      " [0.  0.  0.  0.5 1.  1.  1. ]\n",
      " [0.  0.  0.  0.5 1.  1.  1. ]\n",
      " [0.  0.  0.  0.7 1.  1.  1. ]]\n"
     ]
    }
   ],
   "source": [
    "# Generar una matriz de 7 por 7. Las primeras 3 columnas de la matriz \n",
    "# tienen que tener el valor 0. \n",
    "# La cuarta columna debe tener el valor 0.5, excepto por el último valor \n",
    "# de esa columna, que tiene que ser 0.7.\n",
    "# Las otras tres columnas deben tener el valor 1.\n",
    "import numpy as np\n",
    "\n",
    "matriz = np.zeros((7, 7))\n",
    "print(matriz)\n",
    "matriz[:, 4:] = matriz[:, 4:] + 1\n",
    "matriz[0:6, 3:4] = matriz[0:6, 3:4] + 0.5\n",
    "matriz[6, 3] = 0.7\n",
    "\n",
    "print(matriz)\n",
    "\n",
    "# Luego imprimir la matriz\n",
    "# Imprimir también el promedio de la ultima fila.\n",
    "\n",
    "#IMPLEMENTAR"
   ]
  },
  {
   "cell_type": "code",
   "execution_count": 57,
   "id": "y8JNyx4tdTah",
   "metadata": {
    "id": "y8JNyx4tdTah"
   },
   "outputs": [
    {
     "name": "stdout",
     "output_type": "stream",
     "text": [
      "[[0.84790783 0.62918382 0.48090069 0.98164996 0.98051999]\n",
      " [0.48619394 0.38657268 0.13619801 0.39003906 0.26431831]\n",
      " [0.32651517 0.06992176 0.7480292  0.2783034  0.3167101 ]\n",
      " [0.13380204 0.98224386 0.85939628 0.2013545  0.76774582]\n",
      " [0.53984435 0.96540363 0.24881088 0.1334687  0.00449753]]\n",
      "(0, 0) = 0.8479078336667258\n",
      "(0, 1) = 0.629183819326785\n",
      "(0, 3) = 0.9816499628488903\n",
      "(0, 4) = 0.9805199897673208\n",
      "(2, 2) = 0.7480291950619026\n",
      "(3, 1) = 0.9822438580360953\n",
      "(3, 2) = 0.8593962830398975\n",
      "(3, 4) = 0.767745819990633\n",
      "(4, 0) = 0.5398443512169863\n",
      "(4, 1) = 0.9654036265863165\n"
     ]
    }
   ],
   "source": [
    "# La siguiente linea crea una matriz aleatoria de 5 por 5 con valores \n",
    "# entre 0 y 1\n",
    "import numpy as np\n",
    "\n",
    "matriz_aleatoria = np.random.rand(5,5) \n",
    "\n",
    "print(matriz_aleatoria)\n",
    "\n",
    "# Imprimir las posiciones (Fila y columna) de los elementos de la matriz \n",
    "# que son mayores que 0.5\n",
    "\n",
    "for i in range(5):\n",
    "    for j in range(5):\n",
    "        if matriz_aleatoria[i, j] > 0.5:\n",
    "            print(f\"{i, j} = {matriz_aleatoria[i, j]}\")"
   ]
  },
  {
   "cell_type": "code",
   "execution_count": null,
   "id": "B8p3l86qxuK-",
   "metadata": {
    "id": "B8p3l86qxuK-"
   },
   "outputs": [],
   "source": [
    "import numpy as np\n",
    "arr = np.array([1, 2, 3, 4, 5, 6, 7])\n",
    "print('Los elementos pares cada dos posiciones, hasta 4: ', arr[1:5:2]) \n",
    "print('Todos los elementos impares cada dos posicones: ', arr[::2])\n"
   ]
  },
  {
   "cell_type": "code",
   "execution_count": null,
   "id": "tjl53YQGzaJR",
   "metadata": {
    "id": "tjl53YQGzaJR"
   },
   "outputs": [],
   "source": [
    "import numpy as np\n",
    "arr = np.array ([[1,2,3,4,5], [6,7,8,9,10]])\n",
    "print('Los elementos de fila 2 y columnas 1 a 3 ', arr[1, 1:4]) \n",
    "print('Rangos en filas y columnas: ', arr[0:2, 1:4])\n"
   ]
  },
  {
   "cell_type": "code",
   "execution_count": 58,
   "id": "-9uGMyJQ0O0H",
   "metadata": {
    "id": "-9uGMyJQ0O0H"
   },
   "outputs": [
    {
     "name": "stdout",
     "output_type": "stream",
     "text": [
      "[1 2 3]\n",
      "uint32\n"
     ]
    }
   ],
   "source": [
    "import numpy as np\n",
    "arr = np.array([1.1, 2.3, 3.4]) \n",
    "nuevarr = arr.astype('I') \n",
    "print(nuevarr)\n",
    "print(nuevarr.dtype)"
   ]
  },
  {
   "cell_type": "code",
   "execution_count": null,
   "id": "ISAVXxwS04Cp",
   "metadata": {
    "id": "ISAVXxwS04Cp"
   },
   "outputs": [],
   "source": [
    "import numpy as np\n",
    "arr = np.array([1, 2, 3, 4, 5, 6]) \n",
    "nuevarr = arr.copy()\n",
    "# El método copy() crea una copia del arreglo\n",
    "arr[0] = 100\n",
    "print(\"Vector original Arr \",arr) \n",
    "print(\"Vector copiado nuevo \", nuevarr)\n"
   ]
  },
  {
   "cell_type": "code",
   "execution_count": null,
   "id": "YKPwbW_21Crh",
   "metadata": {
    "id": "YKPwbW_21Crh"
   },
   "outputs": [],
   "source": [
    "arr = np.array([1, 2, 3, 4, 5, 6])\n",
    "nueviewvarr = arr.view()\n",
    "# El método copy() crea una copia del arreglo\n",
    "arr[0] = 100\n",
    "# Se modifica el arreglo arr\n",
    "print(\"Vector original Arr \",arr) \n",
    "print(\"Vector Vista \", nueviewvarr)"
   ]
  },
  {
   "cell_type": "code",
   "execution_count": null,
   "id": "YWxCuiqY1R9y",
   "metadata": {
    "id": "YWxCuiqY1R9y"
   },
   "outputs": [],
   "source": [
    "import numpy as np\n",
    "arr = np.array([[1, 2, 3, 4], [5, 6, 7, 8]]) \n",
    "print(arr.shape)"
   ]
  },
  {
   "cell_type": "code",
   "execution_count": null,
   "id": "o6vG_-cn1aBm",
   "metadata": {
    "id": "o6vG_-cn1aBm"
   },
   "outputs": [],
   "source": [
    "import numpy as np\n",
    "arr = np.array([1, 2, 3, 4, 5, 6, 7, 8, 9, 10, 11, 12])\n",
    "nuevarr = arr.reshape(4, 3)\n",
    "# Crea un nuevo arreglo de 4 filas y 3 columnas\n",
    "print(nuevarr)\n",
    "\n",
    "arr = np.array([1, 2, 3, 4, 5, 6, 7, 8, 9, 10, 11, 12])\n",
    "nuevarr = arr.reshape(2, 3, 2)\n",
    "# Crea un nuevo arreglo de 2 filas, 3 columnas y 2 elementos\n",
    "print(nuevarr)"
   ]
  },
  {
   "cell_type": "code",
   "execution_count": null,
   "id": "bfFK1l_J2Acg",
   "metadata": {
    "id": "bfFK1l_J2Acg"
   },
   "outputs": [],
   "source": [
    "import numpy as np\n",
    "arr = np.array([[1, 2], [3, 4], [5, 6], [7, 8]]) \n",
    "print(arr.ndim)\n",
    "print(arr.shape)\n",
    "print(arr)\n",
    "for x in np.nditer(arr):\n",
    "    print(x)\n"
   ]
  },
  {
   "cell_type": "code",
   "execution_count": 7,
   "id": "b8cc36ff-e03d-41bd-89d9-7e2059505f52",
   "metadata": {
    "colab": {
     "base_uri": "https://localhost:8080/"
    },
    "executionInfo": {
     "elapsed": 360,
     "status": "ok",
     "timestamp": 1635282758764,
     "user": {
      "displayName": "Jose Luis Ojeda",
      "photoUrl": "https://lh3.googleusercontent.com/a-/AOh14GioxvwskRaM2HjJwQ_L936mkRS1wMOHPWrqOWUffw=s64",
      "userId": "12240071782040482724"
     },
     "user_tz": 300
    },
    "id": "bfFK1l_J2Acg",
    "outputId": "573e4d35-124e-4103-d9a6-f734b36472ef"
   },
   "outputs": [
    {
     "name": "stdout",
     "output_type": "stream",
     "text": [
      "2\n",
      "(4, 2)\n",
      "[[1 2]\n",
      " [3 4]\n",
      " [5 6]\n",
      " [7 8]]\n",
      "1\n",
      "2\n",
      "3\n",
      "4\n",
      "5\n",
      "6\n",
      "7\n",
      "8\n",
      "4 2\n"
     ]
    }
   ],
   "source": [
    "import numpy as np\n",
    "arr = np.array([[1, 2], [3, 4], [5, 6], [7, 8]]) \n",
    "print(arr.ndim)\n",
    "print(arr.shape)\n",
    "print(arr)\n",
    "for x in np.nditer(arr):\n",
    "    print(x)\n",
    "\n",
    "fila, column = arr.shape\n",
    "print(fila, column)"
   ]
  },
  {
   "cell_type": "code",
   "execution_count": 8,
   "id": "c915dbdc-79fc-432e-b37e-b3f85d12d492",
   "metadata": {
    "colab": {
     "base_uri": "https://localhost:8080/"
    },
    "executionInfo": {
     "elapsed": 312,
     "status": "ok",
     "timestamp": 1635283018572,
     "user": {
      "displayName": "Jose Luis Ojeda",
      "photoUrl": "https://lh3.googleusercontent.com/a-/AOh14GioxvwskRaM2HjJwQ_L936mkRS1wMOHPWrqOWUffw=s64",
      "userId": "12240071782040482724"
     },
     "user_tz": 300
    },
    "id": "0YJTEZdQFydi",
    "outputId": "00266fc8-b9d3-4b8f-b3ff-ea86d1e194ad"
   },
   "outputs": [
    {
     "name": "stdout",
     "output_type": "stream",
     "text": [
      "1\n",
      "2\n",
      "3\n",
      "4\n",
      "1\n",
      "2\n",
      "3\n",
      "4\n",
      "5\n",
      "6\n",
      "7\n",
      "8\n"
     ]
    }
   ],
   "source": [
    "# Recorrer arreglos en Numpy\n",
    "import numpy as np\n",
    "arr = np.array([1, 2, 3, 4]) \n",
    "for x in arr:\n",
    "    print(x)\n",
    " \n",
    "# Recorridos en matrices en Numpy\n",
    "\n",
    "arr = np.array(([1, 2, 3, 4], [5, 6, 7, 8]))\n",
    "\n",
    "for x in arr:\n",
    "    for y in x:\n",
    "        print(y)\n",
    " "
   ]
  },
  {
   "cell_type": "code",
   "execution_count": 9,
   "id": "8a6f14f2-0359-459c-b1df-30f9693b8b25",
   "metadata": {
    "colab": {
     "base_uri": "https://localhost:8080/"
    },
    "executionInfo": {
     "elapsed": 308,
     "status": "ok",
     "timestamp": 1635283121086,
     "user": {
      "displayName": "Jose Luis Ojeda",
      "photoUrl": "https://lh3.googleusercontent.com/a-/AOh14GioxvwskRaM2HjJwQ_L936mkRS1wMOHPWrqOWUffw=s64",
      "userId": "12240071782040482724"
     },
     "user_tz": 300
    },
    "id": "x_KQzIVVKdbf",
    "outputId": "3ffd3494-c519-4a58-9e10-9f94d6593c60"
   },
   "outputs": [
    {
     "name": "stdout",
     "output_type": "stream",
     "text": [
      "1\n",
      "3\n",
      "5\n",
      "7\n"
     ]
    }
   ],
   "source": [
    "import numpy as np\n",
    "arr = np.array([[1, 2, 3, 4], [5, 6, 7, 8]]) \n",
    "for x in np.nditer(arr[: , : :2]):\n",
    "    print(x)\n"
   ]
  },
  {
   "cell_type": "code",
   "execution_count": 10,
   "id": "f4af57ef-7149-496e-b31e-18109a9f6398",
   "metadata": {
    "colab": {
     "base_uri": "https://localhost:8080/"
    },
    "executionInfo": {
     "elapsed": 343,
     "status": "ok",
     "timestamp": 1635283204880,
     "user": {
      "displayName": "Jose Luis Ojeda",
      "photoUrl": "https://lh3.googleusercontent.com/a-/AOh14GioxvwskRaM2HjJwQ_L936mkRS1wMOHPWrqOWUffw=s64",
      "userId": "12240071782040482724"
     },
     "user_tz": 300
    },
    "id": "_YOppSkHKyzO",
    "outputId": "d32cc409-2211-422b-e2ec-1adeb69265e2"
   },
   "outputs": [
    {
     "name": "stdout",
     "output_type": "stream",
     "text": [
      "(0, 0) 1\n",
      "(0, 1) 2\n",
      "(0, 2) 3\n",
      "(0, 3) 4\n",
      "(1, 0) 5\n",
      "(1, 1) 6\n",
      "(1, 2) 7\n",
      "(1, 3) 8\n"
     ]
    }
   ],
   "source": [
    "import numpy as np\n",
    "arr = np.array([[1, 2, 3, 4], [5, 6, 7, 8]]) \n",
    "for idx, x in np.ndenumerate(arr):\n",
    "    print(idx, x)"
   ]
  },
  {
   "cell_type": "code",
   "execution_count": 11,
   "id": "542bdf39-38b3-422a-b147-55c3ab0dafe1",
   "metadata": {
    "colab": {
     "base_uri": "https://localhost:8080/"
    },
    "executionInfo": {
     "elapsed": 309,
     "status": "ok",
     "timestamp": 1635283399967,
     "user": {
      "displayName": "Jose Luis Ojeda",
      "photoUrl": "https://lh3.googleusercontent.com/a-/AOh14GioxvwskRaM2HjJwQ_L936mkRS1wMOHPWrqOWUffw=s64",
      "userId": "12240071782040482724"
     },
     "user_tz": 300
    },
    "id": "O0UFi7GieiCA",
    "outputId": "e7b2ce2a-fd5f-40cb-9dc7-b3f015c855f1"
   },
   "outputs": [
    {
     "name": "stdout",
     "output_type": "stream",
     "text": [
      "[[0.96979364 0.22089675 0.993464   0.91364404 0.04283607]\n",
      " [0.41996939 0.83319223 0.96666751 0.30205708 0.56550636]\n",
      " [0.18538775 0.08023239 0.2675311  0.77155076 0.37634011]\n",
      " [0.26303269 0.16071465 0.86653106 0.47363797 0.32666351]\n",
      " [0.88766847 0.94104161 0.28474479 0.00781297 0.6643124 ]]\n",
      "(0, 0) 0.9697936408804154\n",
      "(0, 2) 0.9934639984932363\n",
      "(0, 3) 0.913644039632563\n",
      "(1, 1) 0.8331922261270914\n",
      "(1, 2) 0.9666675131461708\n",
      "(1, 4) 0.5655063610067125\n",
      "(2, 3) 0.7715507574998769\n",
      "(3, 2) 0.8665310554724382\n",
      "(4, 0) 0.8876684661132574\n",
      "(4, 1) 0.9410416052645845\n",
      "(4, 4) 0.664312396174843\n"
     ]
    }
   ],
   "source": [
    "import numpy as np\n",
    "\n",
    "matriz_aleatoria = np.random.rand(5,5) \n",
    "\n",
    "print(matriz_aleatoria)\n",
    "\n",
    "# Imprimir las posiciones (Fila y columna) de los elementos de la matriz \n",
    "# que son mayores que 0.5\n",
    "\n",
    "for idx, x in np.ndenumerate(matriz_aleatoria):\n",
    "    if x > 0.5:\n",
    "        print(idx, x)"
   ]
  },
  {
   "cell_type": "code",
   "execution_count": 12,
   "id": "7f48a075-caef-45db-8606-a63efb867dc4",
   "metadata": {
    "colab": {
     "base_uri": "https://localhost:8080/"
    },
    "executionInfo": {
     "elapsed": 319,
     "status": "ok",
     "timestamp": 1635283521505,
     "user": {
      "displayName": "Jose Luis Ojeda",
      "photoUrl": "https://lh3.googleusercontent.com/a-/AOh14GioxvwskRaM2HjJwQ_L936mkRS1wMOHPWrqOWUffw=s64",
      "userId": "12240071782040482724"
     },
     "user_tz": 300
    },
    "id": "xeVgXXfyLqRH",
    "outputId": "a0acc5f1-62d3-43d5-c563-a680e3b28fc2"
   },
   "outputs": [
    {
     "name": "stdout",
     "output_type": "stream",
     "text": [
      "[[1 2]\n",
      " [3 4]\n",
      " [5 6]\n",
      " [7 8]]\n",
      "[[1 2 5 6]\n",
      " [3 4 7 8]]\n"
     ]
    }
   ],
   "source": [
    "import numpy as np\n",
    "arr1 = np.array([[1, 2], [3, 4]])\n",
    "arr2 = np.array([[5, 6], [7, 8]])\n",
    "arr = np.concatenate((arr1, arr2))\n",
    "print(arr)\n",
    "\n",
    "arr = np.concatenate((arr1, arr2), axis=1)\n",
    "print(arr)"
   ]
  },
  {
   "cell_type": "code",
   "execution_count": 13,
   "id": "539d8f69-0d20-4fd3-9243-7c8e05474108",
   "metadata": {
    "colab": {
     "base_uri": "https://localhost:8080/"
    },
    "executionInfo": {
     "elapsed": 329,
     "status": "ok",
     "timestamp": 1635283888221,
     "user": {
      "displayName": "Jose Luis Ojeda",
      "photoUrl": "https://lh3.googleusercontent.com/a-/AOh14GioxvwskRaM2HjJwQ_L936mkRS1wMOHPWrqOWUffw=s64",
      "userId": "12240071782040482724"
     },
     "user_tz": 300
    },
    "id": "FAfeOiHoOiJb",
    "outputId": "d9eb5050-80c7-4a4e-e113-9571e4e5432a"
   },
   "outputs": [
    {
     "name": "stdout",
     "output_type": "stream",
     "text": [
      "(array([3, 5, 6]),)\n",
      "(array([1, 3, 5, 6]),)\n",
      "[[1 2 3 4]\n",
      " [5 6 7 8]]\n"
     ]
    }
   ],
   "source": [
    "# Busquedas en matrices en Numpy\n",
    "import numpy as np\n",
    "arr = np.array([1, 2, 3, 4, 5, 4, 4]) \n",
    "x = np.where(arr == 4)\n",
    "print(x)\n",
    "\n",
    "x = np.where(arr % 2 == 0) \n",
    "print(x)\n",
    "\n",
    "# Ordenamiento de matrices en Numpy\n",
    "\n",
    "arr = np.array([[4, 2, 3, 1] , [8, 6, 7, 5]]) \n",
    "print(np.sort(arr))\n"
   ]
  },
  {
   "cell_type": "code",
   "execution_count": 14,
   "id": "807d7166-538b-4d0b-82d5-d4781b8acb56",
   "metadata": {
    "colab": {
     "base_uri": "https://localhost:8080/"
    },
    "executionInfo": {
     "elapsed": 318,
     "status": "ok",
     "timestamp": 1635284133575,
     "user": {
      "displayName": "Jose Luis Ojeda",
      "photoUrl": "https://lh3.googleusercontent.com/a-/AOh14GioxvwskRaM2HjJwQ_L936mkRS1wMOHPWrqOWUffw=s64",
      "userId": "12240071782040482724"
     },
     "user_tz": 300
    },
    "id": "LRs8MajuQPov",
    "outputId": "1389d7a9-226b-44ae-fe9c-ab46216a65db"
   },
   "outputs": [
    {
     "name": "stdout",
     "output_type": "stream",
     "text": [
      "2\n",
      "0.6729905445310864\n",
      "[56 92  7 93 69]\n",
      "[[50  3 24 43 11]\n",
      " [35 92 55 49 12]\n",
      " [57 36  4 39 22]]\n",
      "[[0.05842135 0.46813186 0.23581564 0.07433414 0.48903569]\n",
      " [0.08415823 0.76863456 0.38170891 0.31376704 0.1912873 ]\n",
      " [0.59973697 0.31898435 0.96790009 0.05691389 0.03690466]]\n"
     ]
    }
   ],
   "source": [
    "# Aleatorios con Numpy\n",
    "# Generación de aleatorios en Numpy\n",
    "\n",
    "from numpy import random\n",
    "x = random.randint(100) # genera un entero entre 1 y 100\n",
    "print(x)\n",
    "\n",
    "from numpy import random\n",
    "x = random.rand() # genera un aleatorio entre 0 y 1\n",
    "print(x)\n",
    "\n",
    "from numpy import random\n",
    "x = random.randint(100, size=(5)) # genera un vector de 5 elementos\n",
    "print(x)\n",
    "\n",
    "x = random.randint(100, size=(3, 5)) # genera una matriz 3x5 con números \n",
    "                                     # entre 0 y 100\n",
    "print(x)\n",
    "\n",
    "x  = random.rand(3, 5) # genera una matriz 3x5 con alaeatorios entre 0 y 1\n",
    "print(x)"
   ]
  },
  {
   "cell_type": "code",
   "execution_count": 15,
   "id": "226ef71e-c1b7-4ecd-bcf1-1d8409779c50",
   "metadata": {
    "colab": {
     "base_uri": "https://localhost:8080/"
    },
    "executionInfo": {
     "elapsed": 316,
     "status": "ok",
     "timestamp": 1635284342174,
     "user": {
      "displayName": "Jose Luis Ojeda",
      "photoUrl": "https://lh3.googleusercontent.com/a-/AOh14GioxvwskRaM2HjJwQ_L936mkRS1wMOHPWrqOWUffw=s64",
      "userId": "12240071782040482724"
     },
     "user_tz": 300
    },
    "id": "XBJ5D4LyRxQB",
    "outputId": "eaa80edd-5592-422b-ae3c-27b4dd387670"
   },
   "outputs": [
    {
     "name": "stdout",
     "output_type": "stream",
     "text": [
      "8\n",
      "[[ 3  8 15 18  5]\n",
      " [18  8  5  8 15]\n",
      " [ 8 18  8  8  8]]\n"
     ]
    }
   ],
   "source": [
    "# Selección aleatoria de elementos en arreglos en Numpy\n",
    "from numpy import random\n",
    "x = random.choice([3, 5, 8, 15, 18]) \n",
    "print(x)\n",
    "# Debe imprimir uno de los elementos del vector escogido aleatoriamente\n",
    "\n",
    "from numpy import random\n",
    "x = random.choice([3, 5, 8, 15, 18], size=(3, 5))\n",
    "print(x)\n"
   ]
  },
  {
   "cell_type": "code",
   "execution_count": 16,
   "id": "6edb8ec2-9d48-41a4-a515-0a6d9c09f88f",
   "metadata": {
    "colab": {
     "base_uri": "https://localhost:8080/"
    },
    "executionInfo": {
     "elapsed": 329,
     "status": "ok",
     "timestamp": 1635284443174,
     "user": {
      "displayName": "Jose Luis Ojeda",
      "photoUrl": "https://lh3.googleusercontent.com/a-/AOh14GioxvwskRaM2HjJwQ_L936mkRS1wMOHPWrqOWUffw=s64",
      "userId": "12240071782040482724"
     },
     "user_tz": 300
    },
    "id": "snTr5OsYSAk0",
    "outputId": "a48ff593-e5cc-4aea-b0d1-f61a3e647d01"
   },
   "outputs": [
    {
     "name": "stdout",
     "output_type": "stream",
     "text": [
      "[7 5 7 1 5 5 1 5 1 7 1 5 5 5 5 3 5 3 3 5 5 1 5 5 5 3 3 5 5 5 1 5 3 5 1 7 3\n",
      " 3 5 3 5 3 5 5 3 5 5 5 3 5 3 5 5 5 5 1 3 1 5 3 1 3 5 1 5 1 5 1 5 5 5 3 5 5\n",
      " 5 5 7 3 7 3 3 5 3 5 3 3 5 5 1 1 3 3 3 3 3 5 1 7 5 3]\n"
     ]
    }
   ],
   "source": [
    "# Distribución  aleatoria en Numpy\n",
    "from numpy import random\n",
    "x = random.choice([1, 3, 5, 7], p=[0.2, 0.3, 0.4, 0.1], size=(100))\n",
    "print(x)\n"
   ]
  },
  {
   "cell_type": "markdown",
   "id": "5f193b21-5925-4da0-8a7c-b502ca901821",
   "metadata": {},
   "source": [
    "## Algunos ejemplos adicionales"
   ]
  },
  {
   "cell_type": "code",
   "execution_count": null,
   "id": "3f5ab139-6b97-4eb3-a7ef-c3919de9dffa",
   "metadata": {},
   "outputs": [],
   "source": [
    "arr = np.array([[1,2,3,4,5], [6,7,8,9,10]]) \n",
    "print('2do element de la 1ra dim: ', arr[0, 1])\n"
   ]
  },
  {
   "cell_type": "code",
   "execution_count": null,
   "id": "c83a0601-b05e-4df7-a4f9-1ed760c9d8bb",
   "metadata": {},
   "outputs": [],
   "source": [
    "arr = np.array([[1,2,3,4,5], [6,7,8,9,10]]) \n",
    "print('Ultimo elemento de 2da dim: ', arr[1, -1])\n"
   ]
  },
  {
   "cell_type": "code",
   "execution_count": null,
   "id": "f16ab4ae-7bee-4d0b-b78d-a4bbf44db48c",
   "metadata": {},
   "outputs": [],
   "source": [
    "import numpy as np\n",
    "arr = np.array([[[1, 2, 3], [4, 5, 6]], [[7, 8, 9], [10, 11, 12]]])\n",
    "print(arr.dtype)\n"
   ]
  },
  {
   "cell_type": "code",
   "execution_count": null,
   "id": "b0f8704a-8753-44ab-98d4-60d29dc80c7d",
   "metadata": {},
   "outputs": [],
   "source": [
    "import numpy as np\n",
    "arr = np.array([1.1, 2.3, 3.4])\n",
    "print(arr)\n",
    "print(arr.dtype)\n",
    "nuevarr = arr.astype('I') \n",
    "print(nuevarr)\n",
    "print(nuevarr.dtype)"
   ]
  },
  {
   "cell_type": "code",
   "execution_count": null,
   "id": "e9c7e49b-da98-40d9-a3cc-1130aa7ba828",
   "metadata": {},
   "outputs": [],
   "source": [
    "import numpy as np\n",
    "arr = np.array([[1, 2, 3, 4], [5, 6, 7, 8]]) \n",
    "print(arr.shape)\n"
   ]
  },
  {
   "cell_type": "code",
   "execution_count": null,
   "id": "bcb2c815-8cc7-40e9-97a9-66c9af36663f",
   "metadata": {},
   "outputs": [],
   "source": [
    "import numpy as np\n",
    "arr = np.array([1, 2, 3, 4, 5, 6, 7, 8, 9, 10, 11, 12])\n",
    "nuevarr = arr.reshape(4, 3)\n",
    "# Crea un nuevo arreglo de 4 filas y 3 columnas\n",
    "print(nuevarr)\n"
   ]
  },
  {
   "cell_type": "code",
   "execution_count": null,
   "id": "50ee1730-9b96-453a-af6e-efe5fa2b992d",
   "metadata": {},
   "outputs": [],
   "source": [
    "arr = np.array([1, 2, 3, 4, 5, 6, 7, 8, 9, 10, 11, 12])\n",
    "nuevarr = arr.reshape(2, 3, 2)\n",
    "# Crea un nuevo arreglo de 2 filas, 3 columnas y 2 elementos\n",
    "print(nuevarr)\n"
   ]
  },
  {
   "cell_type": "code",
   "execution_count": null,
   "id": "f85e4bba-2a16-49dc-9bf7-4b11db3be004",
   "metadata": {},
   "outputs": [],
   "source": [
    "import numpy as np\n",
    "arr = np.array([1, 2, 3, 4]) \n",
    "for x in arr:\n",
    "    print(x)\n"
   ]
  },
  {
   "cell_type": "code",
   "execution_count": null,
   "id": "4ad1d5f3-6299-4dd4-84d9-8d86550dd48d",
   "metadata": {},
   "outputs": [],
   "source": [
    "import numpy as np\n",
    "arr = np.array([[1, 2, 3, 4], [5, 6, 7, 8]]) \n",
    "for x in arr:\n",
    "    for y in x:\n",
    "        print(y)\n"
   ]
  },
  {
   "cell_type": "code",
   "execution_count": null,
   "id": "aeeb85e7-0db5-4a55-a309-ff985046a46f",
   "metadata": {
    "colab": {
     "base_uri": "https://localhost:8080/"
    },
    "executionInfo": {
     "elapsed": 301,
     "status": "ok",
     "timestamp": 1625627434476,
     "user": {
      "displayName": "Norman Estuardo Reyes Morales",
      "photoUrl": "",
      "userId": "18273577649580515371"
     },
     "user_tz": 300
    },
    "id": "ZJkVgiSS4S3a",
    "outputId": "da8b12b4-cccb-49d6-949f-b854b03387f2"
   },
   "outputs": [],
   "source": [
    "import numpy as np\n",
    "arr2d=np.array([[23,45,67,34],[12,65,98,92], [24,56,93,67], [48,78,63,85]])\n",
    "print(arr2d[:,:]) \n",
    "print(arr2d[:,2:]) \n",
    "print(arr2d[:,1::2])   # imprime las posiciones impares de las filas\n",
    "print(\"=\"*30)\n",
    "print(arr2d[1::2,1:3]) # imprime filas impares las posiciones 1 y 2\n",
    "print(arr2d[1,2])"
   ]
  },
  {
   "cell_type": "code",
   "execution_count": null,
   "id": "689ad9ee-49e6-4822-b795-dfc98ddc3949",
   "metadata": {
    "colab": {
     "base_uri": "https://localhost:8080/"
    },
    "executionInfo": {
     "elapsed": 427,
     "status": "ok",
     "timestamp": 1625629360892,
     "user": {
      "displayName": "Norman Estuardo Reyes Morales",
      "photoUrl": "",
      "userId": "18273577649580515371"
     },
     "user_tz": 300
    },
    "id": "Jnlq43QtB8L-",
    "outputId": "98cc2107-74e8-49e2-c8a6-3ba7f79bc91b"
   },
   "outputs": [],
   "source": [
    "import numpy as np\n",
    "arr1d=np.array([23,45,67,34,98,92,56,32,89,57,23,4])\n",
    "print(arr1d)\n",
    "print(arr1d.shape)\n",
    "narr1d = arr1d.reshape(2,6)\n",
    "print(narr1d)\n",
    "print(narr1d.shape)\n",
    "nnarr1d = narr1d.reshape(3,4)\n",
    "print(nnarr1d)"
   ]
  },
  {
   "cell_type": "code",
   "execution_count": null,
   "id": "8f816140-8d12-4cf4-a309-14bcf67ff6bf",
   "metadata": {
    "colab": {
     "base_uri": "https://localhost:8080/"
    },
    "executionInfo": {
     "elapsed": 359,
     "status": "ok",
     "timestamp": 1625629448137,
     "user": {
      "displayName": "Norman Estuardo Reyes Morales",
      "photoUrl": "",
      "userId": "18273577649580515371"
     },
     "user_tz": 300
    },
    "id": "sQeXpSm8EGgL",
    "outputId": "460f07d0-816a-4fb7-e7d7-61471c751e32"
   },
   "outputs": [],
   "source": [
    "import numpy as np\n",
    "arr1d=np.array([23,45,67,34,98,92,56,32,89,57,23,4])\n",
    "for x in arr1d:\n",
    "  print(x)"
   ]
  },
  {
   "cell_type": "code",
   "execution_count": null,
   "id": "8e7f889e-6f63-44af-b14c-2a5de17f5b2c",
   "metadata": {
    "colab": {
     "base_uri": "https://localhost:8080/"
    },
    "executionInfo": {
     "elapsed": 399,
     "status": "ok",
     "timestamp": 1625630605103,
     "user": {
      "displayName": "Norman Estuardo Reyes Morales",
      "photoUrl": "",
      "userId": "18273577649580515371"
     },
     "user_tz": 300
    },
    "id": "bt2r6azRIU8x",
    "outputId": "5cefb0e2-a586-47bf-b91a-545bc37756f5"
   },
   "outputs": [
    {
     "name": "stdout",
     "output_type": "stream",
     "text": [
      "[23 45 67 34 12 65 98 92]\n"
     ]
    }
   ],
   "source": [
    "import numpy as np\n",
    "arr1=np.array([23,45,67,34])\n",
    "arr2=np.array([12,65,98,92])\n",
    "arr3 = np.concatenate((arr1, arr2))\n",
    "print(arr3)"
   ]
  },
  {
   "cell_type": "code",
   "execution_count": null,
   "id": "7e6ac169-6763-4bf8-8cfc-6c5162fe5e0c",
   "metadata": {
    "colab": {
     "base_uri": "https://localhost:8080/"
    },
    "executionInfo": {
     "elapsed": 290,
     "status": "ok",
     "timestamp": 1625799139702,
     "user": {
      "displayName": "Norman Estuardo Reyes Morales",
      "photoUrl": "",
      "userId": "18273577649580515371"
     },
     "user_tz": 300
    },
    "id": "AIWHppBSKC9E",
    "outputId": "a61aa8b5-f267-4f49-8840-5d0f6965b718"
   },
   "outputs": [
    {
     "name": "stdout",
     "output_type": "stream",
     "text": [
      "[87 13 96 96 92 92  9 75 16 32]\n",
      "-//--//--//--//--//--//--//--//--//--//--//--//--//--//--//--//--//--//--//--//--//--//--//--//--//--//--//--//--//--//--//--//--//--//--//-\n",
      "[[ 8 49 37 37  0 23]\n",
      " [ 5  2 39 26 10 17]\n",
      " [48 33 43  4 18 16]\n",
      " [32  5 29 12 29 38]]\n"
     ]
    }
   ],
   "source": [
    "from numpy import random\n",
    "x    = random.randint(100, size=(10))    # un aleatorio como limite el 100 en una lista de 10\n",
    "print(x)\n",
    "print(\"-//-\"*35)\n",
    "y    = random.randint(50, size=(4,6))    # un aleatorio como limite el 100 en una lista de 10\n",
    "print(y)"
   ]
  },
  {
   "cell_type": "code",
   "execution_count": null,
   "id": "d1299d10-4382-4001-a37d-832aedd4331b",
   "metadata": {
    "colab": {
     "base_uri": "https://localhost:8080/"
    },
    "executionInfo": {
     "elapsed": 277,
     "status": "ok",
     "timestamp": 1625799575827,
     "user": {
      "displayName": "Norman Estuardo Reyes Morales",
      "photoUrl": "",
      "userId": "18273577649580515371"
     },
     "user_tz": 300
    },
    "id": "EYr3eZNxLyF4",
    "outputId": "afda16bb-ee61-460a-92ec-7522394e808d"
   },
   "outputs": [
    {
     "name": "stdout",
     "output_type": "stream",
     "text": [
      "7\n",
      "[[ 3  3  9  9]\n",
      " [11 11  5  3]\n",
      " [11  5  7  9]\n",
      " [ 5  5  7 11]]\n",
      "[[ 3  7  7 11  3]\n",
      " [ 3  3  5  7  3]\n",
      " [ 9  7  5  7  7]]\n"
     ]
    }
   ],
   "source": [
    "from numpy import random\n",
    "x    = random.choice([3,5,7,9,11])    # un aleatorio como limite el 100 en una lista de 10\n",
    "print(x)\n",
    "y    = random.choice([3,5,7,9,11], size=(4,4))    # un aleatorio como limite el 100 en una lista de 10\n",
    "print(y)\n",
    "z    = random.choice([3,5,7,9,11], p=[0.15,0.25,0.35,0.1,0.15], size=(3,5))    # un aleatorio como limite el 100 en una lista de 10\n",
    "print(z)"
   ]
  },
  {
   "cell_type": "markdown",
   "id": "53a4dc51-025f-4b28-8879-4ea57b21ea5b",
   "metadata": {
    "id": "aa0nW81PNvwr"
   },
   "source": [
    "# **Distribuciones con Numpy**"
   ]
  },
  {
   "cell_type": "code",
   "execution_count": 43,
   "id": "b04db2fb-4200-4ce2-bde4-303e2e8eb6d9",
   "metadata": {
    "colab": {
     "base_uri": "https://localhost:8080/",
     "height": 389
    },
    "executionInfo": {
     "elapsed": 402,
     "status": "ok",
     "timestamp": 1625800321867,
     "user": {
      "displayName": "Norman Estuardo Reyes Morales",
      "photoUrl": "",
      "userId": "18273577649580515371"
     },
     "user_tz": 300
    },
    "id": "_FD59vpkN1ld",
    "outputId": "029f710c-74fb-42f4-a0ee-195b36f965c7"
   },
   "outputs": [
    {
     "name": "stdout",
     "output_type": "stream",
     "text": [
      "-*/--*/--*/--*/--*/--*/--*/--*/--*/--*/--*/--*/--*/--*/--*/--*/--*/--*/--*/--*/--*/--*/--*/--*/--*/--*/--*/--*/--*/--*/--*/--*/--*/--*/--*/--*/--*/--*/--*/--*/-\n"
     ]
    },
    {
     "data": {
      "text/plain": [
       "<seaborn.axisgrid.FacetGrid at 0x27701875180>"
      ]
     },
     "execution_count": 43,
     "metadata": {},
     "output_type": "execute_result"
    },
    {
     "data": {
      "image/png": "[encoded data removed]",
      "text/plain": [
       "<Figure size 360x360 with 1 Axes>"
      ]
     },
     "metadata": {
      "needs_background": "light"
     },
     "output_type": "display_data"
    },
    {
     "data": {
      "image/png": "[encoded data removed]",
      "text/plain": [
       "<Figure size 360x360 with 1 Axes>"
      ]
     },
     "metadata": {
      "needs_background": "light"
     },
     "output_type": "display_data"
    }
   ],
   "source": [
    "from numpy import random\n",
    "import matplotlib.pyplot as plt\n",
    "import seaborn as sns\n",
    "arr = random.normal(size=10000)    # un aleatorio como limite el 100 en una lista de 10\n",
    "#print(arr)\n",
    "print(\"-*/-\"*40)\n",
    "arr1N = random.normal(loc=5, scale=0.75, size=10000)    # un aleatorio como limite el 100 en una lista de 10\n",
    "#print(arr1N)\n",
    "sns.displot(arr, kind=\"kde\")\n",
    "#plt.show\n",
    "sns.displot(arr1N, kind=\"kde\")\n",
    "#plt.show"
   ]
  },
  {
   "cell_type": "code",
   "execution_count": 44,
   "id": "31b7c228-813f-43f5-9989-bf89132cca87",
   "metadata": {
    "colab": {
     "base_uri": "https://localhost:8080/",
     "height": 337
    },
    "executionInfo": {
     "elapsed": 500,
     "status": "ok",
     "timestamp": 1625800461066,
     "user": {
      "displayName": "Norman Estuardo Reyes Morales",
      "photoUrl": "",
      "userId": "18273577649580515371"
     },
     "user_tz": 300
    },
    "id": "FdrEPLehQPyV",
    "outputId": "12b9b81b-8b0f-49ac-f297-f2cb1128b04b"
   },
   "outputs": [
    {
     "name": "stdout",
     "output_type": "stream",
     "text": [
      "[6 5 3 5 3 3 6 3 8 5]\n"
     ]
    },
    {
     "data": {
      "text/plain": [
       "<seaborn.axisgrid.FacetGrid at 0x27704f7c4c0>"
      ]
     },
     "execution_count": 44,
     "metadata": {},
     "output_type": "execute_result"
    },
    {
     "data": {
      "image/png": "[encoded data removed]",
      "text/plain": [
       "<Figure size 360x360 with 1 Axes>"
      ]
     },
     "metadata": {
      "needs_background": "light"
     },
     "output_type": "display_data"
    }
   ],
   "source": [
    "from numpy import random\n",
    "import matplotlib.pyplot as plt\n",
    "import seaborn as sns\n",
    "x = random.binomial(n=10, p=0.5, size=10)\n",
    "print(x) \t\t\t# Debe imprimir una matriz 2x3 con los elementos flotantes Normales\n",
    "sns.displot(random.binomial(n=10, p=0.5, size=1000))\n",
    "#plt.show()"
   ]
  },
  {
   "cell_type": "code",
   "execution_count": 53,
   "id": "ac675ab5-e7f6-4270-b717-0a30d95500a6",
   "metadata": {
    "colab": {
     "base_uri": "https://localhost:8080/",
     "height": 355
    },
    "executionInfo": {
     "elapsed": 754,
     "status": "ok",
     "timestamp": 1625800821165,
     "user": {
      "displayName": "Norman Estuardo Reyes Morales",
      "photoUrl": "",
      "userId": "18273577649580515371"
     },
     "user_tz": 300
    },
    "id": "8gpqqBJMQybm",
    "outputId": "25c7b54b-5e0a-47f9-9584-07c51aa80cf3"
   },
   "outputs": [
    {
     "data": {
      "image/png": "[encoded data removed]",
      "text/plain": [
       "<Figure size 360x360 with 1 Axes>"
      ]
     },
     "metadata": {
      "needs_background": "light"
     },
     "output_type": "display_data"
    },
    {
     "data": {
      "image/png": "[encoded data removed]",
      "text/plain": [
       "<Figure size 360x360 with 1 Axes>"
      ]
     },
     "metadata": {
      "needs_background": "light"
     },
     "output_type": "display_data"
    }
   ],
   "source": [
    "from numpy import random\n",
    "import matplotlib.pyplot as plt\n",
    "import seaborn as sns\n",
    "sns.displot(random.normal(loc=10, scale=1, size=10000), kind=\"kde\")\n",
    "sns.displot(random.binomial(n=100, p=0.1, size=10000), kind=\"kde\")\n",
    "plt.show()"
   ]
  },
  {
   "cell_type": "code",
   "execution_count": 48,
   "id": "4e302587-2dd0-464b-8097-14bd1a5ff870",
   "metadata": {
    "colab": {
     "base_uri": "https://localhost:8080/",
     "height": 337
    },
    "executionInfo": {
     "elapsed": 495,
     "status": "ok",
     "timestamp": 1625800955988,
     "user": {
      "displayName": "Norman Estuardo Reyes Morales",
      "photoUrl": "",
      "userId": "18273577649580515371"
     },
     "user_tz": 300
    },
    "id": "VtF87qJgSOyv",
    "outputId": "87681192-c2ed-4ce6-985e-92df213ccf42"
   },
   "outputs": [
    {
     "name": "stdout",
     "output_type": "stream",
     "text": [
      "[3 1 2 0 3 2 1 0 2 2]\n"
     ]
    },
    {
     "data": {
      "image/png": "[encoded data removed]",
      "text/plain": [
       "<Figure size 360x360 with 1 Axes>"
      ]
     },
     "metadata": {
      "needs_background": "light"
     },
     "output_type": "display_data"
    }
   ],
   "source": [
    "from numpy import random\n",
    "import matplotlib.pyplot as plt\n",
    "import seaborn as sns\n",
    "x = random.poisson(lam=2, size=10)\n",
    "print(x) \t\t\t# Debe imprimir una matriz 2x3 con los elementos flotantes Normales\n",
    "sns.displot(random.poisson(lam=2, size=1000))\n",
    "plt.show()"
   ]
  },
  {
   "cell_type": "markdown",
   "id": "54c5da8a-0565-439a-b5d2-94eef93a61c8",
   "metadata": {
    "id": "OCOnJ2qNTXz1"
   },
   "source": [
    "**Graficar f(x)=e−x^2**"
   ]
  },
  {
   "cell_type": "code",
   "execution_count": 51,
   "id": "93420493-bf6f-417e-873b-0567d2adf0de",
   "metadata": {
    "colab": {
     "base_uri": "https://localhost:8080/",
     "height": 319
    },
    "executionInfo": {
     "elapsed": 849,
     "status": "ok",
     "timestamp": 1625801354569,
     "user": {
      "displayName": "Norman Estuardo Reyes Morales",
      "photoUrl": "",
      "userId": "18273577649580515371"
     },
     "user_tz": 300
    },
    "id": "93SjaHPQTMOR",
    "outputId": "91a6142f-48a1-47d3-fd41-d5ce0f4f7da0"
   },
   "outputs": [
    {
     "data": {
      "image/png": "[encoded data removed]",
      "text/plain": [
       "<Figure size 432x288 with 1 Axes>"
      ]
     },
     "metadata": {
      "needs_background": "light"
     },
     "output_type": "display_data"
    }
   ],
   "source": [
    "import matplotlib.pyplot as plt\n",
    "import numpy as np\n",
    "def f(x):                     # Se define la función f(x)\n",
    "    return np.exp(-x ** 2)\n",
    "\n",
    "x = np.linspace(-1, 5, num=30)  # Se generan una lista con 30 valores aleatorios desde -1 hata 5\n",
    "#print(x)\n",
    "plt.xlabel(\"Eje $x$\")\n",
    "plt.ylabel(\"$f(x)$\")\n",
    "#plt.legend()\n",
    "plt.title(\"Funcion $f(x)$\")\n",
    "plt.grid(True)\n",
    "fig = plt.plot(x, f(x), label=\"Función f(x)\")"
   ]
  },
  {
   "cell_type": "markdown",
   "id": "1e270629-c3ef-4767-b5a3-039ad1ee07ee",
   "metadata": {
    "id": "QVGHrUWIVEjQ"
   },
   "source": [
    "Graficar f(x)=x2"
   ]
  },
  {
   "cell_type": "code",
   "execution_count": 52,
   "id": "cd265cc7-b6a2-47e1-a864-51376df0e12a",
   "metadata": {
    "colab": {
     "base_uri": "https://localhost:8080/",
     "height": 321
    },
    "executionInfo": {
     "elapsed": 372,
     "status": "ok",
     "timestamp": 1625801740677,
     "user": {
      "displayName": "Norman Estuardo Reyes Morales",
      "photoUrl": "",
      "userId": "18273577649580515371"
     },
     "user_tz": 300
    },
    "id": "QhMQtRlPVDbY",
    "outputId": "39d9561e-da88-428f-d282-ff3327cb0360"
   },
   "outputs": [
    {
     "data": {
      "image/png": "[encoded data removed]",
      "text/plain": [
       "<Figure size 432x288 with 1 Axes>"
      ]
     },
     "metadata": {
      "needs_background": "light"
     },
     "output_type": "display_data"
    }
   ],
   "source": [
    "import matplotlib.pyplot as plt\n",
    "import numpy as np\n",
    "def f(x):                     # Se define la función f(x)\n",
    "    return x ** 2\n",
    "\n",
    "x = np.linspace(-5, 5, num=200)  # Se generan una lista con 30 valores aleatorios desde -1 hata 5\n",
    "#print(x)\n",
    "plt.xlabel(\"Eje $x$\")\n",
    "plt.ylabel(\"$f(x)=x^2$\")\n",
    "#plt.legend()\n",
    "plt.title(\"Funcion $f(x)=x^2$\")\n",
    "plt.grid(True)\n",
    "fig = plt.plot(x, f(x), label=\"Función f(x)\")"
   ]
  },
  {
   "cell_type": "code",
   "execution_count": null,
   "id": "bf666c44-ebca-45cf-ad77-7a3fae1e6a03",
   "metadata": {},
   "outputs": [],
   "source": []
  }
 ],
 "metadata": {
  "colab": {
   "collapsed_sections": [
    "DZSp8Rd1kcPj"
   ],
   "name": "IN51-Clase-20211022.ipynb",
   "provenance": []
  },
  "kernelspec": {
   "display_name": "Python 3 (ipykernel)",
   "language": "python",
   "name": "python3"
  },
  "language_info": {
   "codemirror_mode": {
    "name": "ipython",
    "version": 3
   },
   "file_extension": ".py",
   "mimetype": "text/x-python",
   "name": "python",
   "nbconvert_exporter": "python",
   "pygments_lexer": "ipython3",
   "version": "3.10.0"
  }
 },
 "nbformat": 4,
 "nbformat_minor": 5
}
