{
 "cells": [
  {
   "cell_type": "code",
   "execution_count": 1,
   "metadata": {
    "colab": {
     "base_uri": "https://localhost:8080/"
    },
    "executionInfo": {
     "elapsed": 10,
     "status": "ok",
     "timestamp": 1633218905936,
     "user": {
      "displayName": "Jose Luis Ojeda",
      "photoUrl": "https://lh3.googleusercontent.com/a-/AOh14GioxvwskRaM2HjJwQ_L936mkRS1wMOHPWrqOWUffw=s64",
      "userId": "12240071782040482724"
     },
     "user_tz": 300
    },
    "id": "EYnRy-cpA7Ph",
    "outputId": "3dac2356-ae3f-4e79-d2fe-fae43f2ff386"
   },
   "outputs": [
    {
     "name": "stdout",
     "output_type": "stream",
     "text": [
      "aprobado muy bueno\n",
      "0.000997781753540039\n"
     ]
    }
   ],
   "source": [
    "# Multiples condicones manera directa if\n",
    "\n",
    "import time\n",
    "inicio = time.time() \n",
    "\n",
    "nota = 18\n",
    "if nota < 13:\n",
    "    print(\"Desaprobado\", \"malo\")\n",
    "elif nota < 16:\n",
    "    print(\"aprobado\", \"regular\")\n",
    "elif nota < 18:\n",
    "    print(\"aprobado\", \"bueno\")\n",
    "elif nota < 20:\n",
    "    print(\"aprobado\", \"muy bueno\")\n",
    "else:\n",
    "    print(\"aprobado\", \"excelente\")\n",
    "\n",
    "fin = time.time()\n",
    "tiempoDirectoIf = fin-inicio\n",
    "print(fin-inicio)"
   ]
  },
  {
   "cell_type": "code",
   "execution_count": null,
   "metadata": {
    "colab": {
     "base_uri": "https://localhost:8080/"
    },
    "executionInfo": {
     "elapsed": 322,
     "status": "ok",
     "timestamp": 1633218914560,
     "user": {
      "displayName": "Jose Luis Ojeda",
      "photoUrl": "https://lh3.googleusercontent.com/a-/AOh14GioxvwskRaM2HjJwQ_L936mkRS1wMOHPWrqOWUffw=s64",
      "userId": "12240071782040482724"
     },
     "user_tz": 300
    },
    "id": "HgcmTOsjAe_c",
    "outputId": "375e1e20-d836-417a-a4f2-2b3fb0ed63a4"
   },
   "outputs": [
    {
     "name": "stdout",
     "output_type": "stream",
     "text": [
      "aprobado muy bueno\n",
      "0.0003294944763183594\n"
     ]
    }
   ],
   "source": [
    "# usando dicionarios para evaluar alternativas\n",
    "# usado compresión\n",
    "import time\n",
    "inicio = time.time() \n",
    "\n",
    "notasDicc = {\n",
    "    (x for x in range(0, 13)):[\"Desaprobado\", \"malo\"],\n",
    "    (x for x in range(13, 16)):[\"aprobado\", \"regular\"], \n",
    "    (x for x in range(16, 18)):[\"aprobado\", \"bueno\"],\n",
    "    (x for x in range(18, 20)):[\"aprobado\", \"muy bueno\"],\n",
    "    (20,):[\"aprobado\", \"excelente\"]\n",
    "}\n",
    "\n",
    "nota = 18\n",
    "for i, j in notasDicc.items():\n",
    "    if nota in i:\n",
    "        estado = j[0]\n",
    "        obser = j[1]\n",
    "        break\n",
    "\n",
    "print(estado, obser)\n",
    "fin = time.time()\n",
    "tiempoCompresion = fin-inicio\n",
    "print(fin-inicio)"
   ]
  },
  {
   "cell_type": "code",
   "execution_count": null,
   "metadata": {
    "colab": {
     "base_uri": "https://localhost:8080/"
    },
    "executionInfo": {
     "elapsed": 764,
     "status": "ok",
     "timestamp": 1633218923418,
     "user": {
      "displayName": "Jose Luis Ojeda",
      "photoUrl": "https://lh3.googleusercontent.com/a-/AOh14GioxvwskRaM2HjJwQ_L936mkRS1wMOHPWrqOWUffw=s64",
      "userId": "12240071782040482724"
     },
     "user_tz": 300
    },
    "id": "vgEfZsh1BRUk",
    "outputId": "15a83a4c-2d1c-470f-f4f1-95d7db48ca78"
   },
   "outputs": [
    {
     "name": "stdout",
     "output_type": "stream",
     "text": [
      "aprobado muy bueno\n",
      "0.00023555755615234375\n"
     ]
    }
   ],
   "source": [
    "# Usando formas directas para crear diccionarios\n",
    "\n",
    "import time\n",
    "inicio = time.time() \n",
    "\n",
    "notasDicc = {\n",
    "    (0, 1, 2, 3, 4, 5, 6, 7, 8, 9, 10, 11, 12):[\"Desaprobado\", \"malo\"],\n",
    "    (13, 14, 15):[\"aprobado\", \"regular\"], \n",
    "    (16, 17):[\"aprobado\", \"bueno\"],\n",
    "    (18, 19):[\"aprobado\", \"muy bueno\"],\n",
    "    (20,):[\"aprobado\", \"excelente\"]\n",
    "}\n",
    "\n",
    "nota = 18\n",
    "for i, j in notasDicc.items():\n",
    "    if nota in i:\n",
    "        estado = j[0]\n",
    "        obser = j[1]\n",
    "        break\n",
    "\n",
    "print(estado, obser)\n",
    "fin = time.time()\n",
    "tiempoDirectoDicc = fin-inicio\n",
    "print(fin-inicio)"
   ]
  },
  {
   "cell_type": "code",
   "execution_count": null,
   "metadata": {
    "colab": {
     "base_uri": "https://localhost:8080/"
    },
    "executionInfo": {
     "elapsed": 526,
     "status": "ok",
     "timestamp": 1633218929529,
     "user": {
      "displayName": "Jose Luis Ojeda",
      "photoUrl": "https://lh3.googleusercontent.com/a-/AOh14GioxvwskRaM2HjJwQ_L936mkRS1wMOHPWrqOWUffw=s64",
      "userId": "12240071782040482724"
     },
     "user_tz": 300
    },
    "id": "6LL6TA0nBd5T",
    "outputId": "65bc8bdb-6d18-4cb4-e3db-9b7065ebe26f"
   },
   "outputs": [
    {
     "name": "stdout",
     "output_type": "stream",
     "text": [
      "aprobado muy bueno\n",
      "0.0003185272216796875\n"
     ]
    }
   ],
   "source": [
    "# Usando además funciones\n",
    "\n",
    "def califNota(nota):\n",
    "    for i, j in notasDicc.items():\n",
    "        if nota in i:\n",
    "            return j[0], j[1]\n",
    "    \n",
    "import time\n",
    "inicio = time.time() \n",
    "\n",
    "notasDicc = {\n",
    "    (0, 1, 2, 3, 4, 5, 6, 7, 8, 9, 10, 11, 12):[\"Desaprobado\", \"malo\"],\n",
    "    (13, 14, 15):[\"aprobado\", \"regular\"], \n",
    "    (16, 17):[\"aprobado\", \"bueno\"],\n",
    "    (18, 19):[\"aprobado\", \"muy bueno\"],\n",
    "    (20,):[\"aprobado\", \"excelente\"]\n",
    "}\n",
    "\n",
    "nota = 18\n",
    "estado, obvser = califNota(nota)\n",
    "\n",
    "print(estado, obvser)\n",
    "fin = time.time()\n",
    "tiempoConDef = fin-inicio\n",
    "print(fin-inicio)"
   ]
  },
  {
   "cell_type": "code",
   "execution_count": 2,
   "metadata": {
    "colab": {
     "base_uri": "https://localhost:8080/"
    },
    "executionInfo": {
     "elapsed": 326,
     "status": "ok",
     "timestamp": 1633218933138,
     "user": {
      "displayName": "Jose Luis Ojeda",
      "photoUrl": "https://lh3.googleusercontent.com/a-/AOh14GioxvwskRaM2HjJwQ_L936mkRS1wMOHPWrqOWUffw=s64",
      "userId": "12240071782040482724"
     },
     "user_tz": 300
    },
    "id": "DIedpsLrDPf-",
    "outputId": "f4186324-9529-4949-9383-18b4cdcc7613"
   },
   "outputs": [
    {
     "name": "stdout",
     "output_type": "stream",
     "text": [
      "aprobado muy bueno\n",
      "0.0009965896606445312\n"
     ]
    }
   ],
   "source": [
    "# con compresión\n",
    "# Usando además funciones\n",
    "\n",
    "def califNota(nota):\n",
    "    for i, j in notasDicc.items():\n",
    "        if nota in i:\n",
    "            return j[0], j[1]\n",
    "    \n",
    "import time\n",
    "inicio = time.time() \n",
    "\n",
    "notasDicc = {\n",
    "    (x for x in range(0, 13)):[\"Desaprobado\", \"malo\"],\n",
    "    (x for x in range(13, 16)):[\"aprobado\", \"regular\"], \n",
    "    (x for x in range(16, 18)):[\"aprobado\", \"bueno\"],\n",
    "    (x for x in range(18, 20)):[\"aprobado\", \"muy bueno\"],\n",
    "    (20,):[\"aprobado\", \"excelente\"]\n",
    "}\n",
    "\n",
    "nota = 18\n",
    "estado, obvser = califNota(nota)\n",
    "\n",
    "print(estado, obvser)\n",
    "fin = time.time()\n",
    "tiempoConCompDef = fin-inicio\n",
    "print(fin-inicio)"
   ]
  },
  {
   "cell_type": "code",
   "execution_count": 3,
   "metadata": {
    "colab": {
     "base_uri": "https://localhost:8080/"
    },
    "executionInfo": {
     "elapsed": 328,
     "status": "ok",
     "timestamp": 1633218938209,
     "user": {
      "displayName": "Jose Luis Ojeda",
      "photoUrl": "https://lh3.googleusercontent.com/a-/AOh14GioxvwskRaM2HjJwQ_L936mkRS1wMOHPWrqOWUffw=s64",
      "userId": "12240071782040482724"
     },
     "user_tz": 300
    },
    "id": "caMl87eqCeK2",
    "outputId": "f845bc85-e840-448c-dbb6-d665beddc75c"
   },
   "outputs": [
    {
     "name": "stdout",
     "output_type": "stream",
     "text": [
      "0.000997781753540039\n"
     ]
    },
    {
     "ename": "NameError",
     "evalue": "name 'tiempoCompresion' is not defined",
     "output_type": "error",
     "traceback": [
      "\u001b[1;31m---------------------------------------------------------------------------\u001b[0m",
      "\u001b[1;31mNameError\u001b[0m                                 Traceback (most recent call last)",
      "\u001b[1;32m~\\AppData\\Local\\Temp/ipykernel_15072/2334323532.py\u001b[0m in \u001b[0;36m<module>\u001b[1;34m\u001b[0m\n\u001b[0;32m      1\u001b[0m \u001b[0mprint\u001b[0m\u001b[1;33m(\u001b[0m\u001b[0mtiempoDirectoIf\u001b[0m\u001b[1;33m)\u001b[0m\u001b[1;33m\u001b[0m\u001b[1;33m\u001b[0m\u001b[0m\n\u001b[1;32m----> 2\u001b[1;33m \u001b[0mprint\u001b[0m\u001b[1;33m(\u001b[0m\u001b[0mtiempoCompresion\u001b[0m\u001b[1;33m)\u001b[0m\u001b[1;33m\u001b[0m\u001b[1;33m\u001b[0m\u001b[0m\n\u001b[0m\u001b[0;32m      3\u001b[0m \u001b[0mprint\u001b[0m\u001b[1;33m(\u001b[0m\u001b[0mtiempoDirectoDicc\u001b[0m\u001b[1;33m)\u001b[0m\u001b[1;33m\u001b[0m\u001b[1;33m\u001b[0m\u001b[0m\n\u001b[0;32m      4\u001b[0m \u001b[0mprint\u001b[0m\u001b[1;33m(\u001b[0m\u001b[0mtiempoConDef\u001b[0m\u001b[1;33m)\u001b[0m\u001b[1;33m\u001b[0m\u001b[1;33m\u001b[0m\u001b[0m\n\u001b[0;32m      5\u001b[0m \u001b[0mprint\u001b[0m\u001b[1;33m(\u001b[0m\u001b[0mtiempoConCompDef\u001b[0m\u001b[1;33m)\u001b[0m\u001b[1;33m\u001b[0m\u001b[1;33m\u001b[0m\u001b[0m\n",
      "\u001b[1;31mNameError\u001b[0m: name 'tiempoCompresion' is not defined"
     ]
    }
   ],
   "source": [
    "print(tiempoDirectoIf)\n",
    "print(tiempoCompresion)\n",
    "print(tiempoDirectoDicc)\n",
    "print(tiempoConDef)\n",
    "print(tiempoConCompDef)"
   ]
  },
  {
   "cell_type": "markdown",
   "metadata": {},
   "source": [
    "### ***Pandas***"
   ]
  },
  {
   "cell_type": "code",
   "execution_count": 4,
   "metadata": {},
   "outputs": [
    {
     "name": "stdout",
     "output_type": "stream",
     "text": [
      "  Rf,Agua,Alcantarillado\n",
      "0         10,1.116,0.504\n",
      "1         25,1.295,0.586\n",
      "2         50,2.865,1.293\n",
      "3       1000,4.858,2.193\n",
      "[['10,1.116,0.504'], ['25,1.295,0.586'], ['50,2.865,1.293'], ['1000,4.858,2.193']]\n"
     ]
    }
   ],
   "source": [
    "import pandas as pd\n",
    "\n",
    "df = pd.read_csv('tarifario.csv', sep=';')\n",
    "\n",
    "print(df.head())\n",
    "\n",
    "tarifario = df.values.tolist()\n",
    "\n",
    "print(tarifario)"
   ]
  },
  {
   "cell_type": "code",
   "execution_count": 5,
   "metadata": {},
   "outputs": [
    {
     "name": "stdout",
     "output_type": "stream",
     "text": [
      "Suministro correcto\n"
     ]
    }
   ],
   "source": [
    "sCli = input(\"Ingresar suministro (5 dígitos) \")\n",
    "if any([not sCli.isdigit(), len(sCli) != 5]):\n",
    "    print(\"Suministro incorrecto\")\n",
    "else:\n",
    "     print(\"Suministro correcto\")\n",
    "        "
   ]
  },
  {
   "cell_type": "code",
   "execution_count": 6,
   "metadata": {},
   "outputs": [
    {
     "name": "stdout",
     "output_type": "stream",
     "text": [
      "['Rf', 'Agua', 'Alcantarillado']\n",
      "['10', '1.116', '0.504']\n",
      "['25', '1.295', '0.586']\n",
      "['50', '2.865', '1.293']\n",
      "['1000', '4.858', '2.193']\n"
     ]
    }
   ],
   "source": [
    "import csv\n",
    " \n",
    "with open('tarifario.csv', newline='') as File:  \n",
    "    reader = csv.reader(File)\n",
    "    for row in reader:\n",
    "        print(row)"
   ]
  },
  {
   "cell_type": "code",
   "execution_count": 7,
   "metadata": {},
   "outputs": [
    {
     "name": "stdout",
     "output_type": "stream",
     "text": [
      "10 1.116 0.504\n",
      "25 1.295 0.586\n",
      "50 2.865 1.293\n",
      "1000 4.858 2.193\n"
     ]
    }
   ],
   "source": [
    "import csv\n",
    "with open('tarifario.csv') as csvfile:\n",
    "    reader = csv.DictReader(csvfile)\n",
    "    for row in reader:\n",
    "         print(row['Rf'], row['Agua'], row['Alcantarillado'])"
   ]
  },
  {
   "cell_type": "code",
   "execution_count": 12,
   "metadata": {},
   "outputs": [
    {
     "name": "stdout",
     "output_type": "stream",
     "text": [
      "Writing complete\n"
     ]
    }
   ],
   "source": [
    "import csv\n",
    " \n",
    "myData = [[\"first_name\", \"second_name\", \"Grade\"],\n",
    "          ['Alex', 'Brian', 19],\n",
    "          ['Tom', 'Smith', 17]]\n",
    " \n",
    "myFile = open('example2.csv', 'w')\n",
    "with myFile:\n",
    "    writer = csv.writer(myFile)\n",
    "    writer.writerows(myData)\n",
    "     \n",
    "print(\"Writing complete\")"
   ]
  },
  {
   "cell_type": "code",
   "execution_count": 13,
   "metadata": {},
   "outputs": [
    {
     "name": "stdout",
     "output_type": "stream",
     "text": [
      "Writing complete\n"
     ]
    }
   ],
   "source": [
    "import csv\n",
    " \n",
    "myData = [[\"first_name\", \"second_name\", \"Grade\"],\n",
    "          ['Alex', 'Brian', 'A'],\n",
    "          ['Tom', 'Smith', 'B']]\n",
    " \n",
    "myFile = open('example3.csv', 'w')\n",
    "with myFile:\n",
    "    writer = csv.writer(myFile)\n",
    "    writer.writerows(myData)\n",
    "     \n",
    "print(\"Writing complete\")"
   ]
  },
  {
   "cell_type": "code",
   "execution_count": 14,
   "metadata": {},
   "outputs": [
    {
     "name": "stdout",
     "output_type": "stream",
     "text": [
      "Writing complete\n"
     ]
    }
   ],
   "source": [
    "import csv\n",
    " \n",
    "with open('example4.csv', 'w') as csvfile:\n",
    "    fieldnames = ['first_name', 'last_name', 'Grade']\n",
    "    writer = csv.DictWriter(csvfile, fieldnames=fieldnames)\n",
    " \n",
    "    writer.writeheader()\n",
    "    writer.writerow({'Grade': 'B', 'first_name': 'Alex', 'last_name': 'Brian'})\n",
    "    writer.writerow({'Grade': 'A', 'first_name': 'Rachael',\n",
    "                     'last_name': 'Rodriguez'})\n",
    "    writer.writerow({'Grade': 'B', 'first_name': 'Jane', 'last_name': 'Oscar'})\n",
    "    writer.writerow({'Grade': 'B', 'first_name': 'Jane', 'last_name': 'Loive'})\n",
    " \n",
    "print(\"Writing complete\")"
   ]
  },
  {
   "cell_type": "code",
   "execution_count": 15,
   "metadata": {},
   "outputs": [
    {
     "name": "stdout",
     "output_type": "stream",
     "text": [
      "writing complete\n"
     ]
    }
   ],
   "source": [
    "import csv\n",
    " \n",
    "with open('example5.csv', 'w') as csvfile:\n",
    "    fieldnames = ['first_name', 'last_name', 'Grade']\n",
    "    writer = csv.DictWriter(csvfile, fieldnames=fieldnames)\n",
    " \n",
    "    writer.writeheader()\n",
    "    writer.writerows([{'Grade': 'B', 'first_name': 'Alex', 'last_name': 'Brian'},\n",
    "                      {'Grade': 'A', 'first_name': 'Rachael',\n",
    "                          'last_name': 'Rodriguez'},\n",
    "                      {'Grade': 'C', 'first_name': 'Tom', 'last_name': 'smith'},\n",
    "                      {'Grade': 'B', 'first_name': 'Jane', 'last_name': 'Oscar'},\n",
    "                      {'Grade': 'A', 'first_name': 'Kennzy', 'last_name': 'Tim'}])\n",
    " \n",
    "print(\"writing complete\")"
   ]
  },
  {
   "cell_type": "code",
   "execution_count": 16,
   "metadata": {},
   "outputs": [],
   "source": [
    "import csv\n",
    "\n",
    "myFile = open('countries.csv', 'w')\n",
    "with myFile:    \n",
    "    myFields = ['country', 'capital']\n",
    "    writer = csv.DictWriter(myFile, fieldnames=myFields)    \n",
    "    writer.writeheader()\n",
    "    writer.writerow({'country' : 'France', 'capital': 'Paris'})\n",
    "    writer.writerow({'country' : 'Italy', 'capital': 'Rome'})\n",
    "    writer.writerow({'country' : 'Spain', 'capital': 'Madrid'})\n",
    "    writer.writerow({'country' : 'Russia', 'capital': 'Moscow'})"
   ]
  },
  {
   "cell_type": "code",
   "execution_count": 19,
   "metadata": {},
   "outputs": [],
   "source": [
    "import pandas as pd\n",
    "data = {'first_name': ['Sigrid', 'Joe', 'Theodoric','Kennedy', 'Beatrix', 'Olimpia', 'Grange', 'Sallee'],\n",
    "        'last_name': ['Mannock', 'Hinners', 'Rivers', 'Donnell', 'Parlett', 'Guenther', 'Douce', 'Johnstone'],\n",
    "        'age': [27, 31, 36, 53, 48, 36, 40, 34],\n",
    "        'amount_1': [7.17, 1.90, 1.11, 1.41, 6.69, 4.62, 1.01, 4.88],\n",
    "        'amount_2': [8.06,  \"?\", 5.90,  \"?\",  \"?\", 7.48, 4.37,  \"?\"]}\n",
    "df = pd.DataFrame(data, columns = ['first_name', 'last_name', 'age', 'amount_1', 'amount_2'])\n",
    "df.to_excel('example6.xlsx', sheet_name='example')"
   ]
  },
  {
   "cell_type": "code",
   "execution_count": 18,
   "metadata": {},
   "outputs": [
    {
     "name": "stdout",
     "output_type": "stream",
     "text": [
      "  first_name  last_name  age  amount_1 amount_2\n",
      "0     Sigrid    Mannock   27      7.17     8.06\n",
      "1        Joe    Hinners   31      1.90        ?\n",
      "2  Theodoric     Rivers   36      1.11      5.9\n",
      "3    Kennedy    Donnell   53      1.41        ?\n",
      "4    Beatrix    Parlett   48      6.69        ?\n",
      "5    Olimpia   Guenther   36      4.62     7.48\n",
      "6     Grange      Douce   40      1.01     4.37\n",
      "7     Sallee  Johnstone   34      4.88        ?\n"
     ]
    }
   ],
   "source": [
    "print(df)"
   ]
  },
  {
   "cell_type": "code",
   "execution_count": 21,
   "metadata": {},
   "outputs": [
    {
     "name": "stdout",
     "output_type": "stream",
     "text": [
      "[5 5 3 1 3 3 5 1 1 5 7 3 3 1 5 1 3 3 1 3 5 5 3 1 5 3 1 5 3 1 5 1 1 5 5 3 3\n",
      " 3 7 3 3 7 3 3 3 7 1 1 3 7 3 5 3 5 5 5 1 3 3 3 5 7 5 3 5 3 1 1 5 5 3 7 5 5\n",
      " 3 3 5 5 1 5 5 5 5 5 1 1 3 7 3 3 5 1 3 3 3 3 5 7 7 3]\n",
      "100\n"
     ]
    }
   ],
   "source": [
    "from numpy import random\n",
    "x = random.choice([1, 3, 5, 7], p=[0.2, 0.3, 0.4, 0.1], size=(100))\n",
    "print(x)\n",
    "print(len(x))"
   ]
  },
  {
   "cell_type": "code",
   "execution_count": 24,
   "metadata": {},
   "outputs": [
    {
     "name": "stderr",
     "output_type": "stream",
     "text": [
      "C:\\Users\\TheKi\\AppData\\Local\\Programs\\Python\\Python39\\lib\\site-packages\\seaborn\\distributions.py:2619: FutureWarning: `distplot` is a deprecated function and will be removed in a future version. Please adapt your code to use either `displot` (a figure-level function with similar flexibility) or `kdeplot` (an axes-level function for kernel density plots).\n",
      "  warnings.warn(msg, FutureWarning)\n"
     ]
    },
    {
     "data": {
      "image/png": "[encoded data removed]",
      "text/plain": [
       "<Figure size 432x288 with 1 Axes>"
      ]
     },
     "metadata": {
      "needs_background": "light"
     },
     "output_type": "display_data"
    }
   ],
   "source": [
    "from numpy import random\n",
    "import matplotlib.pyplot as plt \n",
    "import seaborn as sns\n",
    "sns.distplot(random.normal(size=1000), hist=False) \n",
    "plt.show()"
   ]
  },
  {
   "cell_type": "code",
   "execution_count": 27,
   "metadata": {},
   "outputs": [
    {
     "name": "stdout",
     "output_type": "stream",
     "text": [
      "[[-0.34673232  2.84983056  2.83213679]\n",
      " [ 2.04580189  4.2185607  -2.77294366]]\n"
     ]
    },
    {
     "data": {
      "image/png": "[encoded data removed]",
      "text/plain": [
       "<Figure size 432x288 with 1 Axes>"
      ]
     },
     "metadata": {
      "needs_background": "light"
     },
     "output_type": "display_data"
    }
   ],
   "source": [
    "from numpy import random\n",
    "import matplotlib.pyplot as plt \n",
    "arr = random.normal(loc=1, scale=2, size=(2, 3) ) # Genera números aleatorios normales con media=1 y desv estándar= 2\n",
    "print(arr)\n",
    "plt.plot(arr)\n",
    "plt.show()\n"
   ]
  },
  {
   "cell_type": "code",
   "execution_count": 28,
   "metadata": {},
   "outputs": [
    {
     "name": "stderr",
     "output_type": "stream",
     "text": [
      "C:\\Users\\TheKi\\AppData\\Local\\Programs\\Python\\Python39\\lib\\site-packages\\seaborn\\distributions.py:2619: FutureWarning: `distplot` is a deprecated function and will be removed in a future version. Please adapt your code to use either `displot` (a figure-level function with similar flexibility) or `kdeplot` (an axes-level function for kernel density plots).\n",
      "  warnings.warn(msg, FutureWarning)\n"
     ]
    },
    {
     "data": {
      "image/png": "[encoded data removed]",
      "text/plain": [
       "<Figure size 432x288 with 1 Axes>"
      ]
     },
     "metadata": {
      "needs_background": "light"
     },
     "output_type": "display_data"
    }
   ],
   "source": [
    "from numpy import random\n",
    "import matplotlib.pyplot as plt \n",
    "import seaborn as sns\n",
    "sns.distplot(random.normal(size=1000), hist=False) \n",
    "plt.show()"
   ]
  },
  {
   "cell_type": "code",
   "execution_count": null,
   "metadata": {},
   "outputs": [],
   "source": []
  }
 ],
 "metadata": {
  "colab": {
   "authorship_tag": "ABX9TyMD6t+MTqlcW30JzdvaQK+X",
   "collapsed_sections": [],
   "name": "Tip-012-probando dicc.ipynb",
   "provenance": []
  },
  "kernelspec": {
   "display_name": "Python 3 (ipykernel)",
   "language": "python",
   "name": "python3"
  },
  "language_info": {
   "codemirror_mode": {
    "name": "ipython",
    "version": 3
   },
   "file_extension": ".py",
   "mimetype": "text/x-python",
   "name": "python",
   "nbconvert_exporter": "python",
   "pygments_lexer": "ipython3",
   "version": "3.10.2"
  }
 },
 "nbformat": 4,
 "nbformat_minor": 4
}
