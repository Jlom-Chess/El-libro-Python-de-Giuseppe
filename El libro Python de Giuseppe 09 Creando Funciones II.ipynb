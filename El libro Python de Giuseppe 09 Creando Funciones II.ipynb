{
 "cells": [
  {
   "cell_type": "markdown",
   "id": "33db214a-b8f0-426e-b17f-6dd129a0b5ea",
   "metadata": {
    "id": "33db214a-b8f0-426e-b17f-6dd129a0b5ea"
   },
   "source": [
    "# ***Programación de Funciones II***"
   ]
  },
  {
   "cell_type": "markdown",
   "id": "9d9d7281-7278-4ae7-b063-ababf59c5c62",
   "metadata": {
    "id": "9d9d7281-7278-4ae7-b063-ababf59c5c62"
   },
   "source": [
    "## ***Número de parámetros indefinidos***"
   ]
  },
  {
   "cell_type": "markdown",
   "id": "N-hrCcZ7DVcz",
   "metadata": {
    "id": "N-hrCcZ7DVcz"
   },
   "source": [
    "### Python nos permite crear funciones que acepten un número indefinido de parámetros sin necesidad de que todos ellos aparezcan en la cabecera de la función. Los operadores \"*\" y \"**\" son los que se utilizan para esta funcionalidad. \n",
    "\n",
    "### En el primer caso, empleando el operador *, Python recoge los parámetros pasados a la función y los convierte en una tupla. De esta forma, con independencia del número de parámetros que pasamos a la función, esta solo necesita el mencionado operador y un nombre. A continuación, un ejemplo que nos muestra esta funcionalidad:"
   ]
  },
  {
   "cell_type": "code",
   "execution_count": null,
   "id": "0zjOYPPMDXt7",
   "metadata": {
    "colab": {
     "base_uri": "https://localhost:8080/"
    },
    "executionInfo": {
     "elapsed": 355,
     "status": "ok",
     "timestamp": 1632508340864,
     "user": {
      "displayName": "Jose Luis Ojeda",
      "photoUrl": "https://lh3.googleusercontent.com/a-/AOh14GioxvwskRaM2HjJwQ_L936mkRS1wMOHPWrqOWUffw=s64",
      "userId": "12240071782040482724"
     },
     "user_tz": 300
    },
    "id": "0zjOYPPMDXt7",
    "outputId": "813d5598-ae0a-45d1-d6bc-8f2edb78084b"
   },
   "outputs": [],
   "source": [
    "def fun(*items):\n",
    "    for item in items:\n",
    "        print(item) \n",
    "\n",
    "fun(1, 2, 3) \n",
    "fun(5, 6) \n",
    "t = ('a', 'b', 'c')\n",
    "fun(('a', 'b', 'c'))\n",
    "fun(t)\n",
    "fun('a', 'b', 'c')"
   ]
  },
  {
   "cell_type": "markdown",
   "id": "PiHkkuMTFac9",
   "metadata": {
    "id": "PiHkkuMTFac9"
   },
   "source": [
    "Por otro lado, gracias al operador ** podemos pasar argumentos indicando un nombre para cada uno de ellos. Internamente, Python construye un diccionario y los parámetros pasados a la función son tratados como tal. El siguiente ejemplo nos muestra cómo emplear este operador en la cabecera de una función:"
   ]
  },
  {
   "cell_type": "code",
   "execution_count": null,
   "id": "EvbpYSl4FfC3",
   "metadata": {
    "colab": {
     "base_uri": "https://localhost:8080/"
    },
    "executionInfo": {
     "elapsed": 267,
     "status": "ok",
     "timestamp": 1632514175022,
     "user": {
      "displayName": "Jose Luis Ojeda",
      "photoUrl": "https://lh3.googleusercontent.com/a-/AOh14GioxvwskRaM2HjJwQ_L936mkRS1wMOHPWrqOWUffw=s64",
      "userId": "12240071782040482724"
     },
     "user_tz": 300
    },
    "id": "EvbpYSl4FfC3",
    "outputId": "f5639984-bda0-437a-cba0-a2ad67bb7603"
   },
   "outputs": [],
   "source": [
    "def fun(**params):\n",
    "    print(params)\n",
    "\n",
    "fun(x = 5, y=8) \n",
    "fun(x = 5, y=8, z=4) \n"
   ]
  },
  {
   "cell_type": "code",
   "execution_count": null,
   "id": "5LoHYWZhoA7m",
   "metadata": {
    "colab": {
     "base_uri": "https://localhost:8080/"
    },
    "executionInfo": {
     "elapsed": 266,
     "status": "ok",
     "timestamp": 1632517755920,
     "user": {
      "displayName": "Jose Luis Ojeda",
      "photoUrl": "https://lh3.googleusercontent.com/a-/AOh14GioxvwskRaM2HjJwQ_L936mkRS1wMOHPWrqOWUffw=s64",
      "userId": "12240071782040482724"
     },
     "user_tz": 300
    },
    "id": "5LoHYWZhoA7m",
    "outputId": "860e9a0a-c87c-4995-d2ec-7e1193d0ff88"
   },
   "outputs": [],
   "source": [
    "def print_record(nombre, apellido, **rec):\n",
    "    print(\"Nombre:\t\",\tnombre)\n",
    "    print(\"Apellidos:\",\tapellido) \n",
    "    for k in rec:\n",
    "        print(\"{0}: {1}\".format(k, rec[k]))\n",
    "\n",
    "print_record(\"Juan\", \"Coll\", edad=43, localidad=\"Madrid\")\n",
    "print_record(\"Manuel\", \"Tip\", edad=34)"
   ]
  },
  {
   "cell_type": "markdown",
   "id": "to3osI8vpr6r",
   "metadata": {
    "id": "to3osI8vpr6r"
   },
   "source": [
    "## ***Desempaquetado de argumentos***"
   ]
  },
  {
   "cell_type": "markdown",
   "id": "fZ2Sj7JHpy_m",
   "metadata": {
    "id": "fZ2Sj7JHpy_m"
   },
   "source": [
    "Se ha utilizado los operadores * y ** en la cabecera de una función. Sin embargo, dichos operadores también pueden ser empleados en la llamada a la función. El comportamiento es similar y la técnica empleada se conoce como desempaquetado de argumentos. Por ejemplo, supongamos que una función tiene en su cabecera tres parámetros diferentes. En la llamada a la misma, en lugar de utilizar tres valores, podemos emplear el operador *, tal y como muestra el siguiente código:"
   ]
  },
  {
   "cell_type": "code",
   "execution_count": null,
   "id": "J5YvPWSmqIsR",
   "metadata": {
    "colab": {
     "base_uri": "https://localhost:8080/"
    },
    "executionInfo": {
     "elapsed": 279,
     "status": "ok",
     "timestamp": 1632518166345,
     "user": {
      "displayName": "Jose Luis Ojeda",
      "photoUrl": "https://lh3.googleusercontent.com/a-/AOh14GioxvwskRaM2HjJwQ_L936mkRS1wMOHPWrqOWUffw=s64",
      "userId": "12240071782040482724"
     },
     "user_tz": 300
    },
    "id": "J5YvPWSmqIsR",
    "outputId": "a81bb127-466a-413b-e901-e7c4890b8c98"
   },
   "outputs": [],
   "source": [
    "def fun(x, y, z):\n",
    "    print(x, y, z)\n",
    "\n",
    "t = (1,\t2,\t3)\n",
    "fun(*t)"
   ]
  },
  {
   "cell_type": "markdown",
   "id": "gqcoXoQMq43_",
   "metadata": {
    "id": "gqcoXoQMq43_"
   },
   "source": [
    "En lugar de una tupla, el operador ** se basa en el uso de un diccionario. Tomando como ejemplo la función definida previamente, veamos el comportamiento de este operador:"
   ]
  },
  {
   "cell_type": "code",
   "execution_count": null,
   "id": "UKgiOUqTq6pP",
   "metadata": {
    "colab": {
     "base_uri": "https://localhost:8080/"
    },
    "executionInfo": {
     "elapsed": 292,
     "status": "ok",
     "timestamp": 1632518343717,
     "user": {
      "displayName": "Jose Luis Ojeda",
      "photoUrl": "https://lh3.googleusercontent.com/a-/AOh14GioxvwskRaM2HjJwQ_L936mkRS1wMOHPWrqOWUffw=s64",
      "userId": "12240071782040482724"
     },
     "user_tz": 300
    },
    "id": "UKgiOUqTq6pP",
    "outputId": "18f3d0d5-4517-4927-b956-acede69fc57c"
   },
   "outputs": [],
   "source": [
    "d = {'y': 1, 'z': 2, 'x': 0} \n",
    "fun(**d)"
   ]
  },
  {
   "cell_type": "markdown",
   "id": "-htuCYParoW2",
   "metadata": {
    "id": "-htuCYParoW2"
   },
   "source": [
    "También\tes posible combinar el paso de parámetros con el operador ** utilizando valores por defecto en la cabecera de la función: \n"
   ]
  },
  {
   "cell_type": "code",
   "execution_count": null,
   "id": "H96gtIVDr334",
   "metadata": {
    "colab": {
     "base_uri": "https://localhost:8080/"
    },
    "executionInfo": {
     "elapsed": 283,
     "status": "ok",
     "timestamp": 1632518578733,
     "user": {
      "displayName": "Jose Luis Ojeda",
      "photoUrl": "https://lh3.googleusercontent.com/a-/AOh14GioxvwskRaM2HjJwQ_L936mkRS1wMOHPWrqOWUffw=s64",
      "userId": "12240071782040482724"
     },
     "user_tz": 300
    },
    "id": "H96gtIVDr334",
    "outputId": "242b967e-83b1-4a7c-9717-e866791179d0"
   },
   "outputs": [],
   "source": [
    "def fun(a=1, b=2, c=3):\n",
    "    print(a, b, c) \n",
    "\n",
    "d = {'a': 3, 'b': 4} \n",
    "fun(**d)"
   ]
  },
  {
   "cell_type": "markdown",
   "id": "3LIo-hiC_-8B",
   "metadata": {
    "id": "3LIo-hiC_-8B"
   },
   "source": [
    "## ***Funciones lambda***"
   ]
  },
  {
   "cell_type": "markdown",
   "id": "QrNuYD0yAejw",
   "metadata": {
    "id": "QrNuYD0yAejw"
   },
   "source": [
    "Al igual que otros lenguajes de programación, Python permite el uso de funciones ***lambda***. Este tipo especial de función se caracteriza por devolver una función anónima cuando es asignada a una variable. Las funciones ***lambda*** ejecutan una determinada expresión, aceptando o no parámetros y devuelven un resultado. A su vez, la llamada a este tipo de funciones puede ser utilizada como parámetros para otras. En Python, las funciones ***lambda*** no pueden contener bucles y no pueden utilizar la palabra clave return para devolver un valor. La sintaxis para este tipo de funciones es del siguiente tipo: \n",
    "\n",
    "### ***lambda <parámetros>:<expresión>***"
   ]
  },
  {
   "cell_type": "markdown",
   "id": "Uok09h3XCRXj",
   "metadata": {
    "id": "Uok09h3XCRXj"
   },
   "source": [
    "Técnicamente, las funciones ***lambda*** no son una sentencia, sino una expresión. Esto las hace diferentes de las funciones definidas con ***def***, ya que estas siempre hacen que el intérprete las asocie a un nombre determinado, en lugar de simplemente devolver un resultado, tal y como ocurre con las ***lambda***. \n",
    "\n",
    "En la práctica, la utilidad de las funciones ***lambda*** es que nos permite definir una función directamente en el código que va a hacer uso de ella. Es decir, nos permite definir funciones ***inline***. Esto puede ser útil, por ejemplo, para definir una lista con diferentes acciones que serán ejecutadas bajo demanda. \n",
    "\n",
    "Supongamos que necesitamos ejecutar dos funciones diferentes pasando el mismo parámetro, estando ambas funciones definidas en una determinada lista. En lugar de definir tres funciones diferentes utilizando def, vamos a emplear funciones lambda:"
   ]
  },
  {
   "cell_type": "code",
   "execution_count": null,
   "id": "qQwf50xm_6Xq",
   "metadata": {
    "colab": {
     "base_uri": "https://localhost:8080/"
    },
    "executionInfo": {
     "elapsed": 267,
     "status": "ok",
     "timestamp": 1632524640086,
     "user": {
      "displayName": "Jose Luis Ojeda",
      "photoUrl": "https://lh3.googleusercontent.com/a-/AOh14GioxvwskRaM2HjJwQ_L936mkRS1wMOHPWrqOWUffw=s64",
      "userId": "12240071782040482724"
     },
     "user_tz": 300
    },
    "id": "qQwf50xm_6Xq",
    "outputId": "182ff675-e45c-4d18-ba71-007b9783c66b"
   },
   "outputs": [],
   "source": [
    "li = [lambda x:\tx + 2, lambda x: x + 3] \n",
    "param = 4 \n",
    "for accion in li:\n",
    "    print(accion(param))"
   ]
  },
  {
   "cell_type": "markdown",
   "id": "4Rg47CzSDeQf",
   "metadata": {
    "id": "4Rg47CzSDeQf"
   },
   "source": [
    "A continuación, veremos un ejemplo de asignación de función ***lambda*** a una \n",
    "variable y su posterior invocación:"
   ]
  },
  {
   "cell_type": "code",
   "execution_count": null,
   "id": "OUJBwCkTDud5",
   "metadata": {
    "colab": {
     "base_uri": "https://localhost:8080/"
    },
    "executionInfo": {
     "elapsed": 291,
     "status": "ok",
     "timestamp": 1632524802447,
     "user": {
      "displayName": "Jose Luis Ojeda",
      "photoUrl": "https://lh3.googleusercontent.com/a-/AOh14GioxvwskRaM2HjJwQ_L936mkRS1wMOHPWrqOWUffw=s64",
      "userId": "12240071782040482724"
     },
     "user_tz": 300
    },
    "id": "OUJBwCkTDud5",
    "outputId": "a2d97f87-ba3f-4620-bb31-4f85b1cfb4c3"
   },
   "outputs": [],
   "source": [
    "lam = lambda x:\tx*5 \n",
    "print(lam(3))\n"
   ]
  },
  {
   "cell_type": "code",
   "execution_count": null,
   "id": "4exdviocQ5L0",
   "metadata": {
    "colab": {
     "base_uri": "https://localhost:8080/"
    },
    "executionInfo": {
     "elapsed": 809,
     "status": "ok",
     "timestamp": 1632528236438,
     "user": {
      "displayName": "Jose Luis Ojeda",
      "photoUrl": "https://lh3.googleusercontent.com/a-/AOh14GioxvwskRaM2HjJwQ_L936mkRS1wMOHPWrqOWUffw=s64",
      "userId": "12240071782040482724"
     },
     "user_tz": 300
    },
    "id": "4exdviocQ5L0",
    "outputId": "4b313ee7-5685-464c-fe63-970e3fd21368"
   },
   "outputs": [],
   "source": [
    "cartas = [chr(x) for x in range(0x1f0a1, 0x1f0af)]\n",
    "print(cartas)"
   ]
  },
  {
   "cell_type": "markdown",
   "id": "097aa0c4-30eb-4533-87e1-d757cf7a8c72",
   "metadata": {},
   "source": [
    "# Retorno de valores\n",
    "Para comunicarse con el exterior, las funciones pueden devolver valores al proceso principal gracias a la instrucción **return**. \n",
    "\n",
    "En el momento de devolver un valor, la ejecución de la función finalizará:"
   ]
  },
  {
   "cell_type": "code",
   "execution_count": null,
   "id": "6d7fc960-9270-4a97-9220-ad02a322d55b",
   "metadata": {
    "collapsed": false,
    "jupyter": {
     "outputs_hidden": false
    }
   },
   "outputs": [],
   "source": [
    "def test():\n",
    "    return \"Una cadena retornada\"\n",
    "\n",
    "test()"
   ]
  },
  {
   "cell_type": "markdown",
   "id": "6b9735cd-71c4-4166-8b67-e8b57e7428e2",
   "metadata": {},
   "source": [
    "#### Los valores devueltos se tratan como valores literales directos del tipo de dato retornado:"
   ]
  },
  {
   "cell_type": "code",
   "execution_count": null,
   "id": "1fcfa201-e1a9-45a0-8a03-6b57698964b0",
   "metadata": {
    "collapsed": false,
    "jupyter": {
     "outputs_hidden": false
    }
   },
   "outputs": [],
   "source": [
    "print(test())"
   ]
  },
  {
   "cell_type": "code",
   "execution_count": null,
   "id": "c978f379-a5bc-4a4c-8c73-1895caa40c3e",
   "metadata": {},
   "outputs": [],
   "source": [
    "c = test()"
   ]
  },
  {
   "cell_type": "code",
   "execution_count": null,
   "id": "491486f0-f9a1-44eb-be91-63bfff6c93bd",
   "metadata": {
    "collapsed": false,
    "jupyter": {
     "outputs_hidden": false
    }
   },
   "outputs": [],
   "source": [
    "print(c)"
   ]
  },
  {
   "cell_type": "code",
   "execution_count": null,
   "id": "767e66fa-40aa-441e-94b9-dce658de89f3",
   "metadata": {
    "collapsed": false,
    "jupyter": {
     "outputs_hidden": false
    }
   },
   "outputs": [],
   "source": [
    "c = test() + 10"
   ]
  },
  {
   "cell_type": "markdown",
   "id": "693df5fa-2ea7-4e82-9cb3-62546839bdbf",
   "metadata": {},
   "source": [
    "#### Éso incluye cualquier tipo de colección:"
   ]
  },
  {
   "cell_type": "code",
   "execution_count": null,
   "id": "211d65b0-7a96-4093-895b-9c1e50d2544e",
   "metadata": {
    "collapsed": false,
    "jupyter": {
     "outputs_hidden": false
    }
   },
   "outputs": [],
   "source": [
    "def test():\n",
    "    return [1,2,3,4,5]\n",
    "\n",
    "print(test())"
   ]
  },
  {
   "cell_type": "code",
   "execution_count": null,
   "id": "05e80c4c-3cf8-4ef9-9057-1b622ea5050f",
   "metadata": {
    "collapsed": false,
    "jupyter": {
     "outputs_hidden": false
    }
   },
   "outputs": [],
   "source": [
    "print(test()[-1])"
   ]
  },
  {
   "cell_type": "code",
   "execution_count": null,
   "id": "906bdc13-e7aa-4538-b224-31f30e7f8c48",
   "metadata": {
    "collapsed": false,
    "jupyter": {
     "outputs_hidden": false
    }
   },
   "outputs": [],
   "source": [
    "print(test()[1:4])"
   ]
  },
  {
   "cell_type": "code",
   "execution_count": null,
   "id": "e1d52e4f-1463-49c0-97fe-097e26202a87",
   "metadata": {},
   "outputs": [],
   "source": [
    "l = test()"
   ]
  },
  {
   "cell_type": "code",
   "execution_count": null,
   "id": "87b83c27-03ec-4ba5-983f-6380d47a15a9",
   "metadata": {
    "collapsed": false,
    "jupyter": {
     "outputs_hidden": false
    }
   },
   "outputs": [],
   "source": [
    "l[-1]"
   ]
  },
  {
   "cell_type": "markdown",
   "id": "5d1fc996-0415-43bb-8eae-8a16fedc4d6c",
   "metadata": {},
   "source": [
    "## Retorno múltiple\n",
    "Una característica interesante, es la posibilidad de devolver múltiples valores separados por comas."
   ]
  },
  {
   "cell_type": "code",
   "execution_count": null,
   "id": "bc5ef6b1-c7bc-4d74-8183-4c5115545e91",
   "metadata": {
    "collapsed": false,
    "jupyter": {
     "outputs_hidden": false
    }
   },
   "outputs": [],
   "source": [
    "def test():\n",
    "    return \"Una cadena\",20,[1,2,3]\n",
    "\n",
    "test()"
   ]
  },
  {
   "cell_type": "markdown",
   "id": "a0e1d05b-4fef-4da2-98b0-0660ad2a8994",
   "metadata": {},
   "source": [
    "####  Éstos valores se tratan en conjunto como una tupla inmutable y se pueden reasignar a distintas variables:"
   ]
  },
  {
   "cell_type": "code",
   "execution_count": null,
   "id": "37807621-1448-4bc3-ae52-a07e05038dd9",
   "metadata": {},
   "outputs": [],
   "source": [
    "c,n,l = test()"
   ]
  },
  {
   "cell_type": "code",
   "execution_count": null,
   "id": "8de50542-ad1c-45f4-aed7-6fe3ca600120",
   "metadata": {
    "collapsed": false,
    "jupyter": {
     "outputs_hidden": false
    }
   },
   "outputs": [],
   "source": [
    "c"
   ]
  },
  {
   "cell_type": "code",
   "execution_count": null,
   "id": "239d6f28-34dd-452a-9bb7-f73304c8165e",
   "metadata": {
    "collapsed": false,
    "jupyter": {
     "outputs_hidden": false
    }
   },
   "outputs": [],
   "source": [
    "n"
   ]
  },
  {
   "cell_type": "code",
   "execution_count": null,
   "id": "5fc15259-4454-49b6-8dd5-67e0eb1a3bed",
   "metadata": {
    "tags": []
   },
   "outputs": [],
   "source": [
    "l"
   ]
  },
  {
   "cell_type": "markdown",
   "id": "6812ae6e-ddb4-490b-b91e-6a77b407556f",
   "metadata": {},
   "source": [
    "# Envío de valores\n",
    "Para comunicarse con el exterior, las funciones no sólo pueden devolver valores, también pueden recibir información:"
   ]
  },
  {
   "cell_type": "code",
   "execution_count": null,
   "id": "b1d32315-6ee3-46a7-ba58-2605d862a0aa",
   "metadata": {},
   "outputs": [],
   "source": [
    "def suma(a,b): # valores que se reciben\n",
    "    return a+b"
   ]
  },
  {
   "cell_type": "markdown",
   "id": "7228bf38-e3f8-47fa-93bb-9fafe49f8b22",
   "metadata": {},
   "source": [
    "#### Ahora podemos enviar dos valores a la función:"
   ]
  },
  {
   "cell_type": "code",
   "execution_count": null,
   "id": "f5c03e46-d2fb-4dd5-99ff-cf64975b4e5b",
   "metadata": {
    "collapsed": false,
    "jupyter": {
     "outputs_hidden": false
    }
   },
   "outputs": [],
   "source": [
    "r = suma(2,5)  # valores que se envían\n",
    "r"
   ]
  },
  {
   "cell_type": "markdown",
   "id": "3b492b6e-c1ff-4c98-8da4-d1bd61e837d1",
   "metadata": {},
   "source": [
    "## Parámetros y argumentos\n",
    "En la definición de una función, los valores que se reciben se denominan **parámetros**, y en la llamada se denominan **argumentos**."
   ]
  },
  {
   "cell_type": "markdown",
   "id": "db83ab63-225e-4548-9e45-5e0e0403f4e0",
   "metadata": {},
   "source": [
    "# Paso por valor y paso por referencia\n",
    "- **Paso por valor**: Se crea una copia local de la variable dentro de la función.\n",
    "- **Paso por referencia**: Se maneja directamente la variable, los cambios realizados dentro le afectarán también fuera.\n",
    "\n",
    "Tradicionalmente, **los tipos simples se pasan automáticamente por valor y los compuestos por referencia**.\n",
    "- **Simples**: Enteros, flotantes, cadenas, lógicos...\n",
    "- **Compuestos**: Listas, diccionarios, conjuntos...\n",
    "\n",
    "### Ejemplo paso por valor"
   ]
  },
  {
   "cell_type": "code",
   "execution_count": null,
   "id": "47881d83-85bb-431e-ab83-74184fed47f1",
   "metadata": {
    "collapsed": false,
    "jupyter": {
     "outputs_hidden": false
    }
   },
   "outputs": [],
   "source": [
    "def doblar_valor(numero):\n",
    "    numero*=2\n",
    "    \n",
    "n = 10\n",
    "doblar_valor(n)\n",
    "n"
   ]
  },
  {
   "cell_type": "markdown",
   "id": "58cc8c75-7c88-4611-8e15-142b6e934af2",
   "metadata": {},
   "source": [
    "### Ejemplo paso por referencia"
   ]
  },
  {
   "cell_type": "code",
   "execution_count": null,
   "id": "33d3c219-47a9-410a-b6a3-1a3209c87333",
   "metadata": {
    "collapsed": false,
    "jupyter": {
     "outputs_hidden": false
    }
   },
   "outputs": [],
   "source": [
    "def doblar_valores(numeros):\n",
    "    for i,n in enumerate(numeros):\n",
    "        numeros[i] *= 2\n",
    "ns = [10,50,100]\n",
    "doblar_valores(ns)\n",
    "ns"
   ]
  },
  {
   "cell_type": "markdown",
   "id": "5944a20f-3f55-46af-818b-db88d1270b68",
   "metadata": {},
   "source": [
    "## Trucos\n",
    "#### Para modificar los tipos simples podemos devolverlos modificados y reasignarlos:"
   ]
  },
  {
   "cell_type": "code",
   "execution_count": null,
   "id": "3b8c9dcf-07af-4eb5-aac3-e0075661c246",
   "metadata": {
    "collapsed": false,
    "jupyter": {
     "outputs_hidden": false
    }
   },
   "outputs": [],
   "source": [
    "def doblar_valor(numero):\n",
    "    return numero*2\n",
    "n = 10\n",
    "n = doblar_valor(n)\n",
    "n"
   ]
  },
  {
   "cell_type": "markdown",
   "id": "b018c414-7099-4390-8edf-5cf195279fdd",
   "metadata": {},
   "source": [
    "#### Y en el caso de los tipos compuestos, podemos evitar la modificación enviando una copia:"
   ]
  },
  {
   "cell_type": "code",
   "execution_count": null,
   "id": "f4b7f6ac-4a0d-4528-b6be-7018d1279405",
   "metadata": {
    "collapsed": false,
    "jupyter": {
     "outputs_hidden": false
    }
   },
   "outputs": [],
   "source": [
    "def doblar_valores(numeros):\n",
    "    for i,n in enumerate(numeros):\n",
    "        numeros[i] *= 2\n",
    "ns = [10,50,100]\n",
    "doblar_valores(ns[:])  # Una copia al vuelo de una lista con [:]\n",
    "ns"
   ]
  },
  {
   "cell_type": "markdown",
   "id": "0e0f8402-5cf1-40a5-98dd-6c8487ed7c87",
   "metadata": {},
   "source": [
    "# Funciones recursivas\n",
    "Se trata de funciones que se llaman a sí mismas durante su propia ejecución. Funcionan de forma similar a las iteraciones, y debemos encargarnos de planificar el momento en que una función recursiva deja de llamarse o tendremos una función rescursiva infinita.\n",
    "\n",
    "Suele utilizarse para dividir una tarea en subtareas más simples de forma que sea más fácil abordar el problema y solucionarlo.\n",
    "## Ejemplo sencillo sin retorno\n",
    "Cuenta regresiva hasta cero a partir de un número:"
   ]
  },
  {
   "cell_type": "code",
   "execution_count": null,
   "id": "40feca00-63f9-485a-98c4-8854d204db27",
   "metadata": {
    "collapsed": false,
    "jupyter": {
     "outputs_hidden": false
    }
   },
   "outputs": [],
   "source": [
    "def cuenta_atras(num):\n",
    "    num -= 1\n",
    "    if num > 0:\n",
    "        print(num)\n",
    "        cuenta_atras(num)\n",
    "    else:\n",
    "        print(\"Boooooooom!\")\n",
    "    print(\"Fin de la función\", num)\n",
    "\n",
    "cuenta_atras(5)"
   ]
  },
  {
   "cell_type": "markdown",
   "id": "1eda5d53-23f5-4e6e-b6bc-d238418c48d7",
   "metadata": {},
   "source": [
    "## Ejemplo con retorno (factorial de un número)\n",
    "El factorial de un número corresponde al producto de todos los números desde 1 hasta el propio número:\n",
    "- 3! = 1 x 2 x 3 = 6\n",
    "- 5! = 1 x 2 x 3 x 4 x 5 = 120"
   ]
  },
  {
   "cell_type": "code",
   "execution_count": null,
   "id": "52cab704-e6e3-4a2d-baed-8bf562d3e147",
   "metadata": {
    "collapsed": false,
    "jupyter": {
     "outputs_hidden": false
    }
   },
   "outputs": [],
   "source": [
    "def factorial(num):\n",
    "    print(\"Valor inicial ->\",num)\n",
    "    if num > 1:\n",
    "        num = num * factorial(num -1)\n",
    "    print(\"valor final ->\",num)\n",
    "    return num\n",
    "\n",
    "factorial(5)"
   ]
  },
  {
   "cell_type": "markdown",
   "id": "2c7166f8-1732-4104-93c6-a9a041dd00c4",
   "metadata": {
    "id": "mnIPbB0YRxH5"
   },
   "source": [
    "## ***Alcance de las variables: Variables locales y globales***\n",
    "Un concepto importante a comprender al definir una función es el concepto de alcance variable. Las variables definidas dentro de una función se tratan de manera diferente a las variables definidas fuera. Hay dos diferencias principales. En primer lugar, **cualquier variable declarada dentro de una función solo es accesible dentro de la función**. Estos se conocen como **variables locales**. Cualquier **variable declarada fuera de una función se conoce como variable global** y es accesible en cualquier parte del programa.\n",
    "Veamos el siguiente código"
   ]
  },
  {
   "cell_type": "code",
   "execution_count": null,
   "id": "bac38f8c-7246-4660-857b-6895d4e71a13",
   "metadata": {
    "colab": {
     "base_uri": "https://localhost:8080/",
     "height": 338
    },
    "executionInfo": {
     "elapsed": 408,
     "status": "error",
     "timestamp": 1632860596501,
     "user": {
      "displayName": "Jose Luis Ojeda",
      "photoUrl": "https://lh3.googleusercontent.com/a-/AOh14GioxvwskRaM2HjJwQ_L936mkRS1wMOHPWrqOWUffw=s64",
      "userId": "12240071782040482724"
     },
     "user_tz": 300
    },
    "id": "uePBkKfnR05a",
    "outputId": "ec78e0c2-b092-41c1-90df-52a642fa23a4"
   },
   "outputs": [
    {
     "name": "stdout",
     "output_type": "stream",
     "text": [
      "\n",
      "DENTRO DE LA FUNCIÓN\n",
      "Variable global\n",
      "Variable local\n",
      "\n",
      "FUERA DE LA FUNCIÓN\n",
      "Variable global\n"
     ]
    },
    {
     "ename": "NameError",
     "evalue": "ignored",
     "output_type": "error",
     "traceback": [
      "\u001b[0;31m---------------------------------------------------------------------------\u001b[0m",
      "\u001b[0;31mNameError\u001b[0m                                 Traceback (most recent call last)",
      "\u001b[0;32m<ipython-input-5-0b7402b39dcc>\u001b[0m in \u001b[0;36m<module>\u001b[0;34m()\u001b[0m\n\u001b[1;32m     24\u001b[0m \u001b[0;31m# Las variables locales NO son accesibles fuera de la función.\u001b[0m\u001b[0;34m\u001b[0m\u001b[0;34m\u001b[0m\u001b[0;34m\u001b[0m\u001b[0m\n\u001b[1;32m     25\u001b[0m \u001b[0;34m\u001b[0m\u001b[0m\n\u001b[0;32m---> 26\u001b[0;31m \u001b[0mprint\u001b[0m \u001b[0;34m(\u001b[0m\u001b[0mmensaje2\u001b[0m\u001b[0;34m)\u001b[0m\u001b[0;34m\u001b[0m\u001b[0;34m\u001b[0m\u001b[0m\n\u001b[0m",
      "\u001b[0;31mNameError\u001b[0m: name 'mensaje2' is not defined"
     ]
    }
   ],
   "source": [
    "mensaje1 = \"Variable global\"\n",
    "\n",
    "def miFuncion(): \n",
    "\tprint(\"\\nDENTRO DE LA FUNCIÓN\")\n",
    "    #Las variables globales son accesibles dentro de una función\n",
    "\tprint (mensaje1) \n",
    "\t# Declarar una variable local\n",
    "\tmensaje2 = \"Variable local\" \n",
    "\tprint (mensaje2) \n",
    "\n",
    "'''\n",
    "Llamar a la función. Tenga en cuenta que miFuncion() no tiene parámetros. \n",
    "Por lo tanto, cuando llamamos a esta función, \n",
    "usamos un par de paréntesis vacíos.\n",
    "'''\n",
    "miFuncion() \n",
    "\n",
    "print(\"\\nFUERA DE LA FUNCIÓN\") \n",
    "\n",
    "# Las variables globales son accesibles fuera de la función\n",
    "\n",
    "print(mensaje1) \n",
    "\n",
    "# Las variables locales NO son accesibles fuera de la función. \n",
    "\n",
    "print(mensaje2)"
   ]
  },
  {
   "cell_type": "markdown",
   "id": "d8159f30-b5a8-4178-bf82-9bc5d8e418f8",
   "metadata": {
    "id": "qTSxRBlKR_f5"
   },
   "source": [
    "El segundo concepto que hay que entender sobre el alcance de la variable es que si una variable local comparte el mismo nombre que una variable global, cualquier código dentro de la función accede a la variable local. Cualquier código externo accede a la variable global."
   ]
  },
  {
   "cell_type": "code",
   "execution_count": null,
   "id": "78af34c9-ee31-4319-a1e7-d77d0a0a051a",
   "metadata": {
    "colab": {
     "base_uri": "https://localhost:8080/"
    },
    "executionInfo": {
     "elapsed": 417,
     "status": "ok",
     "timestamp": 1632860794853,
     "user": {
      "displayName": "Jose Luis Ojeda",
      "photoUrl": "https://lh3.googleusercontent.com/a-/AOh14GioxvwskRaM2HjJwQ_L936mkRS1wMOHPWrqOWUffw=s64",
      "userId": "12240071782040482724"
     },
     "user_tz": 300
    },
    "id": "GHbMupnBSAhu",
    "outputId": "1d004336-56ce-4ac8-a57d-7435da832b94"
   },
   "outputs": [
    {
     "name": "stdout",
     "output_type": "stream",
     "text": [
      "\n",
      "DENTRO DE LA FUNCIÓN\n",
      "Variable local (comparte el mismo nombre que una variable global)\n",
      "\n",
      "FUERA DE LA FUNCIÓN\n",
      "Variable global (comparte el mismo nombre que una variable local)\n"
     ]
    }
   ],
   "source": [
    "mensaje1 = \"Variable global (comparte el mismo nombre que una variable local)\"\n",
    "\n",
    "def miFuncion():\n",
    "    mensaje1 = \"Variable local (comparte el mismo nombre que una \"\\\n",
    "                \"variable global)\"\n",
    "    print(\"\\nDENTRO DE LA FUNCIÓN\")\n",
    "    print (mensaje1)\n",
    "\n",
    "# llamando a la función \n",
    "\n",
    "miFuncion()\n",
    "\n",
    "# Imprimir mensaje1 FUERA de la función \n",
    "print (\"\\nFUERA DE LA FUNCIÓN\") \n",
    "print (mensaje1)"
   ]
  }
 ],
 "metadata": {
  "colab": {
   "collapsed_sections": [],
   "name": "Programación de Funciones.ipynb",
   "provenance": []
  },
  "kernelspec": {
   "display_name": "Python 3 (ipykernel)",
   "language": "python",
   "name": "python3"
  },
  "language_info": {
   "codemirror_mode": {
    "name": "ipython",
    "version": 3
   },
   "file_extension": ".py",
   "mimetype": "text/x-python",
   "name": "python",
   "nbconvert_exporter": "python",
   "pygments_lexer": "ipython3",
   "version": "3.10.0"
  }
 },
 "nbformat": 4,
 "nbformat_minor": 5
}
