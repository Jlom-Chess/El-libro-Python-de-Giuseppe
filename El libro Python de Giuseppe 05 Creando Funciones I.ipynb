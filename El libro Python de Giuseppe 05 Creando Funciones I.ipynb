{
 "cells": [
  {
   "cell_type": "markdown",
   "id": "33db214a-b8f0-426e-b17f-6dd129a0b5ea",
   "metadata": {
    "id": "33db214a-b8f0-426e-b17f-6dd129a0b5ea"
   },
   "source": [
    "# ***Programación de Funciones I***"
   ]
  },
  {
   "cell_type": "markdown",
   "id": "9d9d7281-7278-4ae7-b063-ababf59c5c62",
   "metadata": {
    "id": "9d9d7281-7278-4ae7-b063-ababf59c5c62"
   },
   "source": [
    "## ***Sintaxis de una función***"
   ]
  },
  {
   "cell_type": "code",
   "execution_count": null,
   "id": "yFBPjqRbPg1K",
   "metadata": {
    "id": "yFBPjqRbPg1K"
   },
   "outputs": [],
   "source": [
    "\"\"\"\n",
    "def nombre_de_la_función(parámetros):\n",
    "    código que detalla lo que debe hacer la función\n",
    "    return [expresión]\n",
    "\"\"\""
   ]
  },
  {
   "cell_type": "markdown",
   "id": "22fd1810-8f11-490f-9325-258b159cc173",
   "metadata": {
    "id": "22fd1810-8f11-490f-9325-258b159cc173"
   },
   "source": [
    "Aquí hay dos palabras clave, **def y return.**\n",
    "\n",
    "**def** le dice al programa que el código identado de la siguiente línea en adelante es parte de la función. \n",
    "\n",
    "**return** es la palabra clave que usamos para devolver una respuesta de la función. \n",
    "\n",
    "Puede haber más de una declaración **return** en una función. Sin embargo, una vez que la función ejecuta una declaración **return**, la función se cerrará. Si su función no necesita devolver ningún valor, puede omitir la declaración **return**. Alternativamente, puede escribir **return** o **return None**."
   ]
  },
  {
   "cell_type": "markdown",
   "id": "85daa5cb-b745-45dc-a1aa-82953b277e13",
   "metadata": {
    "id": "85daa5cb-b745-45dc-a1aa-82953b277e13",
    "tags": []
   },
   "source": [
    "## ***Alcance de las variables: Variables locales y globales***\n",
    "Un concepto importante a comprender al definir una función es el concepto de alcance variable. Las variables definidas dentro de una función se tratan de manera diferente a las variables definidas fuera. Hay dos diferencias principales. En primer lugar, **cualquier variable declarada dentro de una función solo es accesible dentro de la función**. Estos se conocen como **variables locales**. Cualquier **variable declarada fuera de una función se conoce como variable global** y es accesible en cualquier parte del programa.\n",
    "Veamos el siguiente código"
   ]
  },
  {
   "cell_type": "code",
   "execution_count": null,
   "id": "3646d856-19ec-4aa6-9cd7-6b99e9ea7baa",
   "metadata": {
    "id": "3646d856-19ec-4aa6-9cd7-6b99e9ea7baa",
    "outputId": "7e5b8312-d730-4c45-c12e-d471e7855a41"
   },
   "outputs": [
    {
     "name": "stdout",
     "output_type": "stream",
     "text": [
      "\n",
      "DENTRO DE LA FUNCIÓN\n",
      "Variable global\n",
      "Variable local\n",
      "\n",
      "FUERA DE LA FUNCIÓN\n",
      "Variable global\n"
     ]
    },
    {
     "ename": "NameError",
     "evalue": "name 'mensaje2' is not defined",
     "output_type": "error",
     "traceback": [
      "\u001b[1;31m---------------------------------------------------------------------------\u001b[0m",
      "\u001b[1;31mNameError\u001b[0m                                 Traceback (most recent call last)",
      "\u001b[1;32m~\\AppData\\Local\\Temp/ipykernel_17292/1280644208.py\u001b[0m in \u001b[0;36m<module>\u001b[1;34m\u001b[0m\n\u001b[0;32m     22\u001b[0m \u001b[1;31m# Las variables locales NO son accesibles fuera de la función.\u001b[0m\u001b[1;33m\u001b[0m\u001b[1;33m\u001b[0m\u001b[0m\n\u001b[0;32m     23\u001b[0m \u001b[1;33m\u001b[0m\u001b[0m\n\u001b[1;32m---> 24\u001b[1;33m \u001b[0mprint\u001b[0m \u001b[1;33m(\u001b[0m\u001b[0mmensaje2\u001b[0m\u001b[1;33m)\u001b[0m\u001b[1;33m\u001b[0m\u001b[1;33m\u001b[0m\u001b[0m\n\u001b[0m",
      "\u001b[1;31mNameError\u001b[0m: name 'mensaje2' is not defined"
     ]
    }
   ],
   "source": [
    "mensaje1 = \"Variable global\"\n",
    "\n",
    "def miFuncion(): \n",
    "\tprint(\"\\nDENTRO DE LA FUNCIÓN\")  #Las variables globales son accesibles dentro de una función\n",
    "\tprint (mensaje1) \n",
    "\t# Declarar una variable local\n",
    "\tmensaje2 = \"Variable local\" \n",
    "\tprint (mensaje2) \n",
    "\n",
    "'''\n",
    "Llamar a la función. Tenga en cuenta que miFuncion() no tiene parámetros. Por lo tanto, cuando llamamos a esta función, \n",
    "usamos un par de paréntesis vacíos.\n",
    "'''\n",
    "miFuncion() \n",
    "\n",
    "print(\"\\nFUERA DE LA FUNCIÓN\") \n",
    "\n",
    "# Las variables globales son accesibles fuera de la función\n",
    "\n",
    "print (mensaje1) \n",
    "\n",
    "# Las variables locales NO son accesibles fuera de la función. \n",
    "\n",
    "print (mensaje2)"
   ]
  },
  {
   "cell_type": "markdown",
   "id": "594d6d93-820d-46f1-836d-67e262521dc4",
   "metadata": {
    "id": "594d6d93-820d-46f1-836d-67e262521dc4"
   },
   "source": [
    "El segundo concepto que hay que entender sobre el alcance de la variable es que **si una variable local comparte el mismo nombre que una variable global, cualquier código dentro de la función accede a la variable local**. **Cualquier código externo accede a la variable global**."
   ]
  },
  {
   "cell_type": "code",
   "execution_count": null,
   "id": "84956725-b218-42e2-ad0e-cbe5485efde4",
   "metadata": {
    "id": "84956725-b218-42e2-ad0e-cbe5485efde4",
    "outputId": "f7e9c2df-910b-4bfb-b99a-b9a21e362550"
   },
   "outputs": [
    {
     "name": "stdout",
     "output_type": "stream",
     "text": [
      "\n",
      "DENTRO DE LA FUNCIÓN\n",
      "Variable local (comparte el mismo nombre que una variable global)\n",
      "\n",
      "FUERA DE LA FUNCIÓN\n",
      "Variable global (comparte el mismo nombre que una variable local)\n"
     ]
    }
   ],
   "source": [
    "mensaje1 = \"Variable global (comparte el mismo nombre que una variable local)\"\n",
    "\n",
    "def miFuncion():\n",
    "\n",
    "\tmensaje1 = \"Variable local (comparte el mismo nombre que una variable global)\" \n",
    "\tprint(\"\\nDENTRO DE LA FUNCIÓN\") \n",
    "\tprint (mensaje1)\n",
    "\n",
    "# Calling the function \n",
    "\n",
    "miFuncion()\n",
    "\n",
    "# Imprimir mensaje1 FUERA de la función \n",
    "print (\"\\nFUERA DE LA FUNCIÓN\") \n",
    "print (mensaje1)"
   ]
  },
  {
   "cell_type": "markdown",
   "id": "9cd07535-c0c6-4647-ae94-9a3db132262d",
   "metadata": {
    "id": "9cd07535-c0c6-4647-ae94-9a3db132262d"
   },
   "source": [
    "## ***Pasando parámetros***"
   ]
  },
  {
   "cell_type": "markdown",
   "id": "0t-4H-AAqGWS",
   "metadata": {
    "id": "0t-4H-AAqGWS"
   },
   "source": [
    "Las\tfunciones pueden trabajar con parámetros y devolver resultados. En Python, el paso  de parámetros implica la asignación de un nombre a un objeto. Esto significa que, en la práctica, el paso de parámetros ocurre por valor o por referencia en función de si los tipos de los argumentos son mutables o inmutables."
   ]
  },
  {
   "cell_type": "code",
   "execution_count": null,
   "id": "tR8tqdoIqEZx",
   "metadata": {
    "colab": {
     "base_uri": "https://localhost:8080/"
    },
    "executionInfo": {
     "elapsed": 294,
     "status": "ok",
     "timestamp": 1632502199506,
     "user": {
      "displayName": "Jose Luis Ojeda",
      "photoUrl": "https://lh3.googleusercontent.com/a-/AOh14GioxvwskRaM2HjJwQ_L936mkRS1wMOHPWrqOWUffw=s64",
      "userId": "12240071782040482724"
     },
     "user_tz": 300
    },
    "id": "tR8tqdoIqEZx",
    "outputId": "decd1833-6129-47a8-8074-487d22c8c9d1"
   },
   "outputs": [
    {
     "name": "stdout",
     "output_type": "stream",
     "text": [
      "(2, 3)\n",
      "c=5, d=6\n"
     ]
    }
   ],
   "source": [
    "# Ejemplo\n",
    "\n",
    "def test2(a, b):\n",
    "    a = 2\n",
    "    b = 3\n",
    "    return a, b\n",
    "\n",
    "c = 5 \n",
    "d = 6 \n",
    "print(test2(c, d))\n",
    "print(\"c={0}, d={1}\".format(c, d)) \n"
   ]
  },
  {
   "cell_type": "markdown",
   "id": "yqUnTI9Ws8U3",
   "metadata": {
    "id": "yqUnTI9Ws8U3"
   },
   "source": [
    "Como podemos observar, el valor de las variables c y d, que son inmutables, no ha sido alterado por la función\n",
    "\n",
    "Sin embargo, ¿qué ocurre si utilizamos un argumento mutable como parámetro? Veámoslo a través del siguiente código de ejemplo:"
   ]
  },
  {
   "cell_type": "code",
   "execution_count": null,
   "id": "ecv8xMPLs3ZQ",
   "metadata": {
    "colab": {
     "base_uri": "https://localhost:8080/"
    },
    "executionInfo": {
     "elapsed": 262,
     "status": "ok",
     "timestamp": 1632502608848,
     "user": {
      "displayName": "Jose Luis Ojeda",
      "photoUrl": "https://lh3.googleusercontent.com/a-/AOh14GioxvwskRaM2HjJwQ_L936mkRS1wMOHPWrqOWUffw=s64",
      "userId": "12240071782040482724"
     },
     "user_tz": 300
    },
    "id": "ecv8xMPLs3ZQ",
    "outputId": "821668d7-72d4-42ac-c725-08cd50accfff"
   },
   "outputs": [
    {
     "name": "stdout",
     "output_type": "stream",
     "text": [
      "[3, 2, 3]\n"
     ]
    }
   ],
   "source": [
    "def\tvariable(lista):\n",
    "    lista[0] = 3\n",
    "\n",
    "lista = [1, 2, 3] \n",
    "variable(lista)\n",
    "print(lista)"
   ]
  },
  {
   "cell_type": "markdown",
   "id": "J4E3H6sewnRc",
   "metadata": {
    "id": "J4E3H6sewnRc"
   },
   "source": [
    "Al pasar como argumento una lista, que es de mutable, y modificar uno de sus valores, se modificará la variable original pasada como argumento. Internamente, Python siempre realiza el paso de parámetros a través de referencias, es decir, se puede considerar que el paso se realiza siempre por variable en el sentido de que no se hace una copia de las variables. Sin embargo, tal y como hemos mencionado, el comportamiento de esta asignación de referencias depende de si el parámetro en cuestión es mutable o inmutable."
   ]
  },
  {
   "cell_type": "markdown",
   "id": "nw3_-1UWxCpD",
   "metadata": {
    "id": "nw3_-1UWxCpD"
   },
   "source": [
    "Si se necesitara modificar una o varias variables inmutables a través de una función, podemos hacerlo utilizando una técnica, consistente en devolver una tupla y asignar el resultado de la función a las variables. Partiendo del ejemplo anterior, reescribiremos la función de la siguiente forma:"
   ]
  },
  {
   "cell_type": "code",
   "execution_count": null,
   "id": "Sp5j7JSPwygF",
   "metadata": {
    "colab": {
     "base_uri": "https://localhost:8080/"
    },
    "executionInfo": {
     "elapsed": 263,
     "status": "ok",
     "timestamp": 1632503268626,
     "user": {
      "displayName": "Jose Luis Ojeda",
      "photoUrl": "https://lh3.googleusercontent.com/a-/AOh14GioxvwskRaM2HjJwQ_L936mkRS1wMOHPWrqOWUffw=s64",
      "userId": "12240071782040482724"
     },
     "user_tz": 300
    },
    "id": "Sp5j7JSPwygF",
    "outputId": "8e07a01e-96fc-4058-8be7-734c185857f7"
   },
   "outputs": [
    {
     "name": "stdout",
     "output_type": "stream",
     "text": [
      "5 6\n",
      "2 3\n"
     ]
    }
   ],
   "source": [
    "def\ttest(a, b):\n",
    "    a = 2\n",
    "    b = 3\n",
    "    return(a, b)\n",
    "c = 5 \n",
    "d = 6 \n",
    "print(c, d)\n",
    "c, d = test(c, d)\n",
    "print(c,d)"
   ]
  },
  {
   "cell_type": "code",
   "execution_count": null,
   "id": "ekqPsrWf7Rvi",
   "metadata": {
    "colab": {
     "base_uri": "https://localhost:8080/"
    },
    "executionInfo": {
     "elapsed": 262,
     "status": "ok",
     "timestamp": 1632505851673,
     "user": {
      "displayName": "Jose Luis Ojeda",
      "photoUrl": "https://lh3.googleusercontent.com/a-/AOh14GioxvwskRaM2HjJwQ_L936mkRS1wMOHPWrqOWUffw=s64",
      "userId": "12240071782040482724"
     },
     "user_tz": 300
    },
    "id": "ekqPsrWf7Rvi",
    "outputId": "9145f2bc-f851-446e-eddb-01e2bcb04b25"
   },
   "outputs": [
    {
     "name": "stdout",
     "output_type": "stream",
     "text": [
      "[3, 2, 3]\n",
      "[1, 2, 3]\n"
     ]
    }
   ],
   "source": [
    "def\tvariable(lista):\n",
    "    lista[0] = 3\n",
    "    return lista\n",
    "\n",
    "lista = [1, 2, 3] \n",
    "print(variable(lista[:]))\n",
    "print(lista)"
   ]
  },
  {
   "cell_type": "markdown",
   "id": "qwTV58EH-WJJ",
   "metadata": {
    "id": "qwTV58EH-WJJ"
   },
   "source": [
    "Dado el manejo que realiza Python sobre el paso de parámetros a funciones, en lugar de utilizar los términos por valor o por referencia, sería más exacto decir que Python realiza el paso de parámetros por asignación."
   ]
  },
  {
   "cell_type": "markdown",
   "id": "3LRyZuLD-9Uy",
   "metadata": {
    "id": "3LRyZuLD-9Uy"
   },
   "source": [
    "## ***Valores por defecto y nombres de parámetros***\n"
   ]
  },
  {
   "cell_type": "markdown",
   "id": "b-axfuDB_L6y",
   "metadata": {
    "id": "b-axfuDB_L6y"
   },
   "source": [
    "En Python es posible asignar un valor a un parámetro de una función. Esto significa que, si en la correspondiente llamada a la función no pasamos ningún parámetro, se utilizará el valor indicado por defecto."
   ]
  },
  {
   "cell_type": "code",
   "execution_count": 2,
   "id": "6sEfIq1q-X4D",
   "metadata": {
    "colab": {
     "base_uri": "https://localhost:8080/"
    },
    "executionInfo": {
     "elapsed": 291,
     "status": "ok",
     "timestamp": 1632506911440,
     "user": {
      "displayName": "Jose Luis Ojeda",
      "photoUrl": "https://lh3.googleusercontent.com/a-/AOh14GioxvwskRaM2HjJwQ_L936mkRS1wMOHPWrqOWUffw=s64",
      "userId": "12240071782040482724"
     },
     "user_tz": 300
    },
    "id": "6sEfIq1q-X4D",
    "outputId": "7ecd5c4e-b007-478d-fe5c-53055850f7f7"
   },
   "outputs": [
    {
     "name": "stdout",
     "output_type": "stream",
     "text": [
      "2\n",
      "8\n"
     ]
    }
   ],
   "source": [
    "def fun(a, b=1):\n",
    "    print(b)\n",
    "    print(a*b)\n",
    "\n",
    "fun(4,2)"
   ]
  },
  {
   "cell_type": "markdown",
   "id": "_j1kcWLC_0zk",
   "metadata": {
    "id": "_j1kcWLC_0zk"
   },
   "source": [
    "Python también nos permite pasar argumentos a funciones utilizando nombres y obviando la posición que ocupan"
   ]
  },
  {
   "cell_type": "code",
   "execution_count": null,
   "id": "JzHxQ-kR_191",
   "metadata": {
    "colab": {
     "base_uri": "https://localhost:8080/"
    },
    "executionInfo": {
     "elapsed": 264,
     "status": "ok",
     "timestamp": 1632507085869,
     "user": {
      "displayName": "Jose Luis Ojeda",
      "photoUrl": "https://lh3.googleusercontent.com/a-/AOh14GioxvwskRaM2HjJwQ_L936mkRS1wMOHPWrqOWUffw=s64",
      "userId": "12240071782040482724"
     },
     "user_tz": 300
    },
    "id": "JzHxQ-kR_191",
    "outputId": "1c870c8f-78fa-4792-8626-52aa23f6f007"
   },
   "outputs": [
    {
     "name": "stdout",
     "output_type": "stream",
     "text": [
      "a = 1, b = 3, c = 5\n"
     ]
    }
   ],
   "source": [
    "def fun(a, b, c):\n",
    "    print(\"a = {0}, b = {1}, c = {2}\".format(a, b, c)) \n",
    "\n",
    "fun(c = 5, b = 3, a = 1)"
   ]
  },
  {
   "cell_type": "markdown",
   "id": "ckDU3nx6B2V4",
   "metadata": {
    "id": "ckDU3nx6B2V4"
   },
   "source": [
    "Podemos combinar valores por defecto y nombres de argumentos para invocar a una función. Supongamos que definimos la siguiente función:"
   ]
  },
  {
   "cell_type": "code",
   "execution_count": null,
   "id": "oPbEwk7qB4P6",
   "metadata": {
    "colab": {
     "base_uri": "https://localhost:8080/"
    },
    "executionInfo": {
     "elapsed": 275,
     "status": "ok",
     "timestamp": 1632507746182,
     "user": {
      "displayName": "Jose Luis Ojeda",
      "photoUrl": "https://lh3.googleusercontent.com/a-/AOh14GioxvwskRaM2HjJwQ_L936mkRS1wMOHPWrqOWUffw=s64",
      "userId": "12240071782040482724"
     },
     "user_tz": 300
    },
    "id": "oPbEwk7qB4P6",
    "outputId": "2882bede-1f14-4549-ad31-7db374a39d1e"
   },
   "outputs": [
    {
     "name": "stdout",
     "output_type": "stream",
     "text": [
      "a=1, b=2, c=4\n",
      "a=1, b=2, c=4\n",
      "a=1, b=2, c=4\n",
      "a=1, b=2, c=4\n"
     ]
    }
   ],
   "source": [
    "def fun(a, b, c=4):\n",
    "    print(\"a={0}, b={1}, c={2}\".format(a, b, c)) \n",
    "\n",
    "# Dada la anterior función, las siguientes sentencias son válidas: \n",
    "fun(1, 2, 4)\n",
    "fun(a = 1, b = 2, c=4)\n",
    "fun(a = 1, b = 2)\n",
    "fun(1, 2)"
   ]
  }
 ],
 "metadata": {
  "colab": {
   "collapsed_sections": [],
   "name": "Programación de Funciones.ipynb",
   "provenance": []
  },
  "kernelspec": {
   "display_name": "Python 3 (ipykernel)",
   "language": "python",
   "name": "python3"
  },
  "language_info": {
   "codemirror_mode": {
    "name": "ipython",
    "version": 3
   },
   "file_extension": ".py",
   "mimetype": "text/x-python",
   "name": "python",
   "nbconvert_exporter": "python",
   "pygments_lexer": "ipython3",
   "version": "3.10.0"
  }
 },
 "nbformat": 4,
 "nbformat_minor": 5
}
