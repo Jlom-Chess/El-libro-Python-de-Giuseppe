{
 "cells": [
  {
   "cell_type": "markdown",
   "id": "0de8d7b8-51f5-4db8-a6c4-aede205492e1",
   "metadata": {},
   "source": [
    "## **Formateo de salida**"
   ]
  },
  {
   "cell_type": "code",
   "execution_count": 1,
   "id": "0dedd2cf-c2bf-44ce-b2fa-39c05cd7fd4e",
   "metadata": {},
   "outputs": [
    {
     "name": "stdout",
     "output_type": "stream",
     "text": [
      "3.14\n",
      "3.00\n"
     ]
    }
   ],
   "source": [
    "num_decimal = 3.1416\n",
    "print('{0:.2f}'.format(num_decimal))\n",
    "\n",
    " \n",
    "num_decimal = 3\n",
    "print('{0:.2f}'.format(num_decimal))\n"
   ]
  },
  {
   "cell_type": "code",
   "execution_count": 13,
   "id": "577a99ec-1d8e-4ecc-93b9-97e0208e4b6d",
   "metadata": {},
   "outputs": [
    {
     "name": "stdout",
     "output_type": "stream",
     "text": [
      "3.14\n",
      "3.00\n"
     ]
    }
   ],
   "source": [
    "num_decimal = 3.1416\n",
    "print(f'{num_decimal:.2f}')\n",
    "\n",
    " \n",
    "num_decimal = 3\n",
    "print(f'{num_decimal:.2f}')"
   ]
  },
  {
   "cell_type": "markdown",
   "id": "bf3345fa-0ad7-4fc9-84c0-1c4f1997852e",
   "metadata": {},
   "source": [
    "## **Uso de issubclass()**"
   ]
  },
  {
   "cell_type": "code",
   "execution_count": 15,
   "id": "e4d95ebd-b919-4083-9830-f6fcb80bab55",
   "metadata": {},
   "outputs": [
    {
     "name": "stdout",
     "output_type": "stream",
     "text": [
      "True\n",
      "True\n",
      "False\n"
     ]
    }
   ],
   "source": [
    "# You can check for class\n",
    "# inheritance relationships \n",
    "# with the \"issubclass()\" built-in:\n",
    "\n",
    "class BaseClass: pass\n",
    "class SubClass(BaseClass): pass\n",
    "\n",
    "print(issubclass(SubClass, BaseClass))\n",
    "print(issubclass(SubClass, object))\n",
    "print(issubclass(BaseClass, SubClass))\n"
   ]
  },
  {
   "cell_type": "markdown",
   "id": "5d40dfd3-4a82-4a28-949e-22af98f327f7",
   "metadata": {},
   "source": [
    "## **Nombre de un objeto**"
   ]
  },
  {
   "cell_type": "code",
   "execution_count": 17,
   "id": "f87aad28-ba7f-41ec-a7b6-905ea91e7859",
   "metadata": {},
   "outputs": [
    {
     "data": {
      "text/plain": [
       "'MyClass'"
      ]
     },
     "execution_count": 17,
     "metadata": {},
     "output_type": "execute_result"
    }
   ],
   "source": [
    "# You can get the name of\n",
    "# an object's class as a\n",
    "# string:\n",
    "\n",
    "class MyClass: pass\n",
    "\n",
    "obj = MyClass()\n",
    "obj.__class__.__name__\n"
   ]
  },
  {
   "cell_type": "code",
   "execution_count": 18,
   "id": "9a074e78-86b9-412f-892c-59a51f1811d6",
   "metadata": {},
   "outputs": [
    {
     "data": {
      "text/plain": [
       "'myfunc'"
      ]
     },
     "execution_count": 18,
     "metadata": {},
     "output_type": "execute_result"
    }
   ],
   "source": [
    "# Functions have a\n",
    "# similar feature:\n",
    "\n",
    "def myfunc(): pass\n",
    "\n",
    "myfunc.__name__\n"
   ]
  },
  {
   "cell_type": "markdown",
   "id": "2607fa84-934d-4649-b78f-4b844d6029c9",
   "metadata": {},
   "source": [
    "## **Función lambda**"
   ]
  },
  {
   "cell_type": "code",
   "execution_count": 20,
   "id": "23783eac-e546-4485-b566-0a395679bc90",
   "metadata": {},
   "outputs": [
    {
     "name": "stdout",
     "output_type": "stream",
     "text": [
      "8\n",
      "8\n",
      "8\n"
     ]
    }
   ],
   "source": [
    "# The lambda keyword in Python provides a\n",
    "# shortcut for declaring small and \n",
    "# anonymous functions:\n",
    "\n",
    "add = lambda x, y: x + y\n",
    "print(add(5, 3))\n",
    "\n",
    "# You could declare the same add() \n",
    "# function with the def keyword:\n",
    "\n",
    "def add(x, y):\n",
    "    return x + y\n",
    "\n",
    "print(add(5, 3))\n",
    "\n",
    "# So what's the big fuss about?\n",
    "# Lambdas are *function expressions*:\n",
    "print((lambda x, y: x + y)(5, 3))\n",
    "\n",
    "# • Lambda functions are single-expression \n",
    "# functions that are not necessarily bound\n",
    "# to a name (they can be anonymous).\n",
    "\n",
    "# • Lambda functions can't use regular \n",
    "# Python statements and always include an\n",
    "# implicit `return` statement.\n"
   ]
  },
  {
   "cell_type": "markdown",
   "id": "25d6e1b2-d233-4905-beb5-d0022c3ebea7",
   "metadata": {},
   "source": [
    "## **@classmethod vs @staticmethod vs \"plain\" methods**"
   ]
  },
  {
   "cell_type": "code",
   "execution_count": 23,
   "id": "ef2068bb-cad5-483b-8ba1-5837faf71dcb",
   "metadata": {},
   "outputs": [
    {
     "name": "stdout",
     "output_type": "stream",
     "text": [
      "('instance method called', <__main__.MyClass object at 0x0000018E8B401810>)\n",
      "('class method called', <class '__main__.MyClass'>)\n",
      "static method called\n",
      "('class method called', <class '__main__.MyClass'>)\n",
      "static method called\n"
     ]
    }
   ],
   "source": [
    "# @classmethod vs @staticmethod vs \"plain\" methods\n",
    "# What's the difference?\n",
    "\n",
    "class MyClass:\n",
    "    def method(self):\n",
    "        \"\"\"\n",
    "        Instance methods need a class instance and\n",
    "        can access the instance through `self`.\n",
    "        \"\"\"\n",
    "        return 'instance method called', self\n",
    "\n",
    "    @classmethod\n",
    "    def classmethod(cls):\n",
    "        \"\"\"\n",
    "        Class methods don't need a class instance.\n",
    "        They can't access the instance (self) but\n",
    "        they have access to the class itself via `cls`.\n",
    "        \"\"\"\n",
    "        return 'class method called', cls\n",
    "\n",
    "    @staticmethod\n",
    "    def staticmethod():\n",
    "        \"\"\"\n",
    "        Static methods don't have access to `cls` or `self`.\n",
    "        They work like regular functions but belong to\n",
    "        the class's namespace.\n",
    "        \"\"\"\n",
    "        return 'static method called'\n",
    "\n",
    "# All methods types can be\n",
    "# called on a class instance:\n",
    "obj = MyClass()\n",
    "print(obj.method())\n",
    "#('instance method called', <MyClass instance at 0x1019381b8>)\n",
    "print(obj.classmethod())\n",
    "#('class method called', <class MyClass at 0x101a2f4c8>)\n",
    "print(obj.staticmethod())\n",
    "#'static method called'\n",
    "\n",
    "# Calling instance methods fails\n",
    "# if we only have the class object:\n",
    "print(MyClass.classmethod())\n",
    "#('class method called', <class MyClass at 0x101a2f4c8>)\n",
    "print(MyClass.staticmethod())\n",
    "#'static method called'\n",
    "#MyClass.method()\n",
    "#TypeError: \n",
    "#    \"unbound method method() must be called with MyClass \"\n",
    "#    \"instance as first argument (got nothing instead)\"\n"
   ]
  },
  {
   "cell_type": "markdown",
   "id": "907b0976-c448-46a6-93ac-09c11ce24ec4",
   "metadata": {},
   "source": [
    "## **Cuando usar __repr__  vs  __str__?**"
   ]
  },
  {
   "cell_type": "code",
   "execution_count": 25,
   "id": "9a312ce6-f445-4092-989b-22591dd80874",
   "metadata": {},
   "outputs": [
    {
     "name": "stdout",
     "output_type": "stream",
     "text": [
      "2022-02-03\n",
      "datetime.date(2022, 2, 3)\n"
     ]
    },
    {
     "data": {
      "text/plain": [
       "datetime.date(2022, 2, 3)"
      ]
     },
     "execution_count": 25,
     "metadata": {},
     "output_type": "execute_result"
    }
   ],
   "source": [
    "# When To Use __repr__ vs __str__?\n",
    "# Emulate what the std lib does:\n",
    "import datetime\n",
    "today = datetime.date.today()\n",
    "\n",
    "# Result of __str__ should be readable:\n",
    "print(str(today))\n",
    "\n",
    "# Result of __repr__ should be unambiguous:\n",
    "print(repr(today))\n",
    "\n",
    "# Python interpreter sessions use \n",
    "# __repr__ to inspect objects:\n",
    "today\n"
   ]
  },
  {
   "cell_type": "markdown",
   "id": "2be5b5d6-d92a-438b-838c-69e43e8d5a20",
   "metadata": {},
   "source": [
    "## **enumerate**"
   ]
  },
  {
   "cell_type": "code",
   "execution_count": 26,
   "id": "598c399c-2a92-4113-9a24-083f1154e928",
   "metadata": {},
   "outputs": [
    {
     "name": "stdout",
     "output_type": "stream",
     "text": [
      "índice: 0 elemento: a\n",
      "índice: 1 elemento: b\n",
      "índice: 2 elemento: c\n"
     ]
    }
   ],
   "source": [
    "# Iterar con acceso al índice del elemento\n",
    "\n",
    "for i, elemento in enumerate(['a', 'b', 'c']):\n",
    "    print('índice:', i, 'elemento:', elemento)    \n"
   ]
  },
  {
   "cell_type": "markdown",
   "id": "85832b59-224a-4cdc-9447-2fbb90c708ac",
   "metadata": {},
   "source": [
    "## **itertools.permutations**"
   ]
  },
  {
   "cell_type": "code",
   "execution_count": 27,
   "id": "2b818190-db7e-412d-936d-da4fab9da892",
   "metadata": {},
   "outputs": [
    {
     "name": "stdout",
     "output_type": "stream",
     "text": [
      "('A', 'B', 'C', 'D')\n",
      "('A', 'B', 'D', 'C')\n",
      "('A', 'C', 'B', 'D')\n",
      "('A', 'C', 'D', 'B')\n",
      "('A', 'D', 'B', 'C')\n",
      "('A', 'D', 'C', 'B')\n",
      "('B', 'A', 'C', 'D')\n",
      "('B', 'A', 'D', 'C')\n",
      "('B', 'C', 'A', 'D')\n",
      "('B', 'C', 'D', 'A')\n",
      "('B', 'D', 'A', 'C')\n",
      "('B', 'D', 'C', 'A')\n",
      "('C', 'A', 'B', 'D')\n",
      "('C', 'A', 'D', 'B')\n",
      "('C', 'B', 'A', 'D')\n",
      "('C', 'B', 'D', 'A')\n",
      "('C', 'D', 'A', 'B')\n",
      "('C', 'D', 'B', 'A')\n",
      "('D', 'A', 'B', 'C')\n",
      "('D', 'A', 'C', 'B')\n",
      "('D', 'B', 'A', 'C')\n",
      "('D', 'B', 'C', 'A')\n",
      "('D', 'C', 'A', 'B')\n",
      "('D', 'C', 'B', 'A')\n"
     ]
    }
   ],
   "source": [
    "# itertools.permutations() generates permutations \n",
    "# for an iterable. Time to brute-force those passwords ;-)\n",
    "\n",
    "import itertools\n",
    "for p in itertools.permutations('ABCD'):\n",
    "    print(p)\n"
   ]
  },
  {
   "cell_type": "markdown",
   "id": "da6a6d7f-c69e-4179-92ee-20884fd24be7",
   "metadata": {},
   "source": [
    "## **Finding the most common elements in an iterable**"
   ]
  },
  {
   "cell_type": "code",
   "execution_count": 29,
   "id": "6c5458ad-5d1b-4ccb-b847-0a5865e1e0ab",
   "metadata": {},
   "outputs": [
    {
     "name": "stdout",
     "output_type": "stream",
     "text": [
      "Counter({'l': 3, 'o': 2, 'h': 1, 'e': 1, 'w': 1, 'r': 1, 'd': 1})\n"
     ]
    },
    {
     "data": {
      "text/plain": [
       "[('l', 3), ('o', 2), ('h', 1)]"
      ]
     },
     "execution_count": 29,
     "metadata": {},
     "output_type": "execute_result"
    }
   ],
   "source": [
    "# collections.Counter lets you find the most common\n",
    "# elements in an iterable:\n",
    "\n",
    "import collections\n",
    "c = collections.Counter('helloworld')\n",
    "\n",
    "print(c)\n",
    "#Counter({'l': 3, 'o': 2, 'e': 1, 'd': 1, 'h': 1, 'r': 1, 'w': 1})\n",
    "\n",
    "c.most_common(3)\n",
    "#[('l', 3), ('o', 2), ('e', 1)]\n"
   ]
  },
  {
   "cell_type": "code",
   "execution_count": 30,
   "id": "648e287a-185a-403b-9a5a-7123ddc6edd7",
   "metadata": {},
   "outputs": [
    {
     "data": {
      "text/plain": [
       "[(14, 5)]"
      ]
     },
     "execution_count": 30,
     "metadata": {},
     "output_type": "execute_result"
    }
   ],
   "source": [
    "# Se puede usar para calcular la moda\n",
    "import collections\n",
    "notas = [14, 13, 18, 14, 16, 14, 17, 14, 18, 19, 12, 14]\n",
    "c = collections.Counter(notas)\n",
    "c.most_common(1)\n"
   ]
  },
  {
   "cell_type": "markdown",
   "id": "482f1a2f-94b9-4236-9689-4b4909c515b0",
   "metadata": {},
   "source": [
    "## **Copiando listas**"
   ]
  },
  {
   "cell_type": "code",
   "execution_count": 31,
   "id": "78b0d473-c146-4d65-a0ff-1742352a1900",
   "metadata": {},
   "outputs": [
    {
     "name": "stdout",
     "output_type": "stream",
     "text": [
      "[10, 2, 3, 4]\n",
      "[10, 2, 3, 4]\n",
      "[1, 2, 3, 4]\n",
      "[10, 2, 3, 4]\n",
      "[[1, 2, 5], [3, 4]]\n",
      "[[1, 2, 5], [3, 4]]\n",
      "[[1, 2], [3, 4]]\n",
      "[[1, 2, 5], [3, 4]]\n"
     ]
    }
   ],
   "source": [
    "# Copia de referencias\n",
    "# Ambas listas tienen la misma referencia.\n",
    "# Los cambios en una se ven reflejados en la otra.\n",
    " \n",
    "a = [1, 2, 3, 4]\n",
    "b = a\n",
    "b[0] = 10\n",
    "print(a)\n",
    "print(b)\n",
    " \n",
    "# Copia poco profunda (python 3)\n",
    " \n",
    "a = [1, 2, 3, 4]\n",
    "b = a.copy()\n",
    "b[0] = 10\n",
    "print(a)\n",
    "print(b)\n",
    " \n",
    "a = [[1, 2], [3, 4]]\n",
    "b = a.copy()\n",
    "b[0].append(5)\n",
    "print(a)\n",
    "\n",
    "print(b)\n",
    " \n",
    "# Copia profunda (python 3)\n",
    "# Crea nuevos objetos\n",
    " \n",
    "from copy import deepcopy\n",
    " \n",
    "a = [[1, 2], [3, 4]]\n",
    "b = deepcopy(a)\n",
    "b[0].append(5)\n",
    "print(a)\n",
    "print(b)\n"
   ]
  },
  {
   "cell_type": "markdown",
   "id": "f05402d6-8534-4ac5-a49c-8ef691571a44",
   "metadata": {},
   "source": [
    "## **Python list slice syntax fun**"
   ]
  },
  {
   "cell_type": "code",
   "execution_count": 33,
   "id": "39ee9084-db9e-4179-8e1b-04dabf10dc92",
   "metadata": {},
   "outputs": [
    {
     "name": "stdout",
     "output_type": "stream",
     "text": [
      "[]\n",
      "[7, 8, 9]\n",
      "[7, 8, 9]\n",
      "True\n",
      "[7, 8, 9]\n",
      "False\n"
     ]
    }
   ],
   "source": [
    "# Python's list slice syntax can be used without indices\n",
    "# for a few fun and useful things:\n",
    "\n",
    "# You can clear all elements from a list:\n",
    "lst = [1, 2, 3, 4, 5]\n",
    "del lst[:]\n",
    "print(lst)\n",
    "\n",
    "# You can replace all elements of a list\n",
    "# without creating a new list object:\n",
    "a = lst\n",
    "lst[:] = [7, 8, 9]\n",
    "print(lst)\n",
    "# [7, 8, 9]\n",
    "print(a)\n",
    "# [7, 8, 9]\n",
    "print(a is lst)\n",
    "# True\n",
    "\n",
    "# You can also create a (shallow) copy of a list:\n",
    "b = lst[:]\n",
    "print(b)\n",
    "# [7, 8, 9]\n",
    "print(b is lst)\n",
    "# False\n"
   ]
  },
  {
   "cell_type": "markdown",
   "id": "adb7af32-ad11-46fe-a154-e3103c32cd93",
   "metadata": {},
   "source": [
    "## **Obtener la diferencia entre dos listas**"
   ]
  },
  {
   "cell_type": "code",
   "execution_count": 34,
   "id": "9981ce90-a8b1-483d-a594-900d170b2c2b",
   "metadata": {},
   "outputs": [
    {
     "name": "stdout",
     "output_type": "stream",
     "text": [
      "['e', 'd']\n"
     ]
    }
   ],
   "source": [
    "# Obtener la diferencia entre dos listas\n",
    " \n",
    "# Obtiene una tercera lista con los elementos\n",
    "# de la primera que no están en la segunda\n",
    " \n",
    "lista_1 = ['a', 'b', 'c', 'd', 'e']\n",
    "lista_2 = ['a', 'b', 'c']\n",
    "set_1 = set(lista_1)\n",
    "set_2 = set(lista_2)\n",
    "lista_3 = list(set_1.symmetric_difference(set_2))\n",
    "print(lista_3)\n",
    "# ['e', 'd']\n"
   ]
  },
  {
   "cell_type": "code",
   "execution_count": 36,
   "id": "a514da6b-5c3c-4df7-8781-1292ed8a3c5c",
   "metadata": {},
   "outputs": [
    {
     "name": "stdout",
     "output_type": "stream",
     "text": [
      "5.35 4.28\n"
     ]
    }
   ],
   "source": [
    "# Compatibilidad con Python 3.5+ 'escribir anotaciones' que se puede \n",
    "# usar con herramientas como Mypy para escribir Python tipado estáticamente:\n",
    "\n",
    "def my_add(a: int, b: int) -> int:\n",
    "    return a + b\n",
    "\n",
    "print(5.35, 4.28)"
   ]
  },
  {
   "cell_type": "markdown",
   "id": "ab48e6fa-e3f6-4e69-ac7a-426c3caaf906",
   "metadata": {},
   "source": [
    "## **Las comprensiones de listas de Python son impresionantes**"
   ]
  },
  {
   "cell_type": "code",
   "execution_count": 38,
   "id": "7a266caf-e030-4c8f-a3fc-f2e4845ce61d",
   "metadata": {},
   "outputs": [
    {
     "data": {
      "text/plain": [
       "[0, 4, 16, 36, 64]"
      ]
     },
     "execution_count": 38,
     "metadata": {},
     "output_type": "execute_result"
    }
   ],
   "source": [
    "# Python's list comprehensions are awesome.\n",
    "\n",
    "# vals = [expression \n",
    "#        for value in collection \n",
    "#        if condition]\n",
    "\n",
    "# This is equivalent to:\n",
    "\n",
    "# vals = []\n",
    "# for value in collection:\n",
    "#    if condition:\n",
    "#        vals.append(expression)\n",
    "\n",
    "# Example:\n",
    "\n",
    "even_squares = [x * x for x in range(10) if not x % 2]\n",
    "even_squares\n",
    "# [0, 4, 16, 36, 64]\n"
   ]
  },
  {
   "cell_type": "markdown",
   "id": "dc4f6ec3-db9d-4e2a-8a6d-aed8a087f00a",
   "metadata": {},
   "source": [
    "## **Dicts can be used to emulate switch/case statements**"
   ]
  },
  {
   "cell_type": "code",
   "execution_count": 39,
   "id": "e9199fa0-950d-457e-b824-144d7dacf4ac",
   "metadata": {},
   "outputs": [
    {
     "name": "stdout",
     "output_type": "stream",
     "text": [
      "16\n",
      "16\n",
      "None\n",
      "None\n"
     ]
    }
   ],
   "source": [
    "# Because Python has first-class functions they can\n",
    "# be used to emulate switch/case statements\n",
    "\n",
    "def dispatch_if(operator, x, y):\n",
    "    if operator == 'add':\n",
    "        return x + y\n",
    "    elif operator == 'sub':\n",
    "        return x - y\n",
    "    elif operator == 'mul':\n",
    "        return x * y\n",
    "    elif operator == 'div':\n",
    "        return x / y\n",
    "    else:\n",
    "        return None\n",
    "\n",
    "\n",
    "def dispatch_dict(operator, x, y):\n",
    "    return {\n",
    "        'add': lambda: x + y,\n",
    "        'sub': lambda: x - y,\n",
    "        'mul': lambda: x * y,\n",
    "        'div': lambda: x / y,\n",
    "    }.get(operator, lambda: None)()\n",
    "\n",
    "\n",
    "print(dispatch_if('mul', 2, 8))\n",
    "\n",
    "print(dispatch_dict('mul', 2, 8))\n",
    "\n",
    "print(dispatch_if('unknown', 2, 8))\n",
    "\n",
    "print(dispatch_dict('unknown', 2, 8))\n"
   ]
  },
  {
   "cell_type": "markdown",
   "id": "47d41701-561b-4310-bc91-b7e3a84217f6",
   "metadata": {},
   "source": [
    "## **Functions are first-class citizens in Python**"
   ]
  },
  {
   "cell_type": "code",
   "execution_count": 40,
   "id": "c2f1a25b-c5ea-4160-b114-c46151e2b1c3",
   "metadata": {},
   "outputs": [
    {
     "name": "stdout",
     "output_type": "stream",
     "text": [
      "<function myfunc at 0x0000018E8B503520>\n"
     ]
    },
    {
     "data": {
      "text/plain": [
       "5"
      ]
     },
     "execution_count": 40,
     "metadata": {},
     "output_type": "execute_result"
    }
   ],
   "source": [
    "# Functions are first-class citizens in Python:\n",
    "\n",
    "# They can be passed as arguments to other functions,\n",
    "# returned as values from other functions, and\n",
    "# assigned to variables and stored in data structures.\n",
    "\n",
    "def myfunc(a, b):\n",
    "    return a + b\n",
    "\n",
    "funcs = [myfunc]\n",
    "print(funcs[0])\n",
    "# function myfunc at 0x107012230>\n",
    "funcs[0](2, 3)\n"
   ]
  },
  {
   "cell_type": "markdown",
   "id": "60c654ad-4f51-46ab-8261-7ae55bc9b707",
   "metadata": {},
   "source": [
    "## **Medir el tiempo de ejecución de un script**"
   ]
  },
  {
   "cell_type": "code",
   "execution_count": 41,
   "id": "d7e3bdf4-38d8-47ad-ad42-22909a7d41cc",
   "metadata": {},
   "outputs": [
    {
     "name": "stdout",
     "output_type": "stream",
     "text": [
      "El tiempo de ejecución es 0.08177947998046875\n"
     ]
    }
   ],
   "source": [
    "# Tiempo de ejecución en segundos de un script\n",
    " \n",
    "import time\n",
    " \n",
    "inicio = time.time()\n",
    " \n",
    "# Tu código, por ejemplo:\n",
    "x = 0\n",
    "for i in range(1000000):\n",
    "    x += i\n",
    " \n",
    "fin = time.time()\n",
    "tiempo_total = fin - inicio\n",
    " \n",
    "print(f'El tiempo de ejecución es {tiempo_total}')\n",
    "\n"
   ]
  },
  {
   "cell_type": "markdown",
   "id": "2bb239ba-5c89-4baa-bde1-47135ad9fe98",
   "metadata": {},
   "source": [
    "## **Python's shorthand for in-place value swapping**"
   ]
  },
  {
   "cell_type": "code",
   "execution_count": null,
   "id": "79f52a1f-e890-4cdc-bb2c-cb1cca61bbb6",
   "metadata": {},
   "outputs": [],
   "source": [
    "# Why Python Is Great:\n",
    "# In-place value swapping\n",
    "\n",
    "# Let's say we want to swap\n",
    "# the values of a and b...\n",
    "a = 23\n",
    "b = 42\n",
    "\n",
    "# The \"classic\" way to do it\n",
    "# with a temporary variable:\n",
    "tmp = a\n",
    "a = b\n",
    "b = tmp\n",
    "\n",
    "# Python also lets us\n",
    "# use this short-hand:\n",
    "a, b = b, a\n"
   ]
  },
  {
   "cell_type": "markdown",
   "id": "0d0c8a7f-7559-41d6-b898-570d1741743a",
   "metadata": {},
   "source": [
    "## **Measure the execution time of small bits of Python code with the \"timeit\" module**"
   ]
  },
  {
   "cell_type": "code",
   "execution_count": 43,
   "id": "4d2a3b93-29d6-491e-b56c-7c6bba7760d7",
   "metadata": {},
   "outputs": [
    {
     "name": "stdout",
     "output_type": "stream",
     "text": [
      "0.209629800003313\n",
      "0.13015550000272924\n",
      "0.10490869999921415\n"
     ]
    }
   ],
   "source": [
    "# The \"timeit\" module lets you measure the execution\n",
    "# time of small bits of Python code\n",
    "\n",
    "import timeit\n",
    "print(timeit.timeit('\"-\".join(str(n) for n in range(100))',\n",
    "                  number=10000))\n",
    "\n",
    "# 0.3412662749997253\n",
    "\n",
    "print(timeit.timeit('\"-\".join([str(n) for n in range(100)])',\n",
    "                  number=10000))\n",
    "\n",
    "# 0.2996307989997149\n",
    "\n",
    "print(timeit.timeit('\"-\".join(map(str, range(100)))',\n",
    "                  number=10000))\n",
    "\n",
    "# 0.24581470699922647\n"
   ]
  },
  {
   "cell_type": "code",
   "execution_count": null,
   "id": "de6294cc-414b-43ee-bf6c-a9a41bfe0c57",
   "metadata": {},
   "outputs": [],
   "source": []
  }
 ],
 "metadata": {
  "kernelspec": {
   "display_name": "Python 3 (ipykernel)",
   "language": "python",
   "name": "python3"
  },
  "language_info": {
   "codemirror_mode": {
    "name": "ipython",
    "version": 3
   },
   "file_extension": ".py",
   "mimetype": "text/x-python",
   "name": "python",
   "nbconvert_exporter": "python",
   "pygments_lexer": "ipython3",
   "version": "3.10.2"
  }
 },
 "nbformat": 4,
 "nbformat_minor": 5
}
