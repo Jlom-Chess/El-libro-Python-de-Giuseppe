{
 "cells": [
  {
   "cell_type": "markdown",
   "id": "d980ccc0-26ac-4aeb-8798-e80c0099d3e6",
   "metadata": {},
   "source": [
    "## Métodos de las colecciones\n",
    "*Nota: Estos ejercicios son optativos para hacer al final de la unidad y están pensados para apoyar tu aprendizaje*."
   ]
  },
  {
   "cell_type": "markdown",
   "id": "e03e571b-f4ec-484f-983f-8ce8c7dba437",
   "metadata": {},
   "source": [
    "**1) Utilizando todo lo que sabes sobre cadenas, listas, sus métodos internos... Transforma este texto:**\n",
    "\n",
    "```\n",
    "un día que el viento soplaba con fuerza#mira como se mueve aquella banderola -dijo un monje#lo que se mueve es el viento -respondió otro monje#ni las banderolas ni el viento, lo que se mueve son vuestras mentes -dijo el maestro\n",
    "```\n",
    "**En este otro:**\n",
    "\n",
    "```\n",
    "Un día que el viento soplaba con fuerza...\n",
    "- Mira como se mueve aquella banderola -dijo un monje.\n",
    "- Lo que se mueve es el viento -respondió otro monje.\n",
    "- Ni las banderolas ni el viento, lo que se mueve son vuestras mentes -dijo el maestro.\n",
    "```\n",
    "**Lo único prohibido es modificar directamente el texto**"
   ]
  },
  {
   "cell_type": "code",
   "execution_count": 21,
   "id": "d4e8fed0-6560-46f8-8bdb-753cb511706f",
   "metadata": {
    "collapsed": false,
    "jupyter": {
     "outputs_hidden": false
    }
   },
   "outputs": [
    {
     "name": "stdout",
     "output_type": "stream",
     "text": [
      "Un día que el viento soplaba con fuerza...\n",
      "- Mira como se mueve aquella banderola -dijo un monje.\n",
      "- Lo que se mueve es el viento -respondió otro monje.\n",
      "- Ni las banderolas ni el viento, lo que se mueve son vuestras mentes -dijo el maestro.\n"
     ]
    }
   ],
   "source": [
    "# Completa el ejercicio aquí\n",
    "texto = \"un día que el viento soplaba con fuerza#mira como se mueve aquella banderola -dijo un monje#lo que se mueve es el viento -respondió otro monje#ni las banderolas ni el viento, lo que se mueve son vuestras mentes -dijo el maestro\"\n",
    "\n",
    "lineas = texto.split(\"#\")\n",
    "for i, linea in enumerate(lineas):\n",
    "    lineas[i] = linea.capitalize()\n",
    "    if i == 0:\n",
    "        lineas[i] = lineas[i] + \"...\"\n",
    "    else:\n",
    "        lineas[i] = \"- \" + lineas[i] + \".\"\n",
    "\n",
    "# Mostramos el texto final\n",
    "for linea in lineas:\n",
    "    print(linea)"
   ]
  },
  {
   "cell_type": "markdown",
   "id": "f7f8c2d8-6763-4a0e-a6ac-7b1437e61e1f",
   "metadata": {},
   "source": [
    "**2) Crea una función modificar() que a partir de una lista de números realice las siguientes tareas sin modificar la original:**\n",
    "\n",
    "* Borrar los elementos duplicados\n",
    "* Ordenar la lista de mayor a menor\n",
    "* Eliminar todos los números impares\n",
    "* Realizar una suma de todos los números que quedan\n",
    "* Añadir como primer elemento de la lista la suma realizada\n",
    "* Devolver la lista modificada\n",
    "* Finalmente, después de ejecutar la función, comprueba que la suma de todos los números a partir del segundo, concuerda con el primer número de la lista, tal que así:\n",
    "```python\n",
    "nueva_lista = modificar(lista)\n",
    "print( nueva_lista[0] == sum(nueva_lista[1:]) )\n",
    "> True\n",
    "```\n",
    "\n",
    "*Nota: La función sum(lista) devuelve una suma de los elementos de una lista*"
   ]
  },
  {
   "cell_type": "code",
   "execution_count": 4,
   "id": "3f4d149b-94f6-40de-9242-d0460c604106",
   "metadata": {
    "collapsed": false,
    "jupyter": {
     "outputs_hidden": false
    }
   },
   "outputs": [
    {
     "name": "stdout",
     "output_type": "stream",
     "text": [
      "True\n"
     ]
    }
   ],
   "source": [
    "# Completa el ejercicio aquí\n",
    "lista = [29, -5, -12, 17, 5, 24, 5, 12, 23, 16, 12, 5, -12, 17]\n",
    "\n",
    "def modificar(l):\n",
    "    \n",
    "    l = list(set(l))  # Borrar los elementos duplicados (recrea la lista a partir de un nuevo diccionario)\n",
    "    l.sort(reverse=True)  # Ordenar la lista de mayor a menor\n",
    "    for i,n in enumerate(l):  # Eliminar todos los números impares\n",
    "        if n%2 != 0:\n",
    "            del( l[i] )\n",
    "            \n",
    "    suma = sum(l)  # Realizar una suma de todos los números que quedan\n",
    "    l.insert(0, suma)  # Añadir como primer elemento de la lista la suma realizada\n",
    "    return l  # Devolver la lista modificada\n",
    "\n",
    "\n",
    "nueva_lista = modificar(lista)\n",
    "print( nueva_lista[0] == sum(nueva_lista[1:]) )"
   ]
  },
  {
   "cell_type": "markdown",
   "id": "7a8d1389-97a2-40c2-8c95-eec844828d9e",
   "metadata": {},
   "source": [
    "Una empresa comercializadora de artefactos vende los siguientes productos: Televisores, equipos de sonido, laptops y línea blanca. Desea llevar una estadística de los televisores que tienen los siguientes códigos: LG42UHD, LG42HD, SS42UHD y SS42HD. Se pide que ingresen las ventas en unidades y montos de cada producto, hasta que el usuario diga que no desea continuar ingresando más ventas; se recomienda usar los vectores para código, unidades y monto (pueden registrarse varias veces un mismo código). Se solicita indicar el producto de mayor y menor venta en unidades y en montos. "
   ]
  },
  {
   "cell_type": "code",
   "execution_count": null,
   "id": "77aea929-9bf0-41d2-96fe-c56b89d6b02f",
   "metadata": {},
   "outputs": [],
   "source": [
    "\"\"\"\n",
    "         1         2         3         4         5         6         7         8\n",
    "12345678901234567890123456789012345678901234567890123456789012345678901234567890\n",
    "\"\"\"\n",
    "# Maquinaria\n",
    "\n",
    "tv = [\"LG42UHD\", \"LG42HD\", \"SS42UHD\", \"SS42HD\"]\n",
    "codigos = []\n",
    "unidades = []\n",
    "montos = []\n",
    "codigosIngresados = []\n",
    "unidadesPorCodigo = []\n",
    "montosPorCodigo = []\n",
    "while True:\n",
    "    while True:\n",
    "        codigo = input(\"Ingrese código de TV\").upper()\n",
    "        if codigo in tv:\n",
    "            codigos.append(codigo)\n",
    "            while True:\n",
    "                unidad = int(input(\"Ingrese unidades \"))\n",
    "                if unidad > 0:\n",
    "                    unidades.append(unidad)\n",
    "                    break\n",
    "                else:\n",
    "                    print(\"Unidades debe ser mayor a cero\")\n",
    "\n",
    "            while True:\n",
    "                monto = float(input(\"Ingrese monto \"))\n",
    "                if monto > 0:\n",
    "                    montos.append(monto)\n",
    "                    break\n",
    "                else:\n",
    "                    print(\"Monto debe ser mayor a cero\")\n",
    "\n",
    "            break\n",
    "        else:\n",
    "            print(\"Código no existe, intente otra vez\")\n",
    "\n",
    "    respuesta = input(\"Digite 'S' si desea ingresar más códigos\").upper()\n",
    "    if respuesta != \"S\":\n",
    "        break\n",
    "\n",
    "# consolidando\n",
    "for i, x in enumerate(tv):\n",
    "    c, u, m = \"\", 0, 0.0\n",
    "    for j, y in enumerate(codigos):\n",
    "        if tv[i] == codigos[j]:\n",
    "            c = codigos[j]\n",
    "            u += unidades[j]\n",
    "            m += montos[j]\n",
    "    if c != \"\":\n",
    "        codigosIngresados.append(c)\n",
    "        unidadesPorCodigo.append(u)\n",
    "        montosPorCodigo.append(m)\n",
    "\n",
    "# ordenando vectores\n",
    "# por unidades\n",
    "for i in range(len(codigosIngresados)):\n",
    "    j = i + 1\n",
    "    for j in range(len(codigosIngresados)):\n",
    "        if unidadesPorCodigo[i] < unidadesPorCodigo[j]:\n",
    "            temp = unidadesPorCodigo[i]\n",
    "            unidadesPorCodigo[i] = unidadesPorCodigo[j]\n",
    "            unidadesPorCodigo[j] = temp\n",
    "\n",
    "            temp = codigosIngresados[i]\n",
    "            codigosIngresados[i] = codigosIngresados[j]\n",
    "            codigosIngresados[j] = temp\n",
    "\n",
    "            temp = montosPorCodigo[i]\n",
    "            montosPorCodigo[i] = montosPorCodigo[j]\n",
    "            montosPorCodigo[j] = temp\n",
    "\n",
    "mensaje = (\n",
    "    f\"\\nMayor venta por unidades \"\n",
    "    f\"{codigosIngresados[len(codigosIngresados) - 1]} con \"\n",
    "    f\"{unidadesPorCodigo[len(unidadesPorCodigo) - 1]} unidades\"\n",
    ")\n",
    "\n",
    "print(\"---- Mayor venta por unidades----\")\n",
    "print(mensaje)\n",
    "\n",
    "# por monto\n",
    "for i in range(len(codigosIngresados)):\n",
    "    j = i + 1\n",
    "    for j in range(len(codigosIngresados)):\n",
    "        if montosPorCodigo[i] < montosPorCodigo[j]:\n",
    "            temp = montosPorCodigo[i]\n",
    "            montosPorCodigo[i] = montosPorCodigo[j]\n",
    "            montosPorCodigo[j] = temp\n",
    "\n",
    "            temp = codigosIngresados[i]\n",
    "            codigosIngresados[i] = codigosIngresados[j]\n",
    "            codigosIngresados[j] = temp\n",
    "\n",
    "            temp = unidadesPorCodigo[i]\n",
    "            unidadesPorCodigo[i] = unidadesPorCodigo[j]\n",
    "            unidadesPorCodigo[j] = temp\n",
    "\n",
    "mensaje = (\n",
    "    f\"\\nMayor venta por montos \"\n",
    "    f\"{codigosIngresados[len(codigosIngresados) - 1]} con \"\n",
    "    f\"{montosPorCodigo[len(unidadesPorCodigo) - 1]} soles\"\n",
    ")\n",
    "\n",
    "print(\"---- Mayor venta por unidades----\")\n",
    "print(mensaje)\n"
   ]
  },
  {
   "cell_type": "code",
   "execution_count": null,
   "id": "b818b22d-a939-492c-9d00-942714916300",
   "metadata": {},
   "outputs": [],
   "source": [
    "print(codigos)\n",
    "print(unidades)\n",
    "print(montos)"
   ]
  },
  {
   "cell_type": "code",
   "execution_count": null,
   "id": "9237812e-6976-46bb-b3fe-26696d3c5ad6",
   "metadata": {},
   "outputs": [],
   "source": [
    "codigosIngresados = []\n",
    "unidadesPorCodigo = []\n",
    "montosPorCodigo = []\n",
    "for i, x in enumerate(tv):\n",
    "    c, u, m = \"\", 0, 0.0\n",
    "    for j, y in enumerate(codigos):\n",
    "        if tv[i] == codigos[j]:\n",
    "            c = codigos[j]\n",
    "            u += unidades[j]\n",
    "            m += montos[j]\n",
    "    if c != \"\":\n",
    "        codigosIngresados.append(c)\n",
    "        unidadesPorCodigo.append(u)\n",
    "        montosPorCodigo.append(m)\n",
    "            \n",
    "print(codigosIngresados)\n",
    "print(unidadesPorCodigo)\n",
    "print(montosPorCodigo)"
   ]
  },
  {
   "cell_type": "code",
   "execution_count": null,
   "id": "92d5c1a1-9f65-4589-bee3-04dc23755088",
   "metadata": {},
   "outputs": [],
   "source": [
    "print(codigosIngresados)\n",
    "print(unidadesPorCodigo)\n",
    "print(montosPorCodigo)"
   ]
  },
  {
   "cell_type": "code",
   "execution_count": null,
   "id": "e7a030fb-697a-456a-bc9f-235611c98447",
   "metadata": {},
   "outputs": [],
   "source": [
    "mensaje = f\"Mayor venta por unidades \"\\\n",
    "            f\"{codigosIngresados[len(codigosIngresados)-1]} con \"\\\n",
    "            f\"{unidadesPorCodigo[len(unidadesPorCodigo)-1]}\"\n",
    "print(\"---- Mayor venta por unidades----\")\n",
    "print(mensaje)"
   ]
  },
  {
   "cell_type": "markdown",
   "id": "3e37a7ac-2c6a-43fa-82b7-1ff847596cb1",
   "metadata": {
    "id": "u7Sl9vyriUtf"
   },
   "source": [
    "**Ejercicio**\n",
    "\n",
    "Escribir un programa que guarde en un diccionario los precios de las frutas de la tabla, pregunte al usuario por una fruta, un número de kilos y muestre por pantalla el precio de ese número de kilos de fruta. Si la fruta no está en el diccionario debe mostrar un mensaje informando de ello.\n",
    "\n",
    "Fruta\tPrecio\n",
    "\n",
    "Plátano\t1.35\n",
    "\n",
    "Manzana\t0.80\n",
    "\n",
    "Pera\t0.85\n",
    "\n",
    "Naranja\t0.70\n"
   ]
  },
  {
   "cell_type": "code",
   "execution_count": 3,
   "id": "a69a7b07-7326-4236-acf5-a0b98ce70d87",
   "metadata": {
    "colab": {
     "base_uri": "https://localhost:8080/"
    },
    "executionInfo": {
     "elapsed": 7791,
     "status": "ok",
     "timestamp": 1631231869250,
     "user": {
      "displayName": "Norman Estuardo Reyes Morales",
      "photoUrl": "https://lh3.googleusercontent.com/a/default-user=s64",
      "userId": "18273577649580515371"
     },
     "user_tz": 300
    },
    "id": "p7j4sMsdia0m",
    "outputId": "9f8ffa12-b343-43c8-d047-31ea44dcd1d0"
   },
   "outputs": [
    {
     "name": "stdout",
     "output_type": "stream",
     "text": [
      "¿Qué fruta quieres? Pera\n",
      "¿Cuántos kilos? 10\n",
      "10.0 kilos de Pera valen S/. 8.5\n"
     ]
    }
   ],
   "source": [
    "frutas = {'Plátano':1.35, 'Manzana':0.8, 'Pera':0.85, 'Naranja':0.7}\n",
    "fruta = input('¿Qué fruta quieres? ').title()\n",
    "kg = float(input('¿Cuántos kilos? '))\n",
    "if fruta in frutas:\n",
    "    print(kg, 'kilos de', fruta, 'valen', 'S/.', frutas[fruta]*kg)\n",
    "else: \n",
    "    print(\"Lo siento, la fruta\", fruta, \"no está disponible.\")"
   ]
  },
  {
   "cell_type": "markdown",
   "id": "231e04a7-dd89-4163-9254-3c067cc94aef",
   "metadata": {
    "id": "q0TEGxTdiunf"
   },
   "source": [
    "Ejercicio\n",
    "\n",
    "Escribir un programa que cree un diccionario simulando una carrito de compras. El programa debe preguntar el artículo y su precio y añadir el par al diccionario, hasta que el usuario decida terminar. Después se debe mostrar por pantalla la lista de la compra y el coste total, con el siguiente formato\n",
    "\n",
    "Lista de la compra\n",
    "\n",
    "Artículo 1\tPrecio \n",
    "\n",
    "Artículo 2\tPrecio \n",
    "\n",
    "Artículo 3\tPrecio \n",
    "\n",
    "…\t…\n",
    "Total\tCoste\n",
    "\n"
   ]
  },
  {
   "cell_type": "code",
   "execution_count": 4,
   "id": "86d7568f-597e-471a-afa5-f2a3ee1e0a94",
   "metadata": {
    "colab": {
     "base_uri": "https://localhost:8080/"
    },
    "executionInfo": {
     "elapsed": 33016,
     "status": "ok",
     "timestamp": 1631231971084,
     "user": {
      "displayName": "Norman Estuardo Reyes Morales",
      "photoUrl": "https://lh3.googleusercontent.com/a/default-user=s64",
      "userId": "18273577649580515371"
     },
     "user_tz": 300
    },
    "id": "qQXiymKDjKVC",
    "outputId": "74f681ad-b258-44e3-8333-7f90a6743021"
   },
   "outputs": [
    {
     "name": "stdout",
     "output_type": "stream",
     "text": [
      "Introduce un artículo: Palos\n",
      "Introduce el precio de Palos: 12\n",
      "¿Quieres añadir artículos a la lista (Si/No)? Si\n",
      "Introduce un artículo: Pelotas\n",
      "Introduce el precio de Pelotas: 45\n",
      "¿Quieres añadir artículos a la lista (Si/No)? No\n",
      "Lista de la compra\n",
      "Palos \t 12.0\n",
      "Pelotas \t 45.0\n",
      "Coste total:  57.0\n"
     ]
    }
   ],
   "source": [
    "cesta = {}\n",
    "continuar = True\n",
    "while continuar:\n",
    "    item = input('Introduce un artículo: ')\n",
    "    precio = float(input('Introduce el precio de ' + item + ': '))\n",
    "    cesta[item] = precio\n",
    "    continuar = input('¿Quieres añadir artículos a la lista (Si/No)? ') == \"Si\"\n",
    "coste = 0\n",
    "print('Lista de la compra')\n",
    "for item, precio in cesta.items():\n",
    "    print(item, '\\t', precio)\n",
    "    coste += precio\n",
    "print('Coste total: ', coste)"
   ]
  },
  {
   "cell_type": "markdown",
   "id": "c5c2c6a6-1b40-4eed-8716-bb58a50f547a",
   "metadata": {
    "id": "dMBIAhpfjX5P"
   },
   "source": [
    "Escribir un programa que gestione las facturas pendientes de cobro de una empresa. Las facturas se almacenarán en un diccionario donde la clave de cada factura será el número de factura y el valor el coste de la factura. El programa debe preguntar al usuario si quiere añadir una nueva factura, pagar una existente o terminar. Si desea añadir una nueva factura se preguntará por el número de factura y su coste y se añadirá al diccionario. Si se desea pagar una factura se preguntará por el número de factura y se eliminará del diccionario. Después de cada operación el programa debe mostrar por pantalla la cantidad cobrada hasta el momento y la cantidad pendiente de cobro."
   ]
  },
  {
   "cell_type": "code",
   "execution_count": 1,
   "id": "99c10843-eb93-4527-b27e-9c5602e790af",
   "metadata": {
    "id": "tHl9NdvGjbPQ"
   },
   "outputs": [
    {
     "name": "stdout",
     "output_type": "stream",
     "text": [
      "Recaudado: 0\n",
      "Pendiente de cobro:  0\n"
     ]
    },
    {
     "name": "stdin",
     "output_type": "stream",
     "text": [
      "¿Quieres añadir una nueva factura (A), pagarla (P) o terminar (T)?  A\n",
      "Introduce el número de la factura:  100\n",
      "Introduce el coste de la factura:  1000\n"
     ]
    },
    {
     "name": "stdout",
     "output_type": "stream",
     "text": [
      "Recaudado: 0\n",
      "Pendiente de cobro:  1000.0\n"
     ]
    },
    {
     "name": "stdin",
     "output_type": "stream",
     "text": [
      "¿Quieres añadir una nueva factura (A), pagarla (P) o terminar (T)?  P\n",
      "Introduce el número de la factura a pagar:  101\n"
     ]
    },
    {
     "name": "stdout",
     "output_type": "stream",
     "text": [
      "Recaudado: 0\n",
      "Pendiente de cobro:  1000.0\n"
     ]
    },
    {
     "name": "stdin",
     "output_type": "stream",
     "text": [
      "¿Quieres añadir una nueva factura (A), pagarla (P) o terminar (T)?  P\n",
      "Introduce el número de la factura a pagar:  100\n"
     ]
    },
    {
     "name": "stdout",
     "output_type": "stream",
     "text": [
      "Recaudado: 1000.0\n",
      "Pendiente de cobro:  0.0\n"
     ]
    },
    {
     "name": "stdin",
     "output_type": "stream",
     "text": [
      "¿Quieres añadir una nueva factura (A), pagarla (P) o terminar (T)?  T\n"
     ]
    }
   ],
   "source": [
    "facturas = {}\n",
    "cobrado = 0\n",
    "pendiente = 0\n",
    "more = ''\n",
    "while more != 'T':\n",
    "    if more == 'A':\n",
    "        clave = input('Introduce el número de la factura: ')\n",
    "        coste = float(input('Introduce el coste de la factura: '))\n",
    "        facturas[clave] = coste\n",
    "        pendiente += coste\n",
    "    if more == 'P':\n",
    "        clave = input('Introduce el número de la factura a pagar: ')\n",
    "        coste = facturas.pop(clave, 0)\n",
    "        cobrado += coste\n",
    "        pendiente -= coste\n",
    "    print('Recaudado:', cobrado)\n",
    "    print('Pendiente de cobro: ', pendiente)\n",
    "    more = input('¿Quieres añadir una nueva factura (A), pagarla (P) o terminar (T)? ')"
   ]
  },
  {
   "cell_type": "markdown",
   "id": "791d0ddc-970e-4406-9166-bb82e34ad975",
   "metadata": {
    "id": "kVV30gXpjoN5"
   },
   "source": [
    "Escribir un programa que permita gestionar la base de datos de clientes de una empresa. Los clientes se guardarán en un diccionario en el que la clave de cada cliente será su NIF, y el valor será otro diccionario con los datos del cliente (nombre, dirección, teléfono, correo, preferente), donde preferente tendrá el valor True si se trata de un cliente preferente. El programa debe preguntar al usuario por una opción del siguiente menú: (1) Añadir cliente, (2) Eliminar cliente, (3) Mostrar cliente, (4) Listar todos los clientes, (5) Listar clientes preferentes, (6) Terminar. En función de la opción elegida el programa tendrá que hacer lo siguiente:\n",
    "\n",
    "Preguntar los datos del cliente, crear un diccionario con los datos y añadirlo a la base de datos.\n",
    "Preguntar por el NIF del cliente y eliminar sus datos de la base de datos.\n",
    "Preguntar por el NIF del cliente y mostrar sus datos.\n",
    "Mostrar lista de todos los clientes de la base datos con su NIF y nombre.\n",
    "Mostrar la lista de clientes preferentes de la base de datos con su NIF y nombre.\n",
    "Terminar el programa"
   ]
  },
  {
   "cell_type": "code",
   "execution_count": null,
   "id": "c6badfbf-6782-45a4-ac43-56a61d876c63",
   "metadata": {
    "id": "7IZ6UXKzjpdJ"
   },
   "outputs": [],
   "source": [
    "clientes = {}\n",
    "opcion = ''\n",
    "while opcion != '6':\n",
    "    if opcion == '1':\n",
    "        nif = input('Introduce NIF del cliente: ')\n",
    "        nombre = input('Introduce el nombre del cliente: ')\n",
    "        direccion = input('Introduce la dirección del cliente: ')\n",
    "        telefono = input('Introduce el teléfono del cliente: ')\n",
    "        email = input('Introduce el correo electrónico del cliente: ')\n",
    "        vip = input('¿Es un cliente preferente (S/N)? ')\n",
    "        cliente = {'nombre':nombre, 'dirección':direccion, 'teléfono':telefono, 'email':email, 'preferente':vip=='S'}\n",
    "        clientes[nif] = cliente\n",
    "    if opcion == '2':\n",
    "        nif = input('Introduce NIF del cliente: ')\n",
    "        if nif in clientes:\n",
    "            del clientes[nif]\n",
    "        else:\n",
    "            print('No existe el cliente con el nif', nif)\n",
    "    if opcion == '3':\n",
    "        nif = input('Introduce NIF del cliente: ')\n",
    "        if nif in clientes:\n",
    "            print('NIF:', nif)\n",
    "            for clave, valor in clientes[nif].items():\n",
    "                print(clave.title() + ':', valor)\n",
    "        else:\n",
    "            print('No existe el cliente con el nif', nif)\n",
    "    if opcion == '4':\n",
    "        print('Lista de clientes')\n",
    "        for clave, valor in clientes.items():\n",
    "            print(clave, valor['nombre'])\n",
    "    if opcion == '5':\n",
    "        print('Lista de clientes preferentes')\n",
    "        for clave, valor in clientes.items():\n",
    "            if valor['preferente']:\n",
    "                print(clave, valor['nombre'])\n",
    "    opcion = input('Menú de opciones\\n(1) Añadir cliente\\n(2) Eliminar cliente\\n(3) Mostrar cliente\\n(4) Listar clientes\\n(5) Listar clientes preferentes\\n(6) Terminar\\nElige una opción:')"
   ]
  },
  {
   "cell_type": "markdown",
   "id": "8d4be320-3193-493c-99dd-60f7b2f29cf7",
   "metadata": {
    "id": "i8anZXB2j4Fw"
   },
   "source": [
    "El directorio de los clientes de una empresa está organizado en una cadena de texto como la de más abajo, donde cada línea contiene la información del nombre, email, teléfono, nif, y el descuento que se le aplica. Las líneas se separan con el carácter de cambio de línea \\n y la primera línea contiene los nombres de los campos con la información contenida en el directorio.\n",
    "\n",
    "\"nif;nombre;email;teléfono;descuento\\n01234567L;Luis González;luisgonzalez@mail.com;656343576;12.5\\n71476342J;Macarena Ramírez;macarena@mail.com;692839321;8\\n63823376M;Juan José Martínez;juanjo@mail.com;664888233;5.2\\n98376547F;Carmen Sánchez;carmen@mail.com;667677855;15.7\"\n",
    "Escribir un programa que genere un diccionario con la información del directorio, donde cada elemento corresponda a un cliente y tenga por clave su nif y por valor otro diccionario con el resto de la información del cliente. Los diccionarios con la información de cada cliente tendrán como claves los nombres de los campos y como valores la información de cada cliente correspondientes a los campos. Es decir, un diccionario como el siguiente\n",
    "\n",
    "{'01234567L': {'nombre': 'Luis González', 'email': 'luisgonzalez@mail.com', 'teléfono': '656343576', 'descuento': 12.5}, '71476342J': {'nombre': 'Macarena Ramírez', 'email': 'macarena@mail.com', 'teléfono': '692839321', 'descuento': 8.0}, '63823376M': {'nombre': 'Juan José Martínez', 'email': 'juanjo@mail.com', 'teléfono': '664888233', 'descuento': 5.2}, '98376547F': {'nombre': 'Carmen Sánchez', 'email': 'carmen@mail.com', 'teléfono': '667677855', 'descuento': 15.7}}"
   ]
  },
  {
   "cell_type": "code",
   "execution_count": 2,
   "id": "f5e9d8f8-935c-44a0-acbc-eeb49610336d",
   "metadata": {
    "id": "jNEHHUhykDap"
   },
   "outputs": [
    {
     "name": "stdout",
     "output_type": "stream",
     "text": [
      "{'01234567L': {'nombre': 'Luis González', 'email': 'luisgonzalez@mail.com', 'teléfono': '656343576', 'descuento': 12.5}, '71476342J': {'nombre': 'Macarena Ramírez', 'email': 'macarena@mail.com', 'teléfono': '692839321', 'descuento': 8.0}, '63823376M': {'nombre': 'Juan José Martínez', 'email': 'juanjo@mail.com', 'teléfono': '664888233', 'descuento': 5.2}, '98376547F': {'nombre': 'Carmen Sánchez', 'email': 'carmen@mail.com', 'teléfono': '667677855', 'descuento': 15.7}}\n"
     ]
    }
   ],
   "source": [
    "# Cadena con los datos de los clientes de la empresa\n",
    "datos_clientes = \"nif;nombre;email;teléfono;descuento\\n01234567L;Luis González;luisgonzalez@mail.com;656343576;12.5\\n71476342J;Macarena Ramírez;macarena@mail.com;692839321;8\\n63823376M;Juan José Martínez;juanjo@mail.com;664888233;5.2\\n98376547F;Carmen Sánchez;carmen@mail.com;667677855;15.7\"\n",
    "# Dividimos la cadena por el caracter de cambio de línea \\n y creamos una lista con las subcadenas\n",
    "lista_clientes = datos_clientes.split('\\n')\n",
    "# Inicializamos el diccionario que va a contener el directorio de clientes a vacío.\n",
    "directorio = {}\n",
    "# Dividimos la cadena del primer elemento de la lista de clientes (que contienen los \n",
    "# nombres de los campos) por el caracter ; y creamos una lista con los campos.\n",
    "lista_campos = lista_clientes[0].split(';') \n",
    "# Bucle iterativo para recorrer los elementos de la lista lista_clientes.\n",
    "# la variable cliente recorre desde el segundo elemento hasta el último elemento de la lista \n",
    "# (el primer elemento contiene los nombres de campo así que no corresponde a un cliente)\n",
    "for i in lista_clientes[1:]:\n",
    "    # Inicializamos el diccionario que va a contener los datos del cliente actual a vacío.\n",
    "    cliente = {}\n",
    "    # Dividimos la cadena i por el caracter ; y creamos una lista con las subcadenas con la\n",
    "    # información del cliente\n",
    "    lista_info = i.split(';') \n",
    "    # Bucle iterativo para recorrer los campos y añadir los pares al diccionario del cliente.\n",
    "    # j toma valores de 1 al número de campos menos 1. El primer elemento (posición 0) corresponde \n",
    "    # al nif y no se añade al diccionario porque se utilizará después como clave en el diccionario\n",
    "    # principal\n",
    "    for j in range(1,len(lista_campos)):\n",
    "        # Condicional. Si el campo actual es descuento convertimos su valor en real\n",
    "        if lista_campos[j] == 'descuento':\n",
    "            lista_info[j] = float(lista_info[j])\n",
    "        cliente[lista_campos[j]] = lista_info[j]\n",
    "    # Añadirmos un par al diccionario del directorio con la clave el nif del cliente y valor\n",
    "    # el diccionario que acabamos de crear con el resto de sus datos.\n",
    "    directorio[lista_info[0]] = cliente\n",
    "# Mostramos el diccionario por pantalla\n",
    "print(directorio)"
   ]
  }
 ],
 "metadata": {
  "kernelspec": {
   "display_name": "Python 3 (ipykernel)",
   "language": "python",
   "name": "python3"
  },
  "language_info": {
   "codemirror_mode": {
    "name": "ipython",
    "version": 3
   },
   "file_extension": ".py",
   "mimetype": "text/x-python",
   "name": "python",
   "nbconvert_exporter": "python",
   "pygments_lexer": "ipython3",
   "version": "3.10.0"
  }
 },
 "nbformat": 4,
 "nbformat_minor": 5
}
