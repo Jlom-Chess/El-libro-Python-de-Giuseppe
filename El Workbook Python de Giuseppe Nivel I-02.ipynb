{
 "cells": [
  {
   "cell_type": "code",
   "execution_count": null,
   "id": "4b14a9bd-a4e7-4ea6-a753-aafabf0a6255",
   "metadata": {},
   "outputs": [],
   "source": []
  },
  {
   "cell_type": "markdown",
   "id": "f7d0f488-61f2-4464-97ee-e2ebc0513887",
   "metadata": {},
   "source": [
    "## Control de flujo\n",
    "*Nota: Estos ejercicios son optativos para hacer al final de la unidad y están pensados para apoyar tu aprendizaje*."
   ]
  },
  {
   "cell_type": "markdown",
   "id": "b3448628-5d7c-4ba6-9c14-4e4084c392ff",
   "metadata": {},
   "source": [
    "**1) Realiza un programa que lea dos números por teclado y permita elegir entre 3 opciones en un menú:** \n",
    "* Mostrar una suma de los dos números\n",
    "* Mostrar una resta de los dos números (el primero menos el segundo)\n",
    "* Mostrar una multiplicación de los dos números\n",
    "* En caso de no introducir una opción válida, el programa informará de que no es correcta."
   ]
  },
  {
   "cell_type": "code",
   "execution_count": null,
   "id": "1d8e7072-bb5b-41a6-ae81-0cbb29199924",
   "metadata": {
    "collapsed": false,
    "jupyter": {
     "outputs_hidden": false
    }
   },
   "outputs": [],
   "source": [
    "# Completa el ejercicio aquí\n",
    "n1 = float(input(\"Introduce un número: \") )\n",
    "n2 = float(input(\"Introduce otro número: \") )\n",
    "opcion = 0\n",
    "           \n",
    "print(\"¿Qué quieres hacer? \\n1) Sumar los dos números\\n2) Restar los dos números\\n3) Multiplicar los dos números\")\n",
    "opcion = int(input(\"Introduce un número: \") )     \n",
    "\n",
    "if opcion == 1:\n",
    "    print(\"La suma de\",n1,\"+\",n2,\"es\",n1+n2)\n",
    "elif opcion == 2:\n",
    "    print(\"La resta de\",n1,\"-\",n2,\"es\",n1-n2)\n",
    "elif opcion == 3:\n",
    "    print(\"El producto de\",n1,\"*\",n2,\"es\",n1*n2)\n",
    "else:\n",
    "    print(\"Opción incorrecta\")"
   ]
  },
  {
   "cell_type": "markdown",
   "id": "5d522c65-52ce-4a89-9ca1-304d03b9188a",
   "metadata": {},
   "source": [
    "**2) Realiza un programa que lea un número impar por teclado. Si el usuario no introduce un número impar, debe repetise el proceso hasta que lo introduzca correctamente.**"
   ]
  },
  {
   "cell_type": "code",
   "execution_count": null,
   "id": "9efab519-7082-4de3-b211-f8d1940051b0",
   "metadata": {
    "collapsed": false,
    "jupyter": {
     "outputs_hidden": false
    }
   },
   "outputs": [],
   "source": [
    "# Completa el ejercicio aquí\n",
    "numero = 0\n",
    "while numero % 2 == 0:  # Mientras sea par repetimos el proceso\n",
    "    numero = int(input(\"Introduce un número impar: \") )"
   ]
  },
  {
   "cell_type": "markdown",
   "id": "906a719c-d665-4ca3-b81b-ce569f18156a",
   "metadata": {},
   "source": [
    "**3) Realiza un programa que sume todos los números pares desde el 0 hasta el 100:**\n",
    "\n",
    "*Sugerencia: Puedes utilizar la funciones sum() y range() para hacerlo más fácil. El tercer parámetro en la función range(inicio, fin, salto) indica un salto de números, pruébalo.*"
   ]
  },
  {
   "cell_type": "code",
   "execution_count": null,
   "id": "84547c52-6046-43e3-adb4-f2ba938dffa8",
   "metadata": {
    "collapsed": false,
    "jupyter": {
     "outputs_hidden": false
    }
   },
   "outputs": [],
   "source": [
    "# Completa el ejercicio aquí\n",
    "# range(0, 101, 2)\n",
    "\n",
    "suma = sum( range(0, 101, 2) )\n",
    "print(suma)\n",
    "\n",
    "# Segunda forma con bucles\n",
    "num = 0\n",
    "suma = 0\n",
    "\n",
    "while num <= 100:\n",
    "    if num % 2 == 0:\n",
    "        suma += num\n",
    "    num += 1\n",
    "    \n",
    "print(suma)"
   ]
  },
  {
   "cell_type": "markdown",
   "id": "d6f8404e-037b-42c9-a054-25aceebb0525",
   "metadata": {},
   "source": [
    "**4) Realiza un programa que pida al usuario cuantos números quiere introducir. Luego lee todos los números y realiza una media aritmética:**"
   ]
  },
  {
   "cell_type": "code",
   "execution_count": null,
   "id": "7c44a4f7-f785-4b95-8feb-c746fe4b6d16",
   "metadata": {
    "collapsed": false,
    "jupyter": {
     "outputs_hidden": false
    }
   },
   "outputs": [],
   "source": [
    "# Completa el ejercicio aquí\n",
    "suma = 0\n",
    "numeros = int(input(\"¿Cuántos números quieres introducir? \") )\n",
    "for x in range(numeros):\n",
    "    suma += float(input(\"Introduce un número: \") )\n",
    "print(\"Se han introducido\",numeros,\"números que en total han sumado\",suma,\"y la media es\",suma/numeros)"
   ]
  },
  {
   "cell_type": "markdown",
   "id": "812f18b7-1739-4578-bfe2-361cfbcba85d",
   "metadata": {},
   "source": [
    "**5) Realiza un programa que pida al usuario un número entero del 0 al 9, y que mientras el número no sea correcto se repita el proceso. Luego debe comprobar si el número se encuentra en la lista de números y notificarlo:**\n",
    "\n",
    "*Consejo: La sintaxis \"valor in lista\" permite comprobar fácilmente si un valor se encuentra en una lista (devuelve True o False)*"
   ]
  },
  {
   "cell_type": "code",
   "execution_count": null,
   "id": "e5b9a1d5-ce1d-4991-952d-a525c97c7bda",
   "metadata": {
    "collapsed": false,
    "jupyter": {
     "outputs_hidden": false
    }
   },
   "outputs": [],
   "source": [
    "# Completa el ejercicio aquí\n",
    "numeros = [1, 3, 6, 9]\n",
    "\n",
    "while True:\n",
    "    numero = int(input(\"Escribe un número del 0 al 9: \"))\n",
    "    if numero >= 0 and numero <= 9:\n",
    "        break\n",
    "if numero in numeros:\n",
    "    print(\"El número\",numero,\"se encuentra en la lista\",numeros)\n",
    "else:\n",
    "    print(\"El número\",numero,\"no se encuentra en la lista\",numeros)"
   ]
  },
  {
   "cell_type": "markdown",
   "id": "6b739a24-9a81-43fe-bc41-d06e29fd3477",
   "metadata": {},
   "source": [
    "**6) Utilizando la función range() y la conversión a listas genera las siguientes listas dinámicamente:**\n",
    "* Todos los números del 0 al 10 [0, 1, 2, ..., 10]\n",
    "* Todos los números del -10 al 0 [-10, -9, -8, ..., 0]\n",
    "* Todos los números pares del 0 al 20 [0, 2, 4, ..., 20]\n",
    "* Todos los números impares entre -20 y 0 [-19, -17, -15, ..., -1]\n",
    "* Todos los números múltiples de 5 del 0 al 50 [0, 5, 10, ..., 50]\n",
    "\n",
    "*Pista: Utiliza el tercer parámetro de la función range(inicio, fin, salto).*"
   ]
  },
  {
   "cell_type": "code",
   "execution_count": null,
   "id": "36ab52da-2fca-42e9-ac59-aec5e6dc8dab",
   "metadata": {
    "collapsed": false,
    "jupyter": {
     "outputs_hidden": false
    }
   },
   "outputs": [],
   "source": [
    "# Completa el ejercicio aquí\n",
    "print( list( range( 0, 11 ) ) )\n",
    "print( list( range( -10, 1 ) ) )\n",
    "print( list( range( 0, 21, 2 ) ) )\n",
    "print( list( range( -19, 0, 2 ) ) )\n",
    "print( list( range( 0, 51, 5 ) ) )"
   ]
  },
  {
   "cell_type": "markdown",
   "id": "7f3e2d88-77dc-4d2a-b9ac-ef29dbb4ff6a",
   "metadata": {},
   "source": [
    "**7) Dadas dos listas, debes generar una tercera con todos los elementos que se repitan en ellas, pero no debe repetise ningún elemento en la nueva lista:**"
   ]
  },
  {
   "cell_type": "code",
   "execution_count": null,
   "id": "a1447392-32e9-4ad3-8e6a-00345e426a41",
   "metadata": {
    "collapsed": false,
    "jupyter": {
     "outputs_hidden": false
    }
   },
   "outputs": [],
   "source": [
    "# Completa el ejercicio aquí\n",
    "lista_1 = [\"h\",'o','l','a',' ', 'm','u','n','d','o']\n",
    "lista_2 = [\"h\",'o','l','a',' ', 'l','u','n','a']\n",
    "\n",
    "lista_3 = []\n",
    "\n",
    "for letra in lista_1:\n",
    "    if letra in lista_2 and letra not in lista_3:\n",
    "        lista_3.append(letra)\n",
    "\n",
    "print(lista_3)"
   ]
  },
  {
   "cell_type": "markdown",
   "id": "f208e09a-6dd8-448c-917a-4ee8ad05c6a2",
   "metadata": {},
   "source": [
    "## Colecciones de datos\n",
    "*Nota: Estos ejercicios son optativos para hacer al final de la unidad y están pensados para apoyar tu aprendizaje*."
   ]
  },
  {
   "cell_type": "markdown",
   "id": "c37162cf-b455-4530-a757-6ed45f1215a4",
   "metadata": {},
   "source": [
    "**1) Realiza un programa que siga las siguientes instrucciones:**\n",
    "* Crea un conjunto llamado usuarios con los usuarios Marta, David, Elvira, Juan y Marcos\n",
    "* Crea un conjunto llamado administradores con los administradores Juan y Marta.\n",
    "* Borra al administrador Juan del conjunto de administradores.\n",
    "* Añade a Marcos como un nuevo administrador, pero no lo borres del conjunto de usuarios.\n",
    "* Muestra todos los usuarios por pantalla de forma dinámica, además debes indicar cada usuario es administrador o no.\n",
    "\n",
    "*Notas: Los conjuntos se pueden recorrer dinámicamente utilizando el bucle for de forma similar a una lista. También cuentan con un método llamado **.discard(elemento)** que sirve para borrar un elemento.* "
   ]
  },
  {
   "cell_type": "code",
   "execution_count": null,
   "id": "daf57567-d152-4e5e-9c0c-2771463693c3",
   "metadata": {
    "collapsed": false,
    "jupyter": {
     "outputs_hidden": false
    }
   },
   "outputs": [],
   "source": [
    "# Completa el ejercicio aquí\n",
    "usuarios = {\"Marta\", \"David\", \"Elvira\", \"Juan\", \"Marcos\"}\n",
    "administradores = {\"Juan\", \"Marta\"}\n",
    "\n",
    "administradores.discard(\"Juan\")\n",
    "administradores.add(\"Marcos\")\n",
    "\n",
    "for usuario in usuarios:\n",
    "    if usuario in administradores:\n",
    "        print(usuario, \"es admin\")\n",
    "    else:\n",
    "        print(usuario, \"no es admin\")"
   ]
  },
  {
   "cell_type": "markdown",
   "id": "8182294e-62d0-4efb-bf08-a9491d92d1dd",
   "metadata": {},
   "source": [
    "**2) Durante el desarrollo de un pequeño videojuego se te encarga configurar y balancear cada clase de personaje jugable. Partiendo que la estadística base es 2, debes cumplir las siguientes condiciones: **\n",
    "* El caballero tiene el doble de vida y defensa que un guerrero.\n",
    "* El guerrero tiene el doble de ataque y alcance que un caballero.\n",
    "* El arquero tiene la misma vida y ataque que un guerrero, pero la mitad de su defensa y el doble de su alcance.\n",
    "* Muestra como quedan las propiedades de los tres personajes."
   ]
  },
  {
   "cell_type": "code",
   "execution_count": null,
   "id": "53f0eeb3-f3f1-4c76-83be-27c297b9d99e",
   "metadata": {
    "collapsed": false,
    "jupyter": {
     "outputs_hidden": false
    }
   },
   "outputs": [],
   "source": [
    "caballero = { 'vida':2, 'ataque':2, 'defensa': 2, 'alcance':2 }\n",
    "guerrero  = { 'vida':2, 'ataque':2, 'defensa': 2, 'alcance':2 }\n",
    "arquero   = { 'vida':2, 'ataque':2, 'defensa': 2, 'alcance':2 }\n",
    "\n",
    "# Completa el ejercicio aquí\n",
    "caballero['vida']    = guerrero['vida'] * 2\n",
    "caballero['defensa'] = guerrero['defensa'] * 2\n",
    "\n",
    "guerrero['ataque']   = caballero['ataque'] * 2\n",
    "guerrero['alcance']  = caballero['alcance'] * 2\n",
    "\n",
    "arquero['vida']     = guerrero['vida']\n",
    "arquero['ataque']   = guerrero['ataque']\n",
    "arquero['defensa']  = guerrero['defensa'] / 2\n",
    "arquero['alcance']  = guerrero['alcance'] * 2\n",
    "\n",
    "print(\"Caballero:\\t\", caballero)\n",
    "print(\"Guerrero:\\t\", guerrero)\n",
    "print(\"Arquero:\\t\", arquero)"
   ]
  },
  {
   "cell_type": "markdown",
   "id": "1f9c3106-3cff-44d1-aff8-e26bcda4e469",
   "metadata": {},
   "source": [
    "**3) Durante la planificación de un proyecto se han acordado una lista de tareas. Para cada una de estas tareas se ha asignado un orden de prioridad (cuanto menor es el número de orden, más prioridad).**\n",
    "\n",
    "**¿Eres capaz de crear una estructura del tipo cola con todas las tareas ordenadas pero sin los números de orden?**\n",
    "\n",
    "Pista: Para ordenar automáticamente una lista es posible utilizar el método .sort()."
   ]
  },
  {
   "cell_type": "code",
   "execution_count": null,
   "id": "fe14bb60-d9fb-4b33-9c35-81a6d7f4b5de",
   "metadata": {
    "collapsed": false,
    "jupyter": {
     "outputs_hidden": false
    }
   },
   "outputs": [],
   "source": [
    "tareas = [ \n",
    "    [6, 'Distribución'],\n",
    "    [2, 'Diseño'],\n",
    "    [1, 'Concepción'],\n",
    "    [7, 'Mantenimiento'],\n",
    "    [4, 'Producción'],\n",
    "    [3, 'Planificación'],\n",
    "    [5, 'Pruebas']\n",
    "]\n",
    "\n",
    "print(\"==Tareas desordenadas==\")\n",
    "for tarea in tareas:\n",
    "    print(tarea[0], tarea[1])\n",
    "\n",
    "# Completa el ejercicio aquí\n",
    "from collections import deque\n",
    "\n",
    "tareas.sort()\n",
    "\n",
    "cola = deque()\n",
    "for tarea in tareas:\n",
    "    cola.append(tarea[1])\n",
    "\n",
    "print(\"\\n==Tareas ordenadas==\")\n",
    "for tarea in cola:\n",
    "    print(tarea)"
   ]
  },
  {
   "cell_type": "markdown",
   "id": "8d3ec182-67f4-44c4-951b-d8de9a349778",
   "metadata": {
    "id": "c7sqHkeEJDA0"
   },
   "source": [
    "## **Problema 1**\n",
    "Se tiene N temperaturas. Se desea calcular su media y determinar entre todas ellas cuantas son superiores o iguales a esa media.**"
   ]
  },
  {
   "cell_type": "code",
   "execution_count": 1,
   "id": "ac1b56b1-3ebb-4a4d-b4e7-ee71c7a083c1",
   "metadata": {
    "colab": {
     "base_uri": "https://localhost:8080/"
    },
    "executionInfo": {
     "elapsed": 56196,
     "status": "ok",
     "timestamp": 1632258107916,
     "user": {
      "displayName": "Jose Luis Ojeda",
      "photoUrl": "https://lh3.googleusercontent.com/a-/AOh14GioxvwskRaM2HjJwQ_L936mkRS1wMOHPWrqOWUffw=s64",
      "userId": "12240071782040482724"
     },
     "user_tz": 300
    },
    "id": "4ByUplLur2BP",
    "outputId": "d7d7e428-da01-4734-c42c-65cc61abadff"
   },
   "outputs": [
    {
     "name": "stdout",
     "output_type": "stream",
     "text": [
      "-------------------------------------------------------\n",
      "MEDIA DE TEMPERATURAS.\n",
      "-------------------------------------------------------\n",
      "Ingrese cantidad de Temperaturas: 6\n",
      "Ingrese Temperatura 1: 100\n",
      "Ingrese Temperatura 2: -55\n",
      "Ingrese Temperatura 3: 45\n",
      "Ingrese Temperatura 4: 29\n",
      "Ingrese Temperatura 5: 89\n",
      "Ingrese Temperatura 6: 45\n",
      "  100.00\n",
      "   45.00\n",
      "   89.00\n",
      "   45.00\n",
      "\n",
      "SALIDA: \n",
      "-------------------------------------------------------\n",
      "La media es                              42.17\n",
      "Total de temperaturas >= a la media es    4.00\n"
     ]
    }
   ],
   "source": [
    "print(\"-------------------------------------------------------\")\n",
    "print(\"MEDIA DE TEMPERATURAS.\") \n",
    "print(\"-------------------------------------------------------\")\n",
    "\n",
    "#Inicializar \n",
    "Media = 0.0 \n",
    "C = 0       #Contador de temperaturas que superan la media\n",
    "Temp = []   #Lista vacía para almacenar temperaturas\n",
    "\n",
    "#Entradas\n",
    "while True:\n",
    "    N = int(input(\"Ingrese cantidad de Temperaturas: \"))\n",
    "    if 1 <= N <= 20:\n",
    "        break\n",
    "    else:\n",
    "        print(\"El número de temperaturas debe entre 1 y 20\")\n",
    "\n",
    "#Proceso\n",
    "for i in range(N):\n",
    "    temperatura = float(input(\"Ingrese Temperatura {0}: \".format(i + 1)))\n",
    "    Temp.append(temperatura)\n",
    "\n",
    "Media = sum(Temp) / N \n",
    "\n",
    "#Contar cuantas temperaturas son mayor que la MEDIA\n",
    "\n",
    "for tempElement in Temp:\n",
    "    if tempElement >= Media:\n",
    "        C += 1\n",
    "        print(f\"{tempElement:8.2f}\")\n",
    "     \n",
    "#Salida\n",
    "print(\"\\nSALIDA: \") \n",
    "print(\"-------------------------------------------------------\") \n",
    "print (f\"La media es {Media:34.2f}\")\n",
    "print (f\"Total de temperaturas >= a la media es {C:7.2f}\")"
   ]
  },
  {
   "cell_type": "markdown",
   "id": "590950dd-d082-4aa4-82bb-8dec77052594",
   "metadata": {
    "id": "ZcCb5lZrJcks"
   },
   "source": [
    "## **Problema 2**\n",
    "Escriba un programa que dado una lista (máximo 100 elementos) de enteros y con posibles repeticiones de valores, obtenga como salida una lista de los números ordenados, pero sin repeticiones."
   ]
  },
  {
   "cell_type": "code",
   "execution_count": 2,
   "id": "c83e29da-8550-487c-b7ad-d9700cd7a3f6",
   "metadata": {
    "colab": {
     "base_uri": "https://localhost:8080/"
    },
    "executionInfo": {
     "elapsed": 38071,
     "status": "ok",
     "timestamp": 1632260828328,
     "user": {
      "displayName": "Jose Luis Ojeda",
      "photoUrl": "https://lh3.googleusercontent.com/a-/AOh14GioxvwskRaM2HjJwQ_L936mkRS1wMOHPWrqOWUffw=s64",
      "userId": "12240071782040482724"
     },
     "user_tz": 300
    },
    "id": "L8DVxQRGJjYL",
    "outputId": "bb014e64-2005-47a1-ce8c-f94edfb32b36"
   },
   "outputs": [
    {
     "name": "stdout",
     "output_type": "stream",
     "text": [
      "-------------------------------------------------------\n",
      "ORDENAR Y QUITAR ELEMENTOS REPETIDOS DE UNA LISTA.     \n",
      "-------------------------------------------------------\n",
      "Ingrese número de elementos de la lista 12\n",
      "Ingrese Entero 1: 12\n",
      "Ingrese Entero 2: 56\n",
      "Ingrese Entero 3: 5\n",
      "Ingrese Entero 4: 23\n",
      "Ingrese Entero 5: 5\n",
      "Ingrese Entero 6: 55\n",
      "Ingrese Entero 7: 53\n",
      "Ingrese Entero 8: 23\n",
      "Ingrese Entero 9: 78\n",
      "Ingrese Entero 10: 12\n",
      "Ingrese Entero 11: 5\n",
      "Ingrese Entero 12: 78\n",
      "\n",
      "SALIDA: \n",
      "-------------------------------------------------------\n",
      "[5, 12, 23, 53, 55, 56, 78]\n"
     ]
    }
   ],
   "source": [
    "print(\"-------------------------------------------------------\")\n",
    "print(\"ORDENAR Y QUITAR ELEMENTOS REPETIDOS DE UNA LISTA.     \") \n",
    "print(\"-------------------------------------------------------\")\n",
    "#Inicializar\n",
    "listaInicial = []    #Inicializamos lista que puede tener repeticiones\n",
    "listaFinal = []      #Inicializamos lista (sin repeticiones)\n",
    "\n",
    "#Entradas\n",
    "while True:\n",
    "    N = int(input(\"Ingrese número de elementos de la lista \"))\n",
    "    if 1 <= N <= 100:\n",
    "        break\n",
    "    else:\n",
    "        print(\"Número de elementos debe estar entre 1 y 100\")\n",
    "\n",
    "for i in range(N):\n",
    "    elemento = int(input(f\"Ingrese Entero {i + 1}: \"))\n",
    "    listaInicial.append(elemento)\n",
    "    \n",
    "for elemento in listaInicial:\n",
    "    if elemento not in listaFinal:\n",
    "        listaFinal.append(elemento)\n",
    "    \n",
    "#ordenamos la lista usando el metodo sort()\n",
    "listaFinal.sort() \n",
    "\n",
    "#Salida\n",
    "print(\"\\nSALIDA: \") \n",
    "print(\"-------------------------------------------------------\")\n",
    "print(listaFinal)"
   ]
  },
  {
   "cell_type": "markdown",
   "id": "45dddc5c-7950-416e-a0b4-38171c6d4b47",
   "metadata": {
    "id": "Pj7zCIAJMMUE"
   },
   "source": [
    "## **Problema 3**\n",
    "Escriba un programa que pida los coeficientes de una ecuación de segundo grado (a x² + b x + c = 0) y escriba la solución.\n",
    "\n",
    "Se recuerda que una ecuación de segundo grado puede no tener solución, tener una solución única, tener dos soluciones o que todos los números sean solución. Se recuerda que la fórmula de las soluciones cuando hay dos soluciones es x = (-b ± √(b2-4ac) ) / (2a)\n",
    "\n",
    "Estos son algunos ejemplos de posibles respuestas (el orden de los ejemplos no tiene por qué corresponder con el orden de las condiciones). "
   ]
  },
  {
   "cell_type": "code",
   "execution_count": null,
   "id": "e107d130-5124-47e9-babe-2817ec7578d5",
   "metadata": {
    "colab": {
     "base_uri": "https://localhost:8080/"
    },
    "executionInfo": {
     "elapsed": 31312,
     "status": "ok",
     "timestamp": 1632158190155,
     "user": {
      "displayName": "Jose Luis Ojeda",
      "photoUrl": "https://lh3.googleusercontent.com/a-/AOh14GioxvwskRaM2HjJwQ_L936mkRS1wMOHPWrqOWUffw=s64",
      "userId": "12240071782040482724"
     },
     "user_tz": 300
    },
    "id": "PAKzpNViMX4h",
    "outputId": "da4bc249-7e68-4cdb-f215-60ee12d6e283"
   },
   "outputs": [
    {
     "name": "stdout",
     "output_type": "stream",
     "text": [
      "Ingrese el valor del coeficiente cuadrático (a): -5\n",
      "Ingrese el valor del coeficiente lineal (b): 9\n",
      "Ingrese el valor del coeficiente independiente (c): 2\n",
      "Discriminante 121.0\n",
      "Dos soluciones: x1 = -0.20000000000000007  x2 = 2.0\n"
     ]
    }
   ],
   "source": [
    "a = float(input(\"Ingrese el valor del coeficiente cuadrático (a): \"))\n",
    "if a == 0:\n",
    "  rpta = \"Sin solución (no es una ecuación de segundo grado, 'a' debe ser\"\\\n",
    "  \"diferente de 0)\"\n",
    "  print(rpta)\n",
    "\n",
    "else:\n",
    "  b = float(input(\"Ingrese el valor del coeficiente lineal (b): \"))\n",
    "  c = float(input(\"Ingrese el valor del coeficiente independiente (c): \"))\n",
    "\n",
    "  discriminante = b**2 - 4*a*c\n",
    "  print(f\"Discriminante {discriminante}\")\n",
    "\n",
    "  if discriminante < 0:\n",
    "    rpta = \"Sin solución real\"\n",
    "    print(rpta)\n",
    "  elif discriminante == 0:\n",
    "    x1 = -b/(2*a) + (discriminante**0.5)/(2*a)\n",
    "    x2 = -b/(2*a) - (discriminante**0.5)/(2*a)\n",
    "    rpta = \"Una solución: x1 = {0}  x2 = {1}\"\n",
    "    print(rpta.format(x1, x2))\n",
    "  else:\n",
    "    x1 = -b/(2*a) + (discriminante**0.5)/(2*a)\n",
    "    x2 = -b/(2*a) - (discriminante**0.5)/(2*a)\n",
    "    rpta = \"Dos soluciones: x1 = {0}  x2 = {1}\"\n",
    "    print(rpta.format(x1, x2))"
   ]
  },
  {
   "cell_type": "markdown",
   "id": "1c2bbc37-3cce-4705-a6a7-9e7be7d28764",
   "metadata": {},
   "source": [
    "## Programación de funciones\n",
    "*Nota: Estos ejercicios son optativos para hacer al final de la unidad y están pensados para apoyar tu aprendizaje*."
   ]
  },
  {
   "cell_type": "markdown",
   "id": "b7946769-c6f8-4fa0-a856-8c47e941a5a3",
   "metadata": {
    "tags": []
   },
   "source": [
    "**1) Realiza una función llamada area_rectangulo() que devuelva el área del rectangulo a partir de una base y una altura. Calcula el área de un rectángulo de 15 de base y 10 de altura.**\n",
    "\n",
    "*Nota: El área de un rectángulo se obtiene al multiplicar la base por la altura.*"
   ]
  },
  {
   "cell_type": "code",
   "execution_count": null,
   "id": "998cb914-71aa-41b0-af20-436dab9f8e88",
   "metadata": {
    "collapsed": false,
    "jupyter": {
     "outputs_hidden": false
    }
   },
   "outputs": [],
   "source": [
    "# Completa el ejercicio aquí\n",
    "def area_rectangulo(base, altura):\n",
    "    return base*altura\n",
    "\n",
    "print( area_rectangulo(15,10) )"
   ]
  },
  {
   "cell_type": "markdown",
   "id": "c933e10d-a571-44b6-8c5a-994c0194737a",
   "metadata": {},
   "source": [
    "**2) Realiza una función llamada area_circulo() que devuelva el área de un círculo a partir de un radio. Calcula el área de un círculo de 5 de radio: **\n",
    "\n",
    "Nota: El área de un círculo se obtiene al elevar el radio a dos y multiplicando el resultado por el número pi. Puedes utilizar el valor 3.14159 como pi o importarlo del módulo math:\n",
    "```python\n",
    "import math\n",
    "print(math.pi)\n",
    "> 3.1415...\n",
    "```"
   ]
  },
  {
   "cell_type": "code",
   "execution_count": null,
   "id": "ffafd672-969a-4096-b470-be99134be88d",
   "metadata": {
    "collapsed": false,
    "jupyter": {
     "outputs_hidden": false
    }
   },
   "outputs": [],
   "source": [
    "# Completa el ejercicio aquí\n",
    "import math\n",
    "\n",
    "def area_circulo(radio):\n",
    "    return (radio**2) * math.pi\n",
    "\n",
    "print( area_circulo(5) )"
   ]
  },
  {
   "cell_type": "markdown",
   "id": "9aae909e-1db8-418e-a313-edd31b3cc9d0",
   "metadata": {},
   "source": [
    "**3) Realiza una función llamada relacion() que a partir de dos números cumpla lo siguiente**:\n",
    "\n",
    "* Si el primer número es mayor que el segundo, debe devolver 1.\n",
    "* Si el primer número es menor que el segundo, debe devolver -1.\n",
    "* Si ambos números son iguales, debe devolver un 0.\n",
    "\n",
    "** Comprueba la relación entre los números: '5 y 10', '10 y 5' y '5 y 5'**"
   ]
  },
  {
   "cell_type": "code",
   "execution_count": null,
   "id": "88f49dc5-23f4-45da-b017-d7642b17f1d0",
   "metadata": {
    "collapsed": false,
    "jupyter": {
     "outputs_hidden": false
    }
   },
   "outputs": [],
   "source": [
    "# Completa el ejercicio aquí\n",
    "def relacion(a, b):\n",
    "    if a > b: \n",
    "        return 1\n",
    "    elif a < b:\n",
    "        return -1\n",
    "    else:\n",
    "        return 0\n",
    "    \n",
    "print( relacion(5, 10) )\n",
    "print( relacion(10, 5) )\n",
    "print( relacion(5, 5) )"
   ]
  },
  {
   "cell_type": "markdown",
   "id": "32f99048-c4a9-4333-85d6-a8dcdf6a398a",
   "metadata": {},
   "source": [
    "**4) Realiza una función llamada intermedio() que a partir de dos números, devuelva su punto intermedio:**\n",
    "\n",
    "*Nota: El número intermedio de dos números corresponde a la suma de los dos números dividida entre 2*\n",
    "\n",
    "** Comprueba el punto intermedio entre -12 y 24**"
   ]
  },
  {
   "cell_type": "code",
   "execution_count": null,
   "id": "884215b1-82cf-44bd-99c9-066f46350cb0",
   "metadata": {
    "collapsed": false,
    "jupyter": {
     "outputs_hidden": false
    }
   },
   "outputs": [],
   "source": [
    "# Completa el ejercicio aquí\n",
    "def intermedio(a, b):\n",
    "    return (a + b) / 2\n",
    "\n",
    "print( intermedio(-12, 24) )"
   ]
  },
  {
   "cell_type": "markdown",
   "id": "fd11d44f-fed7-4faa-b718-d92f59d30f4b",
   "metadata": {},
   "source": [
    "**5) Realiza una función llamada recortar() que reciba tres parámetros. El primero es el número a recortar, el segundo es el límite inferior y el tercero el límite superior. La función tendrá que cumplir lo siguiente:**\n",
    "\n",
    "* Devolver el límite inferior si el número es menor que éste\n",
    "* Devolver el límite superior si el número es mayor que éste.\n",
    "* Devolver el número sin cambios si no se supera ningún límite.\n",
    "\n",
    "** Comprueba el resultado de recortar 15 entre los límites 0 y 10**"
   ]
  },
  {
   "cell_type": "code",
   "execution_count": null,
   "id": "104d5f70-acd7-49f5-a162-9ee98faf97d6",
   "metadata": {
    "collapsed": false,
    "jupyter": {
     "outputs_hidden": false
    }
   },
   "outputs": [],
   "source": [
    "# Completa el ejercicio aquí\n",
    "def recortar(numero, minimo, maximo):\n",
    "    if numero < minimo:\n",
    "        return minimo\n",
    "    elif numero > maximo:\n",
    "        return maximo\n",
    "    return numero\n",
    "\n",
    "print( recortar(15, 0, 10) )"
   ]
  },
  {
   "cell_type": "markdown",
   "id": "9bf69918-6cfc-4272-a10c-50e66231da62",
   "metadata": {},
   "source": [
    "**6) Realiza una función separar() que tome una lista de números enteros y devuelva dos listas ordenadas. La primera con los números pares, y la segunda con los números impares:**\n",
    "\n",
    "Por ejemplo: \n",
    "\n",
    "```python\n",
    "pares, impares = separar([6,5,2,1,7])\n",
    "print(pares)   # valdría [2, 6]\n",
    "print(impares)  # valdría [1, 5, 7]\n",
    "\n",
    "```\n",
    "\n",
    "*Nota: Para ordenar una lista automáticamente puedes usar el método .sort().*"
   ]
  },
  {
   "cell_type": "code",
   "execution_count": null,
   "id": "cc73044b-8443-45a1-af8e-91d3cccfbf1c",
   "metadata": {
    "collapsed": false,
    "jupyter": {
     "outputs_hidden": false
    }
   },
   "outputs": [],
   "source": [
    "numeros = [-12, 84, 13, 20, -33, 101, 9]\n",
    "\n",
    "# Completa el ejercicio aquí\n",
    "\n",
    "def separar(lista):\n",
    "    numeros.sort()\n",
    "    pares = []\n",
    "    impares = []\n",
    "    for n in numeros:\n",
    "        if n%2 == 0:\n",
    "            pares.append(n)\n",
    "        else:\n",
    "            impares.append(n)\n",
    "    return pares, impares\n",
    "\n",
    "pares, impares = separar(numeros)\n",
    "print(pares)\n",
    "print(impares)"
   ]
  },
  {
   "cell_type": "markdown",
   "id": "708d8614-a736-41bd-a356-8c88b25c11ed",
   "metadata": {
    "id": "adZA9ORb0B3O"
   },
   "source": [
    "![PREG 1.jpg](data:image/jpeg;base64,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)"
   ]
  },
  {
   "cell_type": "code",
   "execution_count": 1,
   "id": "f9305ad6-94b9-4d1a-9867-edf50103fbdf",
   "metadata": {
    "colab": {
     "base_uri": "https://localhost:8080/"
    },
    "executionInfo": {
     "elapsed": 239076,
     "status": "ok",
     "timestamp": 1632198598529,
     "user": {
      "displayName": "Leao Adrian Huarcaya Heredia",
      "photoUrl": "https://lh3.googleusercontent.com/a/default-user=s64",
      "userId": "14353826389714325538"
     },
     "user_tz": 300
    },
    "id": "TXcG2E3k0JjF",
    "outputId": "350ee9e9-e126-4925-c0ba-b564a8b59cef"
   },
   "outputs": [
    {
     "name": "stdin",
     "output_type": "stream",
     "text": [
      "Ingrese la cantidad de postulantes menor o igual a 10 2\n",
      "Ingrese su nombre Jose\n",
      "Ingrese su talla 1.69\n",
      "Ingrese su peso 94\n"
     ]
    },
    {
     "name": "stdout",
     "output_type": "stream",
     "text": [
      "Jose cumple con la talla requerida\n",
      "Jose es rechazado porque debe el peso debe ser >48kg y <= a 75kg\n"
     ]
    },
    {
     "name": "stdin",
     "output_type": "stream",
     "text": [
      "Ingrese su nombre Luis\n",
      "Ingrese su talla 1.85\n",
      "Ingrese su peso 74.99\n"
     ]
    },
    {
     "name": "stdout",
     "output_type": "stream",
     "text": [
      "Luis cumple con la talla requerida\n",
      "Luis cumple con el peso requerido\n",
      "El peso promedio de los 2 postulantes es 84.495\n",
      "La cantidad de postulantes que fueron rechazados por exceso depeso es 1\n",
      "La talla promedio los 1 postulantes aceptados es 1.85\n",
      "Los candidatos son ['Jose', 'Luis']\n",
      "Los aceptados son:  ['Luis']\n",
      "Los rechazados por talla son:  []\n",
      "Los rechazados por peso son:  ['Jose']\n",
      "Los rechazados por talla y peso son:  ['Jose']\n"
     ]
    }
   ],
   "source": [
    "#EJERCICIO COMPLETADO\n",
    "cant= int(input(\"Ingrese la cantidad de postulantes menor o igual a 10\"))\n",
    "candidatos=[]\n",
    "aceptados=[]\n",
    "rtalla=[]\n",
    "rpeso=[]\n",
    "aceptados=[]\n",
    "st=0\n",
    "x=1\n",
    "sumap=0\n",
    "promediop=0\n",
    "r_peso=0\n",
    "canta=0\n",
    "while x <= cant :\n",
    "  nombre= str(input(\"Ingrese su nombre\"))\n",
    "  candidatos.append(nombre)\n",
    "  talla= float(input(\"Ingrese su talla\"))\n",
    "  peso= float(input(\"Ingrese su peso\"))\n",
    "\n",
    "  if talla >= 1.58 :    #CUMPLE TALLA\n",
    "    rpta=(\"{0} cumple con la talla requerida\")\n",
    "    print(rpta.format(nombre)) \n",
    "    if peso>48.0  and  peso<=75.0 :   #CUMPLE PESO\n",
    "      rpta=(\"{0} cumple con el peso requerido\")\n",
    "      print(rpta.format(nombre)) \n",
    "      aceptados.append(nombre)   #Hallando el promedio de la talla de aceptados\n",
    "      canta=canta+1\n",
    "      st = st + talla\n",
    "      promt=st/canta\n",
    "    else:\n",
    "      r_peso= r_peso + 1    #NO cumple peso\n",
    "      rpta=(\"{0} es rechazado porque debe el peso debe ser >48kg y <= a 75kg\")\n",
    "      print(rpta.format(nombre)) \n",
    "      rpeso.append(nombre)\n",
    "\n",
    "  else:             #NO cumple la talla\n",
    "    rpta=(\"{0} es rechazado porque debe tener una altura superior a 1.58\")\n",
    "    print(rpta.format(nombre)) \n",
    "    rtalla.append(nombre)\n",
    "    if peso>48.0  and  peso<=75.0 :   #CUMPLE PESO\n",
    "      rpta=(\"{0} cumple con el peso requerido\")\n",
    "      print(rpta.format(nombre)) \n",
    "    else:\n",
    "      r_peso= r_peso + 1    #NO cumple peso\n",
    "      rpta=(\"{0} es rechazado porque debe el peso debe ser >48kg y <= a 75kg\")\n",
    "      print(rpta.format(nombre)) \n",
    "      rpeso.append(nombre)\n",
    "\n",
    "  sumap= sumap + peso\n",
    "  promediop= sumap/cant\n",
    "  x+=1\n",
    "\n",
    "RPTA=(\"El peso promedio de los {0} postulantes es {1}\")  #Promedio de los pesos\n",
    "print(RPTA.format(cant,promediop))\n",
    "\n",
    "rppeso=(\"La cantidad de postulantes que fueron rechazados por exceso de\" \n",
    "        \"peso es {0}\")\n",
    "print(rppeso.format(r_peso))\n",
    "\n",
    "rptat=\"La talla promedio los {0} postulantes aceptados es {1}\"\n",
    "print(rptat.format(canta,promt))\n",
    "print(\"Los candidatos son\", candidatos)\n",
    "print(\"Los aceptados son: \" , aceptados)\n",
    "print(\"Los rechazados por talla son: \" , rtalla)\n",
    "print(\"Los rechazados por peso son: \" , rpeso)\n",
    "\n",
    "print(\"Los rechazados por talla y peso son: \", rtalla + rpeso)\n",
    "\n",
    "#Fin"
   ]
  }
 ],
 "metadata": {
  "kernelspec": {
   "display_name": "Python 3 (ipykernel)",
   "language": "python",
   "name": "python3"
  },
  "language_info": {
   "codemirror_mode": {
    "name": "ipython",
    "version": 3
   },
   "file_extension": ".py",
   "mimetype": "text/x-python",
   "name": "python",
   "nbconvert_exporter": "python",
   "pygments_lexer": "ipython3",
   "version": "3.10.0"
  }
 },
 "nbformat": 4,
 "nbformat_minor": 5
}
