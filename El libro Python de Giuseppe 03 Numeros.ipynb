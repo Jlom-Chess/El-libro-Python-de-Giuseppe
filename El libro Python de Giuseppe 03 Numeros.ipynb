{
 "cells": [
  {
   "cell_type": "markdown",
   "id": "b6bc0a4d-c20a-4388-bb33-70da5846af6c",
   "metadata": {
    "id": "b6bc0a4d-c20a-4388-bb33-70da5846af6c"
   },
   "source": [
    "# Números en Python"
   ]
  },
  {
   "cell_type": "markdown",
   "id": "55fece3f-021d-4291-bfbf-884ac8047032",
   "metadata": {
    "id": "55fece3f-021d-4291-bfbf-884ac8047032"
   },
   "source": [
    "Debido a la forma en que están diseñados los chips de computadora, los números enteros y decimales se representan de manera diferente en las computadoras. Los números decimales están representados por lo que se llama números de punto flotante. Lo importante que debe recordar sobre ellos es que, por lo general, solo obtiene unos 15 dígitos de precisión. Sería bueno si no hubiera límite para la precisión, pero los cálculos se ejecutan mucho más rápido si corta los números en algún momento.\n",
    "Por otro lado, los números enteros en Python no tienen restricciones. Pueden ser arbitrariamente grandes. En el caso de los números decimales, el último dígito a veces está ligeramente desviado debido al hecho de que las computadoras funcionan en binario (base 2) mientras que nuestro sistema numérico humano es de base 10. Como ejemplo, matemáticamente, sabemos que la expansión decimal de 7/3 es 2.333 ··· -, con los tres repitiéndose eternamente. Pero cuando escribimos 7/3 en el shell de Python, obtenemos 2.3333333333333335. A esto se le llama error de redondeo. Para la mayoría de los propósitos prácticos, esto no es un gran problema, pero en realidad puede causar problemas para algunos cálculos matemáticos y científicos. Como solucionar eso se verá en otro momento"
   ]
  },
  {
   "cell_type": "markdown",
   "id": "038eb97f-6deb-482b-9376-024b8fff0dbd",
   "metadata": {
    "id": "038eb97f-6deb-482b-9376-024b8fff0dbd"
   },
   "source": [
    "### Enteros"
   ]
  },
  {
   "cell_type": "code",
   "execution_count": null,
   "id": "e1ea2da2-564e-4a12-afa4-811cb07d0ae1",
   "metadata": {
    "id": "e1ea2da2-564e-4a12-afa4-811cb07d0ae1",
    "outputId": "679a1f7e-9fd7-4413-9973-19bf0698fe73"
   },
   "outputs": [
    {
     "name": "stdout",
     "output_type": "stream",
     "text": [
      "<class 'int'>\n",
      "<class 'int'>\n",
      "<class 'int'>\n"
     ]
    }
   ],
   "source": [
    "x = 1\n",
    "y = 35656222554887711\n",
    "z = -3255522 \n",
    "print(type(x))\n",
    "print(type(y)) \n",
    "print(type(z))"
   ]
  },
  {
   "cell_type": "markdown",
   "id": "aecf88ce-3f74-44c4-a455-ee52701691d5",
   "metadata": {
    "id": "aecf88ce-3f74-44c4-a455-ee52701691d5"
   },
   "source": [
    "### Flotantes"
   ]
  },
  {
   "cell_type": "code",
   "execution_count": null,
   "id": "af5eac3d-da7f-4410-853a-c365cbbfd1c3",
   "metadata": {
    "id": "af5eac3d-da7f-4410-853a-c365cbbfd1c3",
    "outputId": "7123709c-61ce-4da1-ee00-b69d3a35f7c8"
   },
   "outputs": [
    {
     "name": "stdout",
     "output_type": "stream",
     "text": [
      "<class 'float'>\n",
      "<class 'float'>\n",
      "<class 'float'>\n"
     ]
    }
   ],
   "source": [
    "x = 1.10\n",
    "y = 1.0e10\n",
    "z = -325.5522 \n",
    "print(type(x))\n",
    "print(type(y)) \n",
    "print(type(z))"
   ]
  },
  {
   "cell_type": "markdown",
   "id": "ddf4ae50-529a-4d6a-bfcd-56324a79518e",
   "metadata": {
    "id": "ddf4ae50-529a-4d6a-bfcd-56324a79518e"
   },
   "source": [
    "### Complejos"
   ]
  },
  {
   "cell_type": "code",
   "execution_count": null,
   "id": "cc4d0b66-d483-4d9a-ad69-05d87cc36775",
   "metadata": {
    "id": "cc4d0b66-d483-4d9a-ad69-05d87cc36775",
    "outputId": "96507e5d-2046-405f-c1f4-65e72d7a928e"
   },
   "outputs": [
    {
     "name": "stdout",
     "output_type": "stream",
     "text": [
      "<class 'complex'>\n",
      "<class 'complex'>\n",
      "<class 'complex'>\n"
     ]
    }
   ],
   "source": [
    "x = 3 + 5j \n",
    "y = 8j\n",
    "z = 10 - 3j\n",
    "print(type(x))\n",
    "print(type(y)) \n",
    "print(type(z))"
   ]
  },
  {
   "cell_type": "markdown",
   "id": "469f7610-4cc6-452e-89da-0ee827d90fa0",
   "metadata": {
    "id": "469f7610-4cc6-452e-89da-0ee827d90fa0"
   },
   "source": [
    "### Conversiones"
   ]
  },
  {
   "cell_type": "code",
   "execution_count": null,
   "id": "390b04cb-5fc6-4093-803a-f013ebb81674",
   "metadata": {
    "id": "390b04cb-5fc6-4093-803a-f013ebb81674",
    "outputId": "f17e84a6-53ca-40a1-dffa-994a96537038"
   },
   "outputs": [
    {
     "name": "stdout",
     "output_type": "stream",
     "text": [
      "25.0--24--(25+0j)--(24.85+0j)\n"
     ]
    }
   ],
   "source": [
    "x = 25\n",
    "y = 24.85\n",
    "z = -3j\n",
    "a = float(x)\n",
    "b = int(y)\n",
    "c = complex(x)\n",
    "d = complex(y)\n",
    "print(a, end=\"--\")\n",
    "print(b, end=\"--\")\n",
    "print(c, end=\"--\")\n",
    "print(d)"
   ]
  },
  {
   "cell_type": "markdown",
   "id": "adbb2286-1dc8-49fe-b342-7a34621a002a",
   "metadata": {
    "id": "a1bb1c20-ef59-42eb-abce-65f742f71dc6"
   },
   "source": [
    "### **Operaciones**\n",
    "* \"+\" addition\n",
    "* \"-\" subtraction \n",
    "* \"*\" multiplication \n",
    "* \"/\" division \n",
    "* \"**\" exponentiation \n",
    "* \"//\" integer division \n",
    "* \"%\" modulo (remainder) "
   ]
  },
  {
   "cell_type": "markdown",
   "id": "989d3670-91eb-42b8-8cec-df05d39fd209",
   "metadata": {},
   "source": [
    "### **Orden de operaciones aritméticas (PEMDAS) y su aplicación en lenguajes de programación.**\n",
    "Se rige por el orden de operaciones conocido por el acrónimo inglés ***PEMDAS***, que en castellano podríamos traducir como ***PAPOMUDAS*** (PAréntesis, POtencias, MUltiplicación, División, Adición, Sustracción)."
   ]
  },
  {
   "cell_type": "code",
   "execution_count": 1,
   "id": "7ee61775-0a03-4129-8edf-63a60fcfd55c",
   "metadata": {},
   "outputs": [
    {
     "name": "stdout",
     "output_type": "stream",
     "text": [
      "4.333333333333333\n"
     ]
    }
   ],
   "source": [
    "resultado = 5+4/3-1*2\n",
    "print(resultado)"
   ]
  },
  {
   "cell_type": "code",
   "execution_count": null,
   "id": "310b38a2-c88b-4a61-a79d-40c5cc43ba0a",
   "metadata": {
    "id": "310b38a2-c88b-4a61-a79d-40c5cc43ba0a",
    "outputId": "ef97b13c-5290-435e-b151-797b3ead1c21"
   },
   "outputs": [
    {
     "name": "stdout",
     "output_type": "stream",
     "text": [
      "2\n"
     ]
    }
   ],
   "source": [
    "print(-7%3)"
   ]
  },
  {
   "cell_type": "code",
   "execution_count": null,
   "id": "a7f0a2e8-19f9-4e18-9954-45848275a2da",
   "metadata": {
    "id": "a7f0a2e8-19f9-4e18-9954-45848275a2da",
    "outputId": "c6057f71-9b84-4141-9dc1-548d65642346"
   },
   "outputs": [
    {
     "name": "stdout",
     "output_type": "stream",
     "text": [
      "-2\n"
     ]
    }
   ],
   "source": [
    "print(7%-3)"
   ]
  },
  {
   "cell_type": "code",
   "execution_count": null,
   "id": "b5741717-8e04-4d63-8495-e216c03a0214",
   "metadata": {
    "id": "b5741717-8e04-4d63-8495-e216c03a0214",
    "outputId": "56ad73ce-d830-489f-b5ed-b9186443d04b"
   },
   "outputs": [
    {
     "name": "stdout",
     "output_type": "stream",
     "text": [
      "1\n"
     ]
    }
   ],
   "source": [
    "print(7%3)"
   ]
  },
  {
   "cell_type": "code",
   "execution_count": 1,
   "id": "1be66c9a-8e0d-4d48-a6fa-99e761c042e2",
   "metadata": {
    "colab": {
     "base_uri": "https://localhost:8080/"
    },
    "executionInfo": {
     "elapsed": 9,
     "status": "ok",
     "timestamp": 1630946224827,
     "user": {
      "displayName": "Jose Luis Ojeda",
      "photoUrl": "https://lh3.googleusercontent.com/a-/AOh14GioxvwskRaM2HjJwQ_L936mkRS1wMOHPWrqOWUffw=s64",
      "userId": "12240071782040482724"
     },
     "user_tz": 300
    },
    "id": "1be66c9a-8e0d-4d48-a6fa-99e761c042e2",
    "outputId": "e24ef109-44ee-4b39-92ce-6ec315936632"
   },
   "outputs": [
    {
     "name": "stdout",
     "output_type": "stream",
     "text": [
      "1.0\n"
     ]
    }
   ],
   "source": [
    "print(7.8%3.4)"
   ]
  },
  {
   "cell_type": "code",
   "execution_count": null,
   "id": "6d513bca-2dd5-45a4-bc59-bb1a88588c3c",
   "metadata": {
    "id": "6d513bca-2dd5-45a4-bc59-bb1a88588c3c",
    "outputId": "879b8c2c-9e7e-4407-839b-dd6118afb3ee"
   },
   "outputs": [
    {
     "name": "stdout",
     "output_type": "stream",
     "text": [
      "1.0\n"
     ]
    }
   ],
   "source": [
    "print(7.4%3.2)"
   ]
  },
  {
   "cell_type": "code",
   "execution_count": 4,
   "id": "d49db82f-6d00-4e7d-8b54-80b354640f42",
   "metadata": {
    "colab": {
     "base_uri": "https://localhost:8080/"
    },
    "executionInfo": {
     "elapsed": 267,
     "status": "ok",
     "timestamp": 1630946334776,
     "user": {
      "displayName": "Jose Luis Ojeda",
      "photoUrl": "https://lh3.googleusercontent.com/a-/AOh14GioxvwskRaM2HjJwQ_L936mkRS1wMOHPWrqOWUffw=s64",
      "userId": "12240071782040482724"
     },
     "user_tz": 300
    },
    "id": "d49db82f-6d00-4e7d-8b54-80b354640f42",
    "outputId": "218357c8-15df-4224-e8ab-ea96894908bb"
   },
   "outputs": [
    {
     "name": "stdout",
     "output_type": "stream",
     "text": [
      "380.0\n"
     ]
    }
   ],
   "source": [
    "print(round(375.2, -1))"
   ]
  },
  {
   "cell_type": "code",
   "execution_count": null,
   "id": "49c90fc5-0090-4de3-b8fb-280d94ee5f39",
   "metadata": {
    "id": "49c90fc5-0090-4de3-b8fb-280d94ee5f39",
    "outputId": "d8ce5b26-2016-4e77-ba2a-645acf09213a"
   },
   "outputs": [
    {
     "data": {
      "text/plain": [
       "2.3333333333333335"
      ]
     },
     "execution_count": 22,
     "metadata": {},
     "output_type": "execute_result"
    }
   ],
   "source": [
    "7/3"
   ]
  },
  {
   "cell_type": "code",
   "execution_count": null,
   "id": "96c02948-34e8-4c2a-8d62-2bd90f530de2",
   "metadata": {
    "id": "96c02948-34e8-4c2a-8d62-2bd90f530de2",
    "outputId": "dbcdd90f-56a0-4212-fdcd-61acbf4ba6ab"
   },
   "outputs": [
    {
     "name": "stdout",
     "output_type": "stream",
     "text": [
      "False\n"
     ]
    }
   ],
   "source": [
    "print(bool(\"\"))"
   ]
  },
  {
   "cell_type": "code",
   "execution_count": null,
   "id": "9b92cdb2-9a82-43f7-8e7e-e35a93415cbc",
   "metadata": {
    "id": "9b92cdb2-9a82-43f7-8e7e-e35a93415cbc",
    "outputId": "d0c9c9de-16b0-41f0-c215-682217ddb3fb"
   },
   "outputs": [
    {
     "name": "stdout",
     "output_type": "stream",
     "text": [
      "False\n",
      "True\n"
     ]
    }
   ],
   "source": [
    "print(bool(0))\n",
    "print(bool(1))"
   ]
  }
 ],
 "metadata": {
  "colab": {
   "name": "Fundamentos Python - 03 - Números.ipynb",
   "provenance": []
  },
  "kernelspec": {
   "display_name": "Python 3 (ipykernel)",
   "language": "python",
   "name": "python3"
  },
  "language_info": {
   "codemirror_mode": {
    "name": "ipython",
    "version": 3
   },
   "file_extension": ".py",
   "mimetype": "text/x-python",
   "name": "python",
   "nbconvert_exporter": "python",
   "pygments_lexer": "ipython3",
   "version": "3.10.0"
  }
 },
 "nbformat": 4,
 "nbformat_minor": 5
}
