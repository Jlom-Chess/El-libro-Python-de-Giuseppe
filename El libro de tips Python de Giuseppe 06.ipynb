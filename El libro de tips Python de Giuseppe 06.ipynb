{
 "cells": [
  {
   "cell_type": "markdown",
   "id": "97fa0c69-3f25-4b36-8c31-7a26fec65169",
   "metadata": {},
   "source": [
    "## **Function argument unpacking in Python**"
   ]
  },
  {
   "cell_type": "code",
   "execution_count": 1,
   "id": "4716523c-943e-4476-b770-2ef1554335c2",
   "metadata": {},
   "outputs": [
    {
     "name": "stdout",
     "output_type": "stream",
     "text": [
      "1 0 1\n",
      "1 0 1\n"
     ]
    }
   ],
   "source": [
    "# Why Python Is Great:\n",
    "# Function argument unpacking\n",
    "\n",
    "def myfunc(x, y, z):\n",
    "    print(x, y, z)\n",
    "\n",
    "tuple_vec = (1, 0, 1)\n",
    "dict_vec = {'x': 1, 'y': 0, 'z': 1}\n",
    "\n",
    "myfunc(*tuple_vec)\n",
    "# 1, 0, 1\n",
    "\n",
    "myfunc(**dict_vec)\n",
    "# 1, 0, 1\n"
   ]
  },
  {
   "cell_type": "markdown",
   "id": "5ef0964b-acc3-4977-ac3a-4d42d9ffec66",
   "metadata": {},
   "source": [
    "## **You can use \"json.dumps()\" to pretty-print Python dicts**"
   ]
  },
  {
   "cell_type": "code",
   "execution_count": 2,
   "id": "db1608ff-c905-4ba2-8ba8-eb311542dfbd",
   "metadata": {},
   "outputs": [
    {
     "name": "stdout",
     "output_type": "stream",
     "text": [
      "{'a': 23, 'b': 42, 'c': 12648430}\n",
      "{\n",
      "    \"a\": 23,\n",
      "    \"b\": 42,\n",
      "    \"c\": 12648430\n",
      "}\n"
     ]
    },
    {
     "ename": "TypeError",
     "evalue": "keys must be str, int, float, bool or None, not builtin_function_or_method",
     "output_type": "error",
     "traceback": [
      "\u001b[1;31m---------------------------------------------------------------------------\u001b[0m",
      "\u001b[1;31mTypeError\u001b[0m                                 Traceback (most recent call last)",
      "\u001b[1;32m~\\AppData\\Local\\Temp/ipykernel_11564/2421563029.py\u001b[0m in \u001b[0;36m<module>\u001b[1;34m\u001b[0m\n\u001b[0;32m     15\u001b[0m \u001b[1;31m# Note this only works with dicts containing\u001b[0m\u001b[1;33m\u001b[0m\u001b[1;33m\u001b[0m\u001b[0m\n\u001b[0;32m     16\u001b[0m \u001b[1;31m# primitive types (check out the \"pprint\" module):\u001b[0m\u001b[1;33m\u001b[0m\u001b[1;33m\u001b[0m\u001b[0m\n\u001b[1;32m---> 17\u001b[1;33m \u001b[0mjson\u001b[0m\u001b[1;33m.\u001b[0m\u001b[0mdumps\u001b[0m\u001b[1;33m(\u001b[0m\u001b[1;33m{\u001b[0m\u001b[0mall\u001b[0m\u001b[1;33m:\u001b[0m \u001b[1;34m'yup'\u001b[0m\u001b[1;33m}\u001b[0m\u001b[1;33m)\u001b[0m\u001b[1;33m\u001b[0m\u001b[1;33m\u001b[0m\u001b[0m\n\u001b[0m\u001b[0;32m     18\u001b[0m \u001b[1;31m#TypeError: keys must be a string\u001b[0m\u001b[1;33m\u001b[0m\u001b[1;33m\u001b[0m\u001b[0m\n",
      "\u001b[1;32m~\\AppData\\Local\\Programs\\Python\\Python310\\lib\\json\\__init__.py\u001b[0m in \u001b[0;36mdumps\u001b[1;34m(obj, skipkeys, ensure_ascii, check_circular, allow_nan, cls, indent, separators, default, sort_keys, **kw)\u001b[0m\n\u001b[0;32m    229\u001b[0m         \u001b[0mcls\u001b[0m \u001b[1;32mis\u001b[0m \u001b[1;32mNone\u001b[0m \u001b[1;32mand\u001b[0m \u001b[0mindent\u001b[0m \u001b[1;32mis\u001b[0m \u001b[1;32mNone\u001b[0m \u001b[1;32mand\u001b[0m \u001b[0mseparators\u001b[0m \u001b[1;32mis\u001b[0m \u001b[1;32mNone\u001b[0m \u001b[1;32mand\u001b[0m\u001b[1;33m\u001b[0m\u001b[1;33m\u001b[0m\u001b[0m\n\u001b[0;32m    230\u001b[0m         default is None and not sort_keys and not kw):\n\u001b[1;32m--> 231\u001b[1;33m         \u001b[1;32mreturn\u001b[0m \u001b[0m_default_encoder\u001b[0m\u001b[1;33m.\u001b[0m\u001b[0mencode\u001b[0m\u001b[1;33m(\u001b[0m\u001b[0mobj\u001b[0m\u001b[1;33m)\u001b[0m\u001b[1;33m\u001b[0m\u001b[1;33m\u001b[0m\u001b[0m\n\u001b[0m\u001b[0;32m    232\u001b[0m     \u001b[1;32mif\u001b[0m \u001b[0mcls\u001b[0m \u001b[1;32mis\u001b[0m \u001b[1;32mNone\u001b[0m\u001b[1;33m:\u001b[0m\u001b[1;33m\u001b[0m\u001b[1;33m\u001b[0m\u001b[0m\n\u001b[0;32m    233\u001b[0m         \u001b[0mcls\u001b[0m \u001b[1;33m=\u001b[0m \u001b[0mJSONEncoder\u001b[0m\u001b[1;33m\u001b[0m\u001b[1;33m\u001b[0m\u001b[0m\n",
      "\u001b[1;32m~\\AppData\\Local\\Programs\\Python\\Python310\\lib\\json\\encoder.py\u001b[0m in \u001b[0;36mencode\u001b[1;34m(self, o)\u001b[0m\n\u001b[0;32m    197\u001b[0m         \u001b[1;31m# exceptions aren't as detailed.  The list call should be roughly\u001b[0m\u001b[1;33m\u001b[0m\u001b[1;33m\u001b[0m\u001b[0m\n\u001b[0;32m    198\u001b[0m         \u001b[1;31m# equivalent to the PySequence_Fast that ''.join() would do.\u001b[0m\u001b[1;33m\u001b[0m\u001b[1;33m\u001b[0m\u001b[0m\n\u001b[1;32m--> 199\u001b[1;33m         \u001b[0mchunks\u001b[0m \u001b[1;33m=\u001b[0m \u001b[0mself\u001b[0m\u001b[1;33m.\u001b[0m\u001b[0miterencode\u001b[0m\u001b[1;33m(\u001b[0m\u001b[0mo\u001b[0m\u001b[1;33m,\u001b[0m \u001b[0m_one_shot\u001b[0m\u001b[1;33m=\u001b[0m\u001b[1;32mTrue\u001b[0m\u001b[1;33m)\u001b[0m\u001b[1;33m\u001b[0m\u001b[1;33m\u001b[0m\u001b[0m\n\u001b[0m\u001b[0;32m    200\u001b[0m         \u001b[1;32mif\u001b[0m \u001b[1;32mnot\u001b[0m \u001b[0misinstance\u001b[0m\u001b[1;33m(\u001b[0m\u001b[0mchunks\u001b[0m\u001b[1;33m,\u001b[0m \u001b[1;33m(\u001b[0m\u001b[0mlist\u001b[0m\u001b[1;33m,\u001b[0m \u001b[0mtuple\u001b[0m\u001b[1;33m)\u001b[0m\u001b[1;33m)\u001b[0m\u001b[1;33m:\u001b[0m\u001b[1;33m\u001b[0m\u001b[1;33m\u001b[0m\u001b[0m\n\u001b[0;32m    201\u001b[0m             \u001b[0mchunks\u001b[0m \u001b[1;33m=\u001b[0m \u001b[0mlist\u001b[0m\u001b[1;33m(\u001b[0m\u001b[0mchunks\u001b[0m\u001b[1;33m)\u001b[0m\u001b[1;33m\u001b[0m\u001b[1;33m\u001b[0m\u001b[0m\n",
      "\u001b[1;32m~\\AppData\\Local\\Programs\\Python\\Python310\\lib\\json\\encoder.py\u001b[0m in \u001b[0;36miterencode\u001b[1;34m(self, o, _one_shot)\u001b[0m\n\u001b[0;32m    255\u001b[0m                 \u001b[0mself\u001b[0m\u001b[1;33m.\u001b[0m\u001b[0mkey_separator\u001b[0m\u001b[1;33m,\u001b[0m \u001b[0mself\u001b[0m\u001b[1;33m.\u001b[0m\u001b[0mitem_separator\u001b[0m\u001b[1;33m,\u001b[0m \u001b[0mself\u001b[0m\u001b[1;33m.\u001b[0m\u001b[0msort_keys\u001b[0m\u001b[1;33m,\u001b[0m\u001b[1;33m\u001b[0m\u001b[1;33m\u001b[0m\u001b[0m\n\u001b[0;32m    256\u001b[0m                 self.skipkeys, _one_shot)\n\u001b[1;32m--> 257\u001b[1;33m         \u001b[1;32mreturn\u001b[0m \u001b[0m_iterencode\u001b[0m\u001b[1;33m(\u001b[0m\u001b[0mo\u001b[0m\u001b[1;33m,\u001b[0m \u001b[1;36m0\u001b[0m\u001b[1;33m)\u001b[0m\u001b[1;33m\u001b[0m\u001b[1;33m\u001b[0m\u001b[0m\n\u001b[0m\u001b[0;32m    258\u001b[0m \u001b[1;33m\u001b[0m\u001b[0m\n\u001b[0;32m    259\u001b[0m def _make_iterencode(markers, _default, _encoder, _indent, _floatstr,\n",
      "\u001b[1;31mTypeError\u001b[0m: keys must be str, int, float, bool or None, not builtin_function_or_method"
     ]
    }
   ],
   "source": [
    "# The standard string repr for dicts is hard to read:\n",
    "my_mapping = {'a': 23, 'b': 42, 'c': 0xc0ffee}\n",
    "print(my_mapping)\n",
    "# {'b': 42, 'c': 12648430. 'a': 23}  # 😞\n",
    "\n",
    "# The \"json\" module can do a much better job:\n",
    "import json\n",
    "print(json.dumps(my_mapping, indent=4, sort_keys=True))\n",
    "#{\n",
    "#    \"a\": 23,\n",
    "#    \"b\": 42,\n",
    "#    \"c\": 12648430\n",
    "#}\n",
    "\n",
    "# Note this only works with dicts containing\n",
    "# primitive types (check out the \"pprint\" module):\n",
    "json.dumps({all: 'yup'})\n",
    "#TypeError: keys must be a string\n"
   ]
  },
  {
   "cell_type": "markdown",
   "id": "2b3541b0-efa3-463e-8611-65fef49af0d0",
   "metadata": {},
   "source": [
    "## **El Zen Python**"
   ]
  },
  {
   "cell_type": "code",
   "execution_count": 3,
   "id": "d9b178f1-26ca-4567-8d62-002795b01c2e",
   "metadata": {},
   "outputs": [
    {
     "name": "stdout",
     "output_type": "stream",
     "text": [
      "The Zen of Python, by Tim Peters\n",
      "\n",
      "Beautiful is better than ugly.\n",
      "Explicit is better than implicit.\n",
      "Simple is better than complex.\n",
      "Complex is better than complicated.\n",
      "Flat is better than nested.\n",
      "Sparse is better than dense.\n",
      "Readability counts.\n",
      "Special cases aren't special enough to break the rules.\n",
      "Although practicality beats purity.\n",
      "Errors should never pass silently.\n",
      "Unless explicitly silenced.\n",
      "In the face of ambiguity, refuse the temptation to guess.\n",
      "There should be one-- and preferably only one --obvious way to do it.\n",
      "Although that way may not be obvious at first unless you're Dutch.\n",
      "Now is better than never.\n",
      "Although never is often better than *right* now.\n",
      "If the implementation is hard to explain, it's a bad idea.\n",
      "If the implementation is easy to explain, it may be a good idea.\n",
      "Namespaces are one honking great idea -- let's do more of those!\n"
     ]
    }
   ],
   "source": [
    "import this"
   ]
  },
  {
   "cell_type": "markdown",
   "id": "19de1b9e-937c-4c76-ab38-8c1f4f46e620",
   "metadata": {},
   "source": [
    "## **La sentencia else en un bucle for**"
   ]
  },
  {
   "cell_type": "code",
   "execution_count": 4,
   "id": "225db6e8-90af-4367-82e4-7c571c10f691",
   "metadata": {},
   "outputs": [
    {
     "name": "stdout",
     "output_type": "stream",
     "text": [
      "No se ha encontrado el carácter b\n",
      "No se ha encontrado el carácter b\n",
      "No se ha encontrado el carácter b\n",
      "No se ha encontrado el carácter b\n",
      "No se ha encontrado el carácter b\n"
     ]
    }
   ],
   "source": [
    "# La sentencia else en un bucle for\n",
    " \n",
    "# Lo que hay dentro del else se ejecuta\n",
    "# si no se ejecuta el break\n",
    " \n",
    "vocales = ['a', 'e', 'i', 'o', 'u']\n",
    "for c in vocales:\n",
    "    if c == 'b':\n",
    "        break\n",
    "    else:\n",
    "        print('No se ha encontrado el carácter b')\n"
   ]
  },
  {
   "cell_type": "markdown",
   "id": "13fb816e-2c0c-4db2-8928-f2be6f9f17ca",
   "metadata": {},
   "source": [
    "## **The get() method on Python dicts and its \"default\" arg**"
   ]
  },
  {
   "cell_type": "code",
   "execution_count": 5,
   "id": "d5a9458d-0dea-4700-bcfd-ce677397a17a",
   "metadata": {},
   "outputs": [
    {
     "name": "stdout",
     "output_type": "stream",
     "text": [
      "Hi Alice!\n",
      "Hi there!\n"
     ]
    }
   ],
   "source": [
    "# The get() method on dicts\n",
    "# and its \"default\" argument\n",
    "\n",
    "name_for_userid = {\n",
    "    382: \"Alice\",\n",
    "    590: \"Bob\",\n",
    "    951: \"Dilbert\",\n",
    "}\n",
    "\n",
    "def greeting(userid):\n",
    "    return \"Hi %s!\" % name_for_userid.get(userid, \"there\")\n",
    "\n",
    "print(greeting(382))\n",
    "# \"Hi Alice!\"\n",
    "\n",
    "print(greeting(333333))\n",
    "#\"Hi there!\"\n"
   ]
  },
  {
   "cell_type": "code",
   "execution_count": 9,
   "id": "3e9ff461-6173-4f74-a5e0-fac2c1909bec",
   "metadata": {},
   "outputs": [
    {
     "name": "stdout",
     "output_type": "stream",
     "text": [
      "Hi Alice!\n",
      "Hi there!\n"
     ]
    }
   ],
   "source": [
    "# The get() method on dicts\n",
    "# and its \"default\" argument\n",
    "\n",
    "name_for_userid = {\n",
    "    382: \"Alice\",\n",
    "    590: \"Bob\",\n",
    "    951: \"Dilbert\",\n",
    "}\n",
    "\n",
    "def greeting(userid):\n",
    "    return f\"Hi {name_for_userid.get(userid, 'there'):s}!\"\n",
    "\n",
    "print(greeting(382))\n",
    "# \"Hi Alice!\"\n",
    "\n",
    "print(greeting(333333))\n",
    "#\"Hi there!\""
   ]
  },
  {
   "cell_type": "markdown",
   "id": "72d55c52-4230-44a6-9ee0-5d737b185243",
   "metadata": {},
   "source": [
    "## **How to sort a Python dict by value**"
   ]
  },
  {
   "cell_type": "code",
   "execution_count": 8,
   "id": "de2c5f1d-d8bc-4948-8cbc-73d51ac5a3e2",
   "metadata": {},
   "outputs": [
    {
     "name": "stdout",
     "output_type": "stream",
     "text": [
      "[('d', 1), ('c', 2), ('b', 3), ('a', 4)]\n",
      "[('d', 1), ('c', 2), ('b', 3), ('a', 4)]\n"
     ]
    }
   ],
   "source": [
    "# How to sort a Python dict by value\n",
    "# (== get a representation sorted by value)\n",
    "\n",
    "xs = {'a': 4, 'b': 3, 'c': 2, 'd': 1}\n",
    "\n",
    "print(sorted(xs.items(), key=lambda x: x[1]))\n",
    "# [('d', 1), ('c', 2), ('b', 3), ('a', 4)]\n",
    "\n",
    "# Or:\n",
    "\n",
    "import operator\n",
    "print(sorted(xs.items(), key=operator.itemgetter(1)))\n",
    "#[('d', 1), ('c', 2), ('b', 3), ('a', 4)]\n"
   ]
  },
  {
   "cell_type": "markdown",
   "id": "fe7eac82-7c67-4df6-b6d8-bf02e36886b5",
   "metadata": {},
   "source": [
    "## **Different ways to test multiple flags at once in Python**"
   ]
  },
  {
   "cell_type": "code",
   "execution_count": 10,
   "id": "e9236e40-cce0-48f5-993b-4e69130c29e2",
   "metadata": {},
   "outputs": [
    {
     "name": "stdout",
     "output_type": "stream",
     "text": [
      "passed\n",
      "passed\n",
      "passed\n",
      "passed\n"
     ]
    }
   ],
   "source": [
    "# Different ways to test multiple\n",
    "# flags at once in Python\n",
    "x, y, z = 0, 1, 0\n",
    "\n",
    "if x == 1 or y == 1 or z == 1:\n",
    "    print('passed')\n",
    "\n",
    "if 1 in (x, y, z):\n",
    "    print('passed')\n",
    "\n",
    "# These only test for truthiness:\n",
    "if x or y or z:\n",
    "    print('passed')\n",
    "\n",
    "if any((x, y, z)):\n",
    "    print('passed')\n"
   ]
  },
  {
   "cell_type": "markdown",
   "id": "c34e8aa7-2b7e-456f-b0de-135cceaf535b",
   "metadata": {},
   "source": [
    "## **Merging two dicts in Python with a single expression**"
   ]
  },
  {
   "cell_type": "code",
   "execution_count": 11,
   "id": "f732f256-4c9b-422d-b636-f47984f31077",
   "metadata": {},
   "outputs": [
    {
     "name": "stdout",
     "output_type": "stream",
     "text": [
      "{'a': 1, 'b': 3, 'c': 4}\n"
     ]
    }
   ],
   "source": [
    "# How to merge two dictionaries\n",
    "\n",
    "x = {'a': 1, 'b': 2}\n",
    "y = {'b': 3, 'c': 4}\n",
    "\n",
    "z = {**x, **y}\n",
    "\n",
    "print(z)\n",
    "\n",
    "# In these examples, Python merges dictionary keys\n",
    "# in the order listed in the expression, overwriting \n",
    "# duplicates from left to right.\n",
    "#\n",
    "# See: https://www.youtube.com/watch?v=Duexw08KaC8\n"
   ]
  },
  {
   "cell_type": "markdown",
   "id": "3e4938b5-a6dc-4ff9-801a-1a81ef596cae",
   "metadata": {},
   "source": [
    "## **Invertir el orden de los elementos de una lista**"
   ]
  },
  {
   "cell_type": "code",
   "execution_count": 12,
   "id": "b247df64-4ef2-483e-a1d6-0eac3fcf8ffa",
   "metadata": {},
   "outputs": [
    {
     "name": "stdout",
     "output_type": "stream",
     "text": [
      "[4, 3, 2, 1]\n",
      "4\n",
      "3\n",
      "2\n",
      "1\n"
     ]
    }
   ],
   "source": [
    "# Invertir el orden de los elementos de una lista\n",
    " \n",
    "ord_asc = [1, 2, 3, 4]\n",
    "print(ord_asc[::-1])\n",
    " \n",
    "# Usando la función reversed()\n",
    " \n",
    "for num in reversed(ord_asc):\n",
    "     print(num)\n"
   ]
  },
  {
   "cell_type": "code",
   "execution_count": null,
   "id": "48015581-ba61-4cc5-a643-b0bb4edd9f79",
   "metadata": {},
   "outputs": [],
   "source": []
  }
 ],
 "metadata": {
  "kernelspec": {
   "display_name": "Python 3 (ipykernel)",
   "language": "python",
   "name": "python3"
  },
  "language_info": {
   "codemirror_mode": {
    "name": "ipython",
    "version": 3
   },
   "file_extension": ".py",
   "mimetype": "text/x-python",
   "name": "python",
   "nbconvert_exporter": "python",
   "pygments_lexer": "ipython3",
   "version": "3.10.2"
  }
 },
 "nbformat": 4,
 "nbformat_minor": 5
}
