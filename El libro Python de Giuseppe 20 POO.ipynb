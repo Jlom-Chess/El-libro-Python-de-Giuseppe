{
 "cells": [
  {
   "cell_type": "markdown",
   "id": "9a23beb5-a441-4f04-83f9-45feeab603be",
   "metadata": {
    "id": "9a23beb5-a441-4f04-83f9-45feeab603be"
   },
   "source": [
    "# Programación Orientada a Objetos (POO)"
   ]
  },
  {
   "cell_type": "markdown",
   "id": "68cc3f93-596d-4529-9145-8a4c274b8275",
   "metadata": {
    "id": "68cc3f93-596d-4529-9145-8a4c274b8275"
   },
   "source": [
    "### La programación orientada a objetos es un paradigma de programación que busca representar entidades u objetos agrupando datos y métodos que puedan describir sus características y comportamiento\n",
    "### Es un paradigma de programación en el que los conceptos del mundo real relevantes para nuestro problema se modelan a través de clases y objetos, y en programas  que incluyen una serie de interacciones entre estos objetos."
   ]
  },
  {
   "cell_type": "code",
   "execution_count": null,
   "id": "ssq60dg1vaOF",
   "metadata": {
    "colab": {
     "base_uri": "https://localhost:8080/"
    },
    "id": "ssq60dg1vaOF",
    "outputId": "da089ba0-bb12-42bc-b552-83235f9062a6"
   },
   "outputs": [],
   "source": [
    "class BolaHelado:\n",
    "    def __init__(self, color, sabor):\n",
    "        self.color = color\n",
    "        self.sabor = sabor\n",
    "\n",
    "    def comer(self):\n",
    "        return (f'Delicioso helado {self.color} de sabor {self.sabor}')\n",
    "\n",
    "bola1 = BolaHelado('Azul', 'Chirimoya')\n",
    "bola2 = BolaHelado('Naranjo', 'Lúcuma')\n",
    "bola3 = BolaHelado('Rosado', 'Frutilla')\n",
    "\n",
    "print(bola1.comer())\n",
    "print(bola2.comer())\n",
    "print(bola3.comer())\n"
   ]
  },
  {
   "cell_type": "markdown",
   "id": "7Mf4gJ3Gl4_3",
   "metadata": {
    "id": "7Mf4gJ3Gl4_3"
   },
   "source": [
    "## **En el ejemplo anterior:**\n",
    "**Atributos**\n",
    "> **self.color** y **self.sabor** son los atributos, es decir representan la **\"propiedades\"** de la clase\n",
    "> Se definen y utilizan en toda la clase a través de la palabra self\n",
    "\n",
    "**Métodos**\n",
    "> ***El constructor*** \n",
    "> Conocido como el metodo ______init__\n",
    "```\n",
    "    def __init__(self, color, sabor):\n",
    "        self.color = color\n",
    "        self.sabor = sabor\n",
    "```\n",
    "Operación que permite **instanciar** un objeto desde la clase. Recibe los **parámetros** necesarios para **inicializar los atributos** de la instancia (objeto) que se está creando. Este se ejecuta cuando se instancia (crea un objeto)\n",
    "\n",
    "> ***Otro(s) método(s)***\n",
    "```\n",
    "    def comer(self):\n",
    "        return (f'Delicioso helado {self.color} de sabor {self.sabor}')\n",
    "```\n",
    ">Como en el caso es **comer**, son operaciones que pueden ser **invocadas** sobre un objeto. Por lo general, **operan** sobre los mismos atributos, ya sea **utilizando** sus valores o **cambiándolos**\n",
    "\n",
    "**Creación de Objetos**\n",
    "Crear un objeto o instanciar una clase en Python es muy sencillo. Para instanciar una clase, simplemente se invoca a la clase como si fuera una función, pasando los argumentos que defina el método ______init__. El valor de retorno será el objeto recién creado.\n",
    "```\n",
    "bola1 = BolaHelado('Azul', 'Chirimoya')\n",
    "bola2 = BolaHelado('Naranjo', 'Lúcuma')\n",
    "bola3 = BolaHelado('Rosado', 'Frutilla')\n",
    "```\n",
    "Estas instrucciones crean los objetos\n",
    "> Al utilizar el **nombre de la clase** como una función se crea una nueva instancia (objeto), con los **parámetros** que sean necesarios y se invoca el **constructor** de dicha clase\n",
    "\n",
    "> Para trabajar con los objetos, al crearlos, es necesario **asignarlos** a una **variable de referencia**\n",
    "\n",
    "**Invocación de métodos**\n",
    "```\n",
    "print(bola1.comer())\n",
    "print(bola2.comer())\n",
    "print(bola3.comer())\n",
    "```\n",
    "> Con las instancias creadas, es posible **invocar** los métodos declarados en la clase, usando el **operador de invocación** (punto)\n",
    "\n",
    "> El resultado de la invocación dependerá del **objeto** utilizado en la invocación"
   ]
  },
  {
   "cell_type": "code",
   "execution_count": null,
   "id": "iqc-dYTb6V-o",
   "metadata": {
    "colab": {
     "base_uri": "https://localhost:8080/"
    },
    "id": "iqc-dYTb6V-o",
    "outputId": "08fe98b8-2778-4f45-d01d-4482696b33ed"
   },
   "outputs": [],
   "source": [
    "class Persona:\n",
    "    def __init__(self, nombre, edad):\n",
    "        self.nombre = nombre\n",
    "        self.edad = edad\n",
    "\n",
    "Persona1 = Persona(\"Juan Perez\", 50)\n",
    "print(Persona1.nombre)\n",
    "print(Persona1.edad)\n",
    "\n",
    "Persona2 = Persona(\"Sergio Peña\", 26)\n",
    "print(Persona2.nombre)\n",
    "print(Persona2.edad)\n"
   ]
  },
  {
   "cell_type": "code",
   "execution_count": null,
   "id": "YEnjAII49ush",
   "metadata": {
    "colab": {
     "base_uri": "https://localhost:8080/"
    },
    "id": "YEnjAII49ush",
    "outputId": "248a97db-6861-4823-f2f5-9e85f4c96150"
   },
   "outputs": [],
   "source": [
    "class Persona:\n",
    "    def __init__(self, nombre, edad):\n",
    "        self.nombre = nombre\n",
    "        self.edad = edad\n",
    "\n",
    "    def ImprimeNombre(self):\n",
    "        print(\"Hola, mi nomnre es \" + self.nombre)\n",
    "\n",
    "Persona1 = Persona(\"Juan Perez\", 50)\n",
    "Persona1.ImprimeNombre()\n",
    "\n",
    "Persona2 = Persona(\"Sergio Peña\", 26)\n",
    "Persona2.ImprimeNombre()\n"
   ]
  },
  {
   "cell_type": "code",
   "execution_count": null,
   "id": "6qcZBfXv_S04",
   "metadata": {
    "colab": {
     "base_uri": "https://localhost:8080/"
    },
    "id": "6qcZBfXv_S04",
    "outputId": "adb34902-f48e-4998-9ea5-9c9fb13eaffc"
   },
   "outputs": [],
   "source": [
    "Persona1.edad = 40\n",
    "print(Persona1.edad)\n",
    "print(Persona2.edad)"
   ]
  },
  {
   "cell_type": "code",
   "execution_count": null,
   "id": "NAw8xmjO_q2G",
   "metadata": {
    "colab": {
     "base_uri": "https://localhost:8080/",
     "height": 231
    },
    "id": "NAw8xmjO_q2G",
    "outputId": "0c2cfcef-c5a1-4cd8-fd33-bbece54a67d6"
   },
   "outputs": [],
   "source": [
    "del Persona1.edad\n",
    "print(Persona2.edad)\n",
    "print(Persona1.edad)"
   ]
  },
  {
   "cell_type": "code",
   "execution_count": null,
   "id": "4MQSxCeUAQHe",
   "metadata": {
    "id": "4MQSxCeUAQHe"
   },
   "outputs": [],
   "source": [
    "del Persona1\n",
    "print(Persona1.edad)"
   ]
  },
  {
   "cell_type": "code",
   "execution_count": null,
   "id": "EJpOU6KMAfFJ",
   "metadata": {
    "colab": {
     "base_uri": "https://localhost:8080/"
    },
    "id": "EJpOU6KMAfFJ",
    "outputId": "d71e7b9c-b3ec-4d25-f940-a0bdef873580"
   },
   "outputs": [],
   "source": [
    "class Persona:\n",
    "    def __init__(self, nom, ape):\n",
    "        self.nombre = nom\n",
    "        self.apellido = ape\n",
    "\n",
    "    def __str__(self):\n",
    "        cadena = self.nombre + \" \" + self.apellido\n",
    "        return cadena\n",
    "\n",
    "persona1 = Persona(\"Robert\", \"Fischer\")\n",
    "print(persona1)\n"
   ]
  },
  {
   "cell_type": "code",
   "execution_count": null,
   "id": "mKqyneQGCCuC",
   "metadata": {
    "colab": {
     "base_uri": "https://localhost:8080/"
    },
    "id": "mKqyneQGCCuC",
    "outputId": "bfeccc75-3c5e-4246-a8d9-4c052b4e8878"
   },
   "outputs": [],
   "source": [
    "class Pelicula:\n",
    "    def __init__(self, titulo, duracion, lanzamiento): \n",
    "        self.titulo = titulo \n",
    "        self.duracion= duracion \n",
    "        self.lanzamiento=lanzamiento\n",
    "        print('Se ha creado la película ', self.titulo)\n",
    "\n",
    "    def __del__(self):\n",
    "        print('Se ha borrado la película ', self.titulo)\n",
    "\n",
    "    def __str__(self):\n",
    "        return ('{} lanzada el {} con una duración de {} '\n",
    "        'minutos'.format(self.titulo, self.lanzamiento, self.duracion))\n",
    "\n",
    "p1= Pelicula('Misión imposible 5 – Nación secreta', 132, 2015)\n",
    "print(p1)\n",
    "\n",
    "p1 = Pelicula(\"El Padrino I\", 180, 1974)\n",
    "print(p1)\n"
   ]
  },
  {
   "cell_type": "code",
   "execution_count": null,
   "id": "JYr_IrzoFO0_",
   "metadata": {
    "colab": {
     "base_uri": "https://localhost:8080/"
    },
    "id": "JYr_IrzoFO0_",
    "outputId": "5bb04022-d8b4-4778-8002-14d74314784b"
   },
   "outputs": [],
   "source": [
    "print(p1)\n"
   ]
  },
  {
   "cell_type": "code",
   "execution_count": null,
   "id": "EYxhUFKgFimo",
   "metadata": {
    "colab": {
     "base_uri": "https://localhost:8080/"
    },
    "id": "EYxhUFKgFimo",
    "outputId": "6f97abd5-404f-44b5-a971-e45990fc964a"
   },
   "outputs": [],
   "source": [
    "class Pelicula:\n",
    "    def __init__(self, titulo, duracion, lanzamiento, director): \n",
    "        self.titulo = titulo \n",
    "        self.duracion= duracion \n",
    "        self.lanzamiento=lanzamiento\n",
    "        self.__director = director\n",
    "        print('Se ha creado la película ', self.titulo)\n",
    "\n",
    "    def __del__(self):\n",
    "        print('Se ha borrado la película ', self.titulo)\n",
    "\n",
    "    def __mostrar(self):\n",
    "        print(self.titulo, self.duracion, self.lanzamiento, self.__director)\n",
    "\n",
    "    def mostrar(self):\n",
    "        return self.__mostrar()\n",
    "\n",
    "p1 = Pelicula('Misión imposible 6 – Repercusión', 132, 2018, 'Abrams Louis')\n",
    "\n",
    "p1.mostrar()\n",
    "\n"
   ]
  },
  {
   "cell_type": "code",
   "execution_count": null,
   "id": "lAN6Ww2RMMPu",
   "metadata": {
    "colab": {
     "base_uri": "https://localhost:8080/"
    },
    "id": "lAN6Ww2RMMPu",
    "outputId": "a7b25e04-99ba-43de-ad1e-910800b76a67"
   },
   "outputs": [],
   "source": [
    "class Persona:\n",
    "    def __init__(self, nombre, dni, edad):\n",
    "        self.nombre = nombre\n",
    "        self.dni = dni\n",
    "        self.edad = edad\n",
    "\n",
    "    def iniciales(self):\n",
    "        txt = \"\"\n",
    "        for caracter in self.nombre:\n",
    "            if caracter >= 'A' and caracter <= 'Z':\n",
    "                txt += caracter +'.'\n",
    "        return txt\n",
    "\n",
    "    def iniciales2(self):\n",
    "        lst = self.nombre.split()\n",
    "        txt = lst[0][0] + \".\" + lst[1][0]\n",
    "        return txt\n",
    "\n",
    "    def esMayorEdad(self):\n",
    "        return self.edad >= 18\n",
    "\n",
    "Iniesta = Persona(\"Andrés Iniesta\", 12345678, 35)\n",
    "Sergio = Persona (\"Sergio Ramos\", 18595524, 34)\n",
    "Saul = Persona(\"Saúl Miguex\", 11828924, 25)\n",
    "\n",
    "print(Saul.esMayorEdad())\n",
    "print(Iniesta.iniciales())\n",
    "print(Sergio.iniciales2())"
   ]
  },
  {
   "cell_type": "markdown",
   "id": "T_YJq1pIa7f3",
   "metadata": {
    "id": "T_YJq1pIa7f3"
   },
   "source": [
    "## Variables de clase y variables de instancia\n",
    "#### Una variable de clase es única y compartida por todas sus instancias. Una variable de instancia es exclusiva y particular de cada instancia. En Python, las variables de clase se definen fuera de los métodos y las de instancia dentro de ellos."
   ]
  },
  {
   "cell_type": "code",
   "execution_count": null,
   "id": "88jgV67pbvg0",
   "metadata": {
    "colab": {
     "base_uri": "https://localhost:8080/"
    },
    "id": "88jgV67pbvg0",
    "outputId": "c1491be6-81eb-4f55-f01c-6d0e0b2e8e98"
   },
   "outputs": [],
   "source": [
    "class Perro:\n",
    "    tipo = \"caninno\" # Variable de clase que comparten las instancias\n",
    "    def __init__(self, nombre):\n",
    "        self.nombre = nombre # Variables de instancia, únicas en cada instancia\n",
    "        \n",
    "d = Perro(\"Roc\")\n",
    "e = Perro(\"Luna\")\n",
    "\n",
    "print(d.nombre, d.tipo)\n",
    "print(e.nombre, e.tipo)\n",
    "\n"
   ]
  },
  {
   "cell_type": "markdown",
   "id": "9pkCfVROd3W6",
   "metadata": {
    "id": "9pkCfVROd3W6"
   },
   "source": [
    "### Advertencia\n",
    "Si hay objetos mutables (como listas) puede haber problemas cuando se comparte una  variable de la clase con todas las instancias. En el ejemplo de la clase perro, si en lugar  de tipo (string) tuviéramos la variable trucos (lista):"
   ]
  },
  {
   "cell_type": "code",
   "execution_count": null,
   "id": "NFvG2W_VeA4k",
   "metadata": {
    "colab": {
     "base_uri": "https://localhost:8080/"
    },
    "id": "NFvG2W_VeA4k",
    "outputId": "680eb603-eed6-4054-c7e8-32021f3c70e2"
   },
   "outputs": [],
   "source": [
    "class Perro:\n",
    "    trucos = [] # uso errobeo de variable de clase\n",
    "    def __init__(self, nombre):\n",
    "        self.nombre = nombre # Variables de instancia, únicas en cada instancia\n",
    "\n",
    "    def agrega_truco(self, truco):\n",
    "        self.trucos.append(truco)\n",
    "        \n",
    "d = Perro(\"Roc\")\n",
    "e = Perro(\"Luna\")\n",
    "d.agrega_truco(\"Da vueltas\")\n",
    "e.agrega_truco(\"Salta la cuerda\")\n",
    "\n",
    "print(d.trucos)\n",
    "print(e.trucos)"
   ]
  },
  {
   "cell_type": "code",
   "execution_count": null,
   "id": "WdbLzZoKfG_5",
   "metadata": {
    "colab": {
     "base_uri": "https://localhost:8080/"
    },
    "id": "WdbLzZoKfG_5",
    "outputId": "31211fae-db79-4c75-b277-00dd8055d36d"
   },
   "outputs": [],
   "source": [
    "# El diseño correcto sería\n",
    "\n",
    "class Perro:\n",
    "    def __init__(self, nombre):\n",
    "        self.nombre = nombre # Variables de instancia, únicas en cada instancia\n",
    "        self.trucos = []\n",
    "\n",
    "    def agrega_truco(self, truco):\n",
    "        self.trucos.append(truco)\n",
    "        \n",
    "d = Perro(\"Roc\")\n",
    "e = Perro(\"Luna\")\n",
    "d.agrega_truco(\"Da vueltas\")\n",
    "e.agrega_truco(\"Salta la cuerda\")\n",
    "\n",
    "print(d.trucos)\n",
    "print(e.trucos)"
   ]
  },
  {
   "cell_type": "markdown",
   "id": "IYh-pqpAQpod",
   "metadata": {
    "id": "IYh-pqpAQpod"
   },
   "source": [
    "### **Objetos dentro de objetos**"
   ]
  },
  {
   "cell_type": "code",
   "execution_count": null,
   "id": "-tAQZjsKQs8W",
   "metadata": {
    "id": "-tAQZjsKQs8W"
   },
   "outputs": [],
   "source": [
    "class Pelicula:\n",
    "    def __init__(self, titulo, duracion, lanzamiento):\n",
    "        self.titulo = titulo\n",
    "        self.duracion = duracion\n",
    "        self.lanzamiento = lanzamiento\n",
    "        print(f\"Se ha creado la película {self.titulo}\")\n",
    "\n",
    "    def __len__(self):\n",
    "        return self.duracion\n",
    "    \n",
    "    def __str__(self):\n",
    "        return (f\"{self.titulo} lanzada el {self.lanzamiento} con una duración\" \n",
    "                f\"de {self.duracion} minutos\")\n",
    "    \n",
    "\n",
    "class Catalogo:\n",
    "    def __init__(self, peliculas=[]):\n",
    "        self.peliculas = peliculas\n",
    "        \n",
    "    def agregar(self, p):\n",
    "        self.peliculas.append(p)\n",
    "        \n",
    "    def mostrar(self):\n",
    "        for p in self.peliculas:\n",
    "            print(p)\n",
    " \n",
    "\n",
    "p1 = Pelicula('Misión imposible 6 Repercusión', 132, 2018)\n",
    "c = Catalogo([p1])\n",
    "c.mostrar()\n",
    "c.agregar(Pelicula('Misión imposible 5 Nación secreta', 140, 2015))\n",
    "c.mostrar()"
   ]
  },
  {
   "cell_type": "markdown",
   "id": "9Z4xLvxVQ0VR",
   "metadata": {
    "id": "9Z4xLvxVQ0VR"
   },
   "source": [
    "#### Una versión ligeramente diferente"
   ]
  },
  {
   "cell_type": "code",
   "execution_count": null,
   "id": "n4UzxmNkQxo_",
   "metadata": {
    "id": "n4UzxmNkQxo_"
   },
   "outputs": [],
   "source": [
    "class pelicula:\n",
    "   def __init__(self, titulo, duracion, lanzamiento):\t# Constructor de clase\n",
    "\t     self.titulo = titulo  \n",
    "\t     self.duracion= duracion\n",
    "\t     self.lanzamiento=lanzamiento\n",
    "\t     print(f\"Se ha creado la película {self.titulo}\")\n",
    "\n",
    "   def __del__(self):\t\t\t\t\t\t # Destructor de clase\n",
    "\t    print(f\"Se ha borrado la película {self.titulo}\")\n",
    "\n",
    "   def __str__(self): \n",
    "     return (f\"{self.titulo}, con una duración de {self.duracion} minutos\" \n",
    "             \"y se lanzo el {self.lanzamiento}\")\n",
    "\n",
    "   def __len__(self):\n",
    "     return self.duracion\n",
    "\n",
    "class Catalogo:\t\t\t\t\t\t\n",
    "\tpeliculas = []\n",
    "\tdef __init__(self, peliculas=[]):\t\t\t\t\t\t\n",
    "\t    self.peliculas = peliculas\n",
    "\n",
    "\tdef agregar(self, p):\t\t\t\t\t\t\n",
    "\t    self.peliculas.append(p)\n",
    "\n",
    "\tdef mostrar(self):\t\t\t\t\t\t\n",
    "\t    for p in self.peliculas:\n",
    "\t        print(p)\t\n",
    "\n",
    "print(\"/**/\"*30) \t\n",
    "p1= pelicula(\"Misión imposible 6 – Repercusión\", 132, 2018)\n",
    "c = Catalogo([p1])\t\t\t\t\t \t# creo instancia en el catálogo\n",
    "c.mostrar()\t\t\t\t\t\t\t# invoco al método mostrar\n",
    "print(\"/**/\"*30)\n",
    "c.agregar(pelicula(\"Misión imposible 5 – Nación secreta\", 140, 2015)) \n",
    "c.mostrar()"
   ]
  },
  {
   "cell_type": "markdown",
   "id": "b3158fac-23bc-4599-9c6c-82b84b193ad9",
   "metadata": {},
   "source": [
    "### Ejemplos diversos"
   ]
  },
  {
   "cell_type": "code",
   "execution_count": null,
   "id": "JY_F-lPCRUaU",
   "metadata": {
    "id": "JY_F-lPCRUaU"
   },
   "outputs": [],
   "source": [
    "class persona:\n",
    "    def __init__ (self , n):\n",
    "        self.n = n\n",
    "        \n",
    "juan = persona ('juan') \n",
    "pedro = juan \n",
    "pedro.n = 'pedro'\n",
    "print (juan.n)"
   ]
  },
  {
   "cell_type": "code",
   "execution_count": null,
   "id": "7e59e7d8-caf7-4829-bfa3-277fcfbdc952",
   "metadata": {},
   "outputs": [],
   "source": [
    "class persona:\n",
    "    def __init__ (self, n):\n",
    "        self .n = n \n",
    " \n",
    "def f(b):\n",
    "    b.n = 'pedro'\n",
    "\n",
    "juan = persona('juan') \n",
    "f(juan) \n",
    "print(juan.n)"
   ]
  },
  {
   "cell_type": "code",
   "execution_count": null,
   "id": "62f045d8-f4aa-4e28-b758-fb20e864459d",
   "metadata": {},
   "outputs": [],
   "source": [
    "class persona:\n",
    "    def __init__ (self, nombre, apellido):\n",
    "        self.nombre = nombre\n",
    "        self.apellido = apellido \n",
    " \n",
    "def obtener_persona(l, nombre):\n",
    "    for p in l:\n",
    "        if(p.nombre == nombre ):\n",
    "            return p \n",
    "    return None \n",
    " \n",
    "l = [persona (\"juan\",\"águila\"), \n",
    "     persona(\"maría\", \"pinto\"), \n",
    "     persona (\"aldo\",\"verri\")] \n",
    " \n",
    "p = obtener_persona (l, \"pedro\") \n",
    "if(p is None ):\n",
    "    print (\" persona no encontrada \") \n",
    "else:\n",
    "    print (\"encontré a\", p.nombre, p.apellido )"
   ]
  },
  {
   "cell_type": "markdown",
   "id": "ennaAsJvRRU3",
   "metadata": {
    "id": "ennaAsJvRRU3"
   },
   "source": [
    "# Herencia\n",
    "### La herencia es uno de los conceptos más cruciales en la POO. La herencia básicamente consiste en que una clase puede heredar sus variables y métodos a varias subclases. Esto significa que una subclase, aparte de los atributos y métodos propios, tiene incorporados los atributos y métodos heredados de la superclase\n",
    "\n",
    "* La clase original se denomina superclase.\n",
    "* La clase que hereda los atributos y métodos de la superclase se denomina subclase.\n",
    "* Se pueden definir atributos  y métodos adicionales a la superclase e incluso se pueden sobrescribir los atributos y métodos heredados en la subclase."
   ]
  },
  {
   "cell_type": "code",
   "execution_count": null,
   "id": "51e463fb-2a97-4635-b7b3-b1d15c221149",
   "metadata": {},
   "outputs": [],
   "source": [
    "class Persona:\n",
    "    def __init__(self, nombre , apellido):\n",
    "        self.nombre = nombre\n",
    "        self.apellido = apellido\n",
    "        \n",
    "    def ImprimirNombre (self):\n",
    "        print(self.nombre , self.apellido)\n",
    "        \n",
    "Persona1 = Persona('Juan', 'Pérez')\n",
    "Persona1.ImprimirNombre() #\n"
   ]
  },
  {
   "cell_type": "code",
   "execution_count": null,
   "id": "1d850b34-4068-4492-be03-2bec7bb0d249",
   "metadata": {},
   "outputs": [],
   "source": [
    "class Estudiante(Persona):\n",
    "    pass\n",
    "\n",
    "Estudiante1 = Estudiante('Miguel', 'Grau')\n",
    "Estudiante1.ImprimirNombre()\n",
    "                         "
   ]
  },
  {
   "cell_type": "markdown",
   "id": "e741bd53-3604-404c-a415-550d8adcdeca",
   "metadata": {},
   "source": [
    "Creación de la clase hijo agregando atributos y métodos a esta clase\n",
    "Cuando agrega la función __init __ (), la clase secundaria ya no heredará la función init __ () de los"
   ]
  },
  {
   "cell_type": "code",
   "execution_count": null,
   "id": "35397fb4-391c-4429-9735-bcab2fda268b",
   "metadata": {},
   "outputs": [],
   "source": [
    "class Estudiante(Persona):\n",
    "    def __init__(self, nombre, apellido):\n",
    "        Persona.__init__(self, nombre, apellido)\n",
    "\n",
    "Estudiante1 = Estudiante('Miguel', 'Grau')\n",
    "Estudiante1.ImprimirNombre()\n"
   ]
  },
  {
   "cell_type": "markdown",
   "id": "83bfcd2b-2279-40bf-b00a-48e443ba1ddf",
   "metadata": {},
   "source": [
    "## **Función Super()**"
   ]
  },
  {
   "cell_type": "code",
   "execution_count": null,
   "id": "f679b56c-2e95-4bb4-9339-7d3d74a53ba4",
   "metadata": {},
   "outputs": [],
   "source": [
    "class Persona:\n",
    "    def __init__(self, nombre , apellido):\n",
    "        self.nombre = nombre\n",
    "        self.apellido = apellido\n",
    "        \n",
    "    def ImprimirNombre (self):\n",
    "        print(self.nombre, self.apellido)\n",
    "\n",
    "class Estudiante(Persona):\n",
    "    def __init__(self, nombre, apellido, year):\n",
    "        super().__init__(nombre, apellido)\n",
    "        #self.year = 2019\n",
    "        self.year = year\n",
    "        \n",
    "Estudiante1 = Estudiante('Miguel', 'Grau', 2020)\n",
    "Estudiante1.ImprimirNombre()\n"
   ]
  },
  {
   "cell_type": "code",
   "execution_count": null,
   "id": "ad20e4a7-e9e1-4d02-a6d6-5a82436bd6bb",
   "metadata": {},
   "outputs": [],
   "source": [
    "class Lote:\n",
    "    def __init__(self, nombre, cajones, precio):\n",
    "        self.nombre = nombre\n",
    "        self.cajones = cajones\n",
    "        self.precio = precio\n",
    "\n",
    "    def costo(self):\n",
    "        return self.cajones * self.precio\n",
    "\n",
    "    def vender(self, ncajones):\n",
    "        self.cajones -= ncajones\n",
    "        \n",
    "class MiLote(Lote):\n",
    "    def __init__(self, nombre, cajones, precio, factor):\n",
    "        # Fijate como es el llamado a `super().__init__()`\n",
    "        super().__init__(nombre, cajones, precio)\n",
    "        self.factor = factor\n",
    "\n",
    "    def costo(self):\n",
    "        return self.factor * super().costo()\n",
    "    \n",
    "d1 = MiLote(\"Uno\", 2, 10, 2)\n",
    "d2 = d1.costo()\n",
    "print(d2)"
   ]
  },
  {
   "cell_type": "code",
   "execution_count": null,
   "id": "3fe3de81-b105-43a3-9a12-81324398a675",
   "metadata": {},
   "outputs": [],
   "source": [
    "class Estudiante(Persona):\n",
    "    def __init__(self, nombre, apellido, year):\n",
    "        super().__init__(nombre, apellido)\n",
    "        self.año_graduacion = year\n",
    "        \n",
    "    def bienvenido(self):\n",
    "        print('Bienvenido', self.nombre, self.apellido, 'a la clase de ', \n",
    "              self.año_graduacion)\n",
    "        \n",
    "Estudiante1 = Estudiante('Miguel', 'Grau', 2020)\n",
    "Estudiante1.ImprimirNombre()\n",
    "Estudiante1.bienvenido()"
   ]
  },
  {
   "cell_type": "markdown",
   "id": "d2fafb98-0396-4e00-88da-c3c00e400fe1",
   "metadata": {},
   "source": [
    "# Estructura para los productos de una tienda"
   ]
  },
  {
   "cell_type": "markdown",
   "id": "de1b5bac-db02-4258-a5c6-288ea42fff72",
   "metadata": {
    "tags": []
   },
   "source": [
    "## Ejemplo sin herencia"
   ]
  },
  {
   "cell_type": "code",
   "execution_count": null,
   "id": "0ec19b41-3a87-4642-8f50-145dbb06ae62",
   "metadata": {
    "tags": []
   },
   "outputs": [],
   "source": [
    "class Producto:\n",
    "    def __init__(self,referencia,tipo,nombre,pvp,descripcion,productor=None,distribuidor=None,isbn=None,autor=None):\n",
    "        self.referencia = referencia\n",
    "        self.tipo = tipo\n",
    "        self.nombre = nombre\n",
    "        self.pvp = pvp\n",
    "        self.descripcion = descripcion\n",
    "        self.productor = productor\n",
    "        self.distribuidor = distribuidor\n",
    "        self.isbn = isbn\n",
    "        self.autor = autor\n",
    "        \n",
    "adorno = Producto('000A','ADORNO','Vaso Adornado',15,'Vaso de porcelana con dibujos')   "
   ]
  },
  {
   "cell_type": "code",
   "execution_count": null,
   "id": "a765b46e-3653-45b9-9403-714e67a3f415",
   "metadata": {
    "collapsed": false,
    "jupyter": {
     "outputs_hidden": false
    }
   },
   "outputs": [],
   "source": [
    "adorno"
   ]
  },
  {
   "cell_type": "code",
   "execution_count": null,
   "id": "fe89c88a-4850-4947-8c49-69f1f2852cba",
   "metadata": {
    "collapsed": false,
    "jupyter": {
     "outputs_hidden": false
    }
   },
   "outputs": [],
   "source": [
    "adorno.tipo"
   ]
  },
  {
   "cell_type": "markdown",
   "id": "8209f6ac-0aeb-4787-9871-23158b3746bb",
   "metadata": {},
   "source": [
    "## Creando una jerarquía de productos con clases\n",
    "### Superclase Producto"
   ]
  },
  {
   "cell_type": "code",
   "execution_count": null,
   "id": "db0a218b-aff8-4e02-a731-3999c8981b11",
   "metadata": {
    "collapsed": false,
    "jupyter": {
     "outputs_hidden": false
    }
   },
   "outputs": [],
   "source": [
    "class Producto:\n",
    "    def __init__(self,referencia,nombre,pvp,descripcion):\n",
    "        self.referencia = referencia\n",
    "        self.nombre = nombre\n",
    "        self.pvp = pvp\n",
    "        self.descripcion = descripcion\n",
    "        \n",
    "    def __str__(self):\n",
    "        return \"\"\"\\\n",
    "REFERENCIA\\t{}\n",
    "NOMBRE\\t\\t{}\n",
    "PVP\\t\\t{}\n",
    "DESCRIPCIÓN\\t{}\"\"\".format(self.referencia,self.nombre,self.pvp,self.descripcion)"
   ]
  },
  {
   "cell_type": "markdown",
   "id": "e252154e-4cbd-4813-9643-23b646515e02",
   "metadata": {},
   "source": [
    "### Subclase Adorno"
   ]
  },
  {
   "cell_type": "code",
   "execution_count": null,
   "id": "f2a1c44f-1261-4ce9-a6b7-a277e6b9fa2f",
   "metadata": {},
   "outputs": [],
   "source": [
    "class Adorno(Producto):\n",
    "    pass\n",
    "\n",
    "a = Adorno(2034,\"Vaso adornado\",15,\"Vaso de porcelana adornado con árboles\")\n",
    "print(a)"
   ]
  },
  {
   "cell_type": "markdown",
   "id": "5a7c26c5-6644-464d-a6d6-b8d11dfa3fb7",
   "metadata": {},
   "source": [
    "### Subclase Alimento"
   ]
  },
  {
   "cell_type": "code",
   "execution_count": null,
   "id": "d9b4cea6-6812-40cd-8eef-9dc2bd7b861e",
   "metadata": {
    "collapsed": false,
    "jupyter": {
     "outputs_hidden": false
    }
   },
   "outputs": [],
   "source": [
    "class Alimento(Producto):\n",
    "    productor = \"\"\n",
    "    distribuidor = \"\"\n",
    "    \n",
    "    def __str__(self):\n",
    "        return \"\"\"\\\n",
    "REFERENCIA\\t{}\n",
    "NOMBRE\\t\\t{}\n",
    "PVP\\t\\t{}\n",
    "DESCRIPCIÓN\\t{}\n",
    "PRODUCTOR\\t{}\n",
    "DISTRIBUIDOR\\t{}\"\"\".format(self.referencia,self.nombre,self.pvp,self.descripcion,self.productor,self.distribuidor)\n",
    "        \n",
    "    \n",
    "al = Alimento(2035,\"Botella de Aceite de Oliva Extra\",5,\"250 ML\")\n",
    "al.productor = \"La Aceitera\"\n",
    "al.distribuidor = \"Distribuciones SA\"\n",
    "\n",
    "print(al)"
   ]
  },
  {
   "cell_type": "markdown",
   "id": "01283dbd-e3ed-4568-9fd8-c0ac78e3db43",
   "metadata": {},
   "source": [
    "### Subclase Libro"
   ]
  },
  {
   "cell_type": "code",
   "execution_count": null,
   "id": "a1bd9ae8-6e76-4515-b0e4-abe622d6c830",
   "metadata": {
    "collapsed": false,
    "jupyter": {
     "outputs_hidden": false
    }
   },
   "outputs": [],
   "source": [
    "class Libro(Producto):\n",
    "    isbn = \"\"\n",
    "    autor = \"\"\n",
    "    \n",
    "    def __str__(self):\n",
    "        return \"\"\"\\\n",
    "REFERENCIA\\t{}\n",
    "NOMBRE\\t\\t{}\n",
    "PVP\\t\\t{}\n",
    "DESCRIPCIÓN\\t{}\n",
    "ISBN\\t\\t{}\n",
    "AUTOR\\t\\t{}\"\"\".format(self.referencia,self.nombre,self.pvp,self.descripcion,self.isbn,self.autor)\n",
    "    \n",
    "li = Libro(2036,\"Cocina Mediterránea\",9,\"Recetas sanas y buenas\")\n",
    "li.isbn = \"0-123456-78-9\"\n",
    "li.autor = \"Doña Juana\"\n",
    "\n",
    "print(li)"
   ]
  },
  {
   "cell_type": "markdown",
   "id": "deaf4d2b-2cc2-4f39-9821-a193053200d6",
   "metadata": {},
   "source": [
    "# Trabajando con clases heredadas en conjunto"
   ]
  },
  {
   "cell_type": "code",
   "execution_count": null,
   "id": "9fd9acd1-c732-4313-b72a-33cff0567a85",
   "metadata": {
    "tags": []
   },
   "outputs": [],
   "source": [
    "class Producto:\n",
    "    def __init__(self,referencia,nombre,pvp,descripcion):\n",
    "        self.referencia = referencia\n",
    "        self.nombre = nombre\n",
    "        self.pvp = pvp\n",
    "        self.descripcion = descripcion\n",
    "        \n",
    "    def __str__(self):\n",
    "        return \"\"\"\\\n",
    "REFERENCIA\\t{}\n",
    "NOMBRE\\t\\t{}\n",
    "PVP\\t\\t{}\n",
    "DESCRIPCIÓN\\t{}\"\"\".format(self.referencia,self.nombre,self.pvp,self.descripcion)\n",
    "    \n",
    "\n",
    "class Adorno(Producto):\n",
    "    pass\n",
    "\n",
    "\n",
    "class Alimento(Producto):\n",
    "    productor = \"\"\n",
    "    distribuidor = \"\"\n",
    "    \n",
    "    def __str__(self):\n",
    "        return \"\"\"\\\n",
    "REFERENCIA\\t{}\n",
    "NOMBRE\\t\\t{}\n",
    "PVP\\t\\t{}\n",
    "DESCRIPCIÓN\\t{}\n",
    "PRODUCTOR\\t{}\n",
    "DISTRIBUIDOR\\t{}\"\"\".format(self.referencia,self.nombre,self.pvp,self.descripcion,self.productor,self.distribuidor)\n",
    "\n",
    "\n",
    "class Libro(Producto):\n",
    "    isbn = \"\"\n",
    "    autor = \"\"\n",
    "    \n",
    "    def __str__(self):\n",
    "        return \"\"\"\\\n",
    "REFERENCIA\\t{}\n",
    "NOMBRE\\t\\t{}\n",
    "PVP\\t\\t{}\n",
    "DESCRIPCIÓN\\t{}\n",
    "ISBN\\t\\t{}\n",
    "AUTOR\\t\\t{}\"\"\".format(self.referencia,self.nombre,self.pvp,self.descripcion,self.isbn,self.autor)"
   ]
  },
  {
   "cell_type": "markdown",
   "id": "2b8e6ea1-ed77-473f-b35c-8ad26ef80e28",
   "metadata": {},
   "source": [
    "#### Creamos algunos objetos"
   ]
  },
  {
   "cell_type": "code",
   "execution_count": null,
   "id": "d204d0fb-5695-4690-b593-22840f29b62e",
   "metadata": {},
   "outputs": [],
   "source": [
    "ad = Adorno(2034,\"Vaso adornado\",15,\"Vaso de porcelana adornado con árboles\")\n",
    "\n",
    "al = Alimento(2035,\"Botella de Aceite de Oliva Extra\",5,\"250 ML\")\n",
    "al.productor = \"La Aceitera\"\n",
    "al.distribuidor = \"Distribuciones SA\"\n",
    "\n",
    "li = Libro(2036,\"Cocina Mediterránea\",9,\"Recetas sanas y buenas\")\n",
    "li.isbn = \"0-123456-78-9\"\n",
    "li.autor = \"Doña Juana\""
   ]
  },
  {
   "cell_type": "markdown",
   "id": "8248510c-f131-480e-831e-775d71844307",
   "metadata": {},
   "source": [
    "### Lista de productos"
   ]
  },
  {
   "cell_type": "code",
   "execution_count": null,
   "id": "5315adc1-f24b-4049-9128-c763727d6504",
   "metadata": {
    "tags": []
   },
   "outputs": [],
   "source": [
    "productos = [ad, al]"
   ]
  },
  {
   "cell_type": "code",
   "execution_count": null,
   "id": "38fd81b0-179a-4e41-8c42-912229ea5622",
   "metadata": {},
   "outputs": [],
   "source": [
    "productos.append(li)"
   ]
  },
  {
   "cell_type": "code",
   "execution_count": null,
   "id": "8d8e7396-7b5c-43db-a766-b7bb9cb453e7",
   "metadata": {
    "collapsed": false,
    "jupyter": {
     "outputs_hidden": false
    }
   },
   "outputs": [],
   "source": [
    "productos"
   ]
  },
  {
   "cell_type": "markdown",
   "id": "1bdb6632-06cd-4072-961d-9ee35d10e87f",
   "metadata": {},
   "source": [
    "## Lectura secuencial de productos con un for .. in"
   ]
  },
  {
   "cell_type": "code",
   "execution_count": null,
   "id": "da47f5a4-5e12-4b44-b9f7-4ec32da9dd54",
   "metadata": {
    "collapsed": false,
    "jupyter": {
     "outputs_hidden": false
    }
   },
   "outputs": [],
   "source": [
    "for p in productos:\n",
    "    print(p,\"\\n\")"
   ]
  },
  {
   "cell_type": "markdown",
   "id": "59e04dcb-c53e-4615-9473-4a2910c3b8b9",
   "metadata": {},
   "source": [
    "#### Podemos acceder a los atributos si son compartidos entre todos los objetos"
   ]
  },
  {
   "cell_type": "code",
   "execution_count": null,
   "id": "59215f87-9e10-49fc-8eaf-2da2d98ce873",
   "metadata": {
    "collapsed": false,
    "jupyter": {
     "outputs_hidden": false
    }
   },
   "outputs": [],
   "source": [
    "for p in productos:\n",
    "    print(p.referencia, p.nombre)"
   ]
  },
  {
   "cell_type": "markdown",
   "id": "7431df2d-2d1e-4846-9b65-ca6e08937a91",
   "metadata": {},
   "source": [
    "#### Pero si un objeto no tiene el atributo deseado, dará error:"
   ]
  },
  {
   "cell_type": "code",
   "execution_count": null,
   "id": "3e1c2e6d-3437-44e9-aa7b-fd769b4ff6bc",
   "metadata": {
    "collapsed": false,
    "jupyter": {
     "outputs_hidden": false
    }
   },
   "outputs": [],
   "source": [
    "for p in productos:\n",
    "    print(p.autor)"
   ]
  },
  {
   "cell_type": "markdown",
   "id": "3f4c14ff-6c4f-4730-8217-e099716aa0cd",
   "metadata": {},
   "source": [
    "#### Tendremos que tratar cada subclase de forma distinta, gracias a la función isistance():"
   ]
  },
  {
   "cell_type": "code",
   "execution_count": null,
   "id": "097b080c-0da9-4ac6-8aba-3c4cc3bb6c42",
   "metadata": {
    "collapsed": false,
    "jupyter": {
     "outputs_hidden": false
    }
   },
   "outputs": [],
   "source": [
    "for p in productos:\n",
    "    if( isinstance(p, Adorno) ):\n",
    "        print(p.referencia,p.nombre)\n",
    "    elif( isinstance(p, Alimento) ):\n",
    "        print(p.referencia,p.nombre,p.productor)\n",
    "    elif( isinstance(p, Libro) ):\n",
    "        print(p.referencia,p.nombre,p.isbn)        "
   ]
  },
  {
   "cell_type": "markdown",
   "id": "03a4f666-6542-44f8-a842-500f12891592",
   "metadata": {},
   "source": [
    "## Funciones que reciben objetos de distintas clases\n",
    "### Los obetos se envían por referencia a las funciones\n",
    "Así que debemos tener en cuenta que cualquier cambio realizado dentro afectará al propio objeto."
   ]
  },
  {
   "cell_type": "code",
   "execution_count": null,
   "id": "32a359c2-787f-47ae-ba79-42632b89fb64",
   "metadata": {
    "collapsed": false,
    "jupyter": {
     "outputs_hidden": false
    }
   },
   "outputs": [],
   "source": [
    "def rebajar_producto(p, rebaja):\n",
    "    \"\"\"Rebaja un producto en porcentaje de su precio\"\"\"\n",
    "    p.pvp = p.pvp - (p.pvp/100 * rebaja)\n",
    "\n",
    "rebajar_producto(al, 10)\n",
    "print(al_rebajado)"
   ]
  },
  {
   "cell_type": "code",
   "execution_count": null,
   "id": "ad030ca7-1d6e-4778-b71e-df538e3ea334",
   "metadata": {
    "collapsed": false,
    "jupyter": {
     "outputs_hidden": false
    }
   },
   "outputs": [],
   "source": [
    "print(al)"
   ]
  },
  {
   "cell_type": "markdown",
   "id": "b9100e94-cf9b-4546-834d-44907ff937d4",
   "metadata": {},
   "source": [
    "### Una copia de un objeto también hace referencia al objeto copiado (como un acceso directo)"
   ]
  },
  {
   "cell_type": "code",
   "execution_count": null,
   "id": "0b449251-8daf-4c19-a77f-cd9c07f4d8f2",
   "metadata": {
    "tags": []
   },
   "outputs": [],
   "source": [
    "copia_al = al"
   ]
  },
  {
   "cell_type": "code",
   "execution_count": null,
   "id": "b0f13173-4425-4c4f-9809-88b8bbe72bf4",
   "metadata": {
    "tags": []
   },
   "outputs": [],
   "source": [
    "copia_al.referencia = 2038"
   ]
  },
  {
   "cell_type": "code",
   "execution_count": null,
   "id": "9f362636-b1f0-472f-b24a-2a829681de11",
   "metadata": {
    "collapsed": false,
    "jupyter": {
     "outputs_hidden": false
    }
   },
   "outputs": [],
   "source": [
    "print(copia_al)"
   ]
  },
  {
   "cell_type": "code",
   "execution_count": null,
   "id": "99fe591c-bf2e-4379-8e7e-3868a00b3022",
   "metadata": {
    "collapsed": false,
    "jupyter": {
     "outputs_hidden": false
    }
   },
   "outputs": [],
   "source": [
    "print(al)"
   ]
  },
  {
   "cell_type": "markdown",
   "id": "3e2950f4-dca6-43ca-9a12-7be7531e0eb2",
   "metadata": {},
   "source": [
    "#### Esto también sucede con los tipos compuestos:"
   ]
  },
  {
   "cell_type": "code",
   "execution_count": null,
   "id": "e836dc33-0fdd-425a-a941-657c3d7b06fc",
   "metadata": {
    "tags": []
   },
   "outputs": [],
   "source": [
    "l = [1,2,3]"
   ]
  },
  {
   "cell_type": "code",
   "execution_count": null,
   "id": "1c4ca382-cc50-4fbe-b83a-343049229224",
   "metadata": {
    "tags": []
   },
   "outputs": [],
   "source": [
    "l2 = l[:]"
   ]
  },
  {
   "cell_type": "code",
   "execution_count": null,
   "id": "b4343ad3-decf-47f5-aff4-48c305e2d6ee",
   "metadata": {
    "tags": []
   },
   "outputs": [],
   "source": [
    "l2.append(4)"
   ]
  },
  {
   "cell_type": "code",
   "execution_count": null,
   "id": "39d8c5b3-4e9a-453a-9099-01b14c59fee0",
   "metadata": {
    "collapsed": false,
    "jupyter": {
     "outputs_hidden": false
    }
   },
   "outputs": [],
   "source": [
    "l"
   ]
  },
  {
   "cell_type": "markdown",
   "id": "7a6ba0a3-7e8f-40ff-9baa-909ae1e20be5",
   "metadata": {},
   "source": [
    "### Para crear una copia 100% nueva debemos utilizar el módulo copy:"
   ]
  },
  {
   "cell_type": "code",
   "execution_count": null,
   "id": "20ea5dea-3abf-4c4b-96b0-628022cbdb0f",
   "metadata": {},
   "outputs": [],
   "source": [
    "import copy\n",
    "\n",
    "copia_ad = copy.copy(ad)"
   ]
  },
  {
   "cell_type": "code",
   "execution_count": null,
   "id": "2da64d2b-94b0-4317-b13d-0e0c9b199832",
   "metadata": {
    "collapsed": false,
    "jupyter": {
     "outputs_hidden": false
    }
   },
   "outputs": [],
   "source": [
    "print(copia_ad)"
   ]
  },
  {
   "cell_type": "code",
   "execution_count": null,
   "id": "ffe87c67-be08-4dc0-a2bb-a6ad4a96a280",
   "metadata": {},
   "outputs": [],
   "source": [
    "copia_ad.pvp = 25"
   ]
  },
  {
   "cell_type": "code",
   "execution_count": null,
   "id": "c12916a4-323f-4629-ad25-97ef56741cdc",
   "metadata": {
    "collapsed": false,
    "jupyter": {
     "outputs_hidden": false
    }
   },
   "outputs": [],
   "source": [
    "print(copia_ad)"
   ]
  },
  {
   "cell_type": "code",
   "execution_count": null,
   "id": "15edf408-52a8-4440-8387-d4aca4671318",
   "metadata": {
    "collapsed": false,
    "jupyter": {
     "outputs_hidden": false
    }
   },
   "outputs": [],
   "source": [
    "print(ad)"
   ]
  },
  {
   "cell_type": "markdown",
   "id": "dcafe2a9-bc1e-45a6-a74e-09763b75acdc",
   "metadata": {},
   "source": [
    "# Herencia múltiple\n",
    "Posibilidad de que una subclase herede de múltiples superclases.\n",
    "\n",
    "El problema aparece cuando las superclases tienen atributos o métodos comunes. \n",
    "\n",
    "En estos casos, Python dará prioridad a las clases más a la izquierda en el momento de la declaración de la subclase."
   ]
  },
  {
   "cell_type": "code",
   "execution_count": null,
   "id": "3c62bc62-4ef8-4610-8529-d9d01b12f79f",
   "metadata": {
    "collapsed": false,
    "jupyter": {
     "outputs_hidden": false
    }
   },
   "outputs": [],
   "source": [
    "class A:\n",
    "    def __init__(self):\n",
    "        print(\"Soy de clase A\")\n",
    "    def a(self):\n",
    "        print(\"Este método lo heredo de A\")\n",
    "        \n",
    "class B:\n",
    "    def __init__(self):\n",
    "        print(\"Soy de clase B\")\n",
    "    def b(self):\n",
    "        print(\"Este método lo heredo de B\")\n",
    "        \n",
    "class C(B,A):\n",
    "    def c(self):\n",
    "        print(\"Este método es de C\")\n",
    "\n",
    "c = C()"
   ]
  },
  {
   "cell_type": "code",
   "execution_count": null,
   "id": "c1bc6193-9421-4a59-806b-bd886b337b44",
   "metadata": {
    "collapsed": false,
    "jupyter": {
     "outputs_hidden": false
    }
   },
   "outputs": [],
   "source": [
    "c.a()"
   ]
  },
  {
   "cell_type": "code",
   "execution_count": null,
   "id": "29656097-32ed-479d-91f8-403761a452a0",
   "metadata": {
    "collapsed": false,
    "jupyter": {
     "outputs_hidden": false
    }
   },
   "outputs": [],
   "source": [
    "c.b()"
   ]
  },
  {
   "cell_type": "code",
   "execution_count": null,
   "id": "d9e8de1d-64a5-4acc-b6a2-def6ccac8406",
   "metadata": {
    "collapsed": false,
    "jupyter": {
     "outputs_hidden": false
    }
   },
   "outputs": [],
   "source": [
    "c.c()"
   ]
  },
  {
   "cell_type": "markdown",
   "id": "8f8c2cc2-4a35-4ab8-be9f-f5c0c4bcf2f8",
   "metadata": {},
   "source": [
    "## Polimorfismo\n",
    "Se refiere a una propiedad de la herencia por la que objetos de distintas subclases pueden responder a una misma acción."
   ]
  },
  {
   "cell_type": "code",
   "execution_count": null,
   "id": "99a74d33-5db7-45ca-8af3-ff3ff971bf25",
   "metadata": {
    "tags": []
   },
   "outputs": [],
   "source": [
    "def rebajar_producto(p, rebaja):\n",
    "    p.pvp = p.pvp - (p.pvp/100 * rebaja)"
   ]
  },
  {
   "cell_type": "markdown",
   "id": "f47c7eb3-032c-4db4-8c9f-390d783ce9d2",
   "metadata": {},
   "source": [
    "El método  **rebajar_producto() ** es capaz de tomar objetos de distintas subclases y manipular el atributo **pvp**.\n",
    "\n",
    "La acción de manipular el **pvp** funcionará siempre que los objetos tengan ése atributo, pero en el caso de no ser así, daría error.\n",
    "\n",
    "La polimorfia es implícita en Python en todos los objetos, ya que todos son hijos de una superclase común llamada **Object**."
   ]
  },
  {
   "cell_type": "code",
   "execution_count": null,
   "id": "8262f4c7-a934-4ac1-8905-11963b08e951",
   "metadata": {
    "colab": {
     "base_uri": "https://localhost:8080/"
    },
    "executionInfo": {
     "elapsed": 290,
     "status": "ok",
     "timestamp": 1632863998577,
     "user": {
      "displayName": "Norman Estuardo Reyes Morales",
      "photoUrl": "https://lh3.googleusercontent.com/a/default-user=s64",
      "userId": "18273577649580515371"
     },
     "user_tz": 300
    },
    "id": "nQlU3wr1Od5Y",
    "outputId": "fc351204-5be6-49ba-8526-f4b25268c16c"
   },
   "outputs": [],
   "source": [
    "class Persona:\n",
    "  def __init__(self, nombre, apellido, añonac):\n",
    "      self.nombre = nombre\n",
    "      self.apellido = apellido\n",
    "      self.añonac  = añonac\n",
    "              \n",
    "  def ImpDatos(self): \n",
    "\t    print(\"Nombre:\", self.nombre, \"Apellido:\", self.apellido, \"AñoNac:\", self.añonac)\n",
    " \n",
    "class Estudiante(Persona):\n",
    "  def __init__(self, nombre, apellido, year):\t\n",
    "\t   super().__init__(self, nombre, apellido) \n",
    "\t   self.año_ingreso = year\t\t     \n",
    " \n",
    "  def ImpDatos(self):\n",
    "\t    print(\"Nombre:\", self.nombre, \", Apellido:\", self.apellido, \", Año Ingreso:\", self.año_ingreso)\n",
    "\n",
    "P1=Persona(\"Juan\", \"Pérez\", 1990)\n",
    "P1.ImpDatos()\n",
    "Estudiante1 = Estudiante(\"Miguel\", \"Grau\", 2020)\n",
    "Estudiante1.ImpDatos()"
   ]
  },
  {
   "cell_type": "markdown",
   "id": "49365d3d-4741-4cb9-9295-5de06731f966",
   "metadata": {},
   "source": [
    "# Encapsulación\n",
    "Consiste en denegar el acceso a los atributos y métodos internos de la clase desde el exterior.\n",
    "\n",
    "En Python no existe, pero se puede simular precediendo atributos y métodos con dos barras bajas __:"
   ]
  },
  {
   "cell_type": "code",
   "execution_count": null,
   "id": "9cf57b7f-36ad-4be6-a3e9-5a2ac9d9730f",
   "metadata": {},
   "outputs": [],
   "source": [
    "class Ejemplo:\n",
    "    __atributo_privado = \"Soy un atributo inalcanzable desde fuera\"\n",
    "    \n",
    "    def __metodo_privado(self):\n",
    "        print(\"Soy un método inalcanzable desde fuera\")"
   ]
  },
  {
   "cell_type": "code",
   "execution_count": null,
   "id": "18a7ec2b-0259-4b50-ab9d-783cffa090bf",
   "metadata": {},
   "outputs": [],
   "source": [
    "e = Ejemplo()"
   ]
  },
  {
   "cell_type": "code",
   "execution_count": null,
   "id": "fa15993a-1a9f-4420-8bae-8fc02684e2ee",
   "metadata": {
    "collapsed": false,
    "jupyter": {
     "outputs_hidden": false
    }
   },
   "outputs": [],
   "source": [
    "e.__atributo_privado"
   ]
  },
  {
   "cell_type": "code",
   "execution_count": null,
   "id": "71237269-b97f-4c95-a302-22ab548dfeaa",
   "metadata": {
    "collapsed": false,
    "jupyter": {
     "outputs_hidden": false
    }
   },
   "outputs": [],
   "source": [
    "e.__metodo_privado()"
   ]
  },
  {
   "cell_type": "markdown",
   "id": "4b99a6d7-fac9-418f-b275-f1b5cc59bdb9",
   "metadata": {},
   "source": [
    "## Cómo acceder\n",
    "Internamente la clase sí puede acceder a sus atributos y métodos encapsulados, el truco consiste en crear sus equivalentes \"publicos\":"
   ]
  },
  {
   "cell_type": "code",
   "execution_count": null,
   "id": "ef9c1484-ef36-4a1e-85be-611fa0a0d5e9",
   "metadata": {},
   "outputs": [],
   "source": [
    "class Ejemplo:\n",
    "    __atributo_privado = \"Soy un atributo inalcanzable desde fuera\"\n",
    "    \n",
    "    def __metodo_privado(self):\n",
    "        print(\"Soy un método inalcanzable desde fuera\")\n",
    "        \n",
    "    def atributo_publico(self):\n",
    "        return self.__atributo_privado\n",
    "        \n",
    "    def metodo_publico(self):\n",
    "        return self.__metodo_privado()"
   ]
  },
  {
   "cell_type": "code",
   "execution_count": null,
   "id": "d6ff55a4-6161-42e1-96fd-b1018cdf55be",
   "metadata": {},
   "outputs": [],
   "source": [
    "e = Ejemplo()"
   ]
  },
  {
   "cell_type": "code",
   "execution_count": null,
   "id": "ecbc3818-f457-4c99-9732-c521e5c5606e",
   "metadata": {
    "collapsed": false,
    "jupyter": {
     "outputs_hidden": false
    }
   },
   "outputs": [],
   "source": [
    "e.atributo_publico()"
   ]
  },
  {
   "cell_type": "code",
   "execution_count": null,
   "id": "f4b4589c-edbc-4b2f-919a-1a29181e8f8f",
   "metadata": {
    "collapsed": false,
    "jupyter": {
     "outputs_hidden": false
    }
   },
   "outputs": [],
   "source": [
    "e.metodo_publico()"
   ]
  },
  {
   "cell_type": "markdown",
   "id": "fcc98d02-3fd5-40d5-a185-674e3ddf8b50",
   "metadata": {
    "tags": []
   },
   "source": [
    "### **Encapsulación**"
   ]
  },
  {
   "cell_type": "markdown",
   "id": "4dee2c91-39a6-47ec-b832-48399def7eb5",
   "metadata": {},
   "source": [
    "Métodos de protección a las clases y objetos (Privado)\n",
    "Se puede cambiar a atributos y métodos privados para que no se acceda desde afuera. Para ello, se antepone __ antes"
   ]
  },
  {
   "cell_type": "code",
   "execution_count": null,
   "id": "03505f86-fa02-46bc-bd5a-93076a8384f3",
   "metadata": {},
   "outputs": [],
   "source": [
    "class Pelicula:\n",
    "    def __init__(self, titulo, duracion, lanzamiento, director):\n",
    "        self.titulo = titulo\n",
    "        self.duracion = duracion\n",
    "        self.lanzamiento = lanzamiento\n",
    "        self.__director = director\n",
    "\n",
    "    def __del__(self):\n",
    "        print(\"Se ha borrado la película \", self.titulo)\n",
    "\n",
    "    def __mostrar(self):\n",
    "        print(self.titulo, self.lanzamiento, self.__director)\n",
    "\n",
    "    def mostrar(self):\n",
    "        return self.__mostrar()\n",
    "\n",
    "\n",
    "p1 = Pelicula('Misión Imposible 6 - Repercusión', 132, 2018, 'Abrams Louis')\n",
    "# p1.__mostrar()\n",
    "p1.mostrar()\n",
    "         "
   ]
  },
  {
   "cell_type": "code",
   "execution_count": null,
   "id": "f7d3caba-e41f-4fd0-b5db-062aebea0bee",
   "metadata": {},
   "outputs": [],
   "source": [
    "import pandas as pd\n",
    "import matplotlib.pyplot as plt\n",
    "import numpy as np\n",
    "\n",
    "def menu():\n",
    "    print(\"Sistema de calificaciones\")\n",
    "    print(\"[1] Registrar calificación\")\n",
    "    print(\"[2] Listar Calificaciones\")\n",
    "    print(\"[1] Mostrar Estadísticas\")\n",
    "    print(\"[1] Salir\")\n",
    "    opcion = IngresaOpcion(\"Ingresa tu opción: \", 1, 4)\n",
    "    return opcion\n",
    "    \n",
    "    \n",
    "def IngresaOpcion(etiqueta, inferior, superior):\n",
    "    while True:\n",
    "        try:\n",
    "            print(etiqueta)\n",
    "            numint = int(input())\n",
    "            if inferior <= numint <= superior:\n",
    "                return numint\n",
    "        except ValueError:\n",
    "            print(\"El valor ingresado debe ser un número\")\n",
    "\n",
    "            \n",
    "# Programa Principal\n",
    "while True:\n",
    "    opcion = menu()\n",
    "    if opcion == 1:\n",
    "        print(\"Ingresó 1\")\n",
    "    elif opcion == 2:\n",
    "        print(\"Ingresó 2\")\n",
    "    elif opcion == 3:\n",
    "        print(\"Ingresó 3\")\n",
    "    else:\n",
    "        print(\"Ingresó 4, chau\")\n",
    "        break\n",
    "    "
   ]
  },
  {
   "cell_type": "markdown",
   "id": "6626bfe2-59e9-4c2b-910c-f5d6aa8d0662",
   "metadata": {},
   "source": [
    "# Práctica\n",
    "## Catálogo de películas con ficheros y pickle"
   ]
  },
  {
   "cell_type": "code",
   "execution_count": null,
   "id": "07d0b2a3-7df3-4c54-a54f-175e95c6de74",
   "metadata": {
    "tags": []
   },
   "outputs": [],
   "source": [
    "from io import open\n",
    "import pickle\n",
    "\n",
    "class Pelicula:\n",
    "    \n",
    "    # Constructor de clase\n",
    "    def __init__(self, titulo, duracion, lanzamiento):\n",
    "        self.titulo = titulo\n",
    "        self.duracion = duracion\n",
    "        self.lanzamiento = lanzamiento\n",
    "        print('Se ha creado la película:',self.titulo)\n",
    "        \n",
    "    def __str__(self):\n",
    "        return '{} ({})'.format(self.titulo, self.lanzamiento)\n",
    "\n",
    "\n",
    "class Catalogo:\n",
    "    \n",
    "    peliculas = []\n",
    "    \n",
    "    # Constructor de clase\n",
    "    def __init__(self):\n",
    "        self.cargar()\n",
    "        \n",
    "    def agregar(self,p):\n",
    "        self.peliculas.append(p)\n",
    "        self.guardar()\n",
    "        \n",
    "    def mostrar(self):\n",
    "        if len(self.peliculas) == 0:\n",
    "            print(\"El catálogo está vacío\")\n",
    "            return\n",
    "        for p in self.peliculas:\n",
    "            print(p)\n",
    "            \n",
    "    def cargar(self):\n",
    "        fichero = open('catalogo.pckl', 'ab+')\n",
    "        fichero.seek(0)\n",
    "        try:\n",
    "            self.peliculas = pickle.load(fichero)\n",
    "        except:\n",
    "            print(\"El fichero está vacío\")\n",
    "        finally:\n",
    "            fichero.close()\n",
    "            del(fichero)\n",
    "            print(\"Se han cargado {} películas\".format( len(self.peliculas) ))\n",
    "    \n",
    "    def guardar(self):\n",
    "        fichero = open('catalogo.pckl', 'wb')\n",
    "        pickle.dump(self.peliculas, fichero)\n",
    "        fichero.close()\n",
    "        del(fichero)\n",
    "    \n",
    "    # Destructor de clase\n",
    "    def __del__(self):\n",
    "        self.guardar()  # guardado automático\n",
    "        print(\"Se ha guardado el fichero\")"
   ]
  },
  {
   "cell_type": "markdown",
   "id": "072817d8-39ce-4f37-a6b1-1adc64023182",
   "metadata": {},
   "source": [
    "## Creando un objeto catálogo"
   ]
  },
  {
   "cell_type": "code",
   "execution_count": null,
   "id": "29f7043b-72f8-45b4-912d-365158d37487",
   "metadata": {
    "collapsed": false,
    "jupyter": {
     "outputs_hidden": false
    }
   },
   "outputs": [],
   "source": [
    "c = Catalogo()"
   ]
  },
  {
   "cell_type": "code",
   "execution_count": null,
   "id": "d3ceae6e-ad11-46ee-a4fb-dbf56f3c708a",
   "metadata": {
    "collapsed": false,
    "jupyter": {
     "outputs_hidden": false
    }
   },
   "outputs": [],
   "source": [
    "c.mostrar()"
   ]
  },
  {
   "cell_type": "code",
   "execution_count": null,
   "id": "5ab7000b-fa4b-4402-9924-ba6e9b2fdea7",
   "metadata": {
    "collapsed": false,
    "jupyter": {
     "outputs_hidden": false
    }
   },
   "outputs": [],
   "source": [
    "c.agregar( Pelicula(\"El Padrino\", 175, 1972) )"
   ]
  },
  {
   "cell_type": "code",
   "execution_count": null,
   "id": "83f1da49-0af0-488f-ae38-bbee443ba9eb",
   "metadata": {
    "collapsed": false,
    "jupyter": {
     "outputs_hidden": false
    }
   },
   "outputs": [],
   "source": [
    "c.agregar( Pelicula(\"El Padrino: Parte 2\", 202, 1974) )"
   ]
  },
  {
   "cell_type": "code",
   "execution_count": null,
   "id": "6011e5a0-8df6-4713-b4cc-cceeae21e8a4",
   "metadata": {
    "collapsed": false,
    "jupyter": {
     "outputs_hidden": false
    }
   },
   "outputs": [],
   "source": [
    "c.mostrar()"
   ]
  },
  {
   "cell_type": "code",
   "execution_count": null,
   "id": "cc35fb27-ab43-4f70-becd-79dc1fd7dbd5",
   "metadata": {},
   "outputs": [],
   "source": [
    "del(c)"
   ]
  },
  {
   "cell_type": "markdown",
   "id": "9f0c5363-88c6-44e9-a732-d2288b8488b3",
   "metadata": {},
   "source": [
    "## Recuperando el catálogo al crearlo de nuevo"
   ]
  },
  {
   "cell_type": "code",
   "execution_count": null,
   "id": "0804fec3-46e4-4d58-ba6e-75dea06d3690",
   "metadata": {
    "collapsed": false,
    "jupyter": {
     "outputs_hidden": false
    }
   },
   "outputs": [],
   "source": [
    "c = Catalogo()"
   ]
  },
  {
   "cell_type": "code",
   "execution_count": null,
   "id": "264c596e-2bd9-43a7-9787-7c1caaa72da7",
   "metadata": {
    "collapsed": false,
    "jupyter": {
     "outputs_hidden": false
    }
   },
   "outputs": [],
   "source": [
    "c.mostrar()"
   ]
  },
  {
   "cell_type": "code",
   "execution_count": null,
   "id": "f08afea5-fcc4-49b5-b069-bad1d3832295",
   "metadata": {
    "collapsed": false,
    "jupyter": {
     "outputs_hidden": false
    }
   },
   "outputs": [],
   "source": [
    "del(c)"
   ]
  },
  {
   "cell_type": "code",
   "execution_count": null,
   "id": "cfe8118b-6389-4b4a-aa10-e50836bf52dd",
   "metadata": {
    "collapsed": false,
    "jupyter": {
     "outputs_hidden": false
    }
   },
   "outputs": [],
   "source": [
    "c = Catalogo()"
   ]
  },
  {
   "cell_type": "code",
   "execution_count": null,
   "id": "488d84ba-1c68-4fbe-9df0-03e12ff6e825",
   "metadata": {
    "collapsed": false,
    "jupyter": {
     "outputs_hidden": false
    }
   },
   "outputs": [],
   "source": [
    "c.agregar( Pelicula(\"Prueba\", 100, 2005) )"
   ]
  },
  {
   "cell_type": "code",
   "execution_count": null,
   "id": "69540ba9-6381-4428-99cd-886380323834",
   "metadata": {
    "collapsed": false,
    "jupyter": {
     "outputs_hidden": false
    }
   },
   "outputs": [],
   "source": [
    "c.mostrar()"
   ]
  },
  {
   "cell_type": "code",
   "execution_count": null,
   "id": "de439ddb-89ee-4784-a7cb-b3cc8c0000be",
   "metadata": {
    "collapsed": false,
    "jupyter": {
     "outputs_hidden": false
    }
   },
   "outputs": [],
   "source": [
    "del(c)"
   ]
  },
  {
   "cell_type": "code",
   "execution_count": null,
   "id": "5eec124d-7a5d-4eb0-b7a3-c49902e83448",
   "metadata": {
    "collapsed": false,
    "jupyter": {
     "outputs_hidden": false
    }
   },
   "outputs": [],
   "source": [
    "c = Catalogo()"
   ]
  },
  {
   "cell_type": "code",
   "execution_count": null,
   "id": "49b33908-f291-45ef-86a4-a25e483b9948",
   "metadata": {
    "collapsed": false,
    "jupyter": {
     "outputs_hidden": false
    }
   },
   "outputs": [],
   "source": [
    "c.mostrar()"
   ]
  },
  {
   "cell_type": "markdown",
   "id": "ef89193c-511d-4639-809a-e9312ec3c15e",
   "metadata": {},
   "source": [
    "## Conclusiones\n",
    "- Trabajamos en memoria, no en el fichero\n",
    "- Nosotros decidimos cuando escribir los datos:\n",
    "   1. Al manipular un registro\n",
    "   2. Al finalizar el programa"
   ]
  },
  {
   "cell_type": "markdown",
   "id": "77135e5e-e12a-4b84-8156-0126c25a8949",
   "metadata": {},
   "source": [
    "## ***Ejercicios diversos"
   ]
  },
  {
   "cell_type": "code",
   "execution_count": null,
   "id": "2ab60490-22b0-4fcb-894b-9a6af08639fd",
   "metadata": {},
   "outputs": [],
   "source": [
    "#11 Calendar\n",
    "class Calendar:\n",
    "    def __init__(self, year):\n",
    "        self.year = year\n",
    "\n",
    "    def is_leap_year(self):\n",
    "        return (self.year % 400 == 0 or \n",
    "                (self.year % 4 == 0 and self.year % 100 != 0))\n",
    "\n",
    "    def first_day(self, m):\n",
    "        p = (14-m) // 12\n",
    "        q = self.year - p\n",
    "        r = q + q//4 - q//100 + q//400\n",
    "        s = m + 12*p - 2\n",
    "        t = (1 + r + (31*s)//12) % 7\n",
    "        return t\n",
    "\n",
    "    def print_calendar(self, m):\n",
    "        month_days = [31, 28, 31, 30, 31, 30, 31, 31, 30, 31, 30, 31]\n",
    "        meses = [\"Enero\", \"Febrero\", \"Marzo\", \"Abril\", \n",
    "                 \"Mayo\", \"Junio\", \"Julio\", \"Agosto\", \n",
    "                 \"Setiembre\", \"Octubre\", \"Noviembre\", \"Diciembre\"]\n",
    "        dias = [\"D\", \"L\", \"M\", \"M\", \"J\", \"V\", \"S\"]\n",
    "        \n",
    "        if self.is_leap_year() and m == 2:\n",
    "            days = 29\n",
    "        else:\n",
    "            days = month_days[m-1]\n",
    "\n",
    "        print(f\"  {meses[m-1]}\")\n",
    "        print(\"  \", end='')\n",
    "        for i in range(7):\n",
    "            print(f\"{dias[i]:^4s}\", end='')\n",
    "        print()\n",
    "     \n",
    "        c = 0\n",
    "        for i in range(self.first_day(m)):\n",
    "            c += 1\n",
    "            print('    ', end='')\n",
    "            \n",
    "        for i in range(1, days+1):\n",
    "            print('{:4d}'.format(i), end='')\n",
    "            c += 1\n",
    "            if c % 7 == 0:\n",
    "                print()\n",
    "        print()\n",
    "\n",
    "calendar = Calendar(2021)\n",
    "print(calendar.is_leap_year())\n",
    "print(calendar.first_day(11))\n",
    "calendar.print_calendar(11)\n"
   ]
  },
  {
   "cell_type": "code",
   "execution_count": null,
   "id": "e7457216-785b-4d2c-ac67-4086d81f3a19",
   "metadata": {},
   "outputs": [],
   "source": [
    "class Vehiculo():\n",
    "    def __init__(self, color, ruedas):\n",
    "        self.color = color\n",
    "        self.ruedas = ruedas\n",
    "        \n",
    "    def __str__(self):\n",
    "        return \"color {}, {} ruedas\".format(self.color, self.ruedas)\n",
    "    \n",
    "    \n",
    "class Coche(Vehiculo):\n",
    "    def __init__(self, color, ruedas, velocidad, cilindrada):\n",
    "        super().__init__(color, ruedas)\n",
    "        self.velocidad = velocidad\n",
    "        self.cilindrada = cilindrada\n",
    "        \n",
    "    def __str__(self):\n",
    "        return super().__str__() + \", {} Km/h, {} cc\".format(\n",
    "            self.velocidad, self.cilindrada)\n",
    "    \n",
    "c = Coche(\"Azul\", 4, 150, 1200)\n",
    "print(c)\n",
    "    \n",
    "    "
   ]
  },
  {
   "cell_type": "code",
   "execution_count": null,
   "id": "3a0c6578-270d-48be-8ca7-23bc3078fcb0",
   "metadata": {},
   "outputs": [],
   "source": [
    "# Pregunta PC4 - Caso enviado por Norman\n",
    "\n",
    "class Vehiculo():\n",
    "    def __init__(self, color, ruedas):\n",
    "        self.color = color\n",
    "        self.ruedas = ruedas\n",
    "        \n",
    "    def __str__(self):\n",
    "        return \"color {}, {} ruedas\".format(self.color, self.ruedas)\n",
    "    \n",
    "    \n",
    "class Coche(Vehiculo):\n",
    "    def __init__(self, color, ruedas, velocidad, cilindrada):\n",
    "        super().__init__(color, ruedas)\n",
    "        self.velocidad = velocidad\n",
    "        self.cilindrada = cilindrada\n",
    "        \n",
    "    def __str__(self):\n",
    "        return super().__str__() + \", {} Km/h, {} cc\".format(\n",
    "            self.velocidad, self.cilindrada)\n",
    "    \n",
    "    \n",
    "class Camioneta(Coche):\n",
    "    def __init__(self, color, ruedas, velocidad, cilindrada, carga):\n",
    "        super().__init__(color, ruedas, velocidad, cilindrada)\n",
    "        self.carga = carga\n",
    "        \n",
    "    def __str__(self):\n",
    "        return super().__str__() + \", {} Kg de carga\".format(self.carga)\n",
    "    \n",
    "    \n",
    "class Bicicleta(Vehiculo):\n",
    "    def __init__(self, color, ruedas, tipo):\n",
    "        super().__init__(color, ruedas)\n",
    "        self.tipo = tipo\n",
    "    \n",
    "    def __str__(self):\n",
    "        return super().__str__() + \", {} \".format(self.tipo)\n",
    "    \n",
    "    \n",
    "class Motocicleta(Bicicleta):\n",
    "    def __init__(self, color, ruedas, tipo, velocidad, cilindrada):\n",
    "        super().__init__(color, ruedas, tipo)\n",
    "        self.velocidad = velocidad\n",
    "        self.cilindrada = cilindrada\n",
    "        \n",
    "    def __str__(self):\n",
    "        return super().__str__() + \", {} Km/h, {} cc\".format(\n",
    "            self.velocidad, self.cilindrada)\n",
    "    \n",
    "\n",
    "vehiculos = [\n",
    "    Coche(\"azul\", 4, 150, 1200),\n",
    "    Camioneta(\"blanco\", 4, 100, 1300, 1500),\n",
    "    Bicicleta(\"verde\", 2, \"urbano\"),\n",
    "    Motocicleta(\"negro\", 2, \"deportiva\", 100, 1000)\n",
    "]\n",
    "\n",
    "# esto es para la primera del catálaogo\n",
    "#def catalogar(lista):\n",
    "#    for v in lista:\n",
    "#        print(\"{} {}\".format(type(v).__name__, v))\n",
    "      \n",
    "# catalogar(vehiculos)\n",
    "\n",
    "# Esta es para la segunda versión del catálogo\n",
    "def catalogar(lista, ruedas=None):\n",
    "    if ruedas != None:\n",
    "        contador = 0\n",
    "        for v in lista:\n",
    "            if v.ruedas == ruedas:\n",
    "                contador += 1\n",
    "        print(\"Se han encontrado {} vehículos con {} ruedas\"\n",
    "              .format(contador, ruedas))\n",
    "        print(\"==========================================\")\n",
    "    else:\n",
    "        print(\"El catálogo completo es el siguiente\")\n",
    "        print(\"====================================\")\n",
    "        \n",
    "    for v in lista:\n",
    "        if ruedas == None:\n",
    "            print(\"{} {}\".format(type(v).__name__, v))\n",
    "        elif v.ruedas == ruedas:\n",
    "            print(\"{} {}\".format(type(v).__name__, v))\n",
    "            \n",
    "\n",
    "catalogar(vehiculos)\n"
   ]
  },
  {
   "cell_type": "code",
   "execution_count": null,
   "id": "59550e24-30d6-4095-8a95-2547e1659cfc",
   "metadata": {},
   "outputs": [],
   "source": [
    "class Pelicula:\n",
    "    def __init__(self, titulo, duracion, lanzamiento): \n",
    "        self.titulo = titulo \n",
    "        self.duracion= duracion \n",
    "        self.lanzamiento=lanzamiento\n",
    "        print('Se ha creado la película ', self.titulo)\n",
    "    \n",
    "    def __str__(self):\n",
    "        return (\"{} lanzada el {} con una duración de \"\n",
    "                \"{} minutos\".format(self.titulo, \n",
    "                self.lanzamiento, self.duracion))\n",
    "    \n",
    "    \n",
    "class Catalogo():\n",
    "    def __init__(self, peliculas=[]): \n",
    "        self.peliculas = peliculas\n",
    "        \n",
    "    def agregar(self, p):\n",
    "        self.peliculas.append(p)\n",
    "        \n",
    "    def mostrar(self):\n",
    "        for p in self.peliculas: \n",
    "            print(type(p).__name__, p)\n",
    "\n",
    "\n",
    "c = Catalogo()\n",
    "c.agregar(Pelicula('Misión imposible 6 – Repercusión', 132, 2018) ) \n",
    "c.agregar(Pelicula('Misión imposible 5 – Nación secreta', 140, 2015)) \n",
    "c.mostrar()\n",
    "\n"
   ]
  },
  {
   "cell_type": "code",
   "execution_count": null,
   "id": "cdb7ab9f-5618-454e-bf62-0cc88f748a5e",
   "metadata": {},
   "outputs": [],
   "source": [
    "#5 Ticket\n",
    "class Ticket:\n",
    "    def __init__(self, cost, time):\n",
    "        self.cost = cost\n",
    "        self.time = time\n",
    "\n",
    "    def __str__(self):\n",
    "        return 'Ticket(' + str(self.cost) + ', ' + str(self.time) + ')'\n",
    "\n",
    "    def is_evening_time(self):\n",
    "        hour = self.time.hour\n",
    "        return 18 <= hour <= 23\n",
    "\n",
    "    def bulk_discount(self, n):\n",
    "        if 5 <= n < 9:\n",
    "            return 10\n",
    "        elif n >= 10:\n",
    "            return 20\n",
    "        else:\n",
    "            return 0\n",
    "\n",
    "formato = \"%H:%M:%S\"\n",
    "tiempo = datetime.strptime(\"19:30:00\", formato)\n",
    "ticket = Ticket(49.99, tiempo)\n",
    "print(ticket)\n",
    "print(ticket.is_evening_time())\n",
    "print(ticket.bulk_discount(15))\n"
   ]
  },
  {
   "cell_type": "code",
   "execution_count": null,
   "id": "2df581fa-4c15-4045-9a65-ffa6681b2e59",
   "metadata": {},
   "outputs": [],
   "source": [
    "#6 MovieTicket\n",
    "class MovieTicket(Ticket):\n",
    "    def __init__(self, cost, time, movie_name):\n",
    "        self.cost = cost\n",
    "        self.time = time\n",
    "        self.movie_name = movie_name\n",
    "\n",
    "    def __str__(self):\n",
    "        return 'Ticket(' + str(self.cost) + ', ' + str(self.time) + ', ' + str(self.movie_name) + ')'\n",
    "\n",
    "    def afternoon_discount(self):\n",
    "        hour = int(self.time.split(':')[0])\n",
    "        if 12 <= hour <= 17:\n",
    "            return 10\n",
    "        else:\n",
    "            return 0\n",
    "        \n",
    "m_ticket = MovieTicket(49.99, '14:25', 'Snakes on a Plane')\n",
    "print(m_ticket)\n",
    "print(m_ticket.afternoon_discount())\n",
    "print(m_ticket.is_evening_time())\n"
   ]
  },
  {
   "cell_type": "code",
   "execution_count": null,
   "id": "63a4a759-2abe-4bb8-8ffb-2d836020cacd",
   "metadata": {},
   "outputs": [],
   "source": [
    "from datetime import datetime, time\n",
    "#formato = \"%H:%M:%S\"\n",
    "formato = \"%H:%M:%S\"\n",
    "hora1 = 18\n",
    "hora2 = 23\n",
    "while True:\n",
    "    try:\n",
    "        hhmmss = input('Introducir hora (hh:mm:ss): ')\n",
    "        if hhmmss == \"\":\n",
    "            break\n",
    "  \n",
    "        hhmmss = datetime.strptime(hhmmss, formato)\n",
    "        horas = hhmmss.hour\n",
    "        #minutos = hhmm.minute\n",
    "        #print(\"Hora: \", hhmmss)\n",
    "        print(horas)\n",
    "        if hora1 <= horas <= hora2:\n",
    "            print(True)\n",
    "        \n",
    "    except:\n",
    "        print('Error en el formato de hora introducido.')\n",
    "        print('-> Formato válido: hh:mm  ¡Inténtalo de nuevo!')"
   ]
  },
  {
   "cell_type": "code",
   "execution_count": null,
   "id": "b01c5aa0-028d-43f4-90e1-040f4b3041f0",
   "metadata": {},
   "outputs": [],
   "source": [
    "#5 Ticket\n",
    "class Ticket:\n",
    "    def __init__(self, cost, time):\n",
    "        self.cost = cost\n",
    "        self.time = time\n",
    "        #self.numTickets = numTickets\n",
    "\n",
    "    def __str__(self):\n",
    "        return 'Ticket(' + str(self.cost) + ', ' + str(self.time) + ')'\n",
    "\n",
    "    def is_evening_time(self):\n",
    "        self.hour = self.time.hour\n",
    "        return 18 <= self.hour <= 23\n",
    "\n",
    "    def bulk_discount(self, n):\n",
    "        if 5 <= n < 9:\n",
    "            return 10\n",
    "        elif n >= 10:\n",
    "            return 20\n",
    "        else:\n",
    "            return 0\n",
    "        \n",
    "\n",
    "#6 MovieTicket\n",
    "class MovieTicket(Ticket):\n",
    "    def __init__(self, cost, time, movie_name):\n",
    "        super().__init__(cost, time)\n",
    "        self.movie_name = movie_name\n",
    "\n",
    "    def __str__(self):\n",
    "        return super().__str__() + ' Pelicula ' +  str(self.movie_name) + ')'\n",
    "\n",
    "    def afternoon_discount(self):\n",
    "        rpta = super().is_evening_time()\n",
    "        if rpta:\n",
    "            return -2\n",
    "        elif 12 <= self.hour <= 17:\n",
    "            return 10\n",
    "        else:\n",
    "            return 0\n",
    "        \n",
    "formato = \"%H:%M:%S\"\n",
    "costo = float(input(\"Precio ticket \"))\n",
    "hora = input(\"Hora del evento [hh:mm:ss] \")\n",
    "hora = datetime.strptime(hora, formato)\n",
    "numTickets = int(input(\"Número de ticktes \"))\n",
    "nombrePelicula = input(\"Ingrese numero película\")\n",
    "\n",
    "m_ticket = MovieTicket(costo, hora, nombrePelicula)\n",
    "\n",
    "dctoVolumen = m_ticket.bulk_discount(numTickets)\n",
    "dctoHorario = m_ticket.afternoon_discount()\n",
    "dctoTotal = (dctoVolumen + dctoHorario)\n",
    "precioVenta = costo*numTickets*(1 - dctoTotal/100.0)\n",
    "print(precioVenta)\n",
    "                       \n"
   ]
  },
  {
   "cell_type": "code",
   "execution_count": null,
   "id": "5c540690-98c9-4d04-b6f8-266791a65096",
   "metadata": {},
   "outputs": [],
   "source": [
    "import pandas as pd\n",
    "df = pd.read_excel(\"prueba.xlsx\")\n",
    "print(df)\n",
    "datos = [1, 2]\n",
    "df.loc[df.shape[0]] = datos\n",
    "print(df)"
   ]
  }
 ],
 "metadata": {
  "colab": {
   "collapsed_sections": [],
   "name": "El libro Python de Giuseppe 20 POO.ipynb",
   "provenance": []
  },
  "kernelspec": {
   "display_name": "Python 3 (ipykernel)",
   "language": "python",
   "name": "python3"
  },
  "language_info": {
   "codemirror_mode": {
    "name": "ipython",
    "version": 3
   },
   "file_extension": ".py",
   "mimetype": "text/x-python",
   "name": "python",
   "nbconvert_exporter": "python",
   "pygments_lexer": "ipython3",
   "version": "3.10.0"
  }
 },
 "nbformat": 4,
 "nbformat_minor": 5
}
