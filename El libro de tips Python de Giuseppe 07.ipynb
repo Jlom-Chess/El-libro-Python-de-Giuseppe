{
 "cells": [
  {
   "cell_type": "markdown",
   "id": "64a64b2e-4bf0-40d0-ae63-20df221c707d",
   "metadata": {},
   "source": [
    "## **contextlib.suppress**"
   ]
  },
  {
   "cell_type": "code",
   "execution_count": null,
   "id": "9df50d81-38f3-42e4-8ff5-163e9efc3aa9",
   "metadata": {},
   "outputs": [],
   "source": [
    "# In Python 3.4+ you can use\n",
    "# contextlib.suppress() to selectively\n",
    "# ignore specific exceptions:\n",
    "\n",
    "import contextlib\n",
    "\n",
    "with contextlib.suppress(FileNotFoundError):\n",
    "    os.remove('somefile.tmp')\n",
    "\n",
    "# This is equivalent to:\n",
    "\n",
    "try:\n",
    "    os.remove('somefile.tmp')\n",
    "except FileNotFoundError:\n",
    "    pass\n",
    "\n",
    "# contextlib.suppress docstring: \n",
    "#\n",
    "# \"Return a context manager that suppresses any \n",
    "#  of the specified exceptions if they occur in the body\n",
    "#  of a with statement and then resumes execution with \n",
    "#  the first statement following the end of \n",
    "#  the with statement.\"\n"
   ]
  },
  {
   "cell_type": "markdown",
   "id": "02effecb-197b-4f54-8d98-3837dabf2587",
   "metadata": {},
   "source": [
    "## **Check if all elements in a list are equal**"
   ]
  },
  {
   "cell_type": "code",
   "execution_count": null,
   "id": "8daedb9f-3c50-45e2-a57a-a76f3ab5d40d",
   "metadata": {},
   "outputs": [],
   "source": [
    "# Pythonic ways of checking if all\n",
    "# items in a list are equal:\n",
    "\n",
    ">>> lst = ['a', 'a', 'a']\n",
    "\n",
    ">>> len(set(lst)) == 1\n",
    "True\n",
    "\n",
    ">>> all(x == lst[0] for x in lst)\n",
    "True\n",
    "\n",
    ">>> lst.count(lst[0]) == len(lst)\n",
    "True\n",
    "\n",
    "# I ordered those from \"most Pythonic\" to \"least Pythonic\" \n",
    "# and  \"least efficient\" to \"most efficient\". \n",
    "# The len(set()) solution is idiomatic,  but constructing \n",
    "# a set is less efficient memory and speed-wise.\n"
   ]
  },
  {
   "cell_type": "markdown",
   "id": "f18e22cb-1ab4-44a0-8b8d-db4c66236743",
   "metadata": {},
   "source": [
    "## **\"for\" (and \"while\") loops can have an \"else\" branch?!**"
   ]
  },
  {
   "cell_type": "code",
   "execution_count": null,
   "id": "810c5df1-847a-41ac-b584-a1933692114f",
   "metadata": {},
   "outputs": [],
   "source": [
    "# Python's `for` and `while` loops\n",
    "# support an `else` clause that executes\n",
    "# only if the loops terminates without\n",
    "# hitting a `break` statement.\n",
    "\n",
    "def contains(haystack, needle):\n",
    "    \"\"\"\n",
    "    Throw a ValueError if `needle` not\n",
    "    in `haystack`.\n",
    "    \"\"\"\n",
    "    for item in haystack:\n",
    "        if item == needle:\n",
    "            break\n",
    "    else:\n",
    "        # The `else` here is a\n",
    "        # \"completion clause\" that runs\n",
    "        # only if the loop ran to completion\n",
    "        # without hitting a `break` statement.\n",
    "        raise ValueError('Needle not found')\n",
    "\n",
    "\n",
    ">>> contains([23, 'needle', 0xbadc0ffee], 'needle')\n",
    "None\n",
    "\n",
    ">>> contains([23, 42, 0xbadc0ffee], 'needle')\n",
    "ValueError: \"Needle not found\"\n",
    "\n",
    "\n",
    "# Personally, I'm not a fan of the `else`\n",
    "# \"completion clause\" in loops because\n",
    "# I find it confusing. I'd rather do\n",
    "# something like this:\n",
    "def better_contains(haystack, needle):\n",
    "    for item in haystack:\n",
    "        if item == needle:\n",
    "            return\n",
    "    raise ValueError('Needle not found')\n",
    "\n",
    "# Note: Typically you'd write something\n",
    "# like this to do a membership test,\n",
    "# which is much more Pythonic:\n",
    "if needle not in haystack:\n",
    "    raise ValueError('Needle not found')\n"
   ]
  }
 ],
 "metadata": {
  "kernelspec": {
   "display_name": "Python 3 (ipykernel)",
   "language": "python",
   "name": "python3"
  },
  "language_info": {
   "codemirror_mode": {
    "name": "ipython",
    "version": 3
   },
   "file_extension": ".py",
   "mimetype": "text/x-python",
   "name": "python",
   "nbconvert_exporter": "python",
   "pygments_lexer": "ipython3",
   "version": "3.10.2"
  }
 },
 "nbformat": 4,
 "nbformat_minor": 5
}
