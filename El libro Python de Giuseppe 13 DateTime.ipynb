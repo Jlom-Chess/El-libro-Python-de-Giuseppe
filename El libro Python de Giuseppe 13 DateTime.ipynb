{
 "cells": [
  {
   "cell_type": "markdown",
   "metadata": {
    "id": "I5fuysVgAv-G"
   },
   "source": [
    "## **Datetime**\n",
    "### ***Operaciones con fechas y horas***"
   ]
  },
  {
   "cell_type": "markdown",
   "metadata": {
    "id": "-22TpAjeBXGg"
   },
   "source": [
    "La lbrería ***datetime*** tiene los siguientes métodos para manipular fechas y tiempo\n",
    "\n",
    "*   datetime\n",
    "*   date\n",
    "*   time\n",
    "*   timedelta\n",
    " "
   ]
  },
  {
   "cell_type": "code",
   "execution_count": null,
   "metadata": {},
   "outputs": [
    {
     "name": "stdout",
     "output_type": "stream",
     "text": [
      "2021-10-19 20:35:04.028977\n"
     ]
    }
   ],
   "source": [
    "import datetime\n"
   ]
  },
  {
   "cell_type": "markdown",
   "metadata": {},
   "source": [
    "## El objeto datetime"
   ]
  },
  {
   "cell_type": "code",
   "execution_count": 3,
   "metadata": {
    "tags": []
   },
   "outputs": [],
   "source": [
    "dt = datetime.datetime.now() # Ahora"
   ]
  },
  {
   "cell_type": "code",
   "execution_count": 8,
   "metadata": {
    "collapsed": false,
    "jupyter": {
     "outputs_hidden": false
    }
   },
   "outputs": [
    {
     "name": "stdout",
     "output_type": "stream",
     "text": [
      "2021-12-16 23:04:08.408451\n"
     ]
    }
   ],
   "source": [
    "print(dt)\n"
   ]
  },
  {
   "cell_type": "code",
   "execution_count": 12,
   "metadata": {
    "collapsed": false,
    "jupyter": {
     "outputs_hidden": false
    }
   },
   "outputs": [
    {
     "name": "stdout",
     "output_type": "stream",
     "text": [
      "2021\n"
     ]
    }
   ],
   "source": [
    "print(dt.year) # año\n"
   ]
  },
  {
   "cell_type": "code",
   "execution_count": 13,
   "metadata": {
    "collapsed": false,
    "jupyter": {
     "outputs_hidden": false
    }
   },
   "outputs": [
    {
     "name": "stdout",
     "output_type": "stream",
     "text": [
      "12\n"
     ]
    }
   ],
   "source": [
    "print(dt.month) # mes"
   ]
  },
  {
   "cell_type": "code",
   "execution_count": 14,
   "metadata": {
    "collapsed": false,
    "jupyter": {
     "outputs_hidden": false
    }
   },
   "outputs": [
    {
     "name": "stdout",
     "output_type": "stream",
     "text": [
      "16\n"
     ]
    }
   ],
   "source": [
    "print(dt.day) # día"
   ]
  },
  {
   "cell_type": "code",
   "execution_count": 15,
   "metadata": {
    "collapsed": false,
    "jupyter": {
     "outputs_hidden": false
    }
   },
   "outputs": [
    {
     "name": "stdout",
     "output_type": "stream",
     "text": [
      "23\n"
     ]
    }
   ],
   "source": [
    "print(dt.hour) # hora"
   ]
  },
  {
   "cell_type": "code",
   "execution_count": 16,
   "metadata": {
    "collapsed": false,
    "jupyter": {
     "outputs_hidden": false
    }
   },
   "outputs": [
    {
     "name": "stdout",
     "output_type": "stream",
     "text": [
      "4\n"
     ]
    }
   ],
   "source": [
    "print(dt.minute) # minutos"
   ]
  },
  {
   "cell_type": "code",
   "execution_count": 17,
   "metadata": {
    "collapsed": false,
    "jupyter": {
     "outputs_hidden": false
    }
   },
   "outputs": [
    {
     "name": "stdout",
     "output_type": "stream",
     "text": [
      "8\n"
     ]
    }
   ],
   "source": [
    "print(dt.second) # segundos"
   ]
  },
  {
   "cell_type": "code",
   "execution_count": 18,
   "metadata": {
    "collapsed": false,
    "jupyter": {
     "outputs_hidden": false
    }
   },
   "outputs": [
    {
     "name": "stdout",
     "output_type": "stream",
     "text": [
      "408451\n"
     ]
    }
   ],
   "source": [
    "print(dt.microsecond) # microsegundos"
   ]
  },
  {
   "cell_type": "code",
   "execution_count": 21,
   "metadata": {
    "tags": []
   },
   "outputs": [
    {
     "name": "stdout",
     "output_type": "stream",
     "text": [
      "None\n"
     ]
    }
   ],
   "source": [
    "print(dt.tzinfo) # zona horaria, nula por defecto"
   ]
  },
  {
   "cell_type": "code",
   "execution_count": 22,
   "metadata": {
    "collapsed": false,
    "jupyter": {
     "outputs_hidden": false
    }
   },
   "outputs": [
    {
     "name": "stdout",
     "output_type": "stream",
     "text": [
      "23:4:8\n"
     ]
    }
   ],
   "source": [
    "print(\"{}:{}:{}\".format(dt.hour, dt.minute, dt.second))"
   ]
  },
  {
   "cell_type": "code",
   "execution_count": 23,
   "metadata": {
    "collapsed": false,
    "jupyter": {
     "outputs_hidden": false
    }
   },
   "outputs": [
    {
     "name": "stdout",
     "output_type": "stream",
     "text": [
      "16/12/2021\n"
     ]
    }
   ],
   "source": [
    "print(\"{}/{}/{}\".format(dt.day, dt.month, dt.year))"
   ]
  },
  {
   "cell_type": "code",
   "execution_count": 10,
   "metadata": {
    "colab": {
     "base_uri": "https://localhost:8080/"
    },
    "executionInfo": {
     "elapsed": 312,
     "status": "ok",
     "timestamp": 1634675750348,
     "user": {
      "displayName": "Jose Luis Ojeda",
      "photoUrl": "https://lh3.googleusercontent.com/a-/AOh14GioxvwskRaM2HjJwQ_L936mkRS1wMOHPWrqOWUffw=s64",
      "userId": "12240071782040482724"
     },
     "user_tz": 300
    },
    "id": "QSmLnbLvCfWJ",
    "outputId": "3e5193c3-69e1-40f1-a0f4-ce227b92df55"
   },
   "outputs": [
    {
     "name": "stdout",
     "output_type": "stream",
     "text": [
      "Fecha y Hora: 2021-10-19 20:35:50.000999\n",
      "Fecha y Hora UTC: 2021-10-19 20:35:50.002788\n",
      "Día: 19\n",
      "Mes: 10\n",
      "Año: 2021\n",
      "Hora: 20\n",
      "Minutos: 35\n",
      "Segundos: 50\n",
      "Microsegundos: 999\n"
     ]
    }
   ],
   "source": [
    "from datetime import datetime, date, time, timedelta\n",
    "ahora = datetime.now()  # Obtiene fecha y hora actual\n",
    "print(\"Fecha y Hora:\", ahora)  # Muestra fecha y hora\n",
    "print(\"Fecha y Hora UTC:\",ahora.utcnow())  # Muestra fecha/hora UTC\n",
    "print(\"Día:\",ahora.day)  # Muestra día\n",
    "print(\"Mes:\",ahora.month)  # Muestra mes\n",
    "print(\"Año:\",ahora.year)  # Muestra año\n",
    "print(\"Hora:\", ahora.hour)  # Muestra hora\n",
    "print(\"Minutos:\",ahora.minute)  # Muestra minuto\n",
    "print(\"Segundos:\", ahora.second)  # Muestra segundo\n",
    "print(\"Microsegundos:\",ahora.microsecond)  # Muestra microsegundo"
   ]
  },
  {
   "cell_type": "code",
   "execution_count": 11,
   "metadata": {
    "colab": {
     "base_uri": "https://localhost:8080/"
    },
    "executionInfo": {
     "elapsed": 344,
     "status": "ok",
     "timestamp": 1634676503353,
     "user": {
      "displayName": "Jose Luis Ojeda",
      "photoUrl": "https://lh3.googleusercontent.com/a-/AOh14GioxvwskRaM2HjJwQ_L936mkRS1wMOHPWrqOWUffw=s64",
      "userId": "12240071782040482724"
     },
     "user_tz": 300
    },
    "id": "0Z-g7JFIEvlv",
    "outputId": "2d0d4e5b-37b5-4b97-be63-eee7e7c2766a"
   },
   "outputs": [
    {
     "name": "stdout",
     "output_type": "stream",
     "text": [
      "Horas:\n",
      "\tHora1: 10:05:00\n",
      "\tHora2: 23:15:00\n",
      "\tHora1 < Hora2: True\n",
      "Fechas:\n",
      "\tFecha1: 2021-10-19\n",
      "\tFecha2: 2021-10-21\n",
      "\tFecha1 > Fecha2: False\n"
     ]
    }
   ],
   "source": [
    "print(\"Horas:\")\n",
    "hora1 = time(10, 5, 0)  # Asigna 10h 5m 0s\n",
    "print(\"\\tHora1:\", hora1)\n",
    "hora2 = time(23, 15, 0)  # Asigna 23h 15m 0s\n",
    "print(\"\\tHora2:\", hora2)\n",
    "\n",
    "# Compara horas\n",
    "print(\"\\tHora1 < Hora2:\", hora1 < hora2)\n",
    "\n",
    "print(\"Fechas:\")\n",
    "fecha1 = date.today()  # Asigna fecha actual\n",
    "print(\"\\tFecha1:\", fecha1)\n",
    "\n",
    "# Suma a la fecha actual 2 días\n",
    "fecha2 = date.today() + timedelta(days=2)\n",
    "print(\"\\tFecha2:\", fecha2)\n",
    "\n",
    "# Compara fechas\n",
    "print(\"\\tFecha1 > Fecha2:\", fecha1 > fecha2)"
   ]
  },
  {
   "cell_type": "markdown",
   "metadata": {
    "id": "9LrDyo_yFlzd"
   },
   "source": [
    "### ***Aplicando formatos a fechas y horas (Máscaras)***\n",
    "\n",
    "\n"
   ]
  },
  {
   "cell_type": "code",
   "execution_count": 12,
   "metadata": {
    "colab": {
     "base_uri": "https://localhost:8080/"
    },
    "executionInfo": {
     "elapsed": 321,
     "status": "ok",
     "timestamp": 1634677096986,
     "user": {
      "displayName": "Jose Luis Ojeda",
      "photoUrl": "https://lh3.googleusercontent.com/a-/AOh14GioxvwskRaM2HjJwQ_L936mkRS1wMOHPWrqOWUffw=s64",
      "userId": "12240071782040482724"
     },
     "user_tz": 300
    },
    "id": "XDHgqE0GFL08",
    "outputId": "dc63575d-054b-4fa8-a200-af0a45b80a04"
   },
   "outputs": [
    {
     "name": "stdout",
     "output_type": "stream",
     "text": [
      "Fecha en formato ISO 8601: 2021-10-19 15:58:16.636825\n",
      "Formato1: Tue Oct 19 15:58:16 2021\n",
      "Formato2: 19-10-21 03:58 PM\n"
     ]
    }
   ],
   "source": [
    "# Asigna formato de ejemplo1\n",
    "formato1 = \"%a %b %d %H:%M:%S %Y\"\n",
    "\n",
    "# Asigna formato de ejemplo2\n",
    "formato2 = \"%d-%m-%y %I:%M %p\"\n",
    "\n",
    "hoy = datetime.today() - timedelta(hours=5) # Asigna fecha-hora\n",
    "\n",
    "# Muestra fecha-hora según ISO 8601\n",
    "print(\"Fecha en formato ISO 8601:\", hoy)\n",
    "\n",
    "# Aplica formato ejemplo1\n",
    "cadena1 = hoy.strftime(formato1)  \n",
    "\n",
    "# Aplica formato ejemplo2\n",
    "cadena2 = hoy.strftime(formato2)  \n",
    "\n",
    "# Muestra fecha-hora según ejemplo1\n",
    "print(\"Formato1:\", cadena1)\n",
    "\n",
    "# Muestra fecha-hora según ejemplo2\n",
    "print(\"Formato2:\", cadena2)"
   ]
  },
  {
   "cell_type": "markdown",
   "metadata": {
    "id": "v3UgugK-JMhI"
   },
   "source": [
    "### ***Operaciones con fechas y horas***"
   ]
  },
  {
   "cell_type": "code",
   "execution_count": 13,
   "metadata": {
    "colab": {
     "base_uri": "https://localhost:8080/"
    },
    "executionInfo": {
     "elapsed": 321,
     "status": "ok",
     "timestamp": 1634677326901,
     "user": {
      "displayName": "Jose Luis Ojeda",
      "photoUrl": "https://lh3.googleusercontent.com/a-/AOh14GioxvwskRaM2HjJwQ_L936mkRS1wMOHPWrqOWUffw=s64",
      "userId": "12240071782040482724"
     },
     "user_tz": 300
    },
    "id": "oK1fyg5XJIH5",
    "outputId": "cc501651-3644-41c0-b3bd-ab804f3a601a"
   },
   "outputs": [
    {
     "name": "stdout",
     "output_type": "stream",
     "text": [
      "2021-10-19\n",
      "2021-10-18\n",
      "2021-10-20\n",
      "1 day, 0:00:00\n",
      "-1 day, 0:00:00\n"
     ]
    }
   ],
   "source": [
    "hoy = date.today()  # Asigna fecha actual\n",
    "ayer = hoy - timedelta(days=1)  # Resta a fecha actual 1 día\n",
    "mañana = hoy + timedelta(days=1)  # Suma a fecha actual 1 día\n",
    "diferencia_en_dias1 = mañana - hoy  # Resta las dos fechas\n",
    "diferencia_en_dias2 = ayer - hoy  # Resta las dos fechas\n",
    "\n",
    "print(hoy)\n",
    "print(ayer)\n",
    "print(mañana)\n",
    "print(diferencia_en_dias1)\n",
    "print(diferencia_en_dias2)"
   ]
  },
  {
   "cell_type": "code",
   "execution_count": 15,
   "metadata": {
    "colab": {
     "base_uri": "https://localhost:8080/"
    },
    "executionInfo": {
     "elapsed": 308,
     "status": "ok",
     "timestamp": 1634677666862,
     "user": {
      "displayName": "Jose Luis Ojeda",
      "photoUrl": "https://lh3.googleusercontent.com/a-/AOh14GioxvwskRaM2HjJwQ_L936mkRS1wMOHPWrqOWUffw=s64",
      "userId": "12240071782040482724"
     },
     "user_tz": 300
    },
    "id": "EPQ0kFz3Km4t",
    "outputId": "7e3a01c4-aa41-48cd-8f38-92139021eb98"
   },
   "outputs": [
    {
     "name": "stdout",
     "output_type": "stream",
     "text": [
      "Ayer: 2021-10-18\n",
      "Hoy: 2021-10-19\n",
      "Mañana: 2021-10-20\n",
      "Diferencia en días entre mañana y hoy: 1\n",
      "La fecha de hoy más 1 millón de segundos: 2021-10-30\n",
      "Hora actual: 21:07:46\n",
      "Hora actual + 5 minutos: 21:12:46\n",
      "Hora actual + 5 horas: 2021-10-20 02:07:46.542214\n"
     ]
    }
   ],
   "source": [
    "hoy_mas_1_millon_segundos = hoy + timedelta(seconds=1000000)\n",
    "ahora = datetime.now() \n",
    "hora_actual = time(ahora.hour, ahora.minute, ahora.second)\n",
    "mas_5m = ahora + timedelta(seconds=300)\n",
    "mas_5m = time(mas_5m.hour, mas_5m.minute, mas_5m.second)\n",
    "racion_de_5h = timedelta(hours=5)\n",
    "mas_5h = ahora + racion_de_5h\n",
    "\n",
    "print(\"Ayer:\", ayer)\n",
    "print(\"Hoy:\", hoy)\n",
    "print(\"Mañana:\", mañana)\n",
    "print(\"Diferencia en días entre mañana y hoy:\", \n",
    "      diferencia_en_dias1.days)\n",
    "print(\"La fecha de hoy más 1 millón de segundos:\", \n",
    "      hoy_mas_1_millon_segundos)\n",
    "print(\"Hora actual:\", hora_actual)\n",
    "print(\"Hora actual + 5 minutos:\", mas_5m)\n",
    "print(\"Hora actual + 5 horas:\", mas_5h)"
   ]
  },
  {
   "cell_type": "code",
   "execution_count": 16,
   "metadata": {
    "colab": {
     "base_uri": "https://localhost:8080/"
    },
    "executionInfo": {
     "elapsed": 350,
     "status": "ok",
     "timestamp": 1634678004431,
     "user": {
      "displayName": "Jose Luis Ojeda",
      "photoUrl": "https://lh3.googleusercontent.com/a-/AOh14GioxvwskRaM2HjJwQ_L936mkRS1wMOHPWrqOWUffw=s64",
      "userId": "12240071782040482724"
     },
     "user_tz": 300
    },
    "id": "u9jRKyCyLKKH",
    "outputId": "74655fbd-56e3-4fd2-a585-fbae0146c435"
   },
   "outputs": [
    {
     "name": "stdout",
     "output_type": "stream",
     "text": [
      "Fecha1: 2021-10-19 21:13:24.055421\n",
      "Fecha2: 1995-11-05 00:00:00\n",
      "Diferencia: 9480 days, 21:13:24.055421\n",
      "Entre las 2 fechas hay  9480 días y  76404 seg.\n"
     ]
    }
   ],
   "source": [
    "# Asigna datetime de la fecha actual\n",
    "fecha1 = datetime.now()\n",
    "\n",
    "# Asigna datetime específica\n",
    "fecha2 = datetime(1995, 11, 5, 0, 0, 0)\n",
    "diferencia = fecha1 - fecha2\n",
    "print(\"Fecha1:\", fecha1)\n",
    "print(\"Fecha2:\", fecha2)\n",
    "print(\"Diferencia:\", diferencia)\n",
    "print(\"Entre las 2 fechas hay \", \n",
    "      diferencia.days, \n",
    "      \"días y \", \n",
    "      diferencia.seconds, \n",
    "      \"seg.\")"
   ]
  },
  {
   "cell_type": "code",
   "execution_count": 17,
   "metadata": {
    "colab": {
     "base_uri": "https://localhost:8080/"
    },
    "executionInfo": {
     "elapsed": 345,
     "status": "ok",
     "timestamp": 1634678676881,
     "user": {
      "displayName": "Jose Luis Ojeda",
      "photoUrl": "https://lh3.googleusercontent.com/a-/AOh14GioxvwskRaM2HjJwQ_L936mkRS1wMOHPWrqOWUffw=s64",
      "userId": "12240071782040482724"
     },
     "user_tz": 300
    },
    "id": "sn4vNgpJLo3h",
    "outputId": "3f885bc3-588a-490f-b4db-5133c1f21e49"
   },
   "outputs": [
    {
     "name": "stdout",
     "output_type": "stream",
     "text": [
      "Fecha inicial: 2013-10-01 00:00:00\n",
      "Fecha final: 2013-12-25 00:00:00\n",
      "Diferencia: 85 días\n"
     ]
    }
   ],
   "source": [
    "formato_fecha = \"%d-%m-%Y\"\n",
    "fecha_inicial = datetime.strptime(\"01-10-2013\", formato_fecha)\n",
    "fecha_final = datetime.strptime(\"25-12-2013\",   # strptime\n",
    "                                formato_fecha)  # convierte un string en fecha\n",
    "diferencia = fecha_final - fecha_inicial\n",
    "print(\"Fecha inicial:\", fecha_inicial)\n",
    "print(\"Fecha final:\", fecha_final)\n",
    "print(\"Diferencia:\", diferencia.days, \"días\")"
   ]
  },
  {
   "cell_type": "code",
   "execution_count": 18,
   "metadata": {
    "colab": {
     "base_uri": "https://localhost:8080/"
    },
    "executionInfo": {
     "elapsed": 114761,
     "status": "ok",
     "timestamp": 1634679229602,
     "user": {
      "displayName": "Jose Luis Ojeda",
      "photoUrl": "https://lh3.googleusercontent.com/a-/AOh14GioxvwskRaM2HjJwQ_L936mkRS1wMOHPWrqOWUffw=s64",
      "userId": "12240071782040482724"
     },
     "user_tz": 300
    },
    "id": "O0SOQOnEMLiE",
    "outputId": "4a6b11f5-c5c5-454d-911c-43bcc88926ca"
   },
   "outputs": [
    {
     "name": "stdout",
     "output_type": "stream",
     "text": [
      "Introducir fecha inicial (dd/mm/aaaa): 1910/2021\n",
      "Introducir fecha final   (dd/mm/aaaa): 31/12/2021\n",
      "Error en la/s fecha/s. ¡Inténtalo de nuevo!\n",
      "Introducir fecha inicial (dd/mm/aaaa): 19/10/2021\n",
      "Introducir fecha final   (dd/mm/aaaa): 25/09/2021\n",
      "La fecha fecha final debe ser mayor o igualque la inicial\n",
      "Introducir fecha inicial (dd/mm/aaaa): 19/10/2021\n",
      "Introducir fecha final   (dd/mm/aaaa): 31/12/2021\n",
      "Diferencia: 73 días\n",
      "Introducir fecha inicial (dd/mm/aaaa): \n"
     ]
    }
   ],
   "source": [
    "#  diferencia-entre-fechas-teclado.py\n",
    "#\n",
    "#  Diferencia de dos fechas en días introducidas por teclado,\n",
    "#  con control de errores.\n",
    "#\n",
    "\n",
    "from datetime import datetime\n",
    "\n",
    "def main():\n",
    "    # Establecer formato de las fechas a introducir: dd/mm/aaaa\n",
    " \n",
    "    formato = \"%d/%m/%Y\"\n",
    " \n",
    "     # Bucle 'sin fin' \n",
    " \n",
    "    while True:\n",
    "        try:\n",
    "            # Introducir fecha inicial utilizando el formato definido\n",
    "            fecha_desde = input('Introducir fecha inicial (dd/mm/aaaa): ')\n",
    "            \n",
    "            # Si no se introduce ningún valor se fuerza el final del bucle\n",
    "            if fecha_desde == \"\":\n",
    "                break\n",
    "                \n",
    "            # Introducir fecha final utilizando el formato definido\n",
    "            fecha_hasta = input('Introducir fecha final   (dd/mm/aaaa): ')\n",
    "            \n",
    "            # Si no se introduce ningún valor se fuerza el final del bucle\n",
    "            if fecha_hasta == \"\":\n",
    "                break\n",
    "            \n",
    "            # Se evaluan las fechas según el formato dd/mm/aaaa\n",
    "            # En caso de introducirse fechas incorrectas se capturará\n",
    "            # la excepción o error\n",
    "            fecha_desde = datetime.strptime(fecha_desde, formato)\n",
    "            fecha_hasta = datetime.strptime(fecha_hasta, formato)\n",
    "            \n",
    "            # Se comprueba que fecha_hasta sea mayor o igual que fecha_desde\n",
    "            if fecha_hasta >= fecha_desde:\n",
    "                # Se cálcula diferencia en día y se muestra el resultado\n",
    "                diferencia = fecha_hasta - fecha_desde\n",
    "                print(\"Diferencia:\", diferencia.days, \"días\")\n",
    "            else:\n",
    "                print(\"La fecha fecha final debe ser mayor o igual\" \n",
    "                      \"que la inicial\")\n",
    "        except:\n",
    "            print('Error en la/s fecha/s. ¡Inténtalo de nuevo!')\n",
    "   \n",
    "\n",
    "if __name__ == '__main__':\n",
    " main()\n"
   ]
  },
  {
   "cell_type": "code",
   "execution_count": 19,
   "metadata": {
    "colab": {
     "base_uri": "https://localhost:8080/"
    },
    "executionInfo": {
     "elapsed": 102621,
     "status": "ok",
     "timestamp": 1634679823336,
     "user": {
      "displayName": "Jose Luis Ojeda",
      "photoUrl": "https://lh3.googleusercontent.com/a-/AOh14GioxvwskRaM2HjJwQ_L936mkRS1wMOHPWrqOWUffw=s64",
      "userId": "12240071782040482724"
     },
     "user_tz": 300
    },
    "id": "XOb0IPnAN6jz",
    "outputId": "af251ec1-f4d0-4c1b-a021-8a136e01e0c4"
   },
   "outputs": [
    {
     "name": "stdout",
     "output_type": "stream",
     "text": [
      "Introducir hora (hh:mm:ss): 164200\n",
      "Error en el formato de hora introducido.\n",
      "-> Formato válido: hh:mm:ss  ¡Inténtalo de nuevo!\n",
      "Introducir hora (hh:mm:ss): 16:42:52\n",
      "Resultado:  0.6964351851851852\n",
      "Introducir hora (hh:mm:ss): 12:00:00\n",
      "Resultado:  0.5\n",
      "Introducir hora (hh:mm:ss): 18:00:00\n",
      "Resultado:  0.75\n",
      "Introducir hora (hh:mm:ss): 06:00:00\n",
      "Resultado:  0.25\n",
      "Introducir hora (hh:mm:ss): \n"
     ]
    }
   ],
   "source": [
    "# A partir de una hora introducida por teclado se obtiene\n",
    "# fracción del día, teniendo en cuenta que 24 horas = 86400 seg\n",
    "# Formato de entrada: hh:mm:ss\n",
    "# Valores Hora...: 0 a 23\n",
    "# Valores Minuto.: 0 a 59\n",
    "# Valores Segundo: 0 a 59\n",
    "\n",
    "from datetime import datetime\n",
    "formato = \"%H:%M:%S\"\n",
    "\n",
    "while True:\n",
    "    try:\n",
    "        hhmmss = input('Introducir hora (hh:mm:ss): ')\n",
    "        if hhmmss == \"\":\n",
    "            break\n",
    "            \n",
    "        hhmmss = datetime.strptime(hhmmss, formato)\n",
    "        horas = hhmmss.hour\n",
    "        minutos = hhmmss.minute\n",
    "        segundos = hhmmss.second\n",
    "        hhmmss_seg = (horas * 60 * 60) + (minutos * 60) + segundos\n",
    "        resultado = float(hhmmss_seg / 86400)\n",
    "        print(\"Resultado: \", resultado)\n",
    "    except:\n",
    "        print('Error en el formato de hora introducido.')\n",
    "        print('-> Formato válido: hh:mm:ss  ¡Inténtalo de nuevo!')"
   ]
  },
  {
   "cell_type": "code",
   "execution_count": 20,
   "metadata": {
    "colab": {
     "base_uri": "https://localhost:8080/"
    },
    "executionInfo": {
     "elapsed": 311,
     "status": "ok",
     "timestamp": 1634680021529,
     "user": {
      "displayName": "Jose Luis Ojeda",
      "photoUrl": "https://lh3.googleusercontent.com/a-/AOh14GioxvwskRaM2HjJwQ_L936mkRS1wMOHPWrqOWUffw=s64",
      "userId": "12240071782040482724"
     },
     "user_tz": 300
    },
    "id": "Arlu7jUhO9g3",
    "outputId": "4ba0a9bc-f51e-41a1-b53d-fa322d8effc0"
   },
   "outputs": [
    {
     "name": "stdout",
     "output_type": "stream",
     "text": [
      "2021-10-19 16:47:01.211481\n",
      "Tue Oct 19 16:47:01 2021\n"
     ]
    }
   ],
   "source": [
    "fecha1 = datetime.now() - timedelta(hours=5)\n",
    "print(fecha1)\n",
    "fecha1 = fecha1.strftime(\"%c\")\n",
    "print(fecha1)"
   ]
  },
  {
   "cell_type": "code",
   "execution_count": 21,
   "metadata": {
    "colab": {
     "base_uri": "https://localhost:8080/"
    },
    "executionInfo": {
     "elapsed": 346,
     "status": "ok",
     "timestamp": 1634680070763,
     "user": {
      "displayName": "Jose Luis Ojeda",
      "photoUrl": "https://lh3.googleusercontent.com/a-/AOh14GioxvwskRaM2HjJwQ_L936mkRS1wMOHPWrqOWUffw=s64",
      "userId": "12240071782040482724"
     },
     "user_tz": 300
    },
    "id": "tCIDDkyARPeT",
    "outputId": "fb7e819d-4af2-4d23-bf83-df270c8db1b1"
   },
   "outputs": [
    {
     "name": "stdout",
     "output_type": "stream",
     "text": [
      "2021-10-19 16:47:50.396614\n",
      "10/19/21\n"
     ]
    }
   ],
   "source": [
    "fecha1 = datetime.now() - timedelta(hours=5)\n",
    "print(fecha1)\n",
    "fecha1 = fecha1.strftime(\"%x\")\n",
    "print(fecha1)"
   ]
  },
  {
   "cell_type": "code",
   "execution_count": 22,
   "metadata": {
    "colab": {
     "base_uri": "https://localhost:8080/"
    },
    "executionInfo": {
     "elapsed": 308,
     "status": "ok",
     "timestamp": 1634680094622,
     "user": {
      "displayName": "Jose Luis Ojeda",
      "photoUrl": "https://lh3.googleusercontent.com/a-/AOh14GioxvwskRaM2HjJwQ_L936mkRS1wMOHPWrqOWUffw=s64",
      "userId": "12240071782040482724"
     },
     "user_tz": 300
    },
    "id": "BVdHEMiERVXB",
    "outputId": "e3e072b1-7142-48d5-be7a-5fa8c94b70fa"
   },
   "outputs": [
    {
     "name": "stdout",
     "output_type": "stream",
     "text": [
      "2021-10-19 16:48:14.313673\n",
      "16:48:14\n"
     ]
    }
   ],
   "source": [
    "fecha1 = datetime.now() - timedelta(hours=5)\n",
    "print(fecha1)\n",
    "fecha1 = fecha1.strftime(\"%X\")\n",
    "print(fecha1)"
   ]
  },
  {
   "cell_type": "code",
   "execution_count": 23,
   "metadata": {
    "colab": {
     "base_uri": "https://localhost:8080/"
    },
    "executionInfo": {
     "elapsed": 336,
     "status": "ok",
     "timestamp": 1634680129586,
     "user": {
      "displayName": "Jose Luis Ojeda",
      "photoUrl": "https://lh3.googleusercontent.com/a-/AOh14GioxvwskRaM2HjJwQ_L936mkRS1wMOHPWrqOWUffw=s64",
      "userId": "12240071782040482724"
     },
     "user_tz": 300
    },
    "id": "VbrmNRJiRdFM",
    "outputId": "6f760870-a9bc-4afc-8982-67a215bee0b0"
   },
   "outputs": [
    {
     "name": "stdout",
     "output_type": "stream",
     "text": [
      "2021-10-19 16:48:49.243239\n",
      "2021\n"
     ]
    }
   ],
   "source": [
    "fecha1 = datetime.now() - timedelta(hours=5)\n",
    "print(fecha1)\n",
    "fecha1 = fecha1.strftime(\"%Y\")\n",
    "print(fecha1)"
   ]
  },
  {
   "cell_type": "markdown",
   "metadata": {
    "tags": []
   },
   "source": [
    "## Formateos\n",
    "### Formato automático ISO (Organización Internacional de Normalización) "
   ]
  },
  {
   "cell_type": "code",
   "execution_count": 24,
   "metadata": {
    "tags": []
   },
   "outputs": [],
   "source": [
    "dt = datetime.datetime.now()"
   ]
  },
  {
   "cell_type": "code",
   "execution_count": 25,
   "metadata": {
    "collapsed": false,
    "jupyter": {
     "outputs_hidden": false
    }
   },
   "outputs": [
    {
     "data": {
      "text/plain": [
       "'2021-12-16T23:12:05.010677'"
      ]
     },
     "execution_count": 25,
     "metadata": {},
     "output_type": "execute_result"
    }
   ],
   "source": [
    "dt.isoformat()"
   ]
  },
  {
   "cell_type": "markdown",
   "metadata": {},
   "source": [
    "### Formateo munual (inglés por defecto)\n",
    "https://docs.python.org/3/library/datetime.html#strftime-and-strptime-behavior"
   ]
  },
  {
   "cell_type": "code",
   "execution_count": 26,
   "metadata": {
    "collapsed": false,
    "jupyter": {
     "outputs_hidden": false
    }
   },
   "outputs": [
    {
     "data": {
      "text/plain": [
       "'Thursday 16 December 2021 11:12'"
      ]
     },
     "execution_count": 26,
     "metadata": {},
     "output_type": "execute_result"
    }
   ],
   "source": [
    "dt.strftime(\"%A %d %B %Y %I:%M\")"
   ]
  },
  {
   "cell_type": "markdown",
   "metadata": {},
   "source": [
    "### Códigos de idiomas\n",
    "https://msdn.microsoft.com/es-es/es/library/cdax410z.aspx"
   ]
  },
  {
   "cell_type": "code",
   "execution_count": 27,
   "metadata": {
    "tags": []
   },
   "outputs": [],
   "source": [
    "import locale"
   ]
  },
  {
   "cell_type": "code",
   "execution_count": 28,
   "metadata": {
    "collapsed": false,
    "jupyter": {
     "outputs_hidden": false
    }
   },
   "outputs": [
    {
     "data": {
      "text/plain": [
       "'es-ES'"
      ]
     },
     "execution_count": 28,
     "metadata": {},
     "output_type": "execute_result"
    }
   ],
   "source": [
    "locale.setlocale(locale.LC_ALL, 'es-ES') # Establece idioma en \"es-ES\" (español de España)"
   ]
  },
  {
   "cell_type": "code",
   "execution_count": 29,
   "metadata": {
    "collapsed": false,
    "jupyter": {
     "outputs_hidden": false
    }
   },
   "outputs": [
    {
     "data": {
      "text/plain": [
       "'jueves 16 diciembre 2021 11:12'"
      ]
     },
     "execution_count": 29,
     "metadata": {},
     "output_type": "execute_result"
    }
   ],
   "source": [
    "dt.strftime(\"%A %d %B %Y %I:%M\")"
   ]
  },
  {
   "cell_type": "code",
   "execution_count": 30,
   "metadata": {
    "collapsed": false,
    "jupyter": {
     "outputs_hidden": false
    }
   },
   "outputs": [
    {
     "data": {
      "text/plain": [
       "'jueves 16 de diciembre del 2021 - 23:12'"
      ]
     },
     "execution_count": 30,
     "metadata": {},
     "output_type": "execute_result"
    }
   ],
   "source": [
    "dt.strftime(\"%A %d de %B del %Y - %H:%M\") # %I 12h - %H 24h"
   ]
  },
  {
   "cell_type": "markdown",
   "metadata": {},
   "source": [
    "## Sumando y restando tiempo con timedelta"
   ]
  },
  {
   "cell_type": "code",
   "execution_count": 31,
   "metadata": {
    "collapsed": false,
    "jupyter": {
     "outputs_hidden": false
    }
   },
   "outputs": [],
   "source": [
    "dt = datetime.datetime.now()"
   ]
  },
  {
   "cell_type": "code",
   "execution_count": 32,
   "metadata": {
    "collapsed": false,
    "jupyter": {
     "outputs_hidden": false
    }
   },
   "outputs": [
    {
     "data": {
      "text/plain": [
       "datetime.datetime(2021, 12, 16, 23, 14, 57, 487942)"
      ]
     },
     "execution_count": 32,
     "metadata": {},
     "output_type": "execute_result"
    }
   ],
   "source": [
    "dt"
   ]
  },
  {
   "cell_type": "code",
   "execution_count": 33,
   "metadata": {
    "tags": []
   },
   "outputs": [],
   "source": [
    "t = datetime.timedelta(days=14, hours=4, seconds=1000)"
   ]
  },
  {
   "cell_type": "code",
   "execution_count": 35,
   "metadata": {
    "tags": []
   },
   "outputs": [],
   "source": [
    "dentro_de_dos_semanas = dt + t"
   ]
  },
  {
   "cell_type": "code",
   "execution_count": 36,
   "metadata": {
    "collapsed": false,
    "jupyter": {
     "outputs_hidden": false
    }
   },
   "outputs": [
    {
     "data": {
      "text/plain": [
       "datetime.datetime(2021, 12, 31, 3, 31, 37, 487942)"
      ]
     },
     "execution_count": 36,
     "metadata": {},
     "output_type": "execute_result"
    }
   ],
   "source": [
    "dentro_de_dos_semanas"
   ]
  },
  {
   "cell_type": "code",
   "execution_count": 37,
   "metadata": {
    "collapsed": false,
    "jupyter": {
     "outputs_hidden": false
    }
   },
   "outputs": [
    {
     "data": {
      "text/plain": [
       "'viernes 31 de diciembre del 2021 - 03:31'"
      ]
     },
     "execution_count": 37,
     "metadata": {},
     "output_type": "execute_result"
    }
   ],
   "source": [
    "dentro_de_dos_semanas.strftime(\"%A %d de %B del %Y - %H:%M\")"
   ]
  },
  {
   "cell_type": "code",
   "execution_count": 39,
   "metadata": {
    "tags": []
   },
   "outputs": [],
   "source": [
    "hace_dos_semanas = dt - t"
   ]
  },
  {
   "cell_type": "code",
   "execution_count": 40,
   "metadata": {
    "collapsed": false,
    "jupyter": {
     "outputs_hidden": false
    }
   },
   "outputs": [
    {
     "data": {
      "text/plain": [
       "'jueves 02 de diciembre del 2021 - 18:58'"
      ]
     },
     "execution_count": 40,
     "metadata": {},
     "output_type": "execute_result"
    }
   ],
   "source": [
    "hace_dos_semanas.strftime(\"%A %d de %B del %Y - %H:%M\")"
   ]
  },
  {
   "cell_type": "markdown",
   "metadata": {},
   "source": [
    "## Extra: Zonas horarias con pytz\n",
    "*pip3 install pytz*"
   ]
  },
  {
   "cell_type": "code",
   "execution_count": 41,
   "metadata": {
    "tags": []
   },
   "outputs": [],
   "source": [
    "import pytz"
   ]
  },
  {
   "cell_type": "code",
   "execution_count": null,
   "metadata": {
    "collapsed": false,
    "jupyter": {
     "outputs_hidden": false
    }
   },
   "outputs": [],
   "source": [
    "pytz.all_timezones"
   ]
  },
  {
   "cell_type": "code",
   "execution_count": 42,
   "metadata": {
    "tags": []
   },
   "outputs": [],
   "source": [
    "dt = datetime.datetime.now(pytz.timezone('Asia/Tokyo'))"
   ]
  },
  {
   "cell_type": "code",
   "execution_count": 43,
   "metadata": {
    "collapsed": false,
    "jupyter": {
     "outputs_hidden": false
    }
   },
   "outputs": [
    {
     "data": {
      "text/plain": [
       "'viernes 17 de diciembre del 2021 - 13:17'"
      ]
     },
     "execution_count": 43,
     "metadata": {},
     "output_type": "execute_result"
    }
   ],
   "source": [
    "dt.strftime(\"%A %d de %B del %Y - %H:%M\") # %I 12h - %H 24h"
   ]
  },
  {
   "cell_type": "markdown",
   "metadata": {},
   "source": [
    "## ***Generando fechas con un día fijo***\n",
    "\n",
    "Supongamos que queremos generar 5 fechas de meses sucesivos con el mismo día, digamos 20 de cada mes\n",
    "Inciamos el día de hoy pero no vamos a incluir el día 20 del mes actual, si no que se iniciará con el mes siguiente"
   ]
  },
  {
   "cell_type": "code",
   "execution_count": 2,
   "metadata": {},
   "outputs": [
    {
     "name": "stdout",
     "output_type": "stream",
     "text": [
      "[datetime.datetime(2021, 12, 20, 0, 0)\n",
      " datetime.datetime(2022, 1, 20, 0, 0) datetime.datetime(2022, 2, 20, 0, 0)\n",
      " datetime.datetime(2022, 3, 20, 0, 0) datetime.datetime(2022, 4, 20, 0, 0)]\n"
     ]
    }
   ],
   "source": [
    "import numpy as np\n",
    "from datetime import datetime, date, time, timedelta\n",
    "\n",
    "ahora = datetime.now() \n",
    "mes = ahora.month\n",
    "año = ahora.year\n",
    "\n",
    "fechas = np.array([])\n",
    "\n",
    "mesSgte = mes\n",
    "añoSgte = año\n",
    "for i in range(1,6):\n",
    "    if mesSgte + 1 == 13:\n",
    "        mesSgte = 1\n",
    "        añoSgte += 1\n",
    "    else:\n",
    "        mesSgte +=1\n",
    "    \n",
    "    # fechaSgte = datetime(añoSgte, mesSgte, aquí dia fijo, 0, 0, 0)\n",
    "    fechaSgte = datetime(añoSgte, mesSgte, 20, 0, 0, 0)\n",
    "    fechas = np.append(fechas, fechaSgte)\n",
    "    \n",
    "print(fechas)\n"
   ]
  },
  {
   "cell_type": "markdown",
   "metadata": {},
   "source": [
    "## Hallando la diferencia de días entre las fechas con día fijo generadas y \"ahora\"\n",
    "\n",
    "Si ademas de lo anterior necesitamos crear un arreglo con la diferencia de fechas entre esas fechas y la fecha actual, el código sería"
   ]
  },
  {
   "cell_type": "code",
   "execution_count": 9,
   "metadata": {},
   "outputs": [
    {
     "name": "stdout",
     "output_type": "stream",
     "text": [
      "[datetime.datetime(2021, 12, 20, 0, 0)\n",
      " datetime.datetime(2022, 1, 20, 0, 0) datetime.datetime(2022, 2, 20, 0, 0)\n",
      " datetime.datetime(2022, 3, 20, 0, 0) datetime.datetime(2022, 4, 20, 0, 0)]\n",
      "[ 48.  79. 110. 138. 169.]\n"
     ]
    }
   ],
   "source": [
    "import numpy as np\n",
    "from datetime import datetime, date, time, timedelta\n",
    "\n",
    "ahora = datetime.now() \n",
    "mes = ahora.month\n",
    "año = ahora.year\n",
    "\n",
    "fechas = np.array([])\n",
    "n1 = np.array([])\n",
    "\n",
    "mesSgte = mes\n",
    "añoSgte = año\n",
    "for i in range(1,6):\n",
    "    if mesSgte + 1 == 13:\n",
    "        mesSgte = 1\n",
    "        añoSgte += 1\n",
    "    else:\n",
    "        mesSgte +=1\n",
    "    \n",
    "    # fechaSgte = datetime(añoSgte, mesSgte, aquí dia fijo, 0, 0, 0)\n",
    "    fechaSgte = datetime(añoSgte, mesSgte, 20, 0, 0, 0)\n",
    "    fechas = np.append(fechas, fechaSgte)\n",
    "    dif = (fechaSgte - ahora).days\n",
    "    n1 = np.append(n1, dif)\n",
    "                       \n",
    "    \n",
    "print(fechas)\n",
    "print(n1)\n"
   ]
  },
  {
   "cell_type": "markdown",
   "metadata": {},
   "source": [
    "Supongamos que queremos generar un arreglo, cuyo primer elemento sea el primer elemento del arreglo n1\n",
    "Los siguientes serán las diferencias entre las fechas del arreglo fechas"
   ]
  },
  {
   "cell_type": "code",
   "execution_count": 11,
   "metadata": {},
   "outputs": [
    {
     "name": "stdout",
     "output_type": "stream",
     "text": [
      "[48. 31. 31. 28. 31.]\n"
     ]
    }
   ],
   "source": [
    "d1 = np.array([])\n",
    "for i in range(5):\n",
    "    if i == 0:\n",
    "        d1 = np.append(d1, n1[0])\n",
    "    else:\n",
    "        dif = (fechas[i] - fechas[i-1]).days\n",
    "        d1 = np.append(d1, dif)\n",
    "        \n",
    "print(d1)\n"
   ]
  }
 ],
 "metadata": {
  "colab": {
   "collapsed_sections": [],
   "name": "IN51-Clase-20211019.ipynb",
   "provenance": []
  },
  "kernelspec": {
   "display_name": "Python 3 (ipykernel)",
   "language": "python",
   "name": "python3"
  },
  "language_info": {
   "codemirror_mode": {
    "name": "ipython",
    "version": 3
   },
   "file_extension": ".py",
   "mimetype": "text/x-python",
   "name": "python",
   "nbconvert_exporter": "python",
   "pygments_lexer": "ipython3",
   "version": "3.10.0"
  }
 },
 "nbformat": 4,
 "nbformat_minor": 4
}
