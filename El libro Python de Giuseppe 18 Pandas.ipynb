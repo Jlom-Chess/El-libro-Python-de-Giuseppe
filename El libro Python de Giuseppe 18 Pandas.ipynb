{
 "cells": [
  {
   "cell_type": "markdown",
   "metadata": {
    "id": "GvEhzLGU7npw"
   },
   "source": [
    "# **Pandas**"
   ]
  },
  {
   "cell_type": "markdown",
   "metadata": {
    "id": "s9vE-N7O7-d4"
   },
   "source": [
    "## ***Tipos de datos de Pandas***\n",
    "#### Pandas dispone de tres estructuras de datos diferentes:\n",
    "\n",
    "* **Series**: Estructura de una dimensión, anáñogo a una columna de hoja de cálculo\n",
    "\n",
    "* **DataFrame**: Estructura de dos dimensiones (tablas). Análogo a una hoja de cálculo\n",
    "\n",
    "* **Panel**: Estructura de tres dimensiones (cubos). Análogo a multiples hojas de cálculo\n",
    "\n",
    "#### Estas estructuras se construyen a partir de arrays de la librería NumPy, añadiendo nuevas funcionalidades."
   ]
  },
  {
   "cell_type": "markdown",
   "metadata": {
    "id": "yYkpoiHV8hhv"
   },
   "source": [
    "## ***La clase de objetos Series***\n",
    "Son estructuras similares a los arrays de una dimensión. Son homogéneas, es decir, sus elementos tienen que ser del mismo tipo, y su tamaño es inmutable, es decir, no se puede cambiar, aunque si su contenido.\n",
    "\n",
    "Dispone de un índice que asocia un nombre a cada elemento del la serie, a través de la cuál se accede al elemento.\n",
    "\n",
    "Ejemplo. La siguiente serie contiene las asignaturas de un curso.\n",
    "```\n",
    "Índice  -->      A1          A2          A3        A4\n",
    "Valores --> Matemáticas  Economía  Programación  Inglés\n",
    "```"
   ]
  },
  {
   "cell_type": "markdown",
   "metadata": {
    "id": "gfqtys8w97eJ"
   },
   "source": [
    "### ***Creación de una serie a partir de una lista***\n",
    "**Series(data=lista, index=indices, dtype=tipo)**\n",
    "\n",
    "Devuelve un objeto de tipo Series con los datos de la lista lista, las filas especificados en la lista indices y el tipo de datos indicado en tipo. Si no se pasa la lista de índices se utilizan como índices los enteros del ***0 al n-1***, donde ***n*** es el tamaño de la serie. Si no se pasa el tipo de dato se infiere."
   ]
  },
  {
   "cell_type": "code",
   "execution_count": null,
   "metadata": {
    "colab": {
     "base_uri": "https://localhost:8080/"
    },
    "executionInfo": {
     "elapsed": 378,
     "status": "ok",
     "timestamp": 1635538637674,
     "user": {
      "displayName": "Jose Luis Ojeda",
      "photoUrl": "https://lh3.googleusercontent.com/a-/AOh14GioxvwskRaM2HjJwQ_L936mkRS1wMOHPWrqOWUffw=s64",
      "userId": "12240071782040482724"
     },
     "user_tz": 300
    },
    "id": "pXfh95Bv_Wom",
    "outputId": "32479ace-9e4a-4b76-c846-39db3f45afac"
   },
   "outputs": [],
   "source": [
    "import pandas as pd\n",
    "s = pd.Series(['Matemáticas', 'Historia', 'Economía', 'Programación',\n",
    "               'Inglés'], dtype='string')\n",
    "print(s)\n"
   ]
  },
  {
   "cell_type": "code",
   "execution_count": null,
   "metadata": {
    "colab": {
     "base_uri": "https://localhost:8080/"
    },
    "executionInfo": {
     "elapsed": 472,
     "status": "ok",
     "timestamp": 1635262437824,
     "user": {
      "displayName": "Jose Luis Ojeda",
      "photoUrl": "https://lh3.googleusercontent.com/a-/AOh14GioxvwskRaM2HjJwQ_L936mkRS1wMOHPWrqOWUffw=s64",
      "userId": "12240071782040482724"
     },
     "user_tz": 300
    },
    "id": "Y_LZDyHMUyDI",
    "outputId": "70acc0de-0281-4d59-a6d4-030ec8834b51"
   },
   "outputs": [],
   "source": [
    "import pandas as pd\n",
    "songs2 = pd.Series([145, 142, 38, 13], name='counts')\n",
    "songs2"
   ]
  },
  {
   "cell_type": "markdown",
   "metadata": {
    "id": "5qy4lqG4V6d7"
   },
   "source": [
    "#### Cuando el intérprete imprime la serie, pandas hace todo lo posible por formatearla para el tamaño de terminal actual. La columna más a la izquierda es la columna de índice que contiene entradas para el índice. El nombre genérico de un índice es un eje, y los valores del índice (0, 1, 2, 3) se denominan etiquetas de eje. La estructura bidimensional de los pandas, un DataFrame, tiene dos ejes, uno para las filas y otro para las columnas."
   ]
  },
  {
   "cell_type": "markdown",
   "metadata": {
    "id": "UldKwXvHWLj5"
   },
   "source": [
    "![panda02.jpg](data:image/jpeg;base64,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)"
   ]
  },
  {
   "cell_type": "markdown",
   "metadata": {
    "id": "5vV-LiRQWuai"
   },
   "source": [
    "#### La columna más a la derecha de la salida contiene los valores de la serie. En este caso, son números enteros (la representación de la consola dice dtype: int64, dtype que significa tipo de datos e int64 que significa un entero de 64 bits), pero en general los valores de una serie pueden contener cadenas, flotantes, booleanos u objetos de Python arbitrarios. Para obtener la mejor velocidad (como operaciones vectorizadas), los valores deben ser del mismo tipo, aunque esto no es obligatorio. Es fácil inspeccionar el índice de una serie (o marco de datos), ya que es un atributo del objeto:"
   ]
  },
  {
   "cell_type": "code",
   "execution_count": null,
   "metadata": {
    "colab": {
     "base_uri": "https://localhost:8080/"
    },
    "executionInfo": {
     "elapsed": 482,
     "status": "ok",
     "timestamp": 1635262444378,
     "user": {
      "displayName": "Jose Luis Ojeda",
      "photoUrl": "https://lh3.googleusercontent.com/a-/AOh14GioxvwskRaM2HjJwQ_L936mkRS1wMOHPWrqOWUffw=s64",
      "userId": "12240071782040482724"
     },
     "user_tz": 300
    },
    "id": "Evrd4JyaWQ_U",
    "outputId": "98875fe1-0607-474e-9b20-ca693937d5b8"
   },
   "outputs": [],
   "source": [
    "songs2.index\n"
   ]
  },
  {
   "cell_type": "markdown",
   "metadata": {
    "id": "OgdhLqDYXh_y"
   },
   "source": [
    "### El índice también puede estar basado en cadenas, en cuyo caso pandas indica que el tipo de datos para el índice es un objeto (no una cadena)\n",
    "### Tenga en cuenta que el dtype que vemos cuando imprimimos una serie es el tipo de los valores, no del índice:"
   ]
  },
  {
   "cell_type": "code",
   "execution_count": null,
   "metadata": {
    "colab": {
     "base_uri": "https://localhost:8080/"
    },
    "executionInfo": {
     "elapsed": 456,
     "status": "ok",
     "timestamp": 1635262569703,
     "user": {
      "displayName": "Jose Luis Ojeda",
      "photoUrl": "https://lh3.googleusercontent.com/a-/AOh14GioxvwskRaM2HjJwQ_L936mkRS1wMOHPWrqOWUffw=s64",
      "userId": "12240071782040482724"
     },
     "user_tz": 300
    },
    "id": "tx6BmETjXjtA",
    "outputId": "6275d845-32a9-4b9b-b70c-a7174089d202"
   },
   "outputs": [],
   "source": [
    "songs3 = pd.Series([145, 142, 38, 13],\n",
    "                   name='counts',\n",
    "                   index=['Paul', 'John', 'George', 'Ringo'])\n",
    "\n",
    "songs3\n"
   ]
  },
  {
   "cell_type": "markdown",
   "metadata": {
    "id": "-A36ag_QY0Au"
   },
   "source": [
    "Cuando inspeccionamos el atributo index, vemos que el dtype es object:"
   ]
  },
  {
   "cell_type": "code",
   "execution_count": null,
   "metadata": {
    "colab": {
     "base_uri": "https://localhost:8080/"
    },
    "executionInfo": {
     "elapsed": 372,
     "status": "ok",
     "timestamp": 1634057067542,
     "user": {
      "displayName": "Jose Luis Ojeda",
      "photoUrl": "https://lh3.googleusercontent.com/a-/AOh14GioxvwskRaM2HjJwQ_L936mkRS1wMOHPWrqOWUffw=s64",
      "userId": "12240071782040482724"
     },
     "user_tz": 300
    },
    "id": "DFdm869AYjU_",
    "outputId": "226db107-9d98-4d1b-82c4-dfaeb2926182"
   },
   "outputs": [],
   "source": [
    "songs3.index\n"
   ]
  },
  {
   "cell_type": "markdown",
   "metadata": {
    "id": "NbwjEjYx_nGP"
   },
   "source": [
    "### ***Creación de una serie a partir de un diccionario***\n",
    "**Series(data=diccionario, index=indices)**\n",
    "\n",
    "Devuelve un objeto de tipo Series con los valores del diccionario y las filas especificados en la lista indices. Si no se pasa la lista de índices se utilizan como índices las claves del diccionario."
   ]
  },
  {
   "cell_type": "code",
   "execution_count": null,
   "metadata": {
    "colab": {
     "base_uri": "https://localhost:8080/"
    },
    "executionInfo": {
     "elapsed": 576,
     "status": "ok",
     "timestamp": 1635538741316,
     "user": {
      "displayName": "Jose Luis Ojeda",
      "photoUrl": "https://lh3.googleusercontent.com/a-/AOh14GioxvwskRaM2HjJwQ_L936mkRS1wMOHPWrqOWUffw=s64",
      "userId": "12240071782040482724"
     },
     "user_tz": 300
    },
    "id": "5zRRm0GI_7Tq",
    "outputId": "9417ca1c-19a1-4ce9-9800-bc8e6cd1134b"
   },
   "outputs": [],
   "source": [
    "import pandas as pd\n",
    "s = pd.Series({'Matemáticas': 6.0,  'Economía': 4.5, 'Programación': 8.5})\n",
    "print(s)\n"
   ]
  },
  {
   "cell_type": "markdown",
   "metadata": {
    "id": "POItqskjU6wK"
   },
   "source": [
    "### ***Creación de una serie a partir de un array numpy***"
   ]
  },
  {
   "cell_type": "code",
   "execution_count": null,
   "metadata": {
    "colab": {
     "base_uri": "https://localhost:8080/"
    },
    "executionInfo": {
     "elapsed": 338,
     "status": "ok",
     "timestamp": 1635538914909,
     "user": {
      "displayName": "Jose Luis Ojeda",
      "photoUrl": "https://lh3.googleusercontent.com/a-/AOh14GioxvwskRaM2HjJwQ_L936mkRS1wMOHPWrqOWUffw=s64",
      "userId": "12240071782040482724"
     },
     "user_tz": 300
    },
    "id": "Tap5r8dqVFi4",
    "outputId": "4f98de1d-339d-46a9-881b-8a9873304735"
   },
   "outputs": [],
   "source": [
    "import pandas as pd\n",
    "import numpy as np\n",
    "\n",
    "arr = np.array([1, 2, 3, 4, 5])\n",
    "indices = ['R1', 'R2', 'R3', 'R4', 'R5']\n",
    "s = pd.Series(arr, index=indices)\n",
    "print(s)"
   ]
  },
  {
   "cell_type": "markdown",
   "metadata": {
    "id": "pdj7ssHLBErO"
   },
   "source": [
    "### ***Acceso a los elementos de una serie***\n",
    "El acceso a los elementos de un objeto del tipo Series puede ser a través de posiciones o través de índices (nombres)."
   ]
  },
  {
   "cell_type": "code",
   "execution_count": null,
   "metadata": {
    "colab": {
     "base_uri": "https://localhost:8080/"
    },
    "executionInfo": {
     "elapsed": 330,
     "status": "ok",
     "timestamp": 1635539085887,
     "user": {
      "displayName": "Jose Luis Ojeda",
      "photoUrl": "https://lh3.googleusercontent.com/a-/AOh14GioxvwskRaM2HjJwQ_L936mkRS1wMOHPWrqOWUffw=s64",
      "userId": "12240071782040482724"
     },
     "user_tz": 300
    },
    "id": "yHYkPN1ZBCCy",
    "outputId": "19da8d2f-7d00-48c1-e4ba-6f285f2ac2cc"
   },
   "outputs": [],
   "source": [
    "s = pd.Series({'Matemáticas': 6.0,  'Economía': 4.5, 'Programación': 8.5})\n",
    "print(s[1:3])\n",
    "\n",
    "a = s['Economía']\n",
    "print(a)\n",
    "\n",
    "print(s[['Programación', 'Matemáticas']])\n"
   ]
  },
  {
   "cell_type": "markdown",
   "metadata": {
    "id": "016tmwQxCWp9"
   },
   "source": [
    "### ***Resumen descriptivo de una serie***\n",
    "#### Las siguientes funciones permiten resumir varios aspectos de una serie:\n",
    "\n",
    "**s.count()**: Devuelve el número de elementos que no son nulos ni NaN en la serie s.\n",
    "\n",
    "**s.sum()**: Devuelve la suma de los datos de la serie s cuando los datos son de un tipo numérico, o la concatenación de ellos cuando son del tipo cadena str.\n",
    "\n",
    "**s.cumsum()**: Devuelve una serie con la suma acumulada de los datos de la serie s cuando los datos son de un tipo numérico.\n",
    "\n",
    "**s.value_counts()**: Devuelve una serie con la frecuencia (número de repeticiones) de cada valor de la serie s.\n",
    "\n",
    "**s.min()**: Devuelve el menor de los datos de la serie s.\n",
    "\n",
    "**s.max()**: Devuelve el mayor de los datos de la serie s.\n",
    "\n",
    "**s.mean()**: Devuelve la media de los datos de la serie s cuando los datos son de un tipo numérico.\n",
    "\n",
    "**s.std()**: Devuelve la desviación típica de los datos de la serie s cuando los datos son de un tipo numérico.\n",
    "\n",
    "**s.describe()**: Devuelve una serie con un resumen descriptivo que incluye el número de datos, su suma, el mínimo, el máximo, la media, la desviación típica y los cuartiles."
   ]
  },
  {
   "cell_type": "code",
   "execution_count": null,
   "metadata": {
    "colab": {
     "base_uri": "https://localhost:8080/"
    },
    "executionInfo": {
     "elapsed": 315,
     "status": "ok",
     "timestamp": 1635539248956,
     "user": {
      "displayName": "Jose Luis Ojeda",
      "photoUrl": "https://lh3.googleusercontent.com/a-/AOh14GioxvwskRaM2HjJwQ_L936mkRS1wMOHPWrqOWUffw=s64",
      "userId": "12240071782040482724"
     },
     "user_tz": 300
    },
    "id": "-vvaw4jMCpmQ",
    "outputId": "90240225-874a-4260-eaaa-d0f36fca1a07"
   },
   "outputs": [],
   "source": [
    "import pandas as pd\n",
    "s = pd.Series([1, 1, 1, 1, 2, 2, 2, 3, 3, 4])\n",
    "print(s.count())\n",
    "\n",
    "print(s.sum())\n",
    "\n",
    "print(s.cumsum())\n",
    "\n",
    "print(s.value_counts())\n",
    "\n",
    "print(s.value_counts(normalize=True))\n",
    "\n",
    "print(s.min())\n",
    "\n",
    "print(s.max())\n",
    "\n",
    "print(s.mean())\n",
    "\n",
    "print(s.std())\n",
    "\n",
    "print(s.describe())\n"
   ]
  },
  {
   "cell_type": "markdown",
   "metadata": {
    "id": "jHs9pc-xHqzr"
   },
   "source": [
    "### ***Filtrado de una serie***\n",
    "Para filtrar una serie y quedarse con los valores que cumplen una determinada condición se utiliza el siguiente método:\n",
    "\n",
    "***s[condicion]***\n",
    "\n",
    "Devuelve una serie con los elementos de la serie s que se corresponden con el valor True de la lista booleana condicion. condicion debe ser una lista de valores booleanos de la misma longitud que la serie."
   ]
  },
  {
   "cell_type": "code",
   "execution_count": null,
   "metadata": {
    "colab": {
     "base_uri": "https://localhost:8080/"
    },
    "executionInfo": {
     "elapsed": 374,
     "status": "ok",
     "timestamp": 1635539558340,
     "user": {
      "displayName": "Jose Luis Ojeda",
      "photoUrl": "https://lh3.googleusercontent.com/a-/AOh14GioxvwskRaM2HjJwQ_L936mkRS1wMOHPWrqOWUffw=s64",
      "userId": "12240071782040482724"
     },
     "user_tz": 300
    },
    "id": "w40cXcoDH9mz",
    "outputId": "467cd8a1-c672-4022-a453-c2e124a49866"
   },
   "outputs": [],
   "source": [
    "import pandas as pd\n",
    "s = pd.Series({'Matemáticas': 6.0,  'Economía': 4.5, 'Programación': 8.5})\n",
    "print(s[s > 5])\n"
   ]
  },
  {
   "cell_type": "markdown",
   "metadata": {
    "id": "eR2aSAeIIE96"
   },
   "source": [
    "### ***Ordenar una serie***\n",
    "Para ordenar una serie se utilizan los siguientes métodos:\n",
    "\n",
    "**s.sort_values(ascending=booleano)**\n",
    "\n",
    "Devuelve la serie que resulta de ordenar los valores la serie s. Si argumento del parámetro ascending es True el orden es creciente y si es False decreciente.\n",
    "\n",
    "**df.sort_index(ascending=booleano)**\n",
    "\n",
    "Devuelve la serie que resulta de ordenar el índice de la serie s. Si el argumento del parámetro ascending es True el orden es creciente y si es False decreciente."
   ]
  },
  {
   "cell_type": "code",
   "execution_count": null,
   "metadata": {
    "colab": {
     "base_uri": "https://localhost:8080/"
    },
    "executionInfo": {
     "elapsed": 311,
     "status": "ok",
     "timestamp": 1635539643146,
     "user": {
      "displayName": "Jose Luis Ojeda",
      "photoUrl": "https://lh3.googleusercontent.com/a-/AOh14GioxvwskRaM2HjJwQ_L936mkRS1wMOHPWrqOWUffw=s64",
      "userId": "12240071782040482724"
     },
     "user_tz": 300
    },
    "id": "Dmi5Hew-IWRJ",
    "outputId": "2a59413e-19c3-4282-a55e-0d6871719236"
   },
   "outputs": [],
   "source": [
    "import pandas as pd\n",
    "s = pd.Series({'Matemáticas': 6.0,  'Economía': 4.5, 'Programación': 8.5})\n",
    "print(s.sort_values())\n",
    "print(s.sort_values(ascending = False))\n",
    "\n",
    "print(s.sort_index())\n",
    "print(s.sort_index(ascending = False))\n"
   ]
  },
  {
   "cell_type": "markdown",
   "metadata": {
    "id": "9NLkLWOQLX9W"
   },
   "source": [
    "##  **La clase de objetos DataFrame**\n",
    "Un objeto del tipo DataFrame define un conjunto de datos estructurado en forma de tabla donde cada columna es un objeto de tipo Series, es decir, todos los datos de una misma columna son del mismo tipo, y las filas son registros que pueden contender datos de distintos tipos.\n",
    "\n",
    "Un DataFrame contiene dos índices, uno para las filas y otro para las columnas, y se puede acceder a sus elementos mediante los nombres de las filas y las columnas.\n",
    "\n",
    "Ejemplo. El siguiente DataFrame contiene información sobre los alumnos de un curso. Cada fila corresponde a un alumno y cada columna a una variable."
   ]
  },
  {
   "cell_type": "markdown",
   "metadata": {
    "id": "8RBi2UwDL9vt"
   },
   "source": [
    "![pandas01.jpg](data:image/jpeg;base64,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)"
   ]
  },
  {
   "cell_type": "markdown",
   "metadata": {
    "id": "Je710v7yMN5s"
   },
   "source": [
    "#### ***Creación de un DataFrame a partir de un diccionario***\n",
    "Para crear un **DataFrame** a partir de un diccionario cuyas claves son los nombres de las columnas y los valores son listas con los datos de las columnas se utiliza el método:\n",
    "\n",
    "***DataFrame(data=diccionario, index=filas, columns=columnas, dtype=tipos)***\n",
    "\n",
    "Devuelve un objeto del tipo **DataFrame** \n",
    "* cuyas columnas son las listas contenidas en los valores del diccionario diccionario\n",
    "\n",
    "* los nombres de filas indicados en la lista filas\n",
    "\n",
    "* los nombres de columnas indicados en la lista columnas\n",
    "\n",
    "* y los tipos indicados en la lista tipos. \n",
    "\n",
    "La lista filas tiene que tener el mismo tamaño que las listas del diccionario, mientras que las listas columnas y tipos tienen que tener el mismo tamaño que el diccionario. Si no se pasa la lista de filas se utilizan como nombres los enteros empezando en 0. Si no se pasa la lista de columnas se utilizan como nombres las claves del diccionario. Si no se pasa la lista de tipos, se infiere.\n",
    "Los valores asociados a las claves del diccionario deben ser listas del mismo tamaño."
   ]
  },
  {
   "cell_type": "code",
   "execution_count": null,
   "metadata": {
    "colab": {
     "base_uri": "https://localhost:8080/"
    },
    "executionInfo": {
     "elapsed": 336,
     "status": "ok",
     "timestamp": 1635539843760,
     "user": {
      "displayName": "Jose Luis Ojeda",
      "photoUrl": "https://lh3.googleusercontent.com/a-/AOh14GioxvwskRaM2HjJwQ_L936mkRS1wMOHPWrqOWUffw=s64",
      "userId": "12240071782040482724"
     },
     "user_tz": 300
    },
    "id": "UR2-lUHyLXYV",
    "outputId": "2bf7cd08-8d0c-4466-d311-83f0bcc05163"
   },
   "outputs": [],
   "source": [
    " import pandas as pd\n",
    "datos = {'nombre':['María', 'Luis', 'Carmen', 'Antonio'],\n",
    "         'edad':[18, 22, 20, 21],\n",
    "         'grado':['Economía', 'Medicina', 'Arquitectura', 'Economía'],\n",
    "         'correo':['maria@gmail.com', 'luis@yahoo.es', 'carmen@gmail.com',\n",
    "                   'antonio@gmail.com']\n",
    "         }\n",
    "df = pd.DataFrame(datos)\n",
    "print(df)"
   ]
  },
  {
   "cell_type": "markdown",
   "metadata": {
    "id": "sVvCciqVNyvd"
   },
   "source": [
    "#### ***Creación de un DataFrame a partir de una lista de listas***\n",
    "Para crear un DataFrame a partir de una lista de listas con los datos de las columnas se utiliza el siguiente método:\n",
    "\n",
    "***DataFrame(data=listas, index=filas, columns=columnas, dtype=tipos)***\n",
    "Devuelve un objeto del tipo DataFrame cuyas columnas son los valores de las listas de la lista listas, los nombres de filas indicados en la lista filas, los nombres de columnas indicados en la lista columnas y los tipos indicados en la lista tipos. La lista filas, tiene que tener el mismo tamaño que la lista listas mientras que las listas columnas y tipos tienen que tener el mismo tamaño que las listas anidadas en listas. Si no se pasa la lista de filas o de columnas se utilizan enteros empezando en 0. Si no se pasa la lista de tipos, se infiere.\n",
    "Si las listas anidadas en listas no tienen el mismo tamaño, las listas menores se rellenan con valores NaN."
   ]
  },
  {
   "cell_type": "code",
   "execution_count": null,
   "metadata": {
    "colab": {
     "base_uri": "https://localhost:8080/"
    },
    "executionInfo": {
     "elapsed": 314,
     "status": "ok",
     "timestamp": 1635540002862,
     "user": {
      "displayName": "Jose Luis Ojeda",
      "photoUrl": "https://lh3.googleusercontent.com/a-/AOh14GioxvwskRaM2HjJwQ_L936mkRS1wMOHPWrqOWUffw=s64",
      "userId": "12240071782040482724"
     },
     "user_tz": 300
    },
    "id": "1skiC-ztOQBS",
    "outputId": "185dce03-aaa8-4077-db71-ffe9e372d574"
   },
   "outputs": [],
   "source": [
    "import pandas as pd\n",
    "df = pd.DataFrame([['María', 18], \n",
    "                   ['Luis', 22], \n",
    "                   ['Carmen', 20]], \n",
    "                  columns=['Nombre', 'Edad'])\n",
    "print(df)\n"
   ]
  },
  {
   "cell_type": "markdown",
   "metadata": {
    "id": "cA98wX5sPh3C"
   },
   "source": [
    "#### ***Creación de un DataFrame a partir de un array***\n",
    "Para crear un DataFrame a partir de un array de NumPy se utiliza el siguiente método:\n",
    "\n",
    "***DataFrame(data=array, index=filas, columns=columnas, dtype=tipo)***\n",
    "\n",
    "Devuelde un objeto del tipo DataFrame cuyas filas y columnas son las del array, los nombres de filas indicados en la lista filas, los nombres de columnas indicados en la lista columnas y el tipo indicado en tipo. \n",
    "\n",
    "La lista filas tiene que tener el mismo tamaño que el número de filas del array y la lista columnas el mismo tamaño que el número de columnas del array. Si no se pasa la lista de filas se utilizan enteros empezando en 0. Si no se pasa la lista de columnas se utilizan las claves de los diccionarios. Si no se pasa la lista de tipos, se infiere."
   ]
  },
  {
   "cell_type": "code",
   "execution_count": null,
   "metadata": {
    "colab": {
     "base_uri": "https://localhost:8080/"
    },
    "executionInfo": {
     "elapsed": 305,
     "status": "ok",
     "timestamp": 1635540098147,
     "user": {
      "displayName": "Jose Luis Ojeda",
      "photoUrl": "https://lh3.googleusercontent.com/a-/AOh14GioxvwskRaM2HjJwQ_L936mkRS1wMOHPWrqOWUffw=s64",
      "userId": "12240071782040482724"
     },
     "user_tz": 300
    },
    "id": "0FswXZNwPxbM",
    "outputId": "632cb8d4-12b2-4708-f759-8cbd17bb33c4"
   },
   "outputs": [],
   "source": [
    "import pandas as pd\n",
    "import numpy as np\n",
    "df = pd.DataFrame(np.random.rand(4, 3), columns=['a', 'b', 'c'])\n",
    "print(df)\n"
   ]
  },
  {
   "cell_type": "markdown",
   "metadata": {
    "id": "e2zhckl3QH64"
   },
   "source": [
    "### ***Creación de un DataFrame a partir de un fichero CSV o Excel***\n",
    "Dependiendo del tipo de fichero, existen distintas funciones para importar un DataFrame desde un fichero.\n",
    "\n",
    "***read_csv(fichero.csv, sep=separador, header=n, index_col=m, na_values=no-validos, decimal=separador-decimal)***\n",
    "\n",
    "Devuelve un objeto del tipo DataFrame con los datos del fichero CSV fichero.csv usando como separador de los datos la cadena separador. Como nombres de columnas se utiliza los valores de la fila n y como nombres de filas los valores de la columna m. Si no se indica m se utilizan como nombres de filas los enteros empezando en 0. Los valores incluídos en la lista no-validos se convierten en NaN. Para los datos numéricos se utiliza como separador de decimales el carácter indicado en separador-decimal.\n",
    "\n",
    "***read_excel(fichero.xlsx, sheet_name=hoja, header=n, index_col=m, na_values=no-validos, decimal=separador-decimal)***\n",
    "\n",
    "Devuelve un objeto del tipo DataFrame con los datos de la hoja de cálculo hoja del fichero Excel fichero.xlsx. Como nombres de columnas se utiliza los valores de la fila n y como nombres de filas los valores de la columna m. Si no se indica m se utilizan como nombres de filas los enteros empezando en 0. Los valores incluídos en la lista no-validos se convierten en NaN. Para los datos numéricos se utiliza como separador de decimales el carácter indicado en separador-decimal."
   ]
  },
  {
   "cell_type": "markdown",
   "metadata": {
    "id": "oMIlhCpUQ8c4"
   },
   "source": [
    "#### **Para poder leer archivos en colab**"
   ]
  },
  {
   "cell_type": "code",
   "execution_count": null,
   "metadata": {
    "colab": {
     "base_uri": "https://localhost:8080/"
    },
    "executionInfo": {
     "elapsed": 37512,
     "status": "ok",
     "timestamp": 1635540654082,
     "user": {
      "displayName": "Jose Luis Ojeda",
      "photoUrl": "https://lh3.googleusercontent.com/a-/AOh14GioxvwskRaM2HjJwQ_L936mkRS1wMOHPWrqOWUffw=s64",
      "userId": "12240071782040482724"
     },
     "user_tz": 300
    },
    "id": "shy6RfXq7XN-",
    "outputId": "9aaffd4e-3aa9-46b8-f250-60dbbed3975c"
   },
   "outputs": [],
   "source": [
    "from google.colab import drive \n",
    "drive.mount('/content/gdrive', force_remount=True)\n"
   ]
  },
  {
   "cell_type": "code",
   "execution_count": null,
   "metadata": {
    "colab": {
     "base_uri": "https://localhost:8080/"
    },
    "executionInfo": {
     "elapsed": 310,
     "status": "ok",
     "timestamp": 1635540903771,
     "user": {
      "displayName": "Jose Luis Ojeda",
      "photoUrl": "https://lh3.googleusercontent.com/a-/AOh14GioxvwskRaM2HjJwQ_L936mkRS1wMOHPWrqOWUffw=s64",
      "userId": "12240071782040482724"
     },
     "user_tz": 300
    },
    "id": "9rXvUWWnRanP",
    "outputId": "e06afb12-807f-4d9e-ce8e-e67c88f5284f"
   },
   "outputs": [],
   "source": [
    " import pandas as pd\n",
    "# Importación del fichero datos-colesteroles.csv\n",
    "df = pd.read_csv('/content/gdrive/MyDrive/ArPd/colesteroles.csv',\n",
    "                 sep=';', decimal=',')\n",
    "# print(df.head())\n",
    "print(df)\n"
   ]
  },
  {
   "cell_type": "markdown",
   "metadata": {
    "id": "wuPCbrrzZ-4S"
   },
   "source": [
    "### ***Localizar valores en el dataframe***"
   ]
  },
  {
   "cell_type": "code",
   "execution_count": null,
   "metadata": {
    "id": "wNcOs8uTXlcs"
   },
   "outputs": [],
   "source": [
    "print(df.iloc[1, 3])\n",
    "\n",
    "print(df.iloc[1, :2])"
   ]
  },
  {
   "cell_type": "code",
   "execution_count": null,
   "metadata": {
    "colab": {
     "base_uri": "https://localhost:8080/"
    },
    "executionInfo": {
     "elapsed": 757,
     "status": "ok",
     "timestamp": 1635541573078,
     "user": {
      "displayName": "Jose Luis Ojeda",
      "photoUrl": "https://lh3.googleusercontent.com/a-/AOh14GioxvwskRaM2HjJwQ_L936mkRS1wMOHPWrqOWUffw=s64",
      "userId": "12240071782040482724"
     },
     "user_tz": 300
    },
    "id": "-24slMa3YJCO",
    "outputId": "8e268a88-5d6c-44fd-b0a4-10b0c0ca936d"
   },
   "outputs": [],
   "source": [
    "print(df.loc[2, 'colesterol'])\n",
    "\n",
    "print(df.loc[:3, ('colesterol','peso')])\n",
    "\n",
    "a = df['colesterol']\n",
    "print(a)\n",
    "\n",
    "print(max(a))"
   ]
  },
  {
   "cell_type": "code",
   "execution_count": null,
   "metadata": {
    "colab": {
     "base_uri": "https://localhost:8080/"
    },
    "executionInfo": {
     "elapsed": 864,
     "status": "ok",
     "timestamp": 1635541608275,
     "user": {
      "displayName": "Jose Luis Ojeda",
      "photoUrl": "https://lh3.googleusercontent.com/a-/AOh14GioxvwskRaM2HjJwQ_L936mkRS1wMOHPWrqOWUffw=s64",
      "userId": "12240071782040482724"
     },
     "user_tz": 300
    },
    "id": "NXS2bkh-ZO3U",
    "outputId": "d441eb16-6bb0-40ff-805c-235bd8e5b9d4"
   },
   "outputs": [],
   "source": [
    "# Añade columna\n",
    "df['diabetes'] = pd.Series([\"No\", \"No\", \"Si\", \"No\", \"Si\"])\n",
    "print(df)\n"
   ]
  },
  {
   "cell_type": "code",
   "execution_count": null,
   "metadata": {
    "executionInfo": {
     "elapsed": 1048,
     "status": "ok",
     "timestamp": 1635541736185,
     "user": {
      "displayName": "Jose Luis Ojeda",
      "photoUrl": "https://lh3.googleusercontent.com/a-/AOh14GioxvwskRaM2HjJwQ_L936mkRS1wMOHPWrqOWUffw=s64",
      "userId": "12240071782040482724"
     },
     "user_tz": 300
    },
    "id": "My3WqB2oZkSy"
   },
   "outputs": [],
   "source": [
    "#  df.to_csv(fichero.csv, sep=separador, columns=booleano, index=booleano)\n",
    "\n",
    "df.to_csv('/content/gdrive/MyDrive/ArPd/colesteroles2.csv', sep =',')\n",
    "\n",
    "df.to_excel('/content/gdrive/MyDrive/ArPd/colesteroles2.xlsx')\n"
   ]
  },
  {
   "cell_type": "markdown",
   "metadata": {
    "id": "ZQj3cbaLVZrM"
   },
   "source": [
    "### ***Añadir filas a un DataFrame***"
   ]
  },
  {
   "cell_type": "code",
   "execution_count": null,
   "metadata": {
    "colab": {
     "base_uri": "https://localhost:8080/"
    },
    "executionInfo": {
     "elapsed": 318,
     "status": "ok",
     "timestamp": 1635541948559,
     "user": {
      "displayName": "Jose Luis Ojeda",
      "photoUrl": "https://lh3.googleusercontent.com/a-/AOh14GioxvwskRaM2HjJwQ_L936mkRS1wMOHPWrqOWUffw=s64",
      "userId": "12240071782040482724"
     },
     "user_tz": 300
    },
    "id": "PaNmgO-CdvQ6",
    "outputId": "d286259a-4a1d-45ad-d8bc-a9cdde103f1e"
   },
   "outputs": [],
   "source": [
    "# Añadir Fila\n",
    "import pandas as pd\n",
    "# Importación del fichero datos-colesteroles.csv\n",
    "df = pd.read_csv('/content/gdrive/MyDrive/ArPd/colesteroles.csv',\n",
    "                 sep=';', decimal=',')\n",
    "#print(df)\n",
    "indice = ['nombre','edad','sexo','peso','altura','colesterol']\n",
    "df = df.append(pd.Series(['Carlos Rivas', 28, 'H', 89.0, 1.78, 245.0], \n",
    "                         index=indice),ignore_index=True)\n",
    "print(df.tail())"
   ]
  },
  {
   "cell_type": "code",
   "execution_count": null,
   "metadata": {
    "id": "r0n2kKZFgKKa"
   },
   "outputs": [],
   "source": [
    "import pandas as pd\n",
    "columnas = ['nombre','edad','sexo','peso','altura','colesterol']\n",
    "df5 = pd.DataFrame(columns=columnas)\n",
    "print(df5)\n"
   ]
  },
  {
   "cell_type": "markdown",
   "metadata": {
    "id": "uji-Td0_ewd7"
   },
   "source": [
    "### ***Filtrar DataFrame***"
   ]
  },
  {
   "cell_type": "code",
   "execution_count": null,
   "metadata": {
    "id": "A0vda7_eeplQ"
   },
   "outputs": [],
   "source": [
    "print(df[(df['sexo']=='H') & (df['colesterol'] > 260)])"
   ]
  },
  {
   "cell_type": "code",
   "execution_count": null,
   "metadata": {
    "id": "AO2m4oQEe2QB"
   },
   "outputs": [],
   "source": [
    "print(df.sort_values(['sexo','colesterol'], ascending=[True, False]))"
   ]
  },
  {
   "cell_type": "code",
   "execution_count": null,
   "metadata": {
    "id": "rn9LAXG5gvxm"
   },
   "outputs": [],
   "source": [
    "df1 = df.sort_values(['sexo','colesterol'], ascending=[True, False])\n",
    "print(df1)"
   ]
  },
  {
   "cell_type": "code",
   "execution_count": null,
   "metadata": {
    "id": "8RYac-8Vh6dB"
   },
   "outputs": [],
   "source": [
    "df2 = df.sort_values(['sexo','colesterol'], ascending=[True, False], \n",
    "                     ignore_index=True)\n",
    "print(df2)\n"
   ]
  },
  {
   "cell_type": "markdown",
   "metadata": {},
   "source": [
    "### Ejemplos adicionales"
   ]
  },
  {
   "cell_type": "code",
   "execution_count": null,
   "metadata": {
    "colab": {
     "base_uri": "https://localhost:8080/"
    },
    "executionInfo": {
     "elapsed": 5,
     "status": "ok",
     "timestamp": 1635262667789,
     "user": {
      "displayName": "Jose Luis Ojeda",
      "photoUrl": "https://lh3.googleusercontent.com/a-/AOh14GioxvwskRaM2HjJwQ_L936mkRS1wMOHPWrqOWUffw=s64",
      "userId": "12240071782040482724"
     },
     "user_tz": 300
    },
    "id": "QM71ZmeBmhLI",
    "outputId": "88543120-921d-4851-e4bb-809374bfc641"
   },
   "outputs": [],
   "source": [
    "import pandas as pd\n",
    "\n",
    "df = pd.read_csv('gapminder.csv', sep=';')\n",
    "\n",
    "print(df.head())\n"
   ]
  },
  {
   "cell_type": "code",
   "execution_count": null,
   "metadata": {
    "colab": {
     "base_uri": "https://localhost:8080/"
    },
    "executionInfo": {
     "elapsed": 443,
     "status": "ok",
     "timestamp": 1635262678384,
     "user": {
      "displayName": "Jose Luis Ojeda",
      "photoUrl": "https://lh3.googleusercontent.com/a-/AOh14GioxvwskRaM2HjJwQ_L936mkRS1wMOHPWrqOWUffw=s64",
      "userId": "12240071782040482724"
     },
     "user_tz": 300
    },
    "id": "tEvYEJJfaI0y",
    "outputId": "1da07639-609c-422a-8807-132ba15b7564"
   },
   "outputs": [],
   "source": [
    "print(type(df))\n",
    "print(df.shape)\n",
    "print(df.columns)\n",
    "print(df.dtypes)\n",
    "print(df.info())\n"
   ]
  },
  {
   "cell_type": "code",
   "execution_count": null,
   "metadata": {
    "colab": {
     "base_uri": "https://localhost:8080/"
    },
    "executionInfo": {
     "elapsed": 788,
     "status": "ok",
     "timestamp": 1635266259278,
     "user": {
      "displayName": "Jose Luis Ojeda",
      "photoUrl": "https://lh3.googleusercontent.com/a-/AOh14GioxvwskRaM2HjJwQ_L936mkRS1wMOHPWrqOWUffw=s64",
      "userId": "12240071782040482724"
     },
     "user_tz": 300
    },
    "id": "ry6FQ-vnb36Y",
    "outputId": "70291732-2172-4882-cf22-fd390e58d945"
   },
   "outputs": [],
   "source": [
    "import pandas as pd\t\t\t# Importación del fichero datos-colesteroles.csv\n",
    "df = pd.read_csv('colesteroles.csv', sep=';', decimal=',')\n",
    "print(df.head())"
   ]
  },
  {
   "cell_type": "code",
   "execution_count": null,
   "metadata": {
    "colab": {
     "base_uri": "https://localhost:8080/",
     "height": 520
    },
    "executionInfo": {
     "elapsed": 924,
     "status": "error",
     "timestamp": 1636131834917,
     "user": {
      "displayName": "Jose Luis Ojeda",
      "photoUrl": "https://lh3.googleusercontent.com/a-/AOh14GioxvwskRaM2HjJwQ_L936mkRS1wMOHPWrqOWUffw=s64",
      "userId": "12240071782040482724"
     },
     "user_tz": 300
    },
    "id": "iFGgcroKDjgO",
    "outputId": "aaf7e1a7-9176-4992-d1f8-bd66f3abf806"
   },
   "outputs": [],
   "source": [
    "import pandas as pd\n",
    "import numpy as np\n",
    "from datetime import datetime, date, time, timedelta\n",
    "\n",
    "nroFecha = [1, 2, 3, 4, 5, 6, 7, 8, 9, 10, 11, 12]\n",
    "nuevaFecha = date.today()\n",
    "fechas = np.array([])\n",
    "df = pd.DataFrame([])\n",
    "li = date(2022, 1, 1)\n",
    "ls = date(2022, 5, 31)\n",
    "df1 = pd.DataFrame([])\n",
    "\n",
    "for i in range(12):\n",
    "    nuevaFecha += timedelta(days=30)\n",
    "    fechas = np.append(fechas, nuevaFecha)\n",
    "    \n",
    "df = pd.DataFrame({\"NroFecha\":nroFecha, \"Fecha\":fechas})\n",
    "print(df)\n",
    "\n",
    "\n",
    "for index, row in df.iterrows():\n",
    "    if li <= row[\"Fecha\"] <= ls:\n",
    "        df1 = df1.append(row, ignore_index=True)\n",
    "    \n",
    "print(df1)\n",
    "\n",
    "print((df1.iloc[1, 1]-df1.iloc[0, 1]).days)"
   ]
  },
  {
   "cell_type": "code",
   "execution_count": null,
   "metadata": {},
   "outputs": [],
   "source": [
    "import pandas as pd\n",
    "import numpy as np\n",
    "from datetime import datetime, date, time, timedelta\n",
    "\n",
    "nroFecha = [1, 2, 3, 4, 5, 6, 7, 8, 9, 10, 11, 12]\n",
    "nuevaFecha = datetime.now()\n",
    "fechas = np.array([])\n",
    "df = pd.DataFrame([])\n",
    "li = datetime(2022, 1, 1, 0, 0, 0)\n",
    "ls = datetime(2022, 5, 31, 0, 0, 0)\n",
    "df1 = pd.DataFrame([])\n",
    "\n",
    "for i in range(12):\n",
    "    nuevaFecha += timedelta(days=30)\n",
    "    fechas = np.append(fechas, nuevaFecha)\n",
    "    \n",
    "df = pd.DataFrame({\"NroFecha\":nroFecha, \"Fecha\":fechas})\n",
    "print(df)\n",
    "\n",
    "\n",
    "for index, row in df.iterrows():\n",
    "    if li <= row[\"Fecha\"] <= ls:\n",
    "        df1 = df1.append(row)\n",
    "    \n",
    "print(df)\n",
    "print(df1)\n",
    "\n"
   ]
  },
  {
   "cell_type": "code",
   "execution_count": null,
   "metadata": {},
   "outputs": [],
   "source": [
    "a = df['Fecha']\n",
    "print(a)\n",
    "b = a.to_numpy()\n",
    "print(b)"
   ]
  },
  {
   "cell_type": "code",
   "execution_count": null,
   "metadata": {},
   "outputs": [],
   "source": [
    "import pandas as pd\n",
    "\n",
    "#crea pandas DataFrame con dos columnas\n",
    "df = pd.DataFrame({'sales': [4, 11],\n",
    "                   'time': ['2020-01-15 20:02:58', '2020-01-18 14:43:24']})\n",
    "\n",
    "print(df)\n"
   ]
  },
  {
   "cell_type": "code",
   "execution_count": null,
   "metadata": {},
   "outputs": [],
   "source": [
    "#convierte columna en formato datetime a solo date\n",
    "df['time'] = pd.to_datetime(df['time']).dt.date\n",
    "\n",
    "#view DataFrame\n",
    "print(df)\n"
   ]
  },
  {
   "cell_type": "code",
   "execution_count": null,
   "metadata": {},
   "outputs": [],
   "source": [
    "df = pd.DataFrame({\n",
    "\n",
    "    'col1': ['A', 'A', 'B', np.nan, 'D', 'C'],\n",
    "\n",
    "    'col2': [2, 1, 9, 8, 7, 4],\n",
    "\n",
    "    'col3': [0, 1, 9, 4, 2, 3],\n",
    "\n",
    "    'col4': ['a', 'B', 'c', 'D', 'e', 'F']\n",
    "\n",
    "})\n",
    "\n",
    "print(df)\n"
   ]
  },
  {
   "cell_type": "code",
   "execution_count": null,
   "metadata": {},
   "outputs": [],
   "source": [
    "# ordenar por una columna\n",
    "df.sort_values(by=['col1'])\n",
    "\n",
    "print(df.sort_values(by=['col1']))\n"
   ]
  },
  {
   "cell_type": "code",
   "execution_count": null,
   "metadata": {},
   "outputs": [],
   "source": [
    "# ordenar por dos columnas\n",
    "print(df.sort_values(by=['col1', 'col2']))\n"
   ]
  },
  {
   "cell_type": "markdown",
   "metadata": {},
   "source": [
    "## ***Actualizando DataFrame con \"loc\"***"
   ]
  },
  {
   "cell_type": "code",
   "execution_count": null,
   "metadata": {},
   "outputs": [],
   "source": [
    "# python 3.x\n",
    "import pandas as pd\n",
    "# List of Tuples\n",
    "fruit_list = [ ('Orange', 34, 'Yes' )]\n",
    "#Create a DataFrame object\n",
    "df = pd.DataFrame(fruit_list, columns = ['Name' , 'Price', 'Stock'])\n",
    "#Add new ROW\n",
    "df.loc[df.shape[0]]=('Mango', 4, 'No')\n",
    "df.loc[df.shape[0]]=('Apple', 14, 'Yes')\n",
    "print(df)\n"
   ]
  },
  {
   "cell_type": "markdown",
   "metadata": {},
   "source": [
    "## ***Pandas groupby***"
   ]
  },
  {
   "cell_type": "code",
   "execution_count": null,
   "metadata": {},
   "outputs": [],
   "source": [
    "import pandas as pd\n",
    "\n",
    "df = pd.read_csv(\"nba.csv\")\n",
    "df\n"
   ]
  },
  {
   "cell_type": "code",
   "execution_count": null,
   "metadata": {},
   "outputs": [],
   "source": [
    "# aplicando la función groupby() para agrupar los datos por equipo.\n",
    "gk = df.groupby('Team')\n",
    "\n",
    "# Imprimamos las primeras entradas de todos los grupos formados.\n",
    "gk.first()\n"
   ]
  },
  {
   "cell_type": "code",
   "execution_count": null,
   "metadata": {},
   "outputs": [],
   "source": [
    "# Imprimamos el valor contenido en cualquiera de los grupos. \n",
    "# Para eso usa el nombre del equipo. \n",
    "# Usamos la función get_group() para encontrar \n",
    "#las entradas contenidas en cualquiera de los grupos.\n",
    "gk.get_group('Boston Celtics')\n"
   ]
  },
  {
   "cell_type": "code",
   "execution_count": null,
   "metadata": {},
   "outputs": [],
   "source": [
    "# Usamos la función groupby() para formar grupos basados\n",
    "# en más de una categoría, es decir, usando más de una columna \n",
    "# para realizar la división.\n",
    "\n",
    "import pandas as pd\n",
    "\n",
    "df = pd.read_csv(\"nba.csv\")\n",
    "\n",
    "# Primera agrupación basada en “team”;\n",
    "# Dentro de cada equipo nos agrupamos en función de la “Position”\n",
    "gkk = df.groupby(['Team', 'Position'])\n",
    "\n",
    "gkk.first()"
   ]
  },
  {
   "cell_type": "code",
   "execution_count": null,
   "metadata": {},
   "outputs": [],
   "source": [
    "# Otros ejemplos\n",
    "\n",
    "df = pd.read_excel(\"NotasAlumnos.xlsx\")\n",
    "df"
   ]
  },
  {
   "cell_type": "code",
   "execution_count": null,
   "metadata": {},
   "outputs": [],
   "source": [
    "y = df.groupby([\"Condicion\"])[\"NotaFinal\"].count()\n",
    "print(y)\n",
    "\n",
    "y = y.tolist()\n",
    "print(y)\n",
    "\n",
    "y = np.array(y)\n",
    "#print(y)\n"
   ]
  },
  {
   "cell_type": "code",
   "execution_count": null,
   "metadata": {},
   "outputs": [],
   "source": [
    "e = df.groupby([\"Condicion\"])[\"NotaFinal\"].count()\n",
    "print(e)\n",
    "e = e.keys()\n",
    "print(e)\n",
    "e = e.tolist()\n",
    "print(e)"
   ]
  },
  {
   "cell_type": "code",
   "execution_count": null,
   "metadata": {},
   "outputs": [],
   "source": [
    "plt.pie(y, labels=e)\n",
    "plt.legend(title=\"Nota Final:\")\n",
    "plt.show()\n"
   ]
  },
  {
   "cell_type": "code",
   "execution_count": 14,
   "metadata": {},
   "outputs": [
    {
     "name": "stdout",
     "output_type": "stream",
     "text": [
      "   CLASE_LIB                             AUTOR AUTOR_PRINCIPAL  AÑO_EDICION  \\\n",
      "0  Aperturas        Aagaard Jacob & Lund Esben   Aagaard Jacob         2002   \n",
      "1  Aperturas  Aagaard Jacob & Ntirlis Nikolaos   Aagaard Jacob         2011   \n",
      "2  Aperturas  Aagaard Jacob & Ntirlis Nikolaos   Aagaard Jacob         2013   \n",
      "3  Aperturas        Aagaard Jacob & Pinski Jan   Aagaard Jacob         2001   \n",
      "4  Aperturas         Aagaard Jacob & Shaw John   Aagaard Jacob         2011   \n",
      "\n",
      "                                           TITULO            EDITOR TIPO  \\\n",
      "0                                    Meeting 1.d4       Ed Everyman  pdf   \n",
      "1  Grandmaster Repertoire 10 The Tarrasch Defence  Ed Quality Chess  pdf   \n",
      "2                              Playing the French  Ed Quality Chess  pdf   \n",
      "3                            Sicilian Kalashnikov       Ed Everyman  pdf   \n",
      "4                    Experts vs the Anti Sicilian  Ed Quality Chess  pdf   \n",
      "\n",
      "   TAMAÑO NUMCOLECCION  \n",
      "0     6.6          NaN  \n",
      "1    10.7          NaN  \n",
      "2     9.3          NaN  \n",
      "3     4.0          NaN  \n",
      "4    15.1          NaN  \n"
     ]
    }
   ],
   "source": [
    "import pandas as pd\n",
    "df = pd.read_csv('BaseDatosLibros.csv', sep=';', encoding='ISO-8859-1')\n",
    "print(df.head())\n"
   ]
  },
  {
   "cell_type": "markdown",
   "metadata": {},
   "source": [
    "### Otros ejercicios"
   ]
  },
  {
   "cell_type": "code",
   "execution_count": 3,
   "metadata": {},
   "outputs": [
    {
     "name": "stdout",
     "output_type": "stream",
     "text": [
      "   sales                 time\n",
      "0      4  2020-01-15 20:02:58\n",
      "1     11  2020-01-18 14:43:24\n"
     ]
    }
   ],
   "source": [
    "import pandas as pd\n",
    "\n",
    "#create pandas DataFrame with two columns\n",
    "df = pd.DataFrame({'sales': [4, 11],\n",
    "                   'time': ['2020-01-15 20:02:58', '2020-01-18 14:43:24']})\n",
    "\n",
    "#view DataFrame \n",
    "print(df)\n"
   ]
  },
  {
   "cell_type": "code",
   "execution_count": null,
   "metadata": {},
   "outputs": [],
   "source": [
    "#convert datetime column to just date\n",
    "df['time'] = pd.to_datetime(df['time']).dt.date\n",
    "\n",
    "#view DataFrame\n",
    "print(df)\n"
   ]
  },
  {
   "cell_type": "code",
   "execution_count": 1,
   "metadata": {},
   "outputs": [
    {
     "name": "stdout",
     "output_type": "stream",
     "text": [
      "    Cuota  FecDesemb FecVtoCuota\n",
      "0       1 2021-05-30  2021-06-25\n",
      "1       2 2021-05-30  2021-07-25\n",
      "2       3 2021-05-30  2021-08-25\n",
      "3       4 2021-05-30  2021-09-25\n",
      "4       5 2021-05-30  2021-10-25\n",
      "5       6 2021-05-30  2021-11-25\n",
      "6       7 2021-05-30  2021-12-25\n",
      "7       8 2021-05-30  2022-01-25\n",
      "8       9 2021-05-30  2022-02-25\n",
      "9      10 2021-05-30  2022-03-25\n",
      "10     11 2021-05-30  2022-04-25\n",
      "11     12 2021-05-30  2022-05-25\n"
     ]
    }
   ],
   "source": [
    "import pandas as pd\n",
    "import numpy as np\n",
    "from datetime import datetime, date, time, timedelta\n",
    "\n",
    "DifFechas = pd.read_excel('DifFechas.xlsx')\n",
    "\n",
    "print(DifFechas)"
   ]
  },
  {
   "cell_type": "code",
   "execution_count": 2,
   "metadata": {},
   "outputs": [
    {
     "name": "stdout",
     "output_type": "stream",
     "text": [
      "Empty DataFrame\n",
      "Columns: []\n",
      "Index: []\n"
     ]
    }
   ],
   "source": [
    "import pandas as pd\n",
    "import numpy as np\n",
    "from datetime import datetime, date, time, timedelta\n",
    "\n",
    "li = datetime(2014, 8, 15, 0, 0, 0)\n",
    "ls = datetime(2015, 3, 15, 0, 0, 0)\n",
    "df = pd.DataFrame([])\n",
    "\n",
    "for index, row in DifFechas.iterrows():\n",
    "    if li <= row[\"FecVtoCuota\"] <= ls:\n",
    "        df = df.append(row)\n",
    "    \n",
    "print(df)\n"
   ]
  },
  {
   "cell_type": "code",
   "execution_count": 3,
   "metadata": {},
   "outputs": [
    {
     "name": "stdout",
     "output_type": "stream",
     "text": [
      "[ 26  56  87 118 148 179 209 240 271 299 330 360]\n"
     ]
    }
   ],
   "source": [
    "n1 = ((DifFechas['FecVtoCuota'] - DifFechas['FecDesemb']).dt.days).to_numpy()\n",
    "print(n1)\n"
   ]
  },
  {
   "cell_type": "code",
   "execution_count": 4,
   "metadata": {},
   "outputs": [
    {
     "name": "stdout",
     "output_type": "stream",
     "text": [
      "2021-05-30 00:00:00\n",
      "2021-06-25 00:00:00\n",
      "26\n"
     ]
    }
   ],
   "source": [
    "fechaDesemb = datetime(2021, 5, 30, 0, 0, 0)\n",
    "print(fechaDesemb)\n",
    "f1 = datetime(2021, 6, 25, 0, 0, 0)\n",
    "print(f1)\n",
    "n1 = (f1 - fechaDesemb).days\n",
    "print(n1)\n"
   ]
  },
  {
   "cell_type": "code",
   "execution_count": 20,
   "metadata": {},
   "outputs": [
    {
     "name": "stdout",
     "output_type": "stream",
     "text": [
      "   Desembolso Vencimiento     n1        fn     invfn\n",
      "0  2021-05-30  2021-06-25   26.0  1.012026  0.988117\n",
      "1  2021-05-30  2021-07-25   56.0  1.026081  0.974582\n",
      "2  2021-05-30  2021-08-25   87.0  1.040810  0.960790\n",
      "3  2021-05-30  2021-09-25  118.0  1.055751  0.947193\n",
      "4  2021-05-30  2021-10-25  148.0  1.070413  0.934219\n",
      "5  2021-05-30  2021-11-25  179.0  1.085779  0.920998\n",
      "6  2021-05-30  2021-12-25  209.0  1.100858  0.908382\n",
      "7  2021-05-30  2022-01-25  240.0  1.116661  0.895527\n",
      "8  2021-05-30  2022-02-25  271.0  1.132690  0.882854\n",
      "9  2021-05-30  2022-03-25  299.0  1.147366  0.871561\n",
      "10 2021-05-30  2022-04-25  330.0  1.163836  0.859227\n",
      "11 2021-05-30  2022-05-25  360.0  1.180000  0.847458\n",
      "[ 26.  56.  87. 118. 148. 179. 209. 240. 271. 299. 330. 360.]\n",
      "[1.01202555 1.026081   1.04081007 1.05575057 1.07041329 1.08577873\n",
      " 1.1008585  1.11666097 1.13269029 1.14736606 1.16383614 1.18      ]\n",
      "[0.98811734 0.97458193 0.96079009 0.94719343 0.9342186  0.92099796\n",
      " 0.90838196 0.89552695 0.88285386 0.87156142 0.85922748 0.84745763]\n",
      "10.990908658436696\n",
      "182.08\n",
      "   Desembolso Vencimiento     n1        fn     invfn   Cuota\n",
      "0  2021-05-30  2021-06-25   26.0  1.012026  0.988117  182.08\n",
      "1  2021-05-30  2021-07-25   56.0  1.026081  0.974582  182.08\n",
      "2  2021-05-30  2021-08-25   87.0  1.040810  0.960790  182.08\n",
      "3  2021-05-30  2021-09-25  118.0  1.055751  0.947193  182.08\n",
      "4  2021-05-30  2021-10-25  148.0  1.070413  0.934219  182.08\n",
      "5  2021-05-30  2021-11-25  179.0  1.085779  0.920998  182.08\n",
      "6  2021-05-30  2021-12-25  209.0  1.100858  0.908382  182.08\n",
      "7  2021-05-30  2022-01-25  240.0  1.116661  0.895527  182.08\n",
      "8  2021-05-30  2022-02-25  271.0  1.132690  0.882854  182.08\n",
      "9  2021-05-30  2022-03-25  299.0  1.147366  0.871561  182.08\n",
      "10 2021-05-30  2022-04-25  330.0  1.163836  0.859227  182.08\n",
      "11 2021-05-30  2022-05-25  360.0  1.180000  0.847458  182.08\n"
     ]
    }
   ],
   "source": [
    "import pandas as pd\n",
    "import numpy as np\n",
    "from datetime import datetime, date, time, timedelta\n",
    "\n",
    "tea = 0.18\n",
    "desembolso = 2001.20\n",
    "mes = fechaDesemb.month\n",
    "año = fechaDesemb.year\n",
    "\n",
    "vencimientos = np.array([])\n",
    "n1 = np.array([])\n",
    "fn = np.array([])\n",
    "invfn = np.array([])\n",
    "mesVto = mes\n",
    "añoVto = año\n",
    "for i in range(1,13):\n",
    "    if mesVto + 1 == 13:\n",
    "        mesVto = 1\n",
    "        añoVto += 1\n",
    "    else:\n",
    "        mesVto +=1\n",
    "        \n",
    "    fecVto = datetime(añoVto, mesVto, 25, 0, 0, 0)\n",
    "    vencimientos = np.append(vencimientos, fecVto)\n",
    "    dif = (fecVto - fechaDesemb).days\n",
    "    n1 = np.append(n1, dif)\n",
    "    factor = (1+tea)**(dif/360)\n",
    "    fn = np.append(fn, factor)\n",
    "    invfn = np.append(invfn, 1/factor)\n",
    "    \n",
    "df = pd.DataFrame({\"Desembolso\":fechaDesemb, \"Vencimiento\":vencimientos, \n",
    "                   \"n1\":n1, \"fn\":fn, \"invfn\":invfn})\n",
    "cuota = round(desembolso/np.sum(invfn),2)\n",
    "cuota1 = round(desembolso/np.sum(invfn),2)\n",
    "print(df)    \n",
    "print(n1)\n",
    "print(fn)\n",
    "print(invfn)\n",
    "print(np.sum(invfn))\n",
    "print(cuota)\n",
    "\n",
    "df[\"Cuota\"] = pd.Series([cuota]*12)\n",
    "\n",
    "print(df)"
   ]
  },
  {
   "cell_type": "code",
   "execution_count": 23,
   "metadata": {},
   "outputs": [
    {
     "name": "stdout",
     "output_type": "stream",
     "text": [
      "   Vencimiento     n1        fn     invfn   Cuota\n",
      "0   2021-06-25   26.0  1.012026  0.988117  182.08\n",
      "1   2021-07-25   56.0  1.026081  0.974582  182.08\n",
      "2   2021-08-25   87.0  1.040810  0.960790  182.08\n",
      "3   2021-09-25  118.0  1.055751  0.947193  182.08\n",
      "4   2021-10-25  148.0  1.070413  0.934219  182.08\n",
      "5   2021-11-25  179.0  1.085779  0.920998  182.08\n",
      "6   2021-12-25  209.0  1.100858  0.908382  182.08\n",
      "7   2022-01-25  240.0  1.116661  0.895527  182.08\n",
      "8   2022-02-25  271.0  1.132690  0.882854  182.08\n",
      "9   2022-03-25  299.0  1.147366  0.871561  182.08\n",
      "10  2022-04-25  330.0  1.163836  0.859227  182.08\n",
      "11  2022-05-25  360.0  1.180000  0.847458  182.08\n"
     ]
    }
   ],
   "source": [
    "vencimientos = pd.Series(vencimientos)\n",
    "n1 = pd.Series(n1)\n",
    "fn = pd.Series(fn)\n",
    "invfn = pd.Series(invfn)\n",
    "\n",
    "\n",
    "#df5 = pd.DataFrame(int1, columns=[\"Vencimiento\", \"n1\", \"fn\", \"invfn\"])\n",
    "df5 = pd.concat([vencimientos, n1, fn, invfn], axis=1)\n",
    "df5.columns = [\"Vencimiento\", \"n1\", \"fn\", \"invfn\"]\n",
    "\n",
    "df5[\"Cuota\"] = pd.Series([cuota1]*12)\n",
    "\n",
    "print(df5)\n",
    "df5.to_excel(\"Prueba.xlsx\")\n",
    "\n"
   ]
  }
 ],
 "metadata": {
  "colab": {
   "authorship_tag": "ABX9TyNpC6/KF9DMXLQBDRoIT+6G",
   "collapsed_sections": [],
   "name": "IN51-Clase-20211029.ipynb",
   "provenance": [
    {
     "file_id": "1XCNZiu-5VQV3bs_f8i0kjHH6GRp_qv_e",
     "timestamp": 1635431724554
    }
   ]
  },
  "kernelspec": {
   "display_name": "Python 3 (ipykernel)",
   "language": "python",
   "name": "python3"
  },
  "language_info": {
   "codemirror_mode": {
    "name": "ipython",
    "version": 3
   },
   "file_extension": ".py",
   "mimetype": "text/x-python",
   "name": "python",
   "nbconvert_exporter": "python",
   "pygments_lexer": "ipython3",
   "version": "3.10.2"
  }
 },
 "nbformat": 4,
 "nbformat_minor": 4
}
