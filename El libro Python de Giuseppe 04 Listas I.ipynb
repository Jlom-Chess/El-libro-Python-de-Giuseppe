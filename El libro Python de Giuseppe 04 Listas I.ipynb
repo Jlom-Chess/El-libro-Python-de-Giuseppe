{
 "cells": [
  {
   "cell_type": "markdown",
   "id": "aac241f3",
   "metadata": {},
   "source": [
    "# Listas\n",
    "Es una colección ordenada y modificable. Permite miembros duplicados.\n",
    "En Python las listas se escriben entre corchetes rectos.\n",
    "Utilice corchetes para indicar el inicio y el final de la lista y separe los elementos con comas."
   ]
  },
  {
   "cell_type": "code",
   "execution_count": 2,
   "id": "8cc1c119",
   "metadata": {},
   "outputs": [
    {
     "name": "stdout",
     "output_type": "stream",
     "text": [
      "[1, 2, 3]\n",
      "[0, 1, 2, 3, 4, 5, 6, 7, 8, 9, 10, 11, 12, 13, 14, 15, 16, 17, 18, 19, 20, 21, 22, 23, 24, 25, 26, 27, 28, 29, 30, 31, 32, 33, 34, 35, 36, 37, 38, 39, 40]\n"
     ]
    }
   ],
   "source": [
    "L = [1,2,3]\n",
    "nums = [0, 1, 2, 3, 4, 5, 6, 7, 8, 9, 10, 11, 12, 13, 14, 15, 16, \n",
    "17, 18, 19, 20, 21, 22, 23, 24, 25, 26, 27, 28, 29, 30, 31, \n",
    "32, 33, 34, 35, 36, 37, 38, 39, 40]\n",
    "print(L)\n",
    "print(nums)"
   ]
  },
  {
   "cell_type": "markdown",
   "id": "25a3302f-39df-4aac-b951-844afaf8c019",
   "metadata": {},
   "source": [
    "### **Índices y slicing**"
   ]
  },
  {
   "cell_type": "markdown",
   "id": "14ccf91f-b311-4352-9cf7-e12244fa80c8",
   "metadata": {},
   "source": [
    "De manera similar a los strings, las lista tienen índices comenzando desde 0. También se tiene índices de derecha a izquierda, que se numeran en forma negativa"
   ]
  },
  {
   "cell_type": "code",
   "execution_count": 3,
   "id": "3bb67b4d",
   "metadata": {},
   "outputs": [
    {
     "name": "stdout",
     "output_type": "stream",
     "text": [
      "3\n"
     ]
    }
   ],
   "source": [
    "print(nums[3])"
   ]
  },
  {
   "cell_type": "code",
   "execution_count": 4,
   "id": "023c909d",
   "metadata": {},
   "outputs": [
    {
     "name": "stdout",
     "output_type": "stream",
     "text": [
      "3\n"
     ]
    }
   ],
   "source": [
    "print(L[2])"
   ]
  },
  {
   "cell_type": "code",
   "execution_count": 5,
   "id": "7e9231fa",
   "metadata": {},
   "outputs": [
    {
     "name": "stdout",
     "output_type": "stream",
     "text": [
      "2\n"
     ]
    }
   ],
   "source": [
    "print(L[-2])"
   ]
  },
  {
   "cell_type": "code",
   "execution_count": 6,
   "id": "118ddb38",
   "metadata": {},
   "outputs": [
    {
     "name": "stdout",
     "output_type": "stream",
     "text": [
      "16\n"
     ]
    }
   ],
   "source": [
    "print(nums[-25])"
   ]
  },
  {
   "cell_type": "code",
   "execution_count": 7,
   "id": "8c06faa6",
   "metadata": {},
   "outputs": [
    {
     "name": "stdout",
     "output_type": "stream",
     "text": [
      "[0, 1, 2, 3]\n"
     ]
    }
   ],
   "source": [
    "print(nums[:4])"
   ]
  },
  {
   "cell_type": "code",
   "execution_count": 8,
   "id": "32579a8e",
   "metadata": {},
   "outputs": [
    {
     "name": "stdout",
     "output_type": "stream",
     "text": [
      "[37, 38, 39]\n"
     ]
    }
   ],
   "source": [
    "print(nums[-4:-1])"
   ]
  },
  {
   "cell_type": "code",
   "execution_count": 9,
   "id": "7c7e7500",
   "metadata": {},
   "outputs": [
    {
     "name": "stdout",
     "output_type": "stream",
     "text": [
      "[0, 1, 'hola', 3, 4, 5, 6, 7, 8, 9, 10, 11, 12, 13, 14, 15, 16, 17, 18, 19, 20, 21, 22, 23, 24, 25, 26, 27, 28, 29, 30, 31, 32, 33, 34, 35, 36, 37, 38, 39, 40]\n"
     ]
    }
   ],
   "source": [
    "nums[2] = \"hola\"\n",
    "print(nums)"
   ]
  },
  {
   "cell_type": "code",
   "execution_count": 9,
   "id": "82dc745e",
   "metadata": {},
   "outputs": [
    {
     "name": "stdout",
     "output_type": "stream",
     "text": [
      "hola\n"
     ]
    }
   ],
   "source": [
    "print(nums[2])"
   ]
  },
  {
   "cell_type": "code",
   "execution_count": 10,
   "id": "43f509c0",
   "metadata": {},
   "outputs": [
    {
     "name": "stdout",
     "output_type": "stream",
     "text": [
      "12\n"
     ]
    }
   ],
   "source": [
    "print(nums[5]+nums[7])"
   ]
  },
  {
   "cell_type": "code",
   "execution_count": 13,
   "id": "b9c67f49",
   "metadata": {},
   "outputs": [
    {
     "name": "stdout",
     "output_type": "stream",
     "text": [
      "hola7\n"
     ]
    }
   ],
   "source": [
    "print(nums[2]+str(nums[7]))"
   ]
  },
  {
   "cell_type": "code",
   "execution_count": 14,
   "id": "f95614f6",
   "metadata": {},
   "outputs": [
    {
     "name": "stdout",
     "output_type": "stream",
     "text": [
      "holaholaholaholaholaholahola\n"
     ]
    }
   ],
   "source": [
    "print(nums[2]*nums[7])"
   ]
  },
  {
   "cell_type": "code",
   "execution_count": 15,
   "id": "d4298117",
   "metadata": {},
   "outputs": [
    {
     "name": "stdout",
     "output_type": "stream",
     "text": [
      "41\n"
     ]
    }
   ],
   "source": [
    "print(len(nums))"
   ]
  },
  {
   "cell_type": "code",
   "execution_count": 16,
   "id": "21c660d9",
   "metadata": {},
   "outputs": [],
   "source": [
    "nums[2] = 2"
   ]
  },
  {
   "cell_type": "markdown",
   "id": "e24167df",
   "metadata": {},
   "source": [
    "### Métodos en listas\n"
   ]
  },
  {
   "cell_type": "code",
   "execution_count": 10,
   "id": "9f8bf7e3",
   "metadata": {},
   "outputs": [
    {
     "name": "stdout",
     "output_type": "stream",
     "text": [
      "[10, 15, 25, 29, 33, 45]\n"
     ]
    }
   ],
   "source": [
    "# método append\n",
    "l = [10, 15, 25, 29, 33]\n",
    "l.append(45)\n",
    "print(l)"
   ]
  },
  {
   "cell_type": "code",
   "execution_count": 11,
   "id": "84ad5198",
   "metadata": {},
   "outputs": [
    {
     "name": "stdout",
     "output_type": "stream",
     "text": [
      "[10, 15, 25, 29, 33, 45, 50]\n"
     ]
    }
   ],
   "source": [
    "l.append(50)\n",
    "print(l)"
   ]
  },
  {
   "cell_type": "code",
   "execution_count": 12,
   "id": "29be034f",
   "metadata": {},
   "outputs": [
    {
     "name": "stdout",
     "output_type": "stream",
     "text": [
      "[10, 15, 25, 27, 29, 33, 45, 50]\n"
     ]
    }
   ],
   "source": [
    "# insert\n",
    "l.insert(3,27)\n",
    "print(l)"
   ]
  },
  {
   "cell_type": "code",
   "execution_count": 13,
   "id": "f7a0c50e",
   "metadata": {},
   "outputs": [
    {
     "name": "stdout",
     "output_type": "stream",
     "text": [
      "10\n",
      "[15, 25, 27, 29, 33, 45, 50]\n"
     ]
    }
   ],
   "source": [
    "x = l.pop(0) # permite asignar el valor que sale a una variable\n",
    "print(x)\n",
    "print(l)"
   ]
  },
  {
   "cell_type": "code",
   "execution_count": 23,
   "id": "e2367a2d",
   "metadata": {},
   "outputs": [
    {
     "ename": "NameError",
     "evalue": "name 'L' is not defined",
     "output_type": "error",
     "traceback": [
      "\u001b[1;31m---------------------------------------------------------------------------\u001b[0m",
      "\u001b[1;31mNameError\u001b[0m                                 Traceback (most recent call last)",
      "\u001b[1;32m~\\AppData\\Local\\Temp/ipykernel_12396/3901062970.py\u001b[0m in \u001b[0;36m<module>\u001b[1;34m\u001b[0m\n\u001b[0;32m      1\u001b[0m \u001b[1;32mdel\u001b[0m\u001b[1;33m(\u001b[0m\u001b[0mL\u001b[0m\u001b[1;33m)\u001b[0m\u001b[1;33m\u001b[0m\u001b[1;33m\u001b[0m\u001b[0m\n\u001b[1;32m----> 2\u001b[1;33m \u001b[0mprint\u001b[0m\u001b[1;33m(\u001b[0m\u001b[0mL\u001b[0m\u001b[1;33m)\u001b[0m\u001b[1;33m\u001b[0m\u001b[1;33m\u001b[0m\u001b[0m\n\u001b[0m",
      "\u001b[1;31mNameError\u001b[0m: name 'L' is not defined"
     ]
    }
   ],
   "source": [
    "del(L)\n",
    "print(L)"
   ]
  },
  {
   "cell_type": "code",
   "execution_count": 24,
   "id": "45abb594",
   "metadata": {},
   "outputs": [
    {
     "name": "stdout",
     "output_type": "stream",
     "text": [
      "[]\n"
     ]
    }
   ],
   "source": [
    "l.clear()\n",
    "print(l)"
   ]
  },
  {
   "cell_type": "code",
   "execution_count": 15,
   "id": "6ea9eec1",
   "metadata": {},
   "outputs": [
    {
     "name": "stdout",
     "output_type": "stream",
     "text": [
      "[10, 15, 20, 25, 30, 35, 40]\n"
     ]
    }
   ],
   "source": [
    "l = [10, 15, 20, 25, 30, 35, 40]\n",
    "print(l)"
   ]
  },
  {
   "cell_type": "code",
   "execution_count": null,
   "id": "0fe8a761",
   "metadata": {},
   "outputs": [],
   "source": [
    "# len returns the number of items in the list.\n",
    "# sum returns the sum of the items in the list.\n",
    "# min returns the minimum of the items in the list.\n",
    "# max returns the maximum of the items in the list."
   ]
  },
  {
   "cell_type": "code",
   "execution_count": 36,
   "id": "b5695856",
   "metadata": {},
   "outputs": [
    {
     "name": "stdout",
     "output_type": "stream",
     "text": [
      "25.0\n"
     ]
    }
   ],
   "source": [
    "promedio = sum(l)/len(l)\n",
    "print(promedio)"
   ]
  },
  {
   "cell_type": "code",
   "execution_count": 40,
   "id": "e730acff",
   "metadata": {},
   "outputs": [
    {
     "name": "stdout",
     "output_type": "stream",
     "text": [
      "[10, 15, 20, 25, 30, 35, 40]\n",
      "[40, 35, 30, 25, 20, 15, 10]\n"
     ]
    }
   ],
   "source": [
    "l = [10, 15, 20, 25, 30, 35, 40]\n",
    "print(l)\n",
    "l.reverse()\n",
    "print(l)"
   ]
  },
  {
   "cell_type": "code",
   "execution_count": 49,
   "id": "5387b332",
   "metadata": {},
   "outputs": [
    {
     "name": "stdout",
     "output_type": "stream",
     "text": [
      "Original List: ['Windows', 'macOS', 'Linux']\n",
      "Updated List: ['Linux', 'macOS', 'Windows']\n"
     ]
    }
   ],
   "source": [
    "# Operating System List\n",
    "systems = ['Windows', 'macOS', 'Linux']\n",
    "print('Original List:', systems)\n",
    "\n",
    "# Reversing a list\t\n",
    "#Syntax: reversed_list = systems[start:stop:step] \n",
    "reversed_list = systems[::-1]\n",
    "\n",
    "# updated list\n",
    "print('Updated List:', reversed_list)"
   ]
  },
  {
   "cell_type": "code",
   "execution_count": 29,
   "id": "46ea893b",
   "metadata": {},
   "outputs": [
    {
     "name": "stdout",
     "output_type": "stream",
     "text": [
      "---Lista Original---\n",
      "[12, 42, 86, 42, 2, 7, 63, 49, 42, 52, 79, 63, 90, 66, 37, 88, 68, 34, 93, 8, 22, 59, 22, 64, 76, 39, 32, 36, 35, 38, 36, 8, 94, 93, 61, 87, 96, 93, 70, 76, 38, 43, 67, 44, 90, 15, 31, 24, 64, 28, 68, 27, 78, 34, 81, 34, 84, 67, 10, 39, 7, 68, 12, 53, 94, 100, 21, 66, 22, 16, 16, 77, 48, 41, 24, 81, 31, 13, 97, 69, 12, 58, 25, 45, 96, 61, 91, 49, 9, 43, 45, 21, 10, 57, 91, 19, 93, 55, 55, 93]\n",
      "---Veces que aparece cada número---\n",
      "[0, 1, 0, 0, 0, 0, 2, 2, 1, 2, 0, 3, 1, 0, 1, 2, 0, 0, 1, 0, 2, 3, 0, 2, 1, 0, 1, 1, 0, 0, 2, 1, 0, 3, 1, 2, 1, 2, 2, 0, 1, 3, 2, 1, 2, 0, 0, 1, 2, 0, 0, 1, 1, 0, 2, 0, 1, 1, 1, 0, 2, 0, 2, 2, 0, 2, 2, 3, 1, 1, 0, 0, 0, 0, 0, 2, 1, 1, 1, 0, 2, 0, 0, 1, 0, 1, 1, 1, 0, 2, 2, 0, 5, 2, 0, 2, 1, 0, 0, 1]\n"
     ]
    }
   ],
   "source": [
    "from random import randint \n",
    "L = [] \n",
    "for i in range(100): \n",
    "    L.append(randint(1,100))\n",
    "\n",
    "print(\"---Lista Original---\")\n",
    "print(L)\n",
    "frequencies = [] \n",
    "for i in range(1,101): \n",
    "    frequencies.append(L.count(i))\n",
    "       \n",
    "print(\"---Veces que aparece cada número---\")\n",
    "print(frequencies)"
   ]
  },
  {
   "cell_type": "code",
   "execution_count": 30,
   "id": "89e8eea6",
   "metadata": {},
   "outputs": [
    {
     "name": "stdout",
     "output_type": "stream",
     "text": [
      "0\n"
     ]
    }
   ],
   "source": [
    "print(l.count(3))"
   ]
  },
  {
   "cell_type": "code",
   "execution_count": 31,
   "id": "dbae1814",
   "metadata": {},
   "outputs": [
    {
     "name": "stdout",
     "output_type": "stream",
     "text": [
      "[1]\n"
     ]
    }
   ],
   "source": [
    "i = 77\n",
    "frequencies = [] \n",
    "frequencies.append(L.count(i))\n",
    "print(frequencies)"
   ]
  },
  {
   "cell_type": "code",
   "execution_count": 32,
   "id": "5946787b",
   "metadata": {},
   "outputs": [
    {
     "name": "stdout",
     "output_type": "stream",
     "text": [
      "[12, 42, 86, 42, 2, 7, 63, 49, 42, 52, 79, 63, 90, 66, 37, 88, 68, 34, 93, 8, 22, 59, 22, 64, 76, 39, 32, 36, 35, 38, 36, 8, 94, 93, 61, 87, 96, 93, 70, 76, 38, 43, 67, 44, 90, 15, 31, 24, 64, 28, 68, 27, 78, 34, 81, 34, 84, 67, 10, 39, 7, 68, 12, 53, 94, 100, 21, 66, 22, 16, 16, 77, 48, 41, 24, 81, 31, 13, 97, 69, 12, 58, 25, 45, 96, 61, 91, 49, 9, 43, 45, 21, 10, 57, 91, 19, 93, 55, 55, 93]\n"
     ]
    }
   ],
   "source": [
    "print(L)"
   ]
  },
  {
   "cell_type": "code",
   "execution_count": 33,
   "id": "2f50557a",
   "metadata": {},
   "outputs": [
    {
     "name": "stdout",
     "output_type": "stream",
     "text": [
      "[1]\n"
     ]
    }
   ],
   "source": [
    "print(frequencies)"
   ]
  },
  {
   "cell_type": "code",
   "execution_count": 34,
   "id": "8438aede",
   "metadata": {},
   "outputs": [
    {
     "name": "stdout",
     "output_type": "stream",
     "text": [
      "[1, 0]\n"
     ]
    }
   ],
   "source": [
    "i = 51\n",
    "#frequencies = [] \n",
    "frequencies.append(L.count(i))\n",
    "print(frequencies)"
   ]
  },
  {
   "cell_type": "markdown",
   "id": "c4dabded-a758-4d46-a285-2db7a179747e",
   "metadata": {
    "tags": []
   },
   "source": [
    "#### Y una peculiaridad, es que también aceptan asignación con slicing para modificar varios ítems en conjunto"
   ]
  },
  {
   "cell_type": "code",
   "execution_count": 14,
   "id": "dc3899cc-20f1-490e-9076-0972c44efe72",
   "metadata": {
    "tags": []
   },
   "outputs": [],
   "source": [
    "letras = ['a','b','c','d','e','f']"
   ]
  },
  {
   "cell_type": "code",
   "execution_count": 15,
   "id": "e7cece68-a4dc-4f96-a623-e6db2a3bfa81",
   "metadata": {
    "collapsed": false,
    "jupyter": {
     "outputs_hidden": false
    }
   },
   "outputs": [
    {
     "data": {
      "text/plain": [
       "['a', 'b', 'c']"
      ]
     },
     "execution_count": 15,
     "metadata": {},
     "output_type": "execute_result"
    }
   ],
   "source": [
    "letras[:3]"
   ]
  },
  {
   "cell_type": "code",
   "execution_count": 16,
   "id": "42033535-86d4-45c7-94ce-2612c49ef2b0",
   "metadata": {
    "tags": []
   },
   "outputs": [],
   "source": [
    "letras[:3] = ['A','B','C']"
   ]
  },
  {
   "cell_type": "code",
   "execution_count": 17,
   "id": "dd61a86e-6cc9-4e9b-9749-5a55ffdb5a53",
   "metadata": {
    "tags": []
   },
   "outputs": [
    {
     "data": {
      "text/plain": [
       "['A', 'B', 'C', 'd', 'e', 'f']"
      ]
     },
     "execution_count": 17,
     "metadata": {},
     "output_type": "execute_result"
    }
   ],
   "source": [
    "letras"
   ]
  },
  {
   "cell_type": "markdown",
   "id": "96eb6eb4-4ccb-48e8-ac5b-191152a5874e",
   "metadata": {},
   "source": [
    "## Listas dentro de listas (anidadas)\n",
    "Podemos manipular fácilmente este tipo de estructuras utilizando múltiples índices, como si nos refieréramos a las filas y columnas de una tabla."
   ]
  },
  {
   "cell_type": "code",
   "execution_count": 35,
   "id": "64b1e80c-00bb-4774-91af-f7a25708e7c8",
   "metadata": {
    "tags": []
   },
   "outputs": [],
   "source": [
    "a = [1,2,3]\n",
    "b = [4,5,6]\n",
    "c = [7,8,9]\n",
    "r = [a,b,c]"
   ]
  },
  {
   "cell_type": "code",
   "execution_count": 36,
   "id": "020a656f-871a-469e-84a3-6c299a55920c",
   "metadata": {
    "collapsed": false,
    "jupyter": {
     "outputs_hidden": false
    }
   },
   "outputs": [
    {
     "data": {
      "text/plain": [
       "[[1, 2, 3], [4, 5, 6], [7, 8, 9]]"
      ]
     },
     "execution_count": 36,
     "metadata": {},
     "output_type": "execute_result"
    }
   ],
   "source": [
    "r"
   ]
  },
  {
   "cell_type": "code",
   "execution_count": 37,
   "id": "12d50a98-4e18-460e-b3da-56e8b577e439",
   "metadata": {
    "collapsed": false,
    "jupyter": {
     "outputs_hidden": false
    }
   },
   "outputs": [
    {
     "data": {
      "text/plain": [
       "[1, 2, 3]"
      ]
     },
     "execution_count": 37,
     "metadata": {},
     "output_type": "execute_result"
    }
   ],
   "source": [
    "r[0]  # Primera sublista"
   ]
  },
  {
   "cell_type": "code",
   "execution_count": 38,
   "id": "cea9821e-836a-4b4f-ba73-c240e0945b2b",
   "metadata": {
    "collapsed": false,
    "jupyter": {
     "outputs_hidden": false
    }
   },
   "outputs": [
    {
     "data": {
      "text/plain": [
       "[7, 8, 9]"
      ]
     },
     "execution_count": 38,
     "metadata": {},
     "output_type": "execute_result"
    }
   ],
   "source": [
    "r[-1]  # Última sublista"
   ]
  },
  {
   "cell_type": "code",
   "execution_count": 39,
   "id": "b1f25aa9-5a04-4d78-9d53-2c0daa6982c2",
   "metadata": {
    "collapsed": false,
    "jupyter": {
     "outputs_hidden": false
    }
   },
   "outputs": [
    {
     "data": {
      "text/plain": [
       "1"
      ]
     },
     "execution_count": 39,
     "metadata": {},
     "output_type": "execute_result"
    }
   ],
   "source": [
    "r[0][0]  # Primera sublista, y de ella, primer ítem"
   ]
  },
  {
   "cell_type": "code",
   "execution_count": 40,
   "id": "ce51131b-322b-498b-aab3-2cbe0d3b126c",
   "metadata": {
    "collapsed": false,
    "jupyter": {
     "outputs_hidden": false
    }
   },
   "outputs": [
    {
     "data": {
      "text/plain": [
       "5"
      ]
     },
     "execution_count": 40,
     "metadata": {},
     "output_type": "execute_result"
    }
   ],
   "source": [
    "r[1][1]  # Segunda sublista, y de ella, segundo ítem"
   ]
  },
  {
   "cell_type": "code",
   "execution_count": 41,
   "id": "638ad2c1-9097-44e6-bbef-bb56573b90ce",
   "metadata": {
    "collapsed": false,
    "jupyter": {
     "outputs_hidden": false
    }
   },
   "outputs": [
    {
     "data": {
      "text/plain": [
       "9"
      ]
     },
     "execution_count": 41,
     "metadata": {},
     "output_type": "execute_result"
    }
   ],
   "source": [
    "r[2][2]  # Tercera sublista, y de ella, tercer ítem"
   ]
  },
  {
   "cell_type": "code",
   "execution_count": 42,
   "id": "c320fe26-61f4-4496-a2c4-c65afba65760",
   "metadata": {
    "collapsed": false,
    "jupyter": {
     "outputs_hidden": false
    }
   },
   "outputs": [
    {
     "data": {
      "text/plain": [
       "9"
      ]
     },
     "execution_count": 42,
     "metadata": {},
     "output_type": "execute_result"
    }
   ],
   "source": [
    "r[-1][-1]  # Última sublista, y de ella, último ítem"
   ]
  },
  {
   "cell_type": "markdown",
   "id": "f8f9e73d-d530-4d4f-8c23-e139c795fba1",
   "metadata": {},
   "source": [
    "# Métodos de las listas"
   ]
  },
  {
   "cell_type": "markdown",
   "id": "67643c04-d57c-43db-a4be-c688ccab5720",
   "metadata": {},
   "source": [
    "### append(): Añade un ítem al final de la lista"
   ]
  },
  {
   "cell_type": "code",
   "execution_count": 1,
   "id": "5a370c5f-e3f7-4caa-b775-df765ba9c773",
   "metadata": {
    "collapsed": true,
    "jupyter": {
     "outputs_hidden": true
    }
   },
   "outputs": [],
   "source": [
    "lista = [1,2,3,4,5]\n",
    "lista.append(6)"
   ]
  },
  {
   "cell_type": "markdown",
   "id": "ee4c36df-9be7-4a6a-b07f-d08519b3b436",
   "metadata": {},
   "source": [
    "### clear(): Vacía todos los ítems de una lista"
   ]
  },
  {
   "cell_type": "code",
   "execution_count": 2,
   "id": "10458446-d993-4f35-83af-48fd2885e190",
   "metadata": {
    "collapsed": false,
    "jupyter": {
     "outputs_hidden": false
    }
   },
   "outputs": [
    {
     "data": {
      "text/plain": [
       "[1, 2, 3, 4, 5, 6]"
      ]
     },
     "execution_count": 2,
     "metadata": {},
     "output_type": "execute_result"
    }
   ],
   "source": [
    "lista"
   ]
  },
  {
   "cell_type": "code",
   "execution_count": 3,
   "id": "2306a24c-73d7-4652-a5ff-12323c15fd4a",
   "metadata": {
    "collapsed": true,
    "jupyter": {
     "outputs_hidden": true
    }
   },
   "outputs": [],
   "source": [
    "lista.clear()"
   ]
  },
  {
   "cell_type": "code",
   "execution_count": 4,
   "id": "f7067189-3ce1-4cac-93be-0e4c3d227972",
   "metadata": {
    "collapsed": false,
    "jupyter": {
     "outputs_hidden": false
    }
   },
   "outputs": [
    {
     "data": {
      "text/plain": [
       "[]"
      ]
     },
     "execution_count": 4,
     "metadata": {},
     "output_type": "execute_result"
    }
   ],
   "source": [
    "lista"
   ]
  },
  {
   "cell_type": "markdown",
   "id": "e5b07d4f-da6a-4c2d-a1d3-b088bbab9436",
   "metadata": {},
   "source": [
    "### extend(): Une una lista a otra"
   ]
  },
  {
   "cell_type": "code",
   "execution_count": 5,
   "id": "e29cb7b7-ac97-4ae7-a9c0-da0ba87efae0",
   "metadata": {
    "collapsed": true,
    "jupyter": {
     "outputs_hidden": true
    }
   },
   "outputs": [],
   "source": [
    "l1 = [1,2,3]\n",
    "l2 = [4,5,6]\n",
    "\n",
    "l1.extend(l2)"
   ]
  },
  {
   "cell_type": "markdown",
   "id": "7b4e8823-6ab2-48fd-9c5e-f56103a17e11",
   "metadata": {},
   "source": [
    "### count(): Cuenta el número de veces que aparece un ítem"
   ]
  },
  {
   "cell_type": "code",
   "execution_count": 6,
   "id": "99cf4f71-1b1c-46c9-99ed-51d5998c51e5",
   "metadata": {
    "collapsed": false,
    "jupyter": {
     "outputs_hidden": false
    }
   },
   "outputs": [
    {
     "data": {
      "text/plain": [
       "[1, 2, 3, 4, 5, 6]"
      ]
     },
     "execution_count": 6,
     "metadata": {},
     "output_type": "execute_result"
    }
   ],
   "source": [
    "l1"
   ]
  },
  {
   "cell_type": "code",
   "execution_count": 8,
   "id": "44e0b8a9-2179-4019-888a-a4948f0e748b",
   "metadata": {
    "collapsed": false,
    "jupyter": {
     "outputs_hidden": false
    }
   },
   "outputs": [
    {
     "data": {
      "text/plain": [
       "1"
      ]
     },
     "execution_count": 8,
     "metadata": {},
     "output_type": "execute_result"
    }
   ],
   "source": [
    "[\"Hola\", \"mundo\", \"mundo\"].count(\"Hola\")"
   ]
  },
  {
   "cell_type": "markdown",
   "id": "4ff5646d-970d-484f-b8b7-a060f69d9f16",
   "metadata": {},
   "source": [
    "### index(): Devuelve el índice en el que aparece un ítem (error si no aparece)"
   ]
  },
  {
   "cell_type": "code",
   "execution_count": 10,
   "id": "58171957-5226-4946-b1f1-b0a6a48c061d",
   "metadata": {
    "collapsed": false,
    "jupyter": {
     "outputs_hidden": false
    }
   },
   "outputs": [
    {
     "data": {
      "text/plain": [
       "1"
      ]
     },
     "execution_count": 10,
     "metadata": {},
     "output_type": "execute_result"
    }
   ],
   "source": [
    "[\"Hola\", \"mundo\", \"mundo\"].index(\"mundo\")"
   ]
  },
  {
   "cell_type": "code",
   "execution_count": 1,
   "id": "b4eb3641-1d4e-42fa-83c2-5433f040ba56",
   "metadata": {
    "collapsed": false,
    "jupyter": {
     "outputs_hidden": false
    }
   },
   "outputs": [
    {
     "ename": "ValueError",
     "evalue": "'mundoz' is not in list",
     "output_type": "error",
     "traceback": [
      "\u001b[1;31m---------------------------------------------------------------------------\u001b[0m",
      "\u001b[1;31mValueError\u001b[0m                                Traceback (most recent call last)",
      "\u001b[1;32m<ipython-input-1-3c3755903d17>\u001b[0m in \u001b[0;36m<module>\u001b[1;34m()\u001b[0m\n\u001b[1;32m----> 1\u001b[1;33m \u001b[1;33m[\u001b[0m\u001b[1;34m\"Hola\"\u001b[0m\u001b[1;33m,\u001b[0m \u001b[1;34m\"mundo\"\u001b[0m\u001b[1;33m,\u001b[0m \u001b[1;34m\"mundo\"\u001b[0m\u001b[1;33m]\u001b[0m\u001b[1;33m.\u001b[0m\u001b[0mindex\u001b[0m\u001b[1;33m(\u001b[0m\u001b[1;34m\"mundoz\"\u001b[0m\u001b[1;33m)\u001b[0m\u001b[1;33m\u001b[0m\u001b[0m\n\u001b[0m",
      "\u001b[1;31mValueError\u001b[0m: 'mundoz' is not in list"
     ]
    }
   ],
   "source": [
    "[\"Hola\", \"mundo\", \"mundo\"].index(\"mundoz\")"
   ]
  },
  {
   "cell_type": "markdown",
   "id": "76c5a52c-f263-4123-80d0-3c463993ef3a",
   "metadata": {},
   "source": [
    "### insert(indice, valor): Agrega un ítem a la lista en un índice específico"
   ]
  },
  {
   "cell_type": "markdown",
   "id": "ae50d191-5158-4147-9581-c006c62b3bcb",
   "metadata": {},
   "source": [
    "#### Primera posición (0)"
   ]
  },
  {
   "cell_type": "code",
   "execution_count": 18,
   "id": "89594d77-55a6-43b2-b831-6b529fd1e867",
   "metadata": {
    "collapsed": true,
    "jupyter": {
     "outputs_hidden": true
    }
   },
   "outputs": [],
   "source": [
    "l = [1,2,3]\n",
    "l.insert(0,0)"
   ]
  },
  {
   "cell_type": "code",
   "execution_count": 19,
   "id": "1d04d65e-ee10-4b36-a664-b57e796fb4ee",
   "metadata": {
    "collapsed": false,
    "jupyter": {
     "outputs_hidden": false
    }
   },
   "outputs": [
    {
     "name": "stdout",
     "output_type": "stream",
     "text": [
      "[0, 1, 2, 3]\n"
     ]
    }
   ],
   "source": [
    "print(l)"
   ]
  },
  {
   "cell_type": "markdown",
   "id": "e4e6d549-947c-4742-ac57-a5ae7ea3bd73",
   "metadata": {},
   "source": [
    "#### Penúltima posición (-1)"
   ]
  },
  {
   "cell_type": "code",
   "execution_count": 3,
   "id": "3efd1249-92cc-4fa7-bd14-e8e2c1e3a3c5",
   "metadata": {
    "collapsed": true,
    "jupyter": {
     "outputs_hidden": true
    }
   },
   "outputs": [],
   "source": [
    "l = [5,10,15,25]\n",
    "l.insert(-1,20)"
   ]
  },
  {
   "cell_type": "code",
   "execution_count": 4,
   "id": "885987d4-a762-4243-bc8e-d607480bf315",
   "metadata": {
    "collapsed": false,
    "jupyter": {
     "outputs_hidden": false
    }
   },
   "outputs": [
    {
     "name": "stdout",
     "output_type": "stream",
     "text": [
      "[5, 10, 15, 20, 25]\n"
     ]
    }
   ],
   "source": [
    "print(l)"
   ]
  },
  {
   "cell_type": "markdown",
   "id": "1e0d4e2f-098c-453c-b3ec-cf873f6e7c42",
   "metadata": {},
   "source": [
    "#### Última posición en una lista (podemos utilizar len)"
   ]
  },
  {
   "cell_type": "code",
   "execution_count": 5,
   "id": "975be9ba-4edc-498c-94bf-8f5fd80d6a66",
   "metadata": {
    "collapsed": false,
    "jupyter": {
     "outputs_hidden": false
    }
   },
   "outputs": [],
   "source": [
    "n = len(l)\n",
    "l.insert(n,30)"
   ]
  },
  {
   "cell_type": "code",
   "execution_count": 6,
   "id": "194242a1-89bc-4af6-b8fc-d32611b3ee19",
   "metadata": {
    "collapsed": false,
    "jupyter": {
     "outputs_hidden": false
    }
   },
   "outputs": [
    {
     "name": "stdout",
     "output_type": "stream",
     "text": [
      "[5, 10, 15, 20, 25, 30]\n"
     ]
    }
   ],
   "source": [
    "print(l)"
   ]
  },
  {
   "cell_type": "markdown",
   "id": "980ead34-f38b-4054-9e94-ebff35642b4d",
   "metadata": {},
   "source": [
    "#### Una posición fuera de rango (999)"
   ]
  },
  {
   "cell_type": "code",
   "execution_count": 32,
   "id": "1eccfe43-81bd-49e9-bf92-187d5c840dd3",
   "metadata": {
    "collapsed": true,
    "jupyter": {
     "outputs_hidden": true
    }
   },
   "outputs": [],
   "source": [
    "l.insert(20,999)"
   ]
  },
  {
   "cell_type": "code",
   "execution_count": 33,
   "id": "a4003878-af1d-483f-9315-3cf5e492b40d",
   "metadata": {
    "collapsed": false,
    "jupyter": {
     "outputs_hidden": false
    }
   },
   "outputs": [
    {
     "name": "stdout",
     "output_type": "stream",
     "text": [
      "[5, 10, 15, 20, 25, 30, 999]\n"
     ]
    }
   ],
   "source": [
    "print(l)"
   ]
  },
  {
   "cell_type": "markdown",
   "id": "bc073ea0-697c-4756-959b-b80704b3f4cb",
   "metadata": {},
   "source": [
    "### pop(): Extrae un ítem de la lista y lo borra"
   ]
  },
  {
   "cell_type": "code",
   "execution_count": 34,
   "id": "1c1b5ebb-907f-4f9f-8165-3de8161ee006",
   "metadata": {
    "collapsed": true,
    "jupyter": {
     "outputs_hidden": true
    }
   },
   "outputs": [],
   "source": [
    "l = [10,20,30,40,50]"
   ]
  },
  {
   "cell_type": "code",
   "execution_count": 35,
   "id": "f46be0b8-e9f3-495e-8089-9d40f8380116",
   "metadata": {
    "collapsed": false,
    "jupyter": {
     "outputs_hidden": false
    }
   },
   "outputs": [
    {
     "data": {
      "text/plain": [
       "50"
      ]
     },
     "execution_count": 35,
     "metadata": {},
     "output_type": "execute_result"
    }
   ],
   "source": [
    "l.pop()"
   ]
  },
  {
   "cell_type": "code",
   "execution_count": 36,
   "id": "a83e334b-1150-4973-b2c7-7b19ae818944",
   "metadata": {
    "collapsed": false,
    "jupyter": {
     "outputs_hidden": false
    }
   },
   "outputs": [
    {
     "name": "stdout",
     "output_type": "stream",
     "text": [
      "[10, 20, 30, 40]\n"
     ]
    }
   ],
   "source": [
    "print(l)"
   ]
  },
  {
   "cell_type": "markdown",
   "id": "b809e4fa-7773-4c95-bb22-e8b2242227ed",
   "metadata": {},
   "source": [
    "#### Podemos indicarle un índice con el elemento a sacar (0 es el primer ítem)"
   ]
  },
  {
   "cell_type": "code",
   "execution_count": 37,
   "id": "06d7752a-13f6-4a3e-9531-21d65942f671",
   "metadata": {
    "collapsed": false,
    "jupyter": {
     "outputs_hidden": false
    }
   },
   "outputs": [
    {
     "data": {
      "text/plain": [
       "10"
      ]
     },
     "execution_count": 37,
     "metadata": {},
     "output_type": "execute_result"
    }
   ],
   "source": [
    "l.pop(0)"
   ]
  },
  {
   "cell_type": "code",
   "execution_count": 38,
   "id": "09af7622-9433-4c74-9c80-9fb1d1abee27",
   "metadata": {
    "collapsed": false,
    "jupyter": {
     "outputs_hidden": false
    }
   },
   "outputs": [
    {
     "name": "stdout",
     "output_type": "stream",
     "text": [
      "[20, 30, 40]\n"
     ]
    }
   ],
   "source": [
    "print(l)"
   ]
  },
  {
   "cell_type": "markdown",
   "id": "611bf00c-ee93-42d0-abbf-28deda544ed5",
   "metadata": {},
   "source": [
    "### remove(): Borra un ítem de la lista directamente a partir del índice"
   ]
  },
  {
   "cell_type": "code",
   "execution_count": 39,
   "id": "241022e9-c4f1-40bf-b4c4-7fd73168e35b",
   "metadata": {
    "collapsed": true,
    "jupyter": {
     "outputs_hidden": true
    }
   },
   "outputs": [],
   "source": [
    "l.remove(30)"
   ]
  },
  {
   "cell_type": "code",
   "execution_count": 40,
   "id": "f4498052-5c53-405d-b13b-873486289b1a",
   "metadata": {
    "collapsed": false,
    "jupyter": {
     "outputs_hidden": false
    }
   },
   "outputs": [
    {
     "name": "stdout",
     "output_type": "stream",
     "text": [
      "[20, 40]\n"
     ]
    }
   ],
   "source": [
    "print(l)"
   ]
  },
  {
   "cell_type": "code",
   "execution_count": 41,
   "id": "ddad8f42-7fe9-45d9-85e0-a3836f5a61ec",
   "metadata": {
    "collapsed": true,
    "jupyter": {
     "outputs_hidden": true
    }
   },
   "outputs": [],
   "source": [
    "l = [20,30,30,30,40]"
   ]
  },
  {
   "cell_type": "code",
   "execution_count": 42,
   "id": "6ac6ee02-92da-44e4-990a-3fffcc56f351",
   "metadata": {
    "collapsed": true,
    "jupyter": {
     "outputs_hidden": true
    }
   },
   "outputs": [],
   "source": [
    "l.remove(30)"
   ]
  },
  {
   "cell_type": "code",
   "execution_count": 43,
   "id": "eb5aa853-e28b-42ad-a723-edbd62caa81a",
   "metadata": {
    "collapsed": false,
    "jupyter": {
     "outputs_hidden": false
    }
   },
   "outputs": [
    {
     "name": "stdout",
     "output_type": "stream",
     "text": [
      "[20, 30, 30, 40]\n"
     ]
    }
   ],
   "source": [
    "print(l)"
   ]
  },
  {
   "cell_type": "markdown",
   "id": "c6ddd33b-4ca5-4e9f-8012-04363c0b1a65",
   "metadata": {},
   "source": [
    "### reverse(): Le da la vuelta a la lista actual"
   ]
  },
  {
   "cell_type": "code",
   "execution_count": 44,
   "id": "4e2992ac-9ee4-482f-ae92-0fac34c29f48",
   "metadata": {
    "collapsed": true,
    "jupyter": {
     "outputs_hidden": true
    }
   },
   "outputs": [],
   "source": [
    "l.reverse()"
   ]
  },
  {
   "cell_type": "code",
   "execution_count": 45,
   "id": "115e5a0c-f7ca-4e53-bb66-0de062347e17",
   "metadata": {
    "collapsed": false,
    "jupyter": {
     "outputs_hidden": false
    }
   },
   "outputs": [
    {
     "name": "stdout",
     "output_type": "stream",
     "text": [
      "[40, 30, 30, 20]\n"
     ]
    }
   ],
   "source": [
    "print(l)"
   ]
  },
  {
   "cell_type": "markdown",
   "id": "39ab81fe-ec2c-4991-846c-ba77623610eb",
   "metadata": {},
   "source": [
    "#### Las cadenas no tienen el método .reverse() pero podemos simularlo haciendo unas conversiones..."
   ]
  },
  {
   "cell_type": "code",
   "execution_count": 58,
   "id": "3952ff75-3d0d-4f48-913f-fa21cd2102c8",
   "metadata": {
    "collapsed": false,
    "jupyter": {
     "outputs_hidden": false
    }
   },
   "outputs": [
    {
     "ename": "AttributeError",
     "evalue": "'str' object has no attribute 'reverse'",
     "output_type": "error",
     "traceback": [
      "\u001b[1;31m---------------------------------------------------------------------------\u001b[0m",
      "\u001b[1;31mAttributeError\u001b[0m                            Traceback (most recent call last)",
      "\u001b[1;32m<ipython-input-58-eb5308f434bf>\u001b[0m in \u001b[0;36m<module>\u001b[1;34m()\u001b[0m\n\u001b[1;32m----> 1\u001b[1;33m \u001b[1;34m\"Hola mundo\"\u001b[0m\u001b[1;33m.\u001b[0m\u001b[0mreverse\u001b[0m\u001b[1;33m(\u001b[0m\u001b[1;33m)\u001b[0m\u001b[1;33m\u001b[0m\u001b[0m\n\u001b[0m",
      "\u001b[1;31mAttributeError\u001b[0m: 'str' object has no attribute 'reverse'"
     ]
    }
   ],
   "source": [
    "\"Hola mundo\".reverse()"
   ]
  },
  {
   "cell_type": "code",
   "execution_count": 59,
   "id": "6103a354-ee30-4c60-a049-e335320a93de",
   "metadata": {
    "collapsed": true,
    "jupyter": {
     "outputs_hidden": true
    }
   },
   "outputs": [],
   "source": [
    "lista = list(\"Hola mundo\")"
   ]
  },
  {
   "cell_type": "code",
   "execution_count": 60,
   "id": "3bd695cc-9bdb-422a-8b8e-1c18f1254f42",
   "metadata": {
    "collapsed": false,
    "jupyter": {
     "outputs_hidden": false
    }
   },
   "outputs": [
    {
     "data": {
      "text/plain": [
       "['H', 'o', 'l', 'a', ' ', 'm', 'u', 'n', 'd', 'o']"
      ]
     },
     "execution_count": 60,
     "metadata": {},
     "output_type": "execute_result"
    }
   ],
   "source": [
    "lista"
   ]
  },
  {
   "cell_type": "code",
   "execution_count": 61,
   "id": "fdb7199a-f43b-40e4-9c25-7dc0b68daa43",
   "metadata": {
    "collapsed": true,
    "jupyter": {
     "outputs_hidden": true
    }
   },
   "outputs": [],
   "source": [
    "lista.reverse()"
   ]
  },
  {
   "cell_type": "code",
   "execution_count": 62,
   "id": "a8c8f7c3-aba3-4015-93e1-a1a3dc006b23",
   "metadata": {
    "collapsed": false,
    "jupyter": {
     "outputs_hidden": false
    }
   },
   "outputs": [
    {
     "data": {
      "text/plain": [
       "['o', 'd', 'n', 'u', 'm', ' ', 'a', 'l', 'o', 'H']"
      ]
     },
     "execution_count": 62,
     "metadata": {},
     "output_type": "execute_result"
    }
   ],
   "source": [
    "lista"
   ]
  },
  {
   "cell_type": "code",
   "execution_count": 63,
   "id": "c83e2ad2-2974-45a6-82eb-e9e49b963f9e",
   "metadata": {
    "collapsed": true,
    "jupyter": {
     "outputs_hidden": true
    }
   },
   "outputs": [],
   "source": [
    "cadena = \"\".join(lista)"
   ]
  },
  {
   "cell_type": "code",
   "execution_count": 64,
   "id": "cd720653-5f08-463b-9237-b28413abe4b2",
   "metadata": {
    "collapsed": false,
    "jupyter": {
     "outputs_hidden": false
    }
   },
   "outputs": [
    {
     "data": {
      "text/plain": [
       "'odnum aloH'"
      ]
     },
     "execution_count": 64,
     "metadata": {},
     "output_type": "execute_result"
    }
   ],
   "source": [
    "cadena"
   ]
  },
  {
   "cell_type": "markdown",
   "id": "3e378be6-852c-47be-9d46-060b950a6111",
   "metadata": {},
   "source": [
    "### sort(): Ordena automáticamente los ítems de una lista por su valor de menor a mayor"
   ]
  },
  {
   "cell_type": "code",
   "execution_count": 65,
   "id": "f8de7580-2475-458e-833e-a822bf93e5be",
   "metadata": {
    "collapsed": true,
    "jupyter": {
     "outputs_hidden": true
    }
   },
   "outputs": [],
   "source": [
    "lista = [5,-10,35,0,-65,100]"
   ]
  },
  {
   "cell_type": "code",
   "execution_count": 66,
   "id": "59ed8d7b-a3db-47be-8faf-4aa0e3e16003",
   "metadata": {
    "collapsed": true,
    "jupyter": {
     "outputs_hidden": true
    }
   },
   "outputs": [],
   "source": [
    "lista.sort()"
   ]
  },
  {
   "cell_type": "code",
   "execution_count": 67,
   "id": "5b0812e1-1eba-438d-8a88-8a8060e91096",
   "metadata": {
    "collapsed": false,
    "jupyter": {
     "outputs_hidden": false
    }
   },
   "outputs": [
    {
     "data": {
      "text/plain": [
       "[-65, -10, 0, 5, 35, 100]"
      ]
     },
     "execution_count": 67,
     "metadata": {},
     "output_type": "execute_result"
    }
   ],
   "source": [
    "lista"
   ]
  },
  {
   "cell_type": "markdown",
   "id": "9644ade5-3d11-4dd0-a6e4-d79ddf99d72b",
   "metadata": {},
   "source": [
    "#### Podemos utilizar el argumento reverse=True para indicar que la ordene del revés"
   ]
  },
  {
   "cell_type": "code",
   "execution_count": 68,
   "id": "87b7a2dc-3f39-4755-b1a4-f879db393773",
   "metadata": {
    "collapsed": true,
    "jupyter": {
     "outputs_hidden": true
    }
   },
   "outputs": [],
   "source": [
    "lista.sort(reverse=True)"
   ]
  },
  {
   "cell_type": "code",
   "execution_count": 69,
   "id": "dccf90d4-4f2f-4223-b00d-6530dbe21b31",
   "metadata": {
    "collapsed": false,
    "jupyter": {
     "outputs_hidden": false
    }
   },
   "outputs": [
    {
     "data": {
      "text/plain": [
       "[100, 35, 5, 0, -10, -65]"
      ]
     },
     "execution_count": 69,
     "metadata": {},
     "output_type": "execute_result"
    }
   ],
   "source": [
    "lista"
   ]
  }
 ],
 "metadata": {
  "kernelspec": {
   "display_name": "Python 3 (ipykernel)",
   "language": "python",
   "name": "python3"
  },
  "language_info": {
   "codemirror_mode": {
    "name": "ipython",
    "version": 3
   },
   "file_extension": ".py",
   "mimetype": "text/x-python",
   "name": "python",
   "nbconvert_exporter": "python",
   "pygments_lexer": "ipython3",
   "version": "3.10.0"
  }
 },
 "nbformat": 4,
 "nbformat_minor": 5
}
