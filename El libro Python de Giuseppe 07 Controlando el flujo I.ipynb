{
 "cells": [
  {
   "cell_type": "markdown",
   "id": "cea39329-a026-4087-b50a-17270cc2d7d1",
   "metadata": {},
   "source": [
    "# **Controlando el Flujo**"
   ]
  },
  {
   "cell_type": "markdown",
   "id": "4b994509-00c9-43e9-80f4-6a9350b0c4cf",
   "metadata": {},
   "source": [
    "## **Operadores lógicos**"
   ]
  },
  {
   "cell_type": "markdown",
   "id": "1d79d15c-6b1c-4753-8137-ff8166d2f43b",
   "metadata": {},
   "source": [
    "### Representa la mínima expresión racional:\n",
    "- Verdadero (True)\n",
    "- Falso (False)"
   ]
  },
  {
   "cell_type": "code",
   "execution_count": null,
   "id": "0f28c7f0-e513-4e49-b052-7f1164bd86e8",
   "metadata": {
    "collapsed": false,
    "jupyter": {
     "outputs_hidden": false
    }
   },
   "outputs": [],
   "source": [
    "1+1 == 3"
   ]
  },
  {
   "cell_type": "code",
   "execution_count": null,
   "id": "f2954c32-384b-480e-b4dd-c830a6dd3eb8",
   "metadata": {
    "collapsed": false,
    "jupyter": {
     "outputs_hidden": false
    }
   },
   "outputs": [],
   "source": [
    "1+1 == 2"
   ]
  },
  {
   "cell_type": "markdown",
   "id": "72bbc088-9d6e-4dbc-a86e-eb62997409c7",
   "metadata": {},
   "source": [
    "### Observar que para comparar se usa **\"==\"** y no \"=\" que es para asignaciones de valores a variables"
   ]
  },
  {
   "cell_type": "markdown",
   "id": "1f41e44a-c904-4231-84a1-2014931ae86f",
   "metadata": {},
   "source": [
    "# Los operadores relacionales\n",
    "Sirven para comparar dos valores, dependiendo del resultado de la comparación pueden devolver:\n",
    "- Verdadero (True), si es cierta\n",
    "- Falso (False), si no es cierta"
   ]
  },
  {
   "cell_type": "code",
   "execution_count": null,
   "id": "55acca2c-cb97-44da-b75b-2746cfc5a05e",
   "metadata": {
    "collapsed": false,
    "jupyter": {
     "outputs_hidden": false
    }
   },
   "outputs": [],
   "source": [
    "# Igual que\n",
    "3 == 2"
   ]
  },
  {
   "cell_type": "code",
   "execution_count": null,
   "id": "0a37c951-fd74-4c78-82fa-c9d9331a6d4f",
   "metadata": {
    "collapsed": false,
    "jupyter": {
     "outputs_hidden": false
    }
   },
   "outputs": [],
   "source": [
    "# Distinto de\n",
    "3 != 2"
   ]
  },
  {
   "cell_type": "code",
   "execution_count": null,
   "id": "299212d5-9499-48a5-97f7-2f55379cf5ff",
   "metadata": {
    "collapsed": false,
    "jupyter": {
     "outputs_hidden": false
    }
   },
   "outputs": [],
   "source": [
    "# Mayor que\n",
    "3 > 2"
   ]
  },
  {
   "cell_type": "code",
   "execution_count": null,
   "id": "dc532f7b-acbd-48d7-af9f-e4711e70abfb",
   "metadata": {
    "collapsed": false,
    "jupyter": {
     "outputs_hidden": false
    }
   },
   "outputs": [],
   "source": [
    "# Menor que\n",
    "3 < 2"
   ]
  },
  {
   "cell_type": "code",
   "execution_count": null,
   "id": "c7443479-d50f-4aeb-b9ab-5d575b5a8962",
   "metadata": {
    "collapsed": false,
    "jupyter": {
     "outputs_hidden": false
    }
   },
   "outputs": [],
   "source": [
    "# Mayor o igual que\n",
    "3 >= 4"
   ]
  },
  {
   "cell_type": "code",
   "execution_count": null,
   "id": "5ebe6bef-01d3-497b-99dd-fe09c99a6f8a",
   "metadata": {
    "collapsed": false,
    "jupyter": {
     "outputs_hidden": false
    }
   },
   "outputs": [],
   "source": [
    "# Menor o igual que\n",
    "3 <= 4"
   ]
  },
  {
   "cell_type": "markdown",
   "id": "70ab50b6-6515-4a4b-a835-7bdb0815c9b6",
   "metadata": {},
   "source": [
    "#### También podemos comparar variables"
   ]
  },
  {
   "cell_type": "code",
   "execution_count": null,
   "id": "036fd1e2-0dba-4741-b2ff-ae42dfcdeab8",
   "metadata": {
    "collapsed": false,
    "jupyter": {
     "outputs_hidden": false
    }
   },
   "outputs": [],
   "source": [
    "a = 10\n",
    "b = 5\n",
    "a > b"
   ]
  },
  {
   "cell_type": "code",
   "execution_count": null,
   "id": "0f56336a-8a32-43db-8334-2e44f653642c",
   "metadata": {
    "collapsed": false,
    "jupyter": {
     "outputs_hidden": false
    }
   },
   "outputs": [],
   "source": [
    "b != a"
   ]
  },
  {
   "cell_type": "code",
   "execution_count": null,
   "id": "25933e88-53ea-4f47-89f5-3820ede25969",
   "metadata": {
    "collapsed": false,
    "jupyter": {
     "outputs_hidden": false
    }
   },
   "outputs": [],
   "source": [
    "a == b*2"
   ]
  },
  {
   "cell_type": "markdown",
   "id": "0b08eace-c9d1-4df9-a402-9cddd1c8512a",
   "metadata": {},
   "source": [
    "#### Y otros tipos, como cadenas, listas, el resultado de algunas funciones o los propios tipos lógicos"
   ]
  },
  {
   "cell_type": "code",
   "execution_count": null,
   "id": "912df35e-bcff-46f6-88b8-40d9eb57ce7e",
   "metadata": {
    "collapsed": false,
    "jupyter": {
     "outputs_hidden": false
    }
   },
   "outputs": [],
   "source": [
    "\"Hola\" == \"Hola\""
   ]
  },
  {
   "cell_type": "code",
   "execution_count": null,
   "id": "9ba40216-69b0-4f6c-a06c-2afa447bbd9a",
   "metadata": {
    "collapsed": false,
    "jupyter": {
     "outputs_hidden": false
    }
   },
   "outputs": [],
   "source": [
    "\"Hola\" != \"Hola\""
   ]
  },
  {
   "cell_type": "code",
   "execution_count": null,
   "id": "1e889ecb-a2fa-4e6b-984e-cd55757788e5",
   "metadata": {
    "collapsed": false,
    "jupyter": {
     "outputs_hidden": false
    }
   },
   "outputs": [],
   "source": [
    "c = \"Hola\"\n",
    "c[0] == \"H\""
   ]
  },
  {
   "cell_type": "code",
   "execution_count": null,
   "id": "af0a337b-9e2a-4e48-bbd0-d032fada85d3",
   "metadata": {
    "collapsed": false,
    "jupyter": {
     "outputs_hidden": false
    }
   },
   "outputs": [],
   "source": [
    "c[-1] == \"a\""
   ]
  },
  {
   "cell_type": "code",
   "execution_count": null,
   "id": "b81ec757-35b4-4ce0-84cf-4ec2ccf8f2d3",
   "metadata": {
    "collapsed": false,
    "jupyter": {
     "outputs_hidden": false
    }
   },
   "outputs": [],
   "source": [
    "l1 = [0,1,2]\n",
    "l2 = [2,3,4]\n",
    "l1 == l2"
   ]
  },
  {
   "cell_type": "code",
   "execution_count": null,
   "id": "2d6222bf-bc49-4d5a-a8bd-fbb78bfec88d",
   "metadata": {
    "collapsed": false,
    "jupyter": {
     "outputs_hidden": false
    }
   },
   "outputs": [],
   "source": [
    "len(l1) == len(l2)"
   ]
  },
  {
   "cell_type": "code",
   "execution_count": null,
   "id": "dbee5c25-9384-473c-8e9e-6c9584e5a125",
   "metadata": {
    "collapsed": false,
    "jupyter": {
     "outputs_hidden": false
    }
   },
   "outputs": [],
   "source": [
    "l1[-1] == l2[0]"
   ]
  },
  {
   "cell_type": "code",
   "execution_count": null,
   "id": "038f5206-200d-4f04-8d3e-23b308ca3df2",
   "metadata": {
    "collapsed": false,
    "jupyter": {
     "outputs_hidden": false
    }
   },
   "outputs": [],
   "source": [
    "True == True"
   ]
  },
  {
   "cell_type": "code",
   "execution_count": null,
   "id": "efd648c3-db5c-4406-b79f-e0784a799881",
   "metadata": {
    "collapsed": false,
    "jupyter": {
     "outputs_hidden": false
    }
   },
   "outputs": [],
   "source": [
    "False == True"
   ]
  },
  {
   "cell_type": "code",
   "execution_count": null,
   "id": "8656f220-fabf-4383-8b02-ed93646fda71",
   "metadata": {
    "collapsed": false,
    "jupyter": {
     "outputs_hidden": false
    }
   },
   "outputs": [],
   "source": [
    "False != True"
   ]
  },
  {
   "cell_type": "code",
   "execution_count": null,
   "id": "5605963a-041f-4efb-9b57-e454869a7726",
   "metadata": {
    "collapsed": false,
    "jupyter": {
     "outputs_hidden": false
    }
   },
   "outputs": [],
   "source": [
    "True > False"
   ]
  },
  {
   "cell_type": "code",
   "execution_count": null,
   "id": "49e59605-747f-4b6a-aeef-d75530084867",
   "metadata": {
    "collapsed": false,
    "jupyter": {
     "outputs_hidden": false
    }
   },
   "outputs": [],
   "source": [
    "False > True"
   ]
  },
  {
   "cell_type": "markdown",
   "id": "5c461bd9-e5f3-4706-94fe-a236f546fbda",
   "metadata": {},
   "source": [
    "#### La representación aritmética de True y False equivale a 1 y 0 respectivamente"
   ]
  },
  {
   "cell_type": "code",
   "execution_count": null,
   "id": "55f4de97-72a7-4d78-8ddf-b26b34d82693",
   "metadata": {
    "collapsed": false,
    "jupyter": {
     "outputs_hidden": false
    }
   },
   "outputs": [],
   "source": [
    "True * 3"
   ]
  },
  {
   "cell_type": "code",
   "execution_count": null,
   "id": "c3fdffbf-88b6-4ad5-93a9-02e519842b4d",
   "metadata": {
    "collapsed": false,
    "jupyter": {
     "outputs_hidden": false
    }
   },
   "outputs": [],
   "source": [
    "False / 5"
   ]
  },
  {
   "cell_type": "code",
   "execution_count": null,
   "id": "37cdcb62-0491-4291-8e87-e0bf9023fa38",
   "metadata": {
    "collapsed": false,
    "jupyter": {
     "outputs_hidden": false
    }
   },
   "outputs": [],
   "source": [
    "True * False"
   ]
  },
  {
   "cell_type": "markdown",
   "id": "ec40008b-72f4-488e-abb1-ce2cb5150698",
   "metadata": {},
   "source": [
    "# Operadores lógicos\n",
    "Encontramos 3 básicos:\n",
    "- Not\n",
    "- And\n",
    "- Or"
   ]
  },
  {
   "cell_type": "markdown",
   "id": "ae5144fa-4c1d-4461-afd5-8c40c6d6f8eb",
   "metadata": {},
   "source": [
    "## Not - Negación lógica"
   ]
  },
  {
   "cell_type": "code",
   "execution_count": null,
   "id": "732991ad-ed77-48fa-9608-321a2f8382e9",
   "metadata": {
    "collapsed": false,
    "jupyter": {
     "outputs_hidden": false
    }
   },
   "outputs": [],
   "source": [
    "not True"
   ]
  },
  {
   "cell_type": "code",
   "execution_count": null,
   "id": "a70ebe0c-9b21-4869-9cca-b641543d07a3",
   "metadata": {
    "collapsed": false,
    "jupyter": {
     "outputs_hidden": false
    }
   },
   "outputs": [],
   "source": [
    "not True == False"
   ]
  },
  {
   "cell_type": "markdown",
   "id": "a0d94f80-d4c0-450c-af34-a9b54982c29e",
   "metadata": {},
   "source": [
    "## And - Conjunción lógica (agrupa uniendo)"
   ]
  },
  {
   "cell_type": "code",
   "execution_count": null,
   "id": "fe05110f-0201-4739-be9f-0f0eb6a3d623",
   "metadata": {
    "collapsed": false,
    "jupyter": {
     "outputs_hidden": false
    }
   },
   "outputs": [],
   "source": [
    "True and True"
   ]
  },
  {
   "cell_type": "code",
   "execution_count": null,
   "id": "865c4dee-c348-45a8-a3ac-855b8f1b8d54",
   "metadata": {
    "collapsed": false,
    "jupyter": {
     "outputs_hidden": false
    }
   },
   "outputs": [],
   "source": [
    "True and False"
   ]
  },
  {
   "cell_type": "code",
   "execution_count": null,
   "id": "a6a8dabb-458b-46f4-8631-520928bb6a91",
   "metadata": {
    "collapsed": false,
    "jupyter": {
     "outputs_hidden": false
    }
   },
   "outputs": [],
   "source": [
    "False and True"
   ]
  },
  {
   "cell_type": "code",
   "execution_count": null,
   "id": "0e8b0d21-c3cd-4d10-bcde-3ed88611cae5",
   "metadata": {
    "collapsed": false,
    "jupyter": {
     "outputs_hidden": false
    }
   },
   "outputs": [],
   "source": [
    "False and False"
   ]
  },
  {
   "cell_type": "code",
   "execution_count": null,
   "id": "70a73e1b-bd14-4f2d-addc-39e17ed7d9a1",
   "metadata": {
    "collapsed": false,
    "jupyter": {
     "outputs_hidden": false
    }
   },
   "outputs": [],
   "source": [
    "a = 45\n",
    "a > 10 and a < 20"
   ]
  },
  {
   "cell_type": "code",
   "execution_count": null,
   "id": "8de41c71-929b-417e-91d2-7a110bfa654a",
   "metadata": {
    "collapsed": false,
    "jupyter": {
     "outputs_hidden": false
    }
   },
   "outputs": [],
   "source": [
    "c = \"Hola Mundo\"\n",
    "len(c) >= 20 and c[0] == \"H\""
   ]
  },
  {
   "cell_type": "markdown",
   "id": "1e99ccec-66d4-4d84-bbbd-d0d7fff3f840",
   "metadata": {},
   "source": [
    "## Or - Disyunción lógica (agrupa separando)"
   ]
  },
  {
   "cell_type": "code",
   "execution_count": null,
   "id": "678777ce-4465-4ab7-ba4b-0a06e54109cd",
   "metadata": {
    "collapsed": false,
    "jupyter": {
     "outputs_hidden": false
    }
   },
   "outputs": [],
   "source": [
    "True or True"
   ]
  },
  {
   "cell_type": "code",
   "execution_count": null,
   "id": "e4210f33-d0b8-4470-9376-98d74ce37d3a",
   "metadata": {
    "collapsed": false,
    "jupyter": {
     "outputs_hidden": false
    }
   },
   "outputs": [],
   "source": [
    "True or False"
   ]
  },
  {
   "cell_type": "code",
   "execution_count": null,
   "id": "fe143dec-f9a5-4ecc-bdc2-b686f9885ad0",
   "metadata": {
    "collapsed": false,
    "jupyter": {
     "outputs_hidden": false
    }
   },
   "outputs": [],
   "source": [
    "False or True"
   ]
  },
  {
   "cell_type": "code",
   "execution_count": null,
   "id": "3f97974f-8e33-4e7e-a1c4-76d4bdc458bf",
   "metadata": {
    "collapsed": false,
    "jupyter": {
     "outputs_hidden": false
    }
   },
   "outputs": [],
   "source": [
    "False or False"
   ]
  },
  {
   "cell_type": "code",
   "execution_count": null,
   "id": "31172446-1917-4b66-ae49-c3400145cd57",
   "metadata": {
    "collapsed": false,
    "jupyter": {
     "outputs_hidden": false
    }
   },
   "outputs": [],
   "source": [
    "c = \"OTRA COSA\"\n",
    "c == \"EXIT\" or c == \"FIN\" or c == \"SALIR\""
   ]
  },
  {
   "cell_type": "code",
   "execution_count": null,
   "id": "4cb4ffb0-c929-470a-8369-fe28251d53fe",
   "metadata": {
    "collapsed": false,
    "jupyter": {
     "outputs_hidden": false
    }
   },
   "outputs": [],
   "source": [
    "c = \"Lector\"\n",
    "c[0] == \"H\" or c[0] == \"h\""
   ]
  },
  {
   "cell_type": "markdown",
   "id": "d1cab11b-3b9f-4a6d-8ce0-35a0e18fcd46",
   "metadata": {},
   "source": [
    "# Expresiones anidadas\n",
    "Se pueden solucionar empleando las reglas de precedencia:\n",
    "1. Primero los paréntesis porque tienen prioridad\n",
    "2. Segundo, las expresiones aritméticas por sus propias reglas\n",
    "3. Tercero, las expresiones relacionales\n",
    "4. Cuarto, las expresiones lógicas"
   ]
  },
  {
   "cell_type": "code",
   "execution_count": null,
   "id": "8169b18d-09ad-457a-bfb9-b3e446c9384e",
   "metadata": {
    "collapsed": false,
    "jupyter": {
     "outputs_hidden": false
    }
   },
   "outputs": [],
   "source": [
    "a = 10\n",
    "b = 5\n",
    "a * b - 2**b >= 20 and not (a % b) != 0"
   ]
  },
  {
   "cell_type": "markdown",
   "id": "ef617bf4-4347-497c-bc09-b6abae671140",
   "metadata": {},
   "source": [
    "# Operadores de asignación\n",
    "Actúan directamente sobre la variable actual modificando su valor."
   ]
  },
  {
   "cell_type": "code",
   "execution_count": null,
   "id": "00bdda9e-2295-42d8-b456-9141caa35761",
   "metadata": {
    "tags": []
   },
   "outputs": [],
   "source": [
    "a = 0"
   ]
  },
  {
   "cell_type": "code",
   "execution_count": null,
   "id": "b547ca0a-e7c6-4e72-a300-e7f3198229ef",
   "metadata": {
    "collapsed": false,
    "jupyter": {
     "outputs_hidden": false
    }
   },
   "outputs": [],
   "source": [
    "a += 5 # suma en asignación\n",
    "a"
   ]
  },
  {
   "cell_type": "code",
   "execution_count": null,
   "id": "32bcd02c-7126-41a4-a110-ee4645b43116",
   "metadata": {
    "collapsed": false,
    "jupyter": {
     "outputs_hidden": false
    }
   },
   "outputs": [],
   "source": [
    "a -= 10 # resta en asignación\n",
    "a"
   ]
  },
  {
   "cell_type": "code",
   "execution_count": null,
   "id": "f5ec2365-0dbf-4be1-9ff6-b8c837450aea",
   "metadata": {
    "collapsed": false,
    "jupyter": {
     "outputs_hidden": false
    }
   },
   "outputs": [],
   "source": [
    "a = 5\n",
    "a *= 2 # producto en asignación\n",
    "a"
   ]
  },
  {
   "cell_type": "code",
   "execution_count": null,
   "id": "5d54f78c-0e09-49cb-8140-353adc6c2eaf",
   "metadata": {
    "collapsed": false,
    "jupyter": {
     "outputs_hidden": false
    }
   },
   "outputs": [],
   "source": [
    "a /= 2 # división en asignación\n",
    "a"
   ]
  },
  {
   "cell_type": "code",
   "execution_count": null,
   "id": "c17515a6-d468-4441-96ba-c0138217918c",
   "metadata": {
    "tags": []
   },
   "outputs": [],
   "source": [
    "a %= 2 # módulo en asignación"
   ]
  },
  {
   "cell_type": "code",
   "execution_count": null,
   "id": "c660f2d7-449c-4dc0-be75-9e8097ed48df",
   "metadata": {
    "collapsed": false,
    "jupyter": {
     "outputs_hidden": false
    }
   },
   "outputs": [],
   "source": [
    "a"
   ]
  },
  {
   "cell_type": "code",
   "execution_count": null,
   "id": "35e6ecef-a9d5-4528-978e-83c0d7c80ef9",
   "metadata": {
    "tags": []
   },
   "outputs": [],
   "source": [
    "a **= 10 # potencia en asignación"
   ]
  },
  {
   "cell_type": "code",
   "execution_count": null,
   "id": "60dc6635-b583-48a2-adc5-8228ec5d8c02",
   "metadata": {
    "collapsed": false,
    "jupyter": {
     "outputs_hidden": false
    }
   },
   "outputs": [],
   "source": [
    "a"
   ]
  },
  {
   "cell_type": "code",
   "execution_count": null,
   "id": "187566b4-b15c-4365-815f-f496e1590e95",
   "metadata": {
    "collapsed": false,
    "jupyter": {
     "outputs_hidden": false
    }
   },
   "outputs": [],
   "source": [
    "a = 5\n",
    "a **= 5\n",
    "a"
   ]
  },
  {
   "cell_type": "markdown",
   "id": "c7f0d109-e0b9-4fee-9de4-b2b4aabe28fb",
   "metadata": {
    "jp-MarkdownHeadingCollapsed": true,
    "tags": []
   },
   "source": [
    "# Condiciones\n",
    "## Sentencia If (Si)\n",
    "Permite dividir el flujo de un programa en diferentes caminos. El if se ejecuta siempre que la expresión que comprueba devuelva True"
   ]
  },
  {
   "cell_type": "code",
   "execution_count": null,
   "id": "f4c7c84e-f03e-417b-ae98-e8ac92eb2e2d",
   "metadata": {
    "collapsed": false,
    "jupyter": {
     "outputs_hidden": false
    }
   },
   "outputs": [],
   "source": [
    "if True:  # equivale a if not False\n",
    "    print(\"Se cumple la condición\")\n",
    "    print(\"También se muestre este print\")"
   ]
  },
  {
   "cell_type": "markdown",
   "id": "bd565daa-6ee0-44dc-a077-dfda29cc5214",
   "metadata": {},
   "source": [
    "#### Podemos encadenas diferentes If"
   ]
  },
  {
   "cell_type": "code",
   "execution_count": null,
   "id": "4ad74108-b669-4e9b-bbe8-655c7d37c9e5",
   "metadata": {
    "collapsed": false,
    "jupyter": {
     "outputs_hidden": false
    }
   },
   "outputs": [],
   "source": [
    "a = 5\n",
    "if a == 2:\n",
    "    print(\"a vale 2\")\n",
    "if a == 5:\n",
    "    print(\"a vale 5\")"
   ]
  },
  {
   "cell_type": "markdown",
   "id": "34b106d4-2e79-4446-a4b3-fe4de245a4e0",
   "metadata": {},
   "source": [
    "#### O también anidar If dentro de If"
   ]
  },
  {
   "cell_type": "code",
   "execution_count": null,
   "id": "cfe8732c-9199-4d5a-abca-fbc8a1275540",
   "metadata": {
    "collapsed": false,
    "jupyter": {
     "outputs_hidden": false
    }
   },
   "outputs": [],
   "source": [
    "a = 5\n",
    "b = 10\n",
    "if a == 5:\n",
    "    print(\"a vale\",a)\n",
    "    if b == 10:\n",
    "        print(\"y b vale\",b)"
   ]
  },
  {
   "cell_type": "markdown",
   "id": "36d7e054-ced3-4b86-b0d1-fdaccbd96684",
   "metadata": {},
   "source": [
    "#### Como condición podemos evaluar múltiples expresiones, siempre que éstas devuelvan True o False"
   ]
  },
  {
   "cell_type": "code",
   "execution_count": null,
   "id": "e4249685-71c5-4882-be88-7aee408480ef",
   "metadata": {
    "collapsed": false,
    "jupyter": {
     "outputs_hidden": false
    }
   },
   "outputs": [],
   "source": [
    "if a==5 and b == 10:\n",
    "    print(\"a vale 5 y b vale 10\")"
   ]
  },
  {
   "cell_type": "markdown",
   "id": "e6df09a9-3946-44d2-836b-d034ac2614ea",
   "metadata": {},
   "source": [
    "# Sentencia Else (Sino)\n",
    "Se encadena a un If para comprobar el caso contrario (en el que no se cumple la condición)."
   ]
  },
  {
   "cell_type": "code",
   "execution_count": null,
   "id": "430d4525-33fb-420a-9f74-cb365188eac4",
   "metadata": {
    "collapsed": false,
    "jupyter": {
     "outputs_hidden": false
    }
   },
   "outputs": [],
   "source": [
    "n = 11\n",
    "if n % 2 == 0:\n",
    "    print(n,\"es un número par\")\n",
    "else:\n",
    "    print(n,\"es un número impar\")"
   ]
  },
  {
   "cell_type": "markdown",
   "id": "27320f74-6604-43e5-8b04-1b1151e9b9e9",
   "metadata": {},
   "source": [
    "# Sentencia Elif (Sino Si)\n",
    "Se encadena a un if u otro elif para comprobar múltiples condiciones, siempre que las anteriores no se ejecuten."
   ]
  },
  {
   "cell_type": "code",
   "execution_count": null,
   "id": "de2eebc2-a8a9-4ae2-895c-8a34c6dd6084",
   "metadata": {
    "collapsed": false,
    "jupyter": {
     "outputs_hidden": false
    }
   },
   "outputs": [],
   "source": [
    "comando = \"OTRA COSA\"\n",
    "if comando == \"ENTRAR\":\n",
    "    print(\"Bienvenido al sistema\")\n",
    "elif comando == \"SALUDAR\":\n",
    "    print(\"Hola, espero que te lo estés pasando bien aprendiendo Python\")\n",
    "elif comando == \"SALIR\":\n",
    "    print(\"Saliendo del sistema...\")\n",
    "else:\n",
    "    print(\"Este comando no se reconoce\")"
   ]
  },
  {
   "cell_type": "code",
   "execution_count": null,
   "id": "0bb3ac3a-08e9-4823-a932-11e161d285d5",
   "metadata": {
    "collapsed": false,
    "jupyter": {
     "outputs_hidden": false
    }
   },
   "outputs": [],
   "source": [
    "nota = float(input(\"Introduce una nota: \"))\n",
    "if nota >= 9:\n",
    "    print(\"Sobresaliente\")\n",
    "elif nota >= 7:\n",
    "    print(\"Notable\")\n",
    "elif nota >= 6:\n",
    "    print(\"Bien\")\n",
    "elif nota >= 5:\n",
    "    print(\"Suficiente\")\n",
    "else:\n",
    "    print(\"Insuficiente\")"
   ]
  },
  {
   "cell_type": "markdown",
   "id": "cac6172b-5db5-435f-8651-a9ff6dd1eed8",
   "metadata": {},
   "source": [
    "#### Es posible simular el funcionamiento de elif con if utilizando expresiones condicionales"
   ]
  },
  {
   "cell_type": "code",
   "execution_count": null,
   "id": "015887d8-bdab-41de-9a70-d4f1f5ee9038",
   "metadata": {
    "collapsed": false,
    "jupyter": {
     "outputs_hidden": false
    }
   },
   "outputs": [],
   "source": [
    "nota = float(input(\"Introduce una nota: \"))\n",
    "if nota >= 9:\n",
    "    print(\"Sobresaliente\")\n",
    "if nota >= 7 and nota < 9:\n",
    "    print(\"Notable\")\n",
    "if nota >= 6 and nota < 7:\n",
    "    print(\"Bien\")\n",
    "if nota >= 5 and nota < 6:\n",
    "    print(\"Suficiente\")\n",
    "if nota < 5:\n",
    "    print(\"Insuficiente\")"
   ]
  },
  {
   "cell_type": "code",
   "execution_count": null,
   "id": "e6205599-c0bf-43d6-bae8-85e519e6dc1b",
   "metadata": {
    "colab": {
     "base_uri": "https://localhost:8080/"
    },
    "executionInfo": {
     "elapsed": 5,
     "status": "ok",
     "timestamp": 1631649915388,
     "user": {
      "displayName": "Jose Luis Ojeda",
      "photoUrl": "https://lh3.googleusercontent.com/a-/AOh14GioxvwskRaM2HjJwQ_L936mkRS1wMOHPWrqOWUffw=s64",
      "userId": "12240071782040482724"
     },
     "user_tz": 300
    },
    "id": "XUJC6lMbwQya",
    "outputId": "816158aa-6305-44ac-ab41-ea6b86fc9378"
   },
   "outputs": [],
   "source": [
    "a =  33\n",
    "b = 200\n",
    "if b > a:\n",
    "    print(\"b es mayor que a\")\n",
    "\n"
   ]
  },
  {
   "cell_type": "code",
   "execution_count": null,
   "id": "7a3b6ea3-e62c-4b61-b648-15d5f80bc1d3",
   "metadata": {
    "id": "LUWVZ1_hwesS"
   },
   "outputs": [],
   "source": [
    "a = 33\n",
    "b = 200\n",
    "if b > a:\n",
    "    print(\"b es mayor que a\")\n",
    "elif a == b:\n",
    "    print(\"a es igual a b\")\n",
    "else:\n",
    "    print(\"a es mayor que b\")"
   ]
  },
  {
   "cell_type": "code",
   "execution_count": null,
   "id": "91a9c6f7-d0d7-41f4-86c4-3ae913d00917",
   "metadata": {
    "colab": {
     "base_uri": "https://localhost:8080/"
    },
    "executionInfo": {
     "elapsed": 382,
     "status": "ok",
     "timestamp": 1631650350181,
     "user": {
      "displayName": "Jose Luis Ojeda",
      "photoUrl": "https://lh3.googleusercontent.com/a-/AOh14GioxvwskRaM2HjJwQ_L936mkRS1wMOHPWrqOWUffw=s64",
      "userId": "12240071782040482724"
     },
     "user_tz": 300
    },
    "id": "2x46cH307spD",
    "outputId": "e14bcb41-f8ac-4eb6-c717-8e9e9e23fd5b"
   },
   "outputs": [],
   "source": [
    "a =  33\n",
    "b = 200\n",
    "if b > a: print(\"b es mayor que a\")"
   ]
  },
  {
   "cell_type": "code",
   "execution_count": null,
   "id": "e7849aed-2fb2-4d26-8cf8-99df2732b26e",
   "metadata": {
    "colab": {
     "base_uri": "https://localhost:8080/"
    },
    "executionInfo": {
     "elapsed": 390,
     "status": "ok",
     "timestamp": 1631650508606,
     "user": {
      "displayName": "Jose Luis Ojeda",
      "photoUrl": "https://lh3.googleusercontent.com/a-/AOh14GioxvwskRaM2HjJwQ_L936mkRS1wMOHPWrqOWUffw=s64",
      "userId": "12240071782040482724"
     },
     "user_tz": 300
    },
    "id": "17A5OVKw7sby",
    "outputId": "4c7faff0-8b0a-467e-cafe-9bb8e69d6d7b"
   },
   "outputs": [],
   "source": [
    "a = 2222\n",
    "b = 330\n",
    "print(\"A\") if a > b else print(\"B\")"
   ]
  },
  {
   "cell_type": "code",
   "execution_count": null,
   "id": "beada80c-231c-4df2-b493-b56ce017267d",
   "metadata": {
    "colab": {
     "base_uri": "https://localhost:8080/"
    },
    "executionInfo": {
     "elapsed": 379,
     "status": "ok",
     "timestamp": 1631650643094,
     "user": {
      "displayName": "Jose Luis Ojeda",
      "photoUrl": "https://lh3.googleusercontent.com/a-/AOh14GioxvwskRaM2HjJwQ_L936mkRS1wMOHPWrqOWUffw=s64",
      "userId": "12240071782040482724"
     },
     "user_tz": 300
    },
    "id": "oi9JPgIt81Vb",
    "outputId": "7064b872-ebbb-4cbb-e2e4-207a9056f0fa"
   },
   "outputs": [],
   "source": [
    "a = 331\n",
    "b = 337\n",
    "print(\"A\") if a > b else print(\"=\") if a == b else print(\"B\")"
   ]
  },
  {
   "cell_type": "code",
   "execution_count": null,
   "id": "8008174c-7ee4-4ce1-b16f-531d50862e7b",
   "metadata": {
    "colab": {
     "base_uri": "https://localhost:8080/"
    },
    "executionInfo": {
     "elapsed": 493,
     "status": "ok",
     "timestamp": 1631650833279,
     "user": {
      "displayName": "Jose Luis Ojeda",
      "photoUrl": "https://lh3.googleusercontent.com/a-/AOh14GioxvwskRaM2HjJwQ_L936mkRS1wMOHPWrqOWUffw=s64",
      "userId": "12240071782040482724"
     },
     "user_tz": 300
    },
    "id": "mEggss3m9bXW",
    "outputId": "38f5f658-6edf-404c-82e9-9a668a04f5f0"
   },
   "outputs": [],
   "source": [
    "x = 18\n",
    "if x > 10:\n",
    "    print(\"más de 10\")\n",
    "    if x > 20:\n",
    "        print(\"y también mayor que 20\")\n",
    "    else:\n",
    "        print(\"pero no mayor que 20\")"
   ]
  },
  {
   "cell_type": "markdown",
   "id": "72ce6586-21d2-4cb7-a989-c3bf2e2248d4",
   "metadata": {},
   "source": [
    "## Instrucción Pass\n",
    "Sirve para finalizar un bloque, se puede utilizar en un bloque vacío."
   ]
  },
  {
   "cell_type": "code",
   "execution_count": null,
   "id": "a26e9bda-0273-4934-8d6a-7edde568802a",
   "metadata": {
    "tags": []
   },
   "outputs": [],
   "source": [
    "if True:\n",
    "    pass"
   ]
  },
  {
   "cell_type": "markdown",
   "id": "a116eca1-80e5-4595-bce5-85b7f430e8a2",
   "metadata": {},
   "source": [
    "# Iteraciones\n",
    "Iterar significa realizar una acción varias veces. Cada vez que se repite se denomina iteración.\n",
    "## Sentencia While (Mientras)\n",
    "Se basa en repetir un bloque a partir de evaluar una condición lógica, siempre que ésta sea True.\n",
    "\n",
    "Queda en las manos del programador decidir el momento en que la condición cambie a False para hacer que el While finalice.\n"
   ]
  },
  {
   "cell_type": "code",
   "execution_count": null,
   "id": "77034ccb-9105-413f-8742-9b7bcee1f1c7",
   "metadata": {
    "collapsed": false,
    "jupyter": {
     "outputs_hidden": false
    }
   },
   "outputs": [],
   "source": [
    "c = 0\n",
    "while c <= 5:\n",
    "    c+=1\n",
    "    print(\"c vale\",c)"
   ]
  },
  {
   "cell_type": "markdown",
   "id": "3f4b30c4-fbca-4efe-9638-fcb7b4a8443b",
   "metadata": {},
   "source": [
    "## Sentencia Else en bucle While\n",
    "Se encadena al While para ejecutar un bloque de código una vez la condición ya no devuelve True (normalmente al final)."
   ]
  },
  {
   "cell_type": "code",
   "execution_count": null,
   "id": "2f5021f9-4d85-4d0c-bc5f-69c4b5247db1",
   "metadata": {
    "collapsed": false,
    "jupyter": {
     "outputs_hidden": false
    }
   },
   "outputs": [],
   "source": [
    "c = 0\n",
    "while c <= 5:\n",
    "    c+=1\n",
    "    print(\"c vale\",c)\n",
    "else:\n",
    "    print(\"Se ha completado toda la iteración y c vale\",c)"
   ]
  },
  {
   "cell_type": "markdown",
   "id": "73c880a1-4ff0-4a47-822f-5d5aa4abb91d",
   "metadata": {},
   "source": [
    "## Instrucción Break\n",
    "Sirve para \"romper\" la ejecución del While en cualquier momento. No se ejecutará el Else, ya que éste sólo se llama al finalizar la iteración."
   ]
  },
  {
   "cell_type": "code",
   "execution_count": null,
   "id": "7274cc44-c884-4bc4-82de-b4a1a1a85230",
   "metadata": {
    "collapsed": false,
    "jupyter": {
     "outputs_hidden": false
    }
   },
   "outputs": [],
   "source": [
    "c = 0\n",
    "while c <= 5:\n",
    "    c+=1\n",
    "    if (c==4):\n",
    "        print(\"Rompemos el bucle cuando c vale\",c)\n",
    "        break\n",
    "    print(\"c vale\",c)\n",
    "else:\n",
    "    print(\"Se ha completado toda la iteración y c vale\",c)"
   ]
  },
  {
   "cell_type": "markdown",
   "id": "c76641a5-d985-410f-acbd-4dfc6d07a019",
   "metadata": {},
   "source": [
    "## Instrucción Continue\n",
    "Sirve para \"saltarse\" la iteración actual sin romper el bucle."
   ]
  },
  {
   "cell_type": "code",
   "execution_count": null,
   "id": "74dc3e6d-8f76-4655-ba6f-d3638ba7679e",
   "metadata": {
    "collapsed": false,
    "jupyter": {
     "outputs_hidden": false
    }
   },
   "outputs": [],
   "source": [
    "c = 0\n",
    "while c <= 5:\n",
    "    c+=1\n",
    "    if c==3 or c==4:\n",
    "        # print(\"Continuamos con la siguiente iteración\",c)\n",
    "        continue\n",
    "    print(\"c vale\",c)\n",
    "else:\n",
    "    print(\"Se ha completado toda la iteración y c vale\",c)"
   ]
  },
  {
   "cell_type": "markdown",
   "id": "9a408c9f-ad24-4a05-badd-bf86be0bd45e",
   "metadata": {},
   "source": [
    "### Creando un menú interactivo"
   ]
  },
  {
   "cell_type": "code",
   "execution_count": null,
   "id": "1e51d901-5fbe-4491-8472-bd79b8c09039",
   "metadata": {
    "collapsed": false,
    "jupyter": {
     "outputs_hidden": false
    }
   },
   "outputs": [],
   "source": [
    "print(\"Bienvenido al menú interactivo\")\n",
    "while True:\n",
    "    print(\"\"\"¿Qué quieres hacer? Escribe una opción\n",
    "    1) Saludar\n",
    "    2) Sumar dos números\n",
    "    3) Salir\"\"\")\n",
    "    opcion = input()\n",
    "    if opcion == '1':\n",
    "        print(\"Hola, espero que te lo estés pasando bien\")\n",
    "    elif opcion == '2':\n",
    "        n1 = float(input(\"Introduce el primer número: \"))\n",
    "        n2 = float(input(\"Introduce el segundo número: \"))\n",
    "        print(\"El resultado de la suma es: \",n1+n2)\n",
    "    elif opcion =='3':\n",
    "        print(\"¡Hasta luego! Ha sido un placer ayudarte\")\n",
    "        break\n",
    "    else:\n",
    "        print(\"Comando desconocido, vuelve a intentarlo\")"
   ]
  },
  {
   "cell_type": "markdown",
   "id": "ab73d7e5-e237-4ef1-8e22-d37ce75b1c71",
   "metadata": {},
   "source": [
    "## Recorriendo los elementos de una lista utilizando While"
   ]
  },
  {
   "cell_type": "code",
   "execution_count": null,
   "id": "f4e07e14-9861-4e30-bdf0-5fad7f7eeaab",
   "metadata": {
    "collapsed": false,
    "jupyter": {
     "outputs_hidden": false
    }
   },
   "outputs": [],
   "source": [
    "numeros = [1,2,3,4,5,6,7,8,9,10]\n",
    "indice = 0\n",
    "while indice < len(numeros):\n",
    "    print(numeros[indice])\n",
    "    indice+=1"
   ]
  },
  {
   "cell_type": "markdown",
   "id": "745efa67-c14d-48a0-bfca-425d21280a5f",
   "metadata": {},
   "source": [
    "# Sentencia For (Para) con listas"
   ]
  },
  {
   "cell_type": "code",
   "execution_count": null,
   "id": "764726ac-52ba-4571-aed7-cb99c7f215cd",
   "metadata": {
    "collapsed": false,
    "jupyter": {
     "outputs_hidden": false
    },
    "scrolled": true
   },
   "outputs": [],
   "source": [
    "for numero in numeros:  # Para [variable] en [lista]\n",
    "    print(numero)"
   ]
  },
  {
   "cell_type": "markdown",
   "id": "152b23a9-01df-4ea0-9f7c-3efdcbe56c99",
   "metadata": {},
   "source": [
    "## Modificar ítems de la lista al vuelo\n",
    "Para asignar un nuevo valor a los elementos de una lista mientras la recorremos, podríamos intentar asignar al número el nuevo valor:"
   ]
  },
  {
   "cell_type": "code",
   "execution_count": null,
   "id": "5a5b7d8d-fc29-43ef-bd5b-2fed81e01d74",
   "metadata": {},
   "outputs": [],
   "source": [
    "for numero in numeros:\n",
    "    numero *= 10"
   ]
  },
  {
   "cell_type": "code",
   "execution_count": null,
   "id": "72bac0ec-b0ae-4d09-acaa-3d7e24705c4e",
   "metadata": {
    "collapsed": false,
    "jupyter": {
     "outputs_hidden": false
    }
   },
   "outputs": [],
   "source": [
    "numeros"
   ]
  },
  {
   "cell_type": "markdown",
   "id": "b6abaf88-620b-473f-a1e0-13394cfcedce",
   "metadata": {},
   "source": [
    "#### Sin embargo, ésto no funciona. La forma correcta de hacerlo es haciendo referencia al índice de la lista en lugar de la variable:"
   ]
  },
  {
   "cell_type": "code",
   "execution_count": null,
   "id": "b1074603-0cb7-4c53-9300-4d300da3aa0a",
   "metadata": {
    "collapsed": false,
    "jupyter": {
     "outputs_hidden": false
    }
   },
   "outputs": [],
   "source": [
    "indice = 0\n",
    "numeros = [1, 2, 3, 4, 5, 6, 7, 8, 9, 10]\n",
    "for numero in numeros:\n",
    "    numeros[indice] *= 10\n",
    "    indice+=1\n",
    "numeros"
   ]
  },
  {
   "cell_type": "markdown",
   "id": "dd85a490-d58c-44dc-b4fa-e979e459e22f",
   "metadata": {},
   "source": [
    "#### Podemos utilizar la función enumerate() para conseguir el índice y el valor en cada iteración fácilmente:"
   ]
  },
  {
   "cell_type": "code",
   "execution_count": null,
   "id": "7aea32b2-540e-4ba1-aaee-d894d2396089",
   "metadata": {
    "collapsed": false,
    "jupyter": {
     "outputs_hidden": false
    }
   },
   "outputs": [],
   "source": [
    "numeros = [1, 2, 3, 4, 5, 6, 7, 8, 9, 10]\n",
    "for indice,numero in enumerate(numeros):\n",
    "    numeros[indice] *= 10\n",
    "numeros"
   ]
  },
  {
   "cell_type": "markdown",
   "id": "d4928b4c-7736-4086-ad2d-26c6d28eb1b7",
   "metadata": {},
   "source": [
    "## For con cadenas"
   ]
  },
  {
   "cell_type": "code",
   "execution_count": null,
   "id": "8ac934c9-2826-445a-961f-161bee39f326",
   "metadata": {
    "collapsed": false,
    "jupyter": {
     "outputs_hidden": false
    }
   },
   "outputs": [],
   "source": [
    "cadena = \"Hola amigos\"\n",
    "for caracter in cadena:\n",
    "    print(caracter)\n"
   ]
  },
  {
   "cell_type": "markdown",
   "id": "b974afc3-6660-46ce-b45d-2ad3ed8db30a",
   "metadata": {},
   "source": [
    "#### Pero debemos recordar que las cadenas son inmutables:"
   ]
  },
  {
   "cell_type": "code",
   "execution_count": null,
   "id": "6940de2e-0110-4d68-be91-e22fa8556348",
   "metadata": {
    "collapsed": false,
    "jupyter": {
     "outputs_hidden": false
    }
   },
   "outputs": [],
   "source": [
    "for i,c in enumerate(cadena):\n",
    "    cadena[i] = \"*\"\n"
   ]
  },
  {
   "cell_type": "markdown",
   "id": "7879299a-97be-4283-a128-2f29029b61ee",
   "metadata": {},
   "source": [
    "#### Sin embargo siempre podemos generar una nueva cadena:"
   ]
  },
  {
   "cell_type": "code",
   "execution_count": null,
   "id": "7ea2c096-a6de-4df3-898b-6470acb6ccc5",
   "metadata": {},
   "outputs": [],
   "source": [
    "cadena2 = \"\"\n",
    "for caracter in cadena:\n",
    "    cadena2 += caracter * 2"
   ]
  },
  {
   "cell_type": "code",
   "execution_count": null,
   "id": "e4ba040d-e04c-4c11-bba7-032055fb0d93",
   "metadata": {
    "collapsed": false,
    "jupyter": {
     "outputs_hidden": false
    }
   },
   "outputs": [],
   "source": [
    "cadena"
   ]
  },
  {
   "cell_type": "code",
   "execution_count": null,
   "id": "4b6c5a82-8b3d-4df1-8733-2c2126e4ec1c",
   "metadata": {
    "collapsed": false,
    "jupyter": {
     "outputs_hidden": false
    }
   },
   "outputs": [],
   "source": [
    "cadena2"
   ]
  },
  {
   "cell_type": "markdown",
   "id": "55b98449-ef6d-4d97-9cc3-5bc3db84058e",
   "metadata": {},
   "source": [
    "## La función range()\n",
    "Sirve para generar una lista de números que podemos recorrer fácilmente, pero no ocupa memoria porque se interpreta sobre la marcha:"
   ]
  },
  {
   "cell_type": "code",
   "execution_count": null,
   "id": "ecf3a5f1-d8d1-4847-b09a-692489319516",
   "metadata": {
    "collapsed": false,
    "jupyter": {
     "outputs_hidden": false
    }
   },
   "outputs": [],
   "source": [
    "for i in range(10):\n",
    "    print(i)"
   ]
  },
  {
   "cell_type": "code",
   "execution_count": null,
   "id": "9ac7f25b-e979-42a2-a9f6-8cf7520401cc",
   "metadata": {
    "collapsed": false,
    "jupyter": {
     "outputs_hidden": false
    }
   },
   "outputs": [],
   "source": [
    "range(10)"
   ]
  },
  {
   "cell_type": "code",
   "execution_count": null,
   "id": "96f831e4-0b5f-4542-9fd7-e43a0c43800e",
   "metadata": {
    "collapsed": false,
    "jupyter": {
     "outputs_hidden": false
    }
   },
   "outputs": [],
   "source": [
    "for i in [0,1,2,3,4,5,6,7,9]:\n",
    "    print(i)"
   ]
  },
  {
   "cell_type": "markdown",
   "id": "d8259c9d-6bed-4941-9478-30dd8f15c9e7",
   "metadata": {},
   "source": [
    "#### Si queremos conseguir la lista literal podemos transformar el range a una lista:"
   ]
  },
  {
   "cell_type": "code",
   "execution_count": null,
   "id": "c0899e9f-752b-4d97-90ee-d42529b267e6",
   "metadata": {
    "tags": []
   },
   "outputs": [],
   "source": [
    "list(range(10))"
   ]
  },
  {
   "cell_type": "code",
   "execution_count": null,
   "id": "1675be8d-20df-4d1f-a84e-1c8784ecd601",
   "metadata": {
    "colab": {
     "base_uri": "https://localhost:8080/"
    },
    "executionInfo": {
     "elapsed": 9034,
     "status": "ok",
     "timestamp": 1631656774834,
     "user": {
      "displayName": "Jose Luis Ojeda",
      "photoUrl": "https://lh3.googleusercontent.com/a-/AOh14GioxvwskRaM2HjJwQ_L936mkRS1wMOHPWrqOWUffw=s64",
      "userId": "12240071782040482724"
     },
     "user_tz": 300
    },
    "id": "B0AyzHXwMUuK",
    "outputId": "b29108ab-a4bf-434d-ed18-de63b4208286"
   },
   "outputs": [],
   "source": [
    "# convertir segundos a hora, minutos y segundo\n",
    "\n",
    "while True:\n",
    "    while True:\n",
    "        cantidad = int(input(\"Ingrese número de segundos \"))\n",
    "        if cantidad > 0:\n",
    "            break\n",
    "        else:\n",
    "            print(\"cantidad de segundos debe ser mayor a cero\")\n",
    "\n",
    "    horas = cantidad//3600\n",
    "    minutos = (cantidad % 3600) // 60\n",
    "    segundos = (cantidad % 3600) % 60\n",
    "\n",
    "    resultado = f\"{cantidad} segundos equivalen a {horas} horas, \" \\\n",
    "                f\"con {minutos} minutos y {segundos} segundos\"\n",
    "    print(resultado)\n",
    "\n",
    "    respuesta = input(\"Ingrese 'S' si quiere continuar \").upper()\n",
    "    if respuesta != \"S\":\n",
    "        break\n",
    "\n",
    "\n",
    "\n"
   ]
  }
 ],
 "metadata": {
  "kernelspec": {
   "display_name": "Python 3 (ipykernel)",
   "language": "python",
   "name": "python3"
  },
  "language_info": {
   "codemirror_mode": {
    "name": "ipython",
    "version": 3
   },
   "file_extension": ".py",
   "mimetype": "text/x-python",
   "name": "python",
   "nbconvert_exporter": "python",
   "pygments_lexer": "ipython3",
   "version": "3.10.0"
  }
 },
 "nbformat": 4,
 "nbformat_minor": 5
}
