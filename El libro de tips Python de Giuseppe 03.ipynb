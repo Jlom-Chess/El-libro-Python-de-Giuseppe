{
 "cells": [
  {
   "cell_type": "markdown",
   "id": "da2d1cce-b1d6-47f5-8718-72df19fb1b0c",
   "metadata": {},
   "source": [
    "## ***Usando diccionarios para condiciones***"
   ]
  },
  {
   "cell_type": "code",
   "execution_count": null,
   "id": "4c72c05c-7fdf-4eb8-b2b0-d15ebd4c97ed",
   "metadata": {},
   "outputs": [],
   "source": [
    "# Multiples condicones manera directa if\n",
    "\n",
    "import time\n",
    "inicio = time.time() \n",
    "\n",
    "nota = 18\n",
    "if nota < 13:\n",
    "    print(\"Desaprobado\", \"malo\")\n",
    "elif nota < 16:\n",
    "    print(\"aprobado\", \"regular\")\n",
    "elif nota < 18:\n",
    "    print(\"aprobado\", \"bueno\")\n",
    "elif nota < 20:\n",
    "    print(\"aprobado\", \"muy bueno\")\n",
    "else:\n",
    "    print(\"aprobado\", \"excelente\")\n",
    "\n",
    "fin = time.time()\n",
    "tiempoDirectoIf = fin-inicio\n",
    "print(fin-inicio)"
   ]
  },
  {
   "cell_type": "code",
   "execution_count": null,
   "id": "8309434e-e402-4688-a3c6-8fe75d9744c0",
   "metadata": {},
   "outputs": [],
   "source": [
    "# usando dicionarios para evaluar alternativas\n",
    "# usado compresión\n",
    "import time\n",
    "inicio = time.time() \n",
    "\n",
    "notasDicc = {\n",
    "    (x for x in range(0, 13)):[\"Desaprobado\", \"malo\"],\n",
    "    (x for x in range(13, 16)):[\"aprobado\", \"regular\"], \n",
    "    (x for x in range(16, 18)):[\"aprobado\", \"bueno\"],\n",
    "    (x for x in range(18, 20)):[\"aprobado\", \"muy bueno\"],\n",
    "    (20,):[\"aprobado\", \"excelente\"]\n",
    "}\n",
    "\n",
    "nota = 18\n",
    "for i, j in notasDicc.items():\n",
    "    if nota in i:\n",
    "        estado = j[0]\n",
    "        obser = j[1]\n",
    "        break\n",
    "\n",
    "print(estado, obser)\n",
    "fin = time.time()\n",
    "tiempoCompresion = fin-inicio\n",
    "print(fin-inicio)"
   ]
  },
  {
   "cell_type": "code",
   "execution_count": null,
   "id": "d61f067d-5247-4a18-a691-d7ce7954d53b",
   "metadata": {},
   "outputs": [],
   "source": [
    "# Usando formas directas para crear diccionarios\n",
    "\n",
    "import time\n",
    "inicio = time.time() \n",
    "\n",
    "notasDicc = {\n",
    "    (0, 1, 2, 3, 4, 5, 6, 7, 8, 9, 10, 11, 12):[\"Desaprobado\", \"malo\"],\n",
    "    (13, 14, 15):[\"aprobado\", \"regular\"], \n",
    "    (16, 17):[\"aprobado\", \"bueno\"],\n",
    "    (18, 19):[\"aprobado\", \"muy bueno\"],\n",
    "    (20,):[\"aprobado\", \"excelente\"]\n",
    "}\n",
    "\n",
    "nota = 18\n",
    "for i, j in notasDicc.items():\n",
    "    if nota in i:\n",
    "        estado = j[0]\n",
    "        obser = j[1]\n",
    "        break\n",
    "\n",
    "print(estado, obser)\n",
    "fin = time.time()\n",
    "tiempoDirectoDicc = fin-inicio\n",
    "print(fin-inicio)"
   ]
  },
  {
   "cell_type": "code",
   "execution_count": null,
   "id": "70ae58ca-6266-4a71-87a6-4d59269c71bb",
   "metadata": {},
   "outputs": [],
   "source": [
    "# Usando además funciones\n",
    "\n",
    "def califNota(nota):\n",
    "    for i, j in notasDicc.items():\n",
    "        if nota in i:\n",
    "            return j[0], j[1]\n",
    "    \n",
    "import time\n",
    "inicio = time.time() \n",
    "\n",
    "notasDicc = {\n",
    "    (0, 1, 2, 3, 4, 5, 6, 7, 8, 9, 10, 11, 12):[\"Desaprobado\", \"malo\"],\n",
    "    (13, 14, 15):[\"aprobado\", \"regular\"], \n",
    "    (16, 17):[\"aprobado\", \"bueno\"],\n",
    "    (18, 19):[\"aprobado\", \"muy bueno\"],\n",
    "    (20,):[\"aprobado\", \"excelente\"]\n",
    "}\n",
    "\n",
    "nota = 18\n",
    "estado, obvser = califNota(nota)\n",
    "\n",
    "print(estado, obvser)\n",
    "fin = time.time()\n",
    "tiempoConDef = fin-inicio\n",
    "print(fin-inicio)"
   ]
  },
  {
   "cell_type": "code",
   "execution_count": null,
   "id": "2a06bdbc-d06d-484e-9620-ea9052ef1500",
   "metadata": {},
   "outputs": [],
   "source": [
    "# con compresión\n",
    "# Usando además funciones\n",
    "\n",
    "def califNota(nota):\n",
    "    for i, j in notasDicc.items():\n",
    "        if nota in i:\n",
    "            return j[0], j[1]\n",
    "    \n",
    "import time\n",
    "inicio = time.time() \n",
    "\n",
    "notasDicc = {\n",
    "    (x for x in range(0, 13)):[\"Desaprobado\", \"malo\"],\n",
    "    (x for x in range(13, 16)):[\"aprobado\", \"regular\"], \n",
    "    (x for x in range(16, 18)):[\"aprobado\", \"bueno\"],\n",
    "    (x for x in range(18, 20)):[\"aprobado\", \"muy bueno\"],\n",
    "    (20,):[\"aprobado\", \"excelente\"]\n",
    "}\n",
    "\n",
    "nota = 18\n",
    "estado, obvser = califNota(nota)\n",
    "\n",
    "print(estado, obvser)\n",
    "fin = time.time()\n",
    "tiempoConCompDef = fin-inicio\n",
    "print(fin-inicio)"
   ]
  },
  {
   "cell_type": "code",
   "execution_count": null,
   "id": "0f9142ef-3e92-405f-bdcd-a5a8822e92f1",
   "metadata": {},
   "outputs": [],
   "source": [
    "print(tiempoDirectoIf)\n",
    "print(tiempoCompresion)\n",
    "print(tiempoDirectoDicc)\n",
    "print(tiempoConDef)\n",
    "print(tiempoConCompDef)"
   ]
  },
  {
   "cell_type": "code",
   "execution_count": null,
   "id": "34d176e2-55f4-42b9-b832-70f79f92470e",
   "metadata": {},
   "outputs": [],
   "source": [
    "# Tkinter\n",
    "\n",
    "import tkinter as tk\n",
    "\n",
    "raiz = tk.Tk()\n",
    "\n",
    "raiz.title(\"Ventana de pruebas\")\n",
    "\n",
    "raiz.geometry(\"650x350\")\n",
    "\n",
    "raiz.iconbitmap(\"knight.ico\")\n",
    "\n",
    "raiz.config(bg=\"light blue\")\n",
    "\n",
    "miFrame = tk.Frame()\n",
    "\n",
    "miFrame.pack(side=\"left\", anchor=\"n\")\n",
    "\n",
    "miFrame.config(bg=\"pale green\")\n",
    "\n",
    "miFrame.config(width=\"350\", height=\"175\")\n",
    "\n",
    "miFrame.config(bd=\"5\")\n",
    "\n",
    "miFrame.config(relief=\"groove\")\n",
    "\n",
    "raiz.mainloop()"
   ]
  },
  {
   "cell_type": "code",
   "execution_count": 3,
   "id": "3ec49ad8-6092-406f-b9af-7d1ba94ada24",
   "metadata": {},
   "outputs": [
    {
     "name": "stdin",
     "output_type": "stream",
     "text": [
      "Ingresar suministro (5 dígitos)  ee444\n"
     ]
    },
    {
     "name": "stdout",
     "output_type": "stream",
     "text": [
      "Suministro incorrecto\n"
     ]
    }
   ],
   "source": [
    "sCli = input(\"Ingresar suministro (5 dígitos) \")\n",
    "if any([not str.isdigit(sCli), len(sCli) != 5]):\n",
    "    print(\"Suministro incorrecto\")\n",
    "else:\n",
    "     print(\"Suministro correcto\")\n",
    "        "
   ]
  },
  {
   "cell_type": "code",
   "execution_count": 2,
   "id": "4fc46990-a335-411e-980b-041cad294cc4",
   "metadata": {},
   "outputs": [
    {
     "name": "stdin",
     "output_type": "stream",
     "text": [
      "Ingresar suministro (5 dígitos)  1234e\n"
     ]
    },
    {
     "name": "stdout",
     "output_type": "stream",
     "text": [
      "Suministro incorrecto\n"
     ]
    }
   ],
   "source": [
    "sCli = input(\"Ingresar suministro (5 dígitos) \")\n",
    "if any([not sCli.isdigit(), len(sCli) != 5]):\n",
    "    print(\"Suministro incorrecto\")\n",
    "else:\n",
    "     print(\"Suministro correcto\")\n",
    "        "
   ]
  },
  {
   "cell_type": "code",
   "execution_count": null,
   "id": "186a7894-b492-4bd4-90cb-f219af338db4",
   "metadata": {},
   "outputs": [],
   "source": [
    "nCli = input(\"Ingresar nombre del cliente \")\n",
    "if nCli.strip() != \"\" and not any(map(str.isdigit, nCli)):\n",
    "    print(\"Nombre correcto\")\n",
    "else:\n",
    "    print(\"Nombre no puede estar en blanco o contener números\")"
   ]
  },
  {
   "cell_type": "code",
   "execution_count": 1,
   "id": "a85ee2bf-1fd0-4ade-963c-9c444eeb2545",
   "metadata": {},
   "outputs": [
    {
     "name": "stdin",
     "output_type": "stream",
     "text": [
      "Ingresar nombre del cliente  Jose\n"
     ]
    },
    {
     "name": "stdout",
     "output_type": "stream",
     "text": [
      "Nombre correcto\n"
     ]
    }
   ],
   "source": [
    "nCli = input(\"Ingresar nombre del cliente \")\n",
    "if any([nCli.strip() == \"\", any(map(str.isdigit, nCli))]):\n",
    "    print(\"Nombre incorrecto\")\n",
    "else:\n",
    "    print(\"Nombre correcto\")"
   ]
  },
  {
   "cell_type": "code",
   "execution_count": null,
   "id": "25a40cd6-5084-4556-b90d-5e4331a99019",
   "metadata": {},
   "outputs": [],
   "source": [
    "texto = \"12345\"\n",
    "if texto.isdigit:\n",
    "    print(\"ok\")"
   ]
  },
  {
   "cell_type": "code",
   "execution_count": null,
   "id": "701fda79-16a0-481b-a358-74d06673b381",
   "metadata": {},
   "outputs": [],
   "source": [
    "nCli = \"Jose1\"\n",
    "any(map(str.isdigit, nCli))"
   ]
  },
  {
   "cell_type": "code",
   "execution_count": null,
   "id": "36d231d0-8491-42c1-ad22-266d5f9fbdcc",
   "metadata": {},
   "outputs": [],
   "source": [
    "nCli = \"Jose1\"\n",
    "any(map(str.isdigit, nCli))"
   ]
  },
  {
   "cell_type": "code",
   "execution_count": null,
   "id": "bb2df848-a850-4dfb-9d33-fb8df551e8a0",
   "metadata": {},
   "outputs": [],
   "source": [
    "n = int(input(\"Ingrese el numero de filas: \"))\n",
    "m = int(input(\"Ingrese el numero de columnas: \"))\n",
    "A= []\n",
    "for i in range(n):\n",
    "    A.append( [0] * m )\n",
    "\n",
    "print(len(A[0]))\n",
    "print(A)"
   ]
  },
  {
   "cell_type": "code",
   "execution_count": null,
   "id": "2ca99044-f460-4942-926d-c7f5b739f2ab",
   "metadata": {},
   "outputs": [],
   "source": [
    "for i in range (n):\n",
    "    for j in range(m):\n",
    "        A[i][j] = float(input(\"Componente ({0},{1}):\".format(i, j)))\n",
    "print(A)"
   ]
  },
  {
   "cell_type": "code",
   "execution_count": null,
   "id": "c3c65795-bf93-4078-b7a4-6f9e524fe103",
   "metadata": {},
   "outputs": [],
   "source": [
    "while(True):\n",
    "    try:\n",
    "        n = float(input(\"Ingrese un numero \"))\n",
    "        m = 4\n",
    "        print(\"{}/{} = {}\".format(n, m, n/m))\n",
    "    except:\n",
    "        print(\"Ha ocurrido un error interno, introduce bien el número\")\n",
    "    else:\n",
    "        print(\"Todo ha funcionando correctamente\")\n",
    "        break\n",
    "    finally:\n",
    "        print(\"Fin de la iteración\")"
   ]
  },
  {
   "cell_type": "code",
   "execution_count": null,
   "id": "3e5ac67b-aab2-4b87-9b49-d66071d090f3",
   "metadata": {},
   "outputs": [],
   "source": [
    "f = 5524.53\n",
    "str(int(f)).isdigit()"
   ]
  },
  {
   "cell_type": "code",
   "execution_count": null,
   "id": "97156b76-2bd4-4e8b-aa4b-b28d32acc1c9",
   "metadata": {},
   "outputs": [],
   "source": [
    "import pandas as pd\n",
    "\n",
    "#s = r'\\Documentos\\UPC\\IN318-Base\\gapminder.csv'\n",
    "df = pd.read_csv('gapminder.csv', sep=';')\n",
    "\n",
    "print(df.head())"
   ]
  },
  {
   "cell_type": "code",
   "execution_count": null,
   "id": "94163795-ab67-44d4-aa8f-b97015d48773",
   "metadata": {},
   "outputs": [],
   "source": []
  }
 ],
 "metadata": {
  "kernelspec": {
   "display_name": "Python 3 (ipykernel)",
   "language": "python",
   "name": "python3"
  },
  "language_info": {
   "codemirror_mode": {
    "name": "ipython",
    "version": 3
   },
   "file_extension": ".py",
   "mimetype": "text/x-python",
   "name": "python",
   "nbconvert_exporter": "python",
   "pygments_lexer": "ipython3",
   "version": "3.10.0"
  }
 },
 "nbformat": 4,
 "nbformat_minor": 5
}
